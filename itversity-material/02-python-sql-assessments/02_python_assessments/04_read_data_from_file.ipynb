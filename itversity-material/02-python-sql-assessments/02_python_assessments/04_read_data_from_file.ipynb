{
 "cells": [
  {
   "cell_type": "markdown",
   "id": "af35d883",
   "metadata": {},
   "source": [
    "## Read Data from file\n",
    "\n",
    "Develop logic to read the data from tab delimited file into list of tuples.\n",
    "* The file which you are supposed to use is **03_courses.csv** in the current folder.\n",
    "* It is a text file where lines are delimited by new line character.\n",
    "* Each line contain data for multiple attributes related to courses table. Each attribute value in each line is separated by '\\t' (tab) character.\n",
    "* You need to develop a function which will return list of tuples with all the values from the file.\n",
    "\n",
    "**Hint: Using Pandas or csv will facilitate you to come up with the solution faster**"
   ]
  },
  {
   "cell_type": "code",
   "execution_count": 10,
   "id": "d013a109",
   "metadata": {},
   "outputs": [],
   "source": [
    "# Provide the solution here\n",
    "import pandas as pd\n",
    "\n",
    "def get_courses(path):\n",
    "    courses_df=pd.read_csv(path,delimiter='\\t')\n",
    "    courses_list=list(courses_df.to_records(index=False))\n",
    "    courses=list(map(lambda course: tuple(course),courses_list))\n",
    "    return courses"
   ]
  },
  {
   "cell_type": "code",
   "execution_count": 11,
   "id": "b31dae07",
   "metadata": {},
   "outputs": [],
   "source": [
    "# import pandas as pd\n",
    "# import csv\n",
    "# def get_courses(path):\n",
    "#     file_obj=open('03_courses.csv')\n",
    "#     file_list=file_obj.read().splitlines()\n",
    "#     courses=list(csv.reader(file_list,delimiter='\\t'))\n",
    "#     return courses"
   ]
  },
  {
   "cell_type": "code",
   "execution_count": 12,
   "id": "2b6d8ea5",
   "metadata": {},
   "outputs": [],
   "source": [
    "# def get_courses(path):\n",
    "#     courses_df=pd.read_csv('03_courses.csv',delimiter='\\t')\n",
    "#     courses=list(courses_df.itertuples(index=False))\n",
    "#     return courses"
   ]
  },
  {
   "cell_type": "code",
   "execution_count": 13,
   "id": "ef7bc08e",
   "metadata": {},
   "outputs": [],
   "source": [
    "courses = get_courses('03_courses.csv')"
   ]
  },
  {
   "cell_type": "code",
   "execution_count": 14,
   "id": "c59a72a4",
   "metadata": {},
   "outputs": [
    {
     "data": {
      "text/plain": [
       "[('Programming using Python', 'Bob Dillon', 'published', '2020-09-30'),\n",
       " ('Data Engineering using Python', 'Bob Dillon', 'published', '2020-07-15'),\n",
       " ('Data Engineering using Scala', 'Elvis Presley', 'draft', nan),\n",
       " ('Programming using Scala', 'Elvis Presley', 'published', '2020-05-12'),\n",
       " ('Programming using Java', 'Mike Jack', 'inactive', '2020-08-10'),\n",
       " ('Web Applications - Python Flask', 'Bob Dillon', 'inactive', '2020-07-20'),\n",
       " ('Web Applications - Java Spring', 'Mike Jack', 'draft', nan),\n",
       " ('Pipeline Orchestration - Python', 'Bob Dillon', 'draft', nan),\n",
       " ('Streaming Pipelines - Python', 'Bob Dillon', 'published', '2020-10-05'),\n",
       " ('Web Applications - Scala Play', 'Elvis Presley', 'inactive', '2020-09-30'),\n",
       " ('Web Applications - Python Django', 'Bob Dillon', 'published', '2020-06-23'),\n",
       " ('Server Automation - Ansible', 'Uncle Sam', 'published', '2020-07-05')]"
      ]
     },
     "execution_count": 14,
     "metadata": {},
     "output_type": "execute_result"
    }
   ],
   "source": [
    "courses"
   ]
  },
  {
   "cell_type": "code",
   "execution_count": 15,
   "id": "cfaa24fc",
   "metadata": {},
   "outputs": [
    {
     "data": {
      "text/plain": [
       "list"
      ]
     },
     "execution_count": 15,
     "metadata": {},
     "output_type": "execute_result"
    }
   ],
   "source": [
    "type(courses) # should be list"
   ]
  },
  {
   "cell_type": "code",
   "execution_count": 16,
   "id": "6bb0c22b",
   "metadata": {},
   "outputs": [
    {
     "data": {
      "text/plain": [
       "12"
      ]
     },
     "execution_count": 16,
     "metadata": {},
     "output_type": "execute_result"
    }
   ],
   "source": [
    "len(courses) # should be 12"
   ]
  },
  {
   "cell_type": "code",
   "execution_count": 17,
   "id": "bcc3b25e",
   "metadata": {},
   "outputs": [
    {
     "data": {
      "text/plain": [
       "('Programming using Python', 'Bob Dillon', 'published', '2020-09-30')"
      ]
     },
     "execution_count": 17,
     "metadata": {},
     "output_type": "execute_result"
    }
   ],
   "source": [
    "courses[0] # Output: ('Programming using Python', 'Bob Dillon', 'published', '2020-09-30')"
   ]
  },
  {
   "cell_type": "code",
   "execution_count": 18,
   "id": "fbe9afdd",
   "metadata": {},
   "outputs": [
    {
     "data": {
      "text/plain": [
       "tuple"
      ]
     },
     "execution_count": 18,
     "metadata": {},
     "output_type": "execute_result"
    }
   ],
   "source": [
    "type(courses[0]) # tuple"
   ]
  },
  {
   "cell_type": "code",
   "execution_count": null,
   "id": "a102960e",
   "metadata": {},
   "outputs": [],
   "source": []
  }
 ],
 "metadata": {
  "kernelspec": {
   "display_name": "Python 3",
   "language": "python",
   "name": "python3"
  },
  "language_info": {
   "codemirror_mode": {
    "name": "ipython",
    "version": 3
   },
   "file_extension": ".py",
   "mimetype": "text/x-python",
   "name": "python",
   "nbconvert_exporter": "python",
   "pygments_lexer": "ipython3",
   "version": "3.6.12"
  }
 },
 "nbformat": 4,
 "nbformat_minor": 5
}
