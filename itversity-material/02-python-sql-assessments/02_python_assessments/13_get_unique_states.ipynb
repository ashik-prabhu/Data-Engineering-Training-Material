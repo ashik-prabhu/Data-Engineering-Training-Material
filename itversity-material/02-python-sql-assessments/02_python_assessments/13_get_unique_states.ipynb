{
 "cells": [
  {
   "cell_type": "markdown",
   "metadata": {},
   "source": [
    "## Get unique states\n",
    "\n",
    "Develop a function which process the list of strings which contain addresses. It should return the list of unique states from these addresses.\n",
    "* This is primarily to test the understanding of string manipulation functions as well as map reduce functions such as `map`.\n",
    "* Each address contain street address, optional number, city and state. All these are comma seperated.\n",
    "* The function should return the states from the address.\n",
    "* States should be sorted in ascending order.\n",
    "\n",
    "**Restriction: The code should not contain the loops**"
   ]
  },
  {
   "cell_type": "code",
   "execution_count": 1,
   "metadata": {},
   "outputs": [],
   "source": [
    "def get_unique_states(addresses):\n",
    "    states=sorted(list(set(map(lambda address:address.split(',')[-1], addresses))))\n",
    "    return states"
   ]
  },
  {
   "cell_type": "markdown",
   "metadata": {},
   "source": [
    "* You can run below cells to validate the code"
   ]
  },
  {
   "cell_type": "code",
   "execution_count": 2,
   "metadata": {},
   "outputs": [],
   "source": [
    "addresses = [\n",
    "    '67 Bobwhite Avenue,Suite 20,Washington,District of Columbia',\n",
    "    '9 Stoughton Place,Orlando,Florida',\n",
    "    '5940 Kedzie Terrace,#316,New York City,New York',\n",
    "    '4519 7th Street,NA,Rochester,New York',\n",
    "    '3 Truax Pass,Apt 400,Louisville,Kentucky',\n",
    "    '8 Hauk Street,Indianapolis,Indiana',\n",
    "    '10 Spaight Street,San Francisco,California',\n",
    "    '042 Tennyson Way,#18,Columbus,Georgia',\n",
    "    '6957 Crescent Oaks Park,Topeka,Kansas',\n",
    "    '94 Talmadge Circle,San Antonio,Texas'\n",
    "]"
   ]
  },
  {
   "cell_type": "code",
   "execution_count": 3,
   "metadata": {},
   "outputs": [
    {
     "data": {
      "text/plain": [
       "['California',\n",
       " 'District of Columbia',\n",
       " 'Florida',\n",
       " 'Georgia',\n",
       " 'Indiana',\n",
       " 'Kansas',\n",
       " 'Kentucky',\n",
       " 'New York',\n",
       " 'Texas']"
      ]
     },
     "execution_count": 3,
     "metadata": {},
     "output_type": "execute_result"
    }
   ],
   "source": [
    "get_unique_states(addresses)"
   ]
  },
  {
   "cell_type": "markdown",
   "metadata": {},
   "source": [
    "* Here is the desired output\n",
    "\n",
    "```python\n",
    "['California',\n",
    " 'District of Columbia',\n",
    " 'Florida',\n",
    " 'Georgia',\n",
    " 'Indiana',\n",
    " 'Kansas',\n",
    " 'Kentucky',\n",
    " 'New York',\n",
    " 'Texas']\n",
    "```"
   ]
  },
  {
   "cell_type": "code",
   "execution_count": null,
   "metadata": {},
   "outputs": [],
   "source": []
  }
 ],
 "metadata": {
  "kernelspec": {
   "display_name": "Python 3",
   "language": "python",
   "name": "python3"
  },
  "language_info": {
   "codemirror_mode": {
    "name": "ipython",
    "version": 3
   },
   "file_extension": ".py",
   "mimetype": "text/x-python",
   "name": "python",
   "nbconvert_exporter": "python",
   "pygments_lexer": "ipython3",
   "version": "3.6.12"
  }
 },
 "nbformat": 4,
 "nbformat_minor": 4
}
