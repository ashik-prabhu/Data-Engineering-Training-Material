{
 "cells": [
  {
   "cell_type": "markdown",
   "id": "7601f80b",
   "metadata": {},
   "source": [
    "## Filter the course data\n",
    "\n",
    "Develop logic to filter for published courses and sort the output by date in descending order.\n",
    "* We will provide courses data which will be of type list of dicts.\n",
    "* Get the courses which are published.\n",
    "* Sort the output by course_published_dt in descendig order."
   ]
  },
  {
   "cell_type": "code",
   "execution_count": 1,
   "id": "11a3733a",
   "metadata": {},
   "outputs": [],
   "source": [
    "courses = [{'course_name': 'Programming using Python',\n",
    "  'course_author': 'Bob Dillon',\n",
    "  'course_status': 'published',\n",
    "  'course_published_dt': '2020-09-30'},\n",
    " {'course_name': 'Data Engineering using Python',\n",
    "  'course_author': 'Bob Dillon',\n",
    "  'course_status': 'published',\n",
    "  'course_published_dt': '2020-07-15'},\n",
    " {'course_name': 'Data Engineering using Scala',\n",
    "  'course_author': 'Elvis Presley',\n",
    "  'course_status': 'draft',\n",
    "  'course_published_dt': None},\n",
    " {'course_name': 'Programming using Scala',\n",
    "  'course_author': 'Elvis Presley',\n",
    "  'course_status': 'published',\n",
    "  'course_published_dt': '2020-05-12'},\n",
    " {'course_name': 'Programming using Java',\n",
    "  'course_author': 'Mike Jack',\n",
    "  'course_status': 'inactive',\n",
    "  'course_published_dt': '2020-08-10'},\n",
    " {'course_name': 'Web Applications - Python Flask',\n",
    "  'course_author': 'Bob Dillon',\n",
    "  'course_status': 'inactive',\n",
    "  'course_published_dt': '2020-07-20'},\n",
    " {'course_name': 'Web Applications - Java Spring',\n",
    "  'course_author': 'Mike Jack',\n",
    "  'course_status': 'draft',\n",
    "  'course_published_dt': None},\n",
    " {'course_name': 'Pipeline Orchestration - Python',\n",
    "  'course_author': 'Bob Dillon',\n",
    "  'course_status': 'draft',\n",
    "  'course_published_dt': None},\n",
    " {'course_name': 'Streaming Pipelines - Python',\n",
    "  'course_author': 'Bob Dillon',\n",
    "  'course_status': 'published',\n",
    "  'course_published_dt': '2020-10-05'},\n",
    " {'course_name': 'Web Applications - Scala Play',\n",
    "  'course_author': 'Elvis Presley',\n",
    "  'course_status': 'inactive',\n",
    "  'course_published_dt': '2020-09-30'},\n",
    " {'course_name': 'Web Applications - Python Django',\n",
    "  'course_author': 'Bob Dillon',\n",
    "  'course_status': 'published',\n",
    "  'course_published_dt': '2020-06-23'},\n",
    " {'course_name': 'Server Automation - Ansible',\n",
    "  'course_author': 'Uncle Sam',\n",
    "  'course_status': 'published',\n",
    "  'course_published_dt': '2020-07-05'}]"
   ]
  },
  {
   "cell_type": "code",
   "execution_count": 4,
   "id": "819ab429",
   "metadata": {},
   "outputs": [],
   "source": [
    "# The logic should go here\n",
    "def get_published_courses(courses):\n",
    "    courses_filtered=filter(lambda course:course['course_status']=='published',courses)\n",
    "    published_courses=sorted(courses_filtered,key=lambda course:course['course_published_dt'],reverse=True)\n",
    "    return published_courses"
   ]
  },
  {
   "cell_type": "code",
   "execution_count": 5,
   "id": "9cceb9a5",
   "metadata": {},
   "outputs": [],
   "source": [
    "published_courses = get_published_courses(courses)"
   ]
  },
  {
   "cell_type": "code",
   "execution_count": 6,
   "id": "43b96168",
   "metadata": {},
   "outputs": [
    {
     "data": {
      "text/plain": [
       "list"
      ]
     },
     "execution_count": 6,
     "metadata": {},
     "output_type": "execute_result"
    }
   ],
   "source": [
    "type(published_courses) # It should be list"
   ]
  },
  {
   "cell_type": "code",
   "execution_count": 7,
   "id": "c3471146",
   "metadata": {},
   "outputs": [
    {
     "data": {
      "text/plain": [
       "6"
      ]
     },
     "execution_count": 7,
     "metadata": {},
     "output_type": "execute_result"
    }
   ],
   "source": [
    "len(published_courses) # It should be 6"
   ]
  },
  {
   "cell_type": "code",
   "execution_count": 8,
   "id": "dd82f61b",
   "metadata": {},
   "outputs": [
    {
     "data": {
      "text/plain": [
       "dict"
      ]
     },
     "execution_count": 8,
     "metadata": {},
     "output_type": "execute_result"
    }
   ],
   "source": [
    "type(published_courses[0]) # It should be dict"
   ]
  },
  {
   "cell_type": "markdown",
   "id": "a9251e41",
   "metadata": {},
   "source": [
    "* Here is the sample record\n",
    "\n",
    "```python\n",
    "{'course_name': 'Streaming Pipelines - Python',\n",
    " 'course_author': 'Bob Dillon',\n",
    " 'course_status': 'published',\n",
    " 'course_published_dt': '2020-10-05'}\n",
    "```"
   ]
  },
  {
   "cell_type": "code",
   "execution_count": 9,
   "id": "6cc590a2",
   "metadata": {},
   "outputs": [
    {
     "data": {
      "text/plain": [
       "{'course_name': 'Streaming Pipelines - Python',\n",
       " 'course_author': 'Bob Dillon',\n",
       " 'course_status': 'published',\n",
       " 'course_published_dt': '2020-10-05'}"
      ]
     },
     "execution_count": 9,
     "metadata": {},
     "output_type": "execute_result"
    }
   ],
   "source": [
    "published_courses[0]"
   ]
  },
  {
   "cell_type": "markdown",
   "id": "461ec9e8",
   "metadata": {},
   "source": [
    "* Confirming that data is sorted in descending order. Run the below cell and compare.\n",
    "\n",
    "```python\n",
    "[{'course_name': 'Streaming Pipelines - Python',\n",
    "  'course_author': 'Bob Dillon',\n",
    "  'course_status': 'published',\n",
    "  'course_published_dt': '2020-10-05'},\n",
    " {'course_name': 'Programming using Python',\n",
    "  'course_author': 'Bob Dillon',\n",
    "  'course_status': 'published',\n",
    "  'course_published_dt': '2020-09-30'},\n",
    " {'course_name': 'Data Engineering using Python',\n",
    "  'course_author': 'Bob Dillon',\n",
    "  'course_status': 'published',\n",
    "  'course_published_dt': '2020-07-15'},\n",
    " {'course_name': 'Server Automation - Ansible',\n",
    "  'course_author': 'Uncle Sam',\n",
    "  'course_status': 'published',\n",
    "  'course_published_dt': '2020-07-05'},\n",
    " {'course_name': 'Web Applications - Python Django',\n",
    "  'course_author': 'Bob Dillon',\n",
    "  'course_status': 'published',\n",
    "  'course_published_dt': '2020-06-23'},\n",
    " {'course_name': 'Programming using Scala',\n",
    "  'course_author': 'Elvis Presley',\n",
    "  'course_status': 'published',\n",
    "  'course_published_dt': '2020-05-12'}]\n",
    "```"
   ]
  },
  {
   "cell_type": "code",
   "execution_count": 10,
   "id": "86a3ad67",
   "metadata": {},
   "outputs": [
    {
     "data": {
      "text/plain": [
       "[{'course_name': 'Streaming Pipelines - Python',\n",
       "  'course_author': 'Bob Dillon',\n",
       "  'course_status': 'published',\n",
       "  'course_published_dt': '2020-10-05'},\n",
       " {'course_name': 'Programming using Python',\n",
       "  'course_author': 'Bob Dillon',\n",
       "  'course_status': 'published',\n",
       "  'course_published_dt': '2020-09-30'},\n",
       " {'course_name': 'Data Engineering using Python',\n",
       "  'course_author': 'Bob Dillon',\n",
       "  'course_status': 'published',\n",
       "  'course_published_dt': '2020-07-15'},\n",
       " {'course_name': 'Server Automation - Ansible',\n",
       "  'course_author': 'Uncle Sam',\n",
       "  'course_status': 'published',\n",
       "  'course_published_dt': '2020-07-05'},\n",
       " {'course_name': 'Web Applications - Python Django',\n",
       "  'course_author': 'Bob Dillon',\n",
       "  'course_status': 'published',\n",
       "  'course_published_dt': '2020-06-23'},\n",
       " {'course_name': 'Programming using Scala',\n",
       "  'course_author': 'Elvis Presley',\n",
       "  'course_status': 'published',\n",
       "  'course_published_dt': '2020-05-12'}]"
      ]
     },
     "execution_count": 10,
     "metadata": {},
     "output_type": "execute_result"
    }
   ],
   "source": [
    "[course for course in published_courses]"
   ]
  },
  {
   "cell_type": "code",
   "execution_count": null,
   "id": "cd76afac",
   "metadata": {},
   "outputs": [],
   "source": []
  }
 ],
 "metadata": {
  "kernelspec": {
   "display_name": "Python 3",
   "language": "python",
   "name": "python3"
  },
  "language_info": {
   "codemirror_mode": {
    "name": "ipython",
    "version": 3
   },
   "file_extension": ".py",
   "mimetype": "text/x-python",
   "name": "python",
   "nbconvert_exporter": "python",
   "pygments_lexer": "ipython3",
   "version": "3.6.12"
  }
 },
 "nbformat": 4,
 "nbformat_minor": 5
}
