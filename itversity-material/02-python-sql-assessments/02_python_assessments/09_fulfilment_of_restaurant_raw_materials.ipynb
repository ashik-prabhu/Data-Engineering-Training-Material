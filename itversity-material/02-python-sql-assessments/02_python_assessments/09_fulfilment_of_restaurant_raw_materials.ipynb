{
 "cells": [
  {
   "cell_type": "markdown",
   "id": "5ab0b3b8",
   "metadata": {},
   "source": [
    "## Fulfilment of Restaurant Raw Materials\n",
    "\n",
    "Develop a function which will return the details of current raw material inventory in the restaurant. As a restaurant inventory manager, I would like to see current status of raw materials in the industry and fulfilment details to get the raw materials to the desired level.\n",
    "* The function should take a list of dicts as argument.\n",
    "* If actual_capacity is missing, the status should be **Actual Capacity Missing**.\n",
    "* If actual_capacity is less than minimum_capacity, the status should be **Purchase {desired_capacity - actual_capacity} {units}**\n",
    "* If actual capacity is greater than or equal to minimum capacity, the status should be **Current stock is {actual_capacity - minimum_capacity} {units} more than minimum capacity**.\n",
    "* It should return the details sorted by each status.\n",
    "  * First we should get the data with **Actual Capacity Missing**.\n",
    "  * Then we should get the data with **Purchase Details**.\n",
    "  * Then we should get the rest.\n",
    "* The output should contain all the fields along with the status.\n",
    "* You can use for loops or map function."
   ]
  },
  {
   "cell_type": "code",
   "execution_count": 3,
   "id": "e495ce0c",
   "metadata": {},
   "outputs": [],
   "source": [
    "inventory = [\n",
    "    {'raw_material_name': 'rice', 'desired_capacity': 1000, 'actual_capacity': 50, 'minimum_capacity': 200, 'units': 'kgs'},\n",
    "    {'raw_material_name': 'wheat', 'desired_capacity': 800, 'actual_capacity': 300, 'minimum_capacity': 150, 'units': 'kgs'},\n",
    "    {'raw_material_name': 'sugar', 'desired_capacity': 300, 'actual_capacity': 10, 'minimum_capacity': 60, 'units': 'kgs'},\n",
    "    {'raw_material_name': 'cake mix', 'desired_capacity': 100, 'actual_capacity': 50, 'minimum_capacity': 20, 'units': 'kgs'},\n",
    "    {'raw_material_name': 'vegetable oil', 'desired_capacity': 50, 'minimum_capacity': 20, 'units': 'gallons'},\n",
    "    {'raw_material_name': 'cardamom', 'desired_capacity': 10, 'actual_capacity': 2, 'minimum_capacity': 5, 'units': 'kgs'},\n",
    "    {'raw_material_name': 'cashews', 'desired_capacity': 20, 'minimum_capacity': 5, 'units': 'kgs'},\n",
    "    {'raw_material_name': 'almond milk', 'desired_capacity': 10, 'actual_capacity': 5, 'minimum_capacity': 2, 'units': 'gallons'},\n",
    "    {'raw_material_name': 'pistachios', 'desired_capacity': 20, 'actual_capacity': 3, 'minimum_capacity': 5, 'units': 'kgs'}\n",
    "]"
   ]
  },
  {
   "cell_type": "code",
   "execution_count": 4,
   "id": "8778ebbf",
   "metadata": {},
   "outputs": [
    {
     "name": "stdout",
     "output_type": "stream",
     "text": [
      "dict_keys(['raw_material_name', 'desired_capacity', 'actual_capacity', 'minimum_capacity', 'units'])\n",
      "dict_keys(['raw_material_name', 'desired_capacity', 'actual_capacity', 'minimum_capacity', 'units'])\n",
      "dict_keys(['raw_material_name', 'desired_capacity', 'actual_capacity', 'minimum_capacity', 'units'])\n",
      "dict_keys(['raw_material_name', 'desired_capacity', 'actual_capacity', 'minimum_capacity', 'units'])\n",
      "dict_keys(['raw_material_name', 'desired_capacity', 'minimum_capacity', 'units'])\n",
      "dict_keys(['raw_material_name', 'desired_capacity', 'actual_capacity', 'minimum_capacity', 'units'])\n",
      "dict_keys(['raw_material_name', 'desired_capacity', 'minimum_capacity', 'units'])\n",
      "dict_keys(['raw_material_name', 'desired_capacity', 'actual_capacity', 'minimum_capacity', 'units'])\n",
      "dict_keys(['raw_material_name', 'desired_capacity', 'actual_capacity', 'minimum_capacity', 'units'])\n"
     ]
    }
   ],
   "source": [
    "for data in inventory:\n",
    "    print(data.keys())"
   ]
  },
  {
   "cell_type": "code",
   "execution_count": 20,
   "id": "f31ec4cb",
   "metadata": {},
   "outputs": [],
   "source": [
    "## Your solution should go here. Make sure to return sorted list of dicts.\n",
    "import itertools\n",
    "def get_inventory_details(inventory):\n",
    "    for data in inventory:\n",
    "        if 'actual_capacity' in data.keys():\n",
    "            if (data['actual_capacity'] < data['minimum_capacity']):\n",
    "                units=data['units']\n",
    "                result=data['desired_capacity']-data['actual_capacity']\n",
    "                data['status']=f'Purchase {result} {units}'\n",
    "            elif(data['actual_capacity'] >=data['minimum_capacity']):\n",
    "                result=data['actual_capacity']-data['minimum_capacity']\n",
    "                units=data['units']\n",
    "                data['status']=f'Current stock is {result} {units} more than minimum capacity'\n",
    "        else:\n",
    "            data['status']=f'Actual Capacity Missing'\n",
    "    sorted_inv=sorted(inventory,key=lambda data:(data['status'].startswith('Actual'),data['status'].startswith('Purchase')),reverse=True)\n",
    "    return sorted_inv"
   ]
  },
  {
   "cell_type": "markdown",
   "id": "253b24db",
   "metadata": {},
   "source": [
    "* Run below cell to validate. Here is the sample output.\n",
    "```python\n",
    "[{'raw_material_name': 'vegetable oil',\n",
    "  'desired_capacity': 50,\n",
    "  'minimum_capacity': 20,\n",
    "  'units': 'gallons',\n",
    "  'status': 'Actual Capacity Missing'},\n",
    " {'raw_material_name': 'cashews',\n",
    "  'desired_capacity': 20,\n",
    "  'minimum_capacity': 5,\n",
    "  'units': 'kgs',\n",
    "  'status': 'Actual Capacity Missing'},\n",
    " {'raw_material_name': 'rice',\n",
    "  'desired_capacity': 1000,\n",
    "  'actual_capacity': 50,\n",
    "  'minimum_capacity': 200,\n",
    "  'units': 'kgs',\n",
    "  'status': 'Purchase 950 kgs'},\n",
    " {'raw_material_name': 'sugar',\n",
    "  'desired_capacity': 300,\n",
    "  'actual_capacity': 10,\n",
    "  'minimum_capacity': 60,\n",
    "  'units': 'kgs',\n",
    "  'status': 'Purchase 290 kgs'},\n",
    " {'raw_material_name': 'cardamom',\n",
    "  'desired_capacity': 10,\n",
    "  'actual_capacity': 2,\n",
    "  'minimum_capacity': 5,\n",
    "  'units': 'kgs',\n",
    "  'status': 'Purchase 8 kgs'},\n",
    " {'raw_material_name': 'pistachios',\n",
    "  'desired_capacity': 20,\n",
    "  'actual_capacity': 3,\n",
    "  'minimum_capacity': 5,\n",
    "  'units': 'kgs',\n",
    "  'status': 'Purchase 17 kgs'},\n",
    " {'raw_material_name': 'wheat',\n",
    "  'desired_capacity': 800,\n",
    "  'actual_capacity': 300,\n",
    "  'minimum_capacity': 150,\n",
    "  'units': 'kgs',\n",
    "  'status': 'Current stock is 150 kgs more than minimum capacity'},\n",
    " {'raw_material_name': 'cake mix',\n",
    "  'desired_capacity': 100,\n",
    "  'actual_capacity': 50,\n",
    "  'minimum_capacity': 20,\n",
    "  'units': 'kgs',\n",
    "  'status': 'Current stock is 30 kgs more than minimum capacity'},\n",
    " {'raw_material_name': 'almond milk',\n",
    "  'desired_capacity': 10,\n",
    "  'actual_capacity': 5,\n",
    "  'minimum_capacity': 2,\n",
    "  'units': 'gallons',\n",
    "  'status': 'Current stock is 3 gallons more than minimum capacity'}]\n",
    "```"
   ]
  },
  {
   "cell_type": "code",
   "execution_count": 21,
   "id": "e8543e8e",
   "metadata": {},
   "outputs": [
    {
     "data": {
      "text/plain": [
       "[{'raw_material_name': 'vegetable oil',\n",
       "  'desired_capacity': 50,\n",
       "  'minimum_capacity': 20,\n",
       "  'units': 'gallons',\n",
       "  'status': 'Actual Capacity Missing'},\n",
       " {'raw_material_name': 'cashews',\n",
       "  'desired_capacity': 20,\n",
       "  'minimum_capacity': 5,\n",
       "  'units': 'kgs',\n",
       "  'status': 'Actual Capacity Missing'},\n",
       " {'raw_material_name': 'rice',\n",
       "  'desired_capacity': 1000,\n",
       "  'actual_capacity': 50,\n",
       "  'minimum_capacity': 200,\n",
       "  'units': 'kgs',\n",
       "  'status': 'Purchase 950 kgs'},\n",
       " {'raw_material_name': 'sugar',\n",
       "  'desired_capacity': 300,\n",
       "  'actual_capacity': 10,\n",
       "  'minimum_capacity': 60,\n",
       "  'units': 'kgs',\n",
       "  'status': 'Purchase 290 kgs'},\n",
       " {'raw_material_name': 'cardamom',\n",
       "  'desired_capacity': 10,\n",
       "  'actual_capacity': 2,\n",
       "  'minimum_capacity': 5,\n",
       "  'units': 'kgs',\n",
       "  'status': 'Purchase 8 kgs'},\n",
       " {'raw_material_name': 'pistachios',\n",
       "  'desired_capacity': 20,\n",
       "  'actual_capacity': 3,\n",
       "  'minimum_capacity': 5,\n",
       "  'units': 'kgs',\n",
       "  'status': 'Purchase 17 kgs'},\n",
       " {'raw_material_name': 'wheat',\n",
       "  'desired_capacity': 800,\n",
       "  'actual_capacity': 300,\n",
       "  'minimum_capacity': 150,\n",
       "  'units': 'kgs',\n",
       "  'status': 'Current stock is 150 kgs more than minimum capacity'},\n",
       " {'raw_material_name': 'cake mix',\n",
       "  'desired_capacity': 100,\n",
       "  'actual_capacity': 50,\n",
       "  'minimum_capacity': 20,\n",
       "  'units': 'kgs',\n",
       "  'status': 'Current stock is 30 kgs more than minimum capacity'},\n",
       " {'raw_material_name': 'almond milk',\n",
       "  'desired_capacity': 10,\n",
       "  'actual_capacity': 5,\n",
       "  'minimum_capacity': 2,\n",
       "  'units': 'gallons',\n",
       "  'status': 'Current stock is 3 gallons more than minimum capacity'}]"
      ]
     },
     "execution_count": 21,
     "metadata": {},
     "output_type": "execute_result"
    }
   ],
   "source": [
    "get_inventory_details(inventory)"
   ]
  },
  {
   "cell_type": "code",
   "execution_count": null,
   "id": "5177291c",
   "metadata": {},
   "outputs": [],
   "source": []
  }
 ],
 "metadata": {
  "kernelspec": {
   "display_name": "Python 3",
   "language": "python",
   "name": "python3"
  },
  "language_info": {
   "codemirror_mode": {
    "name": "ipython",
    "version": 3
   },
   "file_extension": ".py",
   "mimetype": "text/x-python",
   "name": "python",
   "nbconvert_exporter": "python",
   "pygments_lexer": "ipython3",
   "version": "3.6.12"
  }
 },
 "nbformat": 4,
 "nbformat_minor": 5
}
