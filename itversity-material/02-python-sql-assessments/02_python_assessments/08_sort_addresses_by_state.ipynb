{
 "cells": [
  {
   "cell_type": "markdown",
   "id": "fa6c1f0e",
   "metadata": {},
   "source": [
    "## Sort addresses by state\n",
    "\n",
    "Develop a code snippet which process the list of strings which contain addresses. It should return the list of sorted addresses by state and then by street address.\n",
    "* This is primarily to test the understanding of string manipulation functions and sorting the data.\n",
    "* Each address contain street address, optional number, city and state. All these are comma seperated.\n",
    "* Addresses should be sorted in ascending order by state and then by street address.\n",
    "* Use appropriate sort function\n",
    "* Here is the list of addresses"
   ]
  },
  {
   "cell_type": "code",
   "execution_count": 2,
   "id": "50f8b6d1",
   "metadata": {},
   "outputs": [],
   "source": [
    "addresses = [\n",
    "    '67 Bobwhite Avenue,Suite 20,Washington,District of Columbia',\n",
    "    '9 Stoughton Place,Orlando,Florida',\n",
    "    '5940 Kedzie Terrace,#316,New York City,New York',\n",
    "    '4519 7th Street,NA,Rochester,New York',\n",
    "    '3 Truax Pass,Apt 400,Louisville,Kentucky',\n",
    "    '8 Hauk Street,Indianapolis,Indiana',\n",
    "    '10 Spaight Street,San Francisco,California',\n",
    "    '042 Tennyson Way,#18,Columbus,Georgia',\n",
    "    '6957 Crescent Oaks Park,Topeka,Kansas',\n",
    "    '94 Talmadge Circle,San Antonio,Texas'\n",
    "]"
   ]
  },
  {
   "cell_type": "code",
   "execution_count": 6,
   "id": "d065106b",
   "metadata": {},
   "outputs": [
    {
     "data": {
      "text/plain": [
       "['10 Spaight Street,San Francisco,California',\n",
       " '67 Bobwhite Avenue,Suite 20,Washington,District of Columbia',\n",
       " '9 Stoughton Place,Orlando,Florida',\n",
       " '042 Tennyson Way,#18,Columbus,Georgia',\n",
       " '8 Hauk Street,Indianapolis,Indiana',\n",
       " '6957 Crescent Oaks Park,Topeka,Kansas',\n",
       " '3 Truax Pass,Apt 400,Louisville,Kentucky',\n",
       " '4519 7th Street,NA,Rochester,New York',\n",
       " '5940 Kedzie Terrace,#316,New York City,New York',\n",
       " '94 Talmadge Circle,San Antonio,Texas']"
      ]
     },
     "execution_count": 6,
     "metadata": {},
     "output_type": "execute_result"
    }
   ],
   "source": [
    "# Code should go here\n",
    "sorted_data=sorted(addresses,key=lambda address:(address.split(',')[3] if len(address.split(','))==4  else address.split(',')[2],\n",
    "                                                 address.split(',')[0]))\n",
    "sorted_data"
   ]
  },
  {
   "cell_type": "markdown",
   "id": "f10b43f5",
   "metadata": {},
   "source": [
    "* Here is the desired output\n",
    "\n",
    "```python\n",
    "['10 Spaight Street,San Francisco,California',\n",
    " '67 Bobwhite Avenue,Suite 20,Washington,District of Columbia',\n",
    " '9 Stoughton Place,Orlando,Florida',\n",
    " '042 Tennyson Way,#18,Columbus,Georgia',\n",
    " '8 Hauk Street,Indianapolis,Indiana',\n",
    " '6957 Crescent Oaks Park,Topeka,Kansas',\n",
    " '3 Truax Pass,Apt 400,Louisville,Kentucky',\n",
    " '4519 7th Street,NA,Rochester,New York',\n",
    " '5940 Kedzie Terrace,#316,New York City,New York',\n",
    " '94 Talmadge Circle,San Antonio,Texas']\n",
    "```"
   ]
  }
 ],
 "metadata": {
  "kernelspec": {
   "display_name": "Python 3",
   "language": "python",
   "name": "python3"
  },
  "language_info": {
   "codemirror_mode": {
    "name": "ipython",
    "version": 3
   },
   "file_extension": ".py",
   "mimetype": "text/x-python",
   "name": "python",
   "nbconvert_exporter": "python",
   "pygments_lexer": "ipython3",
   "version": "3.6.12"
  }
 },
 "nbformat": 4,
 "nbformat_minor": 5
}
