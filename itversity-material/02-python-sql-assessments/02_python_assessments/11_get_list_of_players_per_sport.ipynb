{
 "cells": [
  {
   "cell_type": "markdown",
   "metadata": {},
   "source": [
    "## Get list of players per sport\n",
    "\n",
    "Develop a function to get list of players per sport using the dict which contain player name and the sport he plays.\n",
    "* This is primarily to assess the abilities to manipulate lists.\n",
    "* You can solve this problem either by using loops or itertools or any alternative library.\n",
    "* The input dictionary will contain name of the player as the key and the sport he plays as the value.\n",
    "* The output dictionary should contain the sport as key and the players per sport as value. The player names should be part of a list for that sport."
   ]
  },
  {
   "cell_type": "code",
   "execution_count": 1,
   "metadata": {},
   "outputs": [],
   "source": [
    "famous_players = {\n",
    "    'Pete Sampras': 'Tennis',\n",
    "    'Sachin Tendulkar': 'Cricket',\n",
    "    'Brian Lara': 'Cricket',\n",
    "    'Diego Maradona': 'Soccer',\n",
    "    'Roger Federer': 'Tennis',\n",
    "    'Ian Thorpe': 'Swimming',\n",
    "    'Ronaldo': 'Soccer',\n",
    "    'Usain Bolt': 'Running',\n",
    "    'P. V. Sindhu': 'Badminton',\n",
    "    'Shane Warne': 'Cricket',\n",
    "    'David Beckham': 'Cricket',\n",
    "    'Michael Phelps': 'Swimming'\n",
    "}"
   ]
  },
  {
   "cell_type": "code",
   "execution_count": 35,
   "metadata": {},
   "outputs": [],
   "source": [
    "def get_players_per_sport(famous_players):\n",
    "    # Code should go here\n",
    "    player_per_sport={}\n",
    "    player_per_sport_sorted={}\n",
    "    for player in famous_players:\n",
    "        if famous_players[player] in player_per_sport:\n",
    "            player_per_sport[famous_players[player]].append(player)\n",
    "        else:\n",
    "            list1=[]\n",
    "            player_per_sport[famous_players[player]]=[player]\n",
    "    for player in sorted(player_per_sport.keys()):\n",
    "        player_per_sport_sorted[player]=sorted(player_per_sport[player])\n",
    "    return player_per_sport_sorted"
   ]
  },
  {
   "cell_type": "markdown",
   "metadata": {},
   "source": [
    "* You can run the below cell to validate."
   ]
  },
  {
   "cell_type": "code",
   "execution_count": 36,
   "metadata": {},
   "outputs": [
    {
     "data": {
      "text/plain": [
       "{'Badminton': ['P. V. Sindhu'],\n",
       " 'Cricket': ['Brian Lara', 'David Beckham', 'Sachin Tendulkar', 'Shane Warne'],\n",
       " 'Running': ['Usain Bolt'],\n",
       " 'Soccer': ['Diego Maradona', 'Ronaldo'],\n",
       " 'Swimming': ['Ian Thorpe', 'Michael Phelps'],\n",
       " 'Tennis': ['Pete Sampras', 'Roger Federer']}"
      ]
     },
     "execution_count": 36,
     "metadata": {},
     "output_type": "execute_result"
    }
   ],
   "source": [
    "get_players_per_sport(famous_players)"
   ]
  },
  {
   "cell_type": "markdown",
   "metadata": {},
   "source": [
    "* Here is the desired output.\n",
    "\n",
    "```python\n",
    "{'Badminton': ['P. V. Sindhu'],\n",
    " 'Cricket': ['Brian Lara', 'David Beckham', 'Sachin Tendulkar', 'Shane Warne'],\n",
    " 'Running': ['Usain Bolt'],\n",
    " 'Soccer': ['Diego Maradona', 'Ronaldo'],\n",
    " 'Swimming': ['Ian Thorpe', 'Michael Phelps'],\n",
    " 'Tennis': ['Pete Sampras', 'Roger Federer']}\n",
    "```"
   ]
  },
  {
   "cell_type": "code",
   "execution_count": null,
   "metadata": {},
   "outputs": [],
   "source": []
  }
 ],
 "metadata": {
  "kernelspec": {
   "display_name": "Python 3",
   "language": "python",
   "name": "python3"
  },
  "language_info": {
   "codemirror_mode": {
    "name": "ipython",
    "version": 3
   },
   "file_extension": ".py",
   "mimetype": "text/x-python",
   "name": "python",
   "nbconvert_exporter": "python",
   "pygments_lexer": "ipython3",
   "version": "3.6.12"
  }
 },
 "nbformat": 4,
 "nbformat_minor": 4
}
