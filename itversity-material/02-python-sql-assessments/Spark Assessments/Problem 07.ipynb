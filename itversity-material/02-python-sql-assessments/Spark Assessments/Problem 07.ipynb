{
 "cells": [
  {
   "cell_type": "markdown",
   "metadata": {},
   "source": [
    "## Problem 07\n",
    "\n",
    "Weightage: 25\n",
    "\n",
    "Get Station Name, latitude, longitude and number of bikes started from each station using **startstationid** for each day in the data set."
   ]
  },
  {
   "cell_type": "markdown",
   "metadata": {},
   "source": [
    "## Data Description\n",
    "All of the citibike trip data is available under **/public/citibike/trips**. It contain multiple folders - one for each month. Here is the schema.\n",
    "\n",
    "```\n",
    "root\n",
    " |-- tripduration: integer (nullable = true)\n",
    " |-- starttime: timestamp (nullable = true)\n",
    " |-- stoptime: timestamp (nullable = true)\n",
    " |-- startstationid: string (nullable = true)\n",
    " |-- endstationid: string (nullable = true)\n",
    " |-- bikeid: integer (nullable = true)\n",
    " |-- usertype: string (nullable = true)\n",
    " |-- birthyear: string (nullable = true)\n",
    " |-- gender: integer (nullable = true)\n",
    " |-- month: integer (nullable = true)\n",
    "```\n",
    "All of the citibike station data is available under **/public/citibike/stations**. \n",
    "```\n",
    "root\n",
    " |-- stationid: long (nullable = true)\n",
    " |-- stationlatitude: string (nullable = true)\n",
    " |-- stationlongitude: string (nullable = true)\n",
    " |-- stationname: string (nullable = true)\n",
    "```"
   ]
  },
  {
   "cell_type": "markdown",
   "metadata": {},
   "source": [
    "## Output Requirements\n",
    "* Place the result in the HDFS Directory \n",
    "```\n",
    "/user/`whoami`/mock_test_02/problem07/solution\n",
    "```\n",
    "* Use CSV and save the output to exactly 2 files. Make sure to preserve the header.\n",
    "* Here are the column names. Data types should be as below.\n",
    "```\n",
    " |-- stationname: string (nullable = true)\n",
    " |-- stationlatitude: double (nullable = true)\n",
    " |-- stationlongitude: double (nullable = true)\n",
    " |-- ridestartdate: integer (nullable = true)\n",
    " |-- ridecount: integer (nullable = true)\n",
    "```\n",
    "* Data should be sorted in ascending order by ridestartdate and then in descending order by ridecount."
   ]
  },
  {
   "cell_type": "markdown",
   "metadata": {},
   "source": [
    "## Validation\n",
    "\n",
    "Here are the self validation steps:\n",
    "* Run the following to check number of files.\n",
    "```\n",
    "hdfs dfs -ls /user/`whoami`/mock_test_02/problem07/solution\n",
    "```\n",
    "* Run this code to create dataframe by name data.\n",
    "```\n",
    "import getpass\n",
    "username = getpass.getuser()\n",
    "data = spark.read. \\\n",
    "    csv(f'/user/{username}/mock_test_02/problem07/solution',\n",
    "        header=True,\n",
    "        inferSchema=True\n",
    "       )\n",
    "```\n",
    "* Run `data.printSchema()` to validate the data types of the fields.\n",
    "```\n",
    "root\n",
    " |-- stationname: string (nullable = true)\n",
    " |-- stationlatitude: double (nullable = true)\n",
    " |-- stationlongitude: double (nullable = true)\n",
    " |-- ridestartdate: integer (nullable = true)\n",
    " |-- ridecount: integer (nullable = true)\n",
    "```\n",
    "* Run `data.count()` to validate number of records. It should be **785303**\n",
    "* Run `data.orderBy(col('ridestartdate'), col('ridecount').desc()).show()` to preview the sample output.\n",
    "\n",
    "|         stationname|  stationlatitude| stationlongitude|ridestartdate|ridecount|\n",
    "|--------------------|-----------------|-----------------|-------------|---------|\n",
    "|Central Park S & ...|      40.76590936|     -73.97634151|     20170101|      160|\n",
    "|Centre St & Chamb...|      40.71273266|      -74.0046073|     20170101|      126|\n",
    "|  Broadway & W 60 St|      40.76915505|     -73.98191841|     20170101|      114|\n",
    "|  Broadway & E 14 St|           40.734|          -73.992|     20170101|      110|\n",
    "|Central Park West...|40.77579376683666|-73.9762057363987|     20170101|      103|\n",
    "|West St & Chamber...|      40.71754834|     -74.01322069|     20170101|      101|\n",
    "|Central Park Nort...|        40.799484|       -73.955613|     20170101|       98|\n",
    "|  Carmine St & 6 Ave|      40.73038599|     -74.00214988|     20170101|       97|\n",
    "|Allen St & Stanto...|        40.722055|       -73.989111|     20170101|       96|\n",
    "|     9 Ave & W 22 St|       40.7454973|     -74.00197139|     20170101|       96|\n",
    "|     5 Ave & E 88 St|           40.782|          -73.959|     20170101|       94|\n",
    "|Grand Army Plaza ...|           40.764|          -73.974|     20170101|       93|\n",
    "|     5 Ave & E 73 St|      40.77282817|     -73.96685276|     20170101|       89|\n",
    "|Christopher St & ...|      40.73291553|     -74.00711384|     20170101|       89|\n",
    "|Central Park West...|      40.78472675|     -73.96961715|     20170101|       85|\n",
    "|Grand Army Plaza ...|       40.6729679|     -73.97087984|     20170101|       82|\n",
    "|Grand St & Elizab...|        40.718822|        -73.99596|     20170101|       82|\n",
    "|Greenwich Ave & 8...|    40.7390169121|   -74.0026376103|     20170101|       82|\n",
    "|Central Park West...|       40.7734066|     -73.97782542|     20170101|       80|\n",
    "|    12 Ave & W 40 St|      40.76087502|     -74.00277668|     20170101|       80|\n"
   ]
  },
  {
   "cell_type": "code",
   "execution_count": 16,
   "metadata": {},
   "outputs": [],
   "source": [
    "from pyspark.sql import SparkSession\n",
    "import getpass\n",
    "username = getpass.getuser()\n",
    "spark = SparkSession. \\\n",
    "    builder. \\\n",
    "    config('spark.ui.port', '0'). \\\n",
    "    appName(f'Problem 07 | {username}'). \\\n",
    "    master('yarn'). \\\n",
    "    getOrCreate()"
   ]
  },
  {
   "cell_type": "code",
   "execution_count": 17,
   "metadata": {},
   "outputs": [],
   "source": [
    "trips_df=spark.read.csv('/public/citibike/trips/',header=True)"
   ]
  },
  {
   "cell_type": "code",
   "execution_count": 18,
   "metadata": {},
   "outputs": [],
   "source": [
    "station_df=spark.read.json('/public/citibike/stations')"
   ]
  },
  {
   "cell_type": "code",
   "execution_count": 19,
   "metadata": {},
   "outputs": [],
   "source": [
    "final_df=trips_df.join(station_df,on=trips_df.startstationid.cast('int')==station_df.stationid.cast(\"int\"),how=\"inner\")"
   ]
  },
  {
   "cell_type": "code",
   "execution_count": 20,
   "metadata": {},
   "outputs": [],
   "source": [
    "from pyspark.sql.functions import date_format,count,lit,col\n",
    "output=final_df. \\\n",
    "        select(\"startstationid\",\"stationname\", \"stationlatitude\", \"stationlongitude\",\n",
    "               date_format(\"starttime\",\"yyyyMMdd\").alias('ridestartdate')). \\\n",
    "        groupBy(\"startstationid\",\"stationname\", \"stationlatitude\", \"stationlongitude\",\"ridestartdate\"). \\\n",
    "        agg(count(lit(1)).alias(\"ridecount\")). \\\n",
    "        orderBy(\"ridestartdate\",col(\"ridecount\").desc()). \\\n",
    "        drop(\"startstationid\")"
   ]
  },
  {
   "cell_type": "code",
   "execution_count": 21,
   "metadata": {},
   "outputs": [],
   "source": [
    "output. \\\n",
    "    coalesce(2). \\\n",
    "    write. \\\n",
    "    csv(f'/user/{username}/mock_test_02/problem07/solution',\n",
    "        header=True,\n",
    "        mode='overwrite'\n",
    "       )"
   ]
  },
  {
   "cell_type": "code",
   "execution_count": 22,
   "metadata": {},
   "outputs": [
    {
     "name": "stdout",
     "output_type": "stream",
     "text": [
      "Found 3 items\n",
      "-rw-r--r--   3 itv002461 supergroup          0 2022-06-29 15:08 /user/itv002461/mock_test_02/problem07/solution/_SUCCESS\n",
      "-rw-r--r--   3 itv002461 supergroup   22404461 2022-06-29 15:08 /user/itv002461/mock_test_02/problem07/solution/part-00000-c76f73fe-d48c-4649-8b0b-f79c15554608-c000.csv\n",
      "-rw-r--r--   3 itv002461 supergroup   22345192 2022-06-29 15:08 /user/itv002461/mock_test_02/problem07/solution/part-00001-c76f73fe-d48c-4649-8b0b-f79c15554608-c000.csv\n"
     ]
    }
   ],
   "source": [
    "%%sh\n",
    "hdfs dfs -ls /user/${USER}/mock_test_02/problem07/solution"
   ]
  },
  {
   "cell_type": "code",
   "execution_count": 23,
   "metadata": {},
   "outputs": [],
   "source": [
    "import getpass\n",
    "username = getpass.getuser()\n",
    "data = spark.read. \\\n",
    "  csv(f'/user/{username}/mock_test_02/problem07/solution',\n",
    "      header=True,\n",
    "      inferSchema=True\n",
    "     )"
   ]
  },
  {
   "cell_type": "code",
   "execution_count": 24,
   "metadata": {},
   "outputs": [
    {
     "name": "stdout",
     "output_type": "stream",
     "text": [
      "root\n",
      " |-- stationname: string (nullable = true)\n",
      " |-- stationlatitude: double (nullable = true)\n",
      " |-- stationlongitude: double (nullable = true)\n",
      " |-- ridestartdate: integer (nullable = true)\n",
      " |-- ridecount: integer (nullable = true)\n",
      "\n"
     ]
    }
   ],
   "source": [
    "data.printSchema()"
   ]
  },
  {
   "cell_type": "code",
   "execution_count": 25,
   "metadata": {},
   "outputs": [
    {
     "data": {
      "text/plain": [
       "785303"
      ]
     },
     "execution_count": 25,
     "metadata": {},
     "output_type": "execute_result"
    }
   ],
   "source": [
    "data.count()"
   ]
  },
  {
   "cell_type": "code",
   "execution_count": 26,
   "metadata": {},
   "outputs": [
    {
     "name": "stdout",
     "output_type": "stream",
     "text": [
      "+--------------------+-----------------+-----------------+-------------+---------+\n",
      "|         stationname|  stationlatitude| stationlongitude|ridestartdate|ridecount|\n",
      "+--------------------+-----------------+-----------------+-------------+---------+\n",
      "|Central Park S & ...|      40.76590936|     -73.97634151|     20170101|      160|\n",
      "|Centre St & Chamb...|      40.71273266|      -74.0046073|     20170101|      126|\n",
      "|  Broadway & W 60 St|      40.76915505|     -73.98191841|     20170101|      114|\n",
      "|  Broadway & E 14 St|           40.734|          -73.992|     20170101|      110|\n",
      "|Central Park West...|40.77579376683666|-73.9762057363987|     20170101|      103|\n",
      "|West St & Chamber...|      40.71754834|     -74.01322069|     20170101|      101|\n",
      "|Central Park Nort...|        40.799484|       -73.955613|     20170101|       98|\n",
      "|  Carmine St & 6 Ave|      40.73038599|     -74.00214988|     20170101|       97|\n",
      "|     9 Ave & W 22 St|       40.7454973|     -74.00197139|     20170101|       96|\n",
      "|Allen St & Stanto...|        40.722055|       -73.989111|     20170101|       96|\n",
      "|     5 Ave & E 88 St|           40.782|          -73.959|     20170101|       94|\n",
      "|Grand Army Plaza ...|           40.764|          -73.974|     20170101|       93|\n",
      "|     5 Ave & E 73 St|      40.77282817|     -73.96685276|     20170101|       89|\n",
      "|Christopher St & ...|      40.73291553|     -74.00711384|     20170101|       89|\n",
      "|Central Park West...|      40.78472675|     -73.96961715|     20170101|       85|\n",
      "|Grand Army Plaza ...|       40.6729679|     -73.97087984|     20170101|       82|\n",
      "|Greenwich Ave & 8...|    40.7390169121|   -74.0026376103|     20170101|       82|\n",
      "|Grand St & Elizab...|        40.718822|        -73.99596|     20170101|       82|\n",
      "|Central Park West...|       40.7734066|     -73.97782542|     20170101|       80|\n",
      "|    12 Ave & W 40 St|      40.76087502|     -74.00277668|     20170101|       80|\n",
      "+--------------------+-----------------+-----------------+-------------+---------+\n",
      "only showing top 20 rows\n",
      "\n"
     ]
    }
   ],
   "source": [
    "data.orderBy(col('ridestartdate'), col('ridecount').desc()).show()"
   ]
  },
  {
   "cell_type": "code",
   "execution_count": null,
   "metadata": {},
   "outputs": [],
   "source": []
  }
 ],
 "metadata": {
  "kernelspec": {
   "display_name": "Pyspark 2",
   "language": "python",
   "name": "pyspark2"
  },
  "language_info": {
   "codemirror_mode": {
    "name": "ipython",
    "version": 3
   },
   "file_extension": ".py",
   "mimetype": "text/x-python",
   "name": "python",
   "nbconvert_exporter": "python",
   "pygments_lexer": "ipython3",
   "version": "3.6.12"
  }
 },
 "nbformat": 4,
 "nbformat_minor": 4
}
