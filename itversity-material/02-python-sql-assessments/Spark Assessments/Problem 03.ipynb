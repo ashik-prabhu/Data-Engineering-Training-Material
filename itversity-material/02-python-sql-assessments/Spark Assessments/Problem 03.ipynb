{
 "cells": [
  {
   "cell_type": "markdown",
   "metadata": {},
   "source": [
    "## Problem 03\n",
    "\n",
    "Weightage: 50\n",
    "\n",
    "Convert data from json to a Hive table with simple data types. **address** should be stored in 4 columns - city, postal_code, state and street. **phone_numbers** should be of type string and existing numbers should be comma separated."
   ]
  },
  {
   "cell_type": "markdown",
   "metadata": {},
   "source": [
    "## Data Description\n",
    "\n",
    "All of the address data is available under **/public/addresses**. Here is the schema.\n",
    "```\n",
    "root\n",
    " |-- address: struct (nullable = true)\n",
    " |    |-- city: string (nullable = true)\n",
    " |    |-- postal_code: string (nullable = true)\n",
    " |    |-- state: string (nullable = true)\n",
    " |    |-- street: string (nullable = true)\n",
    " |-- email: string (nullable = true)\n",
    " |-- first_name: string (nullable = true)\n",
    " |-- gender: string (nullable = true)\n",
    " |-- id: long (nullable = true)\n",
    " |-- ip_address: string (nullable = true)\n",
    " |-- last_name: string (nullable = true)\n",
    " |-- phone_numbers: array (nullable = true)\n",
    " |    |-- element: string (containsNull = true)\n",
    "```"
   ]
  },
  {
   "cell_type": "markdown",
   "metadata": {},
   "source": [
    "## Output Requirements\n",
    "\n",
    "* Create Database `whoami`_mt02\n",
    "* Create external table pointing to below location.\n",
    "```\n",
    "/user/`whoami`/mock_test_02/problem03/solution\n",
    "```\n",
    "* Table Name: **addresses**\n",
    "* Column Names and Data Types\n",
    "```\n",
    " |-- id: long\n",
    " |-- first_name: string\n",
    " |-- last_name: string\n",
    " |-- gender: string\n",
    " |-- email: string\n",
    " |-- ip_address: string\n",
    " |-- address: string\n",
    " |-- phone_numbers: string\n",
    "```\n",
    "* Use parquet file format. There should be exactly 4 files under the folder related to table.\n",
    "* Data should be sorted in ascending order by id."
   ]
  },
  {
   "cell_type": "markdown",
   "metadata": {},
   "source": [
    "## Validation\n",
    "\n",
    "Here are the self validation steps:\n",
    "* Validate if the table is created or not.\n",
    "```\n",
    "import getpass\n",
    "username = getpass.getuser()\n",
    "data = spark.read.table(f'{username}_mt02.addresses')\n",
    "```\n",
    "* Get Schema by running `data.printSchema()`. Output should be as below. Ignore Nullability if it does not match exactly.\n",
    "```\n",
    "root\n",
    " |-- id: long (nullable = true)\n",
    " |-- first_name: string (nullable = true)\n",
    " |-- last_name: string (nullable = true)\n",
    " |-- gender: string (nullable = true)\n",
    " |-- email: string (nullable = true)\n",
    " |-- ip_address: string (nullable = true)\n",
    " |-- address: string (nullable = true)\n",
    " |-- phone_numbers: string (nullable = true)\n",
    "```\n",
    "* Get count by running `data.count()`. It should return **1,000,000**.\n",
    "* Run `data.orderBy('id').show()` to validate the data. Output should be like this.\n",
    "| id|first_name|   last_name|gender|               email|     ip_address|             address|       phone_numbers|\n",
    "|---|----------|------------|------|--------------------|---------------|--------------------|--------------------|\n",
    "|  1|    Corrie|Van den Oord|Female|cvandenoord0@etsy...| 114.69.173.253|4391 Coleman Lane...|        785-310-6676|\n",
    "|  2|  Nikolaus|     Brewitt|  Male|nbrewitt1@dailyma...| 191.17.232.147|263 Graedel Drive...|609-306-0365,205-...|\n",
    "|  3|    Orelie|      Penney|Female|openney2@vistapri...| 109.206.143.10|5152 Twin Pines P...|619-727-2916,570-...|\n",
    "|  4|     Ashby|    Maddocks|  Male|  amaddocks3@home.pl|  171.173.96.24|31696 Longview Wa...|415-708-9669,806-...|\n",
    "|  5|      Kurt|        Rome|  Male|krome4@shutterfly...| 125.35.144.111|8854 Rusk Street,...|        915-912-2446|\n",
    "|  6|    Idelle|      Dorsey|Female|idorsey5@artistee...|  89.128.71.151|95353 Carpenter P...|949-257-9443,504-...|\n",
    "|  7|      Levy|       Pacey|  Male|lpacey6@bloglovin...|   149.60.175.7|2997 Maryland Cir...|202-667-9730,810-...|\n",
    "|  8|   Hershel|       Kneal|  Male|hkneal7@engadget.com|206.179.142.167|3101 Ilene Plaza,...|719-481-1263,561-...|\n",
    "|  9|     Kelly|  Gatheridge|Female|kgatheridge8@mysp...|  101.79.38.236|91956 Stone Corne...|        719-867-3789|\n",
    "| 10|     Aksel|       Ewles|  Male| aewles9@samsung.com|  219.49.91.115|39 Warbler Avenue...|        501-903-4014|\n",
    "| 11| Millicent|    Whitwell|Female| mwhitwella@army.mil|   46.90.146.88|3598 Carpenter Ci...|716-582-3471,864-...|\n",
    "| 12|      Levy|    Fennelow|  Male|lfennelowb@so-net...| 102.19.205.231|20 Glacier Hill P...|330-621-5532,562-...|\n",
    "| 13|     Bucky|       Harle|  Male|   bharlec@europa.eu|113.149.152.231|06 Badeau Alley,M...|        712-111-4246|\n",
    "| 14|     Randy|   Kleinmann|Female|rkleinmannd@frien...|   5.89.218.201|04 Manitowish Dri...|515-109-8291,408-...|\n",
    "| 15|   Eveleen|     Lanaway|Female|elanawaye@blinkli...| 219.210.42.139|512 Prairie Rose ...|360-712-7619,239-...|\n",
    "| 16|  Eleonore|      Cordle|Female|ecordlef@printfri...| 34.134.136.163|2893 Red Cloud Tr...|                    |\n",
    "| 17|     Monte|     Sidaway|  Male|msidawayg@unicef.org|162.189.175.228|50225 Eagle Crest...|213-965-4880,619-...|\n",
    "| 18|     Heddi|      Sackes|Female|hsackesh@business...|   59.44.144.36|65403 Hermina Pla...|                    |\n",
    "| 19|    Tabina|     Olivari|Female|    tolivarii@goo.gl|   91.22.33.111|05 Ryan Trail,Arl...|602-594-0067,803-...|\n",
    "| 20|Rutherford|   Josephson|  Male|rjosephsonj@sprin...| 93.124.195.224|38907 Sunfield Pa...|979-330-2010,562-...|\n",
    "* Validate whether the files are of type Parquet or not.\n",
    "```\n",
    "import getpass\n",
    "username = getpass.getuser()\n",
    "data_p = spark. \\\n",
    "    read. \\\n",
    "    parquet(f'/user/{username}/mock_test_02/problem03/solution')\n",
    "```\n",
    "* Run `data_p.orderBy('id').show()` to validate the data. Output should be like above."
   ]
  },
  {
   "cell_type": "code",
   "execution_count": 1,
   "metadata": {},
   "outputs": [],
   "source": [
    "from pyspark.sql import SparkSession\n",
    "import getpass\n",
    "username = getpass.getuser()\n",
    "spark = SparkSession. \\\n",
    "    builder. \\\n",
    "    config('spark.ui.port', '0'). \\\n",
    "    config(\"spark.sql.warehouse.dir\", f\"/user/{username}/warehouse\"). \\\n",
    "    enableHiveSupport(). \\\n",
    "    appName(f'Problem 03 | {username}'). \\\n",
    "    master('yarn'). \\\n",
    "    getOrCreate()"
   ]
  },
  {
   "cell_type": "code",
   "execution_count": 2,
   "metadata": {},
   "outputs": [
    {
     "data": {
      "text/html": [
       "<table border='1'>\n",
       "<tr><th></th></tr>\n",
       "</table>\n"
      ],
      "text/plain": [
       "++\n",
       "||\n",
       "++\n",
       "++"
      ]
     },
     "execution_count": 2,
     "metadata": {},
     "output_type": "execute_result"
    }
   ],
   "source": [
    "spark.sql(\"create database if not exists itv002461_mt02\")"
   ]
  },
  {
   "cell_type": "code",
   "execution_count": 3,
   "metadata": {},
   "outputs": [
    {
     "data": {
      "text/html": [
       "<table border='1'>\n",
       "<tr><th></th></tr>\n",
       "</table>\n"
      ],
      "text/plain": [
       "++\n",
       "||\n",
       "++\n",
       "++"
      ]
     },
     "execution_count": 3,
     "metadata": {},
     "output_type": "execute_result"
    }
   ],
   "source": [
    "spark.sql(\"use itv002461_mt02\")"
   ]
  },
  {
   "cell_type": "code",
   "execution_count": 4,
   "metadata": {},
   "outputs": [
    {
     "data": {
      "text/html": [
       "<table border='1'>\n",
       "<tr><th></th></tr>\n",
       "</table>\n"
      ],
      "text/plain": [
       "++\n",
       "||\n",
       "++\n",
       "++"
      ]
     },
     "execution_count": 4,
     "metadata": {},
     "output_type": "execute_result"
    }
   ],
   "source": [
    "spark.sql(\"drop table if exists addresses\")"
   ]
  },
  {
   "cell_type": "code",
   "execution_count": 5,
   "metadata": {},
   "outputs": [
    {
     "data": {
      "text/html": [
       "<table border='1'>\n",
       "<tr><th></th></tr>\n",
       "</table>\n"
      ],
      "text/plain": [
       "++\n",
       "||\n",
       "++\n",
       "++"
      ]
     },
     "execution_count": 5,
     "metadata": {},
     "output_type": "execute_result"
    }
   ],
   "source": [
    "spark.sql(\"\"\"CREATE EXTERNAL TABLE IF NOT EXISTS addresses(\n",
    "id  long,\n",
    "first_name string,\n",
    "last_name string,\n",
    "gender string,\n",
    "email string,\n",
    "ip_address string,\n",
    "address string,\n",
    "phone_numbers string\n",
    ")\n",
    "STORED AS PARQUET\n",
    "LOCATION '/user/itv002461/mock_test_02/problem03/solution/addresses'\n",
    "\"\"\")"
   ]
  },
  {
   "cell_type": "code",
   "execution_count": 6,
   "metadata": {},
   "outputs": [],
   "source": [
    "read_df=spark.read.json('/public/addresses')"
   ]
  },
  {
   "cell_type": "code",
   "execution_count": 7,
   "metadata": {},
   "outputs": [],
   "source": [
    "from pyspark.sql.functions import col,expr\n",
    "output=read_df. \\\n",
    "        select('id','first_name','last_name','gender','email','ip_address',\n",
    "              expr(\"concat_ws(' ', address.street, address.state, address.postal_code, address.city) as address\"),\n",
    "              expr(\"concat_ws(',', phone_numbers) as phone_numbers\")). \\\n",
    "        orderBy('id')"
   ]
  },
  {
   "cell_type": "code",
   "execution_count": 8,
   "metadata": {},
   "outputs": [],
   "source": [
    "output. \\\n",
    "    coalesce(4). \\\n",
    "    write. \\\n",
    "    parquet(f'/user/itv002461/mock_test_02/problem03/solution/addresses',mode='overwrite',compression='None')"
   ]
  },
  {
   "cell_type": "code",
   "execution_count": 9,
   "metadata": {},
   "outputs": [
    {
     "name": "stdout",
     "output_type": "stream",
     "text": [
      "Found 5 items\n",
      "-rw-r--r--   3 itv002461 supergroup          0 2022-07-11 11:40 /user/itv002461/mock_test_02/problem03/solution/addresses/_SUCCESS\n",
      "-rw-r--r--   3 itv002461 supergroup   34430482 2022-07-11 11:40 /user/itv002461/mock_test_02/problem03/solution/addresses/part-00000-19ce15c8-e8c2-4b7e-8c27-da667d1f286b-c000.parquet\n",
      "-rw-r--r--   3 itv002461 supergroup   34615534 2022-07-11 11:40 /user/itv002461/mock_test_02/problem03/solution/addresses/part-00001-19ce15c8-e8c2-4b7e-8c27-da667d1f286b-c000.parquet\n",
      "-rw-r--r--   3 itv002461 supergroup   34560230 2022-07-11 11:40 /user/itv002461/mock_test_02/problem03/solution/addresses/part-00002-19ce15c8-e8c2-4b7e-8c27-da667d1f286b-c000.parquet\n",
      "-rw-r--r--   3 itv002461 supergroup   34632153 2022-07-11 11:40 /user/itv002461/mock_test_02/problem03/solution/addresses/part-00003-19ce15c8-e8c2-4b7e-8c27-da667d1f286b-c000.parquet\n"
     ]
    }
   ],
   "source": [
    "%%sh\n",
    "hdfs dfs -ls /user/${USER}/mock_test_02/problem03/solution/addresses"
   ]
  },
  {
   "cell_type": "code",
   "execution_count": 10,
   "metadata": {},
   "outputs": [],
   "source": [
    "import getpass\n",
    "username = getpass.getuser()\n",
    "data = spark.read.table(f'{username}_mt02.addresses')"
   ]
  },
  {
   "cell_type": "code",
   "execution_count": 11,
   "metadata": {},
   "outputs": [
    {
     "name": "stdout",
     "output_type": "stream",
     "text": [
      "+--------------------+--------------------+-------+\n",
      "|            col_name|           data_type|comment|\n",
      "+--------------------+--------------------+-------+\n",
      "|                  id|              bigint|   null|\n",
      "|          first_name|              string|   null|\n",
      "|           last_name|              string|   null|\n",
      "|              gender|              string|   null|\n",
      "|               email|              string|   null|\n",
      "|          ip_address|              string|   null|\n",
      "|             address|              string|   null|\n",
      "|       phone_numbers|              string|   null|\n",
      "|                    |                    |       |\n",
      "|# Detailed Table ...|                    |       |\n",
      "|            Database|      itv002461_mt02|       |\n",
      "|               Table|           addresses|       |\n",
      "|               Owner|           itv002461|       |\n",
      "|        Created Time|Mon Jul 11 11:39:...|       |\n",
      "|         Last Access|Wed Dec 31 19:00:...|       |\n",
      "|          Created By|         Spark 2.4.7|       |\n",
      "|                Type|            EXTERNAL|       |\n",
      "|            Provider|                hive|       |\n",
      "|    Table Properties|[transient_lastDd...|       |\n",
      "|          Statistics|     138238399 bytes|       |\n",
      "|            Location|hdfs://m01.itvers...|       |\n",
      "|       Serde Library|org.apache.hadoop...|       |\n",
      "|         InputFormat|org.apache.hadoop...|       |\n",
      "|        OutputFormat|org.apache.hadoop...|       |\n",
      "|  Storage Properties|[serialization.fo...|       |\n",
      "|  Partition Provider|             Catalog|       |\n",
      "+--------------------+--------------------+-------+\n",
      "\n"
     ]
    }
   ],
   "source": [
    "spark.sql(\"describe formatted addresses\").show(300)"
   ]
  },
  {
   "cell_type": "code",
   "execution_count": 12,
   "metadata": {},
   "outputs": [
    {
     "name": "stdout",
     "output_type": "stream",
     "text": [
      "root\n",
      " |-- id: long (nullable = true)\n",
      " |-- first_name: string (nullable = true)\n",
      " |-- last_name: string (nullable = true)\n",
      " |-- gender: string (nullable = true)\n",
      " |-- email: string (nullable = true)\n",
      " |-- ip_address: string (nullable = true)\n",
      " |-- address: string (nullable = true)\n",
      " |-- phone_numbers: string (nullable = true)\n",
      "\n"
     ]
    }
   ],
   "source": [
    "data.printSchema()"
   ]
  },
  {
   "cell_type": "code",
   "execution_count": 13,
   "metadata": {},
   "outputs": [
    {
     "data": {
      "text/plain": [
       "1000000"
      ]
     },
     "execution_count": 13,
     "metadata": {},
     "output_type": "execute_result"
    }
   ],
   "source": [
    "data.count()"
   ]
  },
  {
   "cell_type": "code",
   "execution_count": 14,
   "metadata": {},
   "outputs": [
    {
     "name": "stdout",
     "output_type": "stream",
     "text": [
      "+---+----------+------------+------+--------------------+---------------+--------------------+--------------------+\n",
      "| id|first_name|   last_name|gender|               email|     ip_address|             address|       phone_numbers|\n",
      "+---+----------+------------+------+--------------------+---------------+--------------------+--------------------+\n",
      "|  1|    Corrie|Van den Oord|Female|cvandenoord0@etsy...| 114.69.173.253|4391 Coleman Lane...|        785-310-6676|\n",
      "|  2|  Nikolaus|     Brewitt|  Male|nbrewitt1@dailyma...| 191.17.232.147|263 Graedel Drive...|609-306-0365,205-...|\n",
      "|  3|    Orelie|      Penney|Female|openney2@vistapri...| 109.206.143.10|5152 Twin Pines P...|619-727-2916,570-...|\n",
      "|  4|     Ashby|    Maddocks|  Male|  amaddocks3@home.pl|  171.173.96.24|31696 Longview Wa...|415-708-9669,806-...|\n",
      "|  5|      Kurt|        Rome|  Male|krome4@shutterfly...| 125.35.144.111|8854 Rusk Street ...|        915-912-2446|\n",
      "|  6|    Idelle|      Dorsey|Female|idorsey5@artistee...|  89.128.71.151|95353 Carpenter P...|949-257-9443,504-...|\n",
      "|  7|      Levy|       Pacey|  Male|lpacey6@bloglovin...|   149.60.175.7|2997 Maryland Cir...|202-667-9730,810-...|\n",
      "|  8|   Hershel|       Kneal|  Male|hkneal7@engadget.com|206.179.142.167|3101 Ilene Plaza ...|719-481-1263,561-...|\n",
      "|  9|     Kelly|  Gatheridge|Female|kgatheridge8@mysp...|  101.79.38.236|91956 Stone Corne...|        719-867-3789|\n",
      "| 10|     Aksel|       Ewles|  Male| aewles9@samsung.com|  219.49.91.115|39 Warbler Avenue...|        501-903-4014|\n",
      "| 11| Millicent|    Whitwell|Female| mwhitwella@army.mil|   46.90.146.88|3598 Carpenter Ci...|716-582-3471,864-...|\n",
      "| 12|      Levy|    Fennelow|  Male|lfennelowb@so-net...| 102.19.205.231|20 Glacier Hill P...|330-621-5532,562-...|\n",
      "| 13|     Bucky|       Harle|  Male|   bharlec@europa.eu|113.149.152.231|06 Badeau Alley F...|        712-111-4246|\n",
      "| 14|     Randy|   Kleinmann|Female|rkleinmannd@frien...|   5.89.218.201|04 Manitowish Dri...|515-109-8291,408-...|\n",
      "| 15|   Eveleen|     Lanaway|Female|elanawaye@blinkli...| 219.210.42.139|512 Prairie Rose ...|360-712-7619,239-...|\n",
      "| 16|  Eleonore|      Cordle|Female|ecordlef@printfri...| 34.134.136.163|2893 Red Cloud Tr...|                    |\n",
      "| 17|     Monte|     Sidaway|  Male|msidawayg@unicef.org|162.189.175.228|50225 Eagle Crest...|213-965-4880,619-...|\n",
      "| 18|     Heddi|      Sackes|Female|hsackesh@business...|   59.44.144.36|65403 Hermina Pla...|                    |\n",
      "| 19|    Tabina|     Olivari|Female|    tolivarii@goo.gl|   91.22.33.111|05 Ryan Trail Vir...|602-594-0067,803-...|\n",
      "| 20|Rutherford|   Josephson|  Male|rjosephsonj@sprin...| 93.124.195.224|38907 Sunfield Pa...|979-330-2010,562-...|\n",
      "+---+----------+------------+------+--------------------+---------------+--------------------+--------------------+\n",
      "only showing top 20 rows\n",
      "\n"
     ]
    }
   ],
   "source": [
    "data.orderBy('id').show()"
   ]
  },
  {
   "cell_type": "code",
   "execution_count": null,
   "metadata": {},
   "outputs": [],
   "source": []
  }
 ],
 "metadata": {
  "kernelspec": {
   "display_name": "Pyspark 2",
   "language": "python",
   "name": "pyspark2"
  },
  "language_info": {
   "codemirror_mode": {
    "name": "ipython",
    "version": 3
   },
   "file_extension": ".py",
   "mimetype": "text/x-python",
   "name": "python",
   "nbconvert_exporter": "python",
   "pygments_lexer": "ipython3",
   "version": "3.6.12"
  }
 },
 "nbformat": 4,
 "nbformat_minor": 4
}
