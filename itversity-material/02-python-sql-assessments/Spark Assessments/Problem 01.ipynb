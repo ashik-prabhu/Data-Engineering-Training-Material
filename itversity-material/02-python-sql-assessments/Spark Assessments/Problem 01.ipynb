{
 "cells": [
  {
   "cell_type": "markdown",
   "metadata": {},
   "source": [
    "## Problem 01\n",
    "\n",
    "Weightage: 10\n",
    "\n",
    "Get all those member details who does not have phone numbers."
   ]
  },
  {
   "cell_type": "markdown",
   "metadata": {},
   "source": [
    "## Data Description\n",
    "\n",
    "All of the address data is available under **/public/addresses**. Here is the schema.\n",
    "```\n",
    "root\n",
    " |-- address: struct (nullable = true)\n",
    " |    |-- city: string (nullable = true)\n",
    " |    |-- postal_code: string (nullable = true)\n",
    " |    |-- state: string (nullable = true)\n",
    " |    |-- street: string (nullable = true)\n",
    " |-- email: string (nullable = true)\n",
    " |-- first_name: string (nullable = true)\n",
    " |-- gender: string (nullable = true)\n",
    " |-- id: long (nullable = true)\n",
    " |-- ip_address: string (nullable = true)\n",
    " |-- last_name: string (nullable = true)\n",
    " |-- phone_numbers: array (nullable = true)\n",
    " |    |-- element: string (containsNull = true)\n",
    "```"
   ]
  },
  {
   "cell_type": "markdown",
   "metadata": {},
   "source": [
    "## Output Requirements\n",
    "\n",
    "* Place the result in the HDFS Directory \n",
    "```\n",
    "/user/`whoami`/mock_test_02/problem01/solution\n",
    "```\n",
    "* Use parquet file format to save the output. Output should be saved in 2 files.\n",
    "* Here are the column names. Data types should be same as input data.\n",
    "```\n",
    " |-- id: long\n",
    " |-- first_name: string\n",
    " |-- last_name: string\n",
    " |-- email: string\n",
    "```\n",
    "* Data should be sorted in ascending order by id."
   ]
  },
  {
   "cell_type": "markdown",
   "metadata": {},
   "source": [
    "## Validation\n",
    "\n",
    "Here are the self validation steps:\n",
    "* Run the following code to create data frame.\n",
    "```\n",
    "import getpass\n",
    "username = getpass.getuser()\n",
    "path = f'/user/{username}/mock_test_02/problem01/solution'\n",
    "data = spark. \\\n",
    "    read. \\\n",
    "    parquet(path)\n",
    "```\n",
    "* Get Schema by running `data.printSchema()`. Output should be as below. Ignore Nullability if it does not match exactly.\n",
    "```\n",
    "root\n",
    " |-- id: long (nullable = true)\n",
    " |-- first_name: string (nullable = true)\n",
    " |-- last_name: string (nullable = true)\n",
    " |-- email: string (nullable = true)\n",
    "```\n",
    "* Get count by running `data.count()`. It should return **258160**.\n",
    "* Run `data.orderBy('id').show()` to validate the data. Output should be like this.\n",
    "\n",
    "| id|first_name|last_name|               email|\n",
    "|---|----------|---------|--------------------|\n",
    "| 16|  Eleonore|   Cordle|ecordlef@printfri...|\n",
    "| 18|     Heddi|   Sackes|hsackesh@business...|\n",
    "| 23|       Zak|    Rigts| zrigtsm@cornell.edu|\n",
    "| 25|     Wiatt|     Wane|    wwaneo@tmall.com|\n",
    "| 26|    Aubrie| Ashworth|aashworthp@networ...|\n",
    "| 28|    Lindsy|  Kellart|lkellartr@istockp...|\n",
    "| 30|    Harman|   Birley|hbirleyt@deliciou...|\n",
    "| 33|     Randa|   Eberst|   reberstw@tamu.edu|\n",
    "| 34|    Stinky| Penniall|spenniallx@domain...|\n",
    "| 35|     Marya|   Rahlof|mrahlofy@oaic.gov.au|\n",
    "| 42|     Peder|  Harring|pharring15@list-m...|\n",
    "| 54|       Row|    Anker|ranker1h@squidoo.com|\n",
    "| 57|    Morgun|      Loy|mloy1k@deviantart...|\n",
    "| 60|  Geoffrey|Ashbridge|gashbridge1n@wufo...|\n",
    "| 61|     Nance|  Gladdis|ngladdis1o@weathe...|\n",
    "| 62|     Allyn|    Monni| amonni1p@devhub.com|\n",
    "| 64|     Kleon|  Tolchar|ktolchar1r@angelf...|\n",
    "| 66|  Georgena|    Ingre|gingre1t@marriott...|\n",
    "| 69|   Belicia|    Trigg|   btrigg1w@army.mil|\n",
    "| 79|  Courtnay|  Umpleby|cumpleby26@trelli...|"
   ]
  },
  {
   "cell_type": "code",
   "execution_count": 1,
   "metadata": {},
   "outputs": [],
   "source": [
    "from pyspark.sql import SparkSession\n",
    "import getpass\n",
    "username = getpass.getuser()\n",
    "spark = SparkSession. \\\n",
    "    builder. \\\n",
    "    config('spark.ui.port', '0'). \\\n",
    "    appName(f'Problem 01 | {username}'). \\\n",
    "    master('yarn'). \\\n",
    "    getOrCreate()"
   ]
  },
  {
   "cell_type": "code",
   "execution_count": 2,
   "metadata": {},
   "outputs": [],
   "source": [
    "df=spark.read.json('/public/addresses')"
   ]
  },
  {
   "cell_type": "code",
   "execution_count": 3,
   "metadata": {},
   "outputs": [],
   "source": [
    "output=df. \\\n",
    "        filter('phone_numbers is null'). \\\n",
    "        select('id','first_name','last_name','email'). \\\n",
    "        orderBy('id')"
   ]
  },
  {
   "cell_type": "code",
   "execution_count": 4,
   "metadata": {},
   "outputs": [],
   "source": [
    "output. \\\n",
    "    coalesce(2). \\\n",
    "    write. \\\n",
    "    parquet(f'/user/{username}/mock_test_02/problem01/solution',mode='overwrite',compression=\"None\")"
   ]
  },
  {
   "cell_type": "code",
   "execution_count": 5,
   "metadata": {},
   "outputs": [
    {
     "name": "stdout",
     "output_type": "stream",
     "text": [
      "Found 3 items\n",
      "-rw-r--r--   3 itv002461 supergroup          0 2022-06-28 10:27 /user/itv002461/mock_test_02/problem01/solution/_SUCCESS\n",
      "-rw-r--r--   3 itv002461 supergroup    5640715 2022-06-28 10:27 /user/itv002461/mock_test_02/problem01/solution/part-00000-97fe7195-20a9-446a-9157-71ac68b8be4a-c000.parquet\n",
      "-rw-r--r--   3 itv002461 supergroup    5620287 2022-06-28 10:27 /user/itv002461/mock_test_02/problem01/solution/part-00001-97fe7195-20a9-446a-9157-71ac68b8be4a-c000.parquet\n"
     ]
    }
   ],
   "source": [
    "%%sh\n",
    "\n",
    "hdfs dfs -ls /user/${USER}/mock_test_02/problem01/solution"
   ]
  },
  {
   "cell_type": "code",
   "execution_count": 6,
   "metadata": {},
   "outputs": [],
   "source": [
    "import getpass\n",
    "username = getpass.getuser()\n",
    "path = f'/user/{username}/mock_test_02/problem01/solution'\n",
    "data = spark. \\\n",
    "  read. \\\n",
    "  parquet(path)"
   ]
  },
  {
   "cell_type": "code",
   "execution_count": 7,
   "metadata": {},
   "outputs": [
    {
     "name": "stdout",
     "output_type": "stream",
     "text": [
      "root\n",
      " |-- id: long (nullable = true)\n",
      " |-- first_name: string (nullable = true)\n",
      " |-- last_name: string (nullable = true)\n",
      " |-- email: string (nullable = true)\n",
      "\n"
     ]
    }
   ],
   "source": [
    "data.printSchema()"
   ]
  },
  {
   "cell_type": "code",
   "execution_count": 8,
   "metadata": {},
   "outputs": [
    {
     "data": {
      "text/plain": [
       "258160"
      ]
     },
     "execution_count": 8,
     "metadata": {},
     "output_type": "execute_result"
    }
   ],
   "source": [
    "data.count()"
   ]
  },
  {
   "cell_type": "code",
   "execution_count": 9,
   "metadata": {},
   "outputs": [
    {
     "name": "stdout",
     "output_type": "stream",
     "text": [
      "+---+----------+---------+--------------------+\n",
      "| id|first_name|last_name|               email|\n",
      "+---+----------+---------+--------------------+\n",
      "| 16|  Eleonore|   Cordle|ecordlef@printfri...|\n",
      "| 18|     Heddi|   Sackes|hsackesh@business...|\n",
      "| 23|       Zak|    Rigts| zrigtsm@cornell.edu|\n",
      "| 25|     Wiatt|     Wane|    wwaneo@tmall.com|\n",
      "| 26|    Aubrie| Ashworth|aashworthp@networ...|\n",
      "| 28|    Lindsy|  Kellart|lkellartr@istockp...|\n",
      "| 30|    Harman|   Birley|hbirleyt@deliciou...|\n",
      "| 33|     Randa|   Eberst|   reberstw@tamu.edu|\n",
      "| 34|    Stinky| Penniall|spenniallx@domain...|\n",
      "| 35|     Marya|   Rahlof|mrahlofy@oaic.gov.au|\n",
      "| 42|     Peder|  Harring|pharring15@list-m...|\n",
      "| 54|       Row|    Anker|ranker1h@squidoo.com|\n",
      "| 57|    Morgun|      Loy|mloy1k@deviantart...|\n",
      "| 60|  Geoffrey|Ashbridge|gashbridge1n@wufo...|\n",
      "| 61|     Nance|  Gladdis|ngladdis1o@weathe...|\n",
      "| 62|     Allyn|    Monni| amonni1p@devhub.com|\n",
      "| 64|     Kleon|  Tolchar|ktolchar1r@angelf...|\n",
      "| 66|  Georgena|    Ingre|gingre1t@marriott...|\n",
      "| 69|   Belicia|    Trigg|   btrigg1w@army.mil|\n",
      "| 79|  Courtnay|  Umpleby|cumpleby26@trelli...|\n",
      "+---+----------+---------+--------------------+\n",
      "only showing top 20 rows\n",
      "\n"
     ]
    }
   ],
   "source": [
    "data.orderBy('id').show()"
   ]
  },
  {
   "cell_type": "code",
   "execution_count": null,
   "metadata": {},
   "outputs": [],
   "source": []
  }
 ],
 "metadata": {
  "kernelspec": {
   "display_name": "Pyspark 2",
   "language": "python",
   "name": "pyspark2"
  },
  "language_info": {
   "codemirror_mode": {
    "name": "ipython",
    "version": 3
   },
   "file_extension": ".py",
   "mimetype": "text/x-python",
   "name": "python",
   "nbconvert_exporter": "python",
   "pygments_lexer": "ipython3",
   "version": "3.6.12"
  }
 },
 "nbformat": 4,
 "nbformat_minor": 4
}
