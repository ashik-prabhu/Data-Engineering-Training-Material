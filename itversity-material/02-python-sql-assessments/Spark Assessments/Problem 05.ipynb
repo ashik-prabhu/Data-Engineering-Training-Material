{
 "cells": [
  {
   "cell_type": "markdown",
   "metadata": {},
   "source": [
    "## Problem 05\n",
    "\n",
    "Weightage: 15\n",
    "\n",
    "Get states by top 10 member count. There is a chance that more than 1 state might get the same rank if the counts are same. You need to get all the states which contain top 10 member count."
   ]
  },
  {
   "cell_type": "markdown",
   "metadata": {},
   "source": [
    "## Data Description\n",
    "\n",
    "All of the address data is available under **/public/addresses**. Here is the schema.\n",
    "```\n",
    "root\n",
    " |-- address: struct (nullable = true)\n",
    " |    |-- city: string (nullable = true)\n",
    " |    |-- postal_code: string (nullable = true)\n",
    " |    |-- state: string (nullable = true)\n",
    " |    |-- street: string (nullable = true)\n",
    " |-- email: string (nullable = true)\n",
    " |-- first_name: string (nullable = true)\n",
    " |-- gender: string (nullable = true)\n",
    " |-- id: long (nullable = true)\n",
    " |-- ip_address: string (nullable = true)\n",
    " |-- last_name: string (nullable = true)\n",
    " |-- phone_numbers: array (nullable = true)\n",
    " |    |-- element: string (containsNull = true)\n",
    "```"
   ]
  },
  {
   "cell_type": "markdown",
   "metadata": {},
   "source": [
    "## Output Requirements\n",
    "* Place the result in the HDFS Directory \n",
    "```\n",
    "/user/`whoami`/mock_test_02/problem05/solution\n",
    "```\n",
    "* Use CSV and save the output to exactly one file. Make sure to preserve the header.\n",
    "* Here are the column names. Data types should be same as input data.\n",
    "```\n",
    " |-- state: string\n",
    " |-- member_count: long\n",
    "```\n",
    "* Data should be sorted in descending order by count."
   ]
  },
  {
   "cell_type": "markdown",
   "metadata": {},
   "source": [
    "## Validation\n",
    "\n",
    "Here are the self validation steps:\n",
    "* Run the following to check number of files.\n",
    "```\n",
    "hdfs dfs -ls /user/`whoami`/mock_test_02/problem05/solution\n",
    "```\n",
    "* Run the following to validate the data. It should show 11 or more records including header. Validate against the output.\n",
    "```\n",
    "hdfs dfs -cat /user/`whoami`/mock_test_02/problem05/solution/part*\n",
    "```\n",
    "* Output\n",
    "```\n",
    "state,member_count\n",
    "California,109817\n",
    "Texas,109346\n",
    "Florida,82625\n",
    "New York,55343\n",
    "Ohio,36316\n",
    "Virginia,35214\n",
    "District of Columbia,32289\n",
    "Pennsylvania,32226\n",
    "Georgia,28814\n",
    "Illinois,24943\n",
    "```\n"
   ]
  },
  {
   "cell_type": "code",
   "execution_count": 8,
   "metadata": {},
   "outputs": [],
   "source": [
    "from pyspark.sql import SparkSession\n",
    "import getpass\n",
    "username = getpass.getuser()\n",
    "spark = SparkSession. \\\n",
    "    builder. \\\n",
    "    config('spark.ui.port', '0'). \\\n",
    "    appName(f'Problem 05 | {username}'). \\\n",
    "    master('yarn'). \\\n",
    "    getOrCreate()"
   ]
  },
  {
   "cell_type": "code",
   "execution_count": 9,
   "metadata": {},
   "outputs": [],
   "source": [
    "read_df=spark.read.json('/public/addresses')"
   ]
  },
  {
   "cell_type": "code",
   "execution_count": 17,
   "metadata": {},
   "outputs": [],
   "source": [
    "from pyspark.sql.functions import dense_rank,col,count,lit\n",
    "from pyspark.sql.window import Window    "
   ]
  },
  {
   "cell_type": "code",
   "execution_count": 29,
   "metadata": {},
   "outputs": [],
   "source": [
    "working_df=read_df.\\\n",
    "        select(col('address').state.alias('state')).\\\n",
    "        groupBy('state').\\\n",
    "        agg(count(lit(1)).alias('member_count'))"
   ]
  },
  {
   "cell_type": "code",
   "execution_count": 30,
   "metadata": {},
   "outputs": [],
   "source": [
    "spec=Window.orderBy(col('member_count').desc())"
   ]
  },
  {
   "cell_type": "code",
   "execution_count": 46,
   "metadata": {},
   "outputs": [],
   "source": [
    "output=working_df. \\\n",
    "            withColumn('dense_rank',dense_rank().over(spec)). \\\n",
    "            orderBy(col('member_count').desc()). \\\n",
    "            filter(col('dense_rank')<=10). \\\n",
    "            drop('dense_rank')"
   ]
  },
  {
   "cell_type": "code",
   "execution_count": 47,
   "metadata": {},
   "outputs": [],
   "source": [
    "output. \\\n",
    "    coalesce(1). \\\n",
    "    write. \\\n",
    "    csv(f'/user/{username}/mock_test_02/problem05/solution',\n",
    "        header=True,\n",
    "        mode='overwrite'\n",
    "       )"
   ]
  },
  {
   "cell_type": "code",
   "execution_count": 48,
   "metadata": {},
   "outputs": [
    {
     "name": "stdout",
     "output_type": "stream",
     "text": [
      "Found 2 items\n",
      "-rw-r--r--   3 itv002461 supergroup          0 2022-06-29 03:11 /user/itv002461/mock_test_02/problem05/solution/_SUCCESS\n",
      "-rw-r--r--   3 itv002461 supergroup        180 2022-06-29 03:11 /user/itv002461/mock_test_02/problem05/solution/part-00000-8550965c-45f0-437c-9139-b371bf6acb4b-c000.csv\n"
     ]
    }
   ],
   "source": [
    "%%sh\n",
    "hdfs dfs -ls /user/${USER}/mock_test_02/problem05/solution"
   ]
  },
  {
   "cell_type": "code",
   "execution_count": 49,
   "metadata": {},
   "outputs": [
    {
     "name": "stdout",
     "output_type": "stream",
     "text": [
      "state,member_count\n",
      "California,109817\n",
      "Texas,109346\n",
      "Florida,82625\n",
      "New York,55343\n",
      "Ohio,36316\n",
      "Virginia,35214\n",
      "District of Columbia,32289\n",
      "Pennsylvania,32226\n",
      "Georgia,28814\n",
      "Illinois,24943\n"
     ]
    }
   ],
   "source": [
    "%%sh\n",
    "hdfs dfs -cat /user/${USER}/mock_test_02/problem05/solution/part*"
   ]
  },
  {
   "cell_type": "code",
   "execution_count": null,
   "metadata": {},
   "outputs": [],
   "source": []
  }
 ],
 "metadata": {
  "kernelspec": {
   "display_name": "Pyspark 2",
   "language": "python",
   "name": "pyspark2"
  },
  "language_info": {
   "codemirror_mode": {
    "name": "ipython",
    "version": 3
   },
   "file_extension": ".py",
   "mimetype": "text/x-python",
   "name": "python",
   "nbconvert_exporter": "python",
   "pygments_lexer": "ipython3",
   "version": "3.6.12"
  }
 },
 "nbformat": 4,
 "nbformat_minor": 4
}
