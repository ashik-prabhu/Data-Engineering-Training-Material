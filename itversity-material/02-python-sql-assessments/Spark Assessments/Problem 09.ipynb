{
 "cells": [
  {
   "cell_type": "markdown",
   "metadata": {},
   "source": [
    "## Problem 09\n",
    "\n",
    "Weightage: 40\n",
    "\n",
    "Join trips data with stations and get a denormalized table with both startstationname and endstationname on top of all fields from trips.\n"
   ]
  },
  {
   "cell_type": "markdown",
   "metadata": {},
   "source": [
    "## Data Description\n",
    "All of the citibike trip data is available under **/public/citibike/trips**. It contain multiple folders - one for each month. Here is the schema.\n",
    "\n",
    "```\n",
    "root\n",
    " |-- tripduration: integer (nullable = true)\n",
    " |-- starttime: timestamp (nullable = true)\n",
    " |-- stoptime: timestamp (nullable = true)\n",
    " |-- startstationid: string (nullable = true)\n",
    " |-- endstationid: string (nullable = true)\n",
    " |-- bikeid: integer (nullable = true)\n",
    " |-- usertype: string (nullable = true)\n",
    " |-- birthyear: string (nullable = true)\n",
    " |-- gender: integer (nullable = true)\n",
    " |-- month: integer (nullable = true)\n",
    "```\n",
    "All of the citibike station data is available under **/public/citibike/stations**. \n",
    "```\n",
    "root\n",
    " |-- stationid: long (nullable = true)\n",
    " |-- stationlatitude: string (nullable = true)\n",
    " |-- stationlongitude: string (nullable = true)\n",
    " |-- stationname: string (nullable = true)\n",
    "```"
   ]
  },
  {
   "cell_type": "markdown",
   "metadata": {},
   "source": [
    "## Output Requirements\n",
    "* Place the result in the HDFS Directory \n",
    "```\n",
    "/user/`whoami`/mock_test_02/problem09/solution\n",
    "```\n",
    "* Use Parquet File format with any number of files.\n",
    "* Here are the column names. Data types should be as below.\n",
    "```\n",
    " |-- tripduration: integer (nullable = true)\n",
    " |-- starttime: timestamp (nullable = true)\n",
    " |-- stoptime: timestamp (nullable = true)\n",
    " |-- startstationid: integer (nullable = true)\n",
    " |-- endstationid: integer (nullable = true)\n",
    " |-- bikeid: integer (nullable = true)\n",
    " |-- usertype: string (nullable = true)\n",
    " |-- birthyear: string (nullable = true)\n",
    " |-- gender: integer (nullable = true)\n",
    " |-- month: integer (nullable = true)\n",
    " |-- startstationname: string (nullable = true)\n",
    " |-- endstationname: string (nullable = true)\n",
    "```\n",
    "* There are no requirements for sorting the data."
   ]
  },
  {
   "cell_type": "markdown",
   "metadata": {},
   "source": [
    "## Validation\n",
    "\n",
    "Here are the self validation steps:\n",
    "* Run the following to check number of files.\n",
    "```\n",
    "hdfs dfs -ls /user/`whoami`/mock_test_02/problem09/solution\n",
    "```\n",
    "* Run this code to create dataframe by name data.\n",
    "```\n",
    "import getpass\n",
    "username = getpass.getuser()\n",
    "data = spark.read. \\\n",
    "    parquet(f'/user/{username}/mock_test_02/problem09/solution')\n",
    "```\n",
    "* Run `data.printSchema()` to validate the data types of the fields.\n",
    "```\n",
    "root\n",
    " |-- tripduration: integer (nullable = true)\n",
    " |-- starttime: timestamp (nullable = true)\n",
    " |-- stoptime: timestamp (nullable = true)\n",
    " |-- startstationid: integer (nullable = true)\n",
    " |-- endstationid: integer (nullable = true)\n",
    " |-- bikeid: integer (nullable = true)\n",
    " |-- usertype: string (nullable = true)\n",
    " |-- birthyear: string (nullable = true)\n",
    " |-- gender: integer (nullable = true)\n",
    " |-- month: integer (nullable = true)\n",
    " |-- startstationname: string (nullable = true)\n",
    " |-- endstationname: string (nullable = true)\n",
    "```\n",
    "* Run `data.count()` to validate number of records. It should be **54462016**\n",
    "* Run `data.show()` to preview the data. Make sure all the data is showing up as expected."
   ]
  },
  {
   "cell_type": "code",
   "execution_count": 20,
   "metadata": {},
   "outputs": [],
   "source": [
    "from pyspark.sql import SparkSession\n",
    "import getpass\n",
    "username = getpass.getuser()\n",
    "spark = SparkSession. \\\n",
    "    builder. \\\n",
    "    config('spark.ui.port', '0'). \\\n",
    "    appName(f'Problem 09 | {username}'). \\\n",
    "    master('yarn'). \\\n",
    "    getOrCreate()"
   ]
  },
  {
   "cell_type": "code",
   "execution_count": 21,
   "metadata": {},
   "outputs": [],
   "source": [
    "trips_df=spark.read.csv('/public/citibike/trips/',header=True)"
   ]
  },
  {
   "cell_type": "code",
   "execution_count": 22,
   "metadata": {},
   "outputs": [],
   "source": [
    "station_df=spark.read.json('/public/citibike/stations')"
   ]
  },
  {
   "cell_type": "code",
   "execution_count": 23,
   "metadata": {},
   "outputs": [
    {
     "data": {
      "text/html": [
       "<table border='1'>\n",
       "<tr><th>stationname</th></tr>\n",
       "<tr><td>1 Ave &amp; E 16 St</td></tr>\n",
       "</table>\n"
      ],
      "text/plain": [
       "+---------------+\n",
       "|    stationname|\n",
       "+---------------+\n",
       "|1 Ave & E 16 St|\n",
       "+---------------+"
      ]
     },
     "execution_count": 23,
     "metadata": {},
     "output_type": "execute_result"
    }
   ],
   "source": [
    "from pyspark.sql.functions import date_format,count,lit,col\n",
    "station_df.filter(col('stationid')==504).select('stationname')"
   ]
  },
  {
   "cell_type": "code",
   "execution_count": 24,
   "metadata": {},
   "outputs": [],
   "source": [
    "from pyspark.sql.functions import date_format,count,lit,col\n",
    "joined_df1=trips_df.join(station_df,\n",
    "                         on=trips_df.startstationid.cast('int')==station_df.stationid.cast(\"int\"),\n",
    "                         how=\"inner\"). \\\n",
    "            withColumnRenamed('stationname',\"startstationanme\")\n"
   ]
  },
  {
   "cell_type": "code",
   "execution_count": 25,
   "metadata": {},
   "outputs": [],
   "source": [
    "joined_df2=trips_df.join(station_df,\n",
    "                         on=trips_df.endstationid.cast('int')==station_df.stationid.cast(\"int\"),\n",
    "                         how=\"inner\"). \\\n",
    "           withColumnRenamed('stationname',\"endstationanme\") "
   ]
  },
  {
   "cell_type": "code",
   "execution_count": 35,
   "metadata": {},
   "outputs": [],
   "source": [
    "output=joined_df1.join(joined_df2,on=joined_df1.startstationid==joined_df2.startstationid, how=\"inner\"). \\\n",
    "        select(joined_df1['*'],joined_df2.endstationanme) .\\\n",
    "        drop(\"stationid\",\"stationlatitude\",\"stationlongitude\")"
   ]
  },
  {
   "cell_type": "code",
   "execution_count": 31,
   "metadata": {},
   "outputs": [
    {
     "name": "stdout",
     "output_type": "stream",
     "text": [
      "+------------+-------------------+-------------------+--------------+------------+------+----------+---------+------+------+--------------------+--------------------+\n",
      "|tripduration|          starttime|           stoptime|startstationid|endstationid|bikeid|  usertype|birthyear|gender| month|    startstationanme|      endstationanme|\n",
      "+------------+-------------------+-------------------+--------------+------------+------+----------+---------+------+------+--------------------+--------------------+\n",
      "|        1402|2017-05-01 00:15:50|2017-05-01 00:39:13|           296|        3258| 17885|Subscriber|     1963|     1|201705|Division St & Bowery|Barclay St & Chur...|\n",
      "|        1402|2017-05-01 00:15:50|2017-05-01 00:39:13|           296|        3258| 17885|Subscriber|     1963|     1|201705|Division St & Bowery|Allen St & Hester St|\n",
      "|        1402|2017-05-01 00:15:50|2017-05-01 00:39:13|           296|        3258| 17885|Subscriber|     1963|     1|201705|Division St & Bowery|     E 27 St & 1 Ave|\n",
      "|        1402|2017-05-01 00:15:50|2017-05-01 00:39:13|           296|        3258| 17885|Subscriber|     1963|     1|201705|Division St & Bowery|Harrison St & Hud...|\n",
      "|        1402|2017-05-01 00:15:50|2017-05-01 00:39:13|           296|        3258| 17885|Subscriber|     1963|     1|201705|Division St & Bowery|Stanton St & Chry...|\n",
      "|        1402|2017-05-01 00:15:50|2017-05-01 00:39:13|           296|        3258| 17885|Subscriber|     1963|     1|201705|Division St & Bowery|Broadway & Batter...|\n",
      "|        1402|2017-05-01 00:15:50|2017-05-01 00:39:13|           296|        3258| 17885|Subscriber|     1963|     1|201705|Division St & Bowery|South End Ave & L...|\n",
      "|        1402|2017-05-01 00:15:50|2017-05-01 00:39:13|           296|        3258| 17885|Subscriber|     1963|     1|201705|Division St & Bowery|South St & Gouver...|\n",
      "|        1402|2017-05-01 00:15:50|2017-05-01 00:39:13|           296|        3258| 17885|Subscriber|     1963|     1|201705|Division St & Bowery|Centre St & Worth St|\n",
      "|        1402|2017-05-01 00:15:50|2017-05-01 00:39:13|           296|        3258| 17885|Subscriber|     1963|     1|201705|Division St & Bowery| Henry St & Grand St|\n",
      "|        1402|2017-05-01 00:15:50|2017-05-01 00:39:13|           296|        3258| 17885|Subscriber|     1963|     1|201705|Division St & Bowery|Columbia St & Riv...|\n",
      "|        1402|2017-05-01 00:15:50|2017-05-01 00:39:13|           296|        3258| 17885|Subscriber|     1963|     1|201705|Division St & Bowery|Centre St & Worth St|\n",
      "|        1402|2017-05-01 00:15:50|2017-05-01 00:39:13|           296|        3258| 17885|Subscriber|     1963|     1|201705|Division St & Bowery|Grand St & Elizab...|\n",
      "|        1402|2017-05-01 00:15:50|2017-05-01 00:39:13|           296|        3258| 17885|Subscriber|     1963|     1|201705|Division St & Bowery|Pike St & E Broadway|\n",
      "|        1402|2017-05-01 00:15:50|2017-05-01 00:39:13|           296|        3258| 17885|Subscriber|     1963|     1|201705|Division St & Bowery|Centre St & Chamb...|\n",
      "|        1402|2017-05-01 00:15:50|2017-05-01 00:39:13|           296|        3258| 17885|Subscriber|     1963|     1|201705|Division St & Bowery|Flushing Ave & Va...|\n",
      "|        1402|2017-05-01 00:15:50|2017-05-01 00:39:13|           296|        3258| 17885|Subscriber|     1963|     1|201705|Division St & Bowery|     E 19 St & 3 Ave|\n",
      "|        1402|2017-05-01 00:15:50|2017-05-01 00:39:13|           296|        3258| 17885|Subscriber|     1963|     1|201705|Division St & Bowery|Allen St & Riving...|\n",
      "|        1402|2017-05-01 00:15:50|2017-05-01 00:39:13|           296|        3258| 17885|Subscriber|     1963|     1|201705|Division St & Bowery|Fulton St & Broadway|\n",
      "|        1402|2017-05-01 00:15:50|2017-05-01 00:39:13|           296|        3258| 17885|Subscriber|     1963|     1|201705|Division St & Bowery|Howard St & Centr...|\n",
      "+------------+-------------------+-------------------+--------------+------------+------+----------+---------+------+------+--------------------+--------------------+\n",
      "only showing top 20 rows\n",
      "\n"
     ]
    }
   ],
   "source": [
    "output.show()\n",
    "        "
   ]
  },
  {
   "cell_type": "code",
   "execution_count": 32,
   "metadata": {},
   "outputs": [
    {
     "name": "stdout",
     "output_type": "stream",
     "text": [
      "root\n",
      " |-- tripduration: string (nullable = true)\n",
      " |-- starttime: string (nullable = true)\n",
      " |-- stoptime: string (nullable = true)\n",
      " |-- startstationid: string (nullable = true)\n",
      " |-- endstationid: string (nullable = true)\n",
      " |-- bikeid: string (nullable = true)\n",
      " |-- usertype: string (nullable = true)\n",
      " |-- birthyear: string (nullable = true)\n",
      " |-- gender: string (nullable = true)\n",
      " |-- month: integer (nullable = true)\n",
      " |-- startstationanme: string (nullable = true)\n",
      " |-- endstationanme: string (nullable = true)\n",
      "\n"
     ]
    }
   ],
   "source": [
    "output.printSchema()"
   ]
  },
  {
   "cell_type": "code",
   "execution_count": null,
   "metadata": {},
   "outputs": [],
   "source": []
  },
  {
   "cell_type": "code",
   "execution_count": 10,
   "metadata": {},
   "outputs": [],
   "source": [
    "table1_df = spark.read.option(\"header\", True).csv(\"/public/citibike/trips/month=*\")"
   ]
  },
  {
   "cell_type": "code",
   "execution_count": 11,
   "metadata": {},
   "outputs": [],
   "source": [
    "table2_df2 = spark.read.json(\"/public/citibike/stations\")"
   ]
  },
  {
   "cell_type": "code",
   "execution_count": 12,
   "metadata": {},
   "outputs": [],
   "source": [
    "join_df = table1_df.join(table2_df2, table1_df.startstationid == table2_df2.stationid,\"inner\")"
   ]
  },
  {
   "cell_type": "code",
   "execution_count": 13,
   "metadata": {},
   "outputs": [],
   "source": [
    "from pyspark.sql.functions import date_format, count, lit, col, split, concat\n",
    "\n",
    "output = join_df.select(col(\"tripduration\").cast(\"int\"), col(\"starttime\").cast(\"timestamp\"),\n",
    "                         col(\"stoptime\").cast(\"timestamp\"), col(\"startstationid\").cast(\"int\"), \n",
    "                         col(\"endstationid\").cast(\"int\"), col(\"bikeid\").cast(\"int\"), \n",
    "                         \"usertype\", \"birthyear\", col(\"gender\").cast(\"int\"),\n",
    "                         date_format(\"starttime\", \"MM\").cast(\"int\").alias(\"month\"),\n",
    "                         split(col(\"stationname\"), \"&\")[0].alias(\"startstationname\"),\n",
    "                         split(col(\"stationname\"), \"&\")[1].alias(\"endstationname\"))"
   ]
  },
  {
   "cell_type": "code",
   "execution_count": 14,
   "metadata": {},
   "outputs": [],
   "source": [
    "output. \\\n",
    "    coalesce(2). \\\n",
    "    write. \\\n",
    "    parquet('/user/itv002461/mock_test_02/problem09/solution',mode='overwrite')"
   ]
  },
  {
   "cell_type": "code",
   "execution_count": 15,
   "metadata": {},
   "outputs": [
    {
     "name": "stdout",
     "output_type": "stream",
     "text": [
      "Found 3 items\n",
      "-rw-r--r--   3 itv002461 supergroup          0 2022-07-12 04:48 /user/itv002461/mock_test_02/problem09/solution/_SUCCESS\n",
      "-rw-r--r--   3 itv002461 supergroup  616821918 2022-07-12 04:47 /user/itv002461/mock_test_02/problem09/solution/part-00000-d3ea4329-0d91-4bdb-b7a1-a68e4ff25d5f-c000.snappy.parquet\n",
      "-rw-r--r--   3 itv002461 supergroup  673340921 2022-07-12 04:48 /user/itv002461/mock_test_02/problem09/solution/part-00001-d3ea4329-0d91-4bdb-b7a1-a68e4ff25d5f-c000.snappy.parquet\n"
     ]
    }
   ],
   "source": [
    "%%sh\n",
    "hdfs dfs -ls /user/${USER}/mock_test_02/problem09/solution"
   ]
  },
  {
   "cell_type": "code",
   "execution_count": 16,
   "metadata": {},
   "outputs": [],
   "source": [
    "import getpass\n",
    "username = getpass.getuser()\n",
    "data = spark.read. \\\n",
    "  parquet(f'/user/{username}/mock_test_02/problem09/solution')"
   ]
  },
  {
   "cell_type": "code",
   "execution_count": 17,
   "metadata": {},
   "outputs": [
    {
     "name": "stdout",
     "output_type": "stream",
     "text": [
      "root\n",
      " |-- tripduration: integer (nullable = true)\n",
      " |-- starttime: timestamp (nullable = true)\n",
      " |-- stoptime: timestamp (nullable = true)\n",
      " |-- startstationid: integer (nullable = true)\n",
      " |-- endstationid: integer (nullable = true)\n",
      " |-- bikeid: integer (nullable = true)\n",
      " |-- usertype: string (nullable = true)\n",
      " |-- birthyear: string (nullable = true)\n",
      " |-- gender: integer (nullable = true)\n",
      " |-- month: integer (nullable = true)\n",
      " |-- startstationname: string (nullable = true)\n",
      " |-- endstationname: string (nullable = true)\n",
      "\n"
     ]
    }
   ],
   "source": [
    "data.printSchema()"
   ]
  },
  {
   "cell_type": "code",
   "execution_count": 18,
   "metadata": {},
   "outputs": [
    {
     "data": {
      "text/plain": [
       "54462016"
      ]
     },
     "execution_count": 18,
     "metadata": {},
     "output_type": "execute_result"
    }
   ],
   "source": [
    "data.count()"
   ]
  },
  {
   "cell_type": "code",
   "execution_count": 19,
   "metadata": {},
   "outputs": [
    {
     "name": "stdout",
     "output_type": "stream",
     "text": [
      "+------------+--------------------+--------------------+--------------+------------+------+----------+---------+------+-----+--------------------+------------------+\n",
      "|tripduration|           starttime|            stoptime|startstationid|endstationid|bikeid|  usertype|birthyear|gender|month|    startstationname|    endstationname|\n",
      "+------------+--------------------+--------------------+--------------+------------+------+----------+---------+------+-----+--------------------+------------------+\n",
      "|         327|2019-09-01 00:00:...|2019-09-01 00:05:...|          3733|         504| 39213|Subscriber|     1968|     1|    9|           Avenue C |           E 18 St|\n",
      "|        2219|2019-09-29 12:04:...|2019-09-29 12:41:...|          3372|        3686| 18261|Subscriber|     1974|     2|    9|            E 74 St |             1 Ave|\n",
      "|        1145|2019-09-01 00:00:...|2019-09-01 00:19:...|          3329|         270| 21257|  Customer|     1969|     0|    9|          Degraw St |          Smith St|\n",
      "|         816|2019-09-29 12:04:...|2019-09-29 12:18:...|           476|         168| 34200|Subscriber|     1974|     2|    9|            E 31 St |             3 Ave|\n",
      "|        1293|2019-09-01 00:00:...|2019-09-01 00:21:...|          3168|         423| 15242|  Customer|     1969|     0|    9|  Central Park West |           W 85 St|\n",
      "|         886|2019-09-29 12:04:...|2019-09-29 12:19:...|          3531|        3289| 41360|Subscriber|     1953|     1|    9|Frederick Douglas...|          W 129 St|\n",
      "|        1753|2019-09-01 00:00:...|2019-09-01 00:29:...|          3299|        3160| 38760|Subscriber|     1990|     1|    9|            E 98 St |          Park Ave|\n",
      "|        1045|2019-09-29 12:04:...|2019-09-29 12:21:...|           305|        3810| 41566|Subscriber|     1964|     1|    9|            E 58 St |             3 Ave|\n",
      "|         613|2019-09-01 00:00:...|2019-09-01 00:10:...|           486|         478| 32094|Subscriber|     1992|     1|    9|           Broadway |           W 29 St|\n",
      "|         342|2019-09-29 12:04:...|2019-09-29 12:10:...|          3255|         523| 38391|Subscriber|     1967|     2|    9|              8 Ave |           W 31 St|\n",
      "|         482|2019-09-01 00:00:...|2019-09-01 00:08:...|          3775|        3771| 28271|  Customer|     1969|     0|    9|          Suydam St | Knickerbocker Ave|\n",
      "|         650|2019-09-29 12:04:...|2019-09-29 12:15:...|          3173|          72| 32294|  Customer|     1989|     1|    9|     Riverside Blvd |           W 67 St|\n",
      "|         489|2019-09-01 00:00:...|2019-09-01 00:08:...|          3775|        3771| 39424|  Customer|     1969|     0|    9|          Suydam St | Knickerbocker Ave|\n",
      "|         654|2019-09-29 12:04:...|2019-09-29 12:15:...|           247|        3788| 40478|  Customer|     1969|     0|    9|           Perry St |       Bleecker St|\n",
      "|        1571|2019-09-01 00:00:...|2019-09-01 00:26:...|           387|        3440| 38711|  Customer|     1969|     0|    9|          Centre St |       Chambers St|\n",
      "|        1392|2019-09-29 12:04:...|2019-09-29 12:27:...|           482|         482| 29858|  Customer|     1998|     1|    9|            W 15 St |             7 Ave|\n",
      "|         571|2019-09-01 00:00:...|2019-09-01 00:09:...|           440|         505| 31619|Subscriber|     1995|     1|    9|            E 45 St |             3 Ave|\n",
      "|        1565|2019-09-29 12:04:...|2019-09-29 12:30:...|          3254|        3254| 21120|  Customer|     1969|     0|    9|    Soissons Landing|              null|\n",
      "|         232|2019-09-01 00:00:...|2019-09-01 00:04:...|          3071|        3082| 16158|  Customer|     1969|     0|    9|          Boerum St |          Broadway|\n",
      "|         470|2019-09-29 12:04:...|2019-09-29 12:12:...|          3581|         353| 39270|Subscriber|     1980|     1|    9|      Underhill Ave |        Lincoln Pl|\n",
      "+------------+--------------------+--------------------+--------------+------------+------+----------+---------+------+-----+--------------------+------------------+\n",
      "only showing top 20 rows\n",
      "\n"
     ]
    }
   ],
   "source": [
    "data.show()"
   ]
  },
  {
   "cell_type": "code",
   "execution_count": null,
   "metadata": {},
   "outputs": [],
   "source": []
  }
 ],
 "metadata": {
  "kernelspec": {
   "display_name": "Pyspark 2",
   "language": "python",
   "name": "pyspark2"
  },
  "language_info": {
   "codemirror_mode": {
    "name": "ipython",
    "version": 3
   },
   "file_extension": ".py",
   "mimetype": "text/x-python",
   "name": "python",
   "nbconvert_exporter": "python",
   "pygments_lexer": "ipython3",
   "version": "3.6.12"
  }
 },
 "nbformat": 4,
 "nbformat_minor": 4
}
