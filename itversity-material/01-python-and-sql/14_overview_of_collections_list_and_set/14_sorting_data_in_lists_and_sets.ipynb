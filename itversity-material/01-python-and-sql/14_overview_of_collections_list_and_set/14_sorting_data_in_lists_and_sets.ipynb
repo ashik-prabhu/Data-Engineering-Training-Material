{
 "cells": [
  {
   "cell_type": "markdown",
   "id": "3c482466",
   "metadata": {},
   "source": [
    "## Sorting Data in lists and sets\n",
    "\n",
    "Let us go through the details about sorting data in lists and sets.\n",
    "* We can use `sorted` function to sort any collection - list, set, dict or tuple. For now, let's focus on list and set.\n",
    "* `sorted` always returns a new list. We typically assign it to a new variable to process the newly created sorted list further.\n",
    "* On top of `list`, we can also invoke `sort` function. While `sorted` creates new list, `sort` will update the existing list. The sorting done by `sort` is also known as **inplace** sorting.\n",
    "* While `sorted` returns a new list, `sort` on top of list returns nothing.\n",
    "* Both `sorted` and `sort` takes same arguments.\n",
    "* We can use `reverse` to sort in reverse order.\n",
    "* We can also sort the data based upon comparison logic passed using `key` argument.\n",
    "* We use `sorted` more often than `list.sort` for following reasons.\n",
    "  * `sorted` can be used on all types of collections - list, set, dict, tuple or any other collection type.\n",
    "  * The original collection will not be touched.\n",
    "  * We can pass `sorted` function to other functions as part of chained calling. For example if we would like to get unique records after sorting, we can say `set(sorted(l))`. It is not possible with `list.sort`"
   ]
  },
  {
   "cell_type": "code",
   "execution_count": null,
   "id": "ad62631b",
   "metadata": {},
   "outputs": [],
   "source": [
    "# Run this to see the syntax of sorted\n",
    "sorted?"
   ]
  },
  {
   "cell_type": "code",
   "execution_count": null,
   "id": "58272b99",
   "metadata": {},
   "outputs": [],
   "source": [
    "# Run this to see the syntax of sort function\n",
    "list.sort?"
   ]
  },
  {
   "cell_type": "markdown",
   "id": "08c09049",
   "metadata": {},
   "source": [
    "* Sorting a simple list using `sorted`"
   ]
  },
  {
   "cell_type": "code",
   "execution_count": 1,
   "id": "e36473ec",
   "metadata": {},
   "outputs": [],
   "source": [
    "l = [1, 3, 2, 6, 4]"
   ]
  },
  {
   "cell_type": "code",
   "execution_count": 2,
   "id": "eb0fbce4",
   "metadata": {},
   "outputs": [
    {
     "data": {
      "text/plain": [
       "[1, 2, 3, 4, 6]"
      ]
     },
     "execution_count": 2,
     "metadata": {},
     "output_type": "execute_result"
    }
   ],
   "source": [
    "sorted(l)"
   ]
  },
  {
   "cell_type": "code",
   "execution_count": 3,
   "id": "a173bfa6",
   "metadata": {},
   "outputs": [
    {
     "data": {
      "text/plain": [
       "list"
      ]
     },
     "execution_count": 3,
     "metadata": {},
     "output_type": "execute_result"
    }
   ],
   "source": [
    "type(sorted(l))"
   ]
  },
  {
   "cell_type": "code",
   "execution_count": 4,
   "id": "4d436660",
   "metadata": {},
   "outputs": [
    {
     "data": {
      "text/plain": [
       "[1, 3, 2, 6, 4]"
      ]
     },
     "execution_count": 4,
     "metadata": {},
     "output_type": "execute_result"
    }
   ],
   "source": [
    "# l did not change\n",
    "l"
   ]
  },
  {
   "cell_type": "code",
   "execution_count": 5,
   "id": "63b34787",
   "metadata": {},
   "outputs": [],
   "source": [
    "# Typical usage for further processing\n",
    "l_sorted = sorted(l)"
   ]
  },
  {
   "cell_type": "code",
   "execution_count": 6,
   "id": "f37d117e",
   "metadata": {},
   "outputs": [
    {
     "data": {
      "text/plain": [
       "list"
      ]
     },
     "execution_count": 6,
     "metadata": {},
     "output_type": "execute_result"
    }
   ],
   "source": [
    "type(l_sorted)"
   ]
  },
  {
   "cell_type": "code",
   "execution_count": 7,
   "id": "c6c6356d",
   "metadata": {},
   "outputs": [
    {
     "data": {
      "text/plain": [
       "[1, 2, 3, 4, 6]"
      ]
     },
     "execution_count": 7,
     "metadata": {},
     "output_type": "execute_result"
    }
   ],
   "source": [
    "l_sorted"
   ]
  },
  {
   "cell_type": "code",
   "execution_count": 8,
   "id": "5304d519",
   "metadata": {},
   "outputs": [
    {
     "data": {
      "text/plain": [
       "[6, 4, 3, 2, 1]"
      ]
     },
     "execution_count": 8,
     "metadata": {},
     "output_type": "execute_result"
    }
   ],
   "source": [
    "sorted(l, reverse=True)"
   ]
  },
  {
   "cell_type": "markdown",
   "id": "e4fff230",
   "metadata": {},
   "source": [
    "* Sorting a simple list using `sort`"
   ]
  },
  {
   "cell_type": "code",
   "execution_count": 9,
   "id": "ed929966",
   "metadata": {},
   "outputs": [],
   "source": [
    "l = [1, 3, 2, 6, 4]"
   ]
  },
  {
   "cell_type": "code",
   "execution_count": 10,
   "id": "ed64a645",
   "metadata": {},
   "outputs": [
    {
     "data": {
      "text/plain": [
       "[1, 3, 2, 6, 4]"
      ]
     },
     "execution_count": 10,
     "metadata": {},
     "output_type": "execute_result"
    }
   ],
   "source": [
    "l"
   ]
  },
  {
   "cell_type": "code",
   "execution_count": 13,
   "id": "78dac47d",
   "metadata": {},
   "outputs": [],
   "source": [
    "# We typically don't assign to another variable.\n",
    "l.sort()"
   ]
  },
  {
   "cell_type": "code",
   "execution_count": 14,
   "id": "a33b796a",
   "metadata": {},
   "outputs": [
    {
     "data": {
      "text/plain": [
       "NoneType"
      ]
     },
     "execution_count": 14,
     "metadata": {},
     "output_type": "execute_result"
    }
   ],
   "source": [
    "type(l.sort())"
   ]
  },
  {
   "cell_type": "code",
   "execution_count": 15,
   "id": "1622353a",
   "metadata": {},
   "outputs": [
    {
     "data": {
      "text/plain": [
       "[1, 2, 3, 4, 6]"
      ]
     },
     "execution_count": 15,
     "metadata": {},
     "output_type": "execute_result"
    }
   ],
   "source": [
    "l"
   ]
  },
  {
   "cell_type": "markdown",
   "id": "d6b31ee1",
   "metadata": {},
   "source": [
    "* Sorting a set using `sort`"
   ]
  },
  {
   "cell_type": "code",
   "execution_count": 16,
   "id": "26021510",
   "metadata": {},
   "outputs": [],
   "source": [
    "s = {1, 4, 2}"
   ]
  },
  {
   "cell_type": "code",
   "execution_count": 17,
   "id": "14fc2c40",
   "metadata": {},
   "outputs": [
    {
     "data": {
      "text/plain": [
       "{1, 2, 4}"
      ]
     },
     "execution_count": 17,
     "metadata": {},
     "output_type": "execute_result"
    }
   ],
   "source": [
    "s"
   ]
  },
  {
   "cell_type": "code",
   "execution_count": 18,
   "id": "dabfda16",
   "metadata": {},
   "outputs": [
    {
     "ename": "AttributeError",
     "evalue": "'set' object has no attribute 'sort'",
     "output_type": "error",
     "traceback": [
      "\u001b[0;31m---------------------------------------------------------------------------\u001b[0m",
      "\u001b[0;31mAttributeError\u001b[0m                            Traceback (most recent call last)",
      "\u001b[0;32m<ipython-input-18-8c19ca0fcce4>\u001b[0m in \u001b[0;36m<module>\u001b[0;34m\u001b[0m\n\u001b[1;32m      1\u001b[0m \u001b[0;31m# This will fail as sort is available only on top of list but not set\u001b[0m\u001b[0;34m\u001b[0m\u001b[0;34m\u001b[0m\u001b[0;34m\u001b[0m\u001b[0m\n\u001b[0;32m----> 2\u001b[0;31m \u001b[0ms\u001b[0m\u001b[0;34m.\u001b[0m\u001b[0msort\u001b[0m\u001b[0;34m(\u001b[0m\u001b[0;34m)\u001b[0m\u001b[0;34m\u001b[0m\u001b[0;34m\u001b[0m\u001b[0m\n\u001b[0m",
      "\u001b[0;31mAttributeError\u001b[0m: 'set' object has no attribute 'sort'"
     ]
    }
   ],
   "source": [
    "# This will fail as sort is available only on top of list but not set\n",
    "s.sort()"
   ]
  },
  {
   "cell_type": "code",
   "execution_count": 19,
   "id": "4946a76b",
   "metadata": {},
   "outputs": [
    {
     "data": {
      "text/plain": [
       "[1, 2, 4]"
      ]
     },
     "execution_count": 19,
     "metadata": {},
     "output_type": "execute_result"
    }
   ],
   "source": [
    "sorted(s)"
   ]
  },
  {
   "cell_type": "code",
   "execution_count": 20,
   "id": "3ca1560d",
   "metadata": {},
   "outputs": [
    {
     "data": {
      "text/plain": [
       "[4, 2, 1]"
      ]
     },
     "execution_count": 20,
     "metadata": {},
     "output_type": "execute_result"
    }
   ],
   "source": [
    "sorted(s, reverse=True)"
   ]
  },
  {
   "cell_type": "code",
   "execution_count": 21,
   "id": "da126718",
   "metadata": {},
   "outputs": [
    {
     "data": {
      "text/plain": [
       "list"
      ]
     },
     "execution_count": 21,
     "metadata": {},
     "output_type": "execute_result"
    }
   ],
   "source": [
    "type(sorted(s))"
   ]
  },
  {
   "cell_type": "markdown",
   "id": "c3293d5c",
   "metadata": {},
   "source": [
    "* Reverse sorting of a list or a set using `sorted`. Similar process can be followed for `list.sort` as well."
   ]
  },
  {
   "cell_type": "code",
   "execution_count": 22,
   "id": "7620aa65",
   "metadata": {},
   "outputs": [],
   "source": [
    "l = [1, 3, 2, 6, 4]"
   ]
  },
  {
   "cell_type": "code",
   "execution_count": 23,
   "id": "8c1980be",
   "metadata": {},
   "outputs": [
    {
     "data": {
      "text/plain": [
       "[6, 4, 3, 2, 1]"
      ]
     },
     "execution_count": 23,
     "metadata": {},
     "output_type": "execute_result"
    }
   ],
   "source": [
    "sorted(l, reverse=True)"
   ]
  },
  {
   "cell_type": "code",
   "execution_count": 24,
   "id": "703dbfe3",
   "metadata": {},
   "outputs": [],
   "source": [
    "l.sort(reverse=True)"
   ]
  },
  {
   "cell_type": "code",
   "execution_count": 25,
   "id": "0e6fc7e1",
   "metadata": {},
   "outputs": [
    {
     "data": {
      "text/plain": [
       "[6, 4, 3, 2, 1]"
      ]
     },
     "execution_count": 25,
     "metadata": {},
     "output_type": "execute_result"
    }
   ],
   "source": [
    "l"
   ]
  },
  {
   "cell_type": "code",
   "execution_count": 57,
   "id": "cacc69c3",
   "metadata": {},
   "outputs": [],
   "source": [
    "employees = [\n",
    "    '1,ktrett0@independent.co.uk,6998.95',\n",
    "    '2,khaddock1@deviantart.com,10572.4',\n",
    "    '3,ecraft2@dell.com,3967.35',\n",
    "    '4,drussam3@t-online.de,17672.44',\n",
    "    '5,graigatt4@github.io,11660.67',\n",
    "    '6,bjaxon5@salon.com,18614.93',\n",
    "    '7,araulston6@list-manage.com,11550.75',\n",
    "    '8,mcobb7@mozilla.com,17016.15',\n",
    "    '9,grobardley8@unesco.org,14141.25',\n",
    "    '10,bbuye9@vkontakte.ru,12193.2'\n",
    "]"
   ]
  },
  {
   "cell_type": "markdown",
   "id": "4262b9eb",
   "metadata": {},
   "source": [
    "* We need to sort the data by comparing salaries between employees.\n",
    "* We can define custom comparitor using `key` argument.\n",
    "* Each element or record in the list is comma seperated.\n",
    "* We need to extract the salary as float for right comparison.\n",
    "* Here is how we can extract the salary."
   ]
  },
  {
   "cell_type": "code",
   "execution_count": 58,
   "id": "8e8aaa6b",
   "metadata": {},
   "outputs": [
    {
     "ename": "TypeError",
     "evalue": "'set' object does not support indexing",
     "output_type": "error",
     "traceback": [
      "\u001b[0;31m---------------------------------------------------------------------------\u001b[0m",
      "\u001b[0;31mTypeError\u001b[0m                                 Traceback (most recent call last)",
      "\u001b[0;32m<ipython-input-58-a98c66826219>\u001b[0m in \u001b[0;36m<module>\u001b[0;34m\u001b[0m\n\u001b[1;32m      1\u001b[0m \u001b[0;31m# Reading first element\u001b[0m\u001b[0;34m\u001b[0m\u001b[0;34m\u001b[0m\u001b[0;34m\u001b[0m\u001b[0m\n\u001b[0;32m----> 2\u001b[0;31m \u001b[0memployees\u001b[0m\u001b[0;34m[\u001b[0m\u001b[0;36m0\u001b[0m\u001b[0;34m]\u001b[0m\u001b[0;34m\u001b[0m\u001b[0;34m\u001b[0m\u001b[0m\n\u001b[0m",
      "\u001b[0;31mTypeError\u001b[0m: 'set' object does not support indexing"
     ]
    }
   ],
   "source": [
    "# Reading first element\n",
    "employees[0]"
   ]
  },
  {
   "cell_type": "code",
   "execution_count": 45,
   "id": "c00e736e",
   "metadata": {},
   "outputs": [],
   "source": [
    "emp = employees[0]"
   ]
  },
  {
   "cell_type": "code",
   "execution_count": 46,
   "id": "5f5e7ebc",
   "metadata": {},
   "outputs": [
    {
     "data": {
      "text/plain": [
       "str"
      ]
     },
     "execution_count": 46,
     "metadata": {},
     "output_type": "execute_result"
    }
   ],
   "source": [
    "type(emp)"
   ]
  },
  {
   "cell_type": "code",
   "execution_count": 47,
   "id": "49cc033b",
   "metadata": {},
   "outputs": [
    {
     "data": {
      "text/plain": [
       "['1', 'ktrett0@independent.co.uk', '6998.95']"
      ]
     },
     "execution_count": 47,
     "metadata": {},
     "output_type": "execute_result"
    }
   ],
   "source": [
    "# We can use split with ',' as delimiter.\n",
    "# It will create a list of strings.\n",
    "# The list contains 3 elements - id, email and salary\n",
    "# All 3 will be of type string\n",
    "emp.split(',')"
   ]
  },
  {
   "cell_type": "code",
   "execution_count": 48,
   "id": "a2dfa204",
   "metadata": {},
   "outputs": [],
   "source": [
    "emp_list = emp.split(',')"
   ]
  },
  {
   "cell_type": "code",
   "execution_count": 49,
   "id": "83bed13d",
   "metadata": {},
   "outputs": [
    {
     "data": {
      "text/plain": [
       "list"
      ]
     },
     "execution_count": 49,
     "metadata": {},
     "output_type": "execute_result"
    }
   ],
   "source": [
    "type(emp_list)"
   ]
  },
  {
   "cell_type": "code",
   "execution_count": 50,
   "id": "a44f7f0c",
   "metadata": {},
   "outputs": [
    {
     "name": "stdout",
     "output_type": "stream",
     "text": [
      "Data type of 1 is <class 'str'>\n",
      "Data type of ktrett0@independent.co.uk is <class 'str'>\n",
      "Data type of 6998.95 is <class 'str'>\n"
     ]
    }
   ],
   "source": [
    "for e in emp_list:\n",
    "    print(f'Data type of {e} is {type(e)}')"
   ]
  },
  {
   "cell_type": "code",
   "execution_count": 51,
   "id": "de19de20",
   "metadata": {},
   "outputs": [
    {
     "data": {
      "text/plain": [
       "'6998.95'"
      ]
     },
     "execution_count": 51,
     "metadata": {},
     "output_type": "execute_result"
    }
   ],
   "source": [
    "# Getting salary\n",
    "emp_list[2]"
   ]
  },
  {
   "cell_type": "code",
   "execution_count": 52,
   "id": "349bdd98",
   "metadata": {},
   "outputs": [
    {
     "data": {
      "text/plain": [
       "'6998.95'"
      ]
     },
     "execution_count": 52,
     "metadata": {},
     "output_type": "execute_result"
    }
   ],
   "source": [
    "# We can also -1 to read from the last\n",
    "emp_list[-1]"
   ]
  },
  {
   "cell_type": "code",
   "execution_count": 53,
   "id": "8043f307",
   "metadata": {},
   "outputs": [
    {
     "data": {
      "text/plain": [
       "6998.95"
      ]
     },
     "execution_count": 53,
     "metadata": {},
     "output_type": "execute_result"
    }
   ],
   "source": [
    "# We need to change the data type to float or decimal for right comparison.\n",
    "float(emp_list[-1])"
   ]
  },
  {
   "cell_type": "code",
   "execution_count": 54,
   "id": "b66053b1",
   "metadata": {},
   "outputs": [
    {
     "data": {
      "text/plain": [
       "6998.95"
      ]
     },
     "execution_count": 54,
     "metadata": {},
     "output_type": "execute_result"
    }
   ],
   "source": [
    "# Complete logic\n",
    "float(emp.split(',')[-1])"
   ]
  },
  {
   "cell_type": "code",
   "execution_count": 59,
   "id": "373755b3",
   "metadata": {},
   "outputs": [
    {
     "data": {
      "text/plain": [
       "['3,ecraft2@dell.com,3967.35',\n",
       " '1,ktrett0@independent.co.uk,6998.95',\n",
       " '2,khaddock1@deviantart.com,10572.4',\n",
       " '7,araulston6@list-manage.com,11550.75',\n",
       " '5,graigatt4@github.io,11660.67',\n",
       " '10,bbuye9@vkontakte.ru,12193.2',\n",
       " '9,grobardley8@unesco.org,14141.25',\n",
       " '8,mcobb7@mozilla.com,17016.15',\n",
       " '4,drussam3@t-online.de,17672.44',\n",
       " '6,bjaxon5@salon.com,18614.93']"
      ]
     },
     "execution_count": 59,
     "metadata": {},
     "output_type": "execute_result"
    }
   ],
   "source": [
    "# We can pass the comparison logic to key function in sorted\n",
    "# You can see the output. It is sorted in ascending order by salary.\n",
    "sorted(employees, key=lambda emp: float(emp.split(',')[-1]))"
   ]
  },
  {
   "cell_type": "code",
   "execution_count": 60,
   "id": "7caf2180",
   "metadata": {},
   "outputs": [
    {
     "data": {
      "text/plain": [
       "['6,bjaxon5@salon.com,18614.93',\n",
       " '4,drussam3@t-online.de,17672.44',\n",
       " '8,mcobb7@mozilla.com,17016.15',\n",
       " '9,grobardley8@unesco.org,14141.25',\n",
       " '10,bbuye9@vkontakte.ru,12193.2',\n",
       " '5,graigatt4@github.io,11660.67',\n",
       " '7,araulston6@list-manage.com,11550.75',\n",
       " '2,khaddock1@deviantart.com,10572.4',\n",
       " '1,ktrett0@independent.co.uk,6998.95',\n",
       " '3,ecraft2@dell.com,3967.35']"
      ]
     },
     "execution_count": 60,
     "metadata": {},
     "output_type": "execute_result"
    }
   ],
   "source": [
    "# You can reverse by using reverse keywork argument\n",
    "# reverse will be applied on custom comparison passed as part of key\n",
    "sorted(employees, key=lambda emp: float(emp.split(',')[-1]), reverse=True)"
   ]
  },
  {
   "cell_type": "code",
   "execution_count": null,
   "id": "e790ef87",
   "metadata": {},
   "outputs": [],
   "source": []
  }
 ],
 "metadata": {
  "kernelspec": {
   "display_name": "Python 3",
   "language": "python",
   "name": "python3"
  },
  "language_info": {
   "codemirror_mode": {
    "name": "ipython",
    "version": 3
   },
   "file_extension": ".py",
   "mimetype": "text/x-python",
   "name": "python",
   "nbconvert_exporter": "python",
   "pygments_lexer": "ipython3",
   "version": "3.6.12"
  }
 },
 "nbformat": 4,
 "nbformat_minor": 5
}
