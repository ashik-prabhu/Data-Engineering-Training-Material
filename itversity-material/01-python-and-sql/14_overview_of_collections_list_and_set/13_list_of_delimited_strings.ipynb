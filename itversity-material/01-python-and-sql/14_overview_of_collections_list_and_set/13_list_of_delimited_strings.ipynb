{
 "cells": [
  {
   "cell_type": "markdown",
   "id": "3c96530f",
   "metadata": {},
   "source": [
    "## List of Delimited Strings\n",
    "\n",
    "Let us get into the details about list of delimited strings.\n",
    "* Here is an example of a delimited string - `'1,ktrett0@independent.co.uk,6998.95'`.\n",
    "* Delimiter is a synonym for Separator.\n",
    "* It has values related to 3 attributes - employee id, email and salary.\n",
    "* Comma (`,`) is the delimiter that is used in this string. Hence, it is a **comma delimited string**. It is also known as **comma separated string**.\n",
    "* We typically have to deal with list of elements like the one above. It is generally known as **list of comma separated strings**.\n",
    "* Here is an example for list of comma separated strings related to employees."
   ]
  },
  {
   "cell_type": "code",
   "execution_count": 1,
   "id": "68e58a15",
   "metadata": {},
   "outputs": [],
   "source": [
    "employees = [\n",
    "    '1,ktrett0@independent.co.uk,6998.95',\n",
    "    '2,khaddock1@deviantart.com,10572.4',\n",
    "    '3,ecraft2@dell.com,3967.35',\n",
    "    '4,drussam3@t-online.de,17672.44',\n",
    "    '5,graigatt4@github.io,11660.67',\n",
    "    '6,bjaxon5@salon.com,18614.93',\n",
    "    '7,araulston6@list-manage.com,11550.75',\n",
    "    '8,mcobb7@mozilla.com,17016.15',\n",
    "    '9,grobardley8@unesco.org,14141.25',\n",
    "    '10,bbuye9@vkontakte.ru,12193.2'\n",
    "]"
   ]
  },
  {
   "cell_type": "markdown",
   "id": "925aa513",
   "metadata": {},
   "source": [
    "* The type of employees is `list`. You can run `type(employees)` to get the type of **employees**."
   ]
  },
  {
   "cell_type": "code",
   "execution_count": 2,
   "id": "3eee6902",
   "metadata": {},
   "outputs": [
    {
     "data": {
      "text/plain": [
       "list"
      ]
     },
     "execution_count": 2,
     "metadata": {},
     "output_type": "execute_result"
    }
   ],
   "source": [
    "type(employees)"
   ]
  },
  {
   "cell_type": "markdown",
   "id": "ca83acce",
   "metadata": {},
   "source": [
    "* You can check the data type of each element in the list by running below code."
   ]
  },
  {
   "cell_type": "code",
   "execution_count": 3,
   "id": "321956f6",
   "metadata": {},
   "outputs": [
    {
     "name": "stdout",
     "output_type": "stream",
     "text": [
      "The data type of 1,ktrett0@independent.co.uk,6998.95 is <class 'str'>\n",
      "The data type of 2,khaddock1@deviantart.com,10572.4 is <class 'str'>\n",
      "The data type of 3,ecraft2@dell.com,3967.35 is <class 'str'>\n",
      "The data type of 4,drussam3@t-online.de,17672.44 is <class 'str'>\n",
      "The data type of 5,graigatt4@github.io,11660.67 is <class 'str'>\n",
      "The data type of 6,bjaxon5@salon.com,18614.93 is <class 'str'>\n",
      "The data type of 7,araulston6@list-manage.com,11550.75 is <class 'str'>\n",
      "The data type of 8,mcobb7@mozilla.com,17016.15 is <class 'str'>\n",
      "The data type of 9,grobardley8@unesco.org,14141.25 is <class 'str'>\n",
      "The data type of 10,bbuye9@vkontakte.ru,12193.2 is <class 'str'>\n"
     ]
    }
   ],
   "source": [
    "for employee in employees: \n",
    "    print(f'The data type of {employee} is {type(employee)}')"
   ]
  },
  {
   "cell_type": "markdown",
   "id": "925f8f78",
   "metadata": {},
   "source": [
    "* We can apply string manipulation functions to get the information we are looking for from the original strings that are part of the lists.\n",
    "* Let us extract list of employee email from employees list. We will deep dive about how to process these list of strings as part of topics related to manipulating collections very soon."
   ]
  },
  {
   "cell_type": "code",
   "execution_count": 4,
   "id": "006feb11",
   "metadata": {},
   "outputs": [
    {
     "data": {
      "text/plain": [
       "'1,ktrett0@independent.co.uk,6998.95'"
      ]
     },
     "execution_count": 4,
     "metadata": {},
     "output_type": "execute_result"
    }
   ],
   "source": [
    "employees[0]"
   ]
  },
  {
   "cell_type": "code",
   "execution_count": 5,
   "id": "e48b91cb",
   "metadata": {},
   "outputs": [
    {
     "data": {
      "text/plain": [
       "str"
      ]
     },
     "execution_count": 5,
     "metadata": {},
     "output_type": "execute_result"
    }
   ],
   "source": [
    "type(employees[0])"
   ]
  },
  {
   "cell_type": "code",
   "execution_count": 6,
   "id": "6fcf2c7f",
   "metadata": {},
   "outputs": [
    {
     "data": {
      "text/plain": [
       "['1', 'ktrett0@independent.co.uk', '6998.95']"
      ]
     },
     "execution_count": 6,
     "metadata": {},
     "output_type": "execute_result"
    }
   ],
   "source": [
    "employees[0].split(',')"
   ]
  },
  {
   "cell_type": "code",
   "execution_count": 7,
   "id": "e70ffeeb",
   "metadata": {},
   "outputs": [
    {
     "data": {
      "text/plain": [
       "'ktrett0@independent.co.uk'"
      ]
     },
     "execution_count": 7,
     "metadata": {},
     "output_type": "execute_result"
    }
   ],
   "source": [
    "employees[0].split(',')[1]"
   ]
  },
  {
   "cell_type": "code",
   "execution_count": 8,
   "id": "e4527d8d",
   "metadata": {},
   "outputs": [
    {
     "name": "stdout",
     "output_type": "stream",
     "text": [
      "ktrett0@independent.co.uk\n",
      "khaddock1@deviantart.com\n",
      "ecraft2@dell.com\n",
      "drussam3@t-online.de\n",
      "graigatt4@github.io\n",
      "bjaxon5@salon.com\n",
      "araulston6@list-manage.com\n",
      "mcobb7@mozilla.com\n",
      "grobardley8@unesco.org\n",
      "bbuye9@vkontakte.ru\n"
     ]
    }
   ],
   "source": [
    "for employee in employees: \n",
    "    print(employee.split(',')[1])"
   ]
  },
  {
   "cell_type": "code",
   "execution_count": null,
   "id": "9aff3f03",
   "metadata": {},
   "outputs": [],
   "source": []
  }
 ],
 "metadata": {
  "kernelspec": {
   "display_name": "Python 3",
   "language": "python",
   "name": "python3"
  },
  "language_info": {
   "codemirror_mode": {
    "name": "ipython",
    "version": 3
   },
   "file_extension": ".py",
   "mimetype": "text/x-python",
   "name": "python",
   "nbconvert_exporter": "python",
   "pygments_lexer": "ipython3",
   "version": "3.6.12"
  }
 },
 "nbformat": 4,
 "nbformat_minor": 5
}
