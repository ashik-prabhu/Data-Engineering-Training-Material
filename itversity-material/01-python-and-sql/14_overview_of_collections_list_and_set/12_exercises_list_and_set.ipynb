{
 "cells": [
  {
   "cell_type": "markdown",
   "metadata": {},
   "source": [
    "## Exercises - list and set\n",
    "\n",
    "Let us go through some exercises related to list and set."
   ]
  },
  {
   "cell_type": "markdown",
   "metadata": {},
   "source": [
    "## Get second largest integer\n",
    "\n",
    "Develop a code snippet using list and set manipulation functions to get second largest element from the list.\n",
    "* List: `[1, 5, 2, 1, 7, 5, 7, 3]`\n",
    "* Answer: **5**"
   ]
  },
  {
   "cell_type": "code",
   "execution_count": 6,
   "metadata": {},
   "outputs": [
    {
     "name": "stdout",
     "output_type": "stream",
     "text": [
      "5\n"
     ]
    }
   ],
   "source": [
    "# Your code should go here\n",
    "\n",
    "l= [1, 5, 2, 1, 7, 5, 7, 3]\n",
    "l1=list(set(l))\n",
    "l1.sort(reverse=True)\n",
    "print(l1[1])\n"
   ]
  },
  {
   "cell_type": "markdown",
   "metadata": {},
   "source": [
    "## Get unique values from the list\n",
    "\n",
    "Develop a code to use the below list and generate new list of unique values.\n",
    "* List: `[1, 5, 2, 1, 7, 5, 7, 3]`\n",
    "* Answer: `[1, 2, 3, 5, 7]`\n",
    "* Check the type of the new variable. It should be `list`."
   ]
  },
  {
   "cell_type": "code",
   "execution_count": 7,
   "metadata": {},
   "outputs": [
    {
     "name": "stdout",
     "output_type": "stream",
     "text": [
      "[1, 2, 3, 5, 7]\n"
     ]
    },
    {
     "data": {
      "text/plain": [
       "list"
      ]
     },
     "execution_count": 7,
     "metadata": {},
     "output_type": "execute_result"
    }
   ],
   "source": [
    "# Your code should go here\n",
    "l=[1, 5, 2, 1, 7, 5, 7, 3]\n",
    "s=list(set(l))\n",
    "print(s)\n",
    "type(s)"
   ]
  },
  {
   "cell_type": "markdown",
   "metadata": {},
   "source": [
    "## Extract list of integers\n",
    "\n",
    "Develop a function which take a list as argument and return a new list with only integers. You can develop this using loops.\n",
    "* The list might contain data with different data types.\n",
    "* The new list with only integers should be sorted in descending order.\n",
    "* The new list should only contain unique values"
   ]
  },
  {
   "cell_type": "code",
   "execution_count": null,
   "metadata": {},
   "outputs": [],
   "source": [
    "# Here is how you can access elements in the list using loops.\n",
    "\n",
    "for e in [1, 'Hello', None, 5, 0.15, 1, 5]:\n",
    "    print(e)"
   ]
  },
  {
   "cell_type": "code",
   "execution_count": 12,
   "metadata": {},
   "outputs": [],
   "source": [
    "# You should add the logic here\n",
    "def extract_integers(l):\n",
    "    l_ints = []\n",
    "    for e in l:\n",
    "        if type(e)==int:\n",
    "            l_ints.append(e)\n",
    "    l_ints= list(set(l_ints))\n",
    "    return (sorted(l_ints,reverse=True))"
   ]
  },
  {
   "cell_type": "code",
   "execution_count": 13,
   "metadata": {},
   "outputs": [
    {
     "name": "stdout",
     "output_type": "stream",
     "text": [
      "[5, 1]\n"
     ]
    }
   ],
   "source": [
    "new_list=[]\n",
    "new_list=extract_integers([1, 'Hello', None, 5, 0.15, 1, 5]) # Answer: [5, 1]\n",
    "print(new_list)"
   ]
  },
  {
   "cell_type": "markdown",
   "metadata": {},
   "source": [
    "## Get top n salaries\n",
    "\n",
    "Develop a function which take a list of salaries and give us top n salaries. Solve the problem with out using loops.\n",
    "* The function should take 2 arguments - list of salaries and the top n.\n",
    "* Based up on the value passed as part of second argument, you should get those many top salaries.\n",
    "* We should get only unique top n salaries"
   ]
  },
  {
   "cell_type": "code",
   "execution_count": 16,
   "metadata": {},
   "outputs": [],
   "source": [
    "# You should add the logic here\n",
    "def top_n_salaries(salaries, top_n):\n",
    "    salaries_top_n = []\n",
    "    salaries_top_n.append(sorted(salaries,reverse=True)[0:3])\n",
    "    return salaries_top_n"
   ]
  },
  {
   "cell_type": "code",
   "execution_count": 17,
   "metadata": {},
   "outputs": [],
   "source": [
    "salaries = [\n",
    "    18732.8, 12842.28, 13391.69, 14061.23,\n",
    "    25509.77, 13636.95, 11841.63, 11519.12,\n",
    "    16719.45, 25066.37, 12842.28, 25066.37\n",
    "]"
   ]
  },
  {
   "cell_type": "code",
   "execution_count": 18,
   "metadata": {},
   "outputs": [
    {
     "data": {
      "text/plain": [
       "[[25509.77, 25066.37, 25066.37]]"
      ]
     },
     "execution_count": 18,
     "metadata": {},
     "output_type": "execute_result"
    }
   ],
   "source": [
    "top_n_salaries(salaries, 3)\n",
    "# Output: [25509.77, 25066.37, 18732.8]"
   ]
  },
  {
   "cell_type": "code",
   "execution_count": 19,
   "metadata": {},
   "outputs": [
    {
     "data": {
      "text/plain": [
       "[25509.77, 25066.37, 18732.8, 16719.45, 14061.23]"
      ]
     },
     "execution_count": 19,
     "metadata": {},
     "output_type": "execute_result"
    }
   ],
   "source": [
    "top_n_salaries(salaries, 5)\n",
    "[25509.77, 25066.37, 18732.8, 16719.45, 14061.23]"
   ]
  },
  {
   "cell_type": "code",
   "execution_count": null,
   "metadata": {},
   "outputs": [],
   "source": []
  }
 ],
 "metadata": {
  "kernelspec": {
   "display_name": "Python 3",
   "language": "python",
   "name": "python3"
  },
  "language_info": {
   "codemirror_mode": {
    "name": "ipython",
    "version": 3
   },
   "file_extension": ".py",
   "mimetype": "text/x-python",
   "name": "python",
   "nbconvert_exporter": "python",
   "pygments_lexer": "ipython3",
   "version": "3.6.12"
  }
 },
 "nbformat": 4,
 "nbformat_minor": 4
}
