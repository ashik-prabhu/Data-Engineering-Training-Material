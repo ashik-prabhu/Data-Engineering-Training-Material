{
 "cells": [
  {
   "cell_type": "markdown",
   "metadata": {
    "pycharm": {
     "name": "#%% md"
    }
   },
   "source": [
    "# Overview of Collections - list and set\n",
    "\n",
    "Let us get an overview of list and set as part of the Python Collections.\n",
    "\n",
    "* Overview of list and set\n",
    "* Common Operations\n",
    "* Accessing Elements from Lists\n",
    "* Adding Elements to list\n",
    "* Updating and Deleting Elements - list\n",
    "* Other list operations\n",
    "* Adding and Deleting elements - set\n",
    "* Typical set operations\n",
    "* Validating set\n",
    "* list and set - Usage\n",
    "* Exercises - list and set\n",
    "* list of delimited strings\n",
    "* Sorting data in lists and sets\n",
    "* Exercies - Sorting lists and sets"
   ]
  },
  {
   "cell_type": "code",
   "execution_count": null,
   "metadata": {},
   "outputs": [],
   "source": []
  }
 ],
 "metadata": {
  "kernelspec": {
   "display_name": "Python 3",
   "language": "python",
   "name": "python3"
  },
  "language_info": {
   "codemirror_mode": {
    "name": "ipython",
    "version": 3
   },
   "file_extension": ".py",
   "mimetype": "text/x-python",
   "name": "python",
   "nbconvert_exporter": "python",
   "pygments_lexer": "ipython3",
   "version": "3.6.12"
  }
 },
 "nbformat": 4,
 "nbformat_minor": 4
}
