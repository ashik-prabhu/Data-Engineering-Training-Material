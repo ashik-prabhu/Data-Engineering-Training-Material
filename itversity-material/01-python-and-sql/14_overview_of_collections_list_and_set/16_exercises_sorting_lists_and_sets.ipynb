{
 "cells": [
  {
   "cell_type": "markdown",
   "id": "9b86626b",
   "metadata": {
    "tags": []
   },
   "source": [
    "## Exercises - Sorting lists and sets\n",
    "\n",
    "Let us perform few exercises to sort lists and sets."
   ]
  },
  {
   "cell_type": "markdown",
   "id": "961e6b54",
   "metadata": {},
   "source": [
    "### Exercise 1 - Sort Players by name\n",
    "\n",
    "Sort famous players by their name. The list contains comma separated strings with player name followed by the sport they play."
   ]
  },
  {
   "cell_type": "code",
   "execution_count": 2,
   "id": "3cb105e9",
   "metadata": {},
   "outputs": [],
   "source": [
    "famous_players = ['Pete Sampras,Tennis',\n",
    " 'Sachin Tendulkar,Cricket',\n",
    " 'Brian Lara,Cricket',\n",
    " 'Diego Maradona,Soccer',\n",
    " 'Roger Federer,Tennis',\n",
    " 'Ian Thorpe,Swimming',\n",
    " 'Ronaldo,Soccer',\n",
    " 'Usain Bolt,Running',\n",
    " 'P. V. Sindhu,Badminton',\n",
    " 'Shane Warne,Cricket',\n",
    " 'David Beckham,Cricket',\n",
    " 'Michael Phelps,Swimming']"
   ]
  },
  {
   "cell_type": "code",
   "execution_count": 4,
   "id": "022b30d7",
   "metadata": {},
   "outputs": [
    {
     "data": {
      "text/plain": [
       "['Brian Lara,Cricket',\n",
       " 'David Beckham,Cricket',\n",
       " 'Diego Maradona,Soccer',\n",
       " 'Ian Thorpe,Swimming',\n",
       " 'Michael Phelps,Swimming',\n",
       " 'P. V. Sindhu,Badminton',\n",
       " 'Pete Sampras,Tennis',\n",
       " 'Roger Federer,Tennis',\n",
       " 'Ronaldo,Soccer',\n",
       " 'Sachin Tendulkar,Cricket',\n",
       " 'Shane Warne,Cricket',\n",
       " 'Usain Bolt,Running']"
      ]
     },
     "execution_count": 4,
     "metadata": {},
     "output_type": "execute_result"
    }
   ],
   "source": [
    "# Your code should go here\n",
    "sorted(famous_players,key=lambda name: name.split(',')[0])"
   ]
  },
  {
   "cell_type": "markdown",
   "id": "90e6f218",
   "metadata": {},
   "source": [
    "* Here is the desired output.\n",
    "```python\n",
    "['Brian Lara,Cricket',\n",
    " 'David Beckham,Cricket',\n",
    " 'Diego Maradona,Soccer',\n",
    " 'Ian Thorpe,Swimming',\n",
    " 'Michael Phelps,Swimming',\n",
    " 'P. V. Sindhu,Badminton',\n",
    " 'Pete Sampras,Tennis',\n",
    " 'Roger Federer,Tennis',\n",
    " 'Ronaldo,Soccer',\n",
    " 'Sachin Tendulkar,Cricket',\n",
    " 'Shane Warne,Cricket',\n",
    " 'Usain Bolt,Running']\n",
    "```"
   ]
  },
  {
   "cell_type": "markdown",
   "id": "e284a01b",
   "metadata": {},
   "source": [
    "### Exercise 2 - Sort Players by sport and then by name\n",
    "\n",
    "Sort famous players by the sport name. The list contains comma separated strings with player name followed by the sport they play. You need to sort the data by sport and then with in each sport you need to sort by name of the player. \n",
    "\n",
    "**The process of sorting data on multiple attributes is known as composite sorting. This is an exercise related to composite sorting based on 2 fields.**"
   ]
  },
  {
   "cell_type": "code",
   "execution_count": 5,
   "id": "f5911df9",
   "metadata": {},
   "outputs": [],
   "source": [
    "famous_players = ['Pete Sampras,Tennis',\n",
    " 'Sachin Tendulkar,Cricket',\n",
    " 'Brian Lara,Cricket',\n",
    " 'Diego Maradona,Soccer',\n",
    " 'Roger Federer,Tennis',\n",
    " 'Ian Thorpe,Swimming',\n",
    " 'Ronaldo,Soccer',\n",
    " 'Usain Bolt,Running',\n",
    " 'P. V. Sindhu,Badminton',\n",
    " 'Shane Warne,Cricket',\n",
    " 'David Beckham,Cricket',\n",
    " 'Michael Phelps,Swimming']"
   ]
  },
  {
   "cell_type": "code",
   "execution_count": 6,
   "id": "c3a79c91",
   "metadata": {},
   "outputs": [
    {
     "data": {
      "text/plain": [
       "['Roger Federer,Tennis',\n",
       " 'Pete Sampras,Tennis',\n",
       " 'Michael Phelps,Swimming',\n",
       " 'Ian Thorpe,Swimming',\n",
       " 'Ronaldo,Soccer',\n",
       " 'Diego Maradona,Soccer',\n",
       " 'Usain Bolt,Running',\n",
       " 'Shane Warne,Cricket',\n",
       " 'Sachin Tendulkar,Cricket',\n",
       " 'David Beckham,Cricket',\n",
       " 'Brian Lara,Cricket',\n",
       " 'P. V. Sindhu,Badminton']"
      ]
     },
     "execution_count": 6,
     "metadata": {},
     "output_type": "execute_result"
    }
   ],
   "source": [
    "# Your code should go here\n",
    "sorted(famous_players,key=lambda palyer: (palyer.split(',')[1],palyer.split(',')[0]))"
   ]
  },
  {
   "cell_type": "markdown",
   "id": "23c5dfa6",
   "metadata": {},
   "source": [
    "* Here is the desired output.\n",
    "```python\n",
    "['P. V. Sindhu,Badminton',\n",
    " 'Sachin Tendulkar,Cricket',\n",
    " 'Brian Lara,Cricket',\n",
    " 'Shane Warne,Cricket',\n",
    " 'David Beckham,Cricket',\n",
    " 'Usain Bolt,Running',\n",
    " 'Diego Maradona,Soccer',\n",
    " 'Ronaldo,Soccer',\n",
    " 'Ian Thorpe,Swimming',\n",
    " 'Michael Phelps,Swimming',\n",
    " 'Pete Sampras,Tennis',\n",
    " 'Roger Federer,Tennis']\n",
    "```"
   ]
  },
  {
   "cell_type": "markdown",
   "id": "95ac04c1",
   "metadata": {},
   "source": [
    "### Exercise 3 - Sort inventory by quantity\n",
    "\n",
    "Sort the set of inventory by quantity. Each element of the set is of type string where we have inventory item and corresponding quantity separated by **:**.\n",
    "* Please note that, quantity is missing for couple of items.\n",
    "* Data should be sorted in ascending order by quantity numerically.\n",
    "* The items with missing quantity should come on top."
   ]
  },
  {
   "cell_type": "code",
   "execution_count": 1,
   "id": "a7ac6f8e",
   "metadata": {},
   "outputs": [],
   "source": [
    "inventory = {'almond milk:5',\n",
    " 'cake mix:50',\n",
    " 'cardamom:2',\n",
    " 'cashews:',\n",
    " 'pistachios:3',\n",
    " 'rice:50',\n",
    " 'sugar:10',\n",
    " 'vegetable oil:',\n",
    " 'wheat:300'}"
   ]
  },
  {
   "cell_type": "code",
   "execution_count": 3,
   "id": "7d20ae5d",
   "metadata": {},
   "outputs": [
    {
     "data": {
      "text/plain": [
       "['vegetable oil:',\n",
       " 'cashews:',\n",
       " 'cardamom:2',\n",
       " 'pistachios:3',\n",
       " 'almond milk:5',\n",
       " 'sugar:10',\n",
       " 'rice:50',\n",
       " 'cake mix:50',\n",
       " 'wheat:300']"
      ]
     },
     "execution_count": 3,
     "metadata": {},
     "output_type": "execute_result"
    }
   ],
   "source": [
    "# Your code should 6go here\n",
    "sorted(inventory,key=lambda invent: int(invent.split(':')[1]) if invent.split(':')[1] else 0 )"
   ]
  },
  {
   "cell_type": "code",
   "execution_count": null,
   "id": "7661e956",
   "metadata": {},
   "outputs": [],
   "source": []
  },
  {
   "cell_type": "markdown",
   "id": "354a9719",
   "metadata": {},
   "source": [
    "* Here is the desired output\n",
    "\n",
    "```python\n",
    "['cashews:',\n",
    " 'vegetable oil:',\n",
    " 'cardamom:2',\n",
    " 'pistachios:3',\n",
    " 'almond milk:5',\n",
    " 'sugar:10',\n",
    " 'cake mix:50',\n",
    " 'rice:50',\n",
    " 'wheat:300']\n",
    "```"
   ]
  },
  {
   "cell_type": "markdown",
   "id": "462c8b16",
   "metadata": {},
   "source": [
    "### Exercise 4 - Sorting by Number of Enrollments\n",
    "\n",
    "Let us sort the data by number of enrollments in descending order.\n",
    "* We have list of courses. Each course have several attribute values which are comma separated or delimited.\n",
    "* Here is an example for one course. Each course record is of type string.\n",
    "```python\n",
    "'1,2020 Complete Python Bootcamp: From Zero to Hero in Python,Beginner,1100093,4.6,318066'\n",
    "```\n",
    "* We have course id, course title, suitable for or level (3rd attribute), number of enrollments (4th attribute), cumulative rating and then number of ratings for each course.\n",
    "* We need to sort the data based on number of enrollments in descending order."
   ]
  },
  {
   "cell_type": "code",
   "execution_count": 66,
   "id": "fc9302b4",
   "metadata": {},
   "outputs": [],
   "source": [
    "courses = ['1,2020 Complete Python Bootcamp: From Zero to Hero in Python,Beginner,1100093,4.6,318066',\n",
    " '4,Angular - The Complete Guide (2020 Edition),Intermediate,422557,4.6,129984',\n",
    " '12,Automate the Boring Stuff with Python Programming,Advanced,692617,4.6,70508',\n",
    " '10,Complete C# Unity Game Developer 2D,Advanced,364934,4.6,78989',\n",
    " '5,Java Programming Masterclass for Software Developers,Advanced,502572,4.6,123798',\n",
    " '15,Learn Python Programming Masterclass,Advanced,240790,4.5,58677',\n",
    " '3,Machine Learning A-Z™: Hands-On Python & R In Data Science,Intermediate,692812,4.5,132228',\n",
    " '14,Modern React with Redux [2020 Update],Intermediate,203214,4.7,60835',\n",
    " '8,Python for Data Science and Machine Learning Bootcamp,Intermediate,387789,4.6,87403',\n",
    " '18,Selenium WebDriver with Java -Basics to Advanced+Frameworks,Advanced,148562,4.6,49947',\n",
    " '21,Spring & Hibernate for Beginners (includes Spring Boot),Advanced,177053,4.6,45329',\n",
    " '7,The Complete 2020 Web Development Bootcamp,Beginner,270656,4.7,88098',\n",
    " '9,The Complete JavaScript Course 2020: Build Real Projects!,Intermediate,347979,4.6,83521',\n",
    " '16,The Complete Node.js Developer Course (3rd Edition),Advanced,202922,4.7,50885',\n",
    " '13,The Complete Web Developer Course 2.0,Intermediate,273598,4.5,63175',\n",
    " '11,The Data Science Course 2020: Complete Data Science Bootcamp,Beginner,325047,4.5,76907',\n",
    " '20,The Ultimate MySQL Bootcamp: Go from SQL Beginner to Expert,Beginner,203366,4.6,45382',\n",
    " '2,The Web Developer Bootcamp,Beginner,596726,4.6,182997',\n",
    " '19,Unreal Engine C++ Developer: Learn C++ and Make Video Games,Advanced,229005,4.5,45860',\n",
    " '17,iOS 13 & Swift 5 - The Complete iOS App Development Bootcamp,Advanced,179598,4.8,49972']"
   ]
  },
  {
   "cell_type": "code",
   "execution_count": 68,
   "id": "77ed2146",
   "metadata": {},
   "outputs": [
    {
     "data": {
      "text/plain": [
       "['1,2020 Complete Python Bootcamp: From Zero to Hero in Python,Beginner,1100093,4.6,318066',\n",
       " '3,Machine Learning A-Z™: Hands-On Python & R In Data Science,Intermediate,692812,4.5,132228',\n",
       " '12,Automate the Boring Stuff with Python Programming,Advanced,692617,4.6,70508',\n",
       " '2,The Web Developer Bootcamp,Beginner,596726,4.6,182997',\n",
       " '5,Java Programming Masterclass for Software Developers,Advanced,502572,4.6,123798',\n",
       " '4,Angular - The Complete Guide (2020 Edition),Intermediate,422557,4.6,129984',\n",
       " '8,Python for Data Science and Machine Learning Bootcamp,Intermediate,387789,4.6,87403',\n",
       " '10,Complete C# Unity Game Developer 2D,Advanced,364934,4.6,78989',\n",
       " '9,The Complete JavaScript Course 2020: Build Real Projects!,Intermediate,347979,4.6,83521',\n",
       " '11,The Data Science Course 2020: Complete Data Science Bootcamp,Beginner,325047,4.5,76907',\n",
       " '13,The Complete Web Developer Course 2.0,Intermediate,273598,4.5,63175',\n",
       " '7,The Complete 2020 Web Development Bootcamp,Beginner,270656,4.7,88098',\n",
       " '15,Learn Python Programming Masterclass,Advanced,240790,4.5,58677',\n",
       " '19,Unreal Engine C++ Developer: Learn C++ and Make Video Games,Advanced,229005,4.5,45860',\n",
       " '20,The Ultimate MySQL Bootcamp: Go from SQL Beginner to Expert,Beginner,203366,4.6,45382',\n",
       " '14,Modern React with Redux [2020 Update],Intermediate,203214,4.7,60835',\n",
       " '16,The Complete Node.js Developer Course (3rd Edition),Advanced,202922,4.7,50885',\n",
       " '17,iOS 13 & Swift 5 - The Complete iOS App Development Bootcamp,Advanced,179598,4.8,49972',\n",
       " '21,Spring & Hibernate for Beginners (includes Spring Boot),Advanced,177053,4.6,45329',\n",
       " '18,Selenium WebDriver with Java -Basics to Advanced+Frameworks,Advanced,148562,4.6,49947']"
      ]
     },
     "execution_count": 68,
     "metadata": {},
     "output_type": "execute_result"
    }
   ],
   "source": [
    "# Your code should go here.\n",
    "sorted(courses,key=lambda course: int(course.split(',')[3]),reverse=True)"
   ]
  },
  {
   "cell_type": "markdown",
   "id": "07f8880a",
   "metadata": {},
   "source": [
    "* Here is the desired output.\n",
    "\n",
    "```python\n",
    "['1,2020 Complete Python Bootcamp: From Zero to Hero in Python,Beginner,1100093,4.6,318066',\n",
    " '3,Machine Learning A-Z™: Hands-On Python & R In Data Science,Intermediate,692812,4.5,132228',\n",
    " '12,Automate the Boring Stuff with Python Programming,Advanced,692617,4.6,70508',\n",
    " '2,The Web Developer Bootcamp,Beginner,596726,4.6,182997',\n",
    " '5,Java Programming Masterclass for Software Developers,Advanced,502572,4.6,123798',\n",
    " '4,Angular - The Complete Guide (2020 Edition),Intermediate,422557,4.6,129984',\n",
    " '8,Python for Data Science and Machine Learning Bootcamp,Intermediate,387789,4.6,87403',\n",
    " '10,Complete C# Unity Game Developer 2D,Advanced,364934,4.6,78989',\n",
    " '9,The Complete JavaScript Course 2020: Build Real Projects!,Intermediate,347979,4.6,83521',\n",
    " '11,The Data Science Course 2020: Complete Data Science Bootcamp,Beginner,325047,4.5,76907',\n",
    " '13,The Complete Web Developer Course 2.0,Intermediate,273598,4.5,63175',\n",
    " '7,The Complete 2020 Web Development Bootcamp,Beginner,270656,4.7,88098',\n",
    " '15,Learn Python Programming Masterclass,Advanced,240790,4.5,58677',\n",
    " '19,Unreal Engine C++ Developer: Learn C++ and Make Video Games,Advanced,229005,4.5,45860',\n",
    " '20,The Ultimate MySQL Bootcamp: Go from SQL Beginner to Expert,Beginner,203366,4.6,45382',\n",
    " '14,Modern React with Redux [2020 Update],Intermediate,203214,4.7,60835',\n",
    " '16,The Complete Node.js Developer Course (3rd Edition),Advanced,202922,4.7,50885',\n",
    " '17,iOS 13 & Swift 5 - The Complete iOS App Development Bootcamp,Advanced,179598,4.8,49972',\n",
    " '21,Spring & Hibernate for Beginners (includes Spring Boot),Advanced,177053,4.6,45329',\n",
    " '18,Selenium WebDriver with Java -Basics to Advanced+Frameworks,Advanced,148562,4.6,49947']\n",
    "```"
   ]
  },
  {
   "cell_type": "markdown",
   "id": "1689d6a6",
   "metadata": {},
   "source": [
    "### Exercise 5 - Sorting by Level and Enrollments\n",
    "\n",
    "Let us sort the data by level and then by enrollments in descending order.\n",
    "* We have list of courses. Each course have several attribute values which are comma separated or delimited.\n",
    "* Here is an example for one course. Each course record is of type string.\n",
    "```python\n",
    "'1,2020 Complete Python Bootcamp: From Zero to Hero in Python,Beginner,1100093,4.6,318066'\n",
    "```\n",
    "* We have course id, course title, suitable for or level (3rd attribute), number of enrollments (4th attribute), cumulative rating and then number of ratings for each course.\n",
    "* We need to sort the data based on level in ascending order and then by number of enrollments in descending order."
   ]
  },
  {
   "cell_type": "code",
   "execution_count": 27,
   "id": "91decf6c",
   "metadata": {},
   "outputs": [],
   "source": [
    "courses = ['1,2020 Complete Python Bootcamp: From Zero to Hero in Python,Beginner,1100093,4.6,318066',\n",
    " '4,Angular - The Complete Guide (2020 Edition),Intermediate,422557,4.6,129984',\n",
    " '12,Automate the Boring Stuff with Python Programming,Advanced,692617,4.6,70508',\n",
    " '10,Complete C# Unity Game Developer 2D,Advanced,364934,4.6,78989',\n",
    " '5,Java Programming Masterclass for Software Developers,Advanced,502572,4.6,123798',\n",
    " '15,Learn Python Programming Masterclass,Advanced,240790,4.5,58677',\n",
    " '3,Machine Learning A-Z™: Hands-On Python & R In Data Science,Intermediate,692812,4.5,132228',\n",
    " '14,Modern React with Redux [2020 Update],Intermediate,203214,4.7,60835',\n",
    " '8,Python for Data Science and Machine Learning Bootcamp,Intermediate,387789,4.6,87403',\n",
    " '18,Selenium WebDriver with Java -Basics to Advanced+Frameworks,Advanced,148562,4.6,49947',\n",
    " '21,Spring & Hibernate for Beginners (includes Spring Boot),Advanced,177053,4.6,45329',\n",
    " '7,The Complete 2020 Web Development Bootcamp,Beginner,270656,4.7,88098',\n",
    " '9,The Complete JavaScript Course 2020: Build Real Projects!,Intermediate,347979,4.6,83521',\n",
    " '16,The Complete Node.js Developer Course (3rd Edition),Advanced,202922,4.7,50885',\n",
    " '13,The Complete Web Developer Course 2.0,Intermediate,273598,4.5,63175',\n",
    " '11,The Data Science Course 2020: Complete Data Science Bootcamp,Beginner,325047,4.5,76907',\n",
    " '20,The Ultimate MySQL Bootcamp: Go from SQL Beginner to Expert,Beginner,203366,4.6,45382',\n",
    " '2,The Web Developer Bootcamp,Beginner,596726,4.6,182997',\n",
    " '19,Unreal Engine C++ Developer: Learn C++ and Make Video Games,Advanced,229005,4.5,45860',\n",
    " '17,iOS 13 & Swift 5 - The Complete iOS App Development Bootcamp,Advanced,179598,4.8,49972']"
   ]
  },
  {
   "cell_type": "code",
   "execution_count": 33,
   "id": "ac4eceb8",
   "metadata": {},
   "outputs": [
    {
     "data": {
      "text/plain": [
       "['12,Automate the Boring Stuff with Python Programming,Advanced,692617,4.6,70508',\n",
       " '5,Java Programming Masterclass for Software Developers,Advanced,502572,4.6,123798',\n",
       " '10,Complete C# Unity Game Developer 2D,Advanced,364934,4.6,78989',\n",
       " '15,Learn Python Programming Masterclass,Advanced,240790,4.5,58677',\n",
       " '19,Unreal Engine C++ Developer: Learn C++ and Make Video Games,Advanced,229005,4.5,45860',\n",
       " '16,The Complete Node.js Developer Course (3rd Edition),Advanced,202922,4.7,50885',\n",
       " '17,iOS 13 & Swift 5 - The Complete iOS App Development Bootcamp,Advanced,179598,4.8,49972',\n",
       " '21,Spring & Hibernate for Beginners (includes Spring Boot),Advanced,177053,4.6,45329',\n",
       " '18,Selenium WebDriver with Java -Basics to Advanced+Frameworks,Advanced,148562,4.6,49947',\n",
       " '1,2020 Complete Python Bootcamp: From Zero to Hero in Python,Beginner,1100093,4.6,318066',\n",
       " '2,The Web Developer Bootcamp,Beginner,596726,4.6,182997',\n",
       " '11,The Data Science Course 2020: Complete Data Science Bootcamp,Beginner,325047,4.5,76907',\n",
       " '7,The Complete 2020 Web Development Bootcamp,Beginner,270656,4.7,88098',\n",
       " '20,The Ultimate MySQL Bootcamp: Go from SQL Beginner to Expert,Beginner,203366,4.6,45382',\n",
       " '3,Machine Learning A-Z™: Hands-On Python & R In Data Science,Intermediate,692812,4.5,132228',\n",
       " '4,Angular - The Complete Guide (2020 Edition),Intermediate,422557,4.6,129984',\n",
       " '8,Python for Data Science and Machine Learning Bootcamp,Intermediate,387789,4.6,87403',\n",
       " '9,The Complete JavaScript Course 2020: Build Real Projects!,Intermediate,347979,4.6,83521',\n",
       " '13,The Complete Web Developer Course 2.0,Intermediate,273598,4.5,63175',\n",
       " '14,Modern React with Redux [2020 Update],Intermediate,203214,4.7,60835']"
      ]
     },
     "execution_count": 33,
     "metadata": {},
     "output_type": "execute_result"
    }
   ],
   "source": [
    "# Your code should go here.\n",
    "sorted_by_roll_nos=sorted(courses,key=lambda course: int(course.split(',')[3]),reverse=True)\n",
    "sorted(sorted_by_roll_nos,key=lambda sorted_by_roll_n:sorted_by_roll_n.split(',')[2])"
   ]
  },
  {
   "cell_type": "markdown",
   "id": "f692eb3a",
   "metadata": {},
   "source": [
    "* Here is the desired output.\n",
    "\n",
    "```python\n",
    "['12,Automate the Boring Stuff with Python Programming,Advanced,692617,4.6,70508',\n",
    " '5,Java Programming Masterclass for Software Developers,Advanced,502572,4.6,123798',\n",
    " '10,Complete C# Unity Game Developer 2D,Advanced,364934,4.6,78989',\n",
    " '15,Learn Python Programming Masterclass,Advanced,240790,4.5,58677',\n",
    " '19,Unreal Engine C++ Developer: Learn C++ and Make Video Games,Advanced,229005,4.5,45860',\n",
    " '16,The Complete Node.js Developer Course (3rd Edition),Advanced,202922,4.7,50885',\n",
    " '17,iOS 13 & Swift 5 - The Complete iOS App Development Bootcamp,Advanced,179598,4.8,49972',\n",
    " '21,Spring & Hibernate for Beginners (includes Spring Boot),Advanced,177053,4.6,45329',\n",
    " '18,Selenium WebDriver with Java -Basics to Advanced+Frameworks,Advanced,148562,4.6,49947',\n",
    " '1,2020 Complete Python Bootcamp: From Zero to Hero in Python,Beginner,1100093,4.6,318066',\n",
    " '2,The Web Developer Bootcamp,Beginner,596726,4.6,182997',\n",
    " '11,The Data Science Course 2020: Complete Data Science Bootcamp,Beginner,325047,4.5,76907',\n",
    " '7,The Complete 2020 Web Development Bootcamp,Beginner,270656,4.7,88098',\n",
    " '20,The Ultimate MySQL Bootcamp: Go from SQL Beginner to Expert,Beginner,203366,4.6,45382',\n",
    " '3,Machine Learning A-Z™: Hands-On Python & R In Data Science,Intermediate,692812,4.5,132228',\n",
    " '4,Angular - The Complete Guide (2020 Edition),Intermediate,422557,4.6,129984',\n",
    " '8,Python for Data Science and Machine Learning Bootcamp,Intermediate,387789,4.6,87403',\n",
    " '9,The Complete JavaScript Course 2020: Build Real Projects!,Intermediate,347979,4.6,83521',\n",
    " '13,The Complete Web Developer Course 2.0,Intermediate,273598,4.5,63175',\n",
    " '14,Modern React with Redux [2020 Update],Intermediate,203214,4.7,60835']\n",
    "```"
   ]
  }
 ],
 "metadata": {
  "kernelspec": {
   "display_name": "Python 3",
   "language": "python",
   "name": "python3"
  },
  "language_info": {
   "codemirror_mode": {
    "name": "ipython",
    "version": 3
   },
   "file_extension": ".py",
   "mimetype": "text/x-python",
   "name": "python",
   "nbconvert_exporter": "python",
   "pygments_lexer": "ipython3",
   "version": "3.6.12"
  }
 },
 "nbformat": 4,
 "nbformat_minor": 5
}
