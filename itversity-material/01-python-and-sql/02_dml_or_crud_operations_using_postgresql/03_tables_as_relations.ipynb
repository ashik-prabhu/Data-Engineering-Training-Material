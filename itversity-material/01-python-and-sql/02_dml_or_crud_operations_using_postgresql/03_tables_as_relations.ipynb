{
 "cells": [
  {
   "cell_type": "markdown",
   "metadata": {},
   "source": [
    "## Tables as Relations\n",
    "\n",
    "Let us understand details about relations and different types of relationships we typically use.\n",
    "\n",
    "* In RDBMS - R stands for Relational.\n",
    "* In the transactional systems, tables are created using normalization principles. There will be relations or tables created based on relationships among them.\n",
    "* Here are the typical relationships among the tables.\n",
    "  * 1 to 1\n",
    "  * 1 to many or many to 1 (1 to n or n to 1)\n",
    "  * many to many (m to n)\n",
    "* To **enforce** relationships we typically define constraints such as **Primary Key** and **Foreign Key**.\n",
    "* Here is the typical process we follow from requirements to physical database tables before building applications.\n",
    "  * Identify entities based up on the requirements.\n",
    "  * Define relationships among them.\n",
    "  * Create ER Diagram (Entity Relationship Diagram). It is also called as Logical Data Model.\n",
    "  * Apply Normalization Principles on the entities to identify tables and constraints to manage relationships among them.\n",
    "  * Come up with Physical Data Model and generate required DDL Scripts.\n",
    "  * Execute the scripts in the database on which applications will be eventually build based up on business requirements.\n",
    "* Logical modeling is typically done by Data Architects.\n",
    "* Physical modeling is taken care by Application Architect or Development lead.\n",
    "* Let us go through [data model](https://docs.oracle.com/cd/B28359_01/server.111/b28328/diagrams.htm) related to HR and OE systems.\n",
    "  * Identify the relationships between the tables.\n",
    "  * Differentiate between transactional tables and non transactional tables."
   ]
  }
 ],
 "metadata": {
  "kernelspec": {
   "display_name": "Python 3",
   "language": "python",
   "name": "python3"
  },
  "language_info": {
   "codemirror_mode": {
    "name": "ipython",
    "version": 3
   },
   "file_extension": ".py",
   "mimetype": "text/x-python",
   "name": "python",
   "nbconvert_exporter": "python",
   "pygments_lexer": "ipython3",
   "version": "3.6.12"
  }
 },
 "nbformat": 4,
 "nbformat_minor": 4
}
