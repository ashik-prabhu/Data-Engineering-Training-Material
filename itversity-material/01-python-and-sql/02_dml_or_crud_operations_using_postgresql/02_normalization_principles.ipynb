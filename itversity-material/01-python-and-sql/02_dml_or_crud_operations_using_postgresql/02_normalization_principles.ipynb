{
 "cells": [
  {
   "cell_type": "markdown",
   "metadata": {},
   "source": [
    "## Normalization Principles\n",
    "\n",
    "Let us get an overview about Normalization Principles.\n",
    "\n",
    "Here are different normal forms we use. Provided links are from Wiki.\n",
    "* [1st Normal Form](https://en.wikipedia.org/wiki/First_normal_form)\n",
    "* [2nd Normal Form](https://en.wikipedia.org/wiki/Second_normal_form)\n",
    "* [3rd Normal Form](https://en.wikipedia.org/wiki/Third_normal_form)\n",
    "* [Boyce Codd Normal Form](https://en.wikipedia.org/wiki/Boyce–Codd_normal_form)\n",
    "\n",
    "Most of the well designed Data Models will be in either 3rd Normal Form. BCNF is used in some extreme cases where 3rd Normal Form does not eliminate all insertion, updation and deletion anomalies.\n",
    "\n",
    "### Reporting Environments\n",
    "While normalization is extensively used for transactional systems, they are not ideal for reporting or descision support systems. We tend to use dimensional modeling for reporting systems where tables will contain pre processed data as per the report requirements."
   ]
  },
  {
   "cell_type": "markdown",
   "metadata": {},
   "source": [
    "### Normal Forms - Key Terms\n",
    "\n",
    "Let us understand some of the key terms we use while going through the normal forms.\n",
    "* Domain\n",
    "* Attribute\n",
    "* Atomic (indivisible)\n",
    "* Functionally Dependent\n",
    "* Prime Attribute\n",
    "* Candidate Key\n",
    "* Data Anomalies - potential issues to data due to the mistakes by users or developers\n",
    "* Transitive Dependency\n"
   ]
  }
 ],
 "metadata": {
  "kernelspec": {
   "display_name": "Python 3",
   "language": "python",
   "name": "python3"
  },
  "language_info": {
   "codemirror_mode": {
    "name": "ipython",
    "version": 3
   },
   "file_extension": ".py",
   "mimetype": "text/x-python",
   "name": "python",
   "nbconvert_exporter": "python",
   "pygments_lexer": "ipython3",
   "version": "3.6.12"
  }
 },
 "nbformat": 4,
 "nbformat_minor": 4
}
