{
 "cells": [
  {
   "cell_type": "markdown",
   "metadata": {},
   "source": [
    "## Overview of Transactions\n",
    "\n",
    "Let us go through the details related to Transactions.* We typically perform operations such as `COMMIT` and `ROLLBACK` via the applications.\n",
    "* `COMMIT` will persist the changes in the database.\n",
    "* `ROLLBACK` will revert the uncommitted changes in the database.\n",
    "* We typically rollback the uncommitted changes in a transaction if there is any exception as part of the application logic flow.\n",
    "* For example, once the order is placed all the items that are added to shopping cart will be rolled back if the payment using credit card fails.\n",
    "* By default every operation is typically committed in Postgres. We will get into the details related to transaction as part of application development later.\n",
    "* Commands such as `COMMIT`, `ROLLBACK` typically comes under TCL (Transaction Control Language)"
   ]
  }
 ],
 "metadata": {
  "kernelspec": {
   "display_name": "Python 3",
   "language": "python",
   "name": "python3"
  },
  "language_info": {
   "codemirror_mode": {
    "name": "ipython",
    "version": 3
   },
   "file_extension": ".py",
   "mimetype": "text/x-python",
   "name": "python",
   "nbconvert_exporter": "python",
   "pygments_lexer": "ipython3",
   "version": "3.6.12"
  }
 },
 "nbformat": 4,
 "nbformat_minor": 4
}
