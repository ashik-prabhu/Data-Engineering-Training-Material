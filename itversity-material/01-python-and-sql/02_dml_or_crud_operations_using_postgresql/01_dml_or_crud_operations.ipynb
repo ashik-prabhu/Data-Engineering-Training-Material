{
 "cells": [
  {
   "cell_type": "markdown",
   "metadata": {},
   "source": [
    "# DML or CRUD Operations\n",
    "\n",
    "Let us understand how to perform CRUD operations using Postgresql.\n",
    "\n",
    "* Normalization Principles\n",
    "* Tables as Relations\n",
    "* Database Operations - Overview\n",
    "* CRUD Operations\n",
    "* Creating Table\n",
    "* Inserting Data\n",
    "* Updating Data\n",
    "* Deleting Data\n",
    "* Overview of Transactions\n",
    "* Exercise - Database Operations\n",
    "\n",
    "Here are the key objectives of this section.\n",
    "* What are the different types of Database Operations?\n",
    "* How DML is related to CRUD Operations?\n",
    "* How to insert new records into table?\n",
    "* How to update existing data in a table?\n",
    "* How the data is typically deleted from a table?\n",
    "* You will also get a brief overview about Database Operations?\n",
    "* Self evaluate whether you gain enough skills related to performing CRUD or DML operations or not using exercieses"
   ]
  }
 ],
 "metadata": {
  "kernelspec": {
   "display_name": "Python 3",
   "language": "python",
   "name": "python3"
  },
  "language_info": {
   "codemirror_mode": {
    "name": "ipython",
    "version": 3
   },
   "file_extension": ".py",
   "mimetype": "text/x-python",
   "name": "python",
   "nbconvert_exporter": "python",
   "pygments_lexer": "ipython3",
   "version": "3.6.12"
  }
 },
 "nbformat": 4,
 "nbformat_minor": 4
}
