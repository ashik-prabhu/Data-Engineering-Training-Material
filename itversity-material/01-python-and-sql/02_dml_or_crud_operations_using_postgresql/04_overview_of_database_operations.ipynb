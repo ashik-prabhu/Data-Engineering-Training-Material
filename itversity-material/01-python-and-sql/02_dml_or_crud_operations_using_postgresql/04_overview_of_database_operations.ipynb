{
 "cells": [
  {
   "cell_type": "markdown",
   "metadata": {},
   "source": [
    "## Database Operations - Overview\n",
    "\n",
    "Let us get an overview of Database Operations we typically perform on regular basis. They are broadly categorized into the following:\n",
    "\n",
    "* DDL - Data Definition Language\n",
    "  * CREATE/ALTER/DROP Tables\n",
    "  * CREATE/ALTER/DROP Indexes\n",
    "  * Add constraints to tables\n",
    "  * CREATE/ALTER/DROP Views\n",
    "  * CREATE/ALTER/DROP Sequences\n",
    "* DML - Data Manipulation Language\n",
    "  * Inserting new data into the table\n",
    "  * Updating existing data in the table\n",
    "  * Deleting existing data from the table\n",
    "* DQL - Data Query Language\n",
    "  * Read the data from the table\n",
    "\n",
    "On top of these we also use TCL (Transaction Control Language) which include **COMMIT** and **ROLLBACK**. \n",
    "\n",
    "As part of this section in the subsequent topics we will primarily focus on basic DDL and DML."
   ]
  }
 ],
 "metadata": {
  "kernelspec": {
   "display_name": "Python 3",
   "language": "python",
   "name": "python3"
  },
  "language_info": {
   "codemirror_mode": {
    "name": "ipython",
    "version": 3
   },
   "file_extension": ".py",
   "mimetype": "text/x-python",
   "name": "python",
   "nbconvert_exporter": "python",
   "pygments_lexer": "ipython3",
   "version": "3.6.12"
  }
 },
 "nbformat": 4,
 "nbformat_minor": 4
}
