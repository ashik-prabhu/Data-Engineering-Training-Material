{
 "cells": [
  {
   "cell_type": "markdown",
   "metadata": {},
   "source": [
    "# Writing Basic SQL Queries\n",
    "As part of this section we will primarily focus on writing basic queries.\n",
    "\n",
    "* Standard Transformations\n",
    "* Overview of Data Model\n",
    "* Define Problem Statement – Daily Product Revenue\n",
    "* Preparing Tables\n",
    "* Selecting or Projecting Data\n",
    "* Filtering Data\n",
    "* Joining Tables – Inner\n",
    "* Joining Tables – Outer\n",
    "* Performing Aggregations\n",
    "* Sorting Data\n",
    "* Solution – Daily Product Revenue\n",
    "\n",
    "Here are the key objectives for this section\n",
    "* What are different standard transformations and how they are implemented using Basic SQL?\n",
    "* Understand the data model using which basic SQL features are explored?\n",
    "* Setup the database, tables and load the data quickly\n",
    "* How we typically select or project the data, filter the data, join data from multiple tables, compute metrics using aggregate functions, sort the data etc?\n",
    "* While exploring basic SQL queries, we will define a problem statement and come up with a solution at the end.\n",
    "* Self evaluate whether one understood all the key aspects of writing basic SQL queries using exercises at the end."
   ]
  }
 ],
 "metadata": {
  "kernelspec": {
   "display_name": "Python 3",
   "language": "python",
   "name": "python3"
  },
  "language_info": {
   "codemirror_mode": {
    "name": "ipython",
    "version": 3
   },
   "file_extension": ".py",
   "mimetype": "text/x-python",
   "name": "python",
   "nbconvert_exporter": "python",
   "pygments_lexer": "ipython3",
   "version": "3.6.12"
  }
 },
 "nbformat": 4,
 "nbformat_minor": 4
}
