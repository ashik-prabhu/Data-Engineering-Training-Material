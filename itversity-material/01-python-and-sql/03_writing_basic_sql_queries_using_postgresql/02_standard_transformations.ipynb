{
 "cells": [
  {
   "cell_type": "markdown",
   "metadata": {},
   "source": [
    "## Standard Transformations\n",
    "\n",
    "Here are some of the transformations we typically perform on regular basis.\n",
    "* Projection of data\n",
    "* Filtering data\n",
    "* Performing Aggregations\n",
    "* Joins\n",
    "* Sorting\n",
    "* Ranking (will be covered as part of advanced queries)"
   ]
  }
 ],
 "metadata": {
  "kernelspec": {
   "display_name": "Python 3",
   "language": "python",
   "name": "python3"
  },
  "language_info": {
   "codemirror_mode": {
    "name": "ipython",
    "version": 3
   },
   "file_extension": ".py",
   "mimetype": "text/x-python",
   "name": "python",
   "nbconvert_exporter": "python",
   "pygments_lexer": "ipython3",
   "version": "3.6.12"
  }
 },
 "nbformat": 4,
 "nbformat_minor": 4
}
