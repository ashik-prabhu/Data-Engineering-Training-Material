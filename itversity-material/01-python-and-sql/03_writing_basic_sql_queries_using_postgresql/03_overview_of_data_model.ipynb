{
 "cells": [
  {
   "cell_type": "markdown",
   "metadata": {},
   "source": [
    "## Overview of Data Model\n",
    "\n",
    "We will be using retail data model for this section. It contains 6 tables.\n",
    "* Table list\n",
    "  * orders\n",
    "  * order_items\n",
    "  * products\n",
    "  * categories\n",
    "  * departments\n",
    "  * customers\n",
    "* **orders** and **order_items** are transactional tables.\n",
    "* **products**, **categories** and **departments** are non transactional tables which have data related to product catalog.\n",
    "* **customers** is a non transactional table which have customer details.\n",
    "* There is 1 to many relationship between **orders** and **order_items**.\n",
    "* There is 1 to many relationship between **products** and **order_items**. Each order item will have one product and product can be part of many order_items.\n",
    "* There is 1 to many relationship between **customers** and **orders**. A customer can place many orders over a period of time but there cannot be more than one customer for a given order.\n",
    "* There is 1 to many relationship between **departments** and **categories**. Also there is 1 to many relationship between **categories** and **products**.\n",
    "* There is hierarchical relationship from departments to products - **departments** -> **categories** -> **products**"
   ]
  }
 ],
 "metadata": {
  "kernelspec": {
   "display_name": "Python 3",
   "language": "python",
   "name": "python3"
  },
  "language_info": {
   "codemirror_mode": {
    "name": "ipython",
    "version": 3
   },
   "file_extension": ".py",
   "mimetype": "text/x-python",
   "name": "python",
   "nbconvert_exporter": "python",
   "pygments_lexer": "ipython3",
   "version": "3.6.12"
  }
 },
 "nbformat": 4,
 "nbformat_minor": 4
}
