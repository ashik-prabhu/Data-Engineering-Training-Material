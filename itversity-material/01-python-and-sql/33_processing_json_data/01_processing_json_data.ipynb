{
 "cells": [
  {
   "cell_type": "markdown",
   "id": "c3c6aef6",
   "metadata": {},
   "source": [
    "## Processing JSON Data\n",
    "\n",
    "As part of this section or module we will get an overview about processing JSON data. We will primarily focus on using `json` or `pandas` to process data in JSON format.\n",
    "\n",
    "* Overview of JSON\n",
    "* JSON Data Types\n",
    "* Create JSON String\n",
    "* Process JSON String\n",
    "* Single JSON document in files\n",
    "* Multiple JSON documents in files\n",
    "* Process JSON using Pandas\n",
    "* Different JSON formats supported by Pandas\n",
    "* Common Use Cases for JSON\n",
    "* Write to JSON Files using JSON module\n",
    "* Write to JSON Files using Pandas"
   ]
  },
  {
   "cell_type": "code",
   "execution_count": null,
   "id": "4960abba",
   "metadata": {},
   "outputs": [],
   "source": []
  }
 ],
 "metadata": {
  "kernelspec": {
   "display_name": "Python 3",
   "language": "python",
   "name": "python3"
  },
  "language_info": {
   "codemirror_mode": {
    "name": "ipython",
    "version": 3
   },
   "file_extension": ".py",
   "mimetype": "text/x-python",
   "name": "python",
   "nbconvert_exporter": "python",
   "pygments_lexer": "ipython3",
   "version": "3.6.12"
  }
 },
 "nbformat": 4,
 "nbformat_minor": 5
}
