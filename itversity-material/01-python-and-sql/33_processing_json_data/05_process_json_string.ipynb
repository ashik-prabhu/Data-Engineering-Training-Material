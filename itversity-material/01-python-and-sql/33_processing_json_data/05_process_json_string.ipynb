{
 "cells": [
  {
   "cell_type": "markdown",
   "metadata": {},
   "source": [
    "## Process JSON String\n",
    "\n",
    "Let us understand how to process JSON strings using Python as programming language. Later we will see different ways of storing JSON data in files.\n",
    "\n",
    "We will see following examples of processing JSON strings.\n",
    "* Single JSON document.\n",
    "* Multiple JSON documents, with one JSON per line.\n",
    "* Multiple JSON documents as an Array under one attribute. Most of the REST APIs which return multiple elements follow this approach.\n",
    "* We can process JSON Strings either by using `json` module or `pandas`.\n",
    "* As part of developing backend for web or mobile applications we use `json` or some high level wrappers. For bulk data processing typically we fall back on modules such as `pandas`.\n",
    "* You should be familiar with both. For now, we will focus on `json`.\n",
    "* We should first import `json` module to process the JSON strings using it.\n",
    "* We have a function called as `loads` which takes a JSON in string and returns `dict`."
   ]
  },
  {
   "cell_type": "markdown",
   "metadata": {},
   "source": [
    "### Single JSON document\n",
    "\n",
    "Let us go through the details of processing Single JSON document. \n",
    "* Import `json` module.\n",
    "* Create JSON String.\n",
    "* Pass the string to `json.loads`. It will return `dict`.\n",
    "* Assign it to a variable and use it further."
   ]
  },
  {
   "cell_type": "code",
   "execution_count": 1,
   "metadata": {},
   "outputs": [],
   "source": [
    "import json"
   ]
  },
  {
   "cell_type": "code",
   "execution_count": 2,
   "metadata": {},
   "outputs": [],
   "source": [
    "person = '{\"id\":1,\"first_name\":\"Frasco\",\"last_name\":\"Necolds\",\"email\":\"fnecolds0@vk.com\",\"gender\":\"Male\",\"ip_address\":\"243.67.63.34\"}'"
   ]
  },
  {
   "cell_type": "code",
   "execution_count": 3,
   "metadata": {},
   "outputs": [
    {
     "data": {
      "text/plain": [
       "str"
      ]
     },
     "execution_count": 3,
     "metadata": {},
     "output_type": "execute_result"
    }
   ],
   "source": [
    "type(person)"
   ]
  },
  {
   "cell_type": "code",
   "execution_count": 4,
   "metadata": {},
   "outputs": [
    {
     "data": {
      "text/plain": [
       "\u001b[0;31mSignature:\u001b[0m\n",
       "\u001b[0mjson\u001b[0m\u001b[0;34m.\u001b[0m\u001b[0mloads\u001b[0m\u001b[0;34m(\u001b[0m\u001b[0;34m\u001b[0m\n",
       "\u001b[0;34m\u001b[0m    \u001b[0ms\u001b[0m\u001b[0;34m,\u001b[0m\u001b[0;34m\u001b[0m\n",
       "\u001b[0;34m\u001b[0m    \u001b[0;34m*\u001b[0m\u001b[0;34m,\u001b[0m\u001b[0;34m\u001b[0m\n",
       "\u001b[0;34m\u001b[0m    \u001b[0mencoding\u001b[0m\u001b[0;34m=\u001b[0m\u001b[0;32mNone\u001b[0m\u001b[0;34m,\u001b[0m\u001b[0;34m\u001b[0m\n",
       "\u001b[0;34m\u001b[0m    \u001b[0mcls\u001b[0m\u001b[0;34m=\u001b[0m\u001b[0;32mNone\u001b[0m\u001b[0;34m,\u001b[0m\u001b[0;34m\u001b[0m\n",
       "\u001b[0;34m\u001b[0m    \u001b[0mobject_hook\u001b[0m\u001b[0;34m=\u001b[0m\u001b[0;32mNone\u001b[0m\u001b[0;34m,\u001b[0m\u001b[0;34m\u001b[0m\n",
       "\u001b[0;34m\u001b[0m    \u001b[0mparse_float\u001b[0m\u001b[0;34m=\u001b[0m\u001b[0;32mNone\u001b[0m\u001b[0;34m,\u001b[0m\u001b[0;34m\u001b[0m\n",
       "\u001b[0;34m\u001b[0m    \u001b[0mparse_int\u001b[0m\u001b[0;34m=\u001b[0m\u001b[0;32mNone\u001b[0m\u001b[0;34m,\u001b[0m\u001b[0;34m\u001b[0m\n",
       "\u001b[0;34m\u001b[0m    \u001b[0mparse_constant\u001b[0m\u001b[0;34m=\u001b[0m\u001b[0;32mNone\u001b[0m\u001b[0;34m,\u001b[0m\u001b[0;34m\u001b[0m\n",
       "\u001b[0;34m\u001b[0m    \u001b[0mobject_pairs_hook\u001b[0m\u001b[0;34m=\u001b[0m\u001b[0;32mNone\u001b[0m\u001b[0;34m,\u001b[0m\u001b[0;34m\u001b[0m\n",
       "\u001b[0;34m\u001b[0m    \u001b[0;34m**\u001b[0m\u001b[0mkw\u001b[0m\u001b[0;34m,\u001b[0m\u001b[0;34m\u001b[0m\n",
       "\u001b[0;34m\u001b[0m\u001b[0;34m)\u001b[0m\u001b[0;34m\u001b[0m\u001b[0;34m\u001b[0m\u001b[0m\n",
       "\u001b[0;31mDocstring:\u001b[0m\n",
       "Deserialize ``s`` (a ``str``, ``bytes`` or ``bytearray`` instance\n",
       "containing a JSON document) to a Python object.\n",
       "\n",
       "``object_hook`` is an optional function that will be called with the\n",
       "result of any object literal decode (a ``dict``). The return value of\n",
       "``object_hook`` will be used instead of the ``dict``. This feature\n",
       "can be used to implement custom decoders (e.g. JSON-RPC class hinting).\n",
       "\n",
       "``object_pairs_hook`` is an optional function that will be called with the\n",
       "result of any object literal decoded with an ordered list of pairs.  The\n",
       "return value of ``object_pairs_hook`` will be used instead of the ``dict``.\n",
       "This feature can be used to implement custom decoders that rely on the\n",
       "order that the key and value pairs are decoded (for example,\n",
       "collections.OrderedDict will remember the order of insertion). If\n",
       "``object_hook`` is also defined, the ``object_pairs_hook`` takes priority.\n",
       "\n",
       "``parse_float``, if specified, will be called with the string\n",
       "of every JSON float to be decoded. By default this is equivalent to\n",
       "float(num_str). This can be used to use another datatype or parser\n",
       "for JSON floats (e.g. decimal.Decimal).\n",
       "\n",
       "``parse_int``, if specified, will be called with the string\n",
       "of every JSON int to be decoded. By default this is equivalent to\n",
       "int(num_str). This can be used to use another datatype or parser\n",
       "for JSON integers (e.g. float).\n",
       "\n",
       "``parse_constant``, if specified, will be called with one of the\n",
       "following strings: -Infinity, Infinity, NaN.\n",
       "This can be used to raise an exception if invalid JSON numbers\n",
       "are encountered.\n",
       "\n",
       "To use a custom ``JSONDecoder`` subclass, specify it with the ``cls``\n",
       "kwarg; otherwise ``JSONDecoder`` is used.\n",
       "\n",
       "The ``encoding`` argument is ignored and deprecated.\n",
       "\u001b[0;31mFile:\u001b[0m      /opt/anaconda3/envs/beakerx/lib/python3.6/json/__init__.py\n",
       "\u001b[0;31mType:\u001b[0m      function\n"
      ]
     },
     "metadata": {},
     "output_type": "display_data"
    }
   ],
   "source": [
    "json.loads?"
   ]
  },
  {
   "cell_type": "code",
   "execution_count": 5,
   "metadata": {},
   "outputs": [],
   "source": [
    "person_dict = json.loads(person)"
   ]
  },
  {
   "cell_type": "code",
   "execution_count": 6,
   "metadata": {},
   "outputs": [
    {
     "data": {
      "text/plain": [
       "dict"
      ]
     },
     "execution_count": 6,
     "metadata": {},
     "output_type": "execute_result"
    }
   ],
   "source": [
    "type(person_dict)"
   ]
  },
  {
   "cell_type": "code",
   "execution_count": 7,
   "metadata": {},
   "outputs": [
    {
     "name": "stdout",
     "output_type": "stream",
     "text": [
      "{'id': 1, 'first_name': 'Frasco', 'last_name': 'Necolds', 'email': 'fnecolds0@vk.com', 'gender': 'Male', 'ip_address': '243.67.63.34'}\n"
     ]
    }
   ],
   "source": [
    "print(person_dict)"
   ]
  },
  {
   "cell_type": "code",
   "execution_count": 8,
   "metadata": {},
   "outputs": [
    {
     "data": {
      "text/plain": [
       "1"
      ]
     },
     "execution_count": 8,
     "metadata": {},
     "output_type": "execute_result"
    }
   ],
   "source": [
    "person_dict['id']"
   ]
  },
  {
   "cell_type": "code",
   "execution_count": 9,
   "metadata": {},
   "outputs": [
    {
     "data": {
      "text/plain": [
       "'Frasco'"
      ]
     },
     "execution_count": 9,
     "metadata": {},
     "output_type": "execute_result"
    }
   ],
   "source": [
    "person_dict['first_name']"
   ]
  },
  {
   "cell_type": "code",
   "execution_count": 10,
   "metadata": {},
   "outputs": [
    {
     "data": {
      "text/plain": [
       "dict_keys(['id', 'first_name', 'last_name', 'email', 'gender', 'ip_address'])"
      ]
     },
     "execution_count": 10,
     "metadata": {},
     "output_type": "execute_result"
    }
   ],
   "source": [
    "person_dict.keys()"
   ]
  },
  {
   "cell_type": "code",
   "execution_count": 11,
   "metadata": {},
   "outputs": [
    {
     "data": {
      "text/plain": [
       "dict_items([('id', 1), ('first_name', 'Frasco'), ('last_name', 'Necolds'), ('email', 'fnecolds0@vk.com'), ('gender', 'Male'), ('ip_address', '243.67.63.34')])"
      ]
     },
     "execution_count": 11,
     "metadata": {},
     "output_type": "execute_result"
    }
   ],
   "source": [
    "person_dict.items()"
   ]
  },
  {
   "cell_type": "markdown",
   "metadata": {},
   "source": [
    "* Here is an example of a single JSON as string that is part of multiple lines."
   ]
  },
  {
   "cell_type": "code",
   "execution_count": 12,
   "metadata": {},
   "outputs": [],
   "source": [
    "import json"
   ]
  },
  {
   "cell_type": "code",
   "execution_count": 13,
   "metadata": {},
   "outputs": [],
   "source": [
    "person = '''{\n",
    "    \"id\":1,\n",
    "    \"first_name\":\"Frasco\",\n",
    "    \"last_name\":\"Necolds\",\n",
    "    \"email\":\"fnecolds0@vk.com\",\n",
    "    \"gender\":\"Male\",\n",
    "    \"ip_address\":\"243.67.63.34\"\n",
    "}'''"
   ]
  },
  {
   "cell_type": "code",
   "execution_count": 14,
   "metadata": {},
   "outputs": [
    {
     "data": {
      "text/plain": [
       "str"
      ]
     },
     "execution_count": 14,
     "metadata": {},
     "output_type": "execute_result"
    }
   ],
   "source": [
    "type(person)"
   ]
  },
  {
   "cell_type": "code",
   "execution_count": 15,
   "metadata": {},
   "outputs": [],
   "source": [
    "person_dict = json.loads(person)"
   ]
  },
  {
   "cell_type": "code",
   "execution_count": 16,
   "metadata": {},
   "outputs": [
    {
     "data": {
      "text/plain": [
       "dict"
      ]
     },
     "execution_count": 16,
     "metadata": {},
     "output_type": "execute_result"
    }
   ],
   "source": [
    "type(person_dict)"
   ]
  },
  {
   "cell_type": "code",
   "execution_count": 17,
   "metadata": {},
   "outputs": [
    {
     "name": "stdout",
     "output_type": "stream",
     "text": [
      "{'id': 1, 'first_name': 'Frasco', 'last_name': 'Necolds', 'email': 'fnecolds0@vk.com', 'gender': 'Male', 'ip_address': '243.67.63.34'}\n"
     ]
    }
   ],
   "source": [
    "print(person_dict)"
   ]
  },
  {
   "cell_type": "markdown",
   "metadata": {},
   "source": [
    "### Multiple JSON Documents - One per line\n",
    "\n",
    "Let us go through the steps involved in processing a string which contain one JSON per line.\n",
    "* We should convert the string into list of JSON strings and then use `json.loads` to process each JSON.\n",
    "* Import `json` module.\n",
    "* Split the string into multiple strings using new line character (`\\n`) as delimiter. String have a function called as `splitlines` and we should be able to leverage it.\n",
    "* Use `for` loop or `map` function to convert list of JSON Strings into list of dicts. We should use `json.loads` to convert each JSON String as dict."
   ]
  },
  {
   "cell_type": "code",
   "execution_count": 18,
   "metadata": {},
   "outputs": [],
   "source": [
    "persons = '''{\"id\":1,\"first_name\":\"Frasco\",\"last_name\":\"Necolds\",\"email\":\"fnecolds0@vk.com\",\"gender\":\"Male\",\"ip_address\":\"243.67.63.34\"}\n",
    "{\"id\":2,\"first_name\":\"Dulce\",\"last_name\":\"Santos\",\"email\":\"dsantos1@mashable.com\",\"gender\":\"Female\",\"ip_address\":\"60.30.246.227\"}\n",
    "{\"id\":3,\"first_name\":\"Prissie\",\"last_name\":\"Tebbett\",\"email\":\"ptebbett2@infoseek.co.jp\",\"gender\":\"Genderfluid\",\"ip_address\":\"22.21.162.56\"}\n",
    "{\"id\":4,\"first_name\":\"Schuyler\",\"last_name\":\"Coppledike\",\"email\":\"scoppledike3@gnu.org\",\"gender\":\"Agender\",\"ip_address\":\"120.35.186.161\"}\n",
    "{\"id\":5,\"first_name\":\"Leopold\",\"last_name\":\"Jarred\",\"email\":\"ljarred4@wp.com\",\"gender\":\"Agender\",\"ip_address\":\"30.119.34.4\"}\n",
    "{\"id\":6,\"first_name\":\"Joanna\",\"last_name\":\"Teager\",\"email\":\"jteager5@apache.org\",\"gender\":\"Bigender\",\"ip_address\":\"245.221.176.34\"}\n",
    "{\"id\":7,\"first_name\":\"Lion\",\"last_name\":\"Beere\",\"email\":\"lbeere6@bloomberg.com\",\"gender\":\"Polygender\",\"ip_address\":\"105.54.139.46\"}\n",
    "{\"id\":8,\"first_name\":\"Marabel\",\"last_name\":\"Wornum\",\"email\":\"mwornum7@posterous.com\",\"gender\":\"Polygender\",\"ip_address\":\"247.229.14.25\"}\n",
    "{\"id\":9,\"first_name\":\"Helenka\",\"last_name\":\"Mullender\",\"email\":\"hmullender8@cloudflare.com\",\"gender\":\"Non-binary\",\"ip_address\":\"133.216.118.88\"}\n",
    "{\"id\":10,\"first_name\":\"Christine\",\"last_name\":\"Swane\",\"email\":\"cswane9@shop-pro.jp\",\"gender\":\"Polygender\",\"ip_address\":\"86.16.210.164\"}'''"
   ]
  },
  {
   "cell_type": "code",
   "execution_count": 19,
   "metadata": {},
   "outputs": [
    {
     "data": {
      "text/plain": [
       "str"
      ]
     },
     "execution_count": 19,
     "metadata": {},
     "output_type": "execute_result"
    }
   ],
   "source": [
    "type(persons)"
   ]
  },
  {
   "cell_type": "code",
   "execution_count": 20,
   "metadata": {},
   "outputs": [
    {
     "data": {
      "text/plain": [
       "\u001b[0;31mDocstring:\u001b[0m\n",
       "S.splitlines([keepends]) -> list of strings\n",
       "\n",
       "Return a list of the lines in S, breaking at line boundaries.\n",
       "Line breaks are not included in the resulting list unless keepends\n",
       "is given and true.\n",
       "\u001b[0;31mType:\u001b[0m      builtin_function_or_method\n"
      ]
     },
     "metadata": {},
     "output_type": "display_data"
    }
   ],
   "source": [
    "persons.splitlines?"
   ]
  },
  {
   "cell_type": "code",
   "execution_count": 21,
   "metadata": {},
   "outputs": [],
   "source": [
    "# Using for loop\n",
    "import json"
   ]
  },
  {
   "cell_type": "code",
   "execution_count": 22,
   "metadata": {},
   "outputs": [],
   "source": [
    "persons_list = persons.splitlines()"
   ]
  },
  {
   "cell_type": "code",
   "execution_count": 23,
   "metadata": {},
   "outputs": [
    {
     "data": {
      "text/plain": [
       "list"
      ]
     },
     "execution_count": 23,
     "metadata": {},
     "output_type": "execute_result"
    }
   ],
   "source": [
    "type(persons_list)"
   ]
  },
  {
   "cell_type": "code",
   "execution_count": 24,
   "metadata": {},
   "outputs": [
    {
     "data": {
      "text/plain": [
       "str"
      ]
     },
     "execution_count": 24,
     "metadata": {},
     "output_type": "execute_result"
    }
   ],
   "source": [
    "type(persons_list[0])"
   ]
  },
  {
   "cell_type": "code",
   "execution_count": 25,
   "metadata": {},
   "outputs": [
    {
     "data": {
      "text/plain": [
       "'{\"id\":2,\"first_name\":\"Dulce\",\"last_name\":\"Santos\",\"email\":\"dsantos1@mashable.com\",\"gender\":\"Female\",\"ip_address\":\"60.30.246.227\"}'"
      ]
     },
     "execution_count": 25,
     "metadata": {},
     "output_type": "execute_result"
    }
   ],
   "source": [
    "persons_list[1]"
   ]
  },
  {
   "cell_type": "code",
   "execution_count": 53,
   "metadata": {},
   "outputs": [
    {
     "data": {
      "text/plain": [
       "list"
      ]
     },
     "execution_count": 53,
     "metadata": {},
     "output_type": "execute_result"
    }
   ],
   "source": [
    "json.loads(persons_list[0])"
   ]
  },
  {
   "cell_type": "markdown",
   "metadata": {},
   "source": [
    "* Converting list of strings to list of dicts using conventional loops."
   ]
  },
  {
   "cell_type": "code",
   "execution_count": 29,
   "metadata": {},
   "outputs": [],
   "source": [
    "persons_dict_list = []\n",
    "\n",
    "for person in persons_list:\n",
    "    persons_dict_list.append(json.loads(person))"
   ]
  },
  {
   "cell_type": "code",
   "execution_count": 30,
   "metadata": {},
   "outputs": [
    {
     "data": {
      "text/plain": [
       "list"
      ]
     },
     "execution_count": 30,
     "metadata": {},
     "output_type": "execute_result"
    }
   ],
   "source": [
    "type(persons_dict_list)"
   ]
  },
  {
   "cell_type": "code",
   "execution_count": 31,
   "metadata": {},
   "outputs": [
    {
     "data": {
      "text/plain": [
       "dict"
      ]
     },
     "execution_count": 31,
     "metadata": {},
     "output_type": "execute_result"
    }
   ],
   "source": [
    "type(persons_dict_list[0])"
   ]
  },
  {
   "cell_type": "code",
   "execution_count": 32,
   "metadata": {},
   "outputs": [
    {
     "data": {
      "text/plain": [
       "{'id': 1,\n",
       " 'first_name': 'Frasco',\n",
       " 'last_name': 'Necolds',\n",
       " 'email': 'fnecolds0@vk.com',\n",
       " 'gender': 'Male',\n",
       " 'ip_address': '243.67.63.34'}"
      ]
     },
     "execution_count": 32,
     "metadata": {},
     "output_type": "execute_result"
    }
   ],
   "source": [
    "persons_dict_list[0]"
   ]
  },
  {
   "cell_type": "code",
   "execution_count": 33,
   "metadata": {},
   "outputs": [
    {
     "data": {
      "text/plain": [
       "'Frasco'"
      ]
     },
     "execution_count": 33,
     "metadata": {},
     "output_type": "execute_result"
    }
   ],
   "source": [
    "persons_dict_list[0]['first_name']"
   ]
  },
  {
   "cell_type": "markdown",
   "metadata": {},
   "source": [
    "* Converting list of strings to list of dicts using list comprehensions."
   ]
  },
  {
   "cell_type": "code",
   "execution_count": 34,
   "metadata": {},
   "outputs": [],
   "source": [
    "persons_dict_list = [json.loads(person) for person in persons_list]"
   ]
  },
  {
   "cell_type": "code",
   "execution_count": 35,
   "metadata": {},
   "outputs": [
    {
     "data": {
      "text/plain": [
       "list"
      ]
     },
     "execution_count": 35,
     "metadata": {},
     "output_type": "execute_result"
    }
   ],
   "source": [
    "type(persons_dict_list)"
   ]
  },
  {
   "cell_type": "code",
   "execution_count": 36,
   "metadata": {},
   "outputs": [
    {
     "data": {
      "text/plain": [
       "dict"
      ]
     },
     "execution_count": 36,
     "metadata": {},
     "output_type": "execute_result"
    }
   ],
   "source": [
    "type(persons_dict_list[0])"
   ]
  },
  {
   "cell_type": "code",
   "execution_count": 37,
   "metadata": {},
   "outputs": [
    {
     "data": {
      "text/plain": [
       "{'id': 1,\n",
       " 'first_name': 'Frasco',\n",
       " 'last_name': 'Necolds',\n",
       " 'email': 'fnecolds0@vk.com',\n",
       " 'gender': 'Male',\n",
       " 'ip_address': '243.67.63.34'}"
      ]
     },
     "execution_count": 37,
     "metadata": {},
     "output_type": "execute_result"
    }
   ],
   "source": [
    "persons_dict_list[0]"
   ]
  },
  {
   "cell_type": "markdown",
   "metadata": {},
   "source": [
    "* Converting list of strings to list of dicts using `map` function."
   ]
  },
  {
   "cell_type": "code",
   "execution_count": 38,
   "metadata": {},
   "outputs": [],
   "source": [
    "persons_dict_list = list(map(json.loads, persons_list))"
   ]
  },
  {
   "cell_type": "code",
   "execution_count": 39,
   "metadata": {},
   "outputs": [
    {
     "data": {
      "text/plain": [
       "list"
      ]
     },
     "execution_count": 39,
     "metadata": {},
     "output_type": "execute_result"
    }
   ],
   "source": [
    "type(persons_dict_list)"
   ]
  },
  {
   "cell_type": "code",
   "execution_count": 40,
   "metadata": {},
   "outputs": [
    {
     "data": {
      "text/plain": [
       "dict"
      ]
     },
     "execution_count": 40,
     "metadata": {},
     "output_type": "execute_result"
    }
   ],
   "source": [
    "type(persons_dict_list[0])"
   ]
  },
  {
   "cell_type": "code",
   "execution_count": 41,
   "metadata": {},
   "outputs": [
    {
     "data": {
      "text/plain": [
       "{'id': 1,\n",
       " 'first_name': 'Frasco',\n",
       " 'last_name': 'Necolds',\n",
       " 'email': 'fnecolds0@vk.com',\n",
       " 'gender': 'Male',\n",
       " 'ip_address': '243.67.63.34'}"
      ]
     },
     "execution_count": 41,
     "metadata": {},
     "output_type": "execute_result"
    }
   ],
   "source": [
    "persons_dict_list[0]"
   ]
  },
  {
   "cell_type": "code",
   "execution_count": 42,
   "metadata": {},
   "outputs": [
    {
     "data": {
      "text/plain": [
       "['Frasco',\n",
       " 'Dulce',\n",
       " 'Prissie',\n",
       " 'Schuyler',\n",
       " 'Leopold',\n",
       " 'Joanna',\n",
       " 'Lion',\n",
       " 'Marabel',\n",
       " 'Helenka',\n",
       " 'Christine']"
      ]
     },
     "execution_count": 42,
     "metadata": {},
     "output_type": "execute_result"
    }
   ],
   "source": [
    "list(map(lambda person: person['first_name'], persons_dict_list))"
   ]
  },
  {
   "cell_type": "code",
   "execution_count": 43,
   "metadata": {},
   "outputs": [
    {
     "data": {
      "text/plain": [
       "[{'id': 2,\n",
       "  'first_name': 'Dulce',\n",
       "  'last_name': 'Santos',\n",
       "  'email': 'dsantos1@mashable.com',\n",
       "  'gender': 'Female',\n",
       "  'ip_address': '60.30.246.227'}]"
      ]
     },
     "execution_count": 43,
     "metadata": {},
     "output_type": "execute_result"
    }
   ],
   "source": [
    "list(filter(lambda person: person['gender'] == 'Female', persons_dict_list))"
   ]
  },
  {
   "cell_type": "markdown",
   "metadata": {},
   "source": [
    "### Multiple JSON Documents - Array\n",
    "\n",
    "Let us go through the details of processing multiple JSON Documents as an array.\n",
    "* We should be able to use `json.loads`. For the below string it will return Python list.\n",
    "* Steps are same as processing single JSON document.\n",
    "  * Import `json` module.\n",
    "  * Use `json.loads` to convert to Python list.\n",
    "  * Process using Python capabilities."
   ]
  },
  {
   "cell_type": "code",
   "execution_count": 48,
   "metadata": {},
   "outputs": [],
   "source": [
    "persons = '''[{\"id\":1,\"first_name\":\"Frasco\",\"last_name\":\"Necolds\",\"email\":\"fnecolds0@vk.com\",\"gender\":\"Male\",\"ip_address\":\"243.67.63.34\"},\n",
    "{\"id\":2,\"first_name\":\"Dulce\",\"last_name\":\"Santos\",\"email\":\"dsantos1@mashable.com\",\"gender\":\"Female\",\"ip_address\":\"60.30.246.227\"},\n",
    "{\"id\":3,\"first_name\":\"Prissie\",\"last_name\":\"Tebbett\",\"email\":\"ptebbett2@infoseek.co.jp\",\"gender\":\"Genderfluid\",\"ip_address\":\"22.21.162.56\"},\n",
    "{\"id\":4,\"first_name\":\"Schuyler\",\"last_name\":\"Coppledike\",\"email\":\"scoppledike3@gnu.org\",\"gender\":\"Agender\",\"ip_address\":\"120.35.186.161\"},\n",
    "{\"id\":5,\"first_name\":\"Leopold\",\"last_name\":\"Jarred\",\"email\":\"ljarred4@wp.com\",\"gender\":\"Agender\",\"ip_address\":\"30.119.34.4\"},\n",
    "{\"id\":6,\"first_name\":\"Joanna\",\"last_name\":\"Teager\",\"email\":\"jteager5@apache.org\",\"gender\":\"Bigender\",\"ip_address\":\"245.221.176.34\"},\n",
    "{\"id\":7,\"first_name\":\"Lion\",\"last_name\":\"Beere\",\"email\":\"lbeere6@bloomberg.com\",\"gender\":\"Polygender\",\"ip_address\":\"105.54.139.46\"},\n",
    "{\"id\":8,\"first_name\":\"Marabel\",\"last_name\":\"Wornum\",\"email\":\"mwornum7@posterous.com\",\"gender\":\"Polygender\",\"ip_address\":\"247.229.14.25\"},\n",
    "{\"id\":9,\"first_name\":\"Helenka\",\"last_name\":\"Mullender\",\"email\":\"hmullender8@cloudflare.com\",\"gender\":\"Non-binary\",\"ip_address\":\"133.216.118.88\"},\n",
    "{\"id\":10,\"first_name\":\"Christine\",\"last_name\":\"Swane\",\"email\":\"cswane9@shop-pro.jp\",\"gender\":\"Polygender\",\"ip_address\":\"86.16.210.164\"}]'''"
   ]
  },
  {
   "cell_type": "code",
   "execution_count": 49,
   "metadata": {},
   "outputs": [],
   "source": [
    "persons_dict_list = json.loads(persons)"
   ]
  },
  {
   "cell_type": "code",
   "execution_count": 50,
   "metadata": {},
   "outputs": [
    {
     "data": {
      "text/plain": [
       "list"
      ]
     },
     "execution_count": 50,
     "metadata": {},
     "output_type": "execute_result"
    }
   ],
   "source": [
    "type(persons_dict_list)"
   ]
  },
  {
   "cell_type": "code",
   "execution_count": 47,
   "metadata": {},
   "outputs": [
    {
     "data": {
      "text/plain": [
       "dict"
      ]
     },
     "execution_count": 47,
     "metadata": {},
     "output_type": "execute_result"
    }
   ],
   "source": [
    "type(persons_dict_list[0])"
   ]
  },
  {
   "cell_type": "code",
   "execution_count": 54,
   "metadata": {},
   "outputs": [
    {
     "data": {
      "text/plain": [
       "{'id': 1,\n",
       " 'first_name': 'Frasco',\n",
       " 'last_name': 'Necolds',\n",
       " 'email': 'fnecolds0@vk.com',\n",
       " 'gender': 'Male',\n",
       " 'ip_address': '243.67.63.34'}"
      ]
     },
     "execution_count": 54,
     "metadata": {},
     "output_type": "execute_result"
    }
   ],
   "source": [
    "persons_dict_list[0]"
   ]
  },
  {
   "cell_type": "markdown",
   "metadata": {},
   "source": [
    "* When we use `json.loads` on below string, it will create a dict where value will be a list."
   ]
  },
  {
   "cell_type": "code",
   "execution_count": 181,
   "metadata": {},
   "outputs": [],
   "source": [
    "persons = '''{\n",
    "    \"results\": [\n",
    "        {\n",
    "            \"id\": 1,\n",
    "            \"first_name\": \"Frasco\",\n",
    "            \"last_name\": \"Necolds\",\n",
    "            \"email\": \"fnecolds0@vk.com\",\n",
    "            \"gender\": \"Male\",\n",
    "            \"ip_address\": \"243.67.63.34\"\n",
    "        },\n",
    "        {\n",
    "            \"id\": 2,\n",
    "            \"first_name\": \"Dulce\",\n",
    "            \"last_name\": \"Santos\",\n",
    "            \"email\": \"dsantos1@mashable.com\",\n",
    "            \"gender\": \"Female\",\n",
    "            \"ip_address\": \"60.30.246.227\"\n",
    "        },\n",
    "        {\n",
    "            \"id\": 3,\n",
    "            \"first_name\": \"Prissie\",\n",
    "            \"last_name\": \"Tebbett\",\n",
    "            \"email\": \"ptebbett2@infoseek.co.jp\",\n",
    "            \"gender\": \"Genderfluid\",\n",
    "            \"ip_address\": \"22.21.162.56\"\n",
    "        },\n",
    "        {\n",
    "            \"id\": 4,\n",
    "            \"first_name\": \"Schuyler\",\n",
    "            \"last_name\": \"Coppledike\",\n",
    "            \"email\": \"scoppledike3@gnu.org\",\n",
    "            \"gender\": \"Agender\",\n",
    "            \"ip_address\": \"120.35.186.161\"\n",
    "        },\n",
    "        {\n",
    "            \"id\": 5,\n",
    "            \"first_name\": \"Leopold\",\n",
    "            \"last_name\": \"Jarred\",\n",
    "            \"email\": \"ljarred4@wp.com\",\n",
    "            \"gender\": \"Agender\",\n",
    "            \"ip_address\": \"30.119.34.4\"\n",
    "        },\n",
    "        {\n",
    "            \"id\": 6,\n",
    "            \"first_name\": \"Joanna\",\n",
    "            \"last_name\": \"Teager\",\n",
    "            \"email\": \"jteager5@apache.org\",\n",
    "            \"gender\": \"Bigender\",\n",
    "            \"ip_address\": \"245.221.176.34\"\n",
    "        },\n",
    "        {\n",
    "            \"id\": 7,\n",
    "            \"first_name\": \"Lion\",\n",
    "            \"last_name\": \"Beere\",\n",
    "            \"email\": \"lbeere6@bloomberg.com\",\n",
    "            \"gender\": \"Polygender\",\n",
    "            \"ip_address\": \"105.54.139.46\"\n",
    "        },\n",
    "        {\n",
    "            \"id\": 8,\n",
    "            \"first_name\": \"Marabel\",\n",
    "            \"last_name\": \"Wornum\",\n",
    "            \"email\": \"mwornum7@posterous.com\",\n",
    "            \"gender\": \"Polygender\",\n",
    "            \"ip_address\": \"247.229.14.25\"\n",
    "        },\n",
    "        {\n",
    "            \"id\": 9,\n",
    "            \"first_name\": \"Helenka\",\n",
    "            \"last_name\": \"Mullender\",\n",
    "            \"email\": \"hmullender8@cloudflare.com\",\n",
    "            \"gender\": \"Non-binary\",\n",
    "            \"ip_address\": \"133.216.118.88\"\n",
    "        },\n",
    "        {\n",
    "            \"id\": 10,\n",
    "            \"first_name\": \"Christine\",\n",
    "            \"last_name\": \"Swane\",\n",
    "            \"email\": \"cswane9@shop-pro.jp\",\n",
    "            \"gender\": \"Polygender\",\n",
    "            \"ip_address\": \"86.16.210.164\"\n",
    "        }\n",
    "    ]\n",
    "}'''"
   ]
  },
  {
   "cell_type": "code",
   "execution_count": 182,
   "metadata": {},
   "outputs": [],
   "source": [
    "import json"
   ]
  },
  {
   "cell_type": "code",
   "execution_count": 183,
   "metadata": {},
   "outputs": [],
   "source": [
    "person_results = json.loads(persons)"
   ]
  },
  {
   "cell_type": "code",
   "execution_count": 67,
   "metadata": {},
   "outputs": [
    {
     "data": {
      "text/plain": [
       "dict"
      ]
     },
     "execution_count": 67,
     "metadata": {},
     "output_type": "execute_result"
    }
   ],
   "source": [
    "type(person_results)"
   ]
  },
  {
   "cell_type": "code",
   "execution_count": 59,
   "metadata": {},
   "outputs": [
    {
     "data": {
      "text/plain": [
       "dict_keys(['results'])"
      ]
     },
     "execution_count": 59,
     "metadata": {},
     "output_type": "execute_result"
    }
   ],
   "source": [
    "person_results.keys()"
   ]
  },
  {
   "cell_type": "code",
   "execution_count": 60,
   "metadata": {},
   "outputs": [
    {
     "data": {
      "text/plain": [
       "list"
      ]
     },
     "execution_count": 60,
     "metadata": {},
     "output_type": "execute_result"
    }
   ],
   "source": [
    "type(person_results['results'])"
   ]
  },
  {
   "cell_type": "code",
   "execution_count": 61,
   "metadata": {},
   "outputs": [
    {
     "data": {
      "text/plain": [
       "dict"
      ]
     },
     "execution_count": 61,
     "metadata": {},
     "output_type": "execute_result"
    }
   ],
   "source": [
    "type(person_results['results'][0])"
   ]
  },
  {
   "cell_type": "code",
   "execution_count": 62,
   "metadata": {},
   "outputs": [
    {
     "data": {
      "text/plain": [
       "{'id': 1,\n",
       " 'first_name': 'Frasco',\n",
       " 'last_name': 'Necolds',\n",
       " 'email': 'fnecolds0@vk.com',\n",
       " 'gender': 'Male',\n",
       " 'ip_address': '243.67.63.34'}"
      ]
     },
     "execution_count": 62,
     "metadata": {},
     "output_type": "execute_result"
    }
   ],
   "source": [
    "person_results['results'][0]"
   ]
  },
  {
   "cell_type": "code",
   "execution_count": 63,
   "metadata": {},
   "outputs": [],
   "source": [
    "results = person_results['results']"
   ]
  },
  {
   "cell_type": "code",
   "execution_count": 64,
   "metadata": {},
   "outputs": [
    {
     "data": {
      "text/plain": [
       "list"
      ]
     },
     "execution_count": 64,
     "metadata": {},
     "output_type": "execute_result"
    }
   ],
   "source": [
    "type(results)"
   ]
  },
  {
   "cell_type": "code",
   "execution_count": 65,
   "metadata": {},
   "outputs": [
    {
     "data": {
      "text/plain": [
       "{'id': 1,\n",
       " 'first_name': 'Frasco',\n",
       " 'last_name': 'Necolds',\n",
       " 'email': 'fnecolds0@vk.com',\n",
       " 'gender': 'Male',\n",
       " 'ip_address': '243.67.63.34'}"
      ]
     },
     "execution_count": 65,
     "metadata": {},
     "output_type": "execute_result"
    }
   ],
   "source": [
    "results[0]"
   ]
  },
  {
   "cell_type": "markdown",
   "metadata": {},
   "source": [
    "### Exercise on processing collections\n",
    "\n",
    "Take person_results and get list of dicts where each dict contain id, first_name and email. We would like to send an offer for all the persons in the form of email.\n",
    "* You should use `map` function for the same.\n",
    "* Do not use loops."
   ]
  },
  {
   "cell_type": "code",
   "execution_count": 184,
   "metadata": {},
   "outputs": [
    {
     "data": {
      "text/plain": [
       "{'results': [{'id': 1,\n",
       "   'first_name': 'Frasco',\n",
       "   'last_name': 'Necolds',\n",
       "   'email': 'fnecolds0@vk.com',\n",
       "   'gender': 'Male',\n",
       "   'ip_address': '243.67.63.34'},\n",
       "  {'id': 2,\n",
       "   'first_name': 'Dulce',\n",
       "   'last_name': 'Santos',\n",
       "   'email': 'dsantos1@mashable.com',\n",
       "   'gender': 'Female',\n",
       "   'ip_address': '60.30.246.227'},\n",
       "  {'id': 3,\n",
       "   'first_name': 'Prissie',\n",
       "   'last_name': 'Tebbett',\n",
       "   'email': 'ptebbett2@infoseek.co.jp',\n",
       "   'gender': 'Genderfluid',\n",
       "   'ip_address': '22.21.162.56'},\n",
       "  {'id': 4,\n",
       "   'first_name': 'Schuyler',\n",
       "   'last_name': 'Coppledike',\n",
       "   'email': 'scoppledike3@gnu.org',\n",
       "   'gender': 'Agender',\n",
       "   'ip_address': '120.35.186.161'},\n",
       "  {'id': 5,\n",
       "   'first_name': 'Leopold',\n",
       "   'last_name': 'Jarred',\n",
       "   'email': 'ljarred4@wp.com',\n",
       "   'gender': 'Agender',\n",
       "   'ip_address': '30.119.34.4'},\n",
       "  {'id': 6,\n",
       "   'first_name': 'Joanna',\n",
       "   'last_name': 'Teager',\n",
       "   'email': 'jteager5@apache.org',\n",
       "   'gender': 'Bigender',\n",
       "   'ip_address': '245.221.176.34'},\n",
       "  {'id': 7,\n",
       "   'first_name': 'Lion',\n",
       "   'last_name': 'Beere',\n",
       "   'email': 'lbeere6@bloomberg.com',\n",
       "   'gender': 'Polygender',\n",
       "   'ip_address': '105.54.139.46'},\n",
       "  {'id': 8,\n",
       "   'first_name': 'Marabel',\n",
       "   'last_name': 'Wornum',\n",
       "   'email': 'mwornum7@posterous.com',\n",
       "   'gender': 'Polygender',\n",
       "   'ip_address': '247.229.14.25'},\n",
       "  {'id': 9,\n",
       "   'first_name': 'Helenka',\n",
       "   'last_name': 'Mullender',\n",
       "   'email': 'hmullender8@cloudflare.com',\n",
       "   'gender': 'Non-binary',\n",
       "   'ip_address': '133.216.118.88'},\n",
       "  {'id': 10,\n",
       "   'first_name': 'Christine',\n",
       "   'last_name': 'Swane',\n",
       "   'email': 'cswane9@shop-pro.jp',\n",
       "   'gender': 'Polygender',\n",
       "   'ip_address': '86.16.210.164'}]}"
      ]
     },
     "execution_count": 184,
     "metadata": {},
     "output_type": "execute_result"
    }
   ],
   "source": [
    "person_results"
   ]
  },
  {
   "cell_type": "code",
   "execution_count": 192,
   "metadata": {},
   "outputs": [
    {
     "data": {
      "text/plain": [
       "[{'id': 1, 'first_name': 'Frasco', 'email': 'fnecolds0@vk.com'},\n",
       " {'id': 2, 'first_name': 'Dulce', 'email': 'dsantos1@mashable.com'},\n",
       " {'id': 3, 'first_name': 'Prissie', 'email': 'ptebbett2@infoseek.co.jp'},\n",
       " {'id': 4, 'first_name': 'Schuyler', 'email': 'scoppledike3@gnu.org'},\n",
       " {'id': 5, 'first_name': 'Leopold', 'email': 'ljarred4@wp.com'},\n",
       " {'id': 6, 'first_name': 'Joanna', 'email': 'jteager5@apache.org'},\n",
       " {'id': 7, 'first_name': 'Lion', 'email': 'lbeere6@bloomberg.com'},\n",
       " {'id': 8, 'first_name': 'Marabel', 'email': 'mwornum7@posterous.com'},\n",
       " {'id': 9, 'first_name': 'Helenka', 'email': 'hmullender8@cloudflare.com'},\n",
       " {'id': 10, 'first_name': 'Christine', 'email': 'cswane9@shop-pro.jp'}]"
      ]
     },
     "execution_count": 192,
     "metadata": {},
     "output_type": "execute_result"
    }
   ],
   "source": [
    "offers_list=list(\n",
    "    map(\n",
    "        lambda element: {'id':element['id'],'first_name':element['first_name'],'email':element['email']},\n",
    "        person_results['results']\n",
    "    )\n",
    ")\n",
    "offers_list"
   ]
  },
  {
   "cell_type": "code",
   "execution_count": null,
   "metadata": {},
   "outputs": [],
   "source": []
  }
 ],
 "metadata": {
  "kernelspec": {
   "display_name": "Python 3",
   "language": "python",
   "name": "python3"
  },
  "language_info": {
   "codemirror_mode": {
    "name": "ipython",
    "version": 3
   },
   "file_extension": ".py",
   "mimetype": "text/x-python",
   "name": "python",
   "nbconvert_exporter": "python",
   "pygments_lexer": "ipython3",
   "version": "3.6.12"
  }
 },
 "nbformat": 4,
 "nbformat_minor": 4
}
