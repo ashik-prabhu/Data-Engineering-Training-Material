{
 "cells": [
  {
   "cell_type": "markdown",
   "metadata": {},
   "source": [
    "## Single JSON Document in Files\n",
    "\n",
    "Let us understand how to process single JSON in Files. We can leverage `json` or `pandas` modules for the same. For now, we will focus on `json` module.\n",
    "* Here are the files used for the demo.\n",
    "  * **single_document.json**\n",
    "  * **youtube_playlist_items.json** - This is an example for REST API calls which return results in the form of list. The list will be part of one of the attributes in response JSON.\n",
    "* Here are the steps you need to follow to review these documents using Jupyter Environment.\n",
    "  * Go to the sidebar and select the file.\n",
    "  * Right click on the file and click on **Open With -> Editor**\n",
    "  * It will open the json file as a plain text file or raw text file.\n",
    "* Both the documents have the data in single json."
   ]
  },
  {
   "cell_type": "markdown",
   "metadata": {},
   "source": [
    "Here are the steps to process a file which contain a simple JSON. You need to use `json.load` by passing file object (`_io.TextIOWrapper`).\n",
    "* Pass the path of the file and create a File Object.\n",
    "* Invoke `json.load` by passing the file object as argument.\n",
    "* It will return `dict`.\n",
    "* We can leverage dict operations to process the data further."
   ]
  },
  {
   "cell_type": "code",
   "execution_count": 1,
   "metadata": {},
   "outputs": [],
   "source": [
    "import json"
   ]
  },
  {
   "cell_type": "code",
   "execution_count": 2,
   "metadata": {},
   "outputs": [
    {
     "name": "stdout",
     "output_type": "stream",
     "text": [
      "-rw-r--r-- 1 itv002461 students 154 Apr  6 01:18 single_document.json\n"
     ]
    }
   ],
   "source": [
    "!ls -ltr single_document.json"
   ]
  },
  {
   "cell_type": "code",
   "execution_count": 3,
   "metadata": {},
   "outputs": [
    {
     "data": {
      "text/plain": [
       "str"
      ]
     },
     "execution_count": 3,
     "metadata": {},
     "output_type": "execute_result"
    }
   ],
   "source": [
    "type('single_document.json')"
   ]
  },
  {
   "cell_type": "code",
   "execution_count": 4,
   "metadata": {},
   "outputs": [
    {
     "data": {
      "text/plain": [
       "\u001b[0;31mSignature:\u001b[0m\n",
       "\u001b[0mjson\u001b[0m\u001b[0;34m.\u001b[0m\u001b[0mload\u001b[0m\u001b[0;34m(\u001b[0m\u001b[0;34m\u001b[0m\n",
       "\u001b[0;34m\u001b[0m    \u001b[0mfp\u001b[0m\u001b[0;34m,\u001b[0m\u001b[0;34m\u001b[0m\n",
       "\u001b[0;34m\u001b[0m    \u001b[0;34m*\u001b[0m\u001b[0;34m,\u001b[0m\u001b[0;34m\u001b[0m\n",
       "\u001b[0;34m\u001b[0m    \u001b[0mcls\u001b[0m\u001b[0;34m=\u001b[0m\u001b[0;32mNone\u001b[0m\u001b[0;34m,\u001b[0m\u001b[0;34m\u001b[0m\n",
       "\u001b[0;34m\u001b[0m    \u001b[0mobject_hook\u001b[0m\u001b[0;34m=\u001b[0m\u001b[0;32mNone\u001b[0m\u001b[0;34m,\u001b[0m\u001b[0;34m\u001b[0m\n",
       "\u001b[0;34m\u001b[0m    \u001b[0mparse_float\u001b[0m\u001b[0;34m=\u001b[0m\u001b[0;32mNone\u001b[0m\u001b[0;34m,\u001b[0m\u001b[0;34m\u001b[0m\n",
       "\u001b[0;34m\u001b[0m    \u001b[0mparse_int\u001b[0m\u001b[0;34m=\u001b[0m\u001b[0;32mNone\u001b[0m\u001b[0;34m,\u001b[0m\u001b[0;34m\u001b[0m\n",
       "\u001b[0;34m\u001b[0m    \u001b[0mparse_constant\u001b[0m\u001b[0;34m=\u001b[0m\u001b[0;32mNone\u001b[0m\u001b[0;34m,\u001b[0m\u001b[0;34m\u001b[0m\n",
       "\u001b[0;34m\u001b[0m    \u001b[0mobject_pairs_hook\u001b[0m\u001b[0;34m=\u001b[0m\u001b[0;32mNone\u001b[0m\u001b[0;34m,\u001b[0m\u001b[0;34m\u001b[0m\n",
       "\u001b[0;34m\u001b[0m    \u001b[0;34m**\u001b[0m\u001b[0mkw\u001b[0m\u001b[0;34m,\u001b[0m\u001b[0;34m\u001b[0m\n",
       "\u001b[0;34m\u001b[0m\u001b[0;34m)\u001b[0m\u001b[0;34m\u001b[0m\u001b[0;34m\u001b[0m\u001b[0m\n",
       "\u001b[0;31mDocstring:\u001b[0m\n",
       "Deserialize ``fp`` (a ``.read()``-supporting file-like object containing\n",
       "a JSON document) to a Python object.\n",
       "\n",
       "``object_hook`` is an optional function that will be called with the\n",
       "result of any object literal decode (a ``dict``). The return value of\n",
       "``object_hook`` will be used instead of the ``dict``. This feature\n",
       "can be used to implement custom decoders (e.g. JSON-RPC class hinting).\n",
       "\n",
       "``object_pairs_hook`` is an optional function that will be called with the\n",
       "result of any object literal decoded with an ordered list of pairs.  The\n",
       "return value of ``object_pairs_hook`` will be used instead of the ``dict``.\n",
       "This feature can be used to implement custom decoders that rely on the\n",
       "order that the key and value pairs are decoded (for example,\n",
       "collections.OrderedDict will remember the order of insertion). If\n",
       "``object_hook`` is also defined, the ``object_pairs_hook`` takes priority.\n",
       "\n",
       "To use a custom ``JSONDecoder`` subclass, specify it with the ``cls``\n",
       "kwarg; otherwise ``JSONDecoder`` is used.\n",
       "\u001b[0;31mFile:\u001b[0m      /opt/anaconda3/envs/beakerx/lib/python3.6/json/__init__.py\n",
       "\u001b[0;31mType:\u001b[0m      function\n"
      ]
     },
     "metadata": {},
     "output_type": "display_data"
    }
   ],
   "source": [
    "json.load?"
   ]
  },
  {
   "cell_type": "code",
   "execution_count": 5,
   "metadata": {},
   "outputs": [
    {
     "data": {
      "text/plain": [
       "_io.TextIOWrapper"
      ]
     },
     "execution_count": 5,
     "metadata": {},
     "output_type": "execute_result"
    }
   ],
   "source": [
    "type(open('single_document.json'))"
   ]
  },
  {
   "cell_type": "code",
   "execution_count": 6,
   "metadata": {},
   "outputs": [],
   "source": [
    "single_json = json.load(open('single_document.json'))"
   ]
  },
  {
   "cell_type": "code",
   "execution_count": 8,
   "metadata": {},
   "outputs": [
    {
     "data": {
      "text/plain": [
       "{'id': 1,\n",
       " 'first_name': 'Frasco',\n",
       " 'last_name': 'Necolds',\n",
       " 'email': 'fnecolds0@vk.com',\n",
       " 'gender': 'Male',\n",
       " 'ip_address': '243.67.63.34'}"
      ]
     },
     "execution_count": 8,
     "metadata": {},
     "output_type": "execute_result"
    }
   ],
   "source": [
    "single_json"
   ]
  },
  {
   "cell_type": "code",
   "execution_count": 9,
   "metadata": {},
   "outputs": [
    {
     "data": {
      "text/plain": [
       "dict"
      ]
     },
     "execution_count": 9,
     "metadata": {},
     "output_type": "execute_result"
    }
   ],
   "source": [
    "type(single_json)"
   ]
  },
  {
   "cell_type": "code",
   "execution_count": 10,
   "metadata": {},
   "outputs": [
    {
     "data": {
      "text/plain": [
       "dict_keys(['id', 'first_name', 'last_name', 'email', 'gender', 'ip_address'])"
      ]
     },
     "execution_count": 10,
     "metadata": {},
     "output_type": "execute_result"
    }
   ],
   "source": [
    "single_json.keys()"
   ]
  },
  {
   "cell_type": "code",
   "execution_count": 11,
   "metadata": {},
   "outputs": [
    {
     "data": {
      "text/plain": [
       "dict_values([1, 'Frasco', 'Necolds', 'fnecolds0@vk.com', 'Male', '243.67.63.34'])"
      ]
     },
     "execution_count": 11,
     "metadata": {},
     "output_type": "execute_result"
    }
   ],
   "source": [
    "single_json.values()"
   ]
  },
  {
   "cell_type": "code",
   "execution_count": 12,
   "metadata": {},
   "outputs": [
    {
     "data": {
      "text/plain": [
       "dict_items([('id', 1), ('first_name', 'Frasco'), ('last_name', 'Necolds'), ('email', 'fnecolds0@vk.com'), ('gender', 'Male'), ('ip_address', '243.67.63.34')])"
      ]
     },
     "execution_count": 12,
     "metadata": {},
     "output_type": "execute_result"
    }
   ],
   "source": [
    "single_json.items()"
   ]
  },
  {
   "cell_type": "code",
   "execution_count": 13,
   "metadata": {},
   "outputs": [
    {
     "data": {
      "text/plain": [
       "'Frasco'"
      ]
     },
     "execution_count": 13,
     "metadata": {},
     "output_type": "execute_result"
    }
   ],
   "source": [
    "single_json['first_name']"
   ]
  },
  {
   "cell_type": "markdown",
   "metadata": {},
   "source": [
    "The file **youtube_playlist_items.json** is an example for YouTube Data API response. It contain complex JSON structure.\n",
    "\n",
    "* First let us understand the definition of YouTube Playlist.\n",
    "  * A YouTube Playlist is nothing but series of videos.\n",
    "  * Playlist also have name, URL as well as description.\n",
    "  * Each video will have video id and its attributes.\n",
    "  * The result for YouTube Playlist Items contain both Playlist level details as well as the details about videos that are part of the playlist.\n",
    "  * The details of videos are made available as part of attribute called as **items**. The value for **items** is of type JSON Array.\n",
    "* You can follow the same steps as above to read the JSON in the file **youtube_playlist_items.json** into a dict.\n",
    "* However, the dict will be of complex structure. You can see **items** as of type `list`."
   ]
  },
  {
   "cell_type": "code",
   "execution_count": 14,
   "metadata": {},
   "outputs": [],
   "source": [
    "results_json = json.load(open('youtube_playlist_items.json'))"
   ]
  },
  {
   "cell_type": "code",
   "execution_count": 15,
   "metadata": {},
   "outputs": [
    {
     "data": {
      "text/plain": [
       "{'kind': 'youtube#playlistItemListResponse',\n",
       " 'etag': 'lfs_qWNaczIydJ2Dlp1gmX9UTAc',\n",
       " 'nextPageToken': 'CAUQAA',\n",
       " 'items': [{'kind': 'youtube#playlistItem',\n",
       "   'etag': 'SGHDydc4dLsY2RjfXTPneb_zc_s',\n",
       "   'id': 'UExmMHN3VEZoVEk4cmtINHlJZm95VEFoZUVHaldJUnRQRy5EQkE3RTJCQTJEQkFBQTcz',\n",
       "   'contentDetails': {'videoId': 'ETZJln4jtAo',\n",
       "    'videoPublishedAt': '2020-11-28T16:29:47Z'},\n",
       "   'status': {'privacyStatus': 'public'}},\n",
       "  {'kind': 'youtube#playlistItem',\n",
       "   'etag': '5EFUNhJBvcwXPxO416VYQsXGzMo',\n",
       "   'id': 'UExmMHN3VEZoVEk4cmtINHlJZm95VEFoZUVHaldJUnRQRy4yQzk4QTA5QjkzMTFFOEI1',\n",
       "   'contentDetails': {'videoId': '1OVHjHTkP3M',\n",
       "    'videoPublishedAt': '2020-11-28T16:30:12Z'},\n",
       "   'status': {'privacyStatus': 'public'}},\n",
       "  {'kind': 'youtube#playlistItem',\n",
       "   'etag': 'TiKqB2aeYxJjMGKQ0yLMJY0vpQE',\n",
       "   'id': 'UExmMHN3VEZoVEk4cmtINHlJZm95VEFoZUVHaldJUnRQRy45NDlDQUFFOThDMTAxQjUw',\n",
       "   'contentDetails': {'videoId': 'qfUbPLsLQcQ',\n",
       "    'videoPublishedAt': '2020-11-28T16:30:33Z'},\n",
       "   'status': {'privacyStatus': 'public'}},\n",
       "  {'kind': 'youtube#playlistItem',\n",
       "   'etag': 'vQrJOpYdXmGJuV32kjj2xqvSByc',\n",
       "   'id': 'UExmMHN3VEZoVEk4cmtINHlJZm95VEFoZUVHaldJUnRQRy4xN0Y2QjVBOEI2MzQ5OUM5',\n",
       "   'contentDetails': {'videoId': 'rLTbhSaXhSM',\n",
       "    'videoPublishedAt': '2020-11-28T16:30:52Z'},\n",
       "   'status': {'privacyStatus': 'public'}},\n",
       "  {'kind': 'youtube#playlistItem',\n",
       "   'etag': '2CzGUToIgqywXAr4wuPswj9MuFg',\n",
       "   'id': 'UExmMHN3VEZoVEk4cmtINHlJZm95VEFoZUVHaldJUnRQRy5FQUY2Qzk4RUFDN0ZFRkZF',\n",
       "   'contentDetails': {'videoId': 'wP7BhXrJKR8',\n",
       "    'videoPublishedAt': '2020-11-28T16:31:14Z'},\n",
       "   'status': {'privacyStatus': 'public'}}],\n",
       " 'pageInfo': {'totalResults': 127, 'resultsPerPage': 5}}"
      ]
     },
     "execution_count": 15,
     "metadata": {},
     "output_type": "execute_result"
    }
   ],
   "source": [
    "results_json"
   ]
  },
  {
   "cell_type": "code",
   "execution_count": 16,
   "metadata": {},
   "outputs": [
    {
     "data": {
      "text/plain": [
       "[{'kind': 'youtube#playlistItem',\n",
       "  'etag': 'SGHDydc4dLsY2RjfXTPneb_zc_s',\n",
       "  'id': 'UExmMHN3VEZoVEk4cmtINHlJZm95VEFoZUVHaldJUnRQRy5EQkE3RTJCQTJEQkFBQTcz',\n",
       "  'contentDetails': {'videoId': 'ETZJln4jtAo',\n",
       "   'videoPublishedAt': '2020-11-28T16:29:47Z'},\n",
       "  'status': {'privacyStatus': 'public'}},\n",
       " {'kind': 'youtube#playlistItem',\n",
       "  'etag': '5EFUNhJBvcwXPxO416VYQsXGzMo',\n",
       "  'id': 'UExmMHN3VEZoVEk4cmtINHlJZm95VEFoZUVHaldJUnRQRy4yQzk4QTA5QjkzMTFFOEI1',\n",
       "  'contentDetails': {'videoId': '1OVHjHTkP3M',\n",
       "   'videoPublishedAt': '2020-11-28T16:30:12Z'},\n",
       "  'status': {'privacyStatus': 'public'}},\n",
       " {'kind': 'youtube#playlistItem',\n",
       "  'etag': 'TiKqB2aeYxJjMGKQ0yLMJY0vpQE',\n",
       "  'id': 'UExmMHN3VEZoVEk4cmtINHlJZm95VEFoZUVHaldJUnRQRy45NDlDQUFFOThDMTAxQjUw',\n",
       "  'contentDetails': {'videoId': 'qfUbPLsLQcQ',\n",
       "   'videoPublishedAt': '2020-11-28T16:30:33Z'},\n",
       "  'status': {'privacyStatus': 'public'}},\n",
       " {'kind': 'youtube#playlistItem',\n",
       "  'etag': 'vQrJOpYdXmGJuV32kjj2xqvSByc',\n",
       "  'id': 'UExmMHN3VEZoVEk4cmtINHlJZm95VEFoZUVHaldJUnRQRy4xN0Y2QjVBOEI2MzQ5OUM5',\n",
       "  'contentDetails': {'videoId': 'rLTbhSaXhSM',\n",
       "   'videoPublishedAt': '2020-11-28T16:30:52Z'},\n",
       "  'status': {'privacyStatus': 'public'}},\n",
       " {'kind': 'youtube#playlistItem',\n",
       "  'etag': '2CzGUToIgqywXAr4wuPswj9MuFg',\n",
       "  'id': 'UExmMHN3VEZoVEk4cmtINHlJZm95VEFoZUVHaldJUnRQRy5FQUY2Qzk4RUFDN0ZFRkZF',\n",
       "  'contentDetails': {'videoId': 'wP7BhXrJKR8',\n",
       "   'videoPublishedAt': '2020-11-28T16:31:14Z'},\n",
       "  'status': {'privacyStatus': 'public'}}]"
      ]
     },
     "execution_count": 16,
     "metadata": {},
     "output_type": "execute_result"
    }
   ],
   "source": [
    "# Reading items. It contain details of videos in the playlist.\n",
    "results_json['items']"
   ]
  },
  {
   "cell_type": "code",
   "execution_count": 17,
   "metadata": {},
   "outputs": [
    {
     "data": {
      "text/plain": [
       "list"
      ]
     },
     "execution_count": 17,
     "metadata": {},
     "output_type": "execute_result"
    }
   ],
   "source": [
    "type(results_json['items'])"
   ]
  },
  {
   "cell_type": "code",
   "execution_count": 18,
   "metadata": {},
   "outputs": [
    {
     "data": {
      "text/plain": [
       "{'kind': 'youtube#playlistItem',\n",
       " 'etag': 'SGHDydc4dLsY2RjfXTPneb_zc_s',\n",
       " 'id': 'UExmMHN3VEZoVEk4cmtINHlJZm95VEFoZUVHaldJUnRQRy5EQkE3RTJCQTJEQkFBQTcz',\n",
       " 'contentDetails': {'videoId': 'ETZJln4jtAo',\n",
       "  'videoPublishedAt': '2020-11-28T16:29:47Z'},\n",
       " 'status': {'privacyStatus': 'public'}}"
      ]
     },
     "execution_count": 18,
     "metadata": {},
     "output_type": "execute_result"
    }
   ],
   "source": [
    "results_json['items'][0]"
   ]
  },
  {
   "cell_type": "code",
   "execution_count": 19,
   "metadata": {},
   "outputs": [
    {
     "data": {
      "text/plain": [
       "{'videoId': 'ETZJln4jtAo', 'videoPublishedAt': '2020-11-28T16:29:47Z'}"
      ]
     },
     "execution_count": 19,
     "metadata": {},
     "output_type": "execute_result"
    }
   ],
   "source": [
    "results_json['items'][0]['contentDetails']"
   ]
  },
  {
   "cell_type": "code",
   "execution_count": 20,
   "metadata": {},
   "outputs": [
    {
     "name": "stdout",
     "output_type": "stream",
     "text": [
      "{'kind': 'youtube#playlistItem', 'etag': 'SGHDydc4dLsY2RjfXTPneb_zc_s', 'id': 'UExmMHN3VEZoVEk4cmtINHlJZm95VEFoZUVHaldJUnRQRy5EQkE3RTJCQTJEQkFBQTcz', 'contentDetails': {'videoId': 'ETZJln4jtAo', 'videoPublishedAt': '2020-11-28T16:29:47Z'}, 'status': {'privacyStatus': 'public'}}\n",
      "{'kind': 'youtube#playlistItem', 'etag': '5EFUNhJBvcwXPxO416VYQsXGzMo', 'id': 'UExmMHN3VEZoVEk4cmtINHlJZm95VEFoZUVHaldJUnRQRy4yQzk4QTA5QjkzMTFFOEI1', 'contentDetails': {'videoId': '1OVHjHTkP3M', 'videoPublishedAt': '2020-11-28T16:30:12Z'}, 'status': {'privacyStatus': 'public'}}\n",
      "{'kind': 'youtube#playlistItem', 'etag': 'TiKqB2aeYxJjMGKQ0yLMJY0vpQE', 'id': 'UExmMHN3VEZoVEk4cmtINHlJZm95VEFoZUVHaldJUnRQRy45NDlDQUFFOThDMTAxQjUw', 'contentDetails': {'videoId': 'qfUbPLsLQcQ', 'videoPublishedAt': '2020-11-28T16:30:33Z'}, 'status': {'privacyStatus': 'public'}}\n",
      "{'kind': 'youtube#playlistItem', 'etag': 'vQrJOpYdXmGJuV32kjj2xqvSByc', 'id': 'UExmMHN3VEZoVEk4cmtINHlJZm95VEFoZUVHaldJUnRQRy4xN0Y2QjVBOEI2MzQ5OUM5', 'contentDetails': {'videoId': 'rLTbhSaXhSM', 'videoPublishedAt': '2020-11-28T16:30:52Z'}, 'status': {'privacyStatus': 'public'}}\n",
      "{'kind': 'youtube#playlistItem', 'etag': '2CzGUToIgqywXAr4wuPswj9MuFg', 'id': 'UExmMHN3VEZoVEk4cmtINHlJZm95VEFoZUVHaldJUnRQRy5FQUY2Qzk4RUFDN0ZFRkZF', 'contentDetails': {'videoId': 'wP7BhXrJKR8', 'videoPublishedAt': '2020-11-28T16:31:14Z'}, 'status': {'privacyStatus': 'public'}}\n"
     ]
    }
   ],
   "source": [
    "# Here is an example of printing item details.\n",
    "for playlist_item in results_json['items']:\n",
    "    print(playlist_item)"
   ]
  },
  {
   "cell_type": "code",
   "execution_count": 21,
   "metadata": {},
   "outputs": [
    {
     "name": "stdout",
     "output_type": "stream",
     "text": [
      "{'videoId': 'ETZJln4jtAo', 'videoPublishedAt': '2020-11-28T16:29:47Z'}\n",
      "{'videoId': '1OVHjHTkP3M', 'videoPublishedAt': '2020-11-28T16:30:12Z'}\n",
      "{'videoId': 'qfUbPLsLQcQ', 'videoPublishedAt': '2020-11-28T16:30:33Z'}\n",
      "{'videoId': 'rLTbhSaXhSM', 'videoPublishedAt': '2020-11-28T16:30:52Z'}\n",
      "{'videoId': 'wP7BhXrJKR8', 'videoPublishedAt': '2020-11-28T16:31:14Z'}\n"
     ]
    }
   ],
   "source": [
    "# Here is an example of gettig only contentDetails for each item.\n",
    "for playlist_item in results_json['items']:\n",
    "    print(playlist_item['contentDetails'])"
   ]
  },
  {
   "cell_type": "code",
   "execution_count": 22,
   "metadata": {},
   "outputs": [
    {
     "data": {
      "text/plain": [
       "['ETZJln4jtAo', '1OVHjHTkP3M', 'qfUbPLsLQcQ', 'rLTbhSaXhSM', 'wP7BhXrJKR8']"
      ]
     },
     "execution_count": 22,
     "metadata": {},
     "output_type": "execute_result"
    }
   ],
   "source": [
    "# Here is how you can get video ids (using map function)\n",
    "list(\n",
    "    map(\n",
    "        lambda playlist_item: playlist_item['contentDetails']['videoId'],\n",
    "        results_json['items']\n",
    "    )\n",
    ")"
   ]
  },
  {
   "cell_type": "code",
   "execution_count": 25,
   "metadata": {},
   "outputs": [
    {
     "data": {
      "text/plain": [
       "[{'videoId': 'ETZJln4jtAo', 'videoPublishedAt': '2020-11-28T16:29:47Z'},\n",
       " {'videoId': '1OVHjHTkP3M', 'videoPublishedAt': '2020-11-28T16:30:12Z'},\n",
       " {'videoId': 'qfUbPLsLQcQ', 'videoPublishedAt': '2020-11-28T16:30:33Z'},\n",
       " {'videoId': 'rLTbhSaXhSM', 'videoPublishedAt': '2020-11-28T16:30:52Z'},\n",
       " {'videoId': 'wP7BhXrJKR8', 'videoPublishedAt': '2020-11-28T16:31:14Z'}]"
      ]
     },
     "execution_count": 25,
     "metadata": {},
     "output_type": "execute_result"
    }
   ],
   "source": [
    "list(\n",
    "    map(\n",
    "        lambda playlist_item: playlist_item['contentDetails'],\n",
    "        results_json['items']\n",
    "    )\n",
    ")\n"
   ]
  },
  {
   "cell_type": "code",
   "execution_count": null,
   "metadata": {},
   "outputs": [],
   "source": []
  }
 ],
 "metadata": {
  "kernelspec": {
   "display_name": "Python 3",
   "language": "python",
   "name": "python3"
  },
  "language_info": {
   "codemirror_mode": {
    "name": "ipython",
    "version": 3
   },
   "file_extension": ".py",
   "mimetype": "text/x-python",
   "name": "python",
   "nbconvert_exporter": "python",
   "pygments_lexer": "ipython3",
   "version": "3.6.12"
  }
 },
 "nbformat": 4,
 "nbformat_minor": 4
}
