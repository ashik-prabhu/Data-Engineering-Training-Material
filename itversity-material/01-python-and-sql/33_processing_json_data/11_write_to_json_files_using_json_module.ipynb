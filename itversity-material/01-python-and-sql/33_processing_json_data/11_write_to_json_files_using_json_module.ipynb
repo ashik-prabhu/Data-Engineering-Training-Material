{
 "cells": [
  {
   "cell_type": "markdown",
   "id": "30262b0b",
   "metadata": {},
   "source": [
    "## Write to JSON files using json module\n",
    "\n",
    "Let us understand how to write to JSON files using `json` module.\n",
    "* We can use `dump` to save JSON data to files. We can also generate a JSON string from a `dict` using `dumps`."
   ]
  },
  {
   "cell_type": "markdown",
   "id": "d33d4850",
   "metadata": {},
   "source": [
    "In the below example we will see how to dump a dict to a string. We will see a bit more advanced example of writing list of dicts into JSON file shortly."
   ]
  },
  {
   "cell_type": "code",
   "execution_count": 1,
   "id": "858f041c",
   "metadata": {},
   "outputs": [],
   "source": [
    "course = {'course_name': 'Programming using Python',\n",
    "  'course_author': 'Bob Dillon',\n",
    "  'course_status': 'published',\n",
    "  'course_published_dt': '2020-09-30'}"
   ]
  },
  {
   "cell_type": "code",
   "execution_count": 2,
   "id": "2a1997fe",
   "metadata": {},
   "outputs": [
    {
     "data": {
      "text/plain": [
       "dict"
      ]
     },
     "execution_count": 2,
     "metadata": {},
     "output_type": "execute_result"
    }
   ],
   "source": [
    "type(course)"
   ]
  },
  {
   "cell_type": "code",
   "execution_count": 3,
   "id": "72320f6f",
   "metadata": {},
   "outputs": [],
   "source": [
    "import json"
   ]
  },
  {
   "cell_type": "code",
   "execution_count": 4,
   "id": "91f053ef",
   "metadata": {},
   "outputs": [
    {
     "data": {
      "text/plain": [
       "'{\"course_name\": \"Programming using Python\", \"course_author\": \"Bob Dillon\", \"course_status\": \"published\", \"course_published_dt\": \"2020-09-30\"}'"
      ]
     },
     "execution_count": 4,
     "metadata": {},
     "output_type": "execute_result"
    }
   ],
   "source": [
    "json.dumps(course)"
   ]
  },
  {
   "cell_type": "code",
   "execution_count": 5,
   "id": "8527881a",
   "metadata": {},
   "outputs": [
    {
     "data": {
      "text/plain": [
       "str"
      ]
     },
     "execution_count": 5,
     "metadata": {},
     "output_type": "execute_result"
    }
   ],
   "source": [
    "type(json.dumps(course))"
   ]
  },
  {
   "cell_type": "code",
   "execution_count": 7,
   "id": "fadf2a76",
   "metadata": {},
   "outputs": [],
   "source": [
    "courses = [{'course_name': 'Programming using Python',\n",
    "  'course_author': 'Bob Dillon',\n",
    "  'course_status': 'published',\n",
    "  'course_published_dt': '2020-09-30'},\n",
    " {'course_name': 'Data Engineering using Python',\n",
    "  'course_author': 'Bob Dillon',\n",
    "  'course_status': 'published',\n",
    "  'course_published_dt': '2020-07-15'},\n",
    " {'course_name': 'Data Engineering using Scala',\n",
    "  'course_author': 'Elvis Presley',\n",
    "  'course_status': 'draft',\n",
    "  'course_published_dt': None},\n",
    " {'course_name': 'Programming using Scala',\n",
    "  'course_author': 'Elvis Presley',\n",
    "  'course_status': 'published',\n",
    "  'course_published_dt': '2020-05-12'},\n",
    " {'course_name': 'Programming using Java',\n",
    "  'course_author': 'Mike Jack',\n",
    "  'course_status': 'inactive',\n",
    "  'course_published_dt': '2020-08-10'},\n",
    " {'course_name': 'Web Applications - Python Flask',\n",
    "  'course_author': 'Bob Dillon',\n",
    "  'course_status': 'inactive',\n",
    "  'course_published_dt': '2020-07-20'},\n",
    " {'course_name': 'Web Applications - Java Spring',\n",
    "  'course_author': 'Mike Jack',\n",
    "  'course_status': 'draft',\n",
    "  'course_published_dt': None},\n",
    " {'course_name': 'Pipeline Orchestration - Python',\n",
    "  'course_author': 'Bob Dillon',\n",
    "  'course_status': 'draft',\n",
    "  'course_published_dt': None},\n",
    " {'course_name': 'Streaming Pipelines - Python',\n",
    "  'course_author': 'Bob Dillon',\n",
    "  'course_status': 'published',\n",
    "  'course_published_dt': '2020-10-05'},\n",
    " {'course_name': 'Web Applications - Scala Play',\n",
    "  'course_author': 'Elvis Presley',\n",
    "  'course_status': 'inactive',\n",
    "  'course_published_dt': '2020-09-30'},\n",
    " {'course_name': 'Web Applications - Python Django',\n",
    "  'course_author': 'Bob Dillon',\n",
    "  'course_status': 'published',\n",
    "  'course_published_dt': '2020-06-23'},\n",
    " {'course_name': 'Server Automation - Ansible',\n",
    "  'course_author': 'Uncle Sam',\n",
    "  'course_status': 'published',\n",
    "  'course_published_dt': '2020-07-05'}]"
   ]
  },
  {
   "cell_type": "code",
   "execution_count": 8,
   "id": "9657b51b",
   "metadata": {},
   "outputs": [
    {
     "data": {
      "text/plain": [
       "'[{\"course_name\": \"Programming using Python\", \"course_author\": \"Bob Dillon\", \"course_status\": \"published\", \"course_published_dt\": \"2020-09-30\"}, {\"course_name\": \"Data Engineering using Python\", \"course_author\": \"Bob Dillon\", \"course_status\": \"published\", \"course_published_dt\": \"2020-07-15\"}, {\"course_name\": \"Data Engineering using Scala\", \"course_author\": \"Elvis Presley\", \"course_status\": \"draft\", \"course_published_dt\": null}, {\"course_name\": \"Programming using Scala\", \"course_author\": \"Elvis Presley\", \"course_status\": \"published\", \"course_published_dt\": \"2020-05-12\"}, {\"course_name\": \"Programming using Java\", \"course_author\": \"Mike Jack\", \"course_status\": \"inactive\", \"course_published_dt\": \"2020-08-10\"}, {\"course_name\": \"Web Applications - Python Flask\", \"course_author\": \"Bob Dillon\", \"course_status\": \"inactive\", \"course_published_dt\": \"2020-07-20\"}, {\"course_name\": \"Web Applications - Java Spring\", \"course_author\": \"Mike Jack\", \"course_status\": \"draft\", \"course_published_dt\": null}, {\"course_name\": \"Pipeline Orchestration - Python\", \"course_author\": \"Bob Dillon\", \"course_status\": \"draft\", \"course_published_dt\": null}, {\"course_name\": \"Streaming Pipelines - Python\", \"course_author\": \"Bob Dillon\", \"course_status\": \"published\", \"course_published_dt\": \"2020-10-05\"}, {\"course_name\": \"Web Applications - Scala Play\", \"course_author\": \"Elvis Presley\", \"course_status\": \"inactive\", \"course_published_dt\": \"2020-09-30\"}, {\"course_name\": \"Web Applications - Python Django\", \"course_author\": \"Bob Dillon\", \"course_status\": \"published\", \"course_published_dt\": \"2020-06-23\"}, {\"course_name\": \"Server Automation - Ansible\", \"course_author\": \"Uncle Sam\", \"course_status\": \"published\", \"course_published_dt\": \"2020-07-05\"}]'"
      ]
     },
     "execution_count": 8,
     "metadata": {},
     "output_type": "execute_result"
    }
   ],
   "source": [
    "json.dumps(courses) # This will dump json as a string object (not to file)"
   ]
  },
  {
   "cell_type": "markdown",
   "id": "b69bd01c",
   "metadata": {},
   "source": [
    "Here are the steps involved in writing data in single JSON to JSON files using `json` module.\n",
    "* Make sure you have a dict or any other object which can be converted to single valid json.\n",
    "* Open the file in write mode.\n",
    "* Write the data into the file. You have to use `json.dump` to write to file.\n",
    "* Close the file."
   ]
  },
  {
   "cell_type": "code",
   "execution_count": 9,
   "id": "ef2f8194",
   "metadata": {},
   "outputs": [],
   "source": [
    "# list of dicts\n",
    "\n",
    "courses = [{'course_name': 'Programming using Python',\n",
    "  'course_author': 'Bob Dillon',\n",
    "  'course_status': 'published',\n",
    "  'course_published_dt': '2020-09-30'},\n",
    " {'course_name': 'Data Engineering using Python',\n",
    "  'course_author': 'Bob Dillon',\n",
    "  'course_status': 'published',\n",
    "  'course_published_dt': '2020-07-15'},\n",
    " {'course_name': 'Data Engineering using Scala',\n",
    "  'course_author': 'Elvis Presley',\n",
    "  'course_status': 'draft',\n",
    "  'course_published_dt': None},\n",
    " {'course_name': 'Programming using Scala',\n",
    "  'course_author': 'Elvis Presley',\n",
    "  'course_status': 'published',\n",
    "  'course_published_dt': '2020-05-12'},\n",
    " {'course_name': 'Programming using Java',\n",
    "  'course_author': 'Mike Jack',\n",
    "  'course_status': 'inactive',\n",
    "  'course_published_dt': '2020-08-10'},\n",
    " {'course_name': 'Web Applications - Python Flask',\n",
    "  'course_author': 'Bob Dillon',\n",
    "  'course_status': 'inactive',\n",
    "  'course_published_dt': '2020-07-20'},\n",
    " {'course_name': 'Web Applications - Java Spring',\n",
    "  'course_author': 'Mike Jack',\n",
    "  'course_status': 'draft',\n",
    "  'course_published_dt': None},\n",
    " {'course_name': 'Pipeline Orchestration - Python',\n",
    "  'course_author': 'Bob Dillon',\n",
    "  'course_status': 'draft',\n",
    "  'course_published_dt': None},\n",
    " {'course_name': 'Streaming Pipelines - Python',\n",
    "  'course_author': 'Bob Dillon',\n",
    "  'course_status': 'published',\n",
    "  'course_published_dt': '2020-10-05'},\n",
    " {'course_name': 'Web Applications - Scala Play',\n",
    "  'course_author': 'Elvis Presley',\n",
    "  'course_status': 'inactive',\n",
    "  'course_published_dt': '2020-09-30'},\n",
    " {'course_name': 'Web Applications - Python Django',\n",
    "  'course_author': 'Bob Dillon',\n",
    "  'course_status': 'published',\n",
    "  'course_published_dt': '2020-06-23'},\n",
    " {'course_name': 'Server Automation - Ansible',\n",
    "  'course_author': 'Uncle Sam',\n",
    "  'course_status': 'published',\n",
    "  'course_published_dt': '2020-07-05'}]"
   ]
  },
  {
   "cell_type": "code",
   "execution_count": 10,
   "id": "87ed282c",
   "metadata": {},
   "outputs": [
    {
     "data": {
      "text/plain": [
       "\u001b[0;31mSignature:\u001b[0m\n",
       "\u001b[0mjson\u001b[0m\u001b[0;34m.\u001b[0m\u001b[0mdump\u001b[0m\u001b[0;34m(\u001b[0m\u001b[0;34m\u001b[0m\n",
       "\u001b[0;34m\u001b[0m    \u001b[0mobj\u001b[0m\u001b[0;34m,\u001b[0m\u001b[0;34m\u001b[0m\n",
       "\u001b[0;34m\u001b[0m    \u001b[0mfp\u001b[0m\u001b[0;34m,\u001b[0m\u001b[0;34m\u001b[0m\n",
       "\u001b[0;34m\u001b[0m    \u001b[0;34m*\u001b[0m\u001b[0;34m,\u001b[0m\u001b[0;34m\u001b[0m\n",
       "\u001b[0;34m\u001b[0m    \u001b[0mskipkeys\u001b[0m\u001b[0;34m=\u001b[0m\u001b[0;32mFalse\u001b[0m\u001b[0;34m,\u001b[0m\u001b[0;34m\u001b[0m\n",
       "\u001b[0;34m\u001b[0m    \u001b[0mensure_ascii\u001b[0m\u001b[0;34m=\u001b[0m\u001b[0;32mTrue\u001b[0m\u001b[0;34m,\u001b[0m\u001b[0;34m\u001b[0m\n",
       "\u001b[0;34m\u001b[0m    \u001b[0mcheck_circular\u001b[0m\u001b[0;34m=\u001b[0m\u001b[0;32mTrue\u001b[0m\u001b[0;34m,\u001b[0m\u001b[0;34m\u001b[0m\n",
       "\u001b[0;34m\u001b[0m    \u001b[0mallow_nan\u001b[0m\u001b[0;34m=\u001b[0m\u001b[0;32mTrue\u001b[0m\u001b[0;34m,\u001b[0m\u001b[0;34m\u001b[0m\n",
       "\u001b[0;34m\u001b[0m    \u001b[0mcls\u001b[0m\u001b[0;34m=\u001b[0m\u001b[0;32mNone\u001b[0m\u001b[0;34m,\u001b[0m\u001b[0;34m\u001b[0m\n",
       "\u001b[0;34m\u001b[0m    \u001b[0mindent\u001b[0m\u001b[0;34m=\u001b[0m\u001b[0;32mNone\u001b[0m\u001b[0;34m,\u001b[0m\u001b[0;34m\u001b[0m\n",
       "\u001b[0;34m\u001b[0m    \u001b[0mseparators\u001b[0m\u001b[0;34m=\u001b[0m\u001b[0;32mNone\u001b[0m\u001b[0;34m,\u001b[0m\u001b[0;34m\u001b[0m\n",
       "\u001b[0;34m\u001b[0m    \u001b[0mdefault\u001b[0m\u001b[0;34m=\u001b[0m\u001b[0;32mNone\u001b[0m\u001b[0;34m,\u001b[0m\u001b[0;34m\u001b[0m\n",
       "\u001b[0;34m\u001b[0m    \u001b[0msort_keys\u001b[0m\u001b[0;34m=\u001b[0m\u001b[0;32mFalse\u001b[0m\u001b[0;34m,\u001b[0m\u001b[0;34m\u001b[0m\n",
       "\u001b[0;34m\u001b[0m    \u001b[0;34m**\u001b[0m\u001b[0mkw\u001b[0m\u001b[0;34m,\u001b[0m\u001b[0;34m\u001b[0m\n",
       "\u001b[0;34m\u001b[0m\u001b[0;34m)\u001b[0m\u001b[0;34m\u001b[0m\u001b[0;34m\u001b[0m\u001b[0m\n",
       "\u001b[0;31mDocstring:\u001b[0m\n",
       "Serialize ``obj`` as a JSON formatted stream to ``fp`` (a\n",
       "``.write()``-supporting file-like object).\n",
       "\n",
       "If ``skipkeys`` is true then ``dict`` keys that are not basic types\n",
       "(``str``, ``int``, ``float``, ``bool``, ``None``) will be skipped\n",
       "instead of raising a ``TypeError``.\n",
       "\n",
       "If ``ensure_ascii`` is false, then the strings written to ``fp`` can\n",
       "contain non-ASCII characters if they appear in strings contained in\n",
       "``obj``. Otherwise, all such characters are escaped in JSON strings.\n",
       "\n",
       "If ``check_circular`` is false, then the circular reference check\n",
       "for container types will be skipped and a circular reference will\n",
       "result in an ``OverflowError`` (or worse).\n",
       "\n",
       "If ``allow_nan`` is false, then it will be a ``ValueError`` to\n",
       "serialize out of range ``float`` values (``nan``, ``inf``, ``-inf``)\n",
       "in strict compliance of the JSON specification, instead of using the\n",
       "JavaScript equivalents (``NaN``, ``Infinity``, ``-Infinity``).\n",
       "\n",
       "If ``indent`` is a non-negative integer, then JSON array elements and\n",
       "object members will be pretty-printed with that indent level. An indent\n",
       "level of 0 will only insert newlines. ``None`` is the most compact\n",
       "representation.\n",
       "\n",
       "If specified, ``separators`` should be an ``(item_separator, key_separator)``\n",
       "tuple.  The default is ``(', ', ': ')`` if *indent* is ``None`` and\n",
       "``(',', ': ')`` otherwise.  To get the most compact JSON representation,\n",
       "you should specify ``(',', ':')`` to eliminate whitespace.\n",
       "\n",
       "``default(obj)`` is a function that should return a serializable version\n",
       "of obj or raise TypeError. The default simply raises TypeError.\n",
       "\n",
       "If *sort_keys* is true (default: ``False``), then the output of\n",
       "dictionaries will be sorted by key.\n",
       "\n",
       "To use a custom ``JSONEncoder`` subclass (e.g. one that overrides the\n",
       "``.default()`` method to serialize additional types), specify it with\n",
       "the ``cls`` kwarg; otherwise ``JSONEncoder`` is used.\n",
       "\u001b[0;31mFile:\u001b[0m      /opt/anaconda3/envs/beakerx/lib/python3.6/json/__init__.py\n",
       "\u001b[0;31mType:\u001b[0m      function\n"
      ]
     },
     "metadata": {},
     "output_type": "display_data"
    }
   ],
   "source": [
    "json.dump?"
   ]
  },
  {
   "cell_type": "code",
   "execution_count": 11,
   "id": "0352e0a3",
   "metadata": {},
   "outputs": [
    {
     "data": {
      "text/plain": [
       "\u001b[0;31mSignature:\u001b[0m\n",
       "\u001b[0mopen\u001b[0m\u001b[0;34m(\u001b[0m\u001b[0;34m\u001b[0m\n",
       "\u001b[0;34m\u001b[0m    \u001b[0mfile\u001b[0m\u001b[0;34m,\u001b[0m\u001b[0;34m\u001b[0m\n",
       "\u001b[0;34m\u001b[0m    \u001b[0mmode\u001b[0m\u001b[0;34m=\u001b[0m\u001b[0;34m'r'\u001b[0m\u001b[0;34m,\u001b[0m\u001b[0;34m\u001b[0m\n",
       "\u001b[0;34m\u001b[0m    \u001b[0mbuffering\u001b[0m\u001b[0;34m=\u001b[0m\u001b[0;34m-\u001b[0m\u001b[0;36m1\u001b[0m\u001b[0;34m,\u001b[0m\u001b[0;34m\u001b[0m\n",
       "\u001b[0;34m\u001b[0m    \u001b[0mencoding\u001b[0m\u001b[0;34m=\u001b[0m\u001b[0;32mNone\u001b[0m\u001b[0;34m,\u001b[0m\u001b[0;34m\u001b[0m\n",
       "\u001b[0;34m\u001b[0m    \u001b[0merrors\u001b[0m\u001b[0;34m=\u001b[0m\u001b[0;32mNone\u001b[0m\u001b[0;34m,\u001b[0m\u001b[0;34m\u001b[0m\n",
       "\u001b[0;34m\u001b[0m    \u001b[0mnewline\u001b[0m\u001b[0;34m=\u001b[0m\u001b[0;32mNone\u001b[0m\u001b[0;34m,\u001b[0m\u001b[0;34m\u001b[0m\n",
       "\u001b[0;34m\u001b[0m    \u001b[0mclosefd\u001b[0m\u001b[0;34m=\u001b[0m\u001b[0;32mTrue\u001b[0m\u001b[0;34m,\u001b[0m\u001b[0;34m\u001b[0m\n",
       "\u001b[0;34m\u001b[0m    \u001b[0mopener\u001b[0m\u001b[0;34m=\u001b[0m\u001b[0;32mNone\u001b[0m\u001b[0;34m,\u001b[0m\u001b[0;34m\u001b[0m\n",
       "\u001b[0;34m\u001b[0m\u001b[0;34m)\u001b[0m\u001b[0;34m\u001b[0m\u001b[0;34m\u001b[0m\u001b[0m\n",
       "\u001b[0;31mDocstring:\u001b[0m\n",
       "Open file and return a stream.  Raise IOError upon failure.\n",
       "\n",
       "file is either a text or byte string giving the name (and the path\n",
       "if the file isn't in the current working directory) of the file to\n",
       "be opened or an integer file descriptor of the file to be\n",
       "wrapped. (If a file descriptor is given, it is closed when the\n",
       "returned I/O object is closed, unless closefd is set to False.)\n",
       "\n",
       "mode is an optional string that specifies the mode in which the file\n",
       "is opened. It defaults to 'r' which means open for reading in text\n",
       "mode.  Other common values are 'w' for writing (truncating the file if\n",
       "it already exists), 'x' for creating and writing to a new file, and\n",
       "'a' for appending (which on some Unix systems, means that all writes\n",
       "append to the end of the file regardless of the current seek position).\n",
       "In text mode, if encoding is not specified the encoding used is platform\n",
       "dependent: locale.getpreferredencoding(False) is called to get the\n",
       "current locale encoding. (For reading and writing raw bytes use binary\n",
       "mode and leave encoding unspecified.) The available modes are:\n",
       "\n",
       "========= ===============================================================\n",
       "Character Meaning\n",
       "--------- ---------------------------------------------------------------\n",
       "'r'       open for reading (default)\n",
       "'w'       open for writing, truncating the file first\n",
       "'x'       create a new file and open it for writing\n",
       "'a'       open for writing, appending to the end of the file if it exists\n",
       "'b'       binary mode\n",
       "'t'       text mode (default)\n",
       "'+'       open a disk file for updating (reading and writing)\n",
       "'U'       universal newline mode (deprecated)\n",
       "========= ===============================================================\n",
       "\n",
       "The default mode is 'rt' (open for reading text). For binary random\n",
       "access, the mode 'w+b' opens and truncates the file to 0 bytes, while\n",
       "'r+b' opens the file without truncation. The 'x' mode implies 'w' and\n",
       "raises an `FileExistsError` if the file already exists.\n",
       "\n",
       "Python distinguishes between files opened in binary and text modes,\n",
       "even when the underlying operating system doesn't. Files opened in\n",
       "binary mode (appending 'b' to the mode argument) return contents as\n",
       "bytes objects without any decoding. In text mode (the default, or when\n",
       "'t' is appended to the mode argument), the contents of the file are\n",
       "returned as strings, the bytes having been first decoded using a\n",
       "platform-dependent encoding or using the specified encoding if given.\n",
       "\n",
       "'U' mode is deprecated and will raise an exception in future versions\n",
       "of Python.  It has no effect in Python 3.  Use newline to control\n",
       "universal newlines mode.\n",
       "\n",
       "buffering is an optional integer used to set the buffering policy.\n",
       "Pass 0 to switch buffering off (only allowed in binary mode), 1 to select\n",
       "line buffering (only usable in text mode), and an integer > 1 to indicate\n",
       "the size of a fixed-size chunk buffer.  When no buffering argument is\n",
       "given, the default buffering policy works as follows:\n",
       "\n",
       "* Binary files are buffered in fixed-size chunks; the size of the buffer\n",
       "  is chosen using a heuristic trying to determine the underlying device's\n",
       "  \"block size\" and falling back on `io.DEFAULT_BUFFER_SIZE`.\n",
       "  On many systems, the buffer will typically be 4096 or 8192 bytes long.\n",
       "\n",
       "* \"Interactive\" text files (files for which isatty() returns True)\n",
       "  use line buffering.  Other text files use the policy described above\n",
       "  for binary files.\n",
       "\n",
       "encoding is the name of the encoding used to decode or encode the\n",
       "file. This should only be used in text mode. The default encoding is\n",
       "platform dependent, but any encoding supported by Python can be\n",
       "passed.  See the codecs module for the list of supported encodings.\n",
       "\n",
       "errors is an optional string that specifies how encoding errors are to\n",
       "be handled---this argument should not be used in binary mode. Pass\n",
       "'strict' to raise a ValueError exception if there is an encoding error\n",
       "(the default of None has the same effect), or pass 'ignore' to ignore\n",
       "errors. (Note that ignoring encoding errors can lead to data loss.)\n",
       "See the documentation for codecs.register or run 'help(codecs.Codec)'\n",
       "for a list of the permitted encoding error strings.\n",
       "\n",
       "newline controls how universal newlines works (it only applies to text\n",
       "mode). It can be None, '', '\\n', '\\r', and '\\r\\n'.  It works as\n",
       "follows:\n",
       "\n",
       "* On input, if newline is None, universal newlines mode is\n",
       "  enabled. Lines in the input can end in '\\n', '\\r', or '\\r\\n', and\n",
       "  these are translated into '\\n' before being returned to the\n",
       "  caller. If it is '', universal newline mode is enabled, but line\n",
       "  endings are returned to the caller untranslated. If it has any of\n",
       "  the other legal values, input lines are only terminated by the given\n",
       "  string, and the line ending is returned to the caller untranslated.\n",
       "\n",
       "* On output, if newline is None, any '\\n' characters written are\n",
       "  translated to the system default line separator, os.linesep. If\n",
       "  newline is '' or '\\n', no translation takes place. If newline is any\n",
       "  of the other legal values, any '\\n' characters written are translated\n",
       "  to the given string.\n",
       "\n",
       "If closefd is False, the underlying file descriptor will be kept open\n",
       "when the file is closed. This does not work when a file name is given\n",
       "and must be True in that case.\n",
       "\n",
       "A custom opener can be used by passing a callable as *opener*. The\n",
       "underlying file descriptor for the file object is then obtained by\n",
       "calling *opener* with (*file*, *flags*). *opener* must return an open\n",
       "file descriptor (passing os.open as *opener* results in functionality\n",
       "similar to passing None).\n",
       "\n",
       "open() returns a file object whose type depends on the mode, and\n",
       "through which the standard file operations such as reading and writing\n",
       "are performed. When open() is used to open a file in a text mode ('w',\n",
       "'r', 'wt', 'rt', etc.), it returns a TextIOWrapper. When used to open\n",
       "a file in a binary mode, the returned class varies: in read binary\n",
       "mode, it returns a BufferedReader; in write binary and append binary\n",
       "modes, it returns a BufferedWriter, and in read/write mode, it returns\n",
       "a BufferedRandom.\n",
       "\n",
       "It is also possible to use a string or bytearray as a file for both\n",
       "reading and writing. For strings StringIO can be used like a file\n",
       "opened in a text mode, and for bytes a BytesIO can be used like a file\n",
       "opened in a binary mode.\n",
       "\u001b[0;31mType:\u001b[0m      builtin_function_or_method\n"
      ]
     },
     "metadata": {},
     "output_type": "display_data"
    }
   ],
   "source": [
    "open?"
   ]
  },
  {
   "cell_type": "code",
   "execution_count": 12,
   "id": "9e8330f0",
   "metadata": {},
   "outputs": [],
   "source": [
    "!mkdir -p data/courses"
   ]
  },
  {
   "cell_type": "code",
   "execution_count": 13,
   "id": "43f49bfd",
   "metadata": {},
   "outputs": [],
   "source": [
    "# Opening the file in write mode\n",
    "courses_file = open('data/courses/courses.json', 'w')"
   ]
  },
  {
   "cell_type": "code",
   "execution_count": 14,
   "id": "207694e0",
   "metadata": {},
   "outputs": [],
   "source": [
    "# Dumpling the list of dicts as JSON array into the file\n",
    "json.dump(courses, courses_file)"
   ]
  },
  {
   "cell_type": "code",
   "execution_count": 15,
   "id": "a528ec50",
   "metadata": {},
   "outputs": [],
   "source": [
    "# Closing the file\n",
    "courses_file.close()"
   ]
  },
  {
   "cell_type": "code",
   "execution_count": 16,
   "id": "25a2efd9",
   "metadata": {},
   "outputs": [
    {
     "name": "stdout",
     "output_type": "stream",
     "text": [
      "-rw-r--r-- 1 itv002461 students 1729 May  4 14:25 data/courses/courses.json\n"
     ]
    }
   ],
   "source": [
    "!ls -ltr data/courses/courses.json"
   ]
  },
  {
   "cell_type": "code",
   "execution_count": 17,
   "id": "7fc328b3",
   "metadata": {},
   "outputs": [
    {
     "name": "stdout",
     "output_type": "stream",
     "text": [
      "[{\"course_name\": \"Programming using Python\", \"course_author\": \"Bob Dillon\", \"course_status\": \"published\", \"course_published_dt\": \"2020-09-30\"}, {\"course_name\": \"Data Engineering using Python\", \"course_author\": \"Bob Dillon\", \"course_status\": \"published\", \"course_published_dt\": \"2020-07-15\"}, {\"course_name\": \"Data Engineering using Scala\", \"course_author\": \"Elvis Presley\", \"course_status\": \"draft\", \"course_published_dt\": null}, {\"course_name\": \"Programming using Scala\", \"course_author\": \"Elvis Presley\", \"course_status\": \"published\", \"course_published_dt\": \"2020-05-12\"}, {\"course_name\": \"Programming using Java\", \"course_author\": \"Mike Jack\", \"course_status\": \"inactive\", \"course_published_dt\": \"2020-08-10\"}, {\"course_name\": \"Web Applications - Python Flask\", \"course_author\": \"Bob Dillon\", \"course_status\": \"inactive\", \"course_published_dt\": \"2020-07-20\"}, {\"course_name\": \"Web Applications - Java Spring\", \"course_author\": \"Mike Jack\", \"course_status\": \"draft\", \"course_published_dt\": null}, {\"course_name\": \"Pipeline Orchestration - Python\", \"course_author\": \"Bob Dillon\", \"course_status\": \"draft\", \"course_published_dt\": null}, {\"course_name\": \"Streaming Pipelines - Python\", \"course_author\": \"Bob Dillon\", \"course_status\": \"published\", \"course_published_dt\": \"2020-10-05\"}, {\"course_name\": \"Web Applications - Scala Play\", \"course_author\": \"Elvis Presley\", \"course_status\": \"inactive\", \"course_published_dt\": \"2020-09-30\"}, {\"course_name\": \"Web Applications - Python Django\", \"course_author\": \"Bob Dillon\", \"course_status\": \"published\", \"course_published_dt\": \"2020-06-23\"}, {\"course_name\": \"Server Automation - Ansible\", \"course_author\": \"Uncle Sam\", \"course_status\": \"published\", \"course_published_dt\": \"2020-07-05\"}]"
     ]
    }
   ],
   "source": [
    "!cat data/courses/courses.json"
   ]
  },
  {
   "cell_type": "markdown",
   "id": "e0e5fe2d",
   "metadata": {},
   "source": [
    "Here are the steps involved in dumping a JSON array to the file.\n",
    "* Make sure you have list of dicts.\n",
    "* Open the file in write mode.\n",
    "* Write the data into the file. You have to use `json.dump` to write to file.\n",
    "* You have to dump one element at a time into the file until all the dicts are written to file.\n",
    "* Close the file."
   ]
  },
  {
   "cell_type": "code",
   "execution_count": 18,
   "id": "c4f10782",
   "metadata": {},
   "outputs": [],
   "source": [
    "!rm data/courses/courses.json"
   ]
  },
  {
   "cell_type": "code",
   "execution_count": 19,
   "id": "b678bd3d",
   "metadata": {},
   "outputs": [],
   "source": [
    "# Opening the file in write mode\n",
    "courses_file = open('data/courses/courses.json', 'w')"
   ]
  },
  {
   "cell_type": "code",
   "execution_count": 20,
   "id": "8058d6a6",
   "metadata": {},
   "outputs": [
    {
     "data": {
      "text/plain": [
       "12"
      ]
     },
     "execution_count": 20,
     "metadata": {},
     "output_type": "execute_result"
    }
   ],
   "source": [
    "len(courses)"
   ]
  },
  {
   "cell_type": "code",
   "execution_count": 21,
   "id": "f1c26ad6",
   "metadata": {},
   "outputs": [],
   "source": [
    "# Writing each dict as JSON document as line in the file\n",
    "for course in courses:\n",
    "    json.dump(course, courses_file) # Writing one JSON at a time.\n",
    "    courses_file.write('\\n') # we need to add new line character after each JSON document in the file."
   ]
  },
  {
   "cell_type": "code",
   "execution_count": 22,
   "id": "ba422a3b",
   "metadata": {},
   "outputs": [],
   "source": [
    "# Closing the file\n",
    "courses_file.close()"
   ]
  },
  {
   "cell_type": "code",
   "execution_count": 23,
   "id": "1f03581f",
   "metadata": {},
   "outputs": [
    {
     "name": "stdout",
     "output_type": "stream",
     "text": [
      "-rw-r--r-- 1 itv002461 students 1717 May  4 14:25 data/courses/courses.json\n"
     ]
    }
   ],
   "source": [
    "!ls -ltr data/courses/courses.json"
   ]
  },
  {
   "cell_type": "code",
   "execution_count": 24,
   "id": "261d2e06",
   "metadata": {},
   "outputs": [
    {
     "name": "stdout",
     "output_type": "stream",
     "text": [
      "{\"course_name\": \"Programming using Python\", \"course_author\": \"Bob Dillon\", \"course_status\": \"published\", \"course_published_dt\": \"2020-09-30\"}\n",
      "{\"course_name\": \"Data Engineering using Python\", \"course_author\": \"Bob Dillon\", \"course_status\": \"published\", \"course_published_dt\": \"2020-07-15\"}\n",
      "{\"course_name\": \"Data Engineering using Scala\", \"course_author\": \"Elvis Presley\", \"course_status\": \"draft\", \"course_published_dt\": null}\n",
      "{\"course_name\": \"Programming using Scala\", \"course_author\": \"Elvis Presley\", \"course_status\": \"published\", \"course_published_dt\": \"2020-05-12\"}\n",
      "{\"course_name\": \"Programming using Java\", \"course_author\": \"Mike Jack\", \"course_status\": \"inactive\", \"course_published_dt\": \"2020-08-10\"}\n",
      "{\"course_name\": \"Web Applications - Python Flask\", \"course_author\": \"Bob Dillon\", \"course_status\": \"inactive\", \"course_published_dt\": \"2020-07-20\"}\n",
      "{\"course_name\": \"Web Applications - Java Spring\", \"course_author\": \"Mike Jack\", \"course_status\": \"draft\", \"course_published_dt\": null}\n",
      "{\"course_name\": \"Pipeline Orchestration - Python\", \"course_author\": \"Bob Dillon\", \"course_status\": \"draft\", \"course_published_dt\": null}\n",
      "{\"course_name\": \"Streaming Pipelines - Python\", \"course_author\": \"Bob Dillon\", \"course_status\": \"published\", \"course_published_dt\": \"2020-10-05\"}\n",
      "{\"course_name\": \"Web Applications - Scala Play\", \"course_author\": \"Elvis Presley\", \"course_status\": \"inactive\", \"course_published_dt\": \"2020-09-30\"}\n",
      "{\"course_name\": \"Web Applications - Python Django\", \"course_author\": \"Bob Dillon\", \"course_status\": \"published\", \"course_published_dt\": \"2020-06-23\"}\n",
      "{\"course_name\": \"Server Automation - Ansible\", \"course_author\": \"Uncle Sam\", \"course_status\": \"published\", \"course_published_dt\": \"2020-07-05\"}\n"
     ]
    }
   ],
   "source": [
    "!cat data/courses/courses.json"
   ]
  },
  {
   "cell_type": "code",
   "execution_count": 25,
   "id": "cf2aa04d",
   "metadata": {},
   "outputs": [],
   "source": [
    "import pandas as pd"
   ]
  },
  {
   "cell_type": "code",
   "execution_count": 26,
   "id": "7bc1e88f",
   "metadata": {},
   "outputs": [
    {
     "data": {
      "text/html": [
       "<div>\n",
       "<style scoped>\n",
       "    .dataframe tbody tr th:only-of-type {\n",
       "        vertical-align: middle;\n",
       "    }\n",
       "\n",
       "    .dataframe tbody tr th {\n",
       "        vertical-align: top;\n",
       "    }\n",
       "\n",
       "    .dataframe thead th {\n",
       "        text-align: right;\n",
       "    }\n",
       "</style>\n",
       "<table border=\"1\" class=\"dataframe\">\n",
       "  <thead>\n",
       "    <tr style=\"text-align: right;\">\n",
       "      <th></th>\n",
       "      <th>course_name</th>\n",
       "      <th>course_author</th>\n",
       "      <th>course_status</th>\n",
       "      <th>course_published_dt</th>\n",
       "    </tr>\n",
       "  </thead>\n",
       "  <tbody>\n",
       "    <tr>\n",
       "      <th>0</th>\n",
       "      <td>Programming using Python</td>\n",
       "      <td>Bob Dillon</td>\n",
       "      <td>published</td>\n",
       "      <td>2020-09-30</td>\n",
       "    </tr>\n",
       "    <tr>\n",
       "      <th>1</th>\n",
       "      <td>Data Engineering using Python</td>\n",
       "      <td>Bob Dillon</td>\n",
       "      <td>published</td>\n",
       "      <td>2020-07-15</td>\n",
       "    </tr>\n",
       "    <tr>\n",
       "      <th>2</th>\n",
       "      <td>Data Engineering using Scala</td>\n",
       "      <td>Elvis Presley</td>\n",
       "      <td>draft</td>\n",
       "      <td>None</td>\n",
       "    </tr>\n",
       "    <tr>\n",
       "      <th>3</th>\n",
       "      <td>Programming using Scala</td>\n",
       "      <td>Elvis Presley</td>\n",
       "      <td>published</td>\n",
       "      <td>2020-05-12</td>\n",
       "    </tr>\n",
       "    <tr>\n",
       "      <th>4</th>\n",
       "      <td>Programming using Java</td>\n",
       "      <td>Mike Jack</td>\n",
       "      <td>inactive</td>\n",
       "      <td>2020-08-10</td>\n",
       "    </tr>\n",
       "    <tr>\n",
       "      <th>5</th>\n",
       "      <td>Web Applications - Python Flask</td>\n",
       "      <td>Bob Dillon</td>\n",
       "      <td>inactive</td>\n",
       "      <td>2020-07-20</td>\n",
       "    </tr>\n",
       "    <tr>\n",
       "      <th>6</th>\n",
       "      <td>Web Applications - Java Spring</td>\n",
       "      <td>Mike Jack</td>\n",
       "      <td>draft</td>\n",
       "      <td>None</td>\n",
       "    </tr>\n",
       "    <tr>\n",
       "      <th>7</th>\n",
       "      <td>Pipeline Orchestration - Python</td>\n",
       "      <td>Bob Dillon</td>\n",
       "      <td>draft</td>\n",
       "      <td>None</td>\n",
       "    </tr>\n",
       "    <tr>\n",
       "      <th>8</th>\n",
       "      <td>Streaming Pipelines - Python</td>\n",
       "      <td>Bob Dillon</td>\n",
       "      <td>published</td>\n",
       "      <td>2020-10-05</td>\n",
       "    </tr>\n",
       "    <tr>\n",
       "      <th>9</th>\n",
       "      <td>Web Applications - Scala Play</td>\n",
       "      <td>Elvis Presley</td>\n",
       "      <td>inactive</td>\n",
       "      <td>2020-09-30</td>\n",
       "    </tr>\n",
       "    <tr>\n",
       "      <th>10</th>\n",
       "      <td>Web Applications - Python Django</td>\n",
       "      <td>Bob Dillon</td>\n",
       "      <td>published</td>\n",
       "      <td>2020-06-23</td>\n",
       "    </tr>\n",
       "    <tr>\n",
       "      <th>11</th>\n",
       "      <td>Server Automation - Ansible</td>\n",
       "      <td>Uncle Sam</td>\n",
       "      <td>published</td>\n",
       "      <td>2020-07-05</td>\n",
       "    </tr>\n",
       "  </tbody>\n",
       "</table>\n",
       "</div>"
      ],
      "text/plain": [
       "                         course_name  course_author course_status  \\\n",
       "0           Programming using Python     Bob Dillon     published   \n",
       "1      Data Engineering using Python     Bob Dillon     published   \n",
       "2       Data Engineering using Scala  Elvis Presley         draft   \n",
       "3            Programming using Scala  Elvis Presley     published   \n",
       "4             Programming using Java      Mike Jack      inactive   \n",
       "5    Web Applications - Python Flask     Bob Dillon      inactive   \n",
       "6     Web Applications - Java Spring      Mike Jack         draft   \n",
       "7    Pipeline Orchestration - Python     Bob Dillon         draft   \n",
       "8       Streaming Pipelines - Python     Bob Dillon     published   \n",
       "9      Web Applications - Scala Play  Elvis Presley      inactive   \n",
       "10  Web Applications - Python Django     Bob Dillon     published   \n",
       "11       Server Automation - Ansible      Uncle Sam     published   \n",
       "\n",
       "   course_published_dt  \n",
       "0           2020-09-30  \n",
       "1           2020-07-15  \n",
       "2                 None  \n",
       "3           2020-05-12  \n",
       "4           2020-08-10  \n",
       "5           2020-07-20  \n",
       "6                 None  \n",
       "7                 None  \n",
       "8           2020-10-05  \n",
       "9           2020-09-30  \n",
       "10          2020-06-23  \n",
       "11          2020-07-05  "
      ]
     },
     "execution_count": 26,
     "metadata": {},
     "output_type": "execute_result"
    }
   ],
   "source": [
    "pd.read_json('data/courses/courses.json', lines=True)"
   ]
  },
  {
   "cell_type": "code",
   "execution_count": null,
   "id": "1f4ff06b",
   "metadata": {},
   "outputs": [],
   "source": []
  }
 ],
 "metadata": {
  "kernelspec": {
   "display_name": "Pyspark 3",
   "language": "python",
   "name": "pyspark3"
  },
  "language_info": {
   "codemirror_mode": {
    "name": "ipython",
    "version": 3
   },
   "file_extension": ".py",
   "mimetype": "text/x-python",
   "name": "python",
   "nbconvert_exporter": "python",
   "pygments_lexer": "ipython3",
   "version": "3.6.12"
  }
 },
 "nbformat": 4,
 "nbformat_minor": 5
}
