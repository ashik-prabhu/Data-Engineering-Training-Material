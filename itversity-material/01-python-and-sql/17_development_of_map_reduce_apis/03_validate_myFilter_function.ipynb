{
 "cells": [
  {
   "cell_type": "markdown",
   "metadata": {},
   "source": [
    "## Validate myFilter Function\n",
    "\n",
    "Use the same examples which were used before as part of Processing Collections using loops."
   ]
  },
  {
   "cell_type": "code",
   "execution_count": 1,
   "metadata": {},
   "outputs": [],
   "source": [
    "%run 02_develop_myFilter_function.ipynb"
   ]
  },
  {
   "cell_type": "code",
   "execution_count": 2,
   "metadata": {},
   "outputs": [
    {
     "data": {
      "text/plain": [
       "<function __main__.myFilter(c, f)>"
      ]
     },
     "execution_count": 2,
     "metadata": {},
     "output_type": "execute_result"
    }
   ],
   "source": [
    "myFilter"
   ]
  },
  {
   "cell_type": "markdown",
   "metadata": {},
   "source": [
    "* Read orders data"
   ]
  },
  {
   "cell_type": "code",
   "execution_count": 5,
   "metadata": {},
   "outputs": [],
   "source": [
    "orders_path = \"/data/retail_db/orders/part-00000\"\n",
    "orders = open(orders_path). \\\n",
    "    read(). \\\n",
    "    splitlines()"
   ]
  },
  {
   "cell_type": "code",
   "execution_count": 4,
   "metadata": {},
   "outputs": [
    {
     "data": {
      "text/plain": [
       "['1,2013-07-25 00:00:00.0,11599,CLOSED',\n",
       " '2,2013-07-25 00:00:00.0,256,PENDING_PAYMENT',\n",
       " '3,2013-07-25 00:00:00.0,12111,COMPLETE',\n",
       " '4,2013-07-25 00:00:00.0,8827,CLOSED',\n",
       " '5,2013-07-25 00:00:00.0,11318,COMPLETE',\n",
       " '6,2013-07-25 00:00:00.0,7130,COMPLETE',\n",
       " '7,2013-07-25 00:00:00.0,4530,COMPLETE',\n",
       " '8,2013-07-25 00:00:00.0,2911,PROCESSING',\n",
       " '9,2013-07-25 00:00:00.0,5657,PENDING_PAYMENT',\n",
       " '10,2013-07-25 00:00:00.0,5648,PENDING_PAYMENT']"
      ]
     },
     "execution_count": 4,
     "metadata": {},
     "output_type": "execute_result"
    }
   ],
   "source": [
    "orders[:10]"
   ]
  },
  {
   "cell_type": "code",
   "execution_count": 6,
   "metadata": {},
   "outputs": [
    {
     "data": {
      "text/plain": [
       "True"
      ]
     },
     "execution_count": 6,
     "metadata": {},
     "output_type": "execute_result"
    }
   ],
   "source": [
    "order = '1,2013-07-25 00:00:00.0,11599,CLOSED'\n",
    "int(order.split(',')[2]) == 11599"
   ]
  },
  {
   "cell_type": "markdown",
   "metadata": {},
   "source": [
    "* Get orders placed by customer id 12431"
   ]
  },
  {
   "cell_type": "code",
   "execution_count": 17,
   "metadata": {},
   "outputs": [],
   "source": [
    "customer_orders = myFilter(orders, \n",
    "                           lambda order: int(order.split(',')[2]) == 12431 \n",
    "                          )"
   ]
  },
  {
   "cell_type": "code",
   "execution_count": 18,
   "metadata": {},
   "outputs": [
    {
     "data": {
      "text/plain": [
       "['3774,2013-08-16 00:00:00.0,12431,CANCELED',\n",
       " '3870,2013-08-17 00:00:00.0,12431,PENDING_PAYMENT',\n",
       " '4032,2013-08-17 00:00:00.0,12431,ON_HOLD',\n",
       " '22812,2013-12-12 00:00:00.0,12431,PENDING',\n",
       " '22927,2013-12-13 00:00:00.0,12431,CLOSED',\n",
       " '25614,2013-12-30 00:00:00.0,12431,CLOSED',\n",
       " '27585,2014-01-12 00:00:00.0,12431,PROCESSING',\n",
       " '28244,2014-01-15 00:00:00.0,12431,PENDING_PAYMENT',\n",
       " '29109,2014-01-21 00:00:00.0,12431,ON_HOLD',\n",
       " '29232,2014-01-21 00:00:00.0,12431,ON_HOLD',\n",
       " '45894,2014-05-06 00:00:00.0,12431,CLOSED',\n",
       " '46217,2014-05-07 00:00:00.0,12431,CLOSED',\n",
       " '49678,2014-05-31 00:00:00.0,12431,PENDING',\n",
       " '51865,2014-06-15 00:00:00.0,12431,PROCESSING',\n",
       " '63146,2014-02-13 00:00:00.0,12431,PENDING_PAYMENT',\n",
       " '67110,2014-07-14 00:00:00.0,12431,PENDING']"
      ]
     },
     "execution_count": 18,
     "metadata": {},
     "output_type": "execute_result"
    }
   ],
   "source": [
    "customer_orders"
   ]
  },
  {
   "cell_type": "markdown",
   "metadata": {},
   "source": [
    "* Get orders placed by customer id 12431 in the month of 2014 January"
   ]
  },
  {
   "cell_type": "code",
   "execution_count": 13,
   "metadata": {},
   "outputs": [
    {
     "data": {
      "text/plain": [
       "True"
      ]
     },
     "execution_count": 13,
     "metadata": {},
     "output_type": "execute_result"
    }
   ],
   "source": [
    "order = '1,2013-07-25 00:00:00.0,11599,CLOSED'\n",
    "int(order.split(',')[2]) == 11599 and order.split(',')[1].startswith('2013-07')"
   ]
  },
  {
   "cell_type": "code",
   "execution_count": 14,
   "metadata": {},
   "outputs": [
    {
     "data": {
      "text/plain": [
       "['27585,2014-01-12 00:00:00.0,12431,PROCESSING',\n",
       " '28244,2014-01-15 00:00:00.0,12431,PENDING_PAYMENT',\n",
       " '29109,2014-01-21 00:00:00.0,12431,ON_HOLD',\n",
       " '29232,2014-01-21 00:00:00.0,12431,ON_HOLD']"
      ]
     },
     "execution_count": 14,
     "metadata": {},
     "output_type": "execute_result"
    }
   ],
   "source": [
    "customer_orders_for_month = myFilter(\n",
    "    orders, \n",
    "    lambda order: int(order.split(',')[2]) == 12431\n",
    "        and order.split(',')[1].startswith('2014-01')\n",
    ")\n",
    "\n",
    "customer_orders_for_month"
   ]
  },
  {
   "cell_type": "markdown",
   "metadata": {},
   "source": [
    "* Get orders placed by customer id 12431 in processing or pending_payment for the month of 2014 January"
   ]
  },
  {
   "cell_type": "code",
   "execution_count": 15,
   "metadata": {},
   "outputs": [],
   "source": [
    "customer_orders_for_month = myFilter(\n",
    "    orders, \n",
    "    lambda order: int(order.split(',')[2]) == 12431\n",
    "        and order.split(',')[1].startswith('2014-01')\n",
    "        and order.split(',')[3] in ('PENDING_PAYMENT', 'PROCESSING')\n",
    ")"
   ]
  },
  {
   "cell_type": "code",
   "execution_count": 16,
   "metadata": {},
   "outputs": [
    {
     "data": {
      "text/plain": [
       "['27585,2014-01-12 00:00:00.0,12431,PROCESSING',\n",
       " '28244,2014-01-15 00:00:00.0,12431,PENDING_PAYMENT']"
      ]
     },
     "execution_count": 16,
     "metadata": {},
     "output_type": "execute_result"
    }
   ],
   "source": [
    "customer_orders_for_month"
   ]
  },
  {
   "cell_type": "code",
   "execution_count": null,
   "metadata": {},
   "outputs": [],
   "source": []
  }
 ],
 "metadata": {
  "kernelspec": {
   "display_name": "Python 3",
   "language": "python",
   "name": "python3"
  },
  "language_info": {
   "codemirror_mode": {
    "name": "ipython",
    "version": 3
   },
   "file_extension": ".py",
   "mimetype": "text/x-python",
   "name": "python",
   "nbconvert_exporter": "python",
   "pygments_lexer": "ipython3",
   "version": "3.6.12"
  }
 },
 "nbformat": 4,
 "nbformat_minor": 4
}
