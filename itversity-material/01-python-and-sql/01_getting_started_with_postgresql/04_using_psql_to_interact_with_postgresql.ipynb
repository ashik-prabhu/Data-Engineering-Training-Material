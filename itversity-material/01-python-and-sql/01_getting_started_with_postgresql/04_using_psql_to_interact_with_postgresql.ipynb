{
 "cells": [
  {
   "cell_type": "markdown",
   "metadata": {},
   "source": [
    "## Using psql to interact with Postgresql\n",
    "\n",
    "Let us understand how to use `psql` utility to perform database operations.\n",
    "* `psql` is command line utility to connect to the Postgres database server. It is typically used for the following by advanced Database users:\n",
    "  * Manage Databases\n",
    "  * Manage Tables\n",
    "  * Load data into tables for testing purposes\n",
    "* We need to have at least Postgres Client installed on the server from which you want to use psql to connect to Postgres Server.\n",
    "* If you are on the server where **Postgres Database Server** is installed, `psql` will be automatically available.\n",
    "* We can run `sudo -u postgres psql -U postgres` from the server provided you have sudo permissions on the server. Otherwise we need to go with `psql -U postgres -W` which will prompt for the password.\n",
    "* **postgres** is the super user for the postgres server and hence typically developers will not have access to it in non development environments.\n",
    "* As a developer, we can use following command to connect to a database setup on postgres server using user credentials.\n",
    "\n",
    "```shell\n",
    "psql  -h <host_ip_or_dns_alias> -d <db_name> -U <user_name> -W\n",
    "\n",
    "# Here is the example to connect to itversity_sms_db using itversity_sms_user\n",
    "psql -h localhost -p 5432 -d itversity_sms_db -U itversity_sms_user -W\n",
    "```\n",
    "* We typically use `psql` to troubleshoot the issues in non development servers. IDEs such as **SQL Alchemy** might be better for regular usage as part of development and unit testing process.\n",
    "* For this course, we will be primarily using Jupyter based environment for practice.\n",
    "* However, we will go through some of the important commands to get comfortable with `psql`.\n",
    "  * Listing Databases - `\\l`\n",
    "  * Switching to a Database - `\\c <DATABASE_NAME>`\n",
    "  * Get help for `psql` - `\\?`\n",
    "  * Listing tables - `\\d`\n",
    "  * Create table - `CREATE TABLE t (i SERIAL PRIMARY KEY)`\n",
    "  * Get details related to a table - `\\d <table_name>`\n",
    "  * Running Scripts - `\\i <SCRIPT_PATH>`\n",
    "  * You will go through some of the commands over a period of time."
   ]
  },
  {
   "cell_type": "code",
   "execution_count": null,
   "metadata": {},
   "outputs": [],
   "source": []
  }
 ],
 "metadata": {
  "kernelspec": {
   "display_name": "Python 3",
   "language": "python",
   "name": "python3"
  },
  "language_info": {
   "codemirror_mode": {
    "name": "ipython",
    "version": 3
   },
   "file_extension": ".py",
   "mimetype": "text/x-python",
   "name": "python",
   "nbconvert_exporter": "python",
   "pygments_lexer": "ipython3",
   "version": "3.6.12"
  }
 },
 "nbformat": 4,
 "nbformat_minor": 4
}
