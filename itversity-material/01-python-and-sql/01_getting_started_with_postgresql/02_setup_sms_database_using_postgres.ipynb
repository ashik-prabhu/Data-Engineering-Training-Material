{
 "cells": [
  {
   "cell_type": "markdown",
   "id": "68cd271c",
   "metadata": {},
   "source": [
    "## Setup SMS Database using Postgres\n",
    "\n",
    "Let us go ahead and setup SMS database using Postgres so that we can learn SQL as part of this course using it.\n",
    "\n",
    "Here are the highlevel steps invovled.\n",
    "* Connect to database running as part of **pg.itversity.com** container using docker compose command.\n",
    "* Run required commands to create database, create user and grant permissions on database to user.\n",
    "* Come out of it. Later you need to use these details to connect to the database to learn SQL using jupyter based environment.\n",
    "\n",
    "**Connect to pg.itversity.com**\n",
    "\n",
    "You need to make sure that you run this from your host (Mac or Windows or AWS Cloud9 or Linux).\n",
    "\n",
    "```shell\n",
    "docker-compose exec pg.itversity.com psql -U postgres\n",
    "```\n",
    "\n",
    "**Run SQL Commands**\n",
    "\n",
    "You need to make sure that you are in Postgres CLI.\n",
    "```sql\n",
    "CREATE DATABASE itversity_sms_db;\n",
    "CREATE USER itversity_sms_user WITH ENCRYPTED PASSWORD 'itversity';\n",
    "GRANT ALL ON DATABASE itversity_sms_db TO itversity_sms_user;\n",
    "\\q\n",
    "```"
   ]
  },
  {
   "cell_type": "code",
   "execution_count": null,
   "id": "5b7bd8a7",
   "metadata": {},
   "outputs": [],
   "source": []
  }
 ],
 "metadata": {
  "kernelspec": {
   "display_name": "Python 3",
   "language": "python",
   "name": "python3"
  },
  "language_info": {
   "codemirror_mode": {
    "name": "ipython",
    "version": 3
   },
   "file_extension": ".py",
   "mimetype": "text/x-python",
   "name": "python",
   "nbconvert_exporter": "python",
   "pygments_lexer": "ipython3",
   "version": "3.6.12"
  }
 },
 "nbformat": 4,
 "nbformat_minor": 5
}
