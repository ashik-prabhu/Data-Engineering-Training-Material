{
 "cells": [
  {
   "cell_type": "markdown",
   "metadata": {},
   "source": [
    "# Getting Started\n",
    "\n",
    "As part of this section we will primarily understand different ways to get started with Postgres.\n",
    "* Connecting to Database\n",
    "* Using psql\n",
    "* Setup Postgres using Docker\n",
    "* Setup SQL Workbench\n",
    "* SQL Workbench and Postgres\n",
    "* SQL Workbench Features\n",
    "* Data Loading Utilities\n",
    "* Loading Data - Docker\n",
    "* Exercise - Loading Data\n",
    "\n",
    "Here are the key objectives of this section\n",
    "* Connecting to Database using Jupyter based environment in our labs. This is relevant to only those who got our lab access.\n",
    "* Ability to setup Postgres Database using Docker for those who does not have access to our labs.\n",
    "* Relevance of IDEs such as SQL Workbench\n",
    "* Understand the key features for IDEs such as SQL Workbench including connecting SQL Workbench to Postgres Database.\n",
    "* How to load data into tables using Database native utilities?\n",
    "* Exercise to ensure our understanding related to loading data into the tables using database native utilities."
   ]
  }
 ],
 "metadata": {
  "kernelspec": {
   "display_name": "Python 3",
   "language": "python",
   "name": "python3"
  },
  "language_info": {
   "codemirror_mode": {
    "name": "ipython",
    "version": 3
   },
   "file_extension": ".py",
   "mimetype": "text/x-python",
   "name": "python",
   "nbconvert_exporter": "python",
   "pygments_lexer": "ipython3",
   "version": "3.6.12"
  }
 },
 "nbformat": 4,
 "nbformat_minor": 4
}
