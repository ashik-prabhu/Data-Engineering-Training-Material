{
 "cells": [
  {
   "cell_type": "markdown",
   "metadata": {},
   "source": [
    "## Cumulative Operations using itertools\n",
    "\n",
    "Get cumulative sales from list of transactions."
   ]
  },
  {
   "cell_type": "code",
   "execution_count": 4,
   "metadata": {},
   "outputs": [],
   "source": [
    "ns = [1, 2, 3, 4] \n",
    "# Cumulative totals [1, 3, 6, 10]\n",
    "# Cumulative product [1, 2, 6, 24]"
   ]
  },
  {
   "cell_type": "code",
   "execution_count": 5,
   "metadata": {},
   "outputs": [],
   "source": [
    "import itertools as iter"
   ]
  },
  {
   "cell_type": "code",
   "execution_count": 6,
   "metadata": {},
   "outputs": [
    {
     "data": {
      "text/plain": [
       "\u001b[0;31mInit signature:\u001b[0m \u001b[0miter\u001b[0m\u001b[0;34m.\u001b[0m\u001b[0maccumulate\u001b[0m\u001b[0;34m(\u001b[0m\u001b[0mself\u001b[0m\u001b[0;34m,\u001b[0m \u001b[0;34m/\u001b[0m\u001b[0;34m,\u001b[0m \u001b[0;34m*\u001b[0m\u001b[0margs\u001b[0m\u001b[0;34m,\u001b[0m \u001b[0;34m**\u001b[0m\u001b[0mkwargs\u001b[0m\u001b[0;34m)\u001b[0m\u001b[0;34m\u001b[0m\u001b[0;34m\u001b[0m\u001b[0m\n",
       "\u001b[0;31mDocstring:\u001b[0m     \n",
       "accumulate(iterable[, func]) --> accumulate object\n",
       "\n",
       "Return series of accumulated sums (or other binary function results).\n",
       "\u001b[0;31mType:\u001b[0m           type\n",
       "\u001b[0;31mSubclasses:\u001b[0m     \n"
      ]
     },
     "metadata": {},
     "output_type": "display_data"
    }
   ],
   "source": [
    "iter.accumulate?"
   ]
  },
  {
   "cell_type": "code",
   "execution_count": 7,
   "metadata": {},
   "outputs": [
    {
     "data": {
      "text/plain": [
       "<itertools.accumulate at 0x7fa13b6d0188>"
      ]
     },
     "execution_count": 7,
     "metadata": {},
     "output_type": "execute_result"
    }
   ],
   "source": [
    "iter.accumulate(ns)"
   ]
  },
  {
   "cell_type": "code",
   "execution_count": 8,
   "metadata": {},
   "outputs": [
    {
     "data": {
      "text/plain": [
       "[1, 3, 6, 10]"
      ]
     },
     "execution_count": 8,
     "metadata": {},
     "output_type": "execute_result"
    }
   ],
   "source": [
    "list(iter.accumulate(ns))"
   ]
  },
  {
   "cell_type": "code",
   "execution_count": 10,
   "metadata": {},
   "outputs": [
    {
     "data": {
      "text/plain": [
       "[1, 2, 6, 24]"
      ]
     },
     "execution_count": 10,
     "metadata": {},
     "output_type": "execute_result"
    }
   ],
   "source": [
    "import operator as o\n",
    "list(iter.accumulate(ns, o.mul))"
   ]
  },
  {
   "cell_type": "code",
   "execution_count": 11,
   "metadata": {},
   "outputs": [],
   "source": [
    "sales = [\n",
    "    (202101, 10500),\n",
    "    (202102, 11250),\n",
    "    (202103, 13450),\n",
    "    (202104, 8500),\n",
    "    (202105, 9250),\n",
    "    (202106, 8760),\n",
    "    (202107, 12150),\n",
    "    (202108, 11850),\n",
    "    (202109, 10950),\n",
    "    (202110, 9250),\n",
    "    (202111, 14250),\n",
    "    (202112, 13650),\n",
    "]"
   ]
  },
  {
   "cell_type": "code",
   "execution_count": 12,
   "metadata": {},
   "outputs": [
    {
     "data": {
      "text/plain": [
       "[(202101, 10500),\n",
       " (202102, 11250),\n",
       " (202103, 13450),\n",
       " (202104, 8500),\n",
       " (202105, 9250),\n",
       " (202106, 8760),\n",
       " (202107, 12150),\n",
       " (202108, 11850),\n",
       " (202109, 10950),\n",
       " (202110, 9250),\n",
       " (202111, 14250),\n",
       " (202112, 13650)]"
      ]
     },
     "execution_count": 12,
     "metadata": {},
     "output_type": "execute_result"
    }
   ],
   "source": [
    "sales"
   ]
  },
  {
   "cell_type": "code",
   "execution_count": 13,
   "metadata": {},
   "outputs": [],
   "source": [
    "sale_months = map(lambda sale: sale[0], sales)"
   ]
  },
  {
   "cell_type": "code",
   "execution_count": 14,
   "metadata": {},
   "outputs": [
    {
     "data": {
      "text/plain": [
       "[202101,\n",
       " 202102,\n",
       " 202103,\n",
       " 202104,\n",
       " 202105,\n",
       " 202106,\n",
       " 202107,\n",
       " 202108,\n",
       " 202109,\n",
       " 202110,\n",
       " 202111,\n",
       " 202112]"
      ]
     },
     "execution_count": 14,
     "metadata": {},
     "output_type": "execute_result"
    }
   ],
   "source": [
    "list(sale_months)"
   ]
  },
  {
   "cell_type": "code",
   "execution_count": 15,
   "metadata": {},
   "outputs": [],
   "source": [
    "sale_revenues = map(lambda sale: sale[1], sales)"
   ]
  },
  {
   "cell_type": "code",
   "execution_count": 16,
   "metadata": {},
   "outputs": [
    {
     "data": {
      "text/plain": [
       "[10500,\n",
       " 11250,\n",
       " 13450,\n",
       " 8500,\n",
       " 9250,\n",
       " 8760,\n",
       " 12150,\n",
       " 11850,\n",
       " 10950,\n",
       " 9250,\n",
       " 14250,\n",
       " 13650]"
      ]
     },
     "execution_count": 16,
     "metadata": {},
     "output_type": "execute_result"
    }
   ],
   "source": [
    "list(sale_revenues)"
   ]
  },
  {
   "cell_type": "code",
   "execution_count": 17,
   "metadata": {},
   "outputs": [],
   "source": [
    "cumulative_revenues = list(iter.accumulate(map(lambda sale: sale[1], sales)))"
   ]
  },
  {
   "cell_type": "code",
   "execution_count": 18,
   "metadata": {},
   "outputs": [
    {
     "data": {
      "text/plain": [
       "[10500,\n",
       " 21750,\n",
       " 35200,\n",
       " 43700,\n",
       " 52950,\n",
       " 61710,\n",
       " 73860,\n",
       " 85710,\n",
       " 96660,\n",
       " 105910,\n",
       " 120160,\n",
       " 133810]"
      ]
     },
     "execution_count": 18,
     "metadata": {},
     "output_type": "execute_result"
    }
   ],
   "source": [
    "cumulative_revenues"
   ]
  },
  {
   "cell_type": "code",
   "execution_count": 24,
   "metadata": {},
   "outputs": [
    {
     "data": {
      "text/plain": [
       "[(202101, 10500),\n",
       " (202102, 21750),\n",
       " (202103, 35200),\n",
       " (202104, 43700),\n",
       " (202105, 52950),\n",
       " (202106, 61710),\n",
       " (202107, 73860),\n",
       " (202108, 85710),\n",
       " (202109, 96660),\n",
       " (202110, 105910),\n",
       " (202111, 120160),\n",
       " (202112, 133810)]"
      ]
     },
     "execution_count": 24,
     "metadata": {},
     "output_type": "execute_result"
    }
   ],
   "source": [
    "sale_months = map(lambda sale: sale[0], sales)\n",
    "sale_revenues = map(lambda sale: sale[1], sales)\n",
    "cumulative_revenues = list(iter.accumulate(map(lambda sale: sale[1], sales)))\n",
    "list(zip(sale_months, cumulative_revenues))"
   ]
  },
  {
   "cell_type": "code",
   "execution_count": null,
   "metadata": {},
   "outputs": [],
   "source": []
  }
 ],
 "metadata": {
  "kernelspec": {
   "display_name": "Python 3",
   "language": "python",
   "name": "python3"
  },
  "language_info": {
   "codemirror_mode": {
    "name": "ipython",
    "version": 3
   },
   "file_extension": ".py",
   "mimetype": "text/x-python",
   "name": "python",
   "nbconvert_exporter": "python",
   "pygments_lexer": "ipython3",
   "version": "3.6.12"
  }
 },
 "nbformat": 4,
 "nbformat_minor": 4
}
