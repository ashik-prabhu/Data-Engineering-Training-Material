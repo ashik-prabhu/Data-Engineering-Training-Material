{
 "cells": [
  {
   "cell_type": "markdown",
   "metadata": {},
   "source": [
    "### Get total items sold and revenue\n",
    "\n",
    "Use order items data set and get total number of items sold as well as total revenue generated for a given product_id.\n",
    "* Filter for items using `filter` related to a given product_id.\n",
    "* Apply `map` to get order_item_quantity and order_item_subtotal.\n",
    "* Use `reduce` to get total quantity and revenue for the items related to a given product_id."
   ]
  },
  {
   "cell_type": "code",
   "execution_count": 11,
   "metadata": {},
   "outputs": [],
   "source": [
    "%run 02_preparing_data_sets.ipynb"
   ]
  },
  {
   "cell_type": "code",
   "execution_count": 12,
   "metadata": {},
   "outputs": [
    {
     "data": {
      "text/plain": [
       "['1,1,957,1,299.98,299.98',\n",
       " '2,2,1073,1,199.99,199.99',\n",
       " '3,2,502,5,250.0,50.0',\n",
       " '4,2,403,1,129.99,129.99',\n",
       " '5,4,897,2,49.98,24.99',\n",
       " '6,4,365,5,299.95,59.99',\n",
       " '7,4,502,3,150.0,50.0',\n",
       " '8,4,1014,4,199.92,49.98',\n",
       " '9,5,957,1,299.98,299.98',\n",
       " '10,5,365,5,299.95,59.99']"
      ]
     },
     "execution_count": 12,
     "metadata": {},
     "output_type": "execute_result"
    }
   ],
   "source": [
    "order_items[:10]"
   ]
  },
  {
   "cell_type": "code",
   "execution_count": 3,
   "metadata": {},
   "outputs": [
    {
     "data": {
      "text/plain": [
       "172198"
      ]
     },
     "execution_count": 3,
     "metadata": {},
     "output_type": "execute_result"
    }
   ],
   "source": [
    "len(order_items)"
   ]
  },
  {
   "cell_type": "code",
   "execution_count": 1,
   "metadata": {},
   "outputs": [],
   "source": [
    "t1 = (1, 200.0)"
   ]
  },
  {
   "cell_type": "code",
   "execution_count": 2,
   "metadata": {},
   "outputs": [],
   "source": [
    "t2 = (2, 300.0)"
   ]
  },
  {
   "cell_type": "code",
   "execution_count": 3,
   "metadata": {},
   "outputs": [],
   "source": [
    "res = (0, 0.0)"
   ]
  },
  {
   "cell_type": "code",
   "execution_count": 4,
   "metadata": {},
   "outputs": [],
   "source": [
    "res = (res[0] + t1[0], res[1] + t1[1])"
   ]
  },
  {
   "cell_type": "code",
   "execution_count": 5,
   "metadata": {},
   "outputs": [
    {
     "data": {
      "text/plain": [
       "(1, 200.0)"
      ]
     },
     "execution_count": 5,
     "metadata": {},
     "output_type": "execute_result"
    }
   ],
   "source": [
    "res"
   ]
  },
  {
   "cell_type": "code",
   "execution_count": 6,
   "metadata": {},
   "outputs": [],
   "source": [
    "res = (res[0] + t2[0], res[1] + t2[1])"
   ]
  },
  {
   "cell_type": "code",
   "execution_count": 7,
   "metadata": {},
   "outputs": [
    {
     "data": {
      "text/plain": [
       "(3, 500.0)"
      ]
     },
     "execution_count": 7,
     "metadata": {},
     "output_type": "execute_result"
    }
   ],
   "source": [
    "res"
   ]
  },
  {
   "cell_type": "code",
   "execution_count": 13,
   "metadata": {},
   "outputs": [],
   "source": [
    "items_for_product = filter(\n",
    "    lambda order_item: int(order_item.split(',')[2]) == 502,\n",
    "    order_items\n",
    ")"
   ]
  },
  {
   "cell_type": "code",
   "execution_count": 14,
   "metadata": {},
   "outputs": [
    {
     "data": {
      "text/plain": [
       "['3,2,502,5,250.0,50.0',\n",
       " '7,4,502,3,150.0,50.0',\n",
       " '20,8,502,1,50.0,50.0',\n",
       " '38,12,502,5,250.0,50.0',\n",
       " '42,14,502,1,50.0,50.0',\n",
       " '43,15,502,1,50.0,50.0',\n",
       " '60,20,502,5,250.0,50.0',\n",
       " '67,21,502,2,100.0,50.0',\n",
       " '70,24,502,1,50.0,50.0',\n",
       " '71,24,502,5,250.0,50.0']"
      ]
     },
     "execution_count": 14,
     "metadata": {},
     "output_type": "execute_result"
    }
   ],
   "source": [
    "list(items_for_product)[:10]"
   ]
  },
  {
   "cell_type": "code",
   "execution_count": 15,
   "metadata": {},
   "outputs": [],
   "source": [
    "items_for_product = filter(\n",
    "    lambda order_item: int(order_item.split(',')[2]) == 502,\n",
    "    order_items\n",
    ")\n",
    "item_details = map(\n",
    "    lambda order_item: (int(order_item.split(',')[3]), float(order_item.split(',')[4])),\n",
    "    items_for_product\n",
    ")"
   ]
  },
  {
   "cell_type": "code",
   "execution_count": 16,
   "metadata": {},
   "outputs": [
    {
     "data": {
      "text/plain": [
       "[(5, 250.0),\n",
       " (3, 150.0),\n",
       " (1, 50.0),\n",
       " (5, 250.0),\n",
       " (1, 50.0),\n",
       " (1, 50.0),\n",
       " (5, 250.0),\n",
       " (2, 100.0),\n",
       " (1, 50.0),\n",
       " (5, 250.0)]"
      ]
     },
     "execution_count": 16,
     "metadata": {},
     "output_type": "execute_result"
    }
   ],
   "source": [
    "list(item_details)[:10]"
   ]
  },
  {
   "cell_type": "code",
   "execution_count": 17,
   "metadata": {},
   "outputs": [
    {
     "data": {
      "text/plain": [
       "(62956, 3147800.0)"
      ]
     },
     "execution_count": 17,
     "metadata": {},
     "output_type": "execute_result"
    }
   ],
   "source": [
    "items_for_product = filter(\n",
    "    lambda order_item: int(order_item.split(',')[2]) == 502,\n",
    "    order_items\n",
    ")\n",
    "item_details = map(\n",
    "    lambda order_item: (int(order_item.split(',')[3]), float(order_item.split(',')[4])),\n",
    "    items_for_product\n",
    ")\n",
    "\n",
    "from functools import reduce \n",
    "reduce(\n",
    "    lambda tot, ele: (tot[0] + ele[0], tot[1] + ele[1]),\n",
    "    item_details\n",
    ")"
   ]
  },
  {
   "cell_type": "code",
   "execution_count": null,
   "metadata": {},
   "outputs": [],
   "source": []
  }
 ],
 "metadata": {
  "kernelspec": {
   "display_name": "Python 3",
   "language": "python",
   "name": "python3"
  },
  "language_info": {
   "codemirror_mode": {
    "name": "ipython",
    "version": 3
   },
   "file_extension": ".py",
   "mimetype": "text/x-python",
   "name": "python",
   "nbconvert_exporter": "python",
   "pygments_lexer": "ipython3",
   "version": "3.6.12"
  }
 },
 "nbformat": 4,
 "nbformat_minor": 4
}
