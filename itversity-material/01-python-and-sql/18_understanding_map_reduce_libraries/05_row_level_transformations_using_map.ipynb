{
 "cells": [
  {
   "cell_type": "markdown",
   "metadata": {},
   "source": [
    "## Row level transformations using map\n",
    "\n",
    "Let us understand how we can perform row level transformations using `map`. Here are some of the examples.\n",
    "* Derive new fields from existing fields.\n",
    "* Get last 4 digits of social security number.\n",
    "* Standardize phone numbers.\n",
    "* Convert names to lower or upper case.\n",
    "* Break down the address into street, city, state, zip code.\n",
    "* Encrypt confidential information such as social security number or other unique ids such as Aadhaar."
   ]
  },
  {
   "cell_type": "code",
   "execution_count": 1,
   "metadata": {},
   "outputs": [],
   "source": [
    "%run 02_preparing_data_sets.ipynb"
   ]
  },
  {
   "cell_type": "code",
   "execution_count": 2,
   "metadata": {},
   "outputs": [
    {
     "data": {
      "text/plain": [
       "['1,2013-07-25 00:00:00.0,11599,CLOSED',\n",
       " '2,2013-07-25 00:00:00.0,256,PENDING_PAYMENT',\n",
       " '3,2013-07-25 00:00:00.0,12111,COMPLETE',\n",
       " '4,2013-07-25 00:00:00.0,8827,CLOSED',\n",
       " '5,2013-07-25 00:00:00.0,11318,COMPLETE',\n",
       " '6,2013-07-25 00:00:00.0,7130,COMPLETE',\n",
       " '7,2013-07-25 00:00:00.0,4530,COMPLETE',\n",
       " '8,2013-07-25 00:00:00.0,2911,PROCESSING',\n",
       " '9,2013-07-25 00:00:00.0,5657,PENDING_PAYMENT',\n",
       " '10,2013-07-25 00:00:00.0,5648,PENDING_PAYMENT']"
      ]
     },
     "execution_count": 2,
     "metadata": {},
     "output_type": "execute_result"
    }
   ],
   "source": [
    "orders[:10]"
   ]
  },
  {
   "cell_type": "code",
   "execution_count": 3,
   "metadata": {},
   "outputs": [
    {
     "data": {
      "text/plain": [
       "68883"
      ]
     },
     "execution_count": 3,
     "metadata": {},
     "output_type": "execute_result"
    }
   ],
   "source": [
    "len(orders)"
   ]
  },
  {
   "cell_type": "code",
   "execution_count": 4,
   "metadata": {},
   "outputs": [
    {
     "data": {
      "text/plain": [
       "['1,1,957,1,299.98,299.98',\n",
       " '2,2,1073,1,199.99,199.99',\n",
       " '3,2,502,5,250.0,50.0',\n",
       " '4,2,403,1,129.99,129.99',\n",
       " '5,4,897,2,49.98,24.99',\n",
       " '6,4,365,5,299.95,59.99',\n",
       " '7,4,502,3,150.0,50.0',\n",
       " '8,4,1014,4,199.92,49.98',\n",
       " '9,5,957,1,299.98,299.98',\n",
       " '10,5,365,5,299.95,59.99']"
      ]
     },
     "execution_count": 4,
     "metadata": {},
     "output_type": "execute_result"
    }
   ],
   "source": [
    "order_items[:10]"
   ]
  },
  {
   "cell_type": "code",
   "execution_count": 5,
   "metadata": {},
   "outputs": [
    {
     "data": {
      "text/plain": [
       "172198"
      ]
     },
     "execution_count": 5,
     "metadata": {},
     "output_type": "execute_result"
    }
   ],
   "source": [
    "len(order_items)"
   ]
  },
  {
   "cell_type": "markdown",
   "metadata": {},
   "source": [
    "### Task 1\n",
    "\n",
    "Get day name of each date in our orders data set. Output should be tuple with 3 elements.\n",
    "  * order_id of type integer\n",
    "  * order_date of type string\n",
    "  * order_day_name of type string"
   ]
  },
  {
   "cell_type": "code",
   "execution_count": 6,
   "metadata": {},
   "outputs": [],
   "source": [
    "import datetime as dt\n",
    "d = dt.datetime.strptime('2013-07-25 00:00:00.0'.split(' ')[0], '%Y-%m-%d')"
   ]
  },
  {
   "cell_type": "code",
   "execution_count": 7,
   "metadata": {},
   "outputs": [
    {
     "data": {
      "text/plain": [
       "datetime.datetime(2013, 7, 25, 0, 0)"
      ]
     },
     "execution_count": 7,
     "metadata": {},
     "output_type": "execute_result"
    }
   ],
   "source": [
    "d"
   ]
  },
  {
   "cell_type": "code",
   "execution_count": 8,
   "metadata": {},
   "outputs": [
    {
     "data": {
      "text/plain": [
       "3"
      ]
     },
     "execution_count": 8,
     "metadata": {},
     "output_type": "execute_result"
    }
   ],
   "source": [
    "d.weekday()"
   ]
  },
  {
   "cell_type": "code",
   "execution_count": 9,
   "metadata": {},
   "outputs": [],
   "source": [
    "import calendar"
   ]
  },
  {
   "cell_type": "code",
   "execution_count": 10,
   "metadata": {},
   "outputs": [
    {
     "data": {
      "text/plain": [
       "['Monday', 'Tuesday', 'Wednesday', 'Thursday', 'Friday', 'Saturday', 'Sunday']"
      ]
     },
     "execution_count": 10,
     "metadata": {},
     "output_type": "execute_result"
    }
   ],
   "source": [
    "list(calendar.day_name)"
   ]
  },
  {
   "cell_type": "code",
   "execution_count": 16,
   "metadata": {},
   "outputs": [
    {
     "data": {
      "text/plain": [
       "'Thursday'"
      ]
     },
     "execution_count": 16,
     "metadata": {},
     "output_type": "execute_result"
    }
   ],
   "source": [
    "calendar.day_name[d.weekday()]"
   ]
  },
  {
   "cell_type": "code",
   "execution_count": 17,
   "metadata": {},
   "outputs": [],
   "source": [
    "import datetime as dt, calendar as c\n",
    "\n",
    "order = '1,2013-07-25 00:00:00.0,11599,CLOSED'"
   ]
  },
  {
   "cell_type": "code",
   "execution_count": 18,
   "metadata": {},
   "outputs": [
    {
     "data": {
      "text/plain": [
       "'2013-07-25'"
      ]
     },
     "execution_count": 18,
     "metadata": {},
     "output_type": "execute_result"
    }
   ],
   "source": [
    "order.split(',')[1].split(' ')[0]"
   ]
  },
  {
   "cell_type": "code",
   "execution_count": 19,
   "metadata": {},
   "outputs": [
    {
     "data": {
      "text/plain": [
       "datetime.datetime(2013, 7, 25, 0, 0)"
      ]
     },
     "execution_count": 19,
     "metadata": {},
     "output_type": "execute_result"
    }
   ],
   "source": [
    "dt.datetime.strptime(order.split(',')[1].split(' ')[0], '%Y-%m-%d')"
   ]
  },
  {
   "cell_type": "code",
   "execution_count": 20,
   "metadata": {},
   "outputs": [
    {
     "data": {
      "text/plain": [
       "3"
      ]
     },
     "execution_count": 20,
     "metadata": {},
     "output_type": "execute_result"
    }
   ],
   "source": [
    "dt.datetime.strptime(order.split(',')[1].split(' ')[0], '%Y-%m-%d').weekday()"
   ]
  },
  {
   "cell_type": "code",
   "execution_count": 21,
   "metadata": {},
   "outputs": [
    {
     "data": {
      "text/plain": [
       "'Thursday'"
      ]
     },
     "execution_count": 21,
     "metadata": {},
     "output_type": "execute_result"
    }
   ],
   "source": [
    "c.day_name[dt.datetime.strptime(order.split(',')[1].split(' ')[0], '%Y-%m-%d').weekday()]"
   ]
  },
  {
   "cell_type": "code",
   "execution_count": 23,
   "metadata": {},
   "outputs": [],
   "source": [
    "import datetime as dt, calendar as c\n",
    "order_dates = map(\n",
    "    lambda order: c.day_name[dt.datetime.strptime(order.split(',')[1].split(' ')[0], '%Y-%m-%d').weekday()],\n",
    "    orders\n",
    ")"
   ]
  },
  {
   "cell_type": "code",
   "execution_count": 24,
   "metadata": {},
   "outputs": [
    {
     "data": {
      "text/plain": [
       "['Thursday',\n",
       " 'Thursday',\n",
       " 'Thursday',\n",
       " 'Thursday',\n",
       " 'Thursday',\n",
       " 'Thursday',\n",
       " 'Thursday',\n",
       " 'Thursday',\n",
       " 'Thursday',\n",
       " 'Thursday']"
      ]
     },
     "execution_count": 24,
     "metadata": {},
     "output_type": "execute_result"
    }
   ],
   "source": [
    "list(order_dates)[:10]"
   ]
  },
  {
   "cell_type": "markdown",
   "metadata": {},
   "source": [
    "```{note}\n",
    "We can use lambda function as long as we do not have assignment operations. However, we might end up compromising readability.\n",
    "```"
   ]
  },
  {
   "cell_type": "code",
   "execution_count": 25,
   "metadata": {},
   "outputs": [],
   "source": [
    "import datetime as dt, calendar as c\n",
    "order_dates = map(\n",
    "    lambda order: (\n",
    "        int(order.split(',')[0]),\n",
    "        order.split(',')[1],\n",
    "        c.day_name[dt.datetime.strptime(order.split(',')[1].split(' ')[0], '%Y-%m-%d').weekday()]\n",
    "    ),\n",
    "    orders\n",
    ")"
   ]
  },
  {
   "cell_type": "code",
   "execution_count": 26,
   "metadata": {},
   "outputs": [
    {
     "data": {
      "text/plain": [
       "[(1, '2013-07-25 00:00:00.0', 'Thursday'),\n",
       " (2, '2013-07-25 00:00:00.0', 'Thursday'),\n",
       " (3, '2013-07-25 00:00:00.0', 'Thursday'),\n",
       " (4, '2013-07-25 00:00:00.0', 'Thursday'),\n",
       " (5, '2013-07-25 00:00:00.0', 'Thursday'),\n",
       " (6, '2013-07-25 00:00:00.0', 'Thursday'),\n",
       " (7, '2013-07-25 00:00:00.0', 'Thursday'),\n",
       " (8, '2013-07-25 00:00:00.0', 'Thursday'),\n",
       " (9, '2013-07-25 00:00:00.0', 'Thursday'),\n",
       " (10, '2013-07-25 00:00:00.0', 'Thursday')]"
      ]
     },
     "execution_count": 26,
     "metadata": {},
     "output_type": "execute_result"
    }
   ],
   "source": [
    "list(order_dates)[:10]"
   ]
  },
  {
   "cell_type": "markdown",
   "metadata": {},
   "source": [
    "```{note}\n",
    "Here is the example of implementation using named function.\n",
    "```"
   ]
  },
  {
   "cell_type": "code",
   "execution_count": 27,
   "metadata": {},
   "outputs": [],
   "source": [
    "def get_order_date(order):\n",
    "    order_details = order.split(',')\n",
    "    order_id = int(order_details[0])\n",
    "    order_date = order.split(',')[1]\n",
    "    order_date_as_datetime = dt.datetime.strptime(order_date.split(' ')[0], '%Y-%m-%d')\n",
    "    order_day_name = c.day_name[order_date_as_datetime.weekday()]\n",
    "    return (order_id, order_date, order_day_name)"
   ]
  },
  {
   "cell_type": "code",
   "execution_count": 28,
   "metadata": {},
   "outputs": [],
   "source": [
    "order_dates = map(\n",
    "    get_order_date,\n",
    "    orders\n",
    ")"
   ]
  },
  {
   "cell_type": "code",
   "execution_count": 29,
   "metadata": {},
   "outputs": [
    {
     "data": {
      "text/plain": [
       "[(1, '2013-07-25 00:00:00.0', 'Thursday'),\n",
       " (2, '2013-07-25 00:00:00.0', 'Thursday'),\n",
       " (3, '2013-07-25 00:00:00.0', 'Thursday'),\n",
       " (4, '2013-07-25 00:00:00.0', 'Thursday'),\n",
       " (5, '2013-07-25 00:00:00.0', 'Thursday'),\n",
       " (6, '2013-07-25 00:00:00.0', 'Thursday'),\n",
       " (7, '2013-07-25 00:00:00.0', 'Thursday'),\n",
       " (8, '2013-07-25 00:00:00.0', 'Thursday'),\n",
       " (9, '2013-07-25 00:00:00.0', 'Thursday'),\n",
       " (10, '2013-07-25 00:00:00.0', 'Thursday')]"
      ]
     },
     "execution_count": 29,
     "metadata": {},
     "output_type": "execute_result"
    }
   ],
   "source": [
    "list(order_dates)[:10]"
   ]
  },
  {
   "cell_type": "code",
   "execution_count": 30,
   "metadata": {},
   "outputs": [],
   "source": [
    "order_dates = map(\n",
    "    lambda order: get_order_date(order),\n",
    "    orders\n",
    ")"
   ]
  },
  {
   "cell_type": "code",
   "execution_count": 31,
   "metadata": {},
   "outputs": [
    {
     "data": {
      "text/plain": [
       "[(1, '2013-07-25 00:00:00.0', 'Thursday'),\n",
       " (2, '2013-07-25 00:00:00.0', 'Thursday'),\n",
       " (3, '2013-07-25 00:00:00.0', 'Thursday'),\n",
       " (4, '2013-07-25 00:00:00.0', 'Thursday'),\n",
       " (5, '2013-07-25 00:00:00.0', 'Thursday'),\n",
       " (6, '2013-07-25 00:00:00.0', 'Thursday'),\n",
       " (7, '2013-07-25 00:00:00.0', 'Thursday'),\n",
       " (8, '2013-07-25 00:00:00.0', 'Thursday'),\n",
       " (9, '2013-07-25 00:00:00.0', 'Thursday'),\n",
       " (10, '2013-07-25 00:00:00.0', 'Thursday')]"
      ]
     },
     "execution_count": 31,
     "metadata": {},
     "output_type": "execute_result"
    }
   ],
   "source": [
    "list(order_dates)[:10]"
   ]
  },
  {
   "cell_type": "markdown",
   "metadata": {},
   "source": [
    "### Task 2\n",
    "Add weekend flag for Saturday and Sunday dates.\n"
   ]
  },
  {
   "cell_type": "code",
   "execution_count": 32,
   "metadata": {},
   "outputs": [],
   "source": [
    "def get_order_date(order):\n",
    "    order_details = order.split(',')\n",
    "    order_id = int(order_details[0])\n",
    "    order_date = order.split(',')[1]\n",
    "    order_date_as_datetime = dt.datetime.strptime(order_date.split(' ')[0], '%Y-%m-%d')\n",
    "    order_day_name = c.day_name[order_date_as_datetime.weekday()]\n",
    "    weekend_flag = True if order_date_as_datetime.weekday() in (5, 6) else False\n",
    "    return (order_id, order_date, order_day_name, weekend_flag)"
   ]
  },
  {
   "cell_type": "code",
   "execution_count": 33,
   "metadata": {},
   "outputs": [],
   "source": [
    "order_dates = map(\n",
    "    get_order_date,\n",
    "    orders\n",
    ")"
   ]
  },
  {
   "cell_type": "code",
   "execution_count": 34,
   "metadata": {},
   "outputs": [
    {
     "data": {
      "text/plain": [
       "[(1, '2013-07-25 00:00:00.0', 'Thursday', False),\n",
       " (2, '2013-07-25 00:00:00.0', 'Thursday', False),\n",
       " (3, '2013-07-25 00:00:00.0', 'Thursday', False),\n",
       " (4, '2013-07-25 00:00:00.0', 'Thursday', False),\n",
       " (5, '2013-07-25 00:00:00.0', 'Thursday', False),\n",
       " (6, '2013-07-25 00:00:00.0', 'Thursday', False),\n",
       " (7, '2013-07-25 00:00:00.0', 'Thursday', False),\n",
       " (8, '2013-07-25 00:00:00.0', 'Thursday', False),\n",
       " (9, '2013-07-25 00:00:00.0', 'Thursday', False),\n",
       " (10, '2013-07-25 00:00:00.0', 'Thursday', False)]"
      ]
     },
     "execution_count": 34,
     "metadata": {},
     "output_type": "execute_result"
    }
   ],
   "source": [
    "list(order_dates)[:10]"
   ]
  },
  {
   "cell_type": "markdown",
   "metadata": {},
   "source": [
    "```{note}\n",
    "Validate whether weekend_flag is generated properly or not.\n",
    "```"
   ]
  },
  {
   "cell_type": "code",
   "execution_count": 35,
   "metadata": {},
   "outputs": [],
   "source": [
    "def get_order_date(order):\n",
    "    order_details = order.split(',')\n",
    "    order_id = int(order_details[0])\n",
    "    order_date = order.split(',')[1]\n",
    "    order_date_as_datetime = dt.datetime.strptime(order_date.split(' ')[0], '%Y-%m-%d')\n",
    "    order_day_name = c.day_name[order_date_as_datetime.weekday()]\n",
    "    weekend_flag = True if order_date_as_datetime.weekday() in (5, 6) else False\n",
    "    return (order_id, order_date, order_day_name, weekend_flag)"
   ]
  },
  {
   "cell_type": "code",
   "execution_count": 36,
   "metadata": {},
   "outputs": [],
   "source": [
    "order_dates = map(\n",
    "    get_order_date,\n",
    "    orders\n",
    ")"
   ]
  },
  {
   "cell_type": "code",
   "execution_count": 37,
   "metadata": {},
   "outputs": [],
   "source": [
    "order_dates_without_ids = map(\n",
    "    lambda order: (order[1], order[2], order[3]),\n",
    "    order_dates\n",
    ")"
   ]
  },
  {
   "cell_type": "code",
   "execution_count": 38,
   "metadata": {},
   "outputs": [
    {
     "data": {
      "text/plain": [
       "{('2013-07-25 00:00:00.0', 'Thursday', False),\n",
       " ('2013-07-26 00:00:00.0', 'Friday', False),\n",
       " ('2013-07-27 00:00:00.0', 'Saturday', True),\n",
       " ('2013-07-28 00:00:00.0', 'Sunday', True),\n",
       " ('2013-07-29 00:00:00.0', 'Monday', False),\n",
       " ('2013-07-30 00:00:00.0', 'Tuesday', False),\n",
       " ('2013-07-31 00:00:00.0', 'Wednesday', False),\n",
       " ('2013-08-01 00:00:00.0', 'Thursday', False),\n",
       " ('2013-08-02 00:00:00.0', 'Friday', False),\n",
       " ('2013-08-03 00:00:00.0', 'Saturday', True),\n",
       " ('2013-08-04 00:00:00.0', 'Sunday', True),\n",
       " ('2013-08-05 00:00:00.0', 'Monday', False),\n",
       " ('2013-08-06 00:00:00.0', 'Tuesday', False),\n",
       " ('2013-08-07 00:00:00.0', 'Wednesday', False),\n",
       " ('2013-08-08 00:00:00.0', 'Thursday', False),\n",
       " ('2013-08-09 00:00:00.0', 'Friday', False),\n",
       " ('2013-08-10 00:00:00.0', 'Saturday', True),\n",
       " ('2013-08-11 00:00:00.0', 'Sunday', True),\n",
       " ('2013-08-12 00:00:00.0', 'Monday', False),\n",
       " ('2013-08-13 00:00:00.0', 'Tuesday', False),\n",
       " ('2013-08-14 00:00:00.0', 'Wednesday', False),\n",
       " ('2013-08-15 00:00:00.0', 'Thursday', False),\n",
       " ('2013-08-16 00:00:00.0', 'Friday', False),\n",
       " ('2013-08-17 00:00:00.0', 'Saturday', True),\n",
       " ('2013-08-18 00:00:00.0', 'Sunday', True),\n",
       " ('2013-08-19 00:00:00.0', 'Monday', False),\n",
       " ('2013-08-20 00:00:00.0', 'Tuesday', False),\n",
       " ('2013-08-21 00:00:00.0', 'Wednesday', False),\n",
       " ('2013-08-22 00:00:00.0', 'Thursday', False),\n",
       " ('2013-08-23 00:00:00.0', 'Friday', False),\n",
       " ('2013-08-24 00:00:00.0', 'Saturday', True),\n",
       " ('2013-08-25 00:00:00.0', 'Sunday', True),\n",
       " ('2013-08-26 00:00:00.0', 'Monday', False),\n",
       " ('2013-08-27 00:00:00.0', 'Tuesday', False),\n",
       " ('2013-08-28 00:00:00.0', 'Wednesday', False),\n",
       " ('2013-08-29 00:00:00.0', 'Thursday', False),\n",
       " ('2013-08-30 00:00:00.0', 'Friday', False),\n",
       " ('2013-08-31 00:00:00.0', 'Saturday', True),\n",
       " ('2013-09-01 00:00:00.0', 'Sunday', True),\n",
       " ('2013-09-02 00:00:00.0', 'Monday', False),\n",
       " ('2013-09-03 00:00:00.0', 'Tuesday', False),\n",
       " ('2013-09-04 00:00:00.0', 'Wednesday', False),\n",
       " ('2013-09-05 00:00:00.0', 'Thursday', False),\n",
       " ('2013-09-06 00:00:00.0', 'Friday', False),\n",
       " ('2013-09-07 00:00:00.0', 'Saturday', True),\n",
       " ('2013-09-08 00:00:00.0', 'Sunday', True),\n",
       " ('2013-09-09 00:00:00.0', 'Monday', False),\n",
       " ('2013-09-10 00:00:00.0', 'Tuesday', False),\n",
       " ('2013-09-11 00:00:00.0', 'Wednesday', False),\n",
       " ('2013-09-12 00:00:00.0', 'Thursday', False),\n",
       " ('2013-09-13 00:00:00.0', 'Friday', False),\n",
       " ('2013-09-14 00:00:00.0', 'Saturday', True),\n",
       " ('2013-09-15 00:00:00.0', 'Sunday', True),\n",
       " ('2013-09-16 00:00:00.0', 'Monday', False),\n",
       " ('2013-09-17 00:00:00.0', 'Tuesday', False),\n",
       " ('2013-09-18 00:00:00.0', 'Wednesday', False),\n",
       " ('2013-09-19 00:00:00.0', 'Thursday', False),\n",
       " ('2013-09-20 00:00:00.0', 'Friday', False),\n",
       " ('2013-09-21 00:00:00.0', 'Saturday', True),\n",
       " ('2013-09-22 00:00:00.0', 'Sunday', True),\n",
       " ('2013-09-23 00:00:00.0', 'Monday', False),\n",
       " ('2013-09-24 00:00:00.0', 'Tuesday', False),\n",
       " ('2013-09-25 00:00:00.0', 'Wednesday', False),\n",
       " ('2013-09-26 00:00:00.0', 'Thursday', False),\n",
       " ('2013-09-27 00:00:00.0', 'Friday', False),\n",
       " ('2013-09-28 00:00:00.0', 'Saturday', True),\n",
       " ('2013-09-29 00:00:00.0', 'Sunday', True),\n",
       " ('2013-09-30 00:00:00.0', 'Monday', False),\n",
       " ('2013-10-01 00:00:00.0', 'Tuesday', False),\n",
       " ('2013-10-02 00:00:00.0', 'Wednesday', False),\n",
       " ('2013-10-03 00:00:00.0', 'Thursday', False),\n",
       " ('2013-10-04 00:00:00.0', 'Friday', False),\n",
       " ('2013-10-05 00:00:00.0', 'Saturday', True),\n",
       " ('2013-10-06 00:00:00.0', 'Sunday', True),\n",
       " ('2013-10-07 00:00:00.0', 'Monday', False),\n",
       " ('2013-10-08 00:00:00.0', 'Tuesday', False),\n",
       " ('2013-10-09 00:00:00.0', 'Wednesday', False),\n",
       " ('2013-10-10 00:00:00.0', 'Thursday', False),\n",
       " ('2013-10-11 00:00:00.0', 'Friday', False),\n",
       " ('2013-10-12 00:00:00.0', 'Saturday', True),\n",
       " ('2013-10-13 00:00:00.0', 'Sunday', True),\n",
       " ('2013-10-14 00:00:00.0', 'Monday', False),\n",
       " ('2013-10-15 00:00:00.0', 'Tuesday', False),\n",
       " ('2013-10-16 00:00:00.0', 'Wednesday', False),\n",
       " ('2013-10-17 00:00:00.0', 'Thursday', False),\n",
       " ('2013-10-18 00:00:00.0', 'Friday', False),\n",
       " ('2013-10-19 00:00:00.0', 'Saturday', True),\n",
       " ('2013-10-20 00:00:00.0', 'Sunday', True),\n",
       " ('2013-10-21 00:00:00.0', 'Monday', False),\n",
       " ('2013-10-22 00:00:00.0', 'Tuesday', False),\n",
       " ('2013-10-23 00:00:00.0', 'Wednesday', False),\n",
       " ('2013-10-24 00:00:00.0', 'Thursday', False),\n",
       " ('2013-10-25 00:00:00.0', 'Friday', False),\n",
       " ('2013-10-26 00:00:00.0', 'Saturday', True),\n",
       " ('2013-10-27 00:00:00.0', 'Sunday', True),\n",
       " ('2013-10-28 00:00:00.0', 'Monday', False),\n",
       " ('2013-10-29 00:00:00.0', 'Tuesday', False),\n",
       " ('2013-10-30 00:00:00.0', 'Wednesday', False),\n",
       " ('2013-10-31 00:00:00.0', 'Thursday', False),\n",
       " ('2013-11-01 00:00:00.0', 'Friday', False),\n",
       " ('2013-11-02 00:00:00.0', 'Saturday', True),\n",
       " ('2013-11-03 00:00:00.0', 'Sunday', True),\n",
       " ('2013-11-04 00:00:00.0', 'Monday', False),\n",
       " ('2013-11-05 00:00:00.0', 'Tuesday', False),\n",
       " ('2013-11-06 00:00:00.0', 'Wednesday', False),\n",
       " ('2013-11-07 00:00:00.0', 'Thursday', False),\n",
       " ('2013-11-08 00:00:00.0', 'Friday', False),\n",
       " ('2013-11-09 00:00:00.0', 'Saturday', True),\n",
       " ('2013-11-10 00:00:00.0', 'Sunday', True),\n",
       " ('2013-11-11 00:00:00.0', 'Monday', False),\n",
       " ('2013-11-12 00:00:00.0', 'Tuesday', False),\n",
       " ('2013-11-13 00:00:00.0', 'Wednesday', False),\n",
       " ('2013-11-14 00:00:00.0', 'Thursday', False),\n",
       " ('2013-11-15 00:00:00.0', 'Friday', False),\n",
       " ('2013-11-16 00:00:00.0', 'Saturday', True),\n",
       " ('2013-11-17 00:00:00.0', 'Sunday', True),\n",
       " ('2013-11-18 00:00:00.0', 'Monday', False),\n",
       " ('2013-11-19 00:00:00.0', 'Tuesday', False),\n",
       " ('2013-11-20 00:00:00.0', 'Wednesday', False),\n",
       " ('2013-11-21 00:00:00.0', 'Thursday', False),\n",
       " ('2013-11-22 00:00:00.0', 'Friday', False),\n",
       " ('2013-11-23 00:00:00.0', 'Saturday', True),\n",
       " ('2013-11-24 00:00:00.0', 'Sunday', True),\n",
       " ('2013-11-25 00:00:00.0', 'Monday', False),\n",
       " ('2013-11-26 00:00:00.0', 'Tuesday', False),\n",
       " ('2013-11-27 00:00:00.0', 'Wednesday', False),\n",
       " ('2013-11-28 00:00:00.0', 'Thursday', False),\n",
       " ('2013-11-29 00:00:00.0', 'Friday', False),\n",
       " ('2013-11-30 00:00:00.0', 'Saturday', True),\n",
       " ('2013-12-01 00:00:00.0', 'Sunday', True),\n",
       " ('2013-12-02 00:00:00.0', 'Monday', False),\n",
       " ('2013-12-03 00:00:00.0', 'Tuesday', False),\n",
       " ('2013-12-04 00:00:00.0', 'Wednesday', False),\n",
       " ('2013-12-05 00:00:00.0', 'Thursday', False),\n",
       " ('2013-12-06 00:00:00.0', 'Friday', False),\n",
       " ('2013-12-07 00:00:00.0', 'Saturday', True),\n",
       " ('2013-12-08 00:00:00.0', 'Sunday', True),\n",
       " ('2013-12-09 00:00:00.0', 'Monday', False),\n",
       " ('2013-12-10 00:00:00.0', 'Tuesday', False),\n",
       " ('2013-12-11 00:00:00.0', 'Wednesday', False),\n",
       " ('2013-12-12 00:00:00.0', 'Thursday', False),\n",
       " ('2013-12-13 00:00:00.0', 'Friday', False),\n",
       " ('2013-12-14 00:00:00.0', 'Saturday', True),\n",
       " ('2013-12-15 00:00:00.0', 'Sunday', True),\n",
       " ('2013-12-16 00:00:00.0', 'Monday', False),\n",
       " ('2013-12-17 00:00:00.0', 'Tuesday', False),\n",
       " ('2013-12-18 00:00:00.0', 'Wednesday', False),\n",
       " ('2013-12-19 00:00:00.0', 'Thursday', False),\n",
       " ('2013-12-20 00:00:00.0', 'Friday', False),\n",
       " ('2013-12-21 00:00:00.0', 'Saturday', True),\n",
       " ('2013-12-22 00:00:00.0', 'Sunday', True),\n",
       " ('2013-12-23 00:00:00.0', 'Monday', False),\n",
       " ('2013-12-24 00:00:00.0', 'Tuesday', False),\n",
       " ('2013-12-25 00:00:00.0', 'Wednesday', False),\n",
       " ('2013-12-26 00:00:00.0', 'Thursday', False),\n",
       " ('2013-12-27 00:00:00.0', 'Friday', False),\n",
       " ('2013-12-28 00:00:00.0', 'Saturday', True),\n",
       " ('2013-12-29 00:00:00.0', 'Sunday', True),\n",
       " ('2013-12-30 00:00:00.0', 'Monday', False),\n",
       " ('2013-12-31 00:00:00.0', 'Tuesday', False),\n",
       " ('2014-01-01 00:00:00.0', 'Wednesday', False),\n",
       " ('2014-01-02 00:00:00.0', 'Thursday', False),\n",
       " ('2014-01-03 00:00:00.0', 'Friday', False),\n",
       " ('2014-01-04 00:00:00.0', 'Saturday', True),\n",
       " ('2014-01-05 00:00:00.0', 'Sunday', True),\n",
       " ('2014-01-06 00:00:00.0', 'Monday', False),\n",
       " ('2014-01-07 00:00:00.0', 'Tuesday', False),\n",
       " ('2014-01-08 00:00:00.0', 'Wednesday', False),\n",
       " ('2014-01-09 00:00:00.0', 'Thursday', False),\n",
       " ('2014-01-10 00:00:00.0', 'Friday', False),\n",
       " ('2014-01-11 00:00:00.0', 'Saturday', True),\n",
       " ('2014-01-12 00:00:00.0', 'Sunday', True),\n",
       " ('2014-01-13 00:00:00.0', 'Monday', False),\n",
       " ('2014-01-14 00:00:00.0', 'Tuesday', False),\n",
       " ('2014-01-15 00:00:00.0', 'Wednesday', False),\n",
       " ('2014-01-16 00:00:00.0', 'Thursday', False),\n",
       " ('2014-01-17 00:00:00.0', 'Friday', False),\n",
       " ('2014-01-18 00:00:00.0', 'Saturday', True),\n",
       " ('2014-01-19 00:00:00.0', 'Sunday', True),\n",
       " ('2014-01-20 00:00:00.0', 'Monday', False),\n",
       " ('2014-01-21 00:00:00.0', 'Tuesday', False),\n",
       " ('2014-01-22 00:00:00.0', 'Wednesday', False),\n",
       " ('2014-01-23 00:00:00.0', 'Thursday', False),\n",
       " ('2014-01-24 00:00:00.0', 'Friday', False),\n",
       " ('2014-01-25 00:00:00.0', 'Saturday', True),\n",
       " ('2014-01-26 00:00:00.0', 'Sunday', True),\n",
       " ('2014-01-27 00:00:00.0', 'Monday', False),\n",
       " ('2014-01-28 00:00:00.0', 'Tuesday', False),\n",
       " ('2014-01-29 00:00:00.0', 'Wednesday', False),\n",
       " ('2014-01-30 00:00:00.0', 'Thursday', False),\n",
       " ('2014-01-31 00:00:00.0', 'Friday', False),\n",
       " ('2014-02-01 00:00:00.0', 'Saturday', True),\n",
       " ('2014-02-02 00:00:00.0', 'Sunday', True),\n",
       " ('2014-02-03 00:00:00.0', 'Monday', False),\n",
       " ('2014-02-04 00:00:00.0', 'Tuesday', False),\n",
       " ('2014-02-05 00:00:00.0', 'Wednesday', False),\n",
       " ('2014-02-06 00:00:00.0', 'Thursday', False),\n",
       " ('2014-02-07 00:00:00.0', 'Friday', False),\n",
       " ('2014-02-08 00:00:00.0', 'Saturday', True),\n",
       " ('2014-02-09 00:00:00.0', 'Sunday', True),\n",
       " ('2014-02-10 00:00:00.0', 'Monday', False),\n",
       " ('2014-02-11 00:00:00.0', 'Tuesday', False),\n",
       " ('2014-02-12 00:00:00.0', 'Wednesday', False),\n",
       " ('2014-02-13 00:00:00.0', 'Thursday', False),\n",
       " ('2014-02-14 00:00:00.0', 'Friday', False),\n",
       " ('2014-02-15 00:00:00.0', 'Saturday', True),\n",
       " ('2014-02-16 00:00:00.0', 'Sunday', True),\n",
       " ('2014-02-17 00:00:00.0', 'Monday', False),\n",
       " ('2014-02-18 00:00:00.0', 'Tuesday', False),\n",
       " ('2014-02-19 00:00:00.0', 'Wednesday', False),\n",
       " ('2014-02-20 00:00:00.0', 'Thursday', False),\n",
       " ('2014-02-21 00:00:00.0', 'Friday', False),\n",
       " ('2014-02-22 00:00:00.0', 'Saturday', True),\n",
       " ('2014-02-23 00:00:00.0', 'Sunday', True),\n",
       " ('2014-02-24 00:00:00.0', 'Monday', False),\n",
       " ('2014-02-25 00:00:00.0', 'Tuesday', False),\n",
       " ('2014-02-26 00:00:00.0', 'Wednesday', False),\n",
       " ('2014-02-27 00:00:00.0', 'Thursday', False),\n",
       " ('2014-02-28 00:00:00.0', 'Friday', False),\n",
       " ('2014-03-01 00:00:00.0', 'Saturday', True),\n",
       " ('2014-03-02 00:00:00.0', 'Sunday', True),\n",
       " ('2014-03-03 00:00:00.0', 'Monday', False),\n",
       " ('2014-03-04 00:00:00.0', 'Tuesday', False),\n",
       " ('2014-03-05 00:00:00.0', 'Wednesday', False),\n",
       " ('2014-03-06 00:00:00.0', 'Thursday', False),\n",
       " ('2014-03-07 00:00:00.0', 'Friday', False),\n",
       " ('2014-03-08 00:00:00.0', 'Saturday', True),\n",
       " ('2014-03-10 00:00:00.0', 'Monday', False),\n",
       " ('2014-03-11 00:00:00.0', 'Tuesday', False),\n",
       " ('2014-03-12 00:00:00.0', 'Wednesday', False),\n",
       " ('2014-03-13 00:00:00.0', 'Thursday', False),\n",
       " ('2014-03-14 00:00:00.0', 'Friday', False),\n",
       " ('2014-03-15 00:00:00.0', 'Saturday', True),\n",
       " ('2014-03-16 00:00:00.0', 'Sunday', True),\n",
       " ('2014-03-17 00:00:00.0', 'Monday', False),\n",
       " ('2014-03-18 00:00:00.0', 'Tuesday', False),\n",
       " ('2014-03-19 00:00:00.0', 'Wednesday', False),\n",
       " ('2014-03-20 00:00:00.0', 'Thursday', False),\n",
       " ('2014-03-21 00:00:00.0', 'Friday', False),\n",
       " ('2014-03-22 00:00:00.0', 'Saturday', True),\n",
       " ('2014-03-23 00:00:00.0', 'Sunday', True),\n",
       " ('2014-03-24 00:00:00.0', 'Monday', False),\n",
       " ('2014-03-25 00:00:00.0', 'Tuesday', False),\n",
       " ('2014-03-26 00:00:00.0', 'Wednesday', False),\n",
       " ('2014-03-27 00:00:00.0', 'Thursday', False),\n",
       " ('2014-03-28 00:00:00.0', 'Friday', False),\n",
       " ('2014-03-29 00:00:00.0', 'Saturday', True),\n",
       " ('2014-03-30 00:00:00.0', 'Sunday', True),\n",
       " ('2014-03-31 00:00:00.0', 'Monday', False),\n",
       " ('2014-04-01 00:00:00.0', 'Tuesday', False),\n",
       " ('2014-04-02 00:00:00.0', 'Wednesday', False),\n",
       " ('2014-04-03 00:00:00.0', 'Thursday', False),\n",
       " ('2014-04-04 00:00:00.0', 'Friday', False),\n",
       " ('2014-04-05 00:00:00.0', 'Saturday', True),\n",
       " ('2014-04-06 00:00:00.0', 'Sunday', True),\n",
       " ('2014-04-07 00:00:00.0', 'Monday', False),\n",
       " ('2014-04-08 00:00:00.0', 'Tuesday', False),\n",
       " ('2014-04-09 00:00:00.0', 'Wednesday', False),\n",
       " ('2014-04-10 00:00:00.0', 'Thursday', False),\n",
       " ('2014-04-11 00:00:00.0', 'Friday', False),\n",
       " ('2014-04-12 00:00:00.0', 'Saturday', True),\n",
       " ('2014-04-13 00:00:00.0', 'Sunday', True),\n",
       " ('2014-04-14 00:00:00.0', 'Monday', False),\n",
       " ('2014-04-15 00:00:00.0', 'Tuesday', False),\n",
       " ('2014-04-16 00:00:00.0', 'Wednesday', False),\n",
       " ('2014-04-17 00:00:00.0', 'Thursday', False),\n",
       " ('2014-04-18 00:00:00.0', 'Friday', False),\n",
       " ('2014-04-19 00:00:00.0', 'Saturday', True),\n",
       " ('2014-04-20 00:00:00.0', 'Sunday', True),\n",
       " ('2014-04-21 00:00:00.0', 'Monday', False),\n",
       " ('2014-04-22 00:00:00.0', 'Tuesday', False),\n",
       " ('2014-04-23 00:00:00.0', 'Wednesday', False),\n",
       " ('2014-04-24 00:00:00.0', 'Thursday', False),\n",
       " ('2014-04-25 00:00:00.0', 'Friday', False),\n",
       " ('2014-04-26 00:00:00.0', 'Saturday', True),\n",
       " ('2014-04-27 00:00:00.0', 'Sunday', True),\n",
       " ('2014-04-28 00:00:00.0', 'Monday', False),\n",
       " ('2014-04-29 00:00:00.0', 'Tuesday', False),\n",
       " ('2014-04-30 00:00:00.0', 'Wednesday', False),\n",
       " ('2014-05-01 00:00:00.0', 'Thursday', False),\n",
       " ('2014-05-02 00:00:00.0', 'Friday', False),\n",
       " ('2014-05-03 00:00:00.0', 'Saturday', True),\n",
       " ('2014-05-04 00:00:00.0', 'Sunday', True),\n",
       " ('2014-05-05 00:00:00.0', 'Monday', False),\n",
       " ('2014-05-06 00:00:00.0', 'Tuesday', False),\n",
       " ('2014-05-07 00:00:00.0', 'Wednesday', False),\n",
       " ('2014-05-08 00:00:00.0', 'Thursday', False),\n",
       " ('2014-05-09 00:00:00.0', 'Friday', False),\n",
       " ('2014-05-10 00:00:00.0', 'Saturday', True),\n",
       " ('2014-05-11 00:00:00.0', 'Sunday', True),\n",
       " ('2014-05-12 00:00:00.0', 'Monday', False),\n",
       " ('2014-05-13 00:00:00.0', 'Tuesday', False),\n",
       " ('2014-05-14 00:00:00.0', 'Wednesday', False),\n",
       " ('2014-05-15 00:00:00.0', 'Thursday', False),\n",
       " ('2014-05-16 00:00:00.0', 'Friday', False),\n",
       " ('2014-05-17 00:00:00.0', 'Saturday', True),\n",
       " ('2014-05-18 00:00:00.0', 'Sunday', True),\n",
       " ('2014-05-19 00:00:00.0', 'Monday', False),\n",
       " ('2014-05-20 00:00:00.0', 'Tuesday', False),\n",
       " ('2014-05-21 00:00:00.0', 'Wednesday', False),\n",
       " ('2014-05-22 00:00:00.0', 'Thursday', False),\n",
       " ('2014-05-23 00:00:00.0', 'Friday', False),\n",
       " ('2014-05-24 00:00:00.0', 'Saturday', True),\n",
       " ('2014-05-25 00:00:00.0', 'Sunday', True),\n",
       " ('2014-05-26 00:00:00.0', 'Monday', False),\n",
       " ('2014-05-27 00:00:00.0', 'Tuesday', False),\n",
       " ('2014-05-28 00:00:00.0', 'Wednesday', False),\n",
       " ('2014-05-29 00:00:00.0', 'Thursday', False),\n",
       " ('2014-05-30 00:00:00.0', 'Friday', False),\n",
       " ('2014-05-31 00:00:00.0', 'Saturday', True),\n",
       " ('2014-06-01 00:00:00.0', 'Sunday', True),\n",
       " ('2014-06-02 00:00:00.0', 'Monday', False),\n",
       " ('2014-06-03 00:00:00.0', 'Tuesday', False),\n",
       " ('2014-06-04 00:00:00.0', 'Wednesday', False),\n",
       " ('2014-06-05 00:00:00.0', 'Thursday', False),\n",
       " ('2014-06-06 00:00:00.0', 'Friday', False),\n",
       " ('2014-06-07 00:00:00.0', 'Saturday', True),\n",
       " ('2014-06-08 00:00:00.0', 'Sunday', True),\n",
       " ('2014-06-09 00:00:00.0', 'Monday', False),\n",
       " ('2014-06-10 00:00:00.0', 'Tuesday', False),\n",
       " ('2014-06-11 00:00:00.0', 'Wednesday', False),\n",
       " ('2014-06-12 00:00:00.0', 'Thursday', False),\n",
       " ('2014-06-13 00:00:00.0', 'Friday', False),\n",
       " ('2014-06-14 00:00:00.0', 'Saturday', True),\n",
       " ('2014-06-15 00:00:00.0', 'Sunday', True),\n",
       " ('2014-06-16 00:00:00.0', 'Monday', False),\n",
       " ('2014-06-17 00:00:00.0', 'Tuesday', False),\n",
       " ('2014-06-18 00:00:00.0', 'Wednesday', False),\n",
       " ('2014-06-19 00:00:00.0', 'Thursday', False),\n",
       " ('2014-06-20 00:00:00.0', 'Friday', False),\n",
       " ('2014-06-21 00:00:00.0', 'Saturday', True),\n",
       " ('2014-06-22 00:00:00.0', 'Sunday', True),\n",
       " ('2014-06-23 00:00:00.0', 'Monday', False),\n",
       " ('2014-06-24 00:00:00.0', 'Tuesday', False),\n",
       " ('2014-06-25 00:00:00.0', 'Wednesday', False),\n",
       " ('2014-06-26 00:00:00.0', 'Thursday', False),\n",
       " ('2014-06-27 00:00:00.0', 'Friday', False),\n",
       " ('2014-06-28 00:00:00.0', 'Saturday', True),\n",
       " ('2014-06-29 00:00:00.0', 'Sunday', True),\n",
       " ('2014-06-30 00:00:00.0', 'Monday', False),\n",
       " ('2014-07-01 00:00:00.0', 'Tuesday', False),\n",
       " ('2014-07-02 00:00:00.0', 'Wednesday', False),\n",
       " ('2014-07-03 00:00:00.0', 'Thursday', False),\n",
       " ('2014-07-04 00:00:00.0', 'Friday', False),\n",
       " ('2014-07-05 00:00:00.0', 'Saturday', True),\n",
       " ('2014-07-06 00:00:00.0', 'Sunday', True),\n",
       " ('2014-07-07 00:00:00.0', 'Monday', False),\n",
       " ('2014-07-08 00:00:00.0', 'Tuesday', False),\n",
       " ('2014-07-09 00:00:00.0', 'Wednesday', False),\n",
       " ('2014-07-10 00:00:00.0', 'Thursday', False),\n",
       " ('2014-07-11 00:00:00.0', 'Friday', False),\n",
       " ('2014-07-12 00:00:00.0', 'Saturday', True),\n",
       " ('2014-07-13 00:00:00.0', 'Sunday', True),\n",
       " ('2014-07-14 00:00:00.0', 'Monday', False),\n",
       " ('2014-07-15 00:00:00.0', 'Tuesday', False),\n",
       " ('2014-07-16 00:00:00.0', 'Wednesday', False),\n",
       " ('2014-07-17 00:00:00.0', 'Thursday', False),\n",
       " ('2014-07-18 00:00:00.0', 'Friday', False),\n",
       " ('2014-07-19 00:00:00.0', 'Saturday', True),\n",
       " ('2014-07-20 00:00:00.0', 'Sunday', True),\n",
       " ('2014-07-21 00:00:00.0', 'Monday', False),\n",
       " ('2014-07-22 00:00:00.0', 'Tuesday', False),\n",
       " ('2014-07-23 00:00:00.0', 'Wednesday', False),\n",
       " ('2014-07-24 00:00:00.0', 'Thursday', False)}"
      ]
     },
     "execution_count": 38,
     "metadata": {},
     "output_type": "execute_result"
    }
   ],
   "source": [
    "set(order_dates_without_ids)"
   ]
  },
  {
   "cell_type": "code",
   "execution_count": null,
   "metadata": {},
   "outputs": [],
   "source": []
  }
 ],
 "metadata": {
  "kernelspec": {
   "display_name": "Python 3",
   "language": "python",
   "name": "python3"
  },
  "language_info": {
   "codemirror_mode": {
    "name": "ipython",
    "version": 3
   },
   "file_extension": ".py",
   "mimetype": "text/x-python",
   "name": "python",
   "nbconvert_exporter": "python",
   "pygments_lexer": "ipython3",
   "version": "3.6.12"
  }
 },
 "nbformat": 4,
 "nbformat_minor": 4
}
