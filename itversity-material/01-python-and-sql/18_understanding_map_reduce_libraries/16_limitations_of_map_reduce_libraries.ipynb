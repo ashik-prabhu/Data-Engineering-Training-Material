{
 "cells": [
  {
   "cell_type": "markdown",
   "metadata": {},
   "source": [
    "## Limitations of Map Reduce Libraries\n",
    "\n",
    "Here are some of the limitations of using Map Reduce Libraries.\n",
    "* We cannot refer attributes with names directly.\n",
    "* Functions are scattered and lack consistency.\n",
    "* Readability and maintainability are addressed using libraries such as Pandas.\n",
    "* Libraries such as PySpark takes care of scalability.\n",
    "\n",
    "```{note}\n",
    "We use the approach of loops or itertools as part of mobile or web application development. For Data Engineering applications we prefer Pandas or PySpark.\n",
    "```"
   ]
  }
 ],
 "metadata": {
  "kernelspec": {
   "display_name": "Python 3",
   "language": "python",
   "name": "python3"
  },
  "language_info": {
   "codemirror_mode": {
    "name": "ipython",
    "version": 3
   },
   "file_extension": ".py",
   "mimetype": "text/x-python",
   "name": "python",
   "nbconvert_exporter": "python",
   "pygments_lexer": "ipython3",
   "version": "3.6.12"
  }
 },
 "nbformat": 4,
 "nbformat_minor": 4
}
