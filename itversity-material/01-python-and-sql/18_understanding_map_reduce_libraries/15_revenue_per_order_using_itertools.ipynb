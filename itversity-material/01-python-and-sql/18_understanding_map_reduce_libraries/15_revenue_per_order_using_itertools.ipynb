{
 "cells": [
  {
   "cell_type": "markdown",
   "metadata": {},
   "source": [
    "## Revenue per order using itertools\n",
    "\n",
    "Get revenue per order using order_items data set."
   ]
  },
  {
   "cell_type": "code",
   "execution_count": 55,
   "metadata": {},
   "outputs": [],
   "source": [
    "%run 02_preparing_data_sets.ipynb"
   ]
  },
  {
   "cell_type": "code",
   "execution_count": 56,
   "metadata": {},
   "outputs": [
    {
     "data": {
      "text/plain": [
       "['1,1,957,1,299.98,299.98',\n",
       " '2,2,1073,1,199.99,199.99',\n",
       " '3,2,502,5,250.0,50.0',\n",
       " '4,2,403,1,129.99,129.99']"
      ]
     },
     "execution_count": 56,
     "metadata": {},
     "output_type": "execute_result"
    }
   ],
   "source": [
    "order_items[:4]"
   ]
  },
  {
   "cell_type": "code",
   "execution_count": 78,
   "metadata": {},
   "outputs": [],
   "source": [
    "order_subtotals = map(lambda oi: (int(oi.split(',')[1]), float(oi.split(',')[4])), order_items)"
   ]
  },
  {
   "cell_type": "code",
   "execution_count": 79,
   "metadata": {},
   "outputs": [
    {
     "data": {
      "text/plain": [
       "[(1, 299.98), (2, 199.99), (2, 250.0)]"
      ]
     },
     "execution_count": 79,
     "metadata": {},
     "output_type": "execute_result"
    }
   ],
   "source": [
    "list(order_subtotals)[:3]"
   ]
  },
  {
   "cell_type": "code",
   "execution_count": 80,
   "metadata": {},
   "outputs": [],
   "source": [
    "order_subtotals = map(lambda oi: (int(oi.split(',')[1]), float(oi.split(',')[4])), order_items)\n",
    "order_subtotals_sorted = sorted(order_subtotals)"
   ]
  },
  {
   "cell_type": "code",
   "execution_count": 81,
   "metadata": {},
   "outputs": [
    {
     "data": {
      "text/plain": [
       "[(1, 299.98), (2, 129.99), (2, 199.99)]"
      ]
     },
     "execution_count": 81,
     "metadata": {},
     "output_type": "execute_result"
    }
   ],
   "source": [
    "order_subtotals_sorted[:3]"
   ]
  },
  {
   "cell_type": "code",
   "execution_count": 82,
   "metadata": {},
   "outputs": [],
   "source": [
    "import itertools as iter"
   ]
  },
  {
   "cell_type": "code",
   "execution_count": 83,
   "metadata": {},
   "outputs": [],
   "source": [
    "order_subtotals_grouped = iter.groupby(order_subtotals_sorted, lambda rec: rec[0])"
   ]
  },
  {
   "cell_type": "code",
   "execution_count": 84,
   "metadata": {},
   "outputs": [
    {
     "data": {
      "text/plain": [
       "[(1, <itertools._grouper at 0x7f5b00ec8c18>),\n",
       " (2, <itertools._grouper at 0x7f5b00ec89b0>),\n",
       " (4, <itertools._grouper at 0x7f5a9929c6a0>)]"
      ]
     },
     "execution_count": 84,
     "metadata": {},
     "output_type": "execute_result"
    }
   ],
   "source": [
    "list(order_subtotals_grouped)[:3]"
   ]
  },
  {
   "cell_type": "code",
   "execution_count": 85,
   "metadata": {},
   "outputs": [],
   "source": [
    "order_subtotals = map(lambda oi: (int(oi.split(',')[1]), float(oi.split(',')[4])), order_items)\n",
    "order_subtotals_sorted = sorted(order_subtotals)\n",
    "\n",
    "order_subtotals_grouped = iter.groupby(order_subtotals_sorted, lambda rec: rec[0])"
   ]
  },
  {
   "cell_type": "code",
   "execution_count": 86,
   "metadata": {},
   "outputs": [
    {
     "name": "stdout",
     "output_type": "stream",
     "text": [
      "1 contains [(1, 299.98)]\n",
      "2 contains [(2, 129.99), (2, 199.99), (2, 250.0)]\n",
      "4 contains [(4, 49.98), (4, 150.0), (4, 199.92), (4, 299.95)]\n",
      "5 contains [(5, 99.96), (5, 129.99), (5, 299.95), (5, 299.98), (5, 299.98)]\n",
      "7 contains [(7, 79.95), (7, 199.99), (7, 299.98)]\n",
      "8 contains [(8, 50.0), (8, 179.97), (8, 199.92), (8, 299.95)]\n",
      "9 contains [(9, 199.98), (9, 199.99), (9, 199.99)]\n",
      "10 contains [(10, 21.99), (10, 99.96), (10, 129.99), (10, 199.99), (10, 199.99)]\n",
      "11 contains [(11, 49.98), (11, 59.99), (11, 159.96), (11, 249.9), (11, 399.96)]\n",
      "12 contains [(12, 100.0), (12, 149.94), (12, 250.0), (12, 299.98), (12, 499.95)]\n"
     ]
    }
   ],
   "source": [
    "cnt = 0\n",
    "for e in order_subtotals_grouped:\n",
    "    if cnt == 10: break\n",
    "    print(f'{e[0]} contains {list(e[1])}')\n",
    "    cnt += 1"
   ]
  },
  {
   "cell_type": "code",
   "execution_count": 87,
   "metadata": {},
   "outputs": [],
   "source": [
    "i = [(2, 199.99), (2, 250.0), (2, 129.99)]"
   ]
  },
  {
   "cell_type": "code",
   "execution_count": 88,
   "metadata": {},
   "outputs": [
    {
     "data": {
      "text/plain": [
       "[199.99, 250.0, 129.99]"
      ]
     },
     "execution_count": 88,
     "metadata": {},
     "output_type": "execute_result"
    }
   ],
   "source": [
    "list(map(lambda rec: rec[1], i))"
   ]
  },
  {
   "cell_type": "code",
   "execution_count": 89,
   "metadata": {},
   "outputs": [
    {
     "data": {
      "text/plain": [
       "579.98"
      ]
     },
     "execution_count": 89,
     "metadata": {},
     "output_type": "execute_result"
    }
   ],
   "source": [
    "sum(list(map(lambda rec: rec[1], i))) # this will go as part of first argument to starmap"
   ]
  },
  {
   "cell_type": "code",
   "execution_count": 90,
   "metadata": {},
   "outputs": [
    {
     "data": {
      "text/plain": [
       "[(1, <itertools._grouper at 0x7f5a93810160>),\n",
       " (2, <itertools._grouper at 0x7f5a938106d8>),\n",
       " (4, <itertools._grouper at 0x7f5a938106a0>)]"
      ]
     },
     "execution_count": 90,
     "metadata": {},
     "output_type": "execute_result"
    }
   ],
   "source": [
    "order_subtotals = map(lambda oi: (int(oi.split(',')[1]), float(oi.split(',')[4])), order_items)\n",
    "order_subtotals_sorted = sorted(order_subtotals)\n",
    "\n",
    "import itertools as iter\n",
    "\n",
    "order_subtotals_grouped = iter.groupby(order_subtotals_sorted, lambda rec: rec[0])\n",
    "\n",
    "list(order_subtotals_grouped)[:3]"
   ]
  },
  {
   "cell_type": "code",
   "execution_count": 91,
   "metadata": {},
   "outputs": [],
   "source": [
    "order_subtotals = map(lambda oi: (int(oi.split(',')[1]), float(oi.split(',')[4])), order_items)\n",
    "order_subtotals_sorted = sorted(order_subtotals)\n",
    "\n",
    "order_subtotals_grouped = iter.groupby(order_subtotals_sorted, lambda rec: rec[0])\n",
    "\n",
    "order_revenue = iter.starmap(\n",
    "    lambda key, values: (key, round(sum(list(map(lambda rec: rec[1], values))), 2)), \n",
    "    order_subtotals_grouped\n",
    ")"
   ]
  },
  {
   "cell_type": "code",
   "execution_count": 92,
   "metadata": {},
   "outputs": [
    {
     "data": {
      "text/plain": [
       "[(1, 299.98), (2, 579.98), (4, 699.85)]"
      ]
     },
     "execution_count": 92,
     "metadata": {},
     "output_type": "execute_result"
    }
   ],
   "source": [
    "list(order_revenue)[:3]"
   ]
  },
  {
   "cell_type": "markdown",
   "metadata": {},
   "source": [
    "```{note}\n",
    "Alternative solution by avoiding first map.\n",
    "```"
   ]
  },
  {
   "cell_type": "code",
   "execution_count": 93,
   "metadata": {},
   "outputs": [],
   "source": [
    "order_items_sorted = sorted(order_items, key=lambda oi: int(oi.split(',')[1]))\n",
    "\n",
    "order_items_grouped = iter.groupby(order_items_sorted, lambda oi: int(oi.split(',')[1]))"
   ]
  },
  {
   "cell_type": "code",
   "execution_count": 94,
   "metadata": {},
   "outputs": [
    {
     "data": {
      "text/plain": [
       "['2,2,1073,1,199.99,199.99', '3,2,502,5,250.0,50.0', '4,2,403,1,129.99,129.99']"
      ]
     },
     "execution_count": 94,
     "metadata": {},
     "output_type": "execute_result"
    }
   ],
   "source": [
    "order_items[1:4]"
   ]
  },
  {
   "cell_type": "code",
   "execution_count": 95,
   "metadata": {},
   "outputs": [
    {
     "name": "stdout",
     "output_type": "stream",
     "text": [
      "1 contains ['1,1,957,1,299.98,299.98']\n",
      "2 contains ['2,2,1073,1,199.99,199.99', '3,2,502,5,250.0,50.0', '4,2,403,1,129.99,129.99']\n",
      "4 contains ['5,4,897,2,49.98,24.99', '6,4,365,5,299.95,59.99', '7,4,502,3,150.0,50.0', '8,4,1014,4,199.92,49.98']\n",
      "5 contains ['9,5,957,1,299.98,299.98', '10,5,365,5,299.95,59.99', '11,5,1014,2,99.96,49.98', '12,5,957,1,299.98,299.98', '13,5,403,1,129.99,129.99']\n",
      "7 contains ['14,7,1073,1,199.99,199.99', '15,7,957,1,299.98,299.98', '16,7,926,5,79.95,15.99']\n",
      "8 contains ['17,8,365,3,179.97,59.99', '18,8,365,5,299.95,59.99', '19,8,1014,4,199.92,49.98', '20,8,502,1,50.0,50.0']\n",
      "9 contains ['21,9,191,2,199.98,99.99', '22,9,1073,1,199.99,199.99', '23,9,1073,1,199.99,199.99']\n",
      "10 contains ['24,10,1073,1,199.99,199.99', '25,10,1014,2,99.96,49.98', '26,10,403,1,129.99,129.99', '27,10,917,1,21.99,21.99', '28,10,1073,1,199.99,199.99']\n",
      "11 contains ['29,11,365,1,59.99,59.99', '30,11,627,4,159.96,39.99', '31,11,1014,1,49.98,49.98', '32,11,191,4,399.96,99.99', '33,11,1014,5,249.9,49.98']\n",
      "12 contains ['34,12,957,1,299.98,299.98', '35,12,134,4,100.0,25.0', '36,12,1014,3,149.94,49.98', '37,12,191,5,499.95,99.99', '38,12,502,5,250.0,50.0']\n"
     ]
    }
   ],
   "source": [
    "order_items_sorted = sorted(order_items, key=lambda oi: int(oi.split(',')[1]))\n",
    "\n",
    "order_items_grouped = iter.groupby(order_items_sorted, lambda oi: int(oi.split(',')[1]))\n",
    "\n",
    "cnt = 0\n",
    "for e in order_items_grouped:\n",
    "    if cnt == 10: break\n",
    "    print(f'{e[0]} contains {list(e[1])}')\n",
    "    cnt += 1"
   ]
  },
  {
   "cell_type": "code",
   "execution_count": 96,
   "metadata": {},
   "outputs": [],
   "source": [
    "values = order_items[1:4]"
   ]
  },
  {
   "cell_type": "code",
   "execution_count": 97,
   "metadata": {},
   "outputs": [
    {
     "data": {
      "text/plain": [
       "['2,2,1073,1,199.99,199.99', '3,2,502,5,250.0,50.0', '4,2,403,1,129.99,129.99']"
      ]
     },
     "execution_count": 97,
     "metadata": {},
     "output_type": "execute_result"
    }
   ],
   "source": [
    "values"
   ]
  },
  {
   "cell_type": "code",
   "execution_count": 98,
   "metadata": {},
   "outputs": [
    {
     "data": {
      "text/plain": [
       "[199.99, 250.0, 129.99]"
      ]
     },
     "execution_count": 98,
     "metadata": {},
     "output_type": "execute_result"
    }
   ],
   "source": [
    "list(map(lambda rec: float(rec.split(',')[4]), values))"
   ]
  },
  {
   "cell_type": "code",
   "execution_count": 99,
   "metadata": {},
   "outputs": [
    {
     "data": {
      "text/plain": [
       "579.98"
      ]
     },
     "execution_count": 99,
     "metadata": {},
     "output_type": "execute_result"
    }
   ],
   "source": [
    "sum(list(map(lambda rec: float(rec.split(',')[4]), values)))"
   ]
  },
  {
   "cell_type": "code",
   "execution_count": 100,
   "metadata": {},
   "outputs": [],
   "source": [
    "order_revenue = iter.starmap(\n",
    "    lambda key, values: (key, round(sum(list(map(lambda rec: float(rec.split(',')[4]), values))), 2)), \n",
    "    order_items_grouped\n",
    ")"
   ]
  },
  {
   "cell_type": "code",
   "execution_count": 101,
   "metadata": {},
   "outputs": [
    {
     "data": {
      "text/plain": [
       "[(14, 549.94), (15, 925.91), (16, 419.93)]"
      ]
     },
     "execution_count": 101,
     "metadata": {},
     "output_type": "execute_result"
    }
   ],
   "source": [
    "list(order_revenue)[:3]"
   ]
  },
  {
   "cell_type": "code",
   "execution_count": null,
   "metadata": {},
   "outputs": [],
   "source": []
  },
  {
   "cell_type": "code",
   "execution_count": null,
   "metadata": {},
   "outputs": [],
   "source": []
  }
 ],
 "metadata": {
  "kernelspec": {
   "display_name": "Python 3",
   "language": "python",
   "name": "python3"
  },
  "language_info": {
   "codemirror_mode": {
    "name": "ipython",
    "version": 3
   },
   "file_extension": ".py",
   "mimetype": "text/x-python",
   "name": "python",
   "nbconvert_exporter": "python",
   "pygments_lexer": "ipython3",
   "version": "3.6.12"
  }
 },
 "nbformat": 4,
 "nbformat_minor": 4
}
