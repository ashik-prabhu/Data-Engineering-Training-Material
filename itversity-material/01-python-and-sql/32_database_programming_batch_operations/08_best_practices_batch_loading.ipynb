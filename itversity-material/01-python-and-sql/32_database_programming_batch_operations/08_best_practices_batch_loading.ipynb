{
 "cells": [
  {
   "cell_type": "markdown",
   "metadata": {},
   "source": [
    "## Best Practices - Batch Loading\n",
    "\n",
    "Let us go through some of the best practices to perform batch load.\n",
    "* We should minimize the number of connections to database.\n",
    "* We should avoid executing queries using hard coded values. Rather, we should prefer bind variables.\n",
    "* Too much committing is bad as commit incurs overhead.\n",
    "* If we have to load considerable amount of data, we should consider committing every 1,000 records or 10,000 records or even more based up on the capacity of the database.\n",
    "* Most of the mainstream databases perform direct path I/O or batch load which might perform better compare to looping, inserting and committing data. In some cases, we can use those features."
   ]
  }
 ],
 "metadata": {
  "kernelspec": {
   "display_name": "Python 3",
   "language": "python",
   "name": "python3"
  },
  "language_info": {
   "codemirror_mode": {
    "name": "ipython",
    "version": 3
   },
   "file_extension": ".py",
   "mimetype": "text/x-python",
   "name": "python",
   "nbconvert_exporter": "python",
   "pygments_lexer": "ipython3",
   "version": "3.6.12"
  }
 },
 "nbformat": 4,
 "nbformat_minor": 4
}
