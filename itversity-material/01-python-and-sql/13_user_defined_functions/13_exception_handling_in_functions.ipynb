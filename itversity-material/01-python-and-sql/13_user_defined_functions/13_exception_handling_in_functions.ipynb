{
 "cells": [
  {
   "cell_type": "markdown",
   "id": "35cdfe4d",
   "metadata": {},
   "source": [
    "## Exception Handling in Functions\n",
    "\n",
    "Let us go through the details about exception handling in functions"
   ]
  },
  {
   "cell_type": "code",
   "execution_count": 1,
   "id": "3d9d5ebd",
   "metadata": {},
   "outputs": [],
   "source": [
    "def sum_n(n):\n",
    "    try:\n",
    "        return int((n * (n + 1) / 2))\n",
    "    except ValueError:\n",
    "        print(f'{n} is not valid integer')\n",
    "    return"
   ]
  },
  {
   "cell_type": "code",
   "execution_count": 2,
   "id": "37fabfa9",
   "metadata": {},
   "outputs": [],
   "source": [
    "def sum_of_integers(lb, ub):\n",
    "    try:\n",
    "        return sum_n(ub) - sum_n(lb - 1)\n",
    "    except Exception:\n",
    "        print(f'Unable to get sum of integers between {lb} and {ub}')"
   ]
  },
  {
   "cell_type": "code",
   "execution_count": 3,
   "id": "92596523",
   "metadata": {},
   "outputs": [
    {
     "data": {
      "text/plain": [
       "52"
      ]
     },
     "execution_count": 3,
     "metadata": {},
     "output_type": "execute_result"
    }
   ],
   "source": [
    "sum_of_integers(3, 10)"
   ]
  },
  {
   "cell_type": "code",
   "execution_count": 4,
   "id": "0a6caea5",
   "metadata": {},
   "outputs": [
    {
     "name": "stdout",
     "output_type": "stream",
     "text": [
      "Unable to get sum of integers between 3 and 10\n"
     ]
    }
   ],
   "source": [
    "sum_of_integers(3, '10')"
   ]
  },
  {
   "cell_type": "code",
   "execution_count": 8,
   "id": "df016d8c",
   "metadata": {},
   "outputs": [],
   "source": [
    "def sum_n(n):\n",
    "    try:\n",
    "        return int((n * (n + 1) / 2))\n",
    "    except ValueError:\n",
    "        print(f'{n} is not valid integer')\n",
    "    return"
   ]
  },
  {
   "cell_type": "code",
   "execution_count": 9,
   "id": "343026d2",
   "metadata": {},
   "outputs": [],
   "source": [
    "def sum_of_integers(lb, ub):\n",
    "    try:\n",
    "        if lb >= ub:\n",
    "            raise ValueError\n",
    "        return sum_n(ub) - sum_n(lb - 1)\n",
    "    except ValueError:\n",
    "        print(f'{lb} and {ub} are not valid to get sum of integers between them')"
   ]
  },
  {
   "cell_type": "code",
   "execution_count": 10,
   "id": "ff82cf0a",
   "metadata": {},
   "outputs": [
    {
     "data": {
      "text/plain": [
       "52"
      ]
     },
     "execution_count": 10,
     "metadata": {},
     "output_type": "execute_result"
    }
   ],
   "source": [
    "sum_of_integers(3, 10)"
   ]
  },
  {
   "cell_type": "code",
   "execution_count": 11,
   "id": "a2fc9a3b",
   "metadata": {},
   "outputs": [
    {
     "name": "stdout",
     "output_type": "stream",
     "text": [
      "3 and 2 are not valid to get sum of integers between them\n"
     ]
    }
   ],
   "source": [
    "sum_of_integers(3, 2)"
   ]
  },
  {
   "cell_type": "code",
   "execution_count": 3,
   "id": "49b63f94",
   "metadata": {},
   "outputs": [],
   "source": [
    "def sum_n(n):\n",
    "    try:\n",
    "        return int((n * (n + 1) / 2))\n",
    "    except ValueError:\n",
    "        print(f'{n} is not valid integer')\n",
    "    return"
   ]
  },
  {
   "cell_type": "code",
   "execution_count": 4,
   "id": "687367d7",
   "metadata": {},
   "outputs": [],
   "source": [
    "def sum_of_integers(lb, ub):\n",
    "    try:\n",
    "        assert lb < ub, f'{ub} is not greater than {lb}'\n",
    "        return sum_n(ub) - sum_n(lb - 1)\n",
    "    except ValueError:\n",
    "        print(f'{lb} and {ub} are not valid to get sum of integers between them')"
   ]
  },
  {
   "cell_type": "code",
   "execution_count": 5,
   "id": "9fe6ec9c",
   "metadata": {},
   "outputs": [
    {
     "data": {
      "text/plain": [
       "52"
      ]
     },
     "execution_count": 5,
     "metadata": {},
     "output_type": "execute_result"
    }
   ],
   "source": [
    "sum_of_integers(3, 10)"
   ]
  },
  {
   "cell_type": "code",
   "execution_count": 6,
   "id": "36880602",
   "metadata": {},
   "outputs": [
    {
     "ename": "AssertionError",
     "evalue": "2 is not greater than 3",
     "output_type": "error",
     "traceback": [
      "\u001b[0;31m---------------------------------------------------------------------------\u001b[0m",
      "\u001b[0;31mAssertionError\u001b[0m                            Traceback (most recent call last)",
      "\u001b[0;32m<ipython-input-6-21dec4ef67ca>\u001b[0m in \u001b[0;36m<module>\u001b[0;34m\u001b[0m\n\u001b[0;32m----> 1\u001b[0;31m \u001b[0msum_of_integers\u001b[0m\u001b[0;34m(\u001b[0m\u001b[0;36m3\u001b[0m\u001b[0;34m,\u001b[0m \u001b[0;36m2\u001b[0m\u001b[0;34m)\u001b[0m\u001b[0;34m\u001b[0m\u001b[0;34m\u001b[0m\u001b[0m\n\u001b[0m",
      "\u001b[0;32m<ipython-input-4-97955dba3f9f>\u001b[0m in \u001b[0;36msum_of_integers\u001b[0;34m(lb, ub)\u001b[0m\n\u001b[1;32m      1\u001b[0m \u001b[0;32mdef\u001b[0m \u001b[0msum_of_integers\u001b[0m\u001b[0;34m(\u001b[0m\u001b[0mlb\u001b[0m\u001b[0;34m,\u001b[0m \u001b[0mub\u001b[0m\u001b[0;34m)\u001b[0m\u001b[0;34m:\u001b[0m\u001b[0;34m\u001b[0m\u001b[0;34m\u001b[0m\u001b[0m\n\u001b[1;32m      2\u001b[0m     \u001b[0;32mtry\u001b[0m\u001b[0;34m:\u001b[0m\u001b[0;34m\u001b[0m\u001b[0;34m\u001b[0m\u001b[0m\n\u001b[0;32m----> 3\u001b[0;31m         \u001b[0;32massert\u001b[0m \u001b[0mlb\u001b[0m \u001b[0;34m<\u001b[0m \u001b[0mub\u001b[0m\u001b[0;34m,\u001b[0m \u001b[0;34mf'{ub} is not greater than {lb}'\u001b[0m\u001b[0;34m\u001b[0m\u001b[0;34m\u001b[0m\u001b[0m\n\u001b[0m\u001b[1;32m      4\u001b[0m         \u001b[0;32mreturn\u001b[0m \u001b[0msum_n\u001b[0m\u001b[0;34m(\u001b[0m\u001b[0mub\u001b[0m\u001b[0;34m)\u001b[0m \u001b[0;34m-\u001b[0m \u001b[0msum_n\u001b[0m\u001b[0;34m(\u001b[0m\u001b[0mlb\u001b[0m \u001b[0;34m-\u001b[0m \u001b[0;36m1\u001b[0m\u001b[0;34m)\u001b[0m\u001b[0;34m\u001b[0m\u001b[0;34m\u001b[0m\u001b[0m\n\u001b[1;32m      5\u001b[0m     \u001b[0;32mexcept\u001b[0m \u001b[0mValueError\u001b[0m\u001b[0;34m:\u001b[0m\u001b[0;34m\u001b[0m\u001b[0;34m\u001b[0m\u001b[0m\n",
      "\u001b[0;31mAssertionError\u001b[0m: 2 is not greater than 3"
     ]
    }
   ],
   "source": [
    "sum_of_integers(3, 2)"
   ]
  },
  {
   "cell_type": "code",
   "execution_count": 23,
   "id": "7118c161",
   "metadata": {},
   "outputs": [
    {
     "name": "stdout",
     "output_type": "stream",
     "text": [
      "6\n"
     ]
    },
    {
     "data": {
      "text/plain": [
       "'Python'"
      ]
     },
     "execution_count": 23,
     "metadata": {},
     "output_type": "execute_result"
    }
   ],
   "source": [
    "s1='ITV'\n",
    "s2='python '\n",
    "print(max(len(s1),len(s2)))\n",
    "s2.capitalize()"
   ]
  },
  {
   "cell_type": "code",
   "execution_count": 9,
   "id": "528b355d",
   "metadata": {},
   "outputs": [
    {
     "data": {
      "text/plain": [
       "'b'"
      ]
     },
     "execution_count": 9,
     "metadata": {},
     "output_type": "execute_result"
    }
   ],
   "source": [
    "max('a','b')"
   ]
  },
  {
   "cell_type": "code",
   "execution_count": 2,
   "id": "6641a534",
   "metadata": {},
   "outputs": [
    {
     "name": "stdout",
     "output_type": "stream",
     "text": [
      "12,21\n",
      "(12, 21),(21, 12)\n"
     ]
    }
   ],
   "source": [
    "def swap(a,b):\n",
    "    c=a\n",
    "    a=b\n",
    "    b=c\n",
    "    return a,b\n",
    "a=12\n",
    "b=21\n",
    "print(f'{a},{b}')\n",
    "a,b=swap(swap(a,b),swap(b,a))\n",
    "print(f'{a},{b}')"
   ]
  },
  {
   "cell_type": "code",
   "execution_count": null,
   "id": "3e0bf61f",
   "metadata": {},
   "outputs": [],
   "source": []
  }
 ],
 "metadata": {
  "kernelspec": {
   "display_name": "Python 3",
   "language": "python",
   "name": "python3"
  },
  "language_info": {
   "codemirror_mode": {
    "name": "ipython",
    "version": 3
   },
   "file_extension": ".py",
   "mimetype": "text/x-python",
   "name": "python",
   "nbconvert_exporter": "python",
   "pygments_lexer": "ipython3",
   "version": "3.6.12"
  }
 },
 "nbformat": 4,
 "nbformat_minor": 5
}
