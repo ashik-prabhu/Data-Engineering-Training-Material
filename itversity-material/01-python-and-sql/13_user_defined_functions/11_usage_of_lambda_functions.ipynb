{
 "cells": [
  {
   "cell_type": "markdown",
   "metadata": {},
   "source": [
    "## Usage of Lambda Functions\n",
    "\n",
    "Lambda functions are typically used while invoking those functions which take functions as arguments. Here are some of the functions which take other functions as arguments.\n",
    "* `filter`\n",
    "* `map`\n",
    "* `sorted` or `sort`\n",
    "and more\n",
    "\n",
    "There are many Python modules which have functions which take other functions as arguments. We will see quite a lot of examples in upcoming chapters."
   ]
  },
  {
   "cell_type": "code",
   "execution_count": 1,
   "metadata": {},
   "outputs": [
    {
     "data": {
      "text/plain": [
       "\u001b[0;31mInit signature:\u001b[0m \u001b[0mfilter\u001b[0m\u001b[0;34m(\u001b[0m\u001b[0mself\u001b[0m\u001b[0;34m,\u001b[0m \u001b[0;34m/\u001b[0m\u001b[0;34m,\u001b[0m \u001b[0;34m*\u001b[0m\u001b[0margs\u001b[0m\u001b[0;34m,\u001b[0m \u001b[0;34m**\u001b[0m\u001b[0mkwargs\u001b[0m\u001b[0;34m)\u001b[0m\u001b[0;34m\u001b[0m\u001b[0;34m\u001b[0m\u001b[0m\n",
       "\u001b[0;31mDocstring:\u001b[0m     \n",
       "filter(function or None, iterable) --> filter object\n",
       "\n",
       "Return an iterator yielding those items of iterable for which function(item)\n",
       "is true. If function is None, return the items that are true.\n",
       "\u001b[0;31mType:\u001b[0m           type\n",
       "\u001b[0;31mSubclasses:\u001b[0m     \n"
      ]
     },
     "metadata": {},
     "output_type": "display_data"
    }
   ],
   "source": [
    "filter?"
   ]
  },
  {
   "cell_type": "code",
   "execution_count": 2,
   "metadata": {},
   "outputs": [
    {
     "data": {
      "text/plain": [
       "\u001b[0;31mInit signature:\u001b[0m \u001b[0mmap\u001b[0m\u001b[0;34m(\u001b[0m\u001b[0mself\u001b[0m\u001b[0;34m,\u001b[0m \u001b[0;34m/\u001b[0m\u001b[0;34m,\u001b[0m \u001b[0;34m*\u001b[0m\u001b[0margs\u001b[0m\u001b[0;34m,\u001b[0m \u001b[0;34m**\u001b[0m\u001b[0mkwargs\u001b[0m\u001b[0;34m)\u001b[0m\u001b[0;34m\u001b[0m\u001b[0;34m\u001b[0m\u001b[0m\n",
       "\u001b[0;31mDocstring:\u001b[0m     \n",
       "map(func, *iterables) --> map object\n",
       "\n",
       "Make an iterator that computes the function using arguments from\n",
       "each of the iterables.  Stops when the shortest iterable is exhausted.\n",
       "\u001b[0;31mType:\u001b[0m           type\n",
       "\u001b[0;31mSubclasses:\u001b[0m     \n"
      ]
     },
     "metadata": {},
     "output_type": "display_data"
    }
   ],
   "source": [
    "map?"
   ]
  },
  {
   "cell_type": "code",
   "execution_count": 3,
   "metadata": {},
   "outputs": [
    {
     "data": {
      "text/plain": [
       "\u001b[0;31mSignature:\u001b[0m \u001b[0msorted\u001b[0m\u001b[0;34m(\u001b[0m\u001b[0miterable\u001b[0m\u001b[0;34m,\u001b[0m \u001b[0;34m/\u001b[0m\u001b[0;34m,\u001b[0m \u001b[0;34m*\u001b[0m\u001b[0;34m,\u001b[0m \u001b[0mkey\u001b[0m\u001b[0;34m=\u001b[0m\u001b[0;32mNone\u001b[0m\u001b[0;34m,\u001b[0m \u001b[0mreverse\u001b[0m\u001b[0;34m=\u001b[0m\u001b[0;32mFalse\u001b[0m\u001b[0;34m)\u001b[0m\u001b[0;34m\u001b[0m\u001b[0;34m\u001b[0m\u001b[0m\n",
       "\u001b[0;31mDocstring:\u001b[0m\n",
       "Return a new list containing all items from the iterable in ascending order.\n",
       "\n",
       "A custom key function can be supplied to customize the sort order, and the\n",
       "reverse flag can be set to request the result in descending order.\n",
       "\u001b[0;31mType:\u001b[0m      builtin_function_or_method\n"
      ]
     },
     "metadata": {},
     "output_type": "display_data"
    }
   ],
   "source": [
    "sorted?"
   ]
  },
  {
   "cell_type": "code",
   "execution_count": 4,
   "metadata": {},
   "outputs": [],
   "source": [
    "users = [\n",
    "    '1,Bryn,Eaken,beaken0@cbc.ca,Female,236.34.175.186',\n",
    "    '2,Smith,Combe,scombe1@xing.com,Male,',\n",
    "    '3,Roland,Wallentin,rwallentin2@aboutads.info,Male,94.67.195.44',\n",
    "    '4,Charlotta,Richten,crichten3@wikia.com,Female,202.51.201.1',\n",
    "    '5,Berne,Coyne,bcoyne4@squarespace.com,,150.246.120.53',\n",
    "    '6,Kesley,Hakonsen,khakonsen5@cbc.ca,Female,227.61.48.174',\n",
    "    \"7,Gray,M'Barron,gmbarron6@altervista.org,Male,190.128.200.183\",\n",
    "    '8,Melinde,Scarf,mscarf7@diigo.com,Female,134.41.141.5',\n",
    "    '9,Arturo,Warkup,awarkup8@nifty.com,Male,',\n",
    "    '10,Annette,Lowthorpe,alowthorpe9@marketwatch.com,Female,63.157.95.191',\n",
    "    '11,Melinda,McOwen,mmcowena@unblog.fr,Female,73.95.183.60',\n",
    "    '12,Minnie,Andrivel,mandrivelb@storify.com,,131.194.233.209',\n",
    "    '13,Taryn,Medhurst,tmedhurstc@ebay.co.uk,Female,65.191.102.59',\n",
    "    '14,Fanni,Whitley,fwhitleyd@who.int,Female,184.210.235.118',\n",
    "    '15,Jareb,Thunderchief,jthunderchiefe@arizona.edu,Male,150.159.27.112',\n",
    "    '16,Sharona,Haffard,shaffardf@kickstarter.com,Female,91.125.183.157',\n",
    "    '17,Pattin,Basant,pbasantg@gov.uk,Male,162.227.228.164',\n",
    "    '18,Beatrice,Butler,bbutlerh@abc.net.au,Female,139.49.169.236',\n",
    "    '19,Linoel,Bucktrout,lbucktrouti@google.ru,Male,18.17.136.105',\n",
    "    '20,Katee,Aveyard,kaveyardj@feedburner.com,Female,60.25.33.89'\n",
    "]"
   ]
  },
  {
   "cell_type": "code",
   "execution_count": 5,
   "metadata": {},
   "outputs": [
    {
     "data": {
      "text/plain": [
       "list"
      ]
     },
     "execution_count": 5,
     "metadata": {},
     "output_type": "execute_result"
    }
   ],
   "source": [
    "type(users)"
   ]
  },
  {
   "cell_type": "code",
   "execution_count": 6,
   "metadata": {},
   "outputs": [
    {
     "data": {
      "text/plain": [
       "str"
      ]
     },
     "execution_count": 6,
     "metadata": {},
     "output_type": "execute_result"
    }
   ],
   "source": [
    "type(users[0])"
   ]
  },
  {
   "cell_type": "code",
   "execution_count": 8,
   "metadata": {},
   "outputs": [
    {
     "data": {
      "text/plain": [
       "['2,Smith,Combe,scombe1@xing.com,Male,',\n",
       " '3,Roland,Wallentin,rwallentin2@aboutads.info,Male,94.67.195.44',\n",
       " \"7,Gray,M'Barron,gmbarron6@altervista.org,Male,190.128.200.183\",\n",
       " '9,Arturo,Warkup,awarkup8@nifty.com,Male,',\n",
       " '15,Jareb,Thunderchief,jthunderchiefe@arizona.edu,Male,150.159.27.112',\n",
       " '17,Pattin,Basant,pbasantg@gov.uk,Male,162.227.228.164',\n",
       " '19,Linoel,Bucktrout,lbucktrouti@google.ru,Male,18.17.136.105']"
      ]
     },
     "execution_count": 8,
     "metadata": {},
     "output_type": "execute_result"
    }
   ],
   "source": [
    "males = filter(\n",
    "    lambda user: user.split(',')[4] == 'Male',\n",
    "    users\n",
    ")\n",
    "list(males)"
   ]
  },
  {
   "cell_type": "code",
   "execution_count": 9,
   "metadata": {},
   "outputs": [
    {
     "data": {
      "text/plain": [
       "['1,Bryn,Eaken,beaken0@cbc.ca,Female,236.34.175.186',\n",
       " '2,Smith,Combe,scombe1@xing.com,Male,',\n",
       " '3,Roland,Wallentin,rwallentin2@aboutads.info,Male,94.67.195.44',\n",
       " '4,Charlotta,Richten,crichten3@wikia.com,Female,202.51.201.1',\n",
       " '6,Kesley,Hakonsen,khakonsen5@cbc.ca,Female,227.61.48.174',\n",
       " \"7,Gray,M'Barron,gmbarron6@altervista.org,Male,190.128.200.183\",\n",
       " '8,Melinde,Scarf,mscarf7@diigo.com,Female,134.41.141.5',\n",
       " '9,Arturo,Warkup,awarkup8@nifty.com,Male,',\n",
       " '10,Annette,Lowthorpe,alowthorpe9@marketwatch.com,Female,63.157.95.191',\n",
       " '11,Melinda,McOwen,mmcowena@unblog.fr,Female,73.95.183.60',\n",
       " '13,Taryn,Medhurst,tmedhurstc@ebay.co.uk,Female,65.191.102.59',\n",
       " '14,Fanni,Whitley,fwhitleyd@who.int,Female,184.210.235.118',\n",
       " '15,Jareb,Thunderchief,jthunderchiefe@arizona.edu,Male,150.159.27.112',\n",
       " '16,Sharona,Haffard,shaffardf@kickstarter.com,Female,91.125.183.157',\n",
       " '17,Pattin,Basant,pbasantg@gov.uk,Male,162.227.228.164',\n",
       " '18,Beatrice,Butler,bbutlerh@abc.net.au,Female,139.49.169.236',\n",
       " '19,Linoel,Bucktrout,lbucktrouti@google.ru,Male,18.17.136.105',\n",
       " '20,Katee,Aveyard,kaveyardj@feedburner.com,Female,60.25.33.89']"
      ]
     },
     "execution_count": 9,
     "metadata": {},
     "output_type": "execute_result"
    }
   ],
   "source": [
    "male_and_females = filter(\n",
    "    lambda user: user.split(',')[4] in ('Male', 'Female'),\n",
    "    users\n",
    ")\n",
    "list(male_and_females)"
   ]
  },
  {
   "cell_type": "code",
   "execution_count": 10,
   "metadata": {},
   "outputs": [
    {
     "data": {
      "text/plain": [
       "18"
      ]
     },
     "execution_count": 10,
     "metadata": {},
     "output_type": "execute_result"
    }
   ],
   "source": [
    "male_and_females = filter(\n",
    "    lambda user: user.split(',')[4] in ('Male', 'Female'),\n",
    "    users\n",
    ")\n",
    "len(list(male_and_females))"
   ]
  },
  {
   "cell_type": "code",
   "execution_count": 11,
   "metadata": {},
   "outputs": [
    {
     "data": {
      "text/plain": [
       "['1,Bryn,Eaken,beaken0@cbc.ca,Female,236.34.175.186',\n",
       " '2,Smith,Combe,scombe1@xing.com,Male,',\n",
       " '3,Roland,Wallentin,rwallentin2@aboutads.info,Male,94.67.195.44',\n",
       " '4,Charlotta,Richten,crichten3@wikia.com,Female,202.51.201.1',\n",
       " '5,Berne,Coyne,bcoyne4@squarespace.com,,150.246.120.53',\n",
       " '6,Kesley,Hakonsen,khakonsen5@cbc.ca,Female,227.61.48.174',\n",
       " \"7,Gray,M'Barron,gmbarron6@altervista.org,Male,190.128.200.183\",\n",
       " '8,Melinde,Scarf,mscarf7@diigo.com,Female,134.41.141.5',\n",
       " '9,Arturo,Warkup,awarkup8@nifty.com,Male,',\n",
       " '10,Annette,Lowthorpe,alowthorpe9@marketwatch.com,Female,63.157.95.191',\n",
       " '11,Melinda,McOwen,mmcowena@unblog.fr,Female,73.95.183.60',\n",
       " '12,Minnie,Andrivel,mandrivelb@storify.com,,131.194.233.209',\n",
       " '13,Taryn,Medhurst,tmedhurstc@ebay.co.uk,Female,65.191.102.59',\n",
       " '14,Fanni,Whitley,fwhitleyd@who.int,Female,184.210.235.118',\n",
       " '15,Jareb,Thunderchief,jthunderchiefe@arizona.edu,Male,150.159.27.112',\n",
       " '16,Sharona,Haffard,shaffardf@kickstarter.com,Female,91.125.183.157',\n",
       " '17,Pattin,Basant,pbasantg@gov.uk,Male,162.227.228.164',\n",
       " '18,Beatrice,Butler,bbutlerh@abc.net.au,Female,139.49.169.236',\n",
       " '19,Linoel,Bucktrout,lbucktrouti@google.ru,Male,18.17.136.105',\n",
       " '20,Katee,Aveyard,kaveyardj@feedburner.com,Female,60.25.33.89']"
      ]
     },
     "execution_count": 11,
     "metadata": {},
     "output_type": "execute_result"
    }
   ],
   "source": [
    "users"
   ]
  },
  {
   "cell_type": "code",
   "execution_count": 14,
   "metadata": {},
   "outputs": [
    {
     "data": {
      "text/plain": [
       "[(1, '236.34.175.186'),\n",
       " (2, ''),\n",
       " (3, '94.67.195.44'),\n",
       " (4, '202.51.201.1'),\n",
       " (5, '150.246.120.53'),\n",
       " (6, '227.61.48.174'),\n",
       " (7, '190.128.200.183'),\n",
       " (8, '134.41.141.5'),\n",
       " (9, ''),\n",
       " (10, '63.157.95.191'),\n",
       " (11, '73.95.183.60'),\n",
       " (12, '131.194.233.209'),\n",
       " (13, '65.191.102.59'),\n",
       " (14, '184.210.235.118'),\n",
       " (15, '150.159.27.112'),\n",
       " (16, '91.125.183.157'),\n",
       " (17, '162.227.228.164'),\n",
       " (18, '139.49.169.236'),\n",
       " (19, '18.17.136.105'),\n",
       " (20, '60.25.33.89')]"
      ]
     },
     "execution_count": 14,
     "metadata": {},
     "output_type": "execute_result"
    }
   ],
   "source": [
    "user_ips = map(\n",
    "    lambda user: (int(user.split(',')[0]), user.split(',')[-1]),\n",
    "    users\n",
    ")\n",
    "list(user_ips)"
   ]
  },
  {
   "cell_type": "code",
   "execution_count": 38,
   "metadata": {},
   "outputs": [
    {
     "data": {
      "text/plain": [
       "[(1, 'Bryn', 'Eaken'),\n",
       " (2, 'Smith', 'Combe'),\n",
       " (3, 'Roland', 'Wallentin'),\n",
       " (4, 'Charlotta', 'Richten'),\n",
       " (5, 'Berne', 'Coyne'),\n",
       " (6, 'Kesley', 'Hakonsen'),\n",
       " (7, 'Gray', \"M'Barron\"),\n",
       " (8, 'Melinde', 'Scarf'),\n",
       " (9, 'Arturo', 'Warkup'),\n",
       " (10, 'Annette', 'Lowthorpe'),\n",
       " (11, 'Melinda', 'McOwen'),\n",
       " (12, 'Minnie', 'Andrivel'),\n",
       " (13, 'Taryn', 'Medhurst'),\n",
       " (14, 'Fanni', 'Whitley'),\n",
       " (15, 'Jareb', 'Thunderchief'),\n",
       " (16, 'Sharona', 'Haffard'),\n",
       " (17, 'Pattin', 'Basant'),\n",
       " (18, 'Beatrice', 'Butler'),\n",
       " (19, 'Linoel', 'Bucktrout'),\n",
       " (20, 'Katee', 'Aveyard')]"
      ]
     },
     "execution_count": 38,
     "metadata": {},
     "output_type": "execute_result"
    }
   ],
   "source": [
    "l3=map(lambda name: (int(name.split(',')[0]),name.split(',')[1],name.split(',')[2]),users)\n",
    "list(l3)"
   ]
  },
  {
   "cell_type": "code",
   "execution_count": null,
   "metadata": {},
   "outputs": [],
   "source": []
  },
  {
   "cell_type": "code",
   "execution_count": 24,
   "metadata": {},
   "outputs": [
    {
     "data": {
      "text/plain": [
       "['5,Berne,Coyne,bcoyne4@squarespace.com,,150.246.120.53',\n",
       " '12,Minnie,Andrivel,mandrivelb@storify.com,,131.194.233.209',\n",
       " '1,Bryn,Eaken,beaken0@cbc.ca,Female,236.34.175.186',\n",
       " '4,Charlotta,Richten,crichten3@wikia.com,Female,202.51.201.1',\n",
       " '6,Kesley,Hakonsen,khakonsen5@cbc.ca,Female,227.61.48.174',\n",
       " '8,Melinde,Scarf,mscarf7@diigo.com,Female,134.41.141.5',\n",
       " '10,Annette,Lowthorpe,alowthorpe9@marketwatch.com,Female,63.157.95.191',\n",
       " '11,Melinda,McOwen,mmcowena@unblog.fr,Female,73.95.183.60',\n",
       " '13,Taryn,Medhurst,tmedhurstc@ebay.co.uk,Female,65.191.102.59',\n",
       " '14,Fanni,Whitley,fwhitleyd@who.int,Female,184.210.235.118',\n",
       " '16,Sharona,Haffard,shaffardf@kickstarter.com,Female,91.125.183.157',\n",
       " '18,Beatrice,Butler,bbutlerh@abc.net.au,Female,139.49.169.236',\n",
       " '20,Katee,Aveyard,kaveyardj@feedburner.com,Female,60.25.33.89',\n",
       " '2,Smith,Combe,scombe1@xing.com,Male,',\n",
       " '3,Roland,Wallentin,rwallentin2@aboutads.info,Male,94.67.195.44',\n",
       " \"7,Gray,M'Barron,gmbarron6@altervista.org,Male,190.128.200.183\",\n",
       " '9,Arturo,Warkup,awarkup8@nifty.com,Male,',\n",
       " '15,Jareb,Thunderchief,jthunderchiefe@arizona.edu,Male,150.159.27.112',\n",
       " '17,Pattin,Basant,pbasantg@gov.uk,Male,162.227.228.164',\n",
       " '19,Linoel,Bucktrout,lbucktrouti@google.ru,Male,18.17.136.105']"
      ]
     },
     "execution_count": 24,
     "metadata": {},
     "output_type": "execute_result"
    }
   ],
   "source": [
    "sort_by_gender_and_id = sorted(\n",
    "    users, \n",
    "    key=lambda user: (user.split(',')[4], int(user.split(',')[0]))\n",
    ")\n",
    "sort_by_gender_and_id"
   ]
  },
  {
   "cell_type": "code",
   "execution_count": 17,
   "metadata": {},
   "outputs": [
    {
     "name": "stdout",
     "output_type": "stream",
     "text": [
      "<class 'dict'>\n"
     ]
    }
   ],
   "source": [
    "print(type({}))"
   ]
  },
  {
   "cell_type": "code",
   "execution_count": 19,
   "metadata": {},
   "outputs": [
    {
     "data": {
      "text/plain": [
       "\u001b[0;31mDocstring:\u001b[0m\n",
       "max(iterable, *[, default=obj, key=func]) -> value\n",
       "max(arg1, arg2, *args, *[, key=func]) -> value\n",
       "\n",
       "With a single iterable argument, return its biggest item. The\n",
       "default keyword-only argument specifies an object to return if\n",
       "the provided iterable is empty.\n",
       "With two or more arguments, return the largest argument.\n",
       "\u001b[0;31mType:\u001b[0m      builtin_function_or_method\n"
      ]
     },
     "metadata": {},
     "output_type": "display_data"
    }
   ],
   "source": [
    "max?"
   ]
  },
  {
   "cell_type": "code",
   "execution_count": 26,
   "metadata": {},
   "outputs": [
    {
     "data": {
      "text/plain": [
       "['5,Berne,Coyne,bcoyne4@squarespace.com,,150.246.120.53',\n",
       " '12,Minnie,Andrivel,mandrivelb@storify.com,,131.194.233.209',\n",
       " '1,Bryn,Eaken,beaken0@cbc.ca,Female,236.34.175.186',\n",
       " '4,Charlotta,Richten,crichten3@wikia.com,Female,202.51.201.1',\n",
       " '6,Kesley,Hakonsen,khakonsen5@cbc.ca,Female,227.61.48.174',\n",
       " '8,Melinde,Scarf,mscarf7@diigo.com,Female,134.41.141.5',\n",
       " '10,Annette,Lowthorpe,alowthorpe9@marketwatch.com,Female,63.157.95.191',\n",
       " '11,Melinda,McOwen,mmcowena@unblog.fr,Female,73.95.183.60',\n",
       " '13,Taryn,Medhurst,tmedhurstc@ebay.co.uk,Female,65.191.102.59',\n",
       " '14,Fanni,Whitley,fwhitleyd@who.int,Female,184.210.235.118',\n",
       " '16,Sharona,Haffard,shaffardf@kickstarter.com,Female,91.125.183.157',\n",
       " '18,Beatrice,Butler,bbutlerh@abc.net.au,Female,139.49.169.236',\n",
       " '20,Katee,Aveyard,kaveyardj@feedburner.com,Female,60.25.33.89',\n",
       " '2,Smith,Combe,scombe1@xing.com,Male,',\n",
       " '3,Roland,Wallentin,rwallentin2@aboutads.info,Male,94.67.195.44',\n",
       " \"7,Gray,M'Barron,gmbarron6@altervista.org,Male,190.128.200.183\",\n",
       " '9,Arturo,Warkup,awarkup8@nifty.com,Male,',\n",
       " '15,Jareb,Thunderchief,jthunderchiefe@arizona.edu,Male,150.159.27.112',\n",
       " '17,Pattin,Basant,pbasantg@gov.uk,Male,162.227.228.164',\n",
       " '19,Linoel,Bucktrout,lbucktrouti@google.ru,Male,18.17.136.105']"
      ]
     },
     "execution_count": 26,
     "metadata": {},
     "output_type": "execute_result"
    }
   ],
   "source": [
    "l1=sorted(users,key=lambda user: (user.split(',')[4],int(user.split(',')[0])))\n",
    "l1"
   ]
  },
  {
   "cell_type": "code",
   "execution_count": 32,
   "metadata": {},
   "outputs": [
    {
     "data": {
      "text/plain": [
       "['2,Smith,Combe,scombe1@xing.com,Male,',\n",
       " '3,Roland,Wallentin,rwallentin2@aboutads.info,Male,94.67.195.44',\n",
       " '5,Berne,Coyne,bcoyne4@squarespace.com,,150.246.120.53',\n",
       " \"7,Gray,M'Barron,gmbarron6@altervista.org,Male,190.128.200.183\",\n",
       " '9,Arturo,Warkup,awarkup8@nifty.com,Male,',\n",
       " '12,Minnie,Andrivel,mandrivelb@storify.com,,131.194.233.209',\n",
       " '15,Jareb,Thunderchief,jthunderchiefe@arizona.edu,Male,150.159.27.112',\n",
       " '17,Pattin,Basant,pbasantg@gov.uk,Male,162.227.228.164',\n",
       " '19,Linoel,Bucktrout,lbucktrouti@google.ru,Male,18.17.136.105']"
      ]
     },
     "execution_count": 32,
     "metadata": {},
     "output_type": "execute_result"
    }
   ],
   "source": [
    "l2=filter(lambda name:name.split(',')[4] in ('Male'),users)\n",
    "list(l2)"
   ]
  },
  {
   "cell_type": "code",
   "execution_count": 35,
   "metadata": {},
   "outputs": [
    {
     "ename": "NameError",
     "evalue": "name 'name' is not defined",
     "output_type": "error",
     "traceback": [
      "\u001b[0;31m---------------------------------------------------------------------------\u001b[0m",
      "\u001b[0;31mNameError\u001b[0m                                 Traceback (most recent call last)",
      "\u001b[0;32m<ipython-input-35-e833120d8139>\u001b[0m in \u001b[0;36m<module>\u001b[0;34m\u001b[0m\n\u001b[0;32m----> 1\u001b[0;31m \u001b[0ml3\u001b[0m\u001b[0;34m=\u001b[0m\u001b[0mmap\u001b[0m\u001b[0;34m(\u001b[0m\u001b[0;32mlambda\u001b[0m \u001b[0mname\u001b[0m\u001b[0;34m:\u001b[0m \u001b[0mint\u001b[0m\u001b[0;34m(\u001b[0m\u001b[0mname\u001b[0m\u001b[0;34m.\u001b[0m\u001b[0msplit\u001b[0m\u001b[0;34m(\u001b[0m\u001b[0;34m','\u001b[0m\u001b[0;34m)\u001b[0m\u001b[0;34m[\u001b[0m\u001b[0;36m0\u001b[0m\u001b[0;34m]\u001b[0m\u001b[0;34m)\u001b[0m\u001b[0;34m,\u001b[0m\u001b[0mname\u001b[0m\u001b[0;34m.\u001b[0m\u001b[0msplit\u001b[0m\u001b[0;34m(\u001b[0m\u001b[0;34m','\u001b[0m\u001b[0;34m)\u001b[0m\u001b[0;34m[\u001b[0m\u001b[0;36m1\u001b[0m\u001b[0;34m]\u001b[0m\u001b[0;34m,\u001b[0m\u001b[0mname\u001b[0m\u001b[0;34m.\u001b[0m\u001b[0msplit\u001b[0m\u001b[0;34m(\u001b[0m\u001b[0;34m','\u001b[0m\u001b[0;34m)\u001b[0m\u001b[0;34m[\u001b[0m\u001b[0;36m2\u001b[0m\u001b[0;34m]\u001b[0m\u001b[0;34m,\u001b[0m\u001b[0musers\u001b[0m\u001b[0;34m)\u001b[0m\u001b[0;34m\u001b[0m\u001b[0;34m\u001b[0m\u001b[0m\n\u001b[0m",
      "\u001b[0;31mNameError\u001b[0m: name 'name' is not defined"
     ]
    }
   ],
   "source": []
  },
  {
   "cell_type": "code",
   "execution_count": null,
   "metadata": {},
   "outputs": [],
   "source": []
  }
 ],
 "metadata": {
  "kernelspec": {
   "display_name": "Python 3",
   "language": "python",
   "name": "python3"
  },
  "language_info": {
   "codemirror_mode": {
    "name": "ipython",
    "version": 3
   },
   "file_extension": ".py",
   "mimetype": "text/x-python",
   "name": "python",
   "nbconvert_exporter": "python",
   "pygments_lexer": "ipython3",
   "version": "3.6.12"
  }
 },
 "nbformat": 4,
 "nbformat_minor": 4
}
