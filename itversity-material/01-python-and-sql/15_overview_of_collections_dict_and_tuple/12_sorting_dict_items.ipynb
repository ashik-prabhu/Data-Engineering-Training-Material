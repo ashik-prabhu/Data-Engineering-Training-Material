{
 "cells": [
  {
   "cell_type": "markdown",
   "id": "fa5f5ae4",
   "metadata": {},
   "source": [
    "## Sorting dict items\n",
    "\n",
    "Let us understand how we can sort the dict items in Python.\n",
    "* `dict` is nothing but group of key value pairs where keys are unique.\n",
    "* `sorted` on `dict` returns only sorted keys."
   ]
  },
  {
   "cell_type": "code",
   "execution_count": 1,
   "id": "58be7e9b",
   "metadata": {},
   "outputs": [],
   "source": [
    "famous_players = {\n",
    "    'Pete Sampras': 'Tennis',\n",
    "    'Sachin Tendulkar': 'Cricket',\n",
    "    'Brian Lara': 'Cricket',\n",
    "    'Diego Maradona': 'Soccer',\n",
    "    'Roger Federer': 'Tennis',\n",
    "    'Ian Thorpe': 'Swimming',\n",
    "    'Ronaldo': 'Soccer',\n",
    "    'Usain Bolt': 'Running',\n",
    "    'P. V. Sindhu': 'Badminton',\n",
    "    'Shane Warne': 'Cricket',\n",
    "    'David Beckham': 'Cricket',\n",
    "    'Michael Phelps': 'Swimming'\n",
    "}"
   ]
  },
  {
   "cell_type": "code",
   "execution_count": 2,
   "id": "d76ef8b5",
   "metadata": {},
   "outputs": [
    {
     "data": {
      "text/plain": [
       "['Brian Lara',\n",
       " 'David Beckham',\n",
       " 'Diego Maradona',\n",
       " 'Ian Thorpe',\n",
       " 'Michael Phelps',\n",
       " 'P. V. Sindhu',\n",
       " 'Pete Sampras',\n",
       " 'Roger Federer',\n",
       " 'Ronaldo',\n",
       " 'Sachin Tendulkar',\n",
       " 'Shane Warne',\n",
       " 'Usain Bolt']"
      ]
     },
     "execution_count": 2,
     "metadata": {},
     "output_type": "execute_result"
    }
   ],
   "source": [
    "sorted(famous_players) # Creates list with only keys from dict"
   ]
  },
  {
   "cell_type": "code",
   "execution_count": 3,
   "id": "d42bed5b",
   "metadata": {},
   "outputs": [
    {
     "data": {
      "text/plain": [
       "list"
      ]
     },
     "execution_count": 3,
     "metadata": {},
     "output_type": "execute_result"
    }
   ],
   "source": [
    "type(sorted(famous_players)) # Creates list with only keys from dict"
   ]
  },
  {
   "cell_type": "markdown",
   "id": "7c35a009",
   "metadata": {},
   "source": [
    "* But at times we might want to sort the items based up on the values in the `dict`.\n",
    "* Here are the steps involved to sort the items in dict by values.\n",
    "  * Create list like object using `items`.\n",
    "  * Sort the list like object using `sorted` with custom comparison or sort logic. We need to use `key` argument for that.\n",
    "* The output of `sorted` will be of type `list`."
   ]
  },
  {
   "cell_type": "code",
   "execution_count": 4,
   "id": "f658f4e1",
   "metadata": {},
   "outputs": [
    {
     "data": {
      "text/plain": [
       "dict_items([('Pete Sampras', 'Tennis'), ('Sachin Tendulkar', 'Cricket'), ('Brian Lara', 'Cricket'), ('Diego Maradona', 'Soccer'), ('Roger Federer', 'Tennis'), ('Ian Thorpe', 'Swimming'), ('Ronaldo', 'Soccer'), ('Usain Bolt', 'Running'), ('P. V. Sindhu', 'Badminton'), ('Shane Warne', 'Cricket'), ('David Beckham', 'Cricket'), ('Michael Phelps', 'Swimming')])"
      ]
     },
     "execution_count": 4,
     "metadata": {},
     "output_type": "execute_result"
    }
   ],
   "source": [
    "famous_players.items()"
   ]
  },
  {
   "cell_type": "code",
   "execution_count": 5,
   "id": "039b3dee",
   "metadata": {},
   "outputs": [
    {
     "data": {
      "text/plain": [
       "[('Brian Lara', 'Cricket'),\n",
       " ('David Beckham', 'Cricket'),\n",
       " ('Diego Maradona', 'Soccer'),\n",
       " ('Ian Thorpe', 'Swimming'),\n",
       " ('Michael Phelps', 'Swimming'),\n",
       " ('P. V. Sindhu', 'Badminton'),\n",
       " ('Pete Sampras', 'Tennis'),\n",
       " ('Roger Federer', 'Tennis'),\n",
       " ('Ronaldo', 'Soccer'),\n",
       " ('Sachin Tendulkar', 'Cricket'),\n",
       " ('Shane Warne', 'Cricket'),\n",
       " ('Usain Bolt', 'Running')]"
      ]
     },
     "execution_count": 5,
     "metadata": {},
     "output_type": "execute_result"
    }
   ],
   "source": [
    "# Sorts based up on natural order of tuples\n",
    "# By default data will be sorted by names of the players.\n",
    "# Player names are first elemen in the tuples\n",
    "sorted(famous_players.items())"
   ]
  },
  {
   "cell_type": "code",
   "execution_count": 6,
   "id": "338bc280",
   "metadata": {},
   "outputs": [
    {
     "data": {
      "text/plain": [
       "[('P. V. Sindhu', 'Badminton'),\n",
       " ('Sachin Tendulkar', 'Cricket'),\n",
       " ('Brian Lara', 'Cricket'),\n",
       " ('Shane Warne', 'Cricket'),\n",
       " ('David Beckham', 'Cricket'),\n",
       " ('Usain Bolt', 'Running'),\n",
       " ('Diego Maradona', 'Soccer'),\n",
       " ('Ronaldo', 'Soccer'),\n",
       " ('Ian Thorpe', 'Swimming'),\n",
       " ('Michael Phelps', 'Swimming'),\n",
       " ('Pete Sampras', 'Tennis'),\n",
       " ('Roger Federer', 'Tennis')]"
      ]
     },
     "execution_count": 6,
     "metadata": {},
     "output_type": "execute_result"
    }
   ],
   "source": [
    "# Use key argument to pass the custom comparison logic\n",
    "# We would like to compare by sport name.\n",
    "# Sport name is second elemet in tuple.\n",
    "sorted(famous_players.items(), key=lambda player: player[1])"
   ]
  },
  {
   "cell_type": "markdown",
   "id": "b4a4f19a",
   "metadata": {},
   "source": [
    "* You can see that data is sorted in ascending order by name of the sport now."
   ]
  }
 ],
 "metadata": {
  "kernelspec": {
   "display_name": "Python 3",
   "language": "python",
   "name": "python3"
  },
  "language_info": {
   "codemirror_mode": {
    "name": "ipython",
    "version": 3
   },
   "file_extension": ".py",
   "mimetype": "text/x-python",
   "name": "python",
   "nbconvert_exporter": "python",
   "pygments_lexer": "ipython3",
   "version": "3.6.12"
  }
 },
 "nbformat": 4,
 "nbformat_minor": 5
}
