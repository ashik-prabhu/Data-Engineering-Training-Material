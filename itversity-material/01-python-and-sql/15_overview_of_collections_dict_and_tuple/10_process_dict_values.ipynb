{
 "cells": [
  {
   "cell_type": "markdown",
   "id": "97c4d169",
   "metadata": {
    "tags": []
   },
   "source": [
    "## Process dict values\n",
    "\n",
    "Let us understand how we can process the values in dicts.\n",
    "* We have already seen a function called as `values` which return all the values as a list like object."
   ]
  },
  {
   "cell_type": "code",
   "execution_count": 1,
   "id": "6e191e23",
   "metadata": {},
   "outputs": [],
   "source": [
    "order_item_subtotals = {\n",
    "    1: 299.98,\n",
    "    2: 199.99,\n",
    "    3: 250.0,\n",
    "    4: 129.99\n",
    "}"
   ]
  },
  {
   "cell_type": "code",
   "execution_count": 2,
   "id": "4e385bce",
   "metadata": {},
   "outputs": [
    {
     "data": {
      "text/plain": [
       "{1: 299.98, 2: 199.99, 3: 250.0, 4: 129.99}"
      ]
     },
     "execution_count": 2,
     "metadata": {},
     "output_type": "execute_result"
    }
   ],
   "source": [
    "order_item_subtotals"
   ]
  },
  {
   "cell_type": "code",
   "execution_count": 3,
   "id": "8065a008",
   "metadata": {},
   "outputs": [
    {
     "data": {
      "text/plain": [
       "dict"
      ]
     },
     "execution_count": 3,
     "metadata": {},
     "output_type": "execute_result"
    }
   ],
   "source": [
    "type(order_item_subtotals)"
   ]
  },
  {
   "cell_type": "code",
   "execution_count": 4,
   "id": "b08fe4ad",
   "metadata": {},
   "outputs": [
    {
     "data": {
      "text/plain": [
       "dict_values([299.98, 199.99, 250.0, 129.99])"
      ]
     },
     "execution_count": 4,
     "metadata": {},
     "output_type": "execute_result"
    }
   ],
   "source": [
    "order_item_subtotals.values()"
   ]
  },
  {
   "cell_type": "code",
   "execution_count": 5,
   "id": "08d9d12e",
   "metadata": {},
   "outputs": [
    {
     "data": {
      "text/plain": [
       "dict_values"
      ]
     },
     "execution_count": 5,
     "metadata": {},
     "output_type": "execute_result"
    }
   ],
   "source": [
    "type(order_item_subtotals.values())"
   ]
  },
  {
   "cell_type": "markdown",
   "id": "83ddee91",
   "metadata": {},
   "source": [
    "* If we would like to get total revenue by adding all the values, we can apply `sum`."
   ]
  },
  {
   "cell_type": "code",
   "execution_count": 6,
   "id": "d26d064a",
   "metadata": {},
   "outputs": [
    {
     "data": {
      "text/plain": [
       "879.96"
      ]
     },
     "execution_count": 6,
     "metadata": {},
     "output_type": "execute_result"
    }
   ],
   "source": [
    "sum(order_item_subtotals.values())"
   ]
  },
  {
   "cell_type": "code",
   "execution_count": 7,
   "id": "b993873d",
   "metadata": {},
   "outputs": [
    {
     "data": {
      "text/plain": [
       "129.99"
      ]
     },
     "execution_count": 7,
     "metadata": {},
     "output_type": "execute_result"
    }
   ],
   "source": [
    "# min\n",
    "min(order_item_subtotals.values())"
   ]
  },
  {
   "cell_type": "code",
   "execution_count": 8,
   "id": "f66217d5",
   "metadata": {},
   "outputs": [
    {
     "data": {
      "text/plain": [
       "299.98"
      ]
     },
     "execution_count": 8,
     "metadata": {},
     "output_type": "execute_result"
    }
   ],
   "source": [
    "# max\n",
    "max(order_item_subtotals.values())"
   ]
  },
  {
   "cell_type": "code",
   "execution_count": 9,
   "id": "ecf8c7bf",
   "metadata": {},
   "outputs": [
    {
     "data": {
      "text/plain": [
       "[129.99, 199.99, 250.0, 299.98]"
      ]
     },
     "execution_count": 9,
     "metadata": {},
     "output_type": "execute_result"
    }
   ],
   "source": [
    "# sort\n",
    "sorted(order_item_subtotals.values())"
   ]
  },
  {
   "cell_type": "markdown",
   "id": "6bcfb996",
   "metadata": {},
   "source": [
    "* We can convert the values to `list` and perform all available list operations."
   ]
  },
  {
   "cell_type": "code",
   "execution_count": 10,
   "id": "579545d7",
   "metadata": {},
   "outputs": [
    {
     "data": {
      "text/plain": [
       "[299.98, 199.99, 250.0, 129.99]"
      ]
     },
     "execution_count": 10,
     "metadata": {},
     "output_type": "execute_result"
    }
   ],
   "source": [
    "list(order_item_subtotals.values())"
   ]
  },
  {
   "cell_type": "markdown",
   "id": "fa37086e",
   "metadata": {},
   "source": [
    "* The values in the `dict` need not be unique. Sometimes, we might want to get all the unique values.\n",
    "* For example, get all the unique sports that is part of this dict. In this `dict`, the key is name of the sports person and the value is the sport the person plays.\n",
    "\n",
    "```{note}\n",
    "You can always use `set` to get unique elements from any list type object.\n",
    "```"
   ]
  },
  {
   "cell_type": "code",
   "execution_count": 11,
   "id": "983f7032",
   "metadata": {},
   "outputs": [],
   "source": [
    "famous_players = {\n",
    "    'Pete Sampras': 'Tennis',\n",
    "    'Sachin Tendulkar': 'Cricket',\n",
    "    'Brian Lara': 'Cricket',\n",
    "    'Diego Maradona': 'Soccer',\n",
    "    'Roger Federer': 'Tennis',\n",
    "    'Ian Thorpe': 'Swimming',\n",
    "    'Ronaldo': 'Soccer',\n",
    "    'Usain Bolt': 'Running',\n",
    "    'P. V. Sindhu': 'Badminton',\n",
    "    'Shane Warne': 'Cricket',\n",
    "    'David Beckham': 'Cricket',\n",
    "    'Michael Phelps': 'Swimming'\n",
    "}"
   ]
  },
  {
   "cell_type": "code",
   "execution_count": 12,
   "id": "450a6554",
   "metadata": {},
   "outputs": [
    {
     "data": {
      "text/plain": [
       "dict_values(['Tennis', 'Cricket', 'Cricket', 'Soccer', 'Tennis', 'Swimming', 'Soccer', 'Running', 'Badminton', 'Cricket', 'Cricket', 'Swimming'])"
      ]
     },
     "execution_count": 12,
     "metadata": {},
     "output_type": "execute_result"
    }
   ],
   "source": [
    "famous_players.values()"
   ]
  },
  {
   "cell_type": "code",
   "execution_count": 13,
   "id": "c6d15917",
   "metadata": {},
   "outputs": [
    {
     "data": {
      "text/plain": [
       "12"
      ]
     },
     "execution_count": 13,
     "metadata": {},
     "output_type": "execute_result"
    }
   ],
   "source": [
    "len(famous_players.values())"
   ]
  },
  {
   "cell_type": "code",
   "execution_count": 14,
   "id": "e6ba5f5b",
   "metadata": {},
   "outputs": [
    {
     "data": {
      "text/plain": [
       "{'Badminton', 'Cricket', 'Running', 'Soccer', 'Swimming', 'Tennis'}"
      ]
     },
     "execution_count": 14,
     "metadata": {},
     "output_type": "execute_result"
    }
   ],
   "source": [
    "set(famous_players.values())"
   ]
  },
  {
   "cell_type": "code",
   "execution_count": 15,
   "id": "f866dfa7",
   "metadata": {},
   "outputs": [
    {
     "data": {
      "text/plain": [
       "6"
      ]
     },
     "execution_count": 15,
     "metadata": {},
     "output_type": "execute_result"
    }
   ],
   "source": [
    "len(set(famous_players.values()))"
   ]
  },
  {
   "cell_type": "code",
   "execution_count": null,
   "id": "ea09b763",
   "metadata": {},
   "outputs": [],
   "source": []
  }
 ],
 "metadata": {
  "kernelspec": {
   "display_name": "Python 3",
   "language": "python",
   "name": "python3"
  },
  "language_info": {
   "codemirror_mode": {
    "name": "ipython",
    "version": 3
   },
   "file_extension": ".py",
   "mimetype": "text/x-python",
   "name": "python",
   "nbconvert_exporter": "python",
   "pygments_lexer": "ipython3",
   "version": "3.6.12"
  }
 },
 "nbformat": 4,
 "nbformat_minor": 5
}
