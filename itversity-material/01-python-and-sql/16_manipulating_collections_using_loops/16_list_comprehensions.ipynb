{
 "cells": [
  {
   "cell_type": "markdown",
   "id": "9bf3f52f",
   "metadata": {},
   "source": [
    "## List Comprehensions\n",
    "\n",
    "Let us see how we can process data in Python collections using list comprehensions.\n",
    "\n",
    "* Let us create list of tuples using id and email from the below employees using list comprehensions.\n",
    "* We will ensure that employee id is of type `int`.\n",
    "* Here is the approach with conventional loops.\n",
    "  * Create a global list.\n",
    "  * Process each string and extract id and email. Type cast id to `int`.\n",
    "  * Append to the list.\n",
    "  * By the time `employees` is processed, we will have a new list which contain tuples with id and email."
   ]
  },
  {
   "cell_type": "code",
   "execution_count": 2,
   "id": "8fcc7c71",
   "metadata": {},
   "outputs": [],
   "source": [
    "employees = [\n",
    "    '1,ktrett0@independent.co.uk,6998.95',\n",
    "    '2,khaddock1@deviantart.com,10572.4',\n",
    "    '3,ecraft2@dell.com,3967.35',\n",
    "    '4,drussam3@t-online.de,17672.44',\n",
    "    '5,graigatt4@github.io,11660.67',\n",
    "    '6,bjaxon5@salon.com,18614.93',\n",
    "    '7,araulston6@list-manage.com,11550.75',\n",
    "    '8,mcobb7@mozilla.com,17016.15',\n",
    "    '9,grobardley8@unesco.org,14141.25',\n",
    "    '10,bbuye9@vkontakte.ru,12193.2'\n",
    "]"
   ]
  },
  {
   "cell_type": "code",
   "execution_count": 3,
   "id": "758a0db4",
   "metadata": {},
   "outputs": [],
   "source": [
    "employees_emails = []\n",
    "for employee in employees:\n",
    "    employees_emails.append((int(employee.split(',')[0]), employee.split(',')[1]))"
   ]
  },
  {
   "cell_type": "code",
   "execution_count": 4,
   "id": "f7c39956",
   "metadata": {},
   "outputs": [
    {
     "data": {
      "text/plain": [
       "[(1, 'ktrett0@independent.co.uk'),\n",
       " (2, 'khaddock1@deviantart.com'),\n",
       " (3, 'ecraft2@dell.com'),\n",
       " (4, 'drussam3@t-online.de'),\n",
       " (5, 'graigatt4@github.io'),\n",
       " (6, 'bjaxon5@salon.com'),\n",
       " (7, 'araulston6@list-manage.com'),\n",
       " (8, 'mcobb7@mozilla.com'),\n",
       " (9, 'grobardley8@unesco.org'),\n",
       " (10, 'bbuye9@vkontakte.ru')]"
      ]
     },
     "execution_count": 4,
     "metadata": {},
     "output_type": "execute_result"
    }
   ],
   "source": [
    "employees_emails"
   ]
  },
  {
   "cell_type": "markdown",
   "id": "57aa921a",
   "metadata": {},
   "source": [
    "* Here is the approach using `list` comprehensions.\n",
    "  * We can directly write the code using `for` loop and assign it to a variable.\n",
    "  * The variable will be of type `list`.\n",
    "  * There is no need to initialize a list and use `append` function."
   ]
  },
  {
   "cell_type": "code",
   "execution_count": 5,
   "id": "21ec8bde",
   "metadata": {},
   "outputs": [],
   "source": [
    "employees_emails = [(int(employee.split(',')[0]), employee.split(',')[1]) for employee in employees]"
   ]
  },
  {
   "cell_type": "code",
   "execution_count": 6,
   "id": "ce1a13cd",
   "metadata": {},
   "outputs": [
    {
     "data": {
      "text/plain": [
       "[(1, 'ktrett0@independent.co.uk'),\n",
       " (2, 'khaddock1@deviantart.com'),\n",
       " (3, 'ecraft2@dell.com'),\n",
       " (4, 'drussam3@t-online.de'),\n",
       " (5, 'graigatt4@github.io'),\n",
       " (6, 'bjaxon5@salon.com'),\n",
       " (7, 'araulston6@list-manage.com'),\n",
       " (8, 'mcobb7@mozilla.com'),\n",
       " (9, 'grobardley8@unesco.org'),\n",
       " (10, 'bbuye9@vkontakte.ru')]"
      ]
     },
     "execution_count": 6,
     "metadata": {},
     "output_type": "execute_result"
    }
   ],
   "source": [
    "employees_emails"
   ]
  },
  {
   "cell_type": "markdown",
   "id": "e7c6f5d3",
   "metadata": {},
   "source": [
    "* We can also apply conditions as part of list comprehensions. The below logic will create list of employees whose salary is greater than $1000."
   ]
  },
  {
   "cell_type": "code",
   "execution_count": 7,
   "id": "1f0650ff",
   "metadata": {},
   "outputs": [],
   "source": [
    "highest_salaried_employees = [employee for employee in employees if float(employee.split(',')[2]) > 10000]"
   ]
  },
  {
   "cell_type": "code",
   "execution_count": 8,
   "id": "d4ec6b5d",
   "metadata": {},
   "outputs": [
    {
     "data": {
      "text/plain": [
       "['2,khaddock1@deviantart.com,10572.4',\n",
       " '4,drussam3@t-online.de,17672.44',\n",
       " '5,graigatt4@github.io,11660.67',\n",
       " '6,bjaxon5@salon.com,18614.93',\n",
       " '7,araulston6@list-manage.com,11550.75',\n",
       " '8,mcobb7@mozilla.com,17016.15',\n",
       " '9,grobardley8@unesco.org,14141.25',\n",
       " '10,bbuye9@vkontakte.ru,12193.2']"
      ]
     },
     "execution_count": 8,
     "metadata": {},
     "output_type": "execute_result"
    }
   ],
   "source": [
    "highest_salaried_employees"
   ]
  },
  {
   "cell_type": "code",
   "execution_count": 10,
   "id": "91e01ff2",
   "metadata": {},
   "outputs": [],
   "source": [
    "highest_salaried_employees = [\n",
    "    (int(employee.split(',')[0]), employee.split(',')[1]) \n",
    "    for employee in employees if float(employee.split(',')[2]) > 10000\n",
    "]"
   ]
  },
  {
   "cell_type": "code",
   "execution_count": 11,
   "id": "2dec5db5",
   "metadata": {},
   "outputs": [
    {
     "data": {
      "text/plain": [
       "[(2, 'khaddock1@deviantart.com'),\n",
       " (4, 'drussam3@t-online.de'),\n",
       " (5, 'graigatt4@github.io'),\n",
       " (6, 'bjaxon5@salon.com'),\n",
       " (7, 'araulston6@list-manage.com'),\n",
       " (8, 'mcobb7@mozilla.com'),\n",
       " (9, 'grobardley8@unesco.org'),\n",
       " (10, 'bbuye9@vkontakte.ru')]"
      ]
     },
     "execution_count": 11,
     "metadata": {},
     "output_type": "execute_result"
    }
   ],
   "source": [
    "highest_salaried_employees"
   ]
  },
  {
   "cell_type": "markdown",
   "id": "c973bf14",
   "metadata": {},
   "source": [
    "* We can also perform aggregations using comprehensions."
   ]
  },
  {
   "cell_type": "code",
   "execution_count": 12,
   "id": "3cd0d508",
   "metadata": {},
   "outputs": [],
   "source": [
    "total_salary = round(sum(float(employee.split(',')[2]) for employee in employees), 2)"
   ]
  },
  {
   "cell_type": "code",
   "execution_count": 13,
   "id": "56ed403d",
   "metadata": {},
   "outputs": [
    {
     "data": {
      "text/plain": [
       "124388.09"
      ]
     },
     "execution_count": 13,
     "metadata": {},
     "output_type": "execute_result"
    }
   ],
   "source": [
    "total_salary"
   ]
  },
  {
   "cell_type": "code",
   "execution_count": 14,
   "id": "3a0334c7",
   "metadata": {},
   "outputs": [
    {
     "data": {
      "text/plain": [
       "3967.35"
      ]
     },
     "execution_count": 14,
     "metadata": {},
     "output_type": "execute_result"
    }
   ],
   "source": [
    "min(float(employee.split(',')[2]) for employee in employees)"
   ]
  },
  {
   "cell_type": "code",
   "execution_count": null,
   "id": "39df523e",
   "metadata": {},
   "outputs": [],
   "source": []
  }
 ],
 "metadata": {
  "kernelspec": {
   "display_name": "Python 3",
   "language": "python",
   "name": "python3"
  },
  "language_info": {
   "codemirror_mode": {
    "name": "ipython",
    "version": 3
   },
   "file_extension": ".py",
   "mimetype": "text/x-python",
   "name": "python",
   "nbconvert_exporter": "python",
   "pygments_lexer": "ipython3",
   "version": "3.6.12"
  }
 },
 "nbformat": 4,
 "nbformat_minor": 5
}
