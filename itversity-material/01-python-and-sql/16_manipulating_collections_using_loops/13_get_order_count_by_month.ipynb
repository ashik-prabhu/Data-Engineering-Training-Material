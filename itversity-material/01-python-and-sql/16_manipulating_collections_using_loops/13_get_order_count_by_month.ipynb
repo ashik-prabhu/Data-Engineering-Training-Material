{
 "cells": [
  {
   "cell_type": "markdown",
   "metadata": {},
   "source": [
    "## Get order count by month\n",
    "\n",
    "Create a function get_order_count_by_month which takes orders list and order_status as arguments and returns a dict which contain order_month and count. \n",
    "* We only have to get count those orders which belong to the passed order_status.\n",
    "* If order_status is not passed then we need to count all records."
   ]
  },
  {
   "cell_type": "code",
   "execution_count": 1,
   "metadata": {},
   "outputs": [],
   "source": [
    "%run 07_preparing_data_sets.ipynb"
   ]
  },
  {
   "cell_type": "code",
   "execution_count": 2,
   "metadata": {},
   "outputs": [
    {
     "data": {
      "text/plain": [
       "['1,2013-07-25 00:00:00.0,11599,CLOSED',\n",
       " '2,2013-07-25 00:00:00.0,256,PENDING_PAYMENT',\n",
       " '3,2013-07-25 00:00:00.0,12111,COMPLETE',\n",
       " '4,2013-07-25 00:00:00.0,8827,CLOSED',\n",
       " '5,2013-07-25 00:00:00.0,11318,COMPLETE',\n",
       " '6,2013-07-25 00:00:00.0,7130,COMPLETE',\n",
       " '7,2013-07-25 00:00:00.0,4530,COMPLETE',\n",
       " '8,2013-07-25 00:00:00.0,2911,PROCESSING',\n",
       " '9,2013-07-25 00:00:00.0,5657,PENDING_PAYMENT',\n",
       " '10,2013-07-25 00:00:00.0,5648,PENDING_PAYMENT']"
      ]
     },
     "execution_count": 2,
     "metadata": {},
     "output_type": "execute_result"
    }
   ],
   "source": [
    "orders[:10]"
   ]
  },
  {
   "cell_type": "code",
   "execution_count": 3,
   "metadata": {},
   "outputs": [],
   "source": [
    "order = orders[0]"
   ]
  },
  {
   "cell_type": "code",
   "execution_count": 5,
   "metadata": {},
   "outputs": [
    {
     "data": {
      "text/plain": [
       "'1,2013-07-25 00:00:00.0,11599,CLOSED'"
      ]
     },
     "execution_count": 5,
     "metadata": {},
     "output_type": "execute_result"
    }
   ],
   "source": [
    "order"
   ]
  },
  {
   "cell_type": "code",
   "execution_count": 6,
   "metadata": {},
   "outputs": [
    {
     "data": {
      "text/plain": [
       "'2013-07'"
      ]
     },
     "execution_count": 6,
     "metadata": {},
     "output_type": "execute_result"
    }
   ],
   "source": [
    "order.split(',')[1][:7]"
   ]
  },
  {
   "cell_type": "code",
   "execution_count": 8,
   "metadata": {},
   "outputs": [],
   "source": [
    "def get_order_count_by_month(orders, order_status='ALL'):\n",
    "    order_count = {}\n",
    "    for order in orders:\n",
    "        order_month = order.split(',')[1][:7]\n",
    "        l_order_status = order.split(',')[3]\n",
    "        if order_status == 'ALL' or l_order_status == order_status:\n",
    "            if order_month in order_count: \n",
    "                order_count[order_month] += 1\n",
    "            else: \n",
    "                order_count[order_month] = 1\n",
    "    return order_count"
   ]
  },
  {
   "cell_type": "code",
   "execution_count": 9,
   "metadata": {},
   "outputs": [
    {
     "data": {
      "text/plain": [
       "{'2013-07': 1533,\n",
       " '2013-08': 5680,\n",
       " '2013-09': 5841,\n",
       " '2013-10': 5335,\n",
       " '2013-11': 6381,\n",
       " '2013-12': 5892,\n",
       " '2014-01': 5908,\n",
       " '2014-02': 5635,\n",
       " '2014-03': 5778,\n",
       " '2014-04': 5657,\n",
       " '2014-05': 5467,\n",
       " '2014-06': 5308,\n",
       " '2014-07': 4468}"
      ]
     },
     "execution_count": 9,
     "metadata": {},
     "output_type": "execute_result"
    }
   ],
   "source": [
    "get_order_count_by_month(orders)"
   ]
  },
  {
   "cell_type": "code",
   "execution_count": 10,
   "metadata": {},
   "outputs": [
    {
     "data": {
      "text/plain": [
       "{'2013-07': 515,\n",
       " '2013-08': 1880,\n",
       " '2013-09': 1933,\n",
       " '2013-10': 1783,\n",
       " '2013-11': 2141,\n",
       " '2013-12': 1898,\n",
       " '2014-01': 1911,\n",
       " '2014-02': 1869,\n",
       " '2014-03': 1967,\n",
       " '2014-04': 1932,\n",
       " '2014-05': 1854,\n",
       " '2014-06': 1797,\n",
       " '2014-07': 1419}"
      ]
     },
     "execution_count": 10,
     "metadata": {},
     "output_type": "execute_result"
    }
   ],
   "source": [
    "get_order_count_by_month(orders, 'COMPLETE')"
   ]
  },
  {
   "cell_type": "code",
   "execution_count": 11,
   "metadata": {},
   "outputs": [
    {
     "data": {
      "text/plain": [
       "{'2013-07': 161,\n",
       " '2013-08': 637,\n",
       " '2013-09': 676,\n",
       " '2013-10': 609,\n",
       " '2013-11': 686,\n",
       " '2013-12': 705,\n",
       " '2014-01': 633,\n",
       " '2014-02': 602,\n",
       " '2014-03': 612,\n",
       " '2014-04': 583,\n",
       " '2014-05': 585,\n",
       " '2014-06': 563,\n",
       " '2014-07': 504}"
      ]
     },
     "execution_count": 11,
     "metadata": {},
     "output_type": "execute_result"
    }
   ],
   "source": [
    "get_order_count_by_month(orders, 'CLOSED')"
   ]
  },
  {
   "cell_type": "code",
   "execution_count": null,
   "metadata": {},
   "outputs": [],
   "source": []
  }
 ],
 "metadata": {
  "kernelspec": {
   "display_name": "Python 3",
   "language": "python",
   "name": "python3"
  },
  "language_info": {
   "codemirror_mode": {
    "name": "ipython",
    "version": 3
   },
   "file_extension": ".py",
   "mimetype": "text/x-python",
   "name": "python",
   "nbconvert_exporter": "python",
   "pygments_lexer": "ipython3",
   "version": "3.6.12"
  }
 },
 "nbformat": 4,
 "nbformat_minor": 4
}
