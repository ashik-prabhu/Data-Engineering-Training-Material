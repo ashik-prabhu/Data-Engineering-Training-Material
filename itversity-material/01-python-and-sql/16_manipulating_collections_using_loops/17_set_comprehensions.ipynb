{
 "cells": [
  {
   "cell_type": "markdown",
   "id": "24ad1f00",
   "metadata": {
    "tags": []
   },
   "source": [
    "## Set Comprehensions\n",
    "\n",
    "Let us see how we can process Python collections using set comprehensions.\n",
    "* Set comprehensions can be applied on top of any iterable.\n",
    "* We will be using orders data set which will be available by running notebook related to preparing data sets.\n",
    "* We will see how to get all unique months from orders data set using set comprehensions.\n",
    "* Also we will see how to apply filtering to get months related to year 2014 using the same orders data set."
   ]
  },
  {
   "cell_type": "code",
   "execution_count": 1,
   "id": "ecd568d2",
   "metadata": {},
   "outputs": [],
   "source": [
    "%run 07_preparing_data_sets.ipynb"
   ]
  },
  {
   "cell_type": "code",
   "execution_count": 2,
   "id": "becb21ec",
   "metadata": {},
   "outputs": [
    {
     "data": {
      "text/plain": [
       "['1,2013-07-25 00:00:00.0,11599,CLOSED',\n",
       " '2,2013-07-25 00:00:00.0,256,PENDING_PAYMENT',\n",
       " '3,2013-07-25 00:00:00.0,12111,COMPLETE',\n",
       " '4,2013-07-25 00:00:00.0,8827,CLOSED',\n",
       " '5,2013-07-25 00:00:00.0,11318,COMPLETE',\n",
       " '6,2013-07-25 00:00:00.0,7130,COMPLETE',\n",
       " '7,2013-07-25 00:00:00.0,4530,COMPLETE',\n",
       " '8,2013-07-25 00:00:00.0,2911,PROCESSING',\n",
       " '9,2013-07-25 00:00:00.0,5657,PENDING_PAYMENT',\n",
       " '10,2013-07-25 00:00:00.0,5648,PENDING_PAYMENT']"
      ]
     },
     "execution_count": 2,
     "metadata": {},
     "output_type": "execute_result"
    }
   ],
   "source": [
    "orders[:10]"
   ]
  },
  {
   "cell_type": "code",
   "execution_count": 3,
   "id": "ed9330a1",
   "metadata": {},
   "outputs": [
    {
     "data": {
      "text/plain": [
       "68883"
      ]
     },
     "execution_count": 3,
     "metadata": {},
     "output_type": "execute_result"
    }
   ],
   "source": [
    "len(orders)"
   ]
  },
  {
   "cell_type": "code",
   "execution_count": 4,
   "id": "ed53d729",
   "metadata": {},
   "outputs": [],
   "source": [
    "order = orders[0]"
   ]
  },
  {
   "cell_type": "code",
   "execution_count": 5,
   "id": "4fea8a4d",
   "metadata": {},
   "outputs": [
    {
     "data": {
      "text/plain": [
       "'1,2013-07-25 00:00:00.0,11599,CLOSED'"
      ]
     },
     "execution_count": 5,
     "metadata": {},
     "output_type": "execute_result"
    }
   ],
   "source": [
    "order"
   ]
  },
  {
   "cell_type": "code",
   "execution_count": 6,
   "id": "bbc3a641",
   "metadata": {},
   "outputs": [
    {
     "data": {
      "text/plain": [
       "'2013-07'"
      ]
     },
     "execution_count": 6,
     "metadata": {},
     "output_type": "execute_result"
    }
   ],
   "source": [
    "order.split(',')[1][:7]"
   ]
  },
  {
   "cell_type": "code",
   "execution_count": 7,
   "id": "aaa1bde4",
   "metadata": {},
   "outputs": [],
   "source": [
    "order_months = {order.split(',')[1][:7] for order in orders}"
   ]
  },
  {
   "cell_type": "code",
   "execution_count": 8,
   "id": "807cc1f9",
   "metadata": {},
   "outputs": [
    {
     "data": {
      "text/plain": [
       "{'2013-07',\n",
       " '2013-08',\n",
       " '2013-09',\n",
       " '2013-10',\n",
       " '2013-11',\n",
       " '2013-12',\n",
       " '2014-01',\n",
       " '2014-02',\n",
       " '2014-03',\n",
       " '2014-04',\n",
       " '2014-05',\n",
       " '2014-06',\n",
       " '2014-07'}"
      ]
     },
     "execution_count": 8,
     "metadata": {},
     "output_type": "execute_result"
    }
   ],
   "source": [
    "order_months"
   ]
  },
  {
   "cell_type": "code",
   "execution_count": 9,
   "id": "bbed2ea9",
   "metadata": {},
   "outputs": [
    {
     "data": {
      "text/plain": [
       "set"
      ]
     },
     "execution_count": 9,
     "metadata": {},
     "output_type": "execute_result"
    }
   ],
   "source": [
    "type(order_months)"
   ]
  },
  {
   "cell_type": "code",
   "execution_count": 10,
   "id": "e7e3a665",
   "metadata": {},
   "outputs": [],
   "source": [
    "order_months = {order.split(',')[1][:7] for order in orders if order.split(',')[1].startswith('2014')}"
   ]
  },
  {
   "cell_type": "code",
   "execution_count": 11,
   "id": "1a27588f",
   "metadata": {},
   "outputs": [
    {
     "data": {
      "text/plain": [
       "{'2014-01', '2014-02', '2014-03', '2014-04', '2014-05', '2014-06', '2014-07'}"
      ]
     },
     "execution_count": 11,
     "metadata": {},
     "output_type": "execute_result"
    }
   ],
   "source": [
    "order_months"
   ]
  },
  {
   "cell_type": "code",
   "execution_count": null,
   "id": "d86c402e",
   "metadata": {},
   "outputs": [],
   "source": []
  }
 ],
 "metadata": {
  "kernelspec": {
   "display_name": "Python 3",
   "language": "python",
   "name": "python3"
  },
  "language_info": {
   "codemirror_mode": {
    "name": "ipython",
    "version": 3
   },
   "file_extension": ".py",
   "mimetype": "text/x-python",
   "name": "python",
   "nbconvert_exporter": "python",
   "pygments_lexer": "ipython3",
   "version": "3.6.12"
  }
 },
 "nbformat": 4,
 "nbformat_minor": 5
}
