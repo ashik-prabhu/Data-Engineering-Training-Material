{
 "cells": [
  {
   "cell_type": "markdown",
   "metadata": {
    "pycharm": {
     "name": "#%% md"
    }
   },
   "source": [
    "# Manipulating Collections using Loops\n",
    "\n",
    "Let us understand how to manipulate collections using loops. We will be performing quite a lot of tasks to get enough programming practice.\n",
    "* Reading files into collections\n",
    "* Overview of Standard Transformations\n",
    "* Row level transformations\n",
    "* Getting unique elements\n",
    "* Filtering Data\n",
    "* Preparing Data Sets\n",
    "* Quick Recap of Dict Operations\n",
    "* Performing Total Aggregations\n",
    "* Performing Grouped Aggregations\n",
    "* Joining Data Sets\n",
    "* Manipulating collections using Comprehensions\n",
    "* Limitations of using Loops\n",
    "* Exercises - Manipulating Collections"
   ]
  },
  {
   "cell_type": "code",
   "execution_count": null,
   "metadata": {},
   "outputs": [],
   "source": []
  }
 ],
 "metadata": {
  "kernelspec": {
   "display_name": "Python 3",
   "language": "python",
   "name": "python3"
  },
  "language_info": {
   "codemirror_mode": {
    "name": "ipython",
    "version": 3
   },
   "file_extension": ".py",
   "mimetype": "text/x-python",
   "name": "python",
   "nbconvert_exporter": "python",
   "pygments_lexer": "ipython3",
   "version": "3.6.12"
  }
 },
 "nbformat": 4,
 "nbformat_minor": 4
}
