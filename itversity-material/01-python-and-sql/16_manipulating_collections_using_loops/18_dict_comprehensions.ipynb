{
 "cells": [
  {
   "cell_type": "markdown",
   "id": "a9fba130",
   "metadata": {
    "tags": []
   },
   "source": [
    "## Dict Comprehensions\n",
    "\n",
    "Let us see how we can process Python collections using dict comprehensions.\n",
    "* We will be using orders data set which will be available by running notebook related to preparing data sets.\n",
    "* We will see how to get a dict using dict comprehensions. The output should contain key value pairs for each order where order_id is key and order_customer_id is the value."
   ]
  },
  {
   "cell_type": "code",
   "execution_count": 1,
   "id": "9115172e",
   "metadata": {},
   "outputs": [],
   "source": [
    "%run 07_preparing_data_sets.ipynb"
   ]
  },
  {
   "cell_type": "code",
   "execution_count": 2,
   "id": "b8bcdf51",
   "metadata": {},
   "outputs": [
    {
     "data": {
      "text/plain": [
       "['1,2013-07-25 00:00:00.0,11599,CLOSED',\n",
       " '2,2013-07-25 00:00:00.0,256,PENDING_PAYMENT',\n",
       " '3,2013-07-25 00:00:00.0,12111,COMPLETE',\n",
       " '4,2013-07-25 00:00:00.0,8827,CLOSED',\n",
       " '5,2013-07-25 00:00:00.0,11318,COMPLETE',\n",
       " '6,2013-07-25 00:00:00.0,7130,COMPLETE',\n",
       " '7,2013-07-25 00:00:00.0,4530,COMPLETE',\n",
       " '8,2013-07-25 00:00:00.0,2911,PROCESSING',\n",
       " '9,2013-07-25 00:00:00.0,5657,PENDING_PAYMENT',\n",
       " '10,2013-07-25 00:00:00.0,5648,PENDING_PAYMENT']"
      ]
     },
     "execution_count": 2,
     "metadata": {},
     "output_type": "execute_result"
    }
   ],
   "source": [
    "orders[:10]"
   ]
  },
  {
   "cell_type": "code",
   "execution_count": 3,
   "id": "6c2c600f",
   "metadata": {},
   "outputs": [
    {
     "data": {
      "text/plain": [
       "68883"
      ]
     },
     "execution_count": 3,
     "metadata": {},
     "output_type": "execute_result"
    }
   ],
   "source": [
    "len(orders)"
   ]
  },
  {
   "cell_type": "code",
   "execution_count": 4,
   "id": "89241e79",
   "metadata": {},
   "outputs": [],
   "source": [
    "order_customers = {int(order.split(',')[0]): int(order.split(',')[2]) for order in orders}"
   ]
  },
  {
   "cell_type": "code",
   "execution_count": 5,
   "id": "759a7421",
   "metadata": {},
   "outputs": [
    {
     "data": {
      "text/plain": [
       "dict"
      ]
     },
     "execution_count": 5,
     "metadata": {},
     "output_type": "execute_result"
    }
   ],
   "source": [
    "type(order_customers)"
   ]
  },
  {
   "cell_type": "code",
   "execution_count": 10,
   "id": "7c4c8a52",
   "metadata": {},
   "outputs": [
    {
     "data": {
      "text/plain": [
       "[11599, 256, 12111, 8827, 11318, 7130, 4530, 2911, 5657, 5648]"
      ]
     },
     "execution_count": 10,
     "metadata": {},
     "output_type": "execute_result"
    }
   ],
   "source": [
    "list(order_customers.values())[:10]"
   ]
  },
  {
   "cell_type": "code",
   "execution_count": 11,
   "id": "04c93b16",
   "metadata": {},
   "outputs": [
    {
     "data": {
      "text/plain": [
       "11599"
      ]
     },
     "execution_count": 11,
     "metadata": {},
     "output_type": "execute_result"
    }
   ],
   "source": [
    "order_customers[1]"
   ]
  },
  {
   "cell_type": "code",
   "execution_count": 12,
   "id": "1ca8cc7f",
   "metadata": {},
   "outputs": [],
   "source": [
    "employees = [\n",
    "    '1,ktrett0@independent.co.uk,6998.95',\n",
    "    '2,khaddock1@deviantart.com,10572.4',\n",
    "    '3,ecraft2@dell.com,3967.35',\n",
    "    '4,drussam3@t-online.de,17672.44',\n",
    "    '5,graigatt4@github.io,11660.67',\n",
    "    '6,bjaxon5@salon.com,18614.93',\n",
    "    '7,araulston6@list-manage.com,11550.75',\n",
    "    '8,mcobb7@mozilla.com,17016.15',\n",
    "    '9,grobardley8@unesco.org,14141.25',\n",
    "    '10,bbuye9@vkontakte.ru,12193.2'\n",
    "]"
   ]
  },
  {
   "cell_type": "code",
   "execution_count": 13,
   "id": "2d39fc1f",
   "metadata": {},
   "outputs": [],
   "source": [
    "highest_salaried_employees = {\n",
    "    int(employee.split(',')[0]): float(employee.split(',')[2]) \n",
    "    for employee in employees\n",
    "    if float(employee.split(',')[2]) > 10000\n",
    "}"
   ]
  },
  {
   "cell_type": "code",
   "execution_count": 14,
   "id": "a332f165",
   "metadata": {},
   "outputs": [
    {
     "data": {
      "text/plain": [
       "{2: 10572.4,\n",
       " 4: 17672.44,\n",
       " 5: 11660.67,\n",
       " 6: 18614.93,\n",
       " 7: 11550.75,\n",
       " 8: 17016.15,\n",
       " 9: 14141.25,\n",
       " 10: 12193.2}"
      ]
     },
     "execution_count": 14,
     "metadata": {},
     "output_type": "execute_result"
    }
   ],
   "source": [
    "highest_salaried_employees"
   ]
  },
  {
   "cell_type": "code",
   "execution_count": null,
   "id": "4ac6fd37",
   "metadata": {},
   "outputs": [],
   "source": []
  }
 ],
 "metadata": {
  "kernelspec": {
   "display_name": "Python 3",
   "language": "python",
   "name": "python3"
  },
  "language_info": {
   "codemirror_mode": {
    "name": "ipython",
    "version": 3
   },
   "file_extension": ".py",
   "mimetype": "text/x-python",
   "name": "python",
   "nbconvert_exporter": "python",
   "pygments_lexer": "ipython3",
   "version": "3.6.12"
  }
 },
 "nbformat": 4,
 "nbformat_minor": 5
}
