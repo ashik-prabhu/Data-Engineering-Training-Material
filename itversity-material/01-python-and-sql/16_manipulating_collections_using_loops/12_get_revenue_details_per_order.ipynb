{
 "cells": [
  {
   "cell_type": "markdown",
   "metadata": {
    "tags": []
   },
   "source": [
    "## Get revenue details per order\n",
    "\n",
    "Create a function get_revenue_per_order which takes order_items list as argument and returns a dict which contain order_item_order_id and corresponding quantity as well as order_revenue."
   ]
  },
  {
   "cell_type": "markdown",
   "metadata": {},
   "source": [
    "```{note}\n",
    "This is an example to get order_id and corresponding quantity as well as revenue. For each order_id, quantity and revenue are treated as list.\n",
    "```"
   ]
  },
  {
   "cell_type": "code",
   "execution_count": 1,
   "metadata": {},
   "outputs": [],
   "source": [
    "%run 07_preparing_data_sets.ipynb"
   ]
  },
  {
   "cell_type": "code",
   "execution_count": 2,
   "metadata": {},
   "outputs": [
    {
     "data": {
      "text/plain": [
       "['1,1,957,1,299.98,299.98',\n",
       " '2,2,1073,1,199.99,199.99',\n",
       " '3,2,502,5,250.0,50.0',\n",
       " '4,2,403,1,129.99,129.99',\n",
       " '5,4,897,2,49.98,24.99',\n",
       " '6,4,365,5,299.95,59.99',\n",
       " '7,4,502,3,150.0,50.0',\n",
       " '8,4,1014,4,199.92,49.98',\n",
       " '9,5,957,1,299.98,299.98',\n",
       " '10,5,365,5,299.95,59.99']"
      ]
     },
     "execution_count": 2,
     "metadata": {},
     "output_type": "execute_result"
    }
   ],
   "source": [
    "order_items[:10]"
   ]
  },
  {
   "cell_type": "code",
   "execution_count": 3,
   "metadata": {},
   "outputs": [],
   "source": [
    "revenue_per_order = {}"
   ]
  },
  {
   "cell_type": "code",
   "execution_count": 4,
   "metadata": {},
   "outputs": [],
   "source": [
    "order_item = order_items[0]"
   ]
  },
  {
   "cell_type": "code",
   "execution_count": 5,
   "metadata": {},
   "outputs": [
    {
     "data": {
      "text/plain": [
       "'1,1,957,1,299.98,299.98'"
      ]
     },
     "execution_count": 5,
     "metadata": {},
     "output_type": "execute_result"
    }
   ],
   "source": [
    "order_item"
   ]
  },
  {
   "cell_type": "code",
   "execution_count": 6,
   "metadata": {},
   "outputs": [],
   "source": [
    "order_item_order_id = int(order_item.split(',')[1])\n",
    "order_item_quantity = int(order_item.split(',')[3])\n",
    "order_item_subtotal = float(order_item.split(',')[4])"
   ]
  },
  {
   "cell_type": "code",
   "execution_count": 7,
   "metadata": {},
   "outputs": [],
   "source": [
    "order_metrics = [order_item_quantity, order_item_subtotal]"
   ]
  },
  {
   "cell_type": "code",
   "execution_count": 8,
   "metadata": {},
   "outputs": [
    {
     "data": {
      "text/plain": [
       "[1, 299.98]"
      ]
     },
     "execution_count": 8,
     "metadata": {},
     "output_type": "execute_result"
    }
   ],
   "source": [
    "order_metrics"
   ]
  },
  {
   "cell_type": "code",
   "execution_count": 9,
   "metadata": {},
   "outputs": [
    {
     "data": {
      "text/plain": [
       "False"
      ]
     },
     "execution_count": 9,
     "metadata": {},
     "output_type": "execute_result"
    }
   ],
   "source": [
    "order_item_order_id in revenue_per_order"
   ]
  },
  {
   "cell_type": "code",
   "execution_count": 10,
   "metadata": {},
   "outputs": [],
   "source": [
    "revenue_per_order.get(order_item_order_id)"
   ]
  },
  {
   "cell_type": "code",
   "execution_count": 11,
   "metadata": {},
   "outputs": [],
   "source": [
    "if revenue_per_order.get(order_item_order_id):\n",
    "    revenue_per_order[order_item_order_id][0] += order_metrics[0]\n",
    "    revenue_per_order[order_item_order_id][1] += order_metrics[1]"
   ]
  },
  {
   "cell_type": "code",
   "execution_count": 12,
   "metadata": {},
   "outputs": [
    {
     "data": {
      "text/plain": [
       "{}"
      ]
     },
     "execution_count": 12,
     "metadata": {},
     "output_type": "execute_result"
    }
   ],
   "source": [
    "revenue_per_order"
   ]
  },
  {
   "cell_type": "code",
   "execution_count": 13,
   "metadata": {},
   "outputs": [],
   "source": [
    "if not revenue_per_order.get(order_item_order_id):\n",
    "    revenue_per_order[order_item_order_id] = order_metrics"
   ]
  },
  {
   "cell_type": "code",
   "execution_count": 14,
   "metadata": {},
   "outputs": [
    {
     "data": {
      "text/plain": [
       "{1: [1, 299.98]}"
      ]
     },
     "execution_count": 14,
     "metadata": {},
     "output_type": "execute_result"
    }
   ],
   "source": [
    "revenue_per_order"
   ]
  },
  {
   "cell_type": "code",
   "execution_count": 16,
   "metadata": {},
   "outputs": [],
   "source": [
    "order_item = order_items[1]"
   ]
  },
  {
   "cell_type": "code",
   "execution_count": 17,
   "metadata": {},
   "outputs": [
    {
     "data": {
      "text/plain": [
       "'2,2,1073,1,199.99,199.99'"
      ]
     },
     "execution_count": 17,
     "metadata": {},
     "output_type": "execute_result"
    }
   ],
   "source": [
    "order_item"
   ]
  },
  {
   "cell_type": "code",
   "execution_count": 18,
   "metadata": {},
   "outputs": [],
   "source": [
    "order_item_order_id = int(order_item.split(',')[1])\n",
    "order_item_quantity = int(order_item.split(',')[3])\n",
    "order_item_subtotal = float(order_item.split(',')[4])\n",
    "\n",
    "order_metrics = [order_item_quantity, order_item_subtotal]"
   ]
  },
  {
   "cell_type": "code",
   "execution_count": 19,
   "metadata": {},
   "outputs": [
    {
     "data": {
      "text/plain": [
       "2"
      ]
     },
     "execution_count": 19,
     "metadata": {},
     "output_type": "execute_result"
    }
   ],
   "source": [
    "order_item_order_id"
   ]
  },
  {
   "cell_type": "code",
   "execution_count": 21,
   "metadata": {},
   "outputs": [
    {
     "data": {
      "text/plain": [
       "[1, 199.99]"
      ]
     },
     "execution_count": 21,
     "metadata": {},
     "output_type": "execute_result"
    }
   ],
   "source": [
    "order_metrics"
   ]
  },
  {
   "cell_type": "code",
   "execution_count": 22,
   "metadata": {},
   "outputs": [
    {
     "data": {
      "text/plain": [
       "{1: [1, 299.98]}"
      ]
     },
     "execution_count": 22,
     "metadata": {},
     "output_type": "execute_result"
    }
   ],
   "source": [
    "revenue_per_order"
   ]
  },
  {
   "cell_type": "code",
   "execution_count": 23,
   "metadata": {},
   "outputs": [
    {
     "data": {
      "text/plain": [
       "{1: [1, 299.98], 2: [1, 199.99]}"
      ]
     },
     "execution_count": 23,
     "metadata": {},
     "output_type": "execute_result"
    }
   ],
   "source": [
    "if revenue_per_order.get(order_item_order_id):\n",
    "    revenue_per_order[order_item_order_id][0] += order_metrics[0]\n",
    "    revenue_per_order[order_item_order_id][1] += order_metrics[1]\n",
    "else:\n",
    "    revenue_per_order[order_item_order_id] = order_metrics\n",
    "\n",
    "revenue_per_order"
   ]
  },
  {
   "cell_type": "code",
   "execution_count": 24,
   "metadata": {},
   "outputs": [],
   "source": [
    "order_item = order_items[2]"
   ]
  },
  {
   "cell_type": "code",
   "execution_count": 25,
   "metadata": {},
   "outputs": [
    {
     "data": {
      "text/plain": [
       "'3,2,502,5,250.0,50.0'"
      ]
     },
     "execution_count": 25,
     "metadata": {},
     "output_type": "execute_result"
    }
   ],
   "source": [
    "order_item"
   ]
  },
  {
   "cell_type": "code",
   "execution_count": 27,
   "metadata": {},
   "outputs": [],
   "source": [
    "order_item_order_id = int(order_item.split(',')[1])\n",
    "order_item_quantity = int(order_item.split(',')[3])\n",
    "order_item_subtotal = float(order_item.split(',')[4])\n",
    "\n",
    "order_metrics = [order_item_quantity, order_item_subtotal]"
   ]
  },
  {
   "cell_type": "code",
   "execution_count": 28,
   "metadata": {},
   "outputs": [
    {
     "data": {
      "text/plain": [
       "{1: [1, 299.98], 2: [1, 199.99]}"
      ]
     },
     "execution_count": 28,
     "metadata": {},
     "output_type": "execute_result"
    }
   ],
   "source": [
    "revenue_per_order"
   ]
  },
  {
   "cell_type": "code",
   "execution_count": 29,
   "metadata": {},
   "outputs": [],
   "source": [
    "revenue_per_order[order_item_order_id][0] = revenue_per_order[order_item_order_id][0] + order_metrics[0]\n",
    "revenue_per_order[order_item_order_id][1] = revenue_per_order[order_item_order_id][1] + order_metrics[1]"
   ]
  },
  {
   "cell_type": "code",
   "execution_count": 30,
   "metadata": {},
   "outputs": [
    {
     "data": {
      "text/plain": [
       "{1: [1, 299.98], 2: [6, 449.99]}"
      ]
     },
     "execution_count": 30,
     "metadata": {},
     "output_type": "execute_result"
    }
   ],
   "source": [
    "revenue_per_order"
   ]
  },
  {
   "cell_type": "code",
   "execution_count": 32,
   "metadata": {},
   "outputs": [],
   "source": [
    "def get_revenue_per_order(order_items):\n",
    "    revenue_per_order = {}\n",
    "    for order_item in order_items:\n",
    "        order_item_order_id = int(order_item.split(',')[1])\n",
    "        order_item_quantity = int(order_item.split(',')[3])\n",
    "        order_item_subtotal = float(order_item.split(',')[4])\n",
    "        order_metrics = [order_item_quantity, order_item_subtotal]\n",
    "        if revenue_per_order.get(order_item_order_id):\n",
    "            # if revenue_per_order contains key, \n",
    "            # then add order_item_subtotal to existing value\n",
    "            revenue_per_order[order_item_order_id][0] += order_metrics[0]\n",
    "            revenue_per_order[order_item_order_id][1] += order_metrics[1]\n",
    "        else:\n",
    "            # if revenue_per_order does not contain key, \n",
    "            # then add new element to revenue_per_order\n",
    "            revenue_per_order[order_item_order_id] = order_metrics\n",
    "    return revenue_per_order"
   ]
  },
  {
   "cell_type": "code",
   "execution_count": 33,
   "metadata": {},
   "outputs": [
    {
     "data": {
      "text/plain": [
       "[(1, [1, 299.98]),\n",
       " (2, [7, 579.98]),\n",
       " (4, [14, 699.85]),\n",
       " (5, [10, 1129.8600000000001]),\n",
       " (7, [7, 579.9200000000001]),\n",
       " (8, [13, 729.8399999999999]),\n",
       " (9, [4, 599.96]),\n",
       " (10, [6, 651.9200000000001]),\n",
       " (11, [15, 919.79]),\n",
       " (12, [18, 1299.8700000000001])]"
      ]
     },
     "execution_count": 33,
     "metadata": {},
     "output_type": "execute_result"
    }
   ],
   "source": [
    "list(get_revenue_per_order(order_items).items())[:10]"
   ]
  },
  {
   "cell_type": "markdown",
   "metadata": {},
   "source": [
    "```{note}\n",
    "This is an example to get order_id and corresponding quantity as well as revenue. For each order_id, quantity and revenue are treated as dict.\n",
    "```"
   ]
  },
  {
   "cell_type": "code",
   "execution_count": 34,
   "metadata": {},
   "outputs": [],
   "source": [
    "def get_revenue_per_order(order_items):\n",
    "    revenue_per_order = {}\n",
    "    for order_item in order_items:\n",
    "        order_item_order_id = int(order_item.split(',')[1])\n",
    "        order_item_quantity = int(order_item.split(',')[3])\n",
    "        order_item_subtotal = float(order_item.split(',')[4])\n",
    "        order_metrics = {'order_item_quantity': order_item_quantity, 'order_item_subtotal': order_item_subtotal}\n",
    "        if revenue_per_order.get(order_item_order_id):\n",
    "            # if revenue_per_order contains key, \n",
    "            # then add order_item_subtotal to existing value\n",
    "            revenue_per_order[order_item_order_id]['order_item_quantity'] += order_metrics['order_item_quantity']\n",
    "            revenue_per_order[order_item_order_id]['order_item_subtotal'] += order_metrics['order_item_subtotal']\n",
    "        else:\n",
    "            # if revenue_per_order does not contain key, \n",
    "            # then add new element to revenue_per_order\n",
    "            revenue_per_order[order_item_order_id] = order_metrics\n",
    "    return revenue_per_order"
   ]
  },
  {
   "cell_type": "code",
   "execution_count": 35,
   "metadata": {},
   "outputs": [
    {
     "data": {
      "text/plain": [
       "[(1, {'order_item_quantity': 1, 'order_item_subtotal': 299.98}),\n",
       " (2, {'order_item_quantity': 7, 'order_item_subtotal': 579.98}),\n",
       " (4, {'order_item_quantity': 14, 'order_item_subtotal': 699.85}),\n",
       " (5, {'order_item_quantity': 10, 'order_item_subtotal': 1129.8600000000001}),\n",
       " (7, {'order_item_quantity': 7, 'order_item_subtotal': 579.9200000000001}),\n",
       " (8, {'order_item_quantity': 13, 'order_item_subtotal': 729.8399999999999}),\n",
       " (9, {'order_item_quantity': 4, 'order_item_subtotal': 599.96}),\n",
       " (10, {'order_item_quantity': 6, 'order_item_subtotal': 651.9200000000001}),\n",
       " (11, {'order_item_quantity': 15, 'order_item_subtotal': 919.79}),\n",
       " (12, {'order_item_quantity': 18, 'order_item_subtotal': 1299.8700000000001})]"
      ]
     },
     "execution_count": 35,
     "metadata": {},
     "output_type": "execute_result"
    }
   ],
   "source": [
    "list(get_revenue_per_order(order_items).items())[:10]"
   ]
  },
  {
   "cell_type": "code",
   "execution_count": null,
   "metadata": {},
   "outputs": [],
   "source": []
  }
 ],
 "metadata": {
  "kernelspec": {
   "display_name": "Python 3",
   "language": "python",
   "name": "python3"
  },
  "language_info": {
   "codemirror_mode": {
    "name": "ipython",
    "version": 3
   },
   "file_extension": ".py",
   "mimetype": "text/x-python",
   "name": "python",
   "nbconvert_exporter": "python",
   "pygments_lexer": "ipython3",
   "version": "3.6.12"
  }
 },
 "nbformat": 4,
 "nbformat_minor": 4
}
