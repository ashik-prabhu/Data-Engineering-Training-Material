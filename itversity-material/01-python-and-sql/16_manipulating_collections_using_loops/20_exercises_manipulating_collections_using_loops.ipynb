{
 "cells": [
  {
   "cell_type": "markdown",
   "metadata": {},
   "source": [
    "## Exercises - Manipulating Collections using Loops\n",
    "\n",
    "Let us go throuh some of the exercises to understand how to process collections using conventional loops and conditionals. Create functions for each of the below problem statement.\n",
    "* Get number of COMPLETE orders placed by each customer\n",
    "* Get total number of PENDING or PENDING_PAYMENT orders for the month of 2014 January.\n",
    "* Get outstanding amount for each month considering orders with status PAYMENT_REVIEW, PENDING, PENDING_PAYMENT and PROCESSING."
   ]
  },
  {
   "cell_type": "markdown",
   "metadata": {},
   "source": [
    "### Details of Data\n",
    "\n",
    "Here are the details about the orders data which you can leverage to take care of these exercises.\n",
    "* Location: `/data/retail_db/orders/part-00000`\n",
    "* Each record is line separated or line delimited.\n",
    "* Attribute in each record is comma separated.\n",
    "* Here are the columns in the orders data set.\n",
    "  * order_id\n",
    "  * order_date\n",
    "  * order_customer_id\n",
    "  * order_status"
   ]
  },
  {
   "cell_type": "code",
   "execution_count": 3,
   "metadata": {},
   "outputs": [
    {
     "name": "stdout",
     "output_type": "stream",
     "text": [
      "-rw-r--r-- 1 root root 2999944 Jan 21  2021 /data/retail_db/orders/part-00000\n"
     ]
    }
   ],
   "source": [
    "# Get the details about file\n",
    "!ls -ltr /data/retail_db/orders/part-00000"
   ]
  },
  {
   "cell_type": "code",
   "execution_count": 4,
   "metadata": {},
   "outputs": [
    {
     "name": "stdout",
     "output_type": "stream",
     "text": [
      "1,2013-07-25 00:00:00.0,11599,CLOSED\n",
      "2,2013-07-25 00:00:00.0,256,PENDING_PAYMENT\n",
      "3,2013-07-25 00:00:00.0,12111,COMPLETE\n",
      "4,2013-07-25 00:00:00.0,8827,CLOSED\n",
      "5,2013-07-25 00:00:00.0,11318,COMPLETE\n"
     ]
    }
   ],
   "source": [
    "# Get first five lines from the file\n",
    "!head -5 /data/retail_db/orders/part-00000"
   ]
  },
  {
   "cell_type": "code",
   "execution_count": 5,
   "metadata": {},
   "outputs": [
    {
     "name": "stdout",
     "output_type": "stream",
     "text": [
      "68883 /data/retail_db/orders/part-00000\n"
     ]
    }
   ],
   "source": [
    "# Get number of lines from the file\n",
    "# We can use linux command wc with -l\n",
    "!wc -l /data/retail_db/orders/part-00000"
   ]
  },
  {
   "cell_type": "markdown",
   "metadata": {},
   "source": [
    "Here are the details about the order_items data which you can leverage to take care of these exercises.\n",
    "* Location: `/data/retail_db/order_items/part-00000`\n",
    "* Each record is line separated or line delimited.\n",
    "* Attribute in each record is comma separated.\n",
    "* Here are the columns in the order_items data set.\n",
    "  * order_item_id\n",
    "  * order_item_order_id\n",
    "  * order_item_product_id\n",
    "  * order_item_quantity\n",
    "  * order_item_subtotal\n",
    "  * order_item_product_price"
   ]
  },
  {
   "cell_type": "code",
   "execution_count": 6,
   "metadata": {},
   "outputs": [
    {
     "name": "stdout",
     "output_type": "stream",
     "text": [
      "-rw-r--r-- 1 root root 5408880 Jan 21  2021 /data/retail_db/order_items/part-00000\n"
     ]
    }
   ],
   "source": [
    "# Get the details about file\n",
    "!ls -ltr /data/retail_db/order_items/part-00000"
   ]
  },
  {
   "cell_type": "code",
   "execution_count": 7,
   "metadata": {},
   "outputs": [
    {
     "name": "stdout",
     "output_type": "stream",
     "text": [
      "1,1,957,1,299.98,299.98\n",
      "2,2,1073,1,199.99,199.99\n",
      "3,2,502,5,250.0,50.0\n",
      "4,2,403,1,129.99,129.99\n",
      "5,4,897,2,49.98,24.99\n"
     ]
    }
   ],
   "source": [
    "# Get first five lines from the file\n",
    "!head -5 /data/retail_db/order_items/part-00000"
   ]
  },
  {
   "cell_type": "code",
   "execution_count": 8,
   "metadata": {},
   "outputs": [
    {
     "name": "stdout",
     "output_type": "stream",
     "text": [
      "172198 /data/retail_db/order_items/part-00000\n"
     ]
    }
   ],
   "source": [
    "# Get number of lines from the file\n",
    "# We can use linux command wc with -l\n",
    "!wc -l /data/retail_db/order_items/part-00000"
   ]
  },
  {
   "cell_type": "markdown",
   "metadata": {},
   "source": [
    "### Exercise 1 - Read data from file\n",
    "Before getting into problem statement, develop the code to read the file into list of elements.\n",
    "* We should be able to use this function to read any file with text data using line as record delimiter."
   ]
  },
  {
   "cell_type": "code",
   "execution_count": 9,
   "metadata": {},
   "outputs": [],
   "source": [
    "# Update the logic here\n",
    "def get_list_from_file(file_path):\n",
    "    data_list = open(file_path).read().splitlines()\n",
    "    return data_list"
   ]
  },
  {
   "cell_type": "markdown",
   "metadata": {},
   "source": [
    "* Run below cells to validate the function\n",
    "* You should see 68883 records as part of the output for the cell with `len(orders)` below.\n",
    "* You should see 172198 records as part of the output for the cell with `len(order_items)` below."
   ]
  },
  {
   "cell_type": "code",
   "execution_count": 10,
   "metadata": {},
   "outputs": [],
   "source": [
    "orders = get_list_from_file('/data/retail_db/orders/part-00000')"
   ]
  },
  {
   "cell_type": "code",
   "execution_count": 11,
   "metadata": {},
   "outputs": [
    {
     "data": {
      "text/plain": [
       "['1,2013-07-25 00:00:00.0,11599,CLOSED',\n",
       " '2,2013-07-25 00:00:00.0,256,PENDING_PAYMENT',\n",
       " '3,2013-07-25 00:00:00.0,12111,COMPLETE',\n",
       " '4,2013-07-25 00:00:00.0,8827,CLOSED',\n",
       " '5,2013-07-25 00:00:00.0,11318,COMPLETE']"
      ]
     },
     "execution_count": 11,
     "metadata": {},
     "output_type": "execute_result"
    }
   ],
   "source": [
    "orders[:5]"
   ]
  },
  {
   "cell_type": "code",
   "execution_count": 12,
   "metadata": {},
   "outputs": [
    {
     "data": {
      "text/plain": [
       "68883"
      ]
     },
     "execution_count": 12,
     "metadata": {},
     "output_type": "execute_result"
    }
   ],
   "source": [
    "len(orders)"
   ]
  },
  {
   "cell_type": "code",
   "execution_count": 13,
   "metadata": {},
   "outputs": [],
   "source": [
    "order_items = get_list_from_file('/data/retail_db/order_items/part-00000')"
   ]
  },
  {
   "cell_type": "code",
   "execution_count": 14,
   "metadata": {},
   "outputs": [
    {
     "data": {
      "text/plain": [
       "['1,1,957,1,299.98,299.98',\n",
       " '2,2,1073,1,199.99,199.99',\n",
       " '3,2,502,5,250.0,50.0',\n",
       " '4,2,403,1,129.99,129.99',\n",
       " '5,4,897,2,49.98,24.99']"
      ]
     },
     "execution_count": 14,
     "metadata": {},
     "output_type": "execute_result"
    }
   ],
   "source": [
    "order_items[:5]"
   ]
  },
  {
   "cell_type": "code",
   "execution_count": 15,
   "metadata": {},
   "outputs": [
    {
     "data": {
      "text/plain": [
       "172198"
      ]
     },
     "execution_count": 15,
     "metadata": {},
     "output_type": "execute_result"
    }
   ],
   "source": [
    "len(order_items)"
   ]
  },
  {
   "cell_type": "markdown",
   "metadata": {},
   "source": [
    "### Exercise 2 - Complete Order Count by Customer\n",
    "\n",
    "Get number of COMPLETE orders placed by each customer. Develop a function which read the orders data and get us complete order count by each customer using **order_customer_id**.\n",
    "* The function should take the complete order list as argument and return count of complete orders by customer. The function should return **dict** type object.\n",
    "* The order is said to be complete if the **order_status** is **COMPLETE**.\n",
    "* You can review structure of the data under **Details of Data** section in this notebook."
   ]
  },
  {
   "cell_type": "code",
   "execution_count": 20,
   "metadata": {},
   "outputs": [],
   "source": [
    "# Update the logic here\n",
    "def get_complete_order_count_by_customer(orders):\n",
    "    order_count_by_customer = {}\n",
    "    for order in orders:\n",
    "        order_status=order.split(',')[3]\n",
    "        order_customer_id=order.split(',')[2]\n",
    "        if order_status=='COMPLETE':\n",
    "            if int(order_customer_id) in order_count_by_customer:\n",
    "                order_count_by_customer[int(order_customer_id)]+=1\n",
    "            else:\n",
    "                order_count_by_customer[int(order_customer_id)]=1\n",
    "    return order_count_by_customer"
   ]
  },
  {
   "cell_type": "code",
   "execution_count": 21,
   "metadata": {},
   "outputs": [],
   "source": [
    "# # Update the logic here\n",
    "# def get_complete_order_count_by_customer(orders):\n",
    "#     order_count_by_customer = {}\n",
    "#     for order in orders:\n",
    "#         order_status=order.split(',')[3]\n",
    "#         order_customer_id=order.split(',')[2]\n",
    "#         if order_status=='COMPLETE':\n",
    "#             if order_count_by_customer.get(int(order.split(',')[2])): # dict key customer_id not found\n",
    "#                 order_count_by_customer[int(order.split(',')[2])] += 1\n",
    "#             else:\n",
    "#                 order_count_by_customer[int(order.split(',')[2])] = 1\n",
    "#     return order_count_by_customer"
   ]
  },
  {
   "cell_type": "markdown",
   "metadata": {},
   "source": [
    "* Run below cell to validate the function. You should get **22899** as output."
   ]
  },
  {
   "cell_type": "code",
   "execution_count": 22,
   "metadata": {},
   "outputs": [
    {
     "data": {
      "text/plain": [
       "68883"
      ]
     },
     "execution_count": 22,
     "metadata": {},
     "output_type": "execute_result"
    }
   ],
   "source": [
    "orders = get_list_from_file('/data/retail_db/orders/part-00000')\n",
    "len(orders)"
   ]
  },
  {
   "cell_type": "code",
   "execution_count": 23,
   "metadata": {},
   "outputs": [],
   "source": [
    "complete_order_count_by_customer = get_complete_order_count_by_customer(orders)"
   ]
  },
  {
   "cell_type": "code",
   "execution_count": 24,
   "metadata": {},
   "outputs": [
    {
     "data": {
      "text/plain": [
       "dict"
      ]
     },
     "execution_count": 24,
     "metadata": {},
     "output_type": "execute_result"
    }
   ],
   "source": [
    "# This should return dict\n",
    "type(complete_order_count_by_customer)"
   ]
  },
  {
   "cell_type": "code",
   "execution_count": 25,
   "metadata": {},
   "outputs": [
    {
     "data": {
      "text/plain": [
       "10538"
      ]
     },
     "execution_count": 25,
     "metadata": {},
     "output_type": "execute_result"
    }
   ],
   "source": [
    "# This should return 10538\n",
    "len(complete_order_count_by_customer)"
   ]
  },
  {
   "cell_type": "markdown",
   "metadata": {},
   "source": [
    "* Run below cell to preview the data.\n",
    "```python\n",
    "(1, 1)\n",
    "(2, 2)\n",
    "(3, 5)\n",
    "(4, 4)\n",
    "(5, 2)\n",
    "```"
   ]
  },
  {
   "cell_type": "code",
   "execution_count": 26,
   "metadata": {},
   "outputs": [
    {
     "name": "stdout",
     "output_type": "stream",
     "text": [
      "(1, 1)\n",
      "(2, 2)\n",
      "(3, 5)\n",
      "(4, 4)\n",
      "(5, 2)\n"
     ]
    }
   ],
   "source": [
    "for e in sorted(complete_order_count_by_customer.items())[:5]:\n",
    "    print(e)"
   ]
  },
  {
   "cell_type": "markdown",
   "metadata": {},
   "source": [
    "### Exercise 3 - Pending Order Count\n",
    "\n",
    "Get total number of PENDING or PENDING_PAYMENT orders for the month of 2014 January. Develop a function which read the orders data and get us pending order count.\n",
    "* The function should take the complete order list as argument and return count of pending orders.\n",
    "* The order is said to be complete if the status is **PENDING** or **PENDING_PAYMENT**. We should only consider the orders placed in the month of 2014 January.\n",
    "* The second element in each comma separated record gives us the date\n",
    "* The 4th or last element in each comma separated record gives us the order status."
   ]
  },
  {
   "cell_type": "code",
   "execution_count": 27,
   "metadata": {},
   "outputs": [],
   "source": [
    "# order_details=orders[0].split(',')\n",
    "# order_details[3] in ('CLOSED','COMPLETE') and order_details[1].startswith('2013-07')"
   ]
  },
  {
   "cell_type": "code",
   "execution_count": 28,
   "metadata": {},
   "outputs": [],
   "source": [
    "# Update the logic here\n",
    "def get_pending_order_count(orders):\n",
    "    order_count=0\n",
    "    for order in orders:\n",
    "        order_details=order.split(',')\n",
    "        order_date=order_details[1]\n",
    "        order_status=order_details[3]\n",
    "        if(order_status in ('PENDING','PENDING_PAYMENT') and order_date.startswith('2014-01')):\n",
    "            order_count+=1\n",
    "    return order_count"
   ]
  },
  {
   "cell_type": "markdown",
   "metadata": {},
   "source": [
    "* Run below cell to validate your function. You should get **1969** as output."
   ]
  },
  {
   "cell_type": "code",
   "execution_count": 29,
   "metadata": {},
   "outputs": [
    {
     "data": {
      "text/plain": [
       "1969"
      ]
     },
     "execution_count": 29,
     "metadata": {},
     "output_type": "execute_result"
    }
   ],
   "source": [
    "get_pending_order_count(orders)"
   ]
  },
  {
   "cell_type": "markdown",
   "metadata": {},
   "source": [
    "* You can also validate results using simple linux scripts."
   ]
  },
  {
   "cell_type": "code",
   "execution_count": 30,
   "metadata": {},
   "outputs": [
    {
     "name": "stdout",
     "output_type": "stream",
     "text": [
      "1969\n"
     ]
    }
   ],
   "source": [
    "!egrep -w '(PENDING|PENDING_PAYMENT)' /data/retail_db/orders/part-00000|grep 2014-01|wc -l"
   ]
  },
  {
   "cell_type": "markdown",
   "metadata": {},
   "source": [
    "### Exercise 4 - Get Outstanding Revenue\n",
    "\n",
    "Get outstanding amount for each month considering orders with status PAYMENT_REVIEW, PENDING, PENDING_PAYMENT and PROCESSING. Modularize by developing multiple functions.\n",
    "* Develop a function which takes orders list as argument and return a collection of order ids with one of the pending statuses.\n",
    "* Develop a function which takes **order_items list** as well as **orders dict with only status** as arguments and return outstanding amount. \n",
    "* You can use **order_item_subtotal** to compute the outstanding amount.\n",
    "* Here are the instructions for the solution.\n",
    "  * Create a list or set or dict for pending orders as part of first function with name that starts with **get_pending_orders**.\n",
    "  * As part of **get_outstanding_revenue** make sure to iterate through **order_items** and lookup into **pending_orders** to get the subtotal for each order item.\n",
    "* Review **Details of Data** section to get more details of columns."
   ]
  },
  {
   "cell_type": "markdown",
   "metadata": {},
   "source": [
    "* Develop a function to create list of orders with pending status and lookup into it."
   ]
  },
  {
   "cell_type": "code",
   "execution_count": 88,
   "metadata": {},
   "outputs": [],
   "source": [
    "# def get_pending_orders(orders):\n",
    "#     pending_orders =[]\n",
    "#     comparing_status = ['PENDING', 'PENDING_PAYMENT','PAYMENT_REVIEW' ,'PROCESSING']\n",
    "#     for order in orders:\n",
    "#         order_status = order.split(',')[3]\n",
    "#         if order_status in comparing_status:\n",
    "#             order_concat = order.split(',')[0] + ',' +order.split(',')[3]\n",
    "#             pending_orders.append(order_concat)\n",
    "#     return pending_orders"
   ]
  },
  {
   "cell_type": "code",
   "execution_count": 14,
   "metadata": {},
   "outputs": [],
   "source": [
    "# Update the logic here\n",
    "def get_pending_orders(orders):\n",
    "    pending_orders=[\n",
    "        order.split(',')[0] + ',' + order.split(',')[3] for order in orders \n",
    "        if (order.split(',')[3] in ('PAYMENT_REVIEW','PENDING','PENDING_PAYMENT','PROCESSING'))]\n",
    "    return pending_orders"
   ]
  },
  {
   "cell_type": "markdown",
   "metadata": {},
   "source": [
    "* Validate by running below cells to see if the list is created with order ids."
   ]
  },
  {
   "cell_type": "code",
   "execution_count": 15,
   "metadata": {},
   "outputs": [],
   "source": [
    "orders = get_list_from_file('/data/retail_db/orders/part-00000')"
   ]
  },
  {
   "cell_type": "code",
   "execution_count": 16,
   "metadata": {},
   "outputs": [],
   "source": [
    "pending_orders = get_pending_orders(orders)"
   ]
  },
  {
   "cell_type": "code",
   "execution_count": 17,
   "metadata": {},
   "outputs": [
    {
     "data": {
      "text/plain": [
       "list"
      ]
     },
     "execution_count": 17,
     "metadata": {},
     "output_type": "execute_result"
    }
   ],
   "source": [
    "# It should return list\n",
    "type(pending_orders)"
   ]
  },
  {
   "cell_type": "code",
   "execution_count": 18,
   "metadata": {},
   "outputs": [
    {
     "data": {
      "text/plain": [
       "['2,PENDING_PAYMENT',\n",
       " '8,PROCESSING',\n",
       " '9,PENDING_PAYMENT',\n",
       " '10,PENDING_PAYMENT',\n",
       " '11,PAYMENT_REVIEW']"
      ]
     },
     "execution_count": 18,
     "metadata": {},
     "output_type": "execute_result"
    }
   ],
   "source": [
    "# Preview first five elements\n",
    "pending_orders[:5]"
   ]
  },
  {
   "cell_type": "code",
   "execution_count": 104,
   "metadata": {},
   "outputs": [
    {
     "data": {
      "text/plain": [
       "'2,PENDING_PAYMENT'"
      ]
     },
     "execution_count": 104,
     "metadata": {},
     "output_type": "execute_result"
    }
   ],
   "source": [
    "# Reading first element from the list\n",
    "pending_orders[0] "
   ]
  },
  {
   "cell_type": "code",
   "execution_count": 72,
   "metadata": {},
   "outputs": [
    {
     "data": {
      "text/plain": [
       "31644"
      ]
     },
     "execution_count": 72,
     "metadata": {},
     "output_type": "execute_result"
    }
   ],
   "source": [
    "# It should return 31644\n",
    "len(pending_orders)"
   ]
  },
  {
   "cell_type": "code",
   "execution_count": 73,
   "metadata": {},
   "outputs": [],
   "source": [
    "# def get_outstanding_revenue(order_items, pending_orders):\n",
    "#     outstanding_revenue=0\n",
    "#     for order_item in order_items:\n",
    "#         order_item_order_id=int(order_item.split(',')[1])\n",
    "#         subtotal=float(order_item.split(',')[4])\n",
    "#         for pending_order in pending_orders:\n",
    "#             if order_item_order_id == pending_order[0]:\n",
    "#                 outstanding_revenue+=subtotal\n",
    "#     return outstanding_revenue"
   ]
  },
  {
   "cell_type": "code",
   "execution_count": 105,
   "metadata": {},
   "outputs": [],
   "source": [
    "def get_outstanding_revenue(order_items, pending_orders):\n",
    "    outstanding_revenue = 0\n",
    "    pending_ord_id= []\n",
    "    for pen_ord in pending_orders:\n",
    "        pending_ord_id.append(pen_ord.split(',')[0])\n",
    "    ord_id = pending_ord_id\n",
    "    for items in order_items:\n",
    "        if items.split(',')[1] in ord_id:\n",
    "            outstanding_revenue += float(items.split(',')[4])\n",
    "    return round(outstanding_revenue, 2)"
   ]
  },
  {
   "cell_type": "code",
   "execution_count": 106,
   "metadata": {},
   "outputs": [],
   "source": [
    "order_items = get_list_from_file('/data/retail_db/order_items/part-00000')"
   ]
  },
  {
   "cell_type": "code",
   "execution_count": 107,
   "metadata": {},
   "outputs": [
    {
     "name": "stdout",
     "output_type": "stream",
     "text": [
      "CPU times: user 34.2 s, sys: 3.91 ms, total: 34.2 s\n",
      "Wall time: 34.2 s\n"
     ]
    },
    {
     "data": {
      "text/plain": [
       "15982030.54"
      ]
     },
     "execution_count": 107,
     "metadata": {},
     "output_type": "execute_result"
    }
   ],
   "source": [
    "%%time\n",
    "# You should get 15982030.54 as output. Even if it is different by few dollars it is fine.\n",
    "get_outstanding_revenue(order_items, pending_orders)"
   ]
  },
  {
   "cell_type": "markdown",
   "metadata": {},
   "source": [
    "### Using Set"
   ]
  },
  {
   "cell_type": "code",
   "execution_count": 14,
   "metadata": {},
   "outputs": [],
   "source": [
    "# def get_pending_orders_set(orders):\n",
    "#     pending_orders =set()\n",
    "#     comparing_status = ['PENDING', 'PENDING_PAYMENT','PAYMENT_REVIEW' ,'PROCESSING']\n",
    "#     for order in orders:\n",
    "#         order_status = order.split(',')[3]\n",
    "#         if order_status in comparing_status:\n",
    "#             order_concat = order.split(',')[0] + ',' +order.split(',')[3]\n",
    "#             pending_orders.add(order_concat)\n",
    "#     return pending_orders"
   ]
  },
  {
   "cell_type": "markdown",
   "metadata": {},
   "source": [
    "* Develop a function to create set of orders with pending status and lookup into it."
   ]
  },
  {
   "cell_type": "code",
   "execution_count": 26,
   "metadata": {},
   "outputs": [],
   "source": [
    "# Update the logic here\n",
    "def get_pending_orders_set(orders):\n",
    "    pending_orders=set(\n",
    "        order.split(',')[0] + ',' + order.split(',')[3] for order in orders \n",
    "        if (order.split(',')[3] in ('PAYMENT_REVIEW','PENDING','PENDING_PAYMENT','PROCESSING')))\n",
    "    return pending_orders"
   ]
  },
  {
   "cell_type": "markdown",
   "metadata": {},
   "source": [
    "* Validate by running below cells to see if the set is created with order ids."
   ]
  },
  {
   "cell_type": "code",
   "execution_count": 27,
   "metadata": {},
   "outputs": [],
   "source": [
    "orders = get_list_from_file('/data/retail_db/orders/part-00000')"
   ]
  },
  {
   "cell_type": "code",
   "execution_count": 28,
   "metadata": {},
   "outputs": [],
   "source": [
    "pending_orders = get_pending_orders_set(orders)"
   ]
  },
  {
   "cell_type": "code",
   "execution_count": 29,
   "metadata": {},
   "outputs": [
    {
     "data": {
      "text/plain": [
       "set"
      ]
     },
     "execution_count": 29,
     "metadata": {},
     "output_type": "execute_result"
    }
   ],
   "source": [
    "# It should return set\n",
    "type(pending_orders)"
   ]
  },
  {
   "cell_type": "code",
   "execution_count": 30,
   "metadata": {},
   "outputs": [
    {
     "data": {
      "text/plain": [
       "['41443,PROCESSING',\n",
       " '6325,PENDING',\n",
       " '13325,PROCESSING',\n",
       " '13455,PENDING_PAYMENT',\n",
       " '29998,PROCESSING']"
      ]
     },
     "execution_count": 30,
     "metadata": {},
     "output_type": "execute_result"
    }
   ],
   "source": [
    "# Preview first five elements\n",
    "list(pending_orders)[:5]"
   ]
  },
  {
   "cell_type": "code",
   "execution_count": 31,
   "metadata": {},
   "outputs": [
    {
     "data": {
      "text/plain": [
       "'41443,PROCESSING'"
      ]
     },
     "execution_count": 31,
     "metadata": {},
     "output_type": "execute_result"
    }
   ],
   "source": [
    "# Reading first element from the list\n",
    "list(pending_orders)[0] "
   ]
  },
  {
   "cell_type": "code",
   "execution_count": 32,
   "metadata": {},
   "outputs": [
    {
     "data": {
      "text/plain": [
       "31644"
      ]
     },
     "execution_count": 32,
     "metadata": {},
     "output_type": "execute_result"
    }
   ],
   "source": [
    "# It should return 31644\n",
    "len(pending_orders)"
   ]
  },
  {
   "cell_type": "code",
   "execution_count": 42,
   "metadata": {},
   "outputs": [],
   "source": [
    "def get_outstanding_revenue(order_items, pending_orders):\n",
    "    outstanding_revenue = 0\n",
    "    pending_ord_id= []\n",
    "    for pen_ord in pending_orders:\n",
    "        pending_ord_id.append(pen_ord.split(',')[0])\n",
    "    ord_id = set(pending_ord_id)\n",
    "    for items in order_items:\n",
    "        if items.split(',')[1] in ord_id:\n",
    "            outstanding_revenue += float(items.split(',')[4])\n",
    "    return round(outstanding_revenue, 2)"
   ]
  },
  {
   "cell_type": "code",
   "execution_count": 43,
   "metadata": {},
   "outputs": [],
   "source": [
    "order_items = get_list_from_file('/data/retail_db/order_items/part-00000')"
   ]
  },
  {
   "cell_type": "code",
   "execution_count": 44,
   "metadata": {},
   "outputs": [
    {
     "name": "stdout",
     "output_type": "stream",
     "text": [
      "CPU times: user 74.1 ms, sys: 10 µs, total: 74.1 ms\n",
      "Wall time: 73.9 ms\n"
     ]
    },
    {
     "data": {
      "text/plain": [
       "15982030.54"
      ]
     },
     "execution_count": 44,
     "metadata": {},
     "output_type": "execute_result"
    }
   ],
   "source": [
    "%%time\n",
    "# You should get 15982030.54 as output. Even if it is different by few dollars it is fine.\n",
    "get_outstanding_revenue(order_items, pending_orders)"
   ]
  },
  {
   "cell_type": "markdown",
   "metadata": {},
   "source": [
    "* Develop a function to create dict of orders with pending status and lookup into it. The dict need to have order id as key and some constant value as value. In my case, I have used 1 as value."
   ]
  },
  {
   "cell_type": "markdown",
   "metadata": {},
   "source": [
    "### Using Dictionary"
   ]
  },
  {
   "cell_type": "code",
   "execution_count": 22,
   "metadata": {},
   "outputs": [],
   "source": [
    "# Update the logic here\n",
    "def get_pending_orders_dict(orders):\n",
    "    pending_orders={\n",
    "        order.split(',')[0]:order.split(',')[3] for order in orders \n",
    "        if (order.split(',')[3] in ('PAYMENT_REVIEW','PENDING','PENDING_PAYMENT','PROCESSING'))}\n",
    "    return pending_orders"
   ]
  },
  {
   "cell_type": "markdown",
   "metadata": {},
   "source": [
    "* Validate by running below cells to see if the dict is created with order id and order status."
   ]
  },
  {
   "cell_type": "code",
   "execution_count": 23,
   "metadata": {},
   "outputs": [],
   "source": [
    "orders = get_list_from_file('/data/retail_db/orders/part-00000')"
   ]
  },
  {
   "cell_type": "code",
   "execution_count": 24,
   "metadata": {},
   "outputs": [],
   "source": [
    "pending_orders = get_pending_orders_dict(orders)"
   ]
  },
  {
   "cell_type": "code",
   "execution_count": 25,
   "metadata": {},
   "outputs": [
    {
     "data": {
      "text/plain": [
       "dict"
      ]
     },
     "execution_count": 25,
     "metadata": {},
     "output_type": "execute_result"
    }
   ],
   "source": [
    "# It should return dict\n",
    "type(pending_orders)"
   ]
  },
  {
   "cell_type": "code",
   "execution_count": 29,
   "metadata": {},
   "outputs": [
    {
     "data": {
      "text/plain": [
       "[('2', 'PENDING_PAYMENT'),\n",
       " ('8', 'PROCESSING'),\n",
       " ('9', 'PENDING_PAYMENT'),\n",
       " ('10', 'PENDING_PAYMENT'),\n",
       " ('11', 'PAYMENT_REVIEW')]"
      ]
     },
     "execution_count": 29,
     "metadata": {},
     "output_type": "execute_result"
    }
   ],
   "source": [
    "# Preview first five elements\n",
    "list(pending_orders.items())[:5]"
   ]
  },
  {
   "cell_type": "code",
   "execution_count": 30,
   "metadata": {},
   "outputs": [
    {
     "data": {
      "text/plain": [
       "('2', 'PENDING_PAYMENT')"
      ]
     },
     "execution_count": 30,
     "metadata": {},
     "output_type": "execute_result"
    }
   ],
   "source": [
    "# Reading first element from the dict\n",
    "list(pending_orders.items())[0] "
   ]
  },
  {
   "cell_type": "code",
   "execution_count": 31,
   "metadata": {},
   "outputs": [
    {
     "data": {
      "text/plain": [
       "31644"
      ]
     },
     "execution_count": 31,
     "metadata": {},
     "output_type": "execute_result"
    }
   ],
   "source": [
    "# It should return 31644\n",
    "len(pending_orders)"
   ]
  },
  {
   "cell_type": "code",
   "execution_count": 36,
   "metadata": {},
   "outputs": [],
   "source": [
    "def get_outstanding_revenue(order_items, pending_orders):\n",
    "    outstanding_revenue = 0\n",
    "    for order_item in order_items:\n",
    "        if order_item.split(',')[1] in pending_orders:\n",
    "            outstanding_revenue += float(order_item.split(',')[4])\n",
    "    return round(outstanding_revenue, 2)"
   ]
  },
  {
   "cell_type": "code",
   "execution_count": 37,
   "metadata": {},
   "outputs": [],
   "source": [
    "order_items = get_list_from_file('/data/retail_db/order_items/part-00000')"
   ]
  },
  {
   "cell_type": "code",
   "execution_count": 38,
   "metadata": {},
   "outputs": [
    {
     "name": "stdout",
     "output_type": "stream",
     "text": [
      "CPU times: user 65.2 ms, sys: 0 ns, total: 65.2 ms\n",
      "Wall time: 64.6 ms\n"
     ]
    },
    {
     "data": {
      "text/plain": [
       "15982030.54"
      ]
     },
     "execution_count": 38,
     "metadata": {},
     "output_type": "execute_result"
    }
   ],
   "source": [
    "%%time\n",
    "# You should get 15982030.54 as output. Even if it is different by few dollars it is fine.\n",
    "get_outstanding_revenue(order_items, pending_orders)"
   ]
  },
  {
   "cell_type": "markdown",
   "metadata": {
    "tags": []
   },
   "source": [
    "### Exercise 5 - Compare Performance\n",
    "\n",
    "As part of the previous exercise you were asked to come up with the solution using 3 different approaches. You need to add a markdown cell below each question and provide answer."
   ]
  },
  {
   "cell_type": "markdown",
   "metadata": {},
   "source": [
    "* Question: Which of the 3 approaches is faster? Add a markdown cell below and provide your answer.\n",
    "  * list\n",
    "  * set\n",
    "  * dict"
   ]
  },
  {
   "cell_type": "markdown",
   "metadata": {},
   "source": [
    "Answer : Dictionary solution is the fastest one. "
   ]
  },
  {
   "cell_type": "markdown",
   "metadata": {},
   "source": [
    "* Question: Provide explanation why the option you have chosen is faster over others. Add a markdown cell below and provide your answer."
   ]
  },
  {
   "cell_type": "markdown",
   "metadata": {},
   "source": [
    "Answer: It checks if the id is present in dictionary(compares with key) directly which avoids the looping process \n",
    "in list and set."
   ]
  },
  {
   "cell_type": "code",
   "execution_count": null,
   "metadata": {},
   "outputs": [],
   "source": []
  }
 ],
 "metadata": {
  "kernelspec": {
   "display_name": "Python 3",
   "language": "python",
   "name": "python3"
  },
  "language_info": {
   "codemirror_mode": {
    "name": "ipython",
    "version": 3
   },
   "file_extension": ".py",
   "mimetype": "text/x-python",
   "name": "python",
   "nbconvert_exporter": "python",
   "pygments_lexer": "ipython3",
   "version": "3.6.12"
  }
 },
 "nbformat": 4,
 "nbformat_minor": 4
}
