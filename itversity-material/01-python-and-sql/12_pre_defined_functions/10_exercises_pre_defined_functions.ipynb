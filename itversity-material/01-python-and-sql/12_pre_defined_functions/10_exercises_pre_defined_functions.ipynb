{
 "cells": [
  {
   "cell_type": "markdown",
   "metadata": {},
   "source": [
    "## Exercises\n",
    "\n",
    "Here are the exercises to evaluate about some of the pre-defined functions to manipulate strings and dates."
   ]
  },
  {
   "cell_type": "markdown",
   "metadata": {},
   "source": [
    "### Convert Case and Concatenate Strings\n",
    "* Create 2 variables of type string.\n",
    "  * **first_name** with value **Donald**.\n",
    "  * **last_name** with value **Duck**.\n",
    "* Concatentate both the variables with \", \" in between and assign to a new variable **full_name**.\n",
    "* **full_name** should be in upper case.\n",
    "* Print **full_name** and output should be **DONALD, DUCK**."
   ]
  },
  {
   "cell_type": "code",
   "execution_count": 1,
   "metadata": {},
   "outputs": [],
   "source": [
    "first_name = 'Donald'"
   ]
  },
  {
   "cell_type": "code",
   "execution_count": 2,
   "metadata": {},
   "outputs": [],
   "source": [
    "last_name = 'Duck'"
   ]
  },
  {
   "cell_type": "code",
   "execution_count": 3,
   "metadata": {},
   "outputs": [],
   "source": [
    "full_name = f'{first_name}, {last_name}'.upper()"
   ]
  },
  {
   "cell_type": "code",
   "execution_count": 4,
   "metadata": {},
   "outputs": [
    {
     "name": "stdout",
     "output_type": "stream",
     "text": [
      "DONALD, DUCK\n"
     ]
    }
   ],
   "source": [
    "print(full_name)"
   ]
  },
  {
   "cell_type": "markdown",
   "metadata": {},
   "source": [
    "### Check if the string is palindrome\n",
    "\n",
    "* Use these string literals and confirm if they are palindromes or not. You can get the definition of palindrome by googling it. You should ignore the case while checking if the string is a palindrome.\n",
    "  * String 1: ITVersity\n",
    "  * String 2: level\n",
    "  * String 3: RaceCar"
   ]
  },
  {
   "cell_type": "code",
   "execution_count": 23,
   "metadata": {},
   "outputs": [
    {
     "name": "stdin",
     "output_type": "stream",
     "text": [
      "Enter the string to verify palindrome or not level\n"
     ]
    },
    {
     "name": "stdout",
     "output_type": "stream",
     "text": [
      "Palindrome\n"
     ]
    }
   ],
   "source": [
    "str1=input('Enter the string to verify palindrome or not')\n",
    "str1=str1.lower()\n",
    "print('Palindrome') if str1==str1[::-1] else print('Not palindrome')\n",
    "\n"
   ]
  },
  {
   "cell_type": "markdown",
   "metadata": {},
   "source": [
    "### Getting Day for a given Date\n",
    "\n",
    "* Use existing Python libraries and get the day for the given date.\n",
    "  * Create a variable by name **some_date** using format **yyyy-MM-dd** (2020-10-18).\n",
    "* Get the day in 3 character format **Sun**. Assign it to a variable **day**.\n",
    "* Print the value of **day** and it should be **Sun**."
   ]
  },
  {
   "cell_type": "code",
   "execution_count": 96,
   "metadata": {},
   "outputs": [
    {
     "name": "stdout",
     "output_type": "stream",
     "text": [
      "Sun\n"
     ]
    }
   ],
   "source": [
    "import calendar as cal,datetime as dt\n",
    "some_date=dt.datetime.strptime('2020-10-18','%Y-%m-%d')\n",
    "list(cal.day_name)\n",
    "day=cal.day_name[cal.weekday(some_date.year,some_date.month,some_date.day)]\n",
    "day=day[:3]\n",
    "print(day)"
   ]
  },
  {
   "cell_type": "markdown",
   "metadata": {},
   "source": [
    "### Get the Student Name\n",
    "\n",
    "* Create a string variable by name **student** with this value `student_id=1;student_name=Some X;join_date=2020-10-02`.\n",
    "* Get student_name from **student** and assign it to a variable **student_name**.\n",
    "* Print the value of **student_name** and it should be **Some X**"
   ]
  },
  {
   "cell_type": "code",
   "execution_count": 97,
   "metadata": {},
   "outputs": [
    {
     "name": "stdout",
     "output_type": "stream",
     "text": [
      "Some X\n"
     ]
    }
   ],
   "source": [
    "student='student_id=1;student_name=Some X;join_date=2020-10-02'\n",
    "student_name=student.split(';')[1].split('=')[1]\n",
    "print(student_name)"
   ]
  },
  {
   "cell_type": "markdown",
   "metadata": {},
   "source": [
    "### Get the Student Joining Date\n",
    "\n",
    "* Create a string variable by name **student** with this value `student_id=1;student_name=Some X;join_date=2020-10-02`.\n",
    "* Get join date and assign it to variable called as **join_date**. It should only contain **2020-10-02**\n",
    "* Convert the string to date type. The date is in the format of **yyyy-MM-dd**.\n",
    "  * **yyyy** - 4 digit year\n",
    "  * **MM** - 2 digit month\n",
    "  * **dd** - 2 digit day.\n",
    "* Format and print the date using `%Y-%b-%d`. The output should be **2020-Oct-02**"
   ]
  },
  {
   "cell_type": "code",
   "execution_count": 6,
   "metadata": {},
   "outputs": [],
   "source": [
    "student='student_id=1;student_name=Some X;join_date=2020-10-02'\n",
    "join_date=student.split(\";\")[2].split(\"=\")[1]"
   ]
  },
  {
   "cell_type": "code",
   "execution_count": 9,
   "metadata": {},
   "outputs": [
    {
     "name": "stdout",
     "output_type": "stream",
     "text": [
      "2020-Oct-02\n"
     ]
    }
   ],
   "source": [
    "import datetime as dt\n",
    "jdate=dt.datetime.strptime(join_date,'%Y-%m-%d').strftime('%Y-%b-%d')\n",
    "print(jdate)"
   ]
  },
  {
   "cell_type": "code",
   "execution_count": null,
   "metadata": {},
   "outputs": [],
   "source": []
  }
 ],
 "metadata": {
  "kernelspec": {
   "display_name": "Python 3",
   "language": "python",
   "name": "python3"
  },
  "language_info": {
   "codemirror_mode": {
    "name": "ipython",
    "version": 3
   },
   "file_extension": ".py",
   "mimetype": "text/x-python",
   "name": "python",
   "nbconvert_exporter": "python",
   "pygments_lexer": "ipython3",
   "version": "3.6.12"
  }
 },
 "nbformat": 4,
 "nbformat_minor": 4
}
