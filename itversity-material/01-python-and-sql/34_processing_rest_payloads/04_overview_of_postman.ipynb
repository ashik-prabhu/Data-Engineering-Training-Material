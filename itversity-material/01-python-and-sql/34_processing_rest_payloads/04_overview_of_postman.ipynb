{
 "cells": [
  {
   "cell_type": "markdown",
   "id": "ac5d2547",
   "metadata": {},
   "source": [
    "## Overview of Postman\n",
    "\n",
    "**Postman** is the most popular way of exploring REST APIs with out getting into programming nuances. Let us get an overview of **postman**.\n",
    "* You can use postman via browser, however we recommend to download and install the client utility.\n",
    "* Here are the some of the key features related to Postman.\n",
    "  * It is a freemium product, and provide lot of features at no cost.\n",
    "  * Grouping related APIs to collections.\n",
    "  * Passing values dynamically using variables. Variables can be global or collection level.\n",
    "  * Ability to see the direct curl command as well as examples using standard programming languages.\n",
    "  * Ability to automate the execution.\n",
    "* Here is an example of making `GET` call via `requests` module using Python as programming language."
   ]
  },
  {
   "cell_type": "code",
   "execution_count": null,
   "id": "ed5387d4",
   "metadata": {},
   "outputs": [],
   "source": [
    "import requests\n",
    "\n",
    "url = \"https://api.github.com/users/dgadiraju/repos\"\n",
    "\n",
    "payload={}\n",
    "headers = {}\n",
    "\n",
    "response = requests.request(\"GET\", url, headers=headers, data=payload)\n",
    "\n",
    "print(response.text)"
   ]
  },
  {
   "cell_type": "code",
   "execution_count": null,
   "id": "ca0ce57c",
   "metadata": {},
   "outputs": [],
   "source": []
  }
 ],
 "metadata": {
  "kernelspec": {
   "display_name": "Python 3",
   "language": "python",
   "name": "python3"
  },
  "language_info": {
   "codemirror_mode": {
    "name": "ipython",
    "version": 3
   },
   "file_extension": ".py",
   "mimetype": "text/x-python",
   "name": "python",
   "nbconvert_exporter": "python",
   "pygments_lexer": "ipython3",
   "version": "3.6.12"
  }
 },
 "nbformat": 4,
 "nbformat_minor": 5
}
