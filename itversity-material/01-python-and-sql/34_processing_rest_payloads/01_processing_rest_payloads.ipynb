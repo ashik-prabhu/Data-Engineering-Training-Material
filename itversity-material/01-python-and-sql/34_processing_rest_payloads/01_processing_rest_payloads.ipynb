{
 "cells": [
  {
   "cell_type": "markdown",
   "id": "b591261d",
   "metadata": {},
   "source": [
    "## Processing REST Payloads\n",
    "\n",
    "As part of this section or module, we will go through the details related to Processing REST Payloads using Python.\n",
    "\n",
    "* Overview of REST APIs\n",
    "* Using curl command\n",
    "* Overview of Postman\n",
    "* Getting Started with requests\n",
    "* Convert REST Payload to Python Objects\n",
    "* Process REST Payload using Collection Operations\n",
    "* Process REST Payload using Pandas\n",
    "* Exercise - REST Payload to DB Table"
   ]
  },
  {
   "cell_type": "code",
   "execution_count": null,
   "id": "e7cfb412",
   "metadata": {},
   "outputs": [],
   "source": []
  }
 ],
 "metadata": {
  "kernelspec": {
   "display_name": "Python 3",
   "language": "python",
   "name": "python3"
  },
  "language_info": {
   "codemirror_mode": {
    "name": "ipython",
    "version": 3
   },
   "file_extension": ".py",
   "mimetype": "text/x-python",
   "name": "python",
   "nbconvert_exporter": "python",
   "pygments_lexer": "ipython3",
   "version": "3.6.12"
  }
 },
 "nbformat": 4,
 "nbformat_minor": 5
}
