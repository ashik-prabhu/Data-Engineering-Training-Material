{
 "cells": [
  {
   "cell_type": "markdown",
   "metadata": {},
   "source": [
    "# Creating Tables and Indexes\n",
    "\n",
    "Let us go through the details related to creating tables and indexes. We will also talk about how columns, constraints etc while going through the details related to tables and indexes.\n",
    "\n",
    "* DDL - Data Definition Language\n",
    "* Overview of Data Types\n",
    "* Adding or Modifying Columns\n",
    "* Different Types of Constraints\n",
    "* Managing Constraints\n",
    "* Indexes on Tables\n",
    "* Indexes for Constraints\n",
    "* Overview of Sequences\n",
    "* Truncating Tables\n",
    "* Dropping Tables\n",
    "* Exercise - Managing Database Objects\n",
    "\n",
    "Here are the key objectives of this section:\n",
    "* How to create and manage tables?\n",
    "* Get in depth understanding about columns and commonly used data types\n",
    "* What are different types of constraints and how they are managed?\n",
    "* What are indexes and how they are relevant to Prmary Key, Unique and Foreign Key constraints?\n",
    "* What is a Sequence and how sequences are used to populate Surrogate Keys?\n",
    "* Self evaluate whether one understood all the key aspects of managing tables and constraints."
   ]
  },
  {
   "cell_type": "code",
   "execution_count": null,
   "metadata": {},
   "outputs": [],
   "source": []
  }
 ],
 "metadata": {
  "kernelspec": {
   "display_name": "Python 3",
   "language": "python",
   "name": "python3"
  },
  "language_info": {
   "codemirror_mode": {
    "name": "ipython",
    "version": 3
   },
   "file_extension": ".py",
   "mimetype": "text/x-python",
   "name": "python",
   "nbconvert_exporter": "python",
   "pygments_lexer": "ipython3",
   "version": "3.6.12"
  }
 },
 "nbformat": 4,
 "nbformat_minor": 4
}
