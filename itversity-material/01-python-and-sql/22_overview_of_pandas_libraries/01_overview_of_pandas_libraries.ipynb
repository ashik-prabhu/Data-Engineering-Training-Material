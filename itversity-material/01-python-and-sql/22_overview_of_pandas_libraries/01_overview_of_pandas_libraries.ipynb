{
 "cells": [
  {
   "cell_type": "markdown",
   "metadata": {
    "pycharm": {
     "name": "#%% md"
    }
   },
   "source": [
    "# Overview of Pandas Libraries\n",
    "\n",
    "Pandas is one of the most popular libraries. It is extensively used for data processing as part of ETL, Data Engineering, and Data Science projects. As part of this section or module let's get an overview of Pandas Libaries.\n",
    "\n",
    "* Pandas Data Structures – Overview\n",
    "* Overview of Series\n",
    "* Creating Data Frames from lists\n",
    "* Data Frames - Basic Operations\n",
    "* CSV to Pandas Data Frame\n",
    "* Projecting and Filtering\n",
    "* Performing Total Aggregations\n",
    "* Performing Grouped Aggregations\n",
    "* Writing Data Frames to Files\n",
    "* Joining Data Frames"
   ]
  },
  {
   "cell_type": "code",
   "execution_count": null,
   "metadata": {},
   "outputs": [],
   "source": []
  }
 ],
 "metadata": {
  "kernelspec": {
   "display_name": "Python 3",
   "language": "python",
   "name": "python3"
  },
  "language_info": {
   "codemirror_mode": {
    "name": "ipython",
    "version": 3
   },
   "file_extension": ".py",
   "mimetype": "text/x-python",
   "name": "python",
   "nbconvert_exporter": "python",
   "pygments_lexer": "ipython3",
   "version": "3.6.12"
  }
 },
 "nbformat": 4,
 "nbformat_minor": 4
}
