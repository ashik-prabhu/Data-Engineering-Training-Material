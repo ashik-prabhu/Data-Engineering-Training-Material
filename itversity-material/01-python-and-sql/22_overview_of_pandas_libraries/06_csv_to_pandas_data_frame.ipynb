{
 "cells": [
  {
   "cell_type": "markdown",
   "metadata": {},
   "source": [
    "## CSV to Pandas Data Frame\n",
    "\n",
    "Let us see how we can create **Pandas Data Frames** using data from files. `read_csv` is the most popular API to create a Data Frame by reading data from files.\n",
    "* Here are some of the important options.\n",
    "  * sep or delimiter\n",
    "  * header or names\n",
    "  * index_col\n",
    "  * dtype\n",
    "  * and many more\n",
    "* We have several other APIs which will facilitate us to create Data Frame\n",
    "  * read_fwf\n",
    "  * read_table\n",
    "  * pandas.io.json\n",
    "  * and more\n",
    "* Here is how we can create a Data Frame for orders dataset.\n",
    "  * Delimiter in our data is **,** which is default for Pandas `read_csv`.\n",
    "  * There is no Header and hence we have to set keyword argument `header` to None.\n",
    "  * We can pass the column names as a list using keyword argument `columns`.\n",
    "  * Data types of each column are typically inferred based on the data, however we can explicitly specify Data Types using `dtype`.\n",
    "  \n",
    "```{note}\n",
    "We will be running this notebook from other notebooks to create orders and order_items data frames while exploring Pandas libraries. \n",
    "\n",
    "Make sure you comment out all the informational lines, so that output is not printed when we invoke this notebook from other notebooks.\n",
    "```"
   ]
  },
  {
   "cell_type": "code",
   "execution_count": 2,
   "metadata": {},
   "outputs": [],
   "source": [
    "import pandas as pd"
   ]
  },
  {
   "cell_type": "code",
   "execution_count": 3,
   "metadata": {},
   "outputs": [],
   "source": [
    "# pd.read_csv?"
   ]
  },
  {
   "cell_type": "code",
   "execution_count": 4,
   "metadata": {},
   "outputs": [],
   "source": [
    "%%sh\n",
    "\n",
    "# ls -ltr /data/retail_db/orders/part-00000"
   ]
  },
  {
   "cell_type": "code",
   "execution_count": 5,
   "metadata": {},
   "outputs": [],
   "source": [
    "%%sh\n",
    "\n",
    "# tail /data/retail_db/orders/part-00000"
   ]
  },
  {
   "cell_type": "code",
   "execution_count": 6,
   "metadata": {},
   "outputs": [],
   "source": [
    "%%sh\n",
    "\n",
    "# head /data/retail_db/orders/part-00000"
   ]
  },
  {
   "cell_type": "code",
   "execution_count": 7,
   "metadata": {},
   "outputs": [],
   "source": [
    "orders_path = \"/data/retail_db/orders/part-00000\""
   ]
  },
  {
   "cell_type": "code",
   "execution_count": 8,
   "metadata": {},
   "outputs": [],
   "source": [
    "orders_schema = [\n",
    "    \"order_id\",\n",
    "    \"order_date\",\n",
    "    \"order_customer_id\",\n",
    "    \"order_status\"\n",
    "]"
   ]
  },
  {
   "cell_type": "code",
   "execution_count": 9,
   "metadata": {},
   "outputs": [],
   "source": [
    "orders = pd.read_csv(orders_path,\n",
    "                     delimiter=',',\n",
    "                     header=None,\n",
    "                     names=orders_schema\n",
    "                    )"
   ]
  },
  {
   "cell_type": "code",
   "execution_count": 10,
   "metadata": {},
   "outputs": [],
   "source": [
    " #orders"
   ]
  },
  {
   "cell_type": "code",
   "execution_count": 11,
   "metadata": {},
   "outputs": [],
   "source": [
    "# orders.head(10)"
   ]
  },
  {
   "cell_type": "code",
   "execution_count": 12,
   "metadata": {},
   "outputs": [],
   "source": [
    "order_items_path = \"/data/retail_db/order_items/part-00000\""
   ]
  },
  {
   "cell_type": "code",
   "execution_count": 13,
   "metadata": {},
   "outputs": [],
   "source": [
    "%%sh\n",
    "\n",
    "# ls -ltr /data/retail_db/order_items/part-00000"
   ]
  },
  {
   "cell_type": "code",
   "execution_count": 14,
   "metadata": {},
   "outputs": [],
   "source": [
    "%%sh\n",
    "\n",
    "# tail /data/retail_db/order_items/part-00000"
   ]
  },
  {
   "cell_type": "code",
   "execution_count": 15,
   "metadata": {},
   "outputs": [],
   "source": [
    "%%sh\n",
    "\n",
    "# head /data/retail_db/order_items/part-00000"
   ]
  },
  {
   "cell_type": "code",
   "execution_count": 16,
   "metadata": {},
   "outputs": [],
   "source": [
    "order_items_schema = [\n",
    "    \"order_item_id\",\n",
    "    \"order_item_order_id\",\n",
    "    \"order_item_product_id\",\n",
    "    \"order_item_quantity\",\n",
    "    \"order_item_subtotal\",\n",
    "    \"order_item_product_price\"\n",
    "]"
   ]
  },
  {
   "cell_type": "code",
   "execution_count": 17,
   "metadata": {},
   "outputs": [],
   "source": [
    "order_items = pd.read_csv(order_items_path,\n",
    "                     delimiter=',',\n",
    "                     header=None,\n",
    "                     names=order_items_schema\n",
    "                    )"
   ]
  },
  {
   "cell_type": "code",
   "execution_count": 18,
   "metadata": {},
   "outputs": [
    {
     "data": {
      "text/plain": [
       "order_item_id                 int64\n",
       "order_item_order_id           int64\n",
       "order_item_product_id         int64\n",
       "order_item_quantity           int64\n",
       "order_item_subtotal         float64\n",
       "order_item_product_price    float64\n",
       "dtype: object"
      ]
     },
     "execution_count": 18,
     "metadata": {},
     "output_type": "execute_result"
    }
   ],
   "source": [
    "order_items.dtypes\n"
   ]
  },
  {
   "cell_type": "code",
   "execution_count": 19,
   "metadata": {},
   "outputs": [
    {
     "data": {
      "text/html": [
       "<div>\n",
       "<style scoped>\n",
       "    .dataframe tbody tr th:only-of-type {\n",
       "        vertical-align: middle;\n",
       "    }\n",
       "\n",
       "    .dataframe tbody tr th {\n",
       "        vertical-align: top;\n",
       "    }\n",
       "\n",
       "    .dataframe thead th {\n",
       "        text-align: right;\n",
       "    }\n",
       "</style>\n",
       "<table border=\"1\" class=\"dataframe\">\n",
       "  <thead>\n",
       "    <tr style=\"text-align: right;\">\n",
       "      <th></th>\n",
       "      <th>order_item_id</th>\n",
       "      <th>order_item_order_id</th>\n",
       "      <th>order_item_product_id</th>\n",
       "      <th>order_item_quantity</th>\n",
       "      <th>order_item_subtotal</th>\n",
       "      <th>order_item_product_price</th>\n",
       "    </tr>\n",
       "  </thead>\n",
       "  <tbody>\n",
       "    <tr>\n",
       "      <th>0</th>\n",
       "      <td>1</td>\n",
       "      <td>1</td>\n",
       "      <td>957</td>\n",
       "      <td>1</td>\n",
       "      <td>299.98</td>\n",
       "      <td>299.98</td>\n",
       "    </tr>\n",
       "    <tr>\n",
       "      <th>1</th>\n",
       "      <td>2</td>\n",
       "      <td>2</td>\n",
       "      <td>1073</td>\n",
       "      <td>1</td>\n",
       "      <td>199.99</td>\n",
       "      <td>199.99</td>\n",
       "    </tr>\n",
       "    <tr>\n",
       "      <th>2</th>\n",
       "      <td>3</td>\n",
       "      <td>2</td>\n",
       "      <td>502</td>\n",
       "      <td>5</td>\n",
       "      <td>250.00</td>\n",
       "      <td>50.00</td>\n",
       "    </tr>\n",
       "    <tr>\n",
       "      <th>3</th>\n",
       "      <td>4</td>\n",
       "      <td>2</td>\n",
       "      <td>403</td>\n",
       "      <td>1</td>\n",
       "      <td>129.99</td>\n",
       "      <td>129.99</td>\n",
       "    </tr>\n",
       "    <tr>\n",
       "      <th>4</th>\n",
       "      <td>5</td>\n",
       "      <td>4</td>\n",
       "      <td>897</td>\n",
       "      <td>2</td>\n",
       "      <td>49.98</td>\n",
       "      <td>24.99</td>\n",
       "    </tr>\n",
       "    <tr>\n",
       "      <th>5</th>\n",
       "      <td>6</td>\n",
       "      <td>4</td>\n",
       "      <td>365</td>\n",
       "      <td>5</td>\n",
       "      <td>299.95</td>\n",
       "      <td>59.99</td>\n",
       "    </tr>\n",
       "    <tr>\n",
       "      <th>6</th>\n",
       "      <td>7</td>\n",
       "      <td>4</td>\n",
       "      <td>502</td>\n",
       "      <td>3</td>\n",
       "      <td>150.00</td>\n",
       "      <td>50.00</td>\n",
       "    </tr>\n",
       "    <tr>\n",
       "      <th>7</th>\n",
       "      <td>8</td>\n",
       "      <td>4</td>\n",
       "      <td>1014</td>\n",
       "      <td>4</td>\n",
       "      <td>199.92</td>\n",
       "      <td>49.98</td>\n",
       "    </tr>\n",
       "    <tr>\n",
       "      <th>8</th>\n",
       "      <td>9</td>\n",
       "      <td>5</td>\n",
       "      <td>957</td>\n",
       "      <td>1</td>\n",
       "      <td>299.98</td>\n",
       "      <td>299.98</td>\n",
       "    </tr>\n",
       "    <tr>\n",
       "      <th>9</th>\n",
       "      <td>10</td>\n",
       "      <td>5</td>\n",
       "      <td>365</td>\n",
       "      <td>5</td>\n",
       "      <td>299.95</td>\n",
       "      <td>59.99</td>\n",
       "    </tr>\n",
       "  </tbody>\n",
       "</table>\n",
       "</div>"
      ],
      "text/plain": [
       "   order_item_id  order_item_order_id  order_item_product_id  \\\n",
       "0              1                    1                    957   \n",
       "1              2                    2                   1073   \n",
       "2              3                    2                    502   \n",
       "3              4                    2                    403   \n",
       "4              5                    4                    897   \n",
       "5              6                    4                    365   \n",
       "6              7                    4                    502   \n",
       "7              8                    4                   1014   \n",
       "8              9                    5                    957   \n",
       "9             10                    5                    365   \n",
       "\n",
       "   order_item_quantity  order_item_subtotal  order_item_product_price  \n",
       "0                    1               299.98                    299.98  \n",
       "1                    1               199.99                    199.99  \n",
       "2                    5               250.00                     50.00  \n",
       "3                    1               129.99                    129.99  \n",
       "4                    2                49.98                     24.99  \n",
       "5                    5               299.95                     59.99  \n",
       "6                    3               150.00                     50.00  \n",
       "7                    4               199.92                     49.98  \n",
       "8                    1               299.98                    299.98  \n",
       "9                    5               299.95                     59.99  "
      ]
     },
     "execution_count": 19,
     "metadata": {},
     "output_type": "execute_result"
    }
   ],
   "source": [
    " order_items.head(10)"
   ]
  },
  {
   "cell_type": "code",
   "execution_count": null,
   "metadata": {},
   "outputs": [],
   "source": []
  }
 ],
 "metadata": {
  "kernelspec": {
   "display_name": "Python 3",
   "language": "python",
   "name": "python3"
  },
  "language_info": {
   "codemirror_mode": {
    "name": "ipython",
    "version": 3
   },
   "file_extension": ".py",
   "mimetype": "text/x-python",
   "name": "python",
   "nbconvert_exporter": "python",
   "pygments_lexer": "ipython3",
   "version": "3.6.12"
  }
 },
 "nbformat": 4,
 "nbformat_minor": 4
}
