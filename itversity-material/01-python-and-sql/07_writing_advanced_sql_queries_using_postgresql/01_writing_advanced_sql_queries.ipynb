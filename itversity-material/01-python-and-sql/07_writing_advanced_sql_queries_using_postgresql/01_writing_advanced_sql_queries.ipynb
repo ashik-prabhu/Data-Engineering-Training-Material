{
 "cells": [
  {
   "cell_type": "markdown",
   "metadata": {},
   "source": [
    "# Writing Advanced SQL Queries\n",
    "\n",
    "As part of this section we will understand how to write queries using some of the advanced features.\n",
    "\n",
    "* Overview of Views\n",
    "* Overview of Sub Queries\n",
    "* CTAS - Create Table As Select\n",
    "* Advanced DML Operations\n",
    "* Merging or Upserting Data\n",
    "* Pivoting Rows into Columns\n",
    "* Overview of Analytic Functions\n",
    "* Analytic Functions – Aggregations\n",
    "* Cumulative Aggregations\n",
    "* Analytic Functions – Windowing\n",
    "* Analytic Functions – Ranking\n",
    "* Getting Top 5 Daily Products\n",
    "* Exercises - Analytic Functions"
   ]
  },
  {
   "cell_type": "code",
   "execution_count": null,
   "metadata": {},
   "outputs": [],
   "source": []
  }
 ],
 "metadata": {
  "kernelspec": {
   "display_name": "Python 3",
   "language": "python",
   "name": "python3"
  },
  "language_info": {
   "codemirror_mode": {
    "name": "ipython",
    "version": 3
   },
   "file_extension": ".py",
   "mimetype": "text/x-python",
   "name": "python",
   "nbconvert_exporter": "python",
   "pygments_lexer": "ipython3",
   "version": "3.6.12"
  }
 },
 "nbformat": 4,
 "nbformat_minor": 4
}
