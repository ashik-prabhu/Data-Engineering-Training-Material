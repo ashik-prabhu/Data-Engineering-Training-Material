{
 "cells": [
  {
   "cell_type": "markdown",
   "id": "d7371ce7",
   "metadata": {},
   "source": [
    "## Overview of Retail Data\n",
    "\n",
    "We will be using data from hypothetical retail application. Let us get an overview about the data sets.\n",
    "* We typically setup data under `/data/retail_db`\n",
    "* There are 6 folders by following names.\n",
    "  * departments\n",
    "  * categories\n",
    "  * products\n",
    "  * customers\n",
    "  * orders\n",
    "  * order_items"
   ]
  },
  {
   "cell_type": "code",
   "execution_count": 1,
   "id": "15f08b13",
   "metadata": {},
   "outputs": [
    {
     "name": "stdout",
     "output_type": "stream",
     "text": [
      "total 20156\n",
      "-rw-r--r-- 1 root root      806 Jan 21  2021 README.md\n",
      "drwxr-xr-x 2 root root     4096 Jan 21  2021 products\n",
      "drwxr-xr-x 2 root root     4096 Jan 21  2021 orders\n",
      "drwxr-xr-x 2 root root     4096 Jan 21  2021 order_items\n",
      "-rw-r--r-- 1 root root 10297372 Jan 21  2021 load_db_tables_pg.sql\n",
      "drwxr-xr-x 2 root root     4096 Jan 21  2021 departments\n",
      "drwxr-xr-x 2 root root     4096 Jan 21  2021 customers\n",
      "-rw-r--r-- 1 root root     1748 Jan 21  2021 create_db_tables_pg.sql\n",
      "-rw-r--r-- 1 root root 10303297 Jan 21  2021 create_db.sql\n",
      "drwxr-xr-x 2 root root     4096 Jan 21  2021 categories\n"
     ]
    }
   ],
   "source": [
    "!ls -ltr /data/retail_db"
   ]
  },
  {
   "cell_type": "code",
   "execution_count": 2,
   "id": "00668133",
   "metadata": {},
   "outputs": [
    {
     "name": "stdout",
     "output_type": "stream",
     "text": [
      "/data/retail_db/products:\n",
      "total 172\n",
      "-rw-r--r-- 1 root root 174155 Jan 21  2021 part-00000\n",
      "\n",
      "/data/retail_db/orders:\n",
      "total 2932\n",
      "-rw-r--r-- 1 root root 2999944 Jan 21  2021 part-00000\n",
      "\n",
      "/data/retail_db/order_items:\n",
      "total 5284\n",
      "-rw-r--r-- 1 root root 5408880 Jan 21  2021 part-00000\n",
      "\n",
      "/data/retail_db/departments:\n",
      "total 4\n",
      "-rw-r--r-- 1 root root 60 Jan 21  2021 part-00000\n",
      "\n",
      "/data/retail_db/customers:\n",
      "total 932\n",
      "-rw-r--r-- 1 root root 953719 Jan 21  2021 part-00000\n",
      "\n",
      "/data/retail_db/categories:\n",
      "total 4\n",
      "-rw-r--r-- 1 root root 1029 Jan 21  2021 part-00000\n"
     ]
    }
   ],
   "source": [
    "!ls -ltr /data/retail_db/departments \\\n",
    "    /data/retail_db/categories \\\n",
    "    /data/retail_db/products \\\n",
    "    /data/retail_db/customers \\\n",
    "    /data/retail_db/orders \\\n",
    "    /data/retail_db/order_items"
   ]
  },
  {
   "cell_type": "markdown",
   "id": "8db46e0b",
   "metadata": {},
   "source": [
    "* All of them have files with name `part-00000`.\n",
    "* You can check the type of the file by using `file` command. Typically, we see the extensions such as `txt`, `csv`, `tsv` as part of the file names. Extensions are only informational."
   ]
  },
  {
   "cell_type": "code",
   "execution_count": 3,
   "id": "9405b118",
   "metadata": {},
   "outputs": [
    {
     "name": "stdout",
     "output_type": "stream",
     "text": [
      "/data/retail_db/orders/part-00000: ASCII text\n"
     ]
    }
   ],
   "source": [
    "!file /data/retail_db/orders/part-00000"
   ]
  },
  {
   "cell_type": "markdown",
   "id": "30d23ce7",
   "metadata": {},
   "source": [
    "* As the file type is **text**, we can use commands such as `cat`, `head`, `tail` to preview the data.\n",
    "  * `head` is typically used to see first few lines. It helps us to validate whether files have headers or not.\n",
    "  * `tail` is typically used to see last few lines.\n",
    "  * `cat` is used to see the contents of the entire file.\n",
    "  * We typically use `head` or `tail` to preview the data in large files.\n",
    "* Run `head` or `tail` command on one of the files to see how the data is organized."
   ]
  },
  {
   "cell_type": "code",
   "execution_count": null,
   "id": "bb57b806",
   "metadata": {},
   "outputs": [],
   "source": [
    "!tail -5 /data/retail_db/orders/part-00000"
   ]
  },
  {
   "cell_type": "markdown",
   "id": "b4aed3e8",
   "metadata": {},
   "source": [
    "* You can run `wc -l` command to see number of lines in the file."
   ]
  },
  {
   "cell_type": "code",
   "execution_count": null,
   "id": "bcbc9bac",
   "metadata": {},
   "outputs": [],
   "source": [
    "!wc -l /data/retail_db/orders/part-00000"
   ]
  },
  {
   "cell_type": "markdown",
   "id": "d9747da9",
   "metadata": {},
   "source": [
    "Now let us understand the characteristics of the data.\n",
    "* We have 68883 lines in the file. \n",
    "* Each line have comma separated values. They are related to 4 different fields related to orders.\n",
    "* These lines are also called as records. As the attribute values in each record are delimited or separated by comma, they are known as comma separated values.\n",
    "* As the file `/data/retail_db/orders/part-00000` contain comma separated values, the file is known as csv.\n",
    "* All the files are text files which contain csv records. They are also known as csv files.\n",
    "* When we use Python libraries to perform I/O on these files, we can read these files using text format."
   ]
  }
 ],
 "metadata": {
  "kernelspec": {
   "display_name": "Python 3",
   "language": "python",
   "name": "python3"
  },
  "language_info": {
   "codemirror_mode": {
    "name": "ipython",
    "version": 3
   },
   "file_extension": ".py",
   "mimetype": "text/x-python",
   "name": "python",
   "nbconvert_exporter": "python",
   "pygments_lexer": "ipython3",
   "version": "3.6.12"
  }
 },
 "nbformat": 4,
 "nbformat_minor": 5
}
