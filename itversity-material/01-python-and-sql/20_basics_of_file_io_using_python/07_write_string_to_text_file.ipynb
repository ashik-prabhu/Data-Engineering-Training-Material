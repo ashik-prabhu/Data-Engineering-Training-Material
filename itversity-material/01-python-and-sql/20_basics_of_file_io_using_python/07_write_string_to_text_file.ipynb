{
 "cells": [
  {
   "cell_type": "markdown",
   "id": "da02b74d",
   "metadata": {},
   "source": [
    "## Write string to text file\n",
    "\n",
    "Let us understand how to write string to the text file. Here are the steps involved to write string to text file.\n",
    "* Make sure the target directory is available and the user have write permissions.\n",
    "* You need to have a string object to write into the file using default mode. The default mode is text or `t`.\n",
    "* The file object should be created in write mode using `open` function.\n",
    "* You can use `write` on file object to write the content into the file.\n",
    "* We need to make sure that file object is closed to reflect the data in the file. Until we close, we will not be able to read the contents of the file."
   ]
  },
  {
   "cell_type": "code",
   "execution_count": 1,
   "id": "6dfe6293",
   "metadata": {},
   "outputs": [],
   "source": [
    "# Create folder to write the data to for practice.\n",
    "!mkdir -p data"
   ]
  },
  {
   "cell_type": "code",
   "execution_count": 2,
   "id": "84c19eb1",
   "metadata": {},
   "outputs": [
    {
     "name": "stdout",
     "output_type": "stream",
     "text": [
      "drwxr-xr-x 2 itv002461 students  4096 Apr  6 01:18 data\n",
      "-rw-r--r-- 1 itv002461 students  5854 Apr 26 07:08 05_overview_of_retail_data.ipynb\n"
     ]
    }
   ],
   "source": [
    "# We will use data folder in the current directory\n",
    "# As we have created the folder, we will typically have write permissions on it\n",
    "!ls -ltr|grep data"
   ]
  },
  {
   "cell_type": "code",
   "execution_count": 3,
   "id": "e7697fcd",
   "metadata": {},
   "outputs": [
    {
     "name": "stdout",
     "output_type": "stream",
     "text": [
      "total 20\n",
      "-rw-r--r-- 1 itv002461 students 41 Apr  6 01:18 sample_data.txt\n",
      "-rw-r--r-- 1 itv002461 students 27 Apr  6 01:18 overwrite.txt\n",
      "-rw-r--r-- 1 itv002461 students 27 Apr  6 01:18 new_file.txt\n",
      "-rw-r--r-- 1 itv002461 students 59 Apr  6 01:18 departments.txt\n",
      "-rw-r--r-- 1 itv002461 students 54 Apr  6 01:18 append.txt\n"
     ]
    }
   ],
   "source": [
    "# Check if the files exists\n",
    "!ls -ltr data"
   ]
  },
  {
   "cell_type": "code",
   "execution_count": 4,
   "id": "61851cff",
   "metadata": {},
   "outputs": [],
   "source": [
    "# You can also validate whether you are able to create files or not using touch command\n",
    "!touch data/validating_write_permissions"
   ]
  },
  {
   "cell_type": "code",
   "execution_count": 5,
   "id": "de50b267",
   "metadata": {},
   "outputs": [
    {
     "name": "stdout",
     "output_type": "stream",
     "text": [
      "total 20\n",
      "-rw-r--r-- 1 itv002461 students 41 Apr  6 01:18 sample_data.txt\n",
      "-rw-r--r-- 1 itv002461 students 27 Apr  6 01:18 overwrite.txt\n",
      "-rw-r--r-- 1 itv002461 students 27 Apr  6 01:18 new_file.txt\n",
      "-rw-r--r-- 1 itv002461 students 59 Apr  6 01:18 departments.txt\n",
      "-rw-r--r-- 1 itv002461 students 54 Apr  6 01:18 append.txt\n",
      "-rw-r--r-- 1 itv002461 students  0 Apr 26 07:17 validating_write_permissions\n"
     ]
    }
   ],
   "source": [
    "!ls -ltr data"
   ]
  },
  {
   "cell_type": "code",
   "execution_count": 6,
   "id": "2d252acb",
   "metadata": {},
   "outputs": [],
   "source": [
    "!rm data/validating_write_permissions"
   ]
  },
  {
   "cell_type": "code",
   "execution_count": 7,
   "id": "621104b0",
   "metadata": {},
   "outputs": [
    {
     "name": "stdout",
     "output_type": "stream",
     "text": [
      "total 20\n",
      "-rw-r--r-- 1 itv002461 students 41 Apr  6 01:18 sample_data.txt\n",
      "-rw-r--r-- 1 itv002461 students 27 Apr  6 01:18 overwrite.txt\n",
      "-rw-r--r-- 1 itv002461 students 27 Apr  6 01:18 new_file.txt\n",
      "-rw-r--r-- 1 itv002461 students 59 Apr  6 01:18 departments.txt\n",
      "-rw-r--r-- 1 itv002461 students 54 Apr  6 01:18 append.txt\n"
     ]
    }
   ],
   "source": [
    "!ls -ltr data"
   ]
  },
  {
   "cell_type": "code",
   "execution_count": 8,
   "id": "232c454d",
   "metadata": {},
   "outputs": [],
   "source": [
    "!rm data/sample_data.txt"
   ]
  },
  {
   "cell_type": "code",
   "execution_count": 9,
   "id": "44c47644",
   "metadata": {},
   "outputs": [],
   "source": [
    "content = 'Sample Text which will be written to file'"
   ]
  },
  {
   "cell_type": "code",
   "execution_count": 10,
   "id": "44e156bc",
   "metadata": {},
   "outputs": [
    {
     "data": {
      "text/plain": [
       "str"
      ]
     },
     "execution_count": 10,
     "metadata": {},
     "output_type": "execute_result"
    }
   ],
   "source": [
    "type(content)"
   ]
  },
  {
   "cell_type": "code",
   "execution_count": 11,
   "id": "46e12060",
   "metadata": {},
   "outputs": [],
   "source": [
    "# Now let us create the file object in write mode\n",
    "# The default file format or mode is text\n",
    "file = open('data/sample_data.txt', 'w')"
   ]
  },
  {
   "cell_type": "code",
   "execution_count": 12,
   "id": "50d3d5ee",
   "metadata": {},
   "outputs": [
    {
     "data": {
      "text/plain": [
       "\u001b[0;31mSignature:\u001b[0m \u001b[0mfile\u001b[0m\u001b[0;34m.\u001b[0m\u001b[0mwrite\u001b[0m\u001b[0;34m(\u001b[0m\u001b[0mtext\u001b[0m\u001b[0;34m,\u001b[0m \u001b[0;34m/\u001b[0m\u001b[0;34m)\u001b[0m\u001b[0;34m\u001b[0m\u001b[0;34m\u001b[0m\u001b[0m\n",
       "\u001b[0;31mDocstring:\u001b[0m\n",
       "Write string to stream.\n",
       "Returns the number of characters written (which is always equal to\n",
       "the length of the string).\n",
       "\u001b[0;31mType:\u001b[0m      builtin_function_or_method\n"
      ]
     },
     "metadata": {},
     "output_type": "display_data"
    }
   ],
   "source": [
    "file.write?"
   ]
  },
  {
   "cell_type": "code",
   "execution_count": 13,
   "id": "47e45a46",
   "metadata": {},
   "outputs": [
    {
     "data": {
      "text/plain": [
       "41"
      ]
     },
     "execution_count": 13,
     "metadata": {},
     "output_type": "execute_result"
    }
   ],
   "source": [
    "# Returns the size of the file\n",
    "# By default the contents of the file will be overwritten if the file already exists\n",
    "file.write(content)"
   ]
  },
  {
   "cell_type": "code",
   "execution_count": 14,
   "id": "8e93306a",
   "metadata": {},
   "outputs": [],
   "source": [
    "file.close()"
   ]
  },
  {
   "cell_type": "code",
   "execution_count": 15,
   "id": "c5e9a66d",
   "metadata": {},
   "outputs": [
    {
     "name": "stdout",
     "output_type": "stream",
     "text": [
      "Sample Text which will be written to file"
     ]
    }
   ],
   "source": [
    "!cat data/sample_data.txt"
   ]
  },
  {
   "cell_type": "code",
   "execution_count": null,
   "id": "67ee1dc0",
   "metadata": {},
   "outputs": [],
   "source": []
  }
 ],
 "metadata": {
  "kernelspec": {
   "display_name": "Python 3",
   "language": "python",
   "name": "python3"
  },
  "language_info": {
   "codemirror_mode": {
    "name": "ipython",
    "version": 3
   },
   "file_extension": ".py",
   "mimetype": "text/x-python",
   "name": "python",
   "nbconvert_exporter": "python",
   "pygments_lexer": "ipython3",
   "version": "3.6.12"
  }
 },
 "nbformat": 4,
 "nbformat_minor": 5
}
