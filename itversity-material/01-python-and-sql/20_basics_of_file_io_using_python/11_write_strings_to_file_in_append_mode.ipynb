{
 "cells": [
  {
   "cell_type": "markdown",
   "id": "aa35c033",
   "metadata": {},
   "source": [
    "## Write strings to file in append mode\n",
    "\n",
    "Let us see how we can write multiple strings from a list to file in append mode.\n",
    "* We cannot write the list of strings into file properly all at once."
   ]
  },
  {
   "cell_type": "code",
   "execution_count": 1,
   "id": "4e771a68",
   "metadata": {},
   "outputs": [],
   "source": [
    "departments = [\n",
    "    '2,Fitness', \n",
    "    '3,Footwear', \n",
    "    '4,Apparel', \n",
    "    '5,Golf', \n",
    "    '6,Outdoors', \n",
    "    '7,Fan Shop'\n",
    "]"
   ]
  },
  {
   "cell_type": "code",
   "execution_count": 2,
   "id": "503fa472",
   "metadata": {},
   "outputs": [],
   "source": [
    "file = open('data/departments.txt', 'w')"
   ]
  },
  {
   "cell_type": "code",
   "execution_count": 3,
   "id": "f40009f6",
   "metadata": {},
   "outputs": [
    {
     "ename": "TypeError",
     "evalue": "write() argument must be str, not list",
     "output_type": "error",
     "traceback": [
      "\u001b[0;31m---------------------------------------------------------------------------\u001b[0m",
      "\u001b[0;31mTypeError\u001b[0m                                 Traceback (most recent call last)",
      "\u001b[0;32m<ipython-input-3-b1a55425097e>\u001b[0m in \u001b[0;36m<module>\u001b[0;34m\u001b[0m\n\u001b[0;32m----> 1\u001b[0;31m \u001b[0mfile\u001b[0m\u001b[0;34m.\u001b[0m\u001b[0mwrite\u001b[0m\u001b[0;34m(\u001b[0m\u001b[0mdepartments\u001b[0m\u001b[0;34m)\u001b[0m \u001b[0;31m# Fails\u001b[0m\u001b[0;34m\u001b[0m\u001b[0;34m\u001b[0m\u001b[0m\n\u001b[0m",
      "\u001b[0;31mTypeError\u001b[0m: write() argument must be str, not list"
     ]
    }
   ],
   "source": [
    "file.write(departments) # Fails"
   ]
  },
  {
   "cell_type": "code",
   "execution_count": null,
   "id": "4333a252",
   "metadata": {},
   "outputs": [],
   "source": [
    "file.close()"
   ]
  },
  {
   "cell_type": "markdown",
   "id": "638dc008",
   "metadata": {},
   "source": [
    "Here are the steps involved in writing list of strings in the form of CSV to a file.\n",
    "* Make sure that data in the list contains delimited strings.\n",
    "* Open the file in append mode.\n",
    "* Iterate through the list and write one element at a time into the file.\n",
    "* Close the file.\n",
    "\n",
    "Make sure to validate whether data is written properly or not in the file."
   ]
  },
  {
   "cell_type": "code",
   "execution_count": 4,
   "id": "53453a75",
   "metadata": {},
   "outputs": [],
   "source": [
    "departments = [\n",
    "    '2,Fitness', \n",
    "    '3,Footwear', \n",
    "    '4,Apparel', \n",
    "    '5,Golf', \n",
    "    '6,Outdoors', \n",
    "    '7,Fan Shop'\n",
    "]"
   ]
  },
  {
   "cell_type": "code",
   "execution_count": 5,
   "id": "d5a48648",
   "metadata": {},
   "outputs": [],
   "source": [
    "file = open('data/departments.txt', 'a')"
   ]
  },
  {
   "cell_type": "code",
   "execution_count": 6,
   "id": "ae181686",
   "metadata": {},
   "outputs": [],
   "source": [
    "for department in departments:\n",
    "    file.write(department)"
   ]
  },
  {
   "cell_type": "code",
   "execution_count": 7,
   "id": "f20bf500",
   "metadata": {},
   "outputs": [],
   "source": [
    "file.close()"
   ]
  },
  {
   "cell_type": "code",
   "execution_count": 8,
   "id": "b20e9048",
   "metadata": {},
   "outputs": [
    {
     "name": "stdout",
     "output_type": "stream",
     "text": [
      "-rw-r--r-- 1 itv002461 students 54 Apr 26 07:39 data/departments.txt\n"
     ]
    }
   ],
   "source": [
    "!ls -ltr data/departments.txt"
   ]
  },
  {
   "cell_type": "code",
   "execution_count": 9,
   "id": "5d90f317",
   "metadata": {},
   "outputs": [
    {
     "name": "stdout",
     "output_type": "stream",
     "text": [
      "2,Fitness3,Footwear4,Apparel5,Golf6,Outdoors7,Fan Shop"
     ]
    }
   ],
   "source": [
    "!cat data/departments.txt # No new line characters"
   ]
  },
  {
   "cell_type": "code",
   "execution_count": 10,
   "id": "560886cd",
   "metadata": {},
   "outputs": [],
   "source": [
    "!rm data/departments.txt"
   ]
  },
  {
   "cell_type": "code",
   "execution_count": 11,
   "id": "f71d116b",
   "metadata": {},
   "outputs": [],
   "source": [
    "departments = [\n",
    "    '2,Fitness', \n",
    "    '3,Footwear', \n",
    "    '4,Apparel', \n",
    "    '5,Golf', \n",
    "    '6,Outdoors', \n",
    "    '7,Fan Shop'\n",
    "]"
   ]
  },
  {
   "cell_type": "code",
   "execution_count": 12,
   "id": "db969bcc",
   "metadata": {},
   "outputs": [],
   "source": [
    "file = open('data/departments.txt', 'a')"
   ]
  },
  {
   "cell_type": "code",
   "execution_count": 13,
   "id": "901ec36f",
   "metadata": {},
   "outputs": [],
   "source": [
    "for department in departments:\n",
    "    file.write(f'{department}\\n')"
   ]
  },
  {
   "cell_type": "code",
   "execution_count": 14,
   "id": "55df6ab8",
   "metadata": {},
   "outputs": [],
   "source": [
    "file.close()"
   ]
  },
  {
   "cell_type": "code",
   "execution_count": 15,
   "id": "3e505878",
   "metadata": {},
   "outputs": [
    {
     "name": "stdout",
     "output_type": "stream",
     "text": [
      "-rw-r--r-- 1 itv002461 students 60 Apr 26 07:39 data/departments.txt\n"
     ]
    }
   ],
   "source": [
    "!ls -ltr data/departments.txt"
   ]
  },
  {
   "cell_type": "code",
   "execution_count": 16,
   "id": "31ab3d5c",
   "metadata": {},
   "outputs": [
    {
     "name": "stdout",
     "output_type": "stream",
     "text": [
      "2,Fitness\n",
      "3,Footwear\n",
      "4,Apparel\n",
      "5,Golf\n",
      "6,Outdoors\n",
      "7,Fan Shop\n"
     ]
    }
   ],
   "source": [
    "!cat data/departments.txt # With new line characters"
   ]
  },
  {
   "cell_type": "code",
   "execution_count": 18,
   "id": "e46509d8",
   "metadata": {},
   "outputs": [
    {
     "name": "stdout",
     "output_type": "stream",
     "text": [
      "6 data/departments.txt\n"
     ]
    }
   ],
   "source": [
    "!wc -l data/departments.txt"
   ]
  },
  {
   "cell_type": "markdown",
   "id": "94286949",
   "metadata": {},
   "source": [
    "* You can also build one big string and write into the file in one shot. However you need to ensure that the line delimiter is placed between the elements."
   ]
  },
  {
   "cell_type": "code",
   "execution_count": 19,
   "id": "dd93e988",
   "metadata": {},
   "outputs": [],
   "source": [
    "!rm data/departments.txt"
   ]
  },
  {
   "cell_type": "code",
   "execution_count": 20,
   "id": "ead5c60f",
   "metadata": {},
   "outputs": [],
   "source": [
    "departments = [\n",
    "    '2,Fitness', \n",
    "    '3,Footwear', \n",
    "    '4,Apparel', \n",
    "    '5,Golf', \n",
    "    '6,Outdoors', \n",
    "    '7,Fan Shop'\n",
    "]"
   ]
  },
  {
   "cell_type": "code",
   "execution_count": 19,
   "id": "cf147910",
   "metadata": {},
   "outputs": [],
   "source": [
    "data = '\\n'.join(departments)"
   ]
  },
  {
   "cell_type": "code",
   "execution_count": 20,
   "id": "006b11ae",
   "metadata": {},
   "outputs": [
    {
     "data": {
      "text/plain": [
       "str"
      ]
     },
     "execution_count": 20,
     "metadata": {},
     "output_type": "execute_result"
    }
   ],
   "source": [
    "type(data)"
   ]
  },
  {
   "cell_type": "code",
   "execution_count": 21,
   "id": "c3d2f016",
   "metadata": {},
   "outputs": [
    {
     "data": {
      "text/plain": [
       "'2,Fitness\\n3,Footwear\\n4,Apparel\\n5,Golf\\n6,Outdoors\\n7,Fan Shop'"
      ]
     },
     "execution_count": 21,
     "metadata": {},
     "output_type": "execute_result"
    }
   ],
   "source": [
    "data"
   ]
  },
  {
   "cell_type": "code",
   "execution_count": 22,
   "id": "a3793abb",
   "metadata": {},
   "outputs": [],
   "source": [
    "file = open('data/departments.txt', 'a')"
   ]
  },
  {
   "cell_type": "code",
   "execution_count": 23,
   "id": "63429e05",
   "metadata": {},
   "outputs": [
    {
     "data": {
      "text/plain": [
       "59"
      ]
     },
     "execution_count": 23,
     "metadata": {},
     "output_type": "execute_result"
    }
   ],
   "source": [
    "file.write(data)"
   ]
  },
  {
   "cell_type": "code",
   "execution_count": 24,
   "id": "23c96471",
   "metadata": {},
   "outputs": [],
   "source": [
    "file.close()"
   ]
  },
  {
   "cell_type": "code",
   "execution_count": 25,
   "id": "1338bf5d",
   "metadata": {},
   "outputs": [
    {
     "name": "stdout",
     "output_type": "stream",
     "text": [
      "-rw-r--r-- 1 itv002461 students 119 Apr 26 07:40 data/departments.txt\n"
     ]
    }
   ],
   "source": [
    "!ls -ltr data/departments.txt"
   ]
  },
  {
   "cell_type": "code",
   "execution_count": 26,
   "id": "85a76c36",
   "metadata": {},
   "outputs": [
    {
     "name": "stdout",
     "output_type": "stream",
     "text": [
      "2,Fitness\n",
      "3,Footwear\n",
      "4,Apparel\n",
      "5,Golf\n",
      "6,Outdoors\n",
      "7,Fan Shop\n",
      "2,Fitness\n",
      "3,Footwear\n",
      "4,Apparel\n",
      "5,Golf\n",
      "6,Outdoors\n",
      "7,Fan Shop"
     ]
    }
   ],
   "source": [
    "!cat data/departments.txt # With new line characters"
   ]
  },
  {
   "cell_type": "code",
   "execution_count": 27,
   "id": "a8b88808",
   "metadata": {},
   "outputs": [
    {
     "name": "stdout",
     "output_type": "stream",
     "text": [
      "11 data/departments.txt\n"
     ]
    }
   ],
   "source": [
    "!wc -l data/departments.txt"
   ]
  },
  {
   "cell_type": "code",
   "execution_count": null,
   "id": "311d2d99",
   "metadata": {},
   "outputs": [],
   "source": []
  }
 ],
 "metadata": {
  "kernelspec": {
   "display_name": "Python 3",
   "language": "python",
   "name": "python3"
  },
  "language_info": {
   "codemirror_mode": {
    "name": "ipython",
    "version": 3
   },
   "file_extension": ".py",
   "mimetype": "text/x-python",
   "name": "python",
   "nbconvert_exporter": "python",
   "pygments_lexer": "ipython3",
   "version": "3.6.12"
  }
 },
 "nbformat": 4,
 "nbformat_minor": 5
}
