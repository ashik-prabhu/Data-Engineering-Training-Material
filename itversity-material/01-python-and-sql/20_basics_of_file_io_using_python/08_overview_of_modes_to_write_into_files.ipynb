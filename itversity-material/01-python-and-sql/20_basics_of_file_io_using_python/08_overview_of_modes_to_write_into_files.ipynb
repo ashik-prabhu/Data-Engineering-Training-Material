{
 "cells": [
  {
   "cell_type": "markdown",
   "id": "1d52260a",
   "metadata": {},
   "source": [
    "## Overview of modes to write into files\n",
    "\n",
    "Let us go through the details related to the modes that are used to write data into files. Already we have seen `r` which is default as well as `w`. They are meant for read and write respectively.\n",
    "\n",
    "```\n",
    "========= ===============================================================\n",
    "Character Meaning\n",
    "--------- ---------------------------------------------------------------\n",
    "'r'       open for reading (default)\n",
    "'w'       open for writing, truncating the file first\n",
    "'x'       create a new file and open it for writing\n",
    "'a'       open for writing, appending to the end of the file if it exists\n",
    "'b'       binary mode\n",
    "'t'       text mode (default)\n",
    "'+'       open a disk file for updating (reading and writing)\n",
    "'U'       universal newline mode (deprecated)\n",
    "========= ===============================================================\n",
    "```\n",
    "\n",
    "* `r` is used for read and `w`, `a`, `x` are used for write.\n",
    "* We can read or write either in binary or text mode. Unless specified, operations are performed in text mode.\n",
    "* We need to combine `b` with read or write operations to perform read or write in binary mode."
   ]
  },
  {
   "cell_type": "markdown",
   "id": "6d541273",
   "metadata": {},
   "source": [
    "### Overwriting the existing file using w\n",
    "\n",
    "If the file does not exists, it will create otherwise it will overwrite."
   ]
  },
  {
   "cell_type": "code",
   "execution_count": 1,
   "id": "5a025e9e",
   "metadata": {},
   "outputs": [],
   "source": [
    "!rm data/overwrite.txt"
   ]
  },
  {
   "cell_type": "code",
   "execution_count": 2,
   "id": "a7715bb9",
   "metadata": {},
   "outputs": [],
   "source": [
    "file = open('data/overwrite.txt', 'w')"
   ]
  },
  {
   "cell_type": "code",
   "execution_count": 3,
   "id": "f5f22007",
   "metadata": {},
   "outputs": [],
   "source": [
    "data = 'Writing in file - attempt 1'"
   ]
  },
  {
   "cell_type": "code",
   "execution_count": 4,
   "id": "d625e3ae",
   "metadata": {},
   "outputs": [
    {
     "data": {
      "text/plain": [
       "27"
      ]
     },
     "execution_count": 4,
     "metadata": {},
     "output_type": "execute_result"
    }
   ],
   "source": [
    "len(data)"
   ]
  },
  {
   "cell_type": "code",
   "execution_count": 5,
   "id": "b1647b63",
   "metadata": {},
   "outputs": [
    {
     "data": {
      "text/plain": [
       "27"
      ]
     },
     "execution_count": 5,
     "metadata": {},
     "output_type": "execute_result"
    }
   ],
   "source": [
    "file.write(data)"
   ]
  },
  {
   "cell_type": "code",
   "execution_count": 6,
   "id": "5790b0cf",
   "metadata": {},
   "outputs": [],
   "source": [
    "file.close()"
   ]
  },
  {
   "cell_type": "code",
   "execution_count": 7,
   "id": "016f3caf",
   "metadata": {},
   "outputs": [
    {
     "name": "stdout",
     "output_type": "stream",
     "text": [
      "Writing in file - attempt 1"
     ]
    }
   ],
   "source": [
    "!cat data/overwrite.txt"
   ]
  },
  {
   "cell_type": "code",
   "execution_count": 8,
   "id": "fee058a1",
   "metadata": {},
   "outputs": [],
   "source": [
    "file = open('data/overwrite.txt', 'w')"
   ]
  },
  {
   "cell_type": "code",
   "execution_count": 9,
   "id": "834e2676",
   "metadata": {},
   "outputs": [],
   "source": [
    "data = 'Writing in file - attempt 2'"
   ]
  },
  {
   "cell_type": "code",
   "execution_count": 10,
   "id": "e95802e9",
   "metadata": {},
   "outputs": [
    {
     "data": {
      "text/plain": [
       "27"
      ]
     },
     "execution_count": 10,
     "metadata": {},
     "output_type": "execute_result"
    }
   ],
   "source": [
    "file.write(data)"
   ]
  },
  {
   "cell_type": "code",
   "execution_count": 11,
   "id": "f4d142cb",
   "metadata": {},
   "outputs": [],
   "source": [
    "file.close()"
   ]
  },
  {
   "cell_type": "code",
   "execution_count": 12,
   "id": "4046e763",
   "metadata": {},
   "outputs": [
    {
     "name": "stdout",
     "output_type": "stream",
     "text": [
      "Writing in file - attempt 2"
     ]
    }
   ],
   "source": [
    "!cat data/overwrite.txt # Data is overwritten"
   ]
  },
  {
   "cell_type": "markdown",
   "id": "aca0da45",
   "metadata": {},
   "source": [
    "### Appending into existing file using a\n",
    "\n",
    "If the file does not exists, it will create otherwise it will append."
   ]
  },
  {
   "cell_type": "code",
   "execution_count": 13,
   "id": "b1fcd84a",
   "metadata": {},
   "outputs": [],
   "source": [
    "!rm data/append.txt"
   ]
  },
  {
   "cell_type": "code",
   "execution_count": 14,
   "id": "ca95fb35",
   "metadata": {},
   "outputs": [],
   "source": [
    "file = open('data/append.txt', 'a')"
   ]
  },
  {
   "cell_type": "code",
   "execution_count": 15,
   "id": "126a8479",
   "metadata": {},
   "outputs": [],
   "source": [
    "data = 'Writing in file - attempt 1'"
   ]
  },
  {
   "cell_type": "code",
   "execution_count": 16,
   "id": "9313ee5d",
   "metadata": {},
   "outputs": [
    {
     "data": {
      "text/plain": [
       "27"
      ]
     },
     "execution_count": 16,
     "metadata": {},
     "output_type": "execute_result"
    }
   ],
   "source": [
    "file.write(data)"
   ]
  },
  {
   "cell_type": "code",
   "execution_count": 17,
   "id": "250b8973",
   "metadata": {},
   "outputs": [],
   "source": [
    "file.close()"
   ]
  },
  {
   "cell_type": "code",
   "execution_count": 18,
   "id": "8d05914b",
   "metadata": {},
   "outputs": [
    {
     "name": "stdout",
     "output_type": "stream",
     "text": [
      "Writing in file - attempt 1"
     ]
    }
   ],
   "source": [
    "!cat data/append.txt"
   ]
  },
  {
   "cell_type": "code",
   "execution_count": 19,
   "id": "ded4cc34",
   "metadata": {},
   "outputs": [],
   "source": [
    "file = open('data/append.txt', 'a')"
   ]
  },
  {
   "cell_type": "code",
   "execution_count": 20,
   "id": "40f89fb6",
   "metadata": {},
   "outputs": [],
   "source": [
    "data = 'Writing in file - attempt 2'"
   ]
  },
  {
   "cell_type": "code",
   "execution_count": 21,
   "id": "102eea17",
   "metadata": {},
   "outputs": [
    {
     "data": {
      "text/plain": [
       "27"
      ]
     },
     "execution_count": 21,
     "metadata": {},
     "output_type": "execute_result"
    }
   ],
   "source": [
    "file.write(data)"
   ]
  },
  {
   "cell_type": "code",
   "execution_count": 22,
   "id": "8667298d",
   "metadata": {},
   "outputs": [],
   "source": [
    "file.close()"
   ]
  },
  {
   "cell_type": "code",
   "execution_count": 23,
   "id": "39eccc60",
   "metadata": {},
   "outputs": [
    {
     "name": "stdout",
     "output_type": "stream",
     "text": [
      "Writing in file - attempt 1Writing in file - attempt 2"
     ]
    }
   ],
   "source": [
    "!cat data/append.txt # Data is appended"
   ]
  },
  {
   "cell_type": "markdown",
   "id": "98160f57",
   "metadata": {},
   "source": [
    "### Write into file using x\n",
    "\n",
    "If the file already exists, it will fail."
   ]
  },
  {
   "cell_type": "code",
   "execution_count": 24,
   "id": "98d2a478",
   "metadata": {},
   "outputs": [],
   "source": [
    "!rm data/new_file.txt"
   ]
  },
  {
   "cell_type": "code",
   "execution_count": 25,
   "id": "630b8e4f",
   "metadata": {},
   "outputs": [],
   "source": [
    "file = open('data/new_file.txt', 'x')"
   ]
  },
  {
   "cell_type": "code",
   "execution_count": 26,
   "id": "0c1fd9cf",
   "metadata": {},
   "outputs": [],
   "source": [
    "data = 'Writing in file - attempt 1'"
   ]
  },
  {
   "cell_type": "code",
   "execution_count": 27,
   "id": "7f7ea487",
   "metadata": {},
   "outputs": [
    {
     "data": {
      "text/plain": [
       "27"
      ]
     },
     "execution_count": 27,
     "metadata": {},
     "output_type": "execute_result"
    }
   ],
   "source": [
    "file.write(data)"
   ]
  },
  {
   "cell_type": "code",
   "execution_count": 28,
   "id": "5d739466",
   "metadata": {},
   "outputs": [],
   "source": [
    "file.close()"
   ]
  },
  {
   "cell_type": "code",
   "execution_count": 29,
   "id": "1ad383c5",
   "metadata": {},
   "outputs": [
    {
     "name": "stdout",
     "output_type": "stream",
     "text": [
      "Writing in file - attempt 1"
     ]
    }
   ],
   "source": [
    "!cat data/new_file.txt"
   ]
  },
  {
   "cell_type": "code",
   "execution_count": 30,
   "id": "9afd4a63",
   "metadata": {},
   "outputs": [
    {
     "ename": "FileExistsError",
     "evalue": "[Errno 17] File exists: 'data/new_file.txt'",
     "output_type": "error",
     "traceback": [
      "\u001b[0;31m---------------------------------------------------------------------------\u001b[0m",
      "\u001b[0;31mFileExistsError\u001b[0m                           Traceback (most recent call last)",
      "\u001b[0;32m<ipython-input-30-792d3664a7c7>\u001b[0m in \u001b[0;36m<module>\u001b[0;34m\u001b[0m\n\u001b[0;32m----> 1\u001b[0;31m \u001b[0mfile\u001b[0m \u001b[0;34m=\u001b[0m \u001b[0mopen\u001b[0m\u001b[0;34m(\u001b[0m\u001b[0;34m'data/new_file.txt'\u001b[0m\u001b[0;34m,\u001b[0m \u001b[0;34m'x'\u001b[0m\u001b[0;34m)\u001b[0m \u001b[0;31m# Fails, as the file already exists\u001b[0m\u001b[0;34m\u001b[0m\u001b[0;34m\u001b[0m\u001b[0m\n\u001b[0m",
      "\u001b[0;31mFileExistsError\u001b[0m: [Errno 17] File exists: 'data/new_file.txt'"
     ]
    }
   ],
   "source": [
    "file = open('data/new_file.txt', 'x') # Fails, as the file already exists"
   ]
  },
  {
   "cell_type": "code",
   "execution_count": null,
   "id": "dd5fb4da",
   "metadata": {},
   "outputs": [],
   "source": []
  }
 ],
 "metadata": {
  "kernelspec": {
   "display_name": "Python 3",
   "language": "python",
   "name": "python3"
  },
  "language_info": {
   "codemirror_mode": {
    "name": "ipython",
    "version": 3
   },
   "file_extension": ".py",
   "mimetype": "text/x-python",
   "name": "python",
   "nbconvert_exporter": "python",
   "pygments_lexer": "ipython3",
   "version": "3.6.12"
  }
 },
 "nbformat": 4,
 "nbformat_minor": 5
}
