{
 "cells": [
  {
   "cell_type": "markdown",
   "id": "9bbf2c9c",
   "metadata": {},
   "source": [
    "## Basics of File I/O using Python\n",
    "\n",
    "As part of this section or module we will go through some of the basics related to File I/O using Python as programming language.\n",
    "\n",
    "* Overview of File I/O\n",
    "* Folders and Files\n",
    "* File Paths and Names\n",
    "* Overview of Retail Data\n",
    "* Read Text File into String\n",
    "* Write String to Text File\n",
    "* Overview of modes to write into files\n",
    "* Overview of delimited strings\n",
    "* Read CSV into list of strings\n",
    "* Write strings to file in append mode\n",
    "* Managing Files and Folders using Python"
   ]
  },
  {
   "cell_type": "code",
   "execution_count": null,
   "id": "e0caef63",
   "metadata": {},
   "outputs": [],
   "source": []
  }
 ],
 "metadata": {
  "kernelspec": {
   "display_name": "Python 3",
   "language": "python",
   "name": "python3"
  },
  "language_info": {
   "codemirror_mode": {
    "name": "ipython",
    "version": 3
   },
   "file_extension": ".py",
   "mimetype": "text/x-python",
   "name": "python",
   "nbconvert_exporter": "python",
   "pygments_lexer": "ipython3",
   "version": "3.6.12"
  }
 },
 "nbformat": 4,
 "nbformat_minor": 5
}
