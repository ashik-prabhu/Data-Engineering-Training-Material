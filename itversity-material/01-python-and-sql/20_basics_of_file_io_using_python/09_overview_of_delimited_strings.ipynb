{
 "cells": [
  {
   "cell_type": "markdown",
   "id": "51cfe8d3",
   "metadata": {},
   "source": [
    "## Overview of Delimited Strings\n",
    "\n",
    "Let us get an overview of delimited strings. As part of this topic we will primarily deal with Python objects (not the data in the files).\n",
    "* At times, we read the text files and the text files might contain delimited lines.\n",
    "* Also, we might want to read the data from a database or a REST API into the text files. Each line might be delimited records.\n",
    "* In both the scenarios, we deal with strings. The strings typically contain multiple attribute values separated by a delimiter or separator.\n",
    "* Comma separated or delimited string - `1,2013-07-25 00:00:00.0,11599,CLOSED`\n",
    "* Pipe **`|`** separated or delimited string - `1|2013-07-25 00:00:00.0|11599|CLOSED`\n",
    "* Tab separated or delimited string - `1\\t2013-07-25 00:00:00.0\\t11599\\tCLOSED`\n",
    "* Tab is special character. When we open the file, we will not see `\\t`, instead we see some spaces. We will see an example at a later point in time. But we use `\\t` to create tab delimited strings"
   ]
  },
  {
   "cell_type": "code",
   "execution_count": 1,
   "id": "de97eb6e",
   "metadata": {},
   "outputs": [],
   "source": [
    "comma_separated = '1,2013-07-25 00:00:00.0,11599,CLOSED'"
   ]
  },
  {
   "cell_type": "code",
   "execution_count": 2,
   "id": "4bc25555",
   "metadata": {},
   "outputs": [
    {
     "name": "stdout",
     "output_type": "stream",
     "text": [
      "1,2013-07-25 00:00:00.0,11599,CLOSED\n"
     ]
    }
   ],
   "source": [
    "print(comma_separated)"
   ]
  },
  {
   "cell_type": "code",
   "execution_count": 3,
   "id": "d7b945b5",
   "metadata": {},
   "outputs": [
    {
     "data": {
      "text/plain": [
       "str"
      ]
     },
     "execution_count": 3,
     "metadata": {},
     "output_type": "execute_result"
    }
   ],
   "source": [
    "type(comma_separated)"
   ]
  },
  {
   "cell_type": "code",
   "execution_count": 4,
   "id": "b6f53616",
   "metadata": {},
   "outputs": [],
   "source": [
    "pipe_separated = '1|2013-07-25 00:00:00.0|11599|CLOSED'"
   ]
  },
  {
   "cell_type": "code",
   "execution_count": 5,
   "id": "67e11b1f",
   "metadata": {},
   "outputs": [
    {
     "name": "stdout",
     "output_type": "stream",
     "text": [
      "1|2013-07-25 00:00:00.0|11599|CLOSED\n"
     ]
    }
   ],
   "source": [
    "print(pipe_separated)"
   ]
  },
  {
   "cell_type": "code",
   "execution_count": 6,
   "id": "cebd0e0a",
   "metadata": {},
   "outputs": [
    {
     "data": {
      "text/plain": [
       "str"
      ]
     },
     "execution_count": 6,
     "metadata": {},
     "output_type": "execute_result"
    }
   ],
   "source": [
    "type(pipe_separated)"
   ]
  },
  {
   "cell_type": "code",
   "execution_count": 7,
   "id": "0e5f86e7",
   "metadata": {},
   "outputs": [],
   "source": [
    "tab_separated = '1\\t2013-07-25 00:00:00.0\\t11599\\tCLOSED'"
   ]
  },
  {
   "cell_type": "code",
   "execution_count": 8,
   "id": "4b97afcd",
   "metadata": {},
   "outputs": [
    {
     "name": "stdout",
     "output_type": "stream",
     "text": [
      "1\t2013-07-25 00:00:00.0\t11599\tCLOSED\n"
     ]
    }
   ],
   "source": [
    "print(tab_separated)"
   ]
  },
  {
   "cell_type": "code",
   "execution_count": 9,
   "id": "4e382eec",
   "metadata": {},
   "outputs": [
    {
     "data": {
      "text/plain": [
       "str"
      ]
     },
     "execution_count": 9,
     "metadata": {},
     "output_type": "execute_result"
    }
   ],
   "source": [
    "type(tab_separated)"
   ]
  },
  {
   "cell_type": "code",
   "execution_count": null,
   "id": "2adcbf3c",
   "metadata": {},
   "outputs": [],
   "source": []
  }
 ],
 "metadata": {
  "kernelspec": {
   "display_name": "Python 3",
   "language": "python",
   "name": "python3"
  },
  "language_info": {
   "codemirror_mode": {
    "name": "ipython",
    "version": 3
   },
   "file_extension": ".py",
   "mimetype": "text/x-python",
   "name": "python",
   "nbconvert_exporter": "python",
   "pygments_lexer": "ipython3",
   "version": "3.6.12"
  }
 },
 "nbformat": 4,
 "nbformat_minor": 5
}
