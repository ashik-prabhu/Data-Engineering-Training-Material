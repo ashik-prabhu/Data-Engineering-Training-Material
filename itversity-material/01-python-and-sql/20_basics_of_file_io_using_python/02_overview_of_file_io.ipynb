{
 "cells": [
  {
   "cell_type": "markdown",
   "id": "76f860e7",
   "metadata": {},
   "source": [
    "## Overview of File IO\n",
    "\n",
    "Let us get an overview of File IO. Files are typically saved in hard drive and we need to perform file i/o to read the data from the files into memory as objects. Here are the commom operations related to files.\n",
    "* Read the data from the files into objects (typically collections).\n",
    "* Write the data in the collections into files.\n",
    "\n",
    "Here are the common file formats we use for both reading as well as writing.\n",
    "* Text Files\n",
    "* Parquet\n",
    "* Binary\n",
    "\n",
    "Here are some of the common specific file format we use with in text files.\n",
    "* Files with delimited or separated values. The most common delimiter or separator is comma. However, we might even use other delimiters such as pipe, cap (shift + 6), Ascii null, Ascii tab character etc.\n",
    "* JSON Files - we will get into the details about JSON files at a later point in time.\n",
    "\n",
    "```{note}\n",
    "Let us deep dive into how we can perform common File I/O Operations using first class python functions such as `open`, `read`, `write`, etc.\n",
    "```"
   ]
  }
 ],
 "metadata": {
  "kernelspec": {
   "display_name": "Python 3",
   "language": "python",
   "name": "python3"
  },
  "language_info": {
   "codemirror_mode": {
    "name": "ipython",
    "version": 3
   },
   "file_extension": ".py",
   "mimetype": "text/x-python",
   "name": "python",
   "nbconvert_exporter": "python",
   "pygments_lexer": "ipython3",
   "version": "3.6.12"
  }
 },
 "nbformat": 4,
 "nbformat_minor": 5
}
