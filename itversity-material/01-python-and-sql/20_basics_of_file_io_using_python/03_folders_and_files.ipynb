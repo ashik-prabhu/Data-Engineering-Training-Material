{
 "cells": [
  {
   "cell_type": "markdown",
   "id": "968c5d21",
   "metadata": {},
   "source": [
    "## Folders and Files\n",
    "\n",
    "Let us quickly recap details about folders and files, especially using Linux. You need to be comfortable with the following.\n",
    "* Differentiating Files and Folders. Keep in mind that Folders and Directories means the samething.\n",
    "* Understanding Absolute or Fully Qualified Path.\n",
    "* Understanding Relative Path.\n",
    "* Understanding File or Folder permissions."
   ]
  },
  {
   "cell_type": "code",
   "execution_count": 1,
   "id": "7049f565",
   "metadata": {},
   "outputs": [
    {
     "name": "stdout",
     "output_type": "stream",
     "text": [
      "total 92\n",
      "drwxr-xr-x 2 itv002461 students  4096 Apr  6 01:18 data\n",
      "-rw-r--r-- 1 itv002461 students  4730 Apr  6 01:18 12_managing_files_and_folders_using_python.ipynb\n",
      "-rw-r--r-- 1 itv002461 students 10177 Apr  6 01:18 11_write_strings_to_file_in_append_mode.ipynb\n",
      "-rw-r--r-- 1 itv002461 students  5141 Apr  6 01:18 10_read_csv_into_list_of_strings.ipynb\n",
      "-rw-r--r-- 1 itv002461 students  3584 Apr  6 01:18 09_overview_of_delimited_strings.ipynb\n",
      "-rw-r--r-- 1 itv002461 students  8830 Apr  6 01:18 08_overview_of_modes_to_write_into_files.ipynb\n",
      "-rw-r--r-- 1 itv002461 students  4943 Apr  6 01:18 07_write_string_to_text_file.ipynb\n",
      "-rw-r--r-- 1 itv002461 students  4474 Apr  6 01:18 06_read_text_file_into_string.ipynb\n",
      "-rw-r--r-- 1 itv002461 students  4445 Apr  6 01:18 05_overview_of_retail_data.ipynb\n",
      "-rw-r--r-- 1 itv002461 students  2718 Apr  6 01:18 04_file_paths_and_names.ipynb\n",
      "-rw-r--r-- 1 itv002461 students  1307 Apr 26 05:40 01_basics_of_file_io_using_python.ipynb\n",
      "-rw-r--r-- 1 itv002461 students  1686 Apr 26 05:41 02_overview_of_file_io.ipynb\n",
      "-rw-r--r-- 1 itv002461 students  5521 Apr 26 05:51 03_folders_and_files.ipynb\n"
     ]
    }
   ],
   "source": [
    "# Listing files in the present working directory\n",
    "!ls -ltr"
   ]
  },
  {
   "cell_type": "code",
   "execution_count": 2,
   "id": "2f203e8e",
   "metadata": {},
   "outputs": [
    {
     "name": "stdout",
     "output_type": "stream",
     "text": [
      "total 20156\n",
      "-rw-r--r-- 1 root root      806 Jan 21  2021 README.md\n",
      "drwxr-xr-x 2 root root     4096 Jan 21  2021 products\n",
      "drwxr-xr-x 2 root root     4096 Jan 21  2021 orders\n",
      "drwxr-xr-x 2 root root     4096 Jan 21  2021 order_items\n",
      "-rw-r--r-- 1 root root 10297372 Jan 21  2021 load_db_tables_pg.sql\n",
      "drwxr-xr-x 2 root root     4096 Jan 21  2021 departments\n",
      "drwxr-xr-x 2 root root     4096 Jan 21  2021 customers\n",
      "-rw-r--r-- 1 root root     1748 Jan 21  2021 create_db_tables_pg.sql\n",
      "-rw-r--r-- 1 root root 10303297 Jan 21  2021 create_db.sql\n",
      "drwxr-xr-x 2 root root     4096 Jan 21  2021 categories\n"
     ]
    }
   ],
   "source": [
    "# Listing files and folders under /data/retail_db\n",
    "!ls -ltr /data/retail_db"
   ]
  },
  {
   "cell_type": "markdown",
   "id": "6d4c29d8",
   "metadata": {},
   "source": [
    "### Absolute and Relative Paths\n",
    "\n",
    "Let us get into the details related to accessing the files either by using absolute as well as relative paths.\n",
    "* In Linux, absolute path typically starts with `/`. For example the absolute path of `retail_db` which we have used above is `/data/retail_db`.\n",
    "* Now I would like to perform this task to understand about **relative path**. You can access files using relative paths.\n",
    "  * Open Terminal\n",
    "  * Run `cd /data/retail_db`. You are using absolute path of `retail_db` here to change to that directory.\n",
    "  * Run `ls -ltr`. You should see the files and folders. The entries which start with `d` are folders or directories.\n",
    "  * Now run `cd orders`. You are using relative path of orders to get into the folder `/data/retail_db/orders`. As `orders` is the subfolder or subdirectory under `/data/retail_db`, you will be able to get into it with out any issues.\n",
    "  * We can also represent the directory which we are in using `.` and parent directory using `..`.\n",
    "  * If you look at the output of `ls -ltr` which was run earlier, you can see other folders as well along with `orders`. `order_items` is one of them.\n",
    "  * Now you are in `/data/retail_db/orders` and `/data/retail_db` also have `order_items`. You need to run `cd ../order_items` to get into the `order_items` folder using relative path.\n",
    "  * You can also use absolute path from any where any time. For example from any folder you can run `cd /data/retail_db/products` to get into products folder.\n",
    "* Here are the commands for your reference. You can run these using terminal.\n",
    "\n",
    "```shell\n",
    "cd /data/retail_db\n",
    "ls -ltr\n",
    "cd orders # using relative path from /data/retail_db to get into orders\n",
    "pwd\n",
    "cd ../order_items # using relative path from orders to get into order_items\n",
    "pwd\n",
    "cd /data/retail_db/products\n",
    "pwd\n",
    "cd # Switch to home directory\n",
    "pwd\n",
    "cd /data/retail_db/products # We can use absolute path from any location\n",
    "```\n",
    "\n",
    "```{note}\n",
    "You should be really comfortable with terms file, directory, absolute path and relative path by now.\n",
    "```"
   ]
  },
  {
   "cell_type": "code",
   "execution_count": 3,
   "id": "ed0362e0",
   "metadata": {},
   "outputs": [
    {
     "name": "stdout",
     "output_type": "stream",
     "text": [
      "/home/itv002461/data-engineering-spark/itversity-material/01-python-and-sql/20_basics_of_file_io_using_python\n"
     ]
    }
   ],
   "source": [
    "!pwd"
   ]
  },
  {
   "cell_type": "code",
   "execution_count": 4,
   "id": "149f9b50",
   "metadata": {},
   "outputs": [
    {
     "name": "stdout",
     "output_type": "stream",
     "text": [
      "total 92\n",
      "drwxr-xr-x 2 itv002461 students  4096 Apr  6 01:18 data\n",
      "-rw-r--r-- 1 itv002461 students  4730 Apr  6 01:18 12_managing_files_and_folders_using_python.ipynb\n",
      "-rw-r--r-- 1 itv002461 students 10177 Apr  6 01:18 11_write_strings_to_file_in_append_mode.ipynb\n",
      "-rw-r--r-- 1 itv002461 students  5141 Apr  6 01:18 10_read_csv_into_list_of_strings.ipynb\n",
      "-rw-r--r-- 1 itv002461 students  3584 Apr  6 01:18 09_overview_of_delimited_strings.ipynb\n",
      "-rw-r--r-- 1 itv002461 students  8830 Apr  6 01:18 08_overview_of_modes_to_write_into_files.ipynb\n",
      "-rw-r--r-- 1 itv002461 students  4943 Apr  6 01:18 07_write_string_to_text_file.ipynb\n",
      "-rw-r--r-- 1 itv002461 students  4474 Apr  6 01:18 06_read_text_file_into_string.ipynb\n",
      "-rw-r--r-- 1 itv002461 students  4445 Apr  6 01:18 05_overview_of_retail_data.ipynb\n",
      "-rw-r--r-- 1 itv002461 students  2718 Apr  6 01:18 04_file_paths_and_names.ipynb\n",
      "-rw-r--r-- 1 itv002461 students  1307 Apr 26 05:40 01_basics_of_file_io_using_python.ipynb\n",
      "-rw-r--r-- 1 itv002461 students  1686 Apr 26 05:41 02_overview_of_file_io.ipynb\n",
      "-rw-r--r-- 1 itv002461 students  7690 Apr 26 06:35 03_folders_and_files.ipynb\n"
     ]
    }
   ],
   "source": [
    "!ls -ltr"
   ]
  },
  {
   "cell_type": "code",
   "execution_count": 5,
   "id": "760c6124",
   "metadata": {},
   "outputs": [
    {
     "name": "stdout",
     "output_type": "stream",
     "text": [
      "total 4\n",
      "drwxr-xr-x 9 itv002461 students 4096 Apr  6 01:18 data-engineering-spark\n"
     ]
    }
   ],
   "source": [
    "# Listing files in the home directory. ~ represents home directory. It is a key on the keyboard.\n",
    "# You can find the ~ key on the left side of 1 in most of the keyboards.\n",
    "!ls -ltr ~"
   ]
  },
  {
   "cell_type": "markdown",
   "id": "1cb8747d",
   "metadata": {},
   "source": [
    "* The lines which start with `d` represents folders or directories.\n",
    "* The lines which start with `-` represents files.\n",
    "\n",
    "Let us go through the one sample in detail and understand what they actually mean.\n",
    "```shell\n",
    "drwxr-xr-x  5 itversity itversity  4096 Jul 13 07:21 itversity-material\n",
    "```\n",
    "* `drwxr-xr-x` - Permissions of the file or folder. \n",
    "* `5` - ignore for now\n",
    "* First `itversity` - Owner\n",
    "* Second `itversity` - Group\n",
    "* `4096` - Size of file or folder\n",
    "* `Jul 13 07:21` - Last modified time\n",
    "* `itversity-material` - File name or folder name\n",
    "* `rwx` after `d` tells that `itversity` who is owner over this file or folder have `read`, `write` and `execute` permissions.\n",
    "* I am currently logged in as `itversity` and hence I will be able to perform `read`, `write` and `execute` operations on the directory `itversity-material`."
   ]
  },
  {
   "cell_type": "code",
   "execution_count": null,
   "id": "fb32cd27",
   "metadata": {},
   "outputs": [],
   "source": []
  }
 ],
 "metadata": {
  "kernelspec": {
   "display_name": "Python 3",
   "language": "python",
   "name": "python3"
  },
  "language_info": {
   "codemirror_mode": {
    "name": "ipython",
    "version": 3
   },
   "file_extension": ".py",
   "mimetype": "text/x-python",
   "name": "python",
   "nbconvert_exporter": "python",
   "pygments_lexer": "ipython3",
   "version": "3.6.12"
  }
 },
 "nbformat": 4,
 "nbformat_minor": 5
}
