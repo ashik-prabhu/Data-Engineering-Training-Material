{
 "cells": [
  {
   "cell_type": "markdown",
   "id": "9f907561",
   "metadata": {},
   "source": [
    "## Read csv into list of strings\n",
    "\n",
    "Let us read csv data into list of strings. First let us go through the steps involved in reading csv data into list of strings.\n",
    "* Create file object using `open` in read mode.\n",
    "* Invoke `read` function to read the contents in the file into memory.\n",
    "* `csv` files typically contains multiple lines where each line have multiple attribute values. Values related to different attributes in each line are typically delimited or separated.\n",
    "* Lines (also known as records) are typically delimited or separated by new line character. We can use `splitlines` on the output of `read` function to create list of strings.\n",
    "\n",
    "```{note}\n",
    "Even though CSV stands for comma separated values, we often find the data separated by other separators or delimiters than comma. Tab character (\\t), Pipe Character (|) are also commonly used. They are also known as tsv and psv sometimes.\n",
    "```"
   ]
  },
  {
   "cell_type": "code",
   "execution_count": 1,
   "id": "5912dff0",
   "metadata": {},
   "outputs": [
    {
     "name": "stdout",
     "output_type": "stream",
     "text": [
      "total 4\n",
      "-rw-r--r-- 1 root root 1029 Jan 21  2021 part-00000\n"
     ]
    }
   ],
   "source": [
    "!ls -ltr /data/retail_db/categories/"
   ]
  },
  {
   "cell_type": "code",
   "execution_count": 2,
   "id": "c6093663",
   "metadata": {},
   "outputs": [
    {
     "name": "stdout",
     "output_type": "stream",
     "text": [
      "1,2,Football\n",
      "2,2,Soccer\n",
      "3,2,Baseball & Softball\n",
      "4,2,Basketball\n",
      "5,2,Lacrosse\n",
      "6,2,Tennis & Racquet\n",
      "7,2,Hockey\n",
      "8,2,More Sports\n",
      "9,3,Cardio Equipment\n",
      "10,3,Strength Training\n",
      "11,3,Fitness Accessories\n",
      "12,3,Boxing & MMA\n",
      "13,3,Electronics\n",
      "14,3,Yoga & Pilates\n",
      "15,3,Training by Sport\n",
      "16,3,As Seen on  TV!\n",
      "17,4,Cleats\n",
      "18,4,Men's Footwear\n",
      "19,4,Women's Footwear\n",
      "20,4,Kids' Footwear\n",
      "21,4,Featured Shops\n",
      "22,4,Accessories\n",
      "23,5,Men's Apparel\n",
      "24,5,Women's Apparel\n",
      "25,5,Boys' Apparel\n",
      "26,5,Girls' Apparel\n",
      "27,5,Accessories\n",
      "28,5,Top Brands\n",
      "29,5,Shop By Sport\n",
      "30,6,Men's Golf Clubs\n",
      "31,6,Women's Golf Clubs\n",
      "32,6,Golf Apparel\n",
      "33,6,Golf Shoes\n",
      "34,6,Golf Bags & Carts\n",
      "35,6,Golf Gloves\n",
      "36,6,Golf Balls\n",
      "37,6,Electronics\n",
      "38,6,Kids' Golf Clubs\n",
      "39,6,Team Shop\n",
      "40,6,Accessories\n",
      "41,6,Trade-In\n",
      "42,7,Bike & Skate Shop\n",
      "43,7,Camping & Hiking\n",
      "44,7,Hunting & Shooting\n",
      "45,7,Fishing\n",
      "46,7,Indoor/Outdoor Games\n",
      "47,7,Boating\n",
      "48,7,Water Sports\n",
      "49,8,MLB\n",
      "50,8,NFL\n",
      "51,8,NHL\n",
      "52,8,NBA\n",
      "53,8,NCAA\n",
      "54,8,MLS\n",
      "55,8,International Soccer\n",
      "56,8,World Cup Shop\n",
      "57,8,MLB Players\n",
      "58,8,NFL Players\n"
     ]
    }
   ],
   "source": [
    "!cat /data/retail_db/categories/part-00000 # Viewing file contents using Linux commands"
   ]
  },
  {
   "cell_type": "code",
   "execution_count": 3,
   "id": "dc97ed46",
   "metadata": {},
   "outputs": [],
   "source": [
    "# Create file object\n",
    "file = open('/data/retail_db/categories/part-00000')"
   ]
  },
  {
   "cell_type": "code",
   "execution_count": 4,
   "id": "bc616d5c",
   "metadata": {},
   "outputs": [],
   "source": [
    "# Read file contents into the memory\n",
    "data = file.read()"
   ]
  },
  {
   "cell_type": "code",
   "execution_count": 5,
   "id": "1e9e4193",
   "metadata": {},
   "outputs": [
    {
     "data": {
      "text/plain": [
       "str"
      ]
     },
     "execution_count": 5,
     "metadata": {},
     "output_type": "execute_result"
    }
   ],
   "source": [
    "type(data)"
   ]
  },
  {
   "cell_type": "code",
   "execution_count": 6,
   "id": "4b114a72",
   "metadata": {},
   "outputs": [
    {
     "data": {
      "text/plain": [
       "\"1,2,Football\\n2,2,Soccer\\n3,2,Baseball & Softball\\n4,2,Basketball\\n5,2,Lacrosse\\n6,2,Tennis & Racquet\\n7,2,Hockey\\n8,2,More Sports\\n9,3,Cardio Equipment\\n10,3,Strength Training\\n11,3,Fitness Accessories\\n12,3,Boxing & MMA\\n13,3,Electronics\\n14,3,Yoga & Pilates\\n15,3,Training by Sport\\n16,3,As Seen on  TV!\\n17,4,Cleats\\n18,4,Men's Footwear\\n19,4,Women's Footwear\\n20,4,Kids' Footwear\\n21,4,Featured Shops\\n22,4,Accessories\\n23,5,Men's Apparel\\n24,5,Women's Apparel\\n25,5,Boys' Apparel\\n26,5,Girls' Apparel\\n27,5,Accessories\\n28,5,Top Brands\\n29,5,Shop By Sport\\n30,6,Men's Golf Clubs\\n31,6,Women's Golf Clubs\\n32,6,Golf Apparel\\n33,6,Golf Shoes\\n34,6,Golf Bags & Carts\\n35,6,Golf Gloves\\n36,6,Golf Balls\\n37,6,Electronics\\n38,6,Kids' Golf Clubs\\n39,6,Team Shop\\n40,6,Accessories\\n41,6,Trade-In\\n42,7,Bike & Skate Shop\\n43,7,Camping & Hiking\\n44,7,Hunting & Shooting\\n45,7,Fishing\\n46,7,Indoor/Outdoor Games\\n47,7,Boating\\n48,7,Water Sports\\n49,8,MLB\\n50,8,NFL\\n51,8,NHL\\n52,8,NBA\\n53,8,NCAA\\n54,8,MLS\\n55,8,International Soccer\\n56,8,World Cup Shop\\n57,8,MLB Players\\n58,8,NFL Players\\n\""
      ]
     },
     "execution_count": 6,
     "metadata": {},
     "output_type": "execute_result"
    }
   ],
   "source": [
    "data # One big string. You can find new line characters in between"
   ]
  },
  {
   "cell_type": "code",
   "execution_count": 7,
   "id": "a26dc27c",
   "metadata": {},
   "outputs": [],
   "source": [
    "# Create list of strings (each line in the file will be element in a string)\n",
    "categories = data.split('\\n')"
   ]
  },
  {
   "cell_type": "code",
   "execution_count": 8,
   "id": "13b84d43",
   "metadata": {},
   "outputs": [
    {
     "data": {
      "text/plain": [
       "list"
      ]
     },
     "execution_count": 8,
     "metadata": {},
     "output_type": "execute_result"
    }
   ],
   "source": [
    "type(categories)"
   ]
  },
  {
   "cell_type": "code",
   "execution_count": 9,
   "id": "5d0721d2",
   "metadata": {},
   "outputs": [
    {
     "data": {
      "text/plain": [
       "['1,2,Football',\n",
       " '2,2,Soccer',\n",
       " '3,2,Baseball & Softball',\n",
       " '4,2,Basketball',\n",
       " '5,2,Lacrosse',\n",
       " '6,2,Tennis & Racquet',\n",
       " '7,2,Hockey',\n",
       " '8,2,More Sports',\n",
       " '9,3,Cardio Equipment',\n",
       " '10,3,Strength Training',\n",
       " '11,3,Fitness Accessories',\n",
       " '12,3,Boxing & MMA',\n",
       " '13,3,Electronics',\n",
       " '14,3,Yoga & Pilates',\n",
       " '15,3,Training by Sport',\n",
       " '16,3,As Seen on  TV!',\n",
       " '17,4,Cleats',\n",
       " \"18,4,Men's Footwear\",\n",
       " \"19,4,Women's Footwear\",\n",
       " \"20,4,Kids' Footwear\",\n",
       " '21,4,Featured Shops',\n",
       " '22,4,Accessories',\n",
       " \"23,5,Men's Apparel\",\n",
       " \"24,5,Women's Apparel\",\n",
       " \"25,5,Boys' Apparel\",\n",
       " \"26,5,Girls' Apparel\",\n",
       " '27,5,Accessories',\n",
       " '28,5,Top Brands',\n",
       " '29,5,Shop By Sport',\n",
       " \"30,6,Men's Golf Clubs\",\n",
       " \"31,6,Women's Golf Clubs\",\n",
       " '32,6,Golf Apparel',\n",
       " '33,6,Golf Shoes',\n",
       " '34,6,Golf Bags & Carts',\n",
       " '35,6,Golf Gloves',\n",
       " '36,6,Golf Balls',\n",
       " '37,6,Electronics',\n",
       " \"38,6,Kids' Golf Clubs\",\n",
       " '39,6,Team Shop',\n",
       " '40,6,Accessories',\n",
       " '41,6,Trade-In',\n",
       " '42,7,Bike & Skate Shop',\n",
       " '43,7,Camping & Hiking',\n",
       " '44,7,Hunting & Shooting',\n",
       " '45,7,Fishing',\n",
       " '46,7,Indoor/Outdoor Games',\n",
       " '47,7,Boating',\n",
       " '48,7,Water Sports',\n",
       " '49,8,MLB',\n",
       " '50,8,NFL',\n",
       " '51,8,NHL',\n",
       " '52,8,NBA',\n",
       " '53,8,NCAA',\n",
       " '54,8,MLS',\n",
       " '55,8,International Soccer',\n",
       " '56,8,World Cup Shop',\n",
       " '57,8,MLB Players',\n",
       " '58,8,NFL Players',\n",
       " '']"
      ]
     },
     "execution_count": 9,
     "metadata": {},
     "output_type": "execute_result"
    }
   ],
   "source": [
    "categories \n",
    "# Data in the file /data/retail_db/categories/part-00000 is now in a list\n",
    "# Each element in the list is a line in the file"
   ]
  },
  {
   "cell_type": "code",
   "execution_count": 10,
   "id": "a46b3837",
   "metadata": {},
   "outputs": [
    {
     "name": "stdout",
     "output_type": "stream",
     "text": [
      "58 /data/retail_db/categories/part-00000\n"
     ]
    }
   ],
   "source": [
    "!wc -l /data/retail_db/categories/part-00000"
   ]
  },
  {
   "cell_type": "code",
   "execution_count": 11,
   "id": "a09200fd",
   "metadata": {},
   "outputs": [
    {
     "data": {
      "text/plain": [
       "59"
      ]
     },
     "execution_count": 11,
     "metadata": {},
     "output_type": "execute_result"
    }
   ],
   "source": [
    "len(categories)"
   ]
  },
  {
   "cell_type": "code",
   "execution_count": 12,
   "id": "c926adec",
   "metadata": {},
   "outputs": [],
   "source": [
    "# Same thing can be achieved using splitlines\n",
    "categories = data.splitlines()"
   ]
  },
  {
   "cell_type": "code",
   "execution_count": 13,
   "id": "1851f68f",
   "metadata": {},
   "outputs": [
    {
     "data": {
      "text/plain": [
       "['1,2,Football',\n",
       " '2,2,Soccer',\n",
       " '3,2,Baseball & Softball',\n",
       " '4,2,Basketball',\n",
       " '5,2,Lacrosse',\n",
       " '6,2,Tennis & Racquet',\n",
       " '7,2,Hockey',\n",
       " '8,2,More Sports',\n",
       " '9,3,Cardio Equipment',\n",
       " '10,3,Strength Training',\n",
       " '11,3,Fitness Accessories',\n",
       " '12,3,Boxing & MMA',\n",
       " '13,3,Electronics',\n",
       " '14,3,Yoga & Pilates',\n",
       " '15,3,Training by Sport',\n",
       " '16,3,As Seen on  TV!',\n",
       " '17,4,Cleats',\n",
       " \"18,4,Men's Footwear\",\n",
       " \"19,4,Women's Footwear\",\n",
       " \"20,4,Kids' Footwear\",\n",
       " '21,4,Featured Shops',\n",
       " '22,4,Accessories',\n",
       " \"23,5,Men's Apparel\",\n",
       " \"24,5,Women's Apparel\",\n",
       " \"25,5,Boys' Apparel\",\n",
       " \"26,5,Girls' Apparel\",\n",
       " '27,5,Accessories',\n",
       " '28,5,Top Brands',\n",
       " '29,5,Shop By Sport',\n",
       " \"30,6,Men's Golf Clubs\",\n",
       " \"31,6,Women's Golf Clubs\",\n",
       " '32,6,Golf Apparel',\n",
       " '33,6,Golf Shoes',\n",
       " '34,6,Golf Bags & Carts',\n",
       " '35,6,Golf Gloves',\n",
       " '36,6,Golf Balls',\n",
       " '37,6,Electronics',\n",
       " \"38,6,Kids' Golf Clubs\",\n",
       " '39,6,Team Shop',\n",
       " '40,6,Accessories',\n",
       " '41,6,Trade-In',\n",
       " '42,7,Bike & Skate Shop',\n",
       " '43,7,Camping & Hiking',\n",
       " '44,7,Hunting & Shooting',\n",
       " '45,7,Fishing',\n",
       " '46,7,Indoor/Outdoor Games',\n",
       " '47,7,Boating',\n",
       " '48,7,Water Sports',\n",
       " '49,8,MLB',\n",
       " '50,8,NFL',\n",
       " '51,8,NHL',\n",
       " '52,8,NBA',\n",
       " '53,8,NCAA',\n",
       " '54,8,MLS',\n",
       " '55,8,International Soccer',\n",
       " '56,8,World Cup Shop',\n",
       " '57,8,MLB Players',\n",
       " '58,8,NFL Players']"
      ]
     },
     "execution_count": 13,
     "metadata": {},
     "output_type": "execute_result"
    }
   ],
   "source": [
    "categories"
   ]
  },
  {
   "cell_type": "code",
   "execution_count": 14,
   "id": "a08fc9d3",
   "metadata": {},
   "outputs": [
    {
     "name": "stdout",
     "output_type": "stream",
     "text": [
      "58 /data/retail_db/categories/part-00000\n"
     ]
    }
   ],
   "source": [
    "!wc -l /data/retail_db/categories/part-00000"
   ]
  },
  {
   "cell_type": "code",
   "execution_count": 15,
   "id": "28aceee7",
   "metadata": {},
   "outputs": [
    {
     "data": {
      "text/plain": [
       "58"
      ]
     },
     "execution_count": 15,
     "metadata": {},
     "output_type": "execute_result"
    }
   ],
   "source": [
    "len(categories)"
   ]
  },
  {
   "cell_type": "code",
   "execution_count": null,
   "id": "f100d790",
   "metadata": {},
   "outputs": [],
   "source": []
  }
 ],
 "metadata": {
  "kernelspec": {
   "display_name": "Python 3",
   "language": "python",
   "name": "python3"
  },
  "language_info": {
   "codemirror_mode": {
    "name": "ipython",
    "version": 3
   },
   "file_extension": ".py",
   "mimetype": "text/x-python",
   "name": "python",
   "nbconvert_exporter": "python",
   "pygments_lexer": "ipython3",
   "version": "3.6.12"
  }
 },
 "nbformat": 4,
 "nbformat_minor": 5
}
