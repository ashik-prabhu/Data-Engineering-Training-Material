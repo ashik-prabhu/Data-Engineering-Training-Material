{
 "cells": [
  {
   "cell_type": "markdown",
   "id": "52218690",
   "metadata": {},
   "source": [
    "## File Paths and Names\n",
    "\n",
    "Let us quickly review about file paths and names. Typically, we will have folder and file name associated while processing a file.\n",
    "* A file might be part of a directory structure with multiple levels.\n",
    "* All the directories in the path are typically separated by `/`.\n",
    "* The last part of path is typically the name of a file or the name of a folder which contain multiple files.\n",
    "* For first class Python functions, we typically pass a file and hence last part will be the name of the file. We pass these names as strings."
   ]
  },
  {
   "cell_type": "code",
   "execution_count": 1,
   "id": "2675887a",
   "metadata": {},
   "outputs": [
    {
     "name": "stdout",
     "output_type": "stream",
     "text": [
      "total 20156\n",
      "-rw-r--r-- 1 root root      806 Jan 21  2021 README.md\n",
      "drwxr-xr-x 2 root root     4096 Jan 21  2021 products\n",
      "drwxr-xr-x 2 root root     4096 Jan 21  2021 orders\n",
      "drwxr-xr-x 2 root root     4096 Jan 21  2021 order_items\n",
      "-rw-r--r-- 1 root root 10297372 Jan 21  2021 load_db_tables_pg.sql\n",
      "drwxr-xr-x 2 root root     4096 Jan 21  2021 departments\n",
      "drwxr-xr-x 2 root root     4096 Jan 21  2021 customers\n",
      "-rw-r--r-- 1 root root     1748 Jan 21  2021 create_db_tables_pg.sql\n",
      "-rw-r--r-- 1 root root 10303297 Jan 21  2021 create_db.sql\n",
      "drwxr-xr-x 2 root root     4096 Jan 21  2021 categories\n"
     ]
    }
   ],
   "source": [
    "!ls -ltr /data/retail_db # Folder which contain multiple folders and files"
   ]
  },
  {
   "cell_type": "code",
   "execution_count": 2,
   "id": "6d4ca69b",
   "metadata": {},
   "outputs": [
    {
     "name": "stdout",
     "output_type": "stream",
     "text": [
      "total 2932\n",
      "-rw-r--r-- 1 root root 2999944 Jan 21  2021 part-00000\n"
     ]
    }
   ],
   "source": [
    "!ls -ltr /data/retail_db/orders\n",
    "# The folder contains files related to orders data set\n",
    "# As of now we have only one file"
   ]
  },
  {
   "cell_type": "code",
   "execution_count": 3,
   "id": "03b6f845",
   "metadata": {},
   "outputs": [
    {
     "name": "stdout",
     "output_type": "stream",
     "text": [
      "-rw-r--r-- 1 root root 2999944 Jan 21  2021 /data/retail_db/orders/part-00000\n"
     ]
    }
   ],
   "source": [
    "!ls -ltr /data/retail_db/orders/part-00000\n",
    "# You can see that the directories in the hierarchy are separated by /\n",
    "# The last part is a file"
   ]
  },
  {
   "cell_type": "code",
   "execution_count": 4,
   "id": "d8c25666",
   "metadata": {},
   "outputs": [
    {
     "name": "stdout",
     "output_type": "stream",
     "text": [
      "1,2013-07-25 00:00:00.0,11599,CLOSED\n",
      "2,2013-07-25 00:00:00.0,256,PENDING_PAYMENT\n",
      "3,2013-07-25 00:00:00.0,12111,COMPLETE\n",
      "4,2013-07-25 00:00:00.0,8827,CLOSED\n",
      "5,2013-07-25 00:00:00.0,11318,COMPLETE\n"
     ]
    }
   ],
   "source": [
    "# You can use head command to confirm it is a text file\n",
    "!head -5 /data/retail_db/orders/part-00000"
   ]
  },
  {
   "cell_type": "markdown",
   "id": "5c24d2c5",
   "metadata": {},
   "source": [
    "```{note}\n",
    "We can pass `/data/retail_db/orders/part-00000` as string to first class Python functions to perform File I/O.\n",
    "```"
   ]
  }
 ],
 "metadata": {
  "kernelspec": {
   "display_name": "Python 3",
   "language": "python",
   "name": "python3"
  },
  "language_info": {
   "codemirror_mode": {
    "name": "ipython",
    "version": 3
   },
   "file_extension": ".py",
   "mimetype": "text/x-python",
   "name": "python",
   "nbconvert_exporter": "python",
   "pygments_lexer": "ipython3",
   "version": "3.6.12"
  }
 },
 "nbformat": 4,
 "nbformat_minor": 5
}
