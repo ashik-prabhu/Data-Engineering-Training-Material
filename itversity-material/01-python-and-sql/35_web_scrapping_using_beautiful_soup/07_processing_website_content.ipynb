{
 "cells": [
  {
   "cell_type": "markdown",
   "metadata": {},
   "source": [
    "## Processing Website Content\n",
    "\n",
    "We can process the website content and extract HTML Tags as well as data using BeautifulSoup.\n",
    "* We have to pass the content using `html.parser` and build the BeautifulSoup object.\n",
    "* Let us prettify and print the content."
   ]
  },
  {
   "cell_type": "code",
   "execution_count": 1,
   "metadata": {
    "tags": [
     "remove-cell"
    ]
   },
   "outputs": [
    {
     "data": {
      "text/html": [
       "<iframe width=\"560\" height=\"315\" src=\"https://www.youtube.com/embed/cgDtbgFSv_4?rel=0&amp;controls=1&amp;showinfo=0\" frameborder=\"0\" allowfullscreen></iframe>\n"
      ],
      "text/plain": [
       "<IPython.core.display.HTML object>"
      ]
     },
     "metadata": {},
     "output_type": "display_data"
    }
   ],
   "source": [
    "%%HTML\n",
    "<iframe width=\"560\" height=\"315\" src=\"https://www.youtube.com/embed/cgDtbgFSv_4?rel=0&amp;controls=1&amp;showinfo=0\" frameborder=\"0\" allowfullscreen></iframe>"
   ]
  },
  {
   "cell_type": "code",
   "execution_count": 1,
   "metadata": {},
   "outputs": [],
   "source": [
    "import requests\n",
    "\n",
    "python_base_url = 'https://python.itversity.com'\n",
    "python_url = f'{python_base_url}/mastering-python.html'\n",
    "python_page = requests.get(python_url)\n",
    "\n",
    "from bs4 import BeautifulSoup\n",
    "\n",
    "soup = BeautifulSoup(python_page.content, 'html.parser')"
   ]
  },
  {
   "cell_type": "code",
   "execution_count": null,
   "metadata": {},
   "outputs": [],
   "source": [
    "print(soup.prettify())"
   ]
  },
  {
   "cell_type": "markdown",
   "metadata": {},
   "source": [
    "* Let us extract all the `a` tags. We can extract links provided as part of this webpage.\n",
    "* Here is the code snippet to get the `a` tags from the landing page."
   ]
  },
  {
   "cell_type": "code",
   "execution_count": 3,
   "metadata": {},
   "outputs": [
    {
     "name": "stdout",
     "output_type": "stream",
     "text": [
      "<a class=\"navbar-brand text-wrap\" href=\"index.html\">\n",
      "<h1 class=\"site-logo\" id=\"site-title\">Mastering Python</h1>\n",
      "</a>\n",
      "<a class=\"reference internal\" href=\"#\">\n",
      "   Mastering Python\n",
      "  </a>\n",
      "<a class=\"reference internal\" href=\"01_overview_of_windows_os/01_overview_of_windows_os.html\">\n",
      "   Overview of Windows Operating System\n",
      "  </a>\n",
      "<a class=\"reference internal\" href=\"04_postgres_database_operations/01_postgres_database_operations.html\">\n",
      "   Perform Database Operations\n",
      "  </a>\n",
      "<a class=\"reference internal\" href=\"05_getting_started_with_python/01_getting_started_with_python.html\">\n",
      "   Getting Started with Python\n",
      "  </a>\n",
      "<a class=\"reference internal\" href=\"06_basic_programming_constructs/01_basic_programming_constructs.html\">\n",
      "   Basic Programming Constructs\n",
      "  </a>\n",
      "<a class=\"reference internal\" href=\"07_pre_defined_functions/01_pre_defined_functions.html\">\n",
      "   Pre-defined Functions\n",
      "  </a>\n",
      "<a class=\"reference internal\" href=\"08_user_defined_functions/01_user_defined_functions.html\">\n",
      "   User Defined Functions\n",
      "  </a>\n",
      "<a class=\"reference internal\" href=\"09_overview_of_collections_list_and_set/01_overview_of_collections_list_and_set.html\">\n",
      "   Overview of Collections - list and set\n",
      "  </a>\n",
      "<a class=\"reference internal\" href=\"10_overview_of_collections_dict_and_tuple/01_overview_of_collections_dict_and_tuple.html\">\n",
      "   Overview of Collections - dict and tuple\n",
      "  </a>\n",
      "<a class=\"reference internal\" href=\"11_manipulating_collections_using_loops/01_manipulating_collections_using_loops.html\">\n",
      "   Manipulating Collections using Loops\n",
      "  </a>\n",
      "<a class=\"reference internal\" href=\"12_development_of_map_reduce_apis/01_development_of_map_reduce_apis.html\">\n",
      "   Development of Map Reduce APIs\n",
      "  </a>\n",
      "<a class=\"reference internal\" href=\"13_understanding_map_reduce_libraries/01_understanding_map_reduce_libraries.html\">\n",
      "   Understanding Python Map Reduce Libraries\n",
      "  </a>\n",
      "<a class=\"reference internal\" href=\"14_overview_of_object_oriented_programming/01_overview_of_object_oriented_programming.html\">\n",
      "   Overview of Object Oriented Programming\n",
      "  </a>\n",
      "<a class=\"reference internal\" href=\"15_overview_of_pandas_libraries/01_overview_of_pandas_libraries.html\">\n",
      "   Overview of Pandas Libraries\n",
      "  </a>\n",
      "<a class=\"reference internal\" href=\"16_web_scraping_using_beautifulsoup/01_web_scraping_using_beautifulsoup.html\">\n",
      "   Web Scraping using Beautiful Soup\n",
      "  </a>\n",
      "<a class=\"reference internal\" href=\"17_database_programming_crud_operations/01_database_programming_crud_operations.html\">\n",
      "   Database Programming – CRUD Operations\n",
      "  </a>\n",
      "<a class=\"reference internal\" href=\"18_database_programming_batch_operations/01_database_programming_batch_operations.html\">\n",
      "   Database Programming – Batch Operations\n",
      "  </a>\n",
      "<a class=\"reference internal\" href=\"19_project_web_scraping_into_database/01_project_web_scraping_into_database.html\">\n",
      "   Project – Web Scraping and loading into Database\n",
      "  </a>\n",
      "<a href=\"http://notifyme.itversity.com\">Newsletter</a>\n",
      "<a class=\"dropdown-buttons\" href=\"_sources/mastering-python.ipynb\"><button class=\"btn btn-secondary topbarbtn\" data-placement=\"left\" data-toggle=\"tooltip\" title=\"Download source file\" type=\"button\">.ipynb</button></a>\n",
      "<a class=\"repository-button\" href=\"https://github.com/itversity/mastering-python\"><button class=\"btn btn-secondary topbarbtn\" data-placement=\"left\" data-toggle=\"tooltip\" title=\"Source repository\" type=\"button\"><i class=\"fab fa-github\"></i>repository</button></a>\n",
      "<a class=\"issues-button\" href=\"https://github.com/itversity/mastering-python/issues/new?title=Issue%20on%20page%20%2Fmastering-python.html&amp;body=Your%20issue%20content%20here.\"><button class=\"btn btn-secondary topbarbtn\" data-placement=\"left\" data-toggle=\"tooltip\" title=\"Open an issue\" type=\"button\"><i class=\"fas fa-lightbulb\"></i>open issue</button></a>\n",
      "<a class=\"edit-button\" href=\"https://github.com/itversity/mastering-python/edit/master/mastering-python.ipynb\"><button class=\"btn btn-secondary topbarbtn\" data-placement=\"left\" data-toggle=\"tooltip\" title=\"Edit this page\" type=\"button\"><i class=\"fas fa-pencil-alt\"></i>suggest edit</button></a>\n",
      "<a class=\"full-screen-button\"><button aria-label=\"Fullscreen mode\" class=\"btn btn-secondary topbarbtn\" data-placement=\"bottom\" data-toggle=\"tooltip\" onclick=\"toggleFullScreen()\" title=\"Fullscreen mode\" type=\"button\"><i class=\"fas fa-expand\"></i></button></a>\n",
      "<a class=\"binder-button\" href=\"https://mybinder.org/v2/gh/itversity/mastering-python/master?urlpath=tree/mastering-python.ipynb\"><button class=\"btn btn-secondary topbarbtn\" data-placement=\"left\" data-toggle=\"tooltip\" title=\"Launch Binder\" type=\"button\"><img alt=\"Interact on binder\" class=\"binder-button-logo\" src=\"_static/images/logo_binder.svg\"/>Binder</button></a>\n",
      "<a class=\"reference internal nav-link\" href=\"#about-python\">\n",
      "   About Python\n",
      "  </a>\n",
      "<a class=\"reference internal nav-link\" href=\"#course-details\">\n",
      "   Course Details\n",
      "  </a>\n",
      "<a class=\"reference internal nav-link\" href=\"#desired-audience\">\n",
      "   Desired Audience\n",
      "  </a>\n",
      "<a class=\"reference internal nav-link\" href=\"#prerequisites\">\n",
      "   Prerequisites\n",
      "  </a>\n",
      "<a class=\"reference internal nav-link\" href=\"#key-objectives\">\n",
      "   Key Objectives\n",
      "  </a>\n",
      "<a class=\"reference internal nav-link\" href=\"#training-approach\">\n",
      "   Training Approach\n",
      "  </a>\n",
      "<a class=\"reference internal nav-link\" href=\"#self-evaluation\">\n",
      "   Self Evaluation\n",
      "  </a>\n",
      "<a class=\"headerlink\" href=\"#mastering-python\" title=\"Permalink to this headline\">¶</a>\n",
      "<a class=\"headerlink\" href=\"#about-python\" title=\"Permalink to this headline\">¶</a>\n",
      "<a class=\"headerlink\" href=\"#course-details\" title=\"Permalink to this headline\">¶</a>\n",
      "<a class=\"headerlink\" href=\"#desired-audience\" title=\"Permalink to this headline\">¶</a>\n",
      "<a class=\"headerlink\" href=\"#prerequisites\" title=\"Permalink to this headline\">¶</a>\n",
      "<a class=\"headerlink\" href=\"#key-objectives\" title=\"Permalink to this headline\">¶</a>\n",
      "<a class=\"headerlink\" href=\"#training-approach\" title=\"Permalink to this headline\">¶</a>\n",
      "<a class=\"headerlink\" href=\"#self-evaluation\" title=\"Permalink to this headline\">¶</a>\n",
      "<a class=\"right-next\" href=\"01_overview_of_windows_os/01_overview_of_windows_os.html\" id=\"next-link\" title=\"next page\">Overview of Windows Operating System</a>\n"
     ]
    }
   ],
   "source": [
    "for a in soup.find_all('a'):\n",
    "    print(a)"
   ]
  },
  {
   "cell_type": "markdown",
   "metadata": {},
   "source": [
    "* We can use `field_name.string` to get only the value."
   ]
  },
  {
   "cell_type": "code",
   "execution_count": null,
   "metadata": {},
   "outputs": [],
   "source": [
    "for a in soup.find_all('a'):\n",
    "    print(a.string)"
   ]
  },
  {
   "cell_type": "code",
   "execution_count": null,
   "metadata": {},
   "outputs": [],
   "source": [
    "for a in soup.find_all('a'):\n",
    "    print(a.get_text())"
   ]
  },
  {
   "cell_type": "markdown",
   "metadata": {},
   "source": [
    "* We can also get the urls used as part of these `a` tags."
   ]
  },
  {
   "cell_type": "code",
   "execution_count": 6,
   "metadata": {},
   "outputs": [
    {
     "name": "stdout",
     "output_type": "stream",
     "text": [
      "index.html\n",
      "#\n",
      "01_overview_of_windows_os/01_overview_of_windows_os.html\n",
      "04_postgres_database_operations/01_postgres_database_operations.html\n",
      "05_getting_started_with_python/01_getting_started_with_python.html\n",
      "06_basic_programming_constructs/01_basic_programming_constructs.html\n",
      "07_pre_defined_functions/01_pre_defined_functions.html\n",
      "08_user_defined_functions/01_user_defined_functions.html\n",
      "09_overview_of_collections_list_and_set/01_overview_of_collections_list_and_set.html\n",
      "10_overview_of_collections_dict_and_tuple/01_overview_of_collections_dict_and_tuple.html\n",
      "11_manipulating_collections_using_loops/01_manipulating_collections_using_loops.html\n",
      "12_development_of_map_reduce_apis/01_development_of_map_reduce_apis.html\n",
      "13_understanding_map_reduce_libraries/01_understanding_map_reduce_libraries.html\n",
      "14_overview_of_object_oriented_programming/01_overview_of_object_oriented_programming.html\n",
      "15_overview_of_pandas_libraries/01_overview_of_pandas_libraries.html\n",
      "16_web_scraping_using_beautifulsoup/01_web_scraping_using_beautifulsoup.html\n",
      "17_database_programming_crud_operations/01_database_programming_crud_operations.html\n",
      "18_database_programming_batch_operations/01_database_programming_batch_operations.html\n",
      "19_project_web_scraping_into_database/01_project_web_scraping_into_database.html\n",
      "http://notifyme.itversity.com\n",
      "_sources/mastering-python.ipynb\n",
      "https://github.com/itversity/mastering-python\n",
      "https://github.com/itversity/mastering-python/issues/new?title=Issue%20on%20page%20%2Fmastering-python.html&body=Your%20issue%20content%20here.\n",
      "https://github.com/itversity/mastering-python/edit/master/mastering-python.ipynb\n"
     ]
    },
    {
     "ename": "KeyError",
     "evalue": "'href'",
     "output_type": "error",
     "traceback": [
      "\u001b[0;31m---------------------------------------------------------------------------\u001b[0m",
      "\u001b[0;31mKeyError\u001b[0m                                  Traceback (most recent call last)",
      "\u001b[0;32m<ipython-input-6-decf6af72393>\u001b[0m in \u001b[0;36m<module>\u001b[0;34m\u001b[0m\n\u001b[1;32m      1\u001b[0m \u001b[0;32mfor\u001b[0m \u001b[0ma\u001b[0m \u001b[0;32min\u001b[0m \u001b[0msoup\u001b[0m\u001b[0;34m.\u001b[0m\u001b[0mfind_all\u001b[0m\u001b[0;34m(\u001b[0m\u001b[0;34m'a'\u001b[0m\u001b[0;34m)\u001b[0m\u001b[0;34m:\u001b[0m\u001b[0;34m\u001b[0m\u001b[0;34m\u001b[0m\u001b[0m\n\u001b[0;32m----> 2\u001b[0;31m     \u001b[0mprint\u001b[0m\u001b[0;34m(\u001b[0m\u001b[0ma\u001b[0m\u001b[0;34m[\u001b[0m\u001b[0;34m'href'\u001b[0m\u001b[0;34m]\u001b[0m\u001b[0;34m)\u001b[0m\u001b[0;34m\u001b[0m\u001b[0;34m\u001b[0m\u001b[0m\n\u001b[0m",
      "\u001b[0;32m/opt/anaconda3/envs/beakerx/lib/python3.6/site-packages/bs4/element.py\u001b[0m in \u001b[0;36m__getitem__\u001b[0;34m(self, key)\u001b[0m\n\u001b[1;32m   1404\u001b[0m         \"\"\"tag[key] returns the value of the 'key' attribute for the Tag,\n\u001b[1;32m   1405\u001b[0m         and throws an exception if it's not there.\"\"\"\n\u001b[0;32m-> 1406\u001b[0;31m         \u001b[0;32mreturn\u001b[0m \u001b[0mself\u001b[0m\u001b[0;34m.\u001b[0m\u001b[0mattrs\u001b[0m\u001b[0;34m[\u001b[0m\u001b[0mkey\u001b[0m\u001b[0;34m]\u001b[0m\u001b[0;34m\u001b[0m\u001b[0;34m\u001b[0m\u001b[0m\n\u001b[0m\u001b[1;32m   1407\u001b[0m \u001b[0;34m\u001b[0m\u001b[0m\n\u001b[1;32m   1408\u001b[0m     \u001b[0;32mdef\u001b[0m \u001b[0m__iter__\u001b[0m\u001b[0;34m(\u001b[0m\u001b[0mself\u001b[0m\u001b[0;34m)\u001b[0m\u001b[0;34m:\u001b[0m\u001b[0;34m\u001b[0m\u001b[0;34m\u001b[0m\u001b[0m\n",
      "\u001b[0;31mKeyError\u001b[0m: 'href'"
     ]
    }
   ],
   "source": [
    "for a in soup.find_all('a'):\n",
    "    print(a['href'])"
   ]
  },
  {
   "cell_type": "code",
   "execution_count": 7,
   "metadata": {},
   "outputs": [
    {
     "name": "stdout",
     "output_type": "stream",
     "text": [
      "index.html\n",
      "#\n",
      "01_overview_of_windows_os/01_overview_of_windows_os.html\n",
      "04_postgres_database_operations/01_postgres_database_operations.html\n",
      "05_getting_started_with_python/01_getting_started_with_python.html\n",
      "06_basic_programming_constructs/01_basic_programming_constructs.html\n",
      "07_pre_defined_functions/01_pre_defined_functions.html\n",
      "08_user_defined_functions/01_user_defined_functions.html\n",
      "09_overview_of_collections_list_and_set/01_overview_of_collections_list_and_set.html\n",
      "10_overview_of_collections_dict_and_tuple/01_overview_of_collections_dict_and_tuple.html\n",
      "11_manipulating_collections_using_loops/01_manipulating_collections_using_loops.html\n",
      "12_development_of_map_reduce_apis/01_development_of_map_reduce_apis.html\n",
      "13_understanding_map_reduce_libraries/01_understanding_map_reduce_libraries.html\n",
      "14_overview_of_object_oriented_programming/01_overview_of_object_oriented_programming.html\n",
      "15_overview_of_pandas_libraries/01_overview_of_pandas_libraries.html\n",
      "16_web_scraping_using_beautifulsoup/01_web_scraping_using_beautifulsoup.html\n",
      "17_database_programming_crud_operations/01_database_programming_crud_operations.html\n",
      "18_database_programming_batch_operations/01_database_programming_batch_operations.html\n",
      "19_project_web_scraping_into_database/01_project_web_scraping_into_database.html\n",
      "http://notifyme.itversity.com\n",
      "_sources/mastering-python.ipynb\n",
      "https://github.com/itversity/mastering-python\n",
      "https://github.com/itversity/mastering-python/issues/new?title=Issue%20on%20page%20%2Fmastering-python.html&body=Your%20issue%20content%20here.\n",
      "https://github.com/itversity/mastering-python/edit/master/mastering-python.ipynb\n",
      "https://mybinder.org/v2/gh/itversity/mastering-python/master?urlpath=tree/mastering-python.ipynb\n",
      "#about-python\n",
      "#course-details\n",
      "#desired-audience\n",
      "#prerequisites\n",
      "#key-objectives\n",
      "#training-approach\n",
      "#self-evaluation\n",
      "#mastering-python\n",
      "#about-python\n",
      "#course-details\n",
      "#desired-audience\n",
      "#prerequisites\n",
      "#key-objectives\n",
      "#training-approach\n",
      "#self-evaluation\n",
      "01_overview_of_windows_os/01_overview_of_windows_os.html\n"
     ]
    }
   ],
   "source": [
    "for a in soup.find_all('a'):\n",
    "    if a.get('href'):\n",
    "        print(a['href'])"
   ]
  },
  {
   "cell_type": "markdown",
   "metadata": {},
   "source": [
    "* We can also pass attributes such as `class`, `id` etc to narrow down the filter for specific class or id."
   ]
  },
  {
   "cell_type": "code",
   "execution_count": 8,
   "metadata": {},
   "outputs": [
    {
     "name": "stdout",
     "output_type": "stream",
     "text": [
      "['navbar-brand', 'text-wrap']\n",
      "['reference', 'internal']\n",
      "['reference', 'internal']\n",
      "['reference', 'internal']\n",
      "['reference', 'internal']\n",
      "['reference', 'internal']\n",
      "['reference', 'internal']\n",
      "['reference', 'internal']\n",
      "['reference', 'internal']\n",
      "['reference', 'internal']\n",
      "['reference', 'internal']\n",
      "['reference', 'internal']\n",
      "['reference', 'internal']\n",
      "['reference', 'internal']\n",
      "['reference', 'internal']\n",
      "['reference', 'internal']\n",
      "['reference', 'internal']\n",
      "['reference', 'internal']\n",
      "['reference', 'internal']\n",
      "['dropdown-buttons']\n",
      "['repository-button']\n",
      "['issues-button']\n",
      "['edit-button']\n",
      "['full-screen-button']\n",
      "['binder-button']\n",
      "['reference', 'internal', 'nav-link']\n",
      "['reference', 'internal', 'nav-link']\n",
      "['reference', 'internal', 'nav-link']\n",
      "['reference', 'internal', 'nav-link']\n",
      "['reference', 'internal', 'nav-link']\n",
      "['reference', 'internal', 'nav-link']\n",
      "['reference', 'internal', 'nav-link']\n",
      "['headerlink']\n",
      "['headerlink']\n",
      "['headerlink']\n",
      "['headerlink']\n",
      "['headerlink']\n",
      "['headerlink']\n",
      "['headerlink']\n",
      "['headerlink']\n",
      "['right-next']\n"
     ]
    }
   ],
   "source": [
    "for a in soup.find_all('a'):\n",
    "    if a.get('class'):\n",
    "        print(a['class'])"
   ]
  },
  {
   "cell_type": "code",
   "execution_count": 10,
   "metadata": {},
   "outputs": [],
   "source": [
    "classes = set()\n",
    "for a in soup.find_all('a'):\n",
    "    if a.get('class'):\n",
    "        classes.add(tuple(a.get('class')))"
   ]
  },
  {
   "cell_type": "code",
   "execution_count": 11,
   "metadata": {},
   "outputs": [
    {
     "data": {
      "text/plain": [
       "{('binder-button',),\n",
       " ('dropdown-buttons',),\n",
       " ('edit-button',),\n",
       " ('full-screen-button',),\n",
       " ('headerlink',),\n",
       " ('issues-button',),\n",
       " ('navbar-brand', 'text-wrap'),\n",
       " ('reference', 'internal'),\n",
       " ('reference', 'internal', 'nav-link'),\n",
       " ('repository-button',),\n",
       " ('right-next',)}"
      ]
     },
     "execution_count": 11,
     "metadata": {},
     "output_type": "execute_result"
    }
   ],
   "source": [
    "classes"
   ]
  },
  {
   "cell_type": "code",
   "execution_count": 12,
   "metadata": {},
   "outputs": [
    {
     "data": {
      "text/plain": [
       "<a class=\"reference internal\" href=\"#\">\n",
       "   Mastering Python\n",
       "  </a>"
      ]
     },
     "execution_count": 12,
     "metadata": {},
     "output_type": "execute_result"
    }
   ],
   "source": [
    "soup.find('a', {'class': 'reference internal'})"
   ]
  },
  {
   "cell_type": "code",
   "execution_count": 13,
   "metadata": {},
   "outputs": [
    {
     "data": {
      "text/plain": [
       "<a class=\"reference internal\" href=\"#\">\n",
       "   Mastering Python\n",
       "  </a>"
      ]
     },
     "execution_count": 13,
     "metadata": {},
     "output_type": "execute_result"
    }
   ],
   "source": [
    "soup.find('a', class_='reference internal')"
   ]
  },
  {
   "cell_type": "markdown",
   "metadata": {},
   "source": [
    "* We can also access attribute values such as `href` of `a` tag."
   ]
  },
  {
   "cell_type": "code",
   "execution_count": 14,
   "metadata": {},
   "outputs": [
    {
     "name": "stdout",
     "output_type": "stream",
     "text": [
      "#\n",
      "01_overview_of_windows_os/01_overview_of_windows_os.html\n",
      "04_postgres_database_operations/01_postgres_database_operations.html\n",
      "05_getting_started_with_python/01_getting_started_with_python.html\n",
      "06_basic_programming_constructs/01_basic_programming_constructs.html\n",
      "07_pre_defined_functions/01_pre_defined_functions.html\n",
      "08_user_defined_functions/01_user_defined_functions.html\n",
      "09_overview_of_collections_list_and_set/01_overview_of_collections_list_and_set.html\n",
      "10_overview_of_collections_dict_and_tuple/01_overview_of_collections_dict_and_tuple.html\n",
      "11_manipulating_collections_using_loops/01_manipulating_collections_using_loops.html\n",
      "12_development_of_map_reduce_apis/01_development_of_map_reduce_apis.html\n",
      "13_understanding_map_reduce_libraries/01_understanding_map_reduce_libraries.html\n",
      "14_overview_of_object_oriented_programming/01_overview_of_object_oriented_programming.html\n",
      "15_overview_of_pandas_libraries/01_overview_of_pandas_libraries.html\n",
      "16_web_scraping_using_beautifulsoup/01_web_scraping_using_beautifulsoup.html\n",
      "17_database_programming_crud_operations/01_database_programming_crud_operations.html\n",
      "18_database_programming_batch_operations/01_database_programming_batch_operations.html\n",
      "19_project_web_scraping_into_database/01_project_web_scraping_into_database.html\n"
     ]
    }
   ],
   "source": [
    "for a in soup.find_all('a', {'class': 'reference internal'}):\n",
    "    if a.get('href'):\n",
    "        print(a['href'])"
   ]
  },
  {
   "cell_type": "code",
   "execution_count": 15,
   "metadata": {},
   "outputs": [
    {
     "name": "stdout",
     "output_type": "stream",
     "text": [
      "#\n",
      "01_overview_of_windows_os/01_overview_of_windows_os.html\n",
      "04_postgres_database_operations/01_postgres_database_operations.html\n",
      "05_getting_started_with_python/01_getting_started_with_python.html\n",
      "06_basic_programming_constructs/01_basic_programming_constructs.html\n",
      "07_pre_defined_functions/01_pre_defined_functions.html\n",
      "08_user_defined_functions/01_user_defined_functions.html\n",
      "09_overview_of_collections_list_and_set/01_overview_of_collections_list_and_set.html\n",
      "10_overview_of_collections_dict_and_tuple/01_overview_of_collections_dict_and_tuple.html\n",
      "11_manipulating_collections_using_loops/01_manipulating_collections_using_loops.html\n",
      "12_development_of_map_reduce_apis/01_development_of_map_reduce_apis.html\n",
      "13_understanding_map_reduce_libraries/01_understanding_map_reduce_libraries.html\n",
      "14_overview_of_object_oriented_programming/01_overview_of_object_oriented_programming.html\n",
      "15_overview_of_pandas_libraries/01_overview_of_pandas_libraries.html\n",
      "16_web_scraping_using_beautifulsoup/01_web_scraping_using_beautifulsoup.html\n",
      "17_database_programming_crud_operations/01_database_programming_crud_operations.html\n",
      "18_database_programming_batch_operations/01_database_programming_batch_operations.html\n",
      "19_project_web_scraping_into_database/01_project_web_scraping_into_database.html\n"
     ]
    }
   ],
   "source": [
    "for a in soup.find_all('a', class_='reference internal'):\n",
    "    if a.get('href'):\n",
    "        print(a['href'])"
   ]
  },
  {
   "cell_type": "code",
   "execution_count": 16,
   "metadata": {},
   "outputs": [
    {
     "name": "stdout",
     "output_type": "stream",
     "text": [
      "next-link\n"
     ]
    }
   ],
   "source": [
    "for a in soup.find_all('a'):\n",
    "    if a.get('id'):\n",
    "        print(a['id'])"
   ]
  },
  {
   "cell_type": "markdown",
   "metadata": {},
   "source": [
    "* Here is an example to narrow down the filter based on `id` on top of `a` tag."
   ]
  },
  {
   "cell_type": "code",
   "execution_count": 17,
   "metadata": {},
   "outputs": [
    {
     "data": {
      "text/plain": [
       "<a class=\"right-next\" href=\"01_overview_of_windows_os/01_overview_of_windows_os.html\" id=\"next-link\" title=\"next page\">Overview of Windows Operating System</a>"
      ]
     },
     "execution_count": 17,
     "metadata": {},
     "output_type": "execute_result"
    }
   ],
   "source": [
    "soup.find('a', {'id': 'next-link'})"
   ]
  },
  {
   "cell_type": "code",
   "execution_count": 18,
   "metadata": {},
   "outputs": [
    {
     "data": {
      "text/plain": [
       "<a class=\"right-next\" href=\"01_overview_of_windows_os/01_overview_of_windows_os.html\" id=\"next-link\" title=\"next page\">Overview of Windows Operating System</a>"
      ]
     },
     "execution_count": 18,
     "metadata": {},
     "output_type": "execute_result"
    }
   ],
   "source": [
    "soup.find('a', id='next-link')"
   ]
  },
  {
   "cell_type": "code",
   "execution_count": null,
   "metadata": {},
   "outputs": [],
   "source": []
  }
 ],
 "metadata": {
  "kernelspec": {
   "display_name": "Python 3",
   "language": "python",
   "name": "python3"
  },
  "language_info": {
   "codemirror_mode": {
    "name": "ipython",
    "version": 3
   },
   "file_extension": ".py",
   "mimetype": "text/x-python",
   "name": "python",
   "nbconvert_exporter": "python",
   "pygments_lexer": "ipython3",
   "version": "3.6.12"
  }
 },
 "nbformat": 4,
 "nbformat_minor": 4
}
