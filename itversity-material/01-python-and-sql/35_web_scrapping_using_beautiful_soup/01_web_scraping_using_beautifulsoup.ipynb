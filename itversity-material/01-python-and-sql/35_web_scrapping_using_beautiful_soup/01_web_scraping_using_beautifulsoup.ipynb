{
 "cells": [
  {
   "cell_type": "markdown",
   "metadata": {
    "pycharm": {
     "name": "#%% md"
    }
   },
   "source": [
    "# Web Scraping using Beautiful Soup\n",
    "\n",
    "* Problem Statement\n",
    "* Installing Pre-requisites\n",
    "* Overview of BeautifulSoup\n",
    "* Getting HTML Content\n",
    "* Processing HTML Content\n",
    "* Creating Data Frame\n",
    "* Processing Data using Data Frame APIs"
   ]
  }
 ],
 "metadata": {
  "kernelspec": {
   "display_name": "Python 3",
   "language": "python",
   "name": "python3"
  },
  "language_info": {
   "codemirror_mode": {
    "name": "ipython",
    "version": 3
   },
   "file_extension": ".py",
   "mimetype": "text/x-python",
   "name": "python",
   "nbconvert_exporter": "python",
   "pygments_lexer": "ipython3",
   "version": "3.6.12"
  }
 },
 "nbformat": 4,
 "nbformat_minor": 4
}
