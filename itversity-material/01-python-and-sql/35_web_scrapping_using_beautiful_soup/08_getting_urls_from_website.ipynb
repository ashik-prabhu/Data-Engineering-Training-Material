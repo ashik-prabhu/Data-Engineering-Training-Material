{
 "cells": [
  {
   "cell_type": "markdown",
   "metadata": {},
   "source": [
    "## Getting URLs from Website\n",
    "\n",
    "Let us understand how we can get URLs from a web page's nav bar or side bar using `BeautifulSoup`.\n",
    "\n",
    "* Here are some of the key observations about [https://python.itversity.com/mastering-python.html](ttps://python.itversity.com/mastering-python.html).\n",
    "  * All the content in the website can be accessed using nav bar on the left side.\n",
    "  * When we click on a particular topic, it will expand the sub topics.\n",
    "  * First level links are defined using class as `reference internal`.\n",
    "  * Second level links defined using class as `reference internal` under `li` with class `toctree-l1 current active`. They are visible only when we click on main topics as part of the nav bar on the left."
   ]
  },
  {
   "cell_type": "code",
   "execution_count": 3,
   "metadata": {
    "tags": [
     "remove-cell"
    ]
   },
   "outputs": [
    {
     "data": {
      "text/html": [
       "<iframe width=\"560\" height=\"315\" src=\"https://www.youtube.com/embed/QZfEiFsblPg?rel=0&amp;controls=1&amp;showinfo=0\" frameborder=\"0\" allowfullscreen></iframe>\n"
      ],
      "text/plain": [
       "<IPython.core.display.HTML object>"
      ]
     },
     "metadata": {},
     "output_type": "display_data"
    }
   ],
   "source": [
    "%%HTML\n",
    "<iframe width=\"560\" height=\"315\" src=\"https://www.youtube.com/embed/QZfEiFsblPg?rel=0&amp;controls=1&amp;showinfo=0\" frameborder=\"0\" allowfullscreen></iframe>"
   ]
  },
  {
   "cell_type": "code",
   "execution_count": 1,
   "metadata": {},
   "outputs": [],
   "source": [
    "import requests\n",
    "\n",
    "python_base_url = 'https://python.itversity.com'\n",
    "python_url = f'{python_base_url}/mastering-python.html'\n",
    "python_page = requests.get(python_url)\n",
    "\n",
    "from bs4 import BeautifulSoup\n",
    "\n",
    "soup = BeautifulSoup(python_page.content, 'html.parser')"
   ]
  },
  {
   "cell_type": "markdown",
   "metadata": {},
   "source": [
    "Let us get first level urls using `reference internal`.\n",
    "* Get all the first level urls.\n",
    "* Here are the observations about all the first level of urls from [https://python.itversity.com/mastering-python.html](ttps://python.itversity.com/mastering-python.html).\n",
    "  * All the URLs are on left nav bar under `nav` tag.\n",
    "  * We need to get hrefs from the `nav` tag.\n",
    "* Here are the steps we are going to follow:\n",
    "  * Get all the nav tags. We need to use `docs` nav.\n",
    "  * Get all the hrefs from nav using id"
   ]
  },
  {
   "cell_type": "code",
   "execution_count": 2,
   "metadata": {},
   "outputs": [
    {
     "name": "stdout",
     "output_type": "stream",
     "text": [
      "bd-docs-nav\n",
      "bd-toc-nav\n"
     ]
    }
   ],
   "source": [
    "for nav in soup.find_all('nav'):\n",
    "    print(nav['id'])"
   ]
  },
  {
   "cell_type": "code",
   "execution_count": 3,
   "metadata": {},
   "outputs": [],
   "source": [
    "nav = soup.find('nav', {'id': 'bd-docs-nav'})"
   ]
  },
  {
   "cell_type": "code",
   "execution_count": 4,
   "metadata": {},
   "outputs": [],
   "source": [
    "nav = soup.find('nav', id='bd-docs-nav')"
   ]
  },
  {
   "cell_type": "code",
   "execution_count": 5,
   "metadata": {},
   "outputs": [
    {
     "name": "stdout",
     "output_type": "stream",
     "text": [
      "https://python.itversity.com/#\n",
      "https://python.itversity.com/01_overview_of_windows_os/01_overview_of_windows_os.html\n",
      "https://python.itversity.com/04_postgres_database_operations/01_postgres_database_operations.html\n",
      "https://python.itversity.com/05_getting_started_with_python/01_getting_started_with_python.html\n",
      "https://python.itversity.com/06_basic_programming_constructs/01_basic_programming_constructs.html\n",
      "https://python.itversity.com/07_pre_defined_functions/01_pre_defined_functions.html\n",
      "https://python.itversity.com/08_user_defined_functions/01_user_defined_functions.html\n",
      "https://python.itversity.com/09_overview_of_collections_list_and_set/01_overview_of_collections_list_and_set.html\n",
      "https://python.itversity.com/10_overview_of_collections_dict_and_tuple/01_overview_of_collections_dict_and_tuple.html\n",
      "https://python.itversity.com/11_manipulating_collections_using_loops/01_manipulating_collections_using_loops.html\n",
      "https://python.itversity.com/12_development_of_map_reduce_apis/01_development_of_map_reduce_apis.html\n",
      "https://python.itversity.com/13_understanding_map_reduce_libraries/01_understanding_map_reduce_libraries.html\n",
      "https://python.itversity.com/14_overview_of_object_oriented_programming/01_overview_of_object_oriented_programming.html\n",
      "https://python.itversity.com/15_overview_of_pandas_libraries/01_overview_of_pandas_libraries.html\n",
      "https://python.itversity.com/16_web_scraping_using_beautifulsoup/01_web_scraping_using_beautifulsoup.html\n",
      "https://python.itversity.com/17_database_programming_crud_operations/01_database_programming_crud_operations.html\n",
      "https://python.itversity.com/18_database_programming_batch_operations/01_database_programming_batch_operations.html\n",
      "https://python.itversity.com/19_project_web_scraping_into_database/01_project_web_scraping_into_database.html\n"
     ]
    }
   ],
   "source": [
    "for a in nav.find_all('a', {'class': 'reference internal'}):\n",
    "    print(f\"{python_base_url}/{a['href']}\")"
   ]
  },
  {
   "cell_type": "code",
   "execution_count": 8,
   "metadata": {},
   "outputs": [
    {
     "name": "stdout",
     "output_type": "stream",
     "text": [
      "https://python.itversity.com/#\n",
      "https://python.itversity.com/01_overview_of_windows_os/01_overview_of_windows_os.html\n",
      "https://python.itversity.com/04_postgres_database_operations/01_postgres_database_operations.html\n",
      "https://python.itversity.com/05_getting_started_with_python/01_getting_started_with_python.html\n",
      "https://python.itversity.com/06_basic_programming_constructs/01_basic_programming_constructs.html\n",
      "https://python.itversity.com/07_pre_defined_functions/01_pre_defined_functions.html\n",
      "https://python.itversity.com/08_user_defined_functions/01_user_defined_functions.html\n",
      "https://python.itversity.com/09_overview_of_collections_list_and_set/01_overview_of_collections_list_and_set.html\n",
      "https://python.itversity.com/10_overview_of_collections_dict_and_tuple/01_overview_of_collections_dict_and_tuple.html\n",
      "https://python.itversity.com/11_manipulating_collections_using_loops/01_manipulating_collections_using_loops.html\n",
      "https://python.itversity.com/12_development_of_map_reduce_apis/01_development_of_map_reduce_apis.html\n",
      "https://python.itversity.com/13_understanding_map_reduce_libraries/01_understanding_map_reduce_libraries.html\n",
      "https://python.itversity.com/14_overview_of_object_oriented_programming/01_overview_of_object_oriented_programming.html\n",
      "https://python.itversity.com/15_overview_of_pandas_libraries/01_overview_of_pandas_libraries.html\n",
      "https://python.itversity.com/16_web_scraping_using_beautifulsoup/01_web_scraping_using_beautifulsoup.html\n",
      "https://python.itversity.com/17_database_programming_crud_operations/01_database_programming_crud_operations.html\n",
      "https://python.itversity.com/18_database_programming_batch_operations/01_database_programming_batch_operations.html\n",
      "https://python.itversity.com/19_project_web_scraping_into_database/01_project_web_scraping_into_database.html\n"
     ]
    }
   ],
   "source": [
    "for a in nav.find_all('a', class_='reference internal'):\n",
    "    print(f\"{python_base_url}/{a['href']}\")"
   ]
  },
  {
   "cell_type": "code",
   "execution_count": 10,
   "metadata": {},
   "outputs": [
    {
     "name": "stdout",
     "output_type": "stream",
     "text": [
      "https://python.itversity.com/01_overview_of_windows_os/01_overview_of_windows_os.html\n",
      "https://python.itversity.com/04_postgres_database_operations/01_postgres_database_operations.html\n",
      "https://python.itversity.com/05_getting_started_with_python/01_getting_started_with_python.html\n",
      "https://python.itversity.com/06_basic_programming_constructs/01_basic_programming_constructs.html\n",
      "https://python.itversity.com/07_pre_defined_functions/01_pre_defined_functions.html\n",
      "https://python.itversity.com/08_user_defined_functions/01_user_defined_functions.html\n",
      "https://python.itversity.com/09_overview_of_collections_list_and_set/01_overview_of_collections_list_and_set.html\n",
      "https://python.itversity.com/10_overview_of_collections_dict_and_tuple/01_overview_of_collections_dict_and_tuple.html\n",
      "https://python.itversity.com/11_manipulating_collections_using_loops/01_manipulating_collections_using_loops.html\n",
      "https://python.itversity.com/12_development_of_map_reduce_apis/01_development_of_map_reduce_apis.html\n",
      "https://python.itversity.com/13_understanding_map_reduce_libraries/01_understanding_map_reduce_libraries.html\n",
      "https://python.itversity.com/14_overview_of_object_oriented_programming/01_overview_of_object_oriented_programming.html\n",
      "https://python.itversity.com/15_overview_of_pandas_libraries/01_overview_of_pandas_libraries.html\n",
      "https://python.itversity.com/16_web_scraping_using_beautifulsoup/01_web_scraping_using_beautifulsoup.html\n",
      "https://python.itversity.com/17_database_programming_crud_operations/01_database_programming_crud_operations.html\n",
      "https://python.itversity.com/18_database_programming_batch_operations/01_database_programming_batch_operations.html\n",
      "https://python.itversity.com/19_project_web_scraping_into_database/01_project_web_scraping_into_database.html\n"
     ]
    }
   ],
   "source": [
    "for a in nav.find_all('a', {'class': 'reference internal'}):\n",
    "    if a['href'] != '#':\n",
    "        print(f\"{python_base_url}/{a['href']}\")"
   ]
  },
  {
   "cell_type": "code",
   "execution_count": 12,
   "metadata": {},
   "outputs": [],
   "source": [
    "first_level_urls = []\n",
    "for a in nav.find_all('a', class_='reference internal'):\n",
    "    if a['href'] != '#':\n",
    "        first_level_urls.append(a['href'])"
   ]
  },
  {
   "cell_type": "code",
   "execution_count": 13,
   "metadata": {},
   "outputs": [
    {
     "name": "stdout",
     "output_type": "stream",
     "text": [
      "01_overview_of_windows_os/01_overview_of_windows_os.html\n",
      "04_postgres_database_operations/01_postgres_database_operations.html\n",
      "05_getting_started_with_python/01_getting_started_with_python.html\n",
      "06_basic_programming_constructs/01_basic_programming_constructs.html\n",
      "07_pre_defined_functions/01_pre_defined_functions.html\n",
      "08_user_defined_functions/01_user_defined_functions.html\n",
      "09_overview_of_collections_list_and_set/01_overview_of_collections_list_and_set.html\n",
      "10_overview_of_collections_dict_and_tuple/01_overview_of_collections_dict_and_tuple.html\n",
      "11_manipulating_collections_using_loops/01_manipulating_collections_using_loops.html\n",
      "12_development_of_map_reduce_apis/01_development_of_map_reduce_apis.html\n",
      "13_understanding_map_reduce_libraries/01_understanding_map_reduce_libraries.html\n",
      "14_overview_of_object_oriented_programming/01_overview_of_object_oriented_programming.html\n",
      "15_overview_of_pandas_libraries/01_overview_of_pandas_libraries.html\n",
      "16_web_scraping_using_beautifulsoup/01_web_scraping_using_beautifulsoup.html\n",
      "17_database_programming_crud_operations/01_database_programming_crud_operations.html\n",
      "18_database_programming_batch_operations/01_database_programming_batch_operations.html\n",
      "19_project_web_scraping_into_database/01_project_web_scraping_into_database.html\n"
     ]
    }
   ],
   "source": [
    "for url in first_level_urls: print(url)"
   ]
  },
  {
   "cell_type": "markdown",
   "metadata": {},
   "source": [
    "Let us get second level urls using `reference internal` with in `current reference internal`.\n",
    "* Get all the first level urls.\n",
    "* Create soup objects for each of the first level urls and then get content from `toctree-l1 current active` using `reference internal`.\n",
    "* Make sure the urls are prefixed properly by replacing last part of the url with the `href` extracted."
   ]
  },
  {
   "cell_type": "code",
   "execution_count": 14,
   "metadata": {},
   "outputs": [
    {
     "name": "stdout",
     "output_type": "stream",
     "text": [
      "https://python.itversity.com/01_overview_of_windows_os/01_overview_of_windows_os.html\n",
      "https://python.itversity.com/01_overview_of_windows_os/02_getting_system_details.html\n",
      "https://python.itversity.com/01_overview_of_windows_os/03_managing_windows_system.html\n",
      "https://python.itversity.com/01_overview_of_windows_os/04_overview_of_microsoft_office.html\n",
      "https://python.itversity.com/01_overview_of_windows_os/05_overview_of_editors_and_ides.html\n",
      "https://python.itversity.com/01_overview_of_windows_os/06_power_shell_and_command_prompt.html\n",
      "https://python.itversity.com/01_overview_of_windows_os/07_connecting_to_linux_servers.html\n",
      "https://python.itversity.com/01_overview_of_windows_os/08_folders_and_files.html\n",
      "https://python.itversity.com/04_postgres_database_operations/01_postgres_database_operations.html\n",
      "https://python.itversity.com/04_postgres_database_operations/02_overview_of_sql.html\n",
      "https://python.itversity.com/04_postgres_database_operations/03_create_database_and_users_table.html\n",
      "https://python.itversity.com/04_postgres_database_operations/04_ddl_data_definition_language.html\n",
      "https://python.itversity.com/04_postgres_database_operations/05_dml_data_manipulation_language.html\n",
      "https://python.itversity.com/04_postgres_database_operations/06_dql_data_query_language.html\n",
      "https://python.itversity.com/04_postgres_database_operations/07_crud_operations_dml_and_dql.html\n",
      "https://python.itversity.com/04_postgres_database_operations/08_tcl_transaction_control_language.html\n",
      "https://python.itversity.com/04_postgres_database_operations/09_example_data_engineering.html\n",
      "https://python.itversity.com/04_postgres_database_operations/10_example_web_application.html\n",
      "https://python.itversity.com/04_postgres_database_operations/11_exercise_database_operations.html\n",
      "https://python.itversity.com/05_getting_started_with_python/01_getting_started_with_python.html\n",
      "https://python.itversity.com/05_getting_started_with_python/02_installing_python.html\n",
      "https://python.itversity.com/05_getting_started_with_python/03_overview_of_anaconda.html\n",
      "https://python.itversity.com/05_getting_started_with_python/04_python_cli_and_jupyter_notebook.html\n",
      "https://python.itversity.com/05_getting_started_with_python/05_overview_of_jupyter_lab.html\n",
      "https://python.itversity.com/05_getting_started_with_python/06_using_ides_pycharm.html\n",
      "https://python.itversity.com/05_getting_started_with_python/07_overview_of_visual_studio_code.html\n",
      "https://python.itversity.com/05_getting_started_with_python/08_using_itversity_labs.html\n",
      "https://python.itversity.com/05_getting_started_with_python/09_leveraging_googles_colab.html\n",
      "https://python.itversity.com/06_basic_programming_constructs/01_basic_programming_constructs.html\n",
      "https://python.itversity.com/06_basic_programming_constructs/02_getting_help.html\n",
      "https://python.itversity.com/06_basic_programming_constructs/03_variables_and_objects.html\n",
      "https://python.itversity.com/06_basic_programming_constructs/04_data_types_commonly_used.html\n",
      "https://python.itversity.com/06_basic_programming_constructs/05_operators_in_python.html\n",
      "https://python.itversity.com/06_basic_programming_constructs/06_comments_and_doc_strings.html\n",
      "https://python.itversity.com/06_basic_programming_constructs/07_conditionals.html\n",
      "https://python.itversity.com/06_basic_programming_constructs/08_all_about_for_loops.html\n",
      "https://python.itversity.com/06_basic_programming_constructs/09_running_os_commands.html\n",
      "https://python.itversity.com/06_basic_programming_constructs/10_exercises.html\n",
      "https://python.itversity.com/07_pre_defined_functions/01_pre_defined_functions.html\n",
      "https://python.itversity.com/07_pre_defined_functions/02_overview_of_pre-defined_functions.html\n",
      "https://python.itversity.com/07_pre_defined_functions/03_numeric_functions.html\n",
      "https://python.itversity.com/07_pre_defined_functions/04_overview_of_strings.html\n",
      "https://python.itversity.com/07_pre_defined_functions/05_string_manipulation_functions.html\n",
      "https://python.itversity.com/07_pre_defined_functions/06_formatting_strings.html\n",
      "https://python.itversity.com/07_pre_defined_functions/07_print_and_input_functions.html\n",
      "https://python.itversity.com/07_pre_defined_functions/08_date_manipulation_functions.html\n",
      "https://python.itversity.com/07_pre_defined_functions/09_special_functions.html\n",
      "https://python.itversity.com/07_pre_defined_functions/10_exercises.html\n",
      "https://python.itversity.com/08_user_defined_functions/01_user_defined_functions.html\n",
      "https://python.itversity.com/08_user_defined_functions/02_defining_functions.html\n",
      "https://python.itversity.com/08_user_defined_functions/03_doc_strings.html\n",
      "https://python.itversity.com/08_user_defined_functions/04_returning_values.html\n",
      "https://python.itversity.com/08_user_defined_functions/05_function_parameters_and_arguments.html\n",
      "https://python.itversity.com/08_user_defined_functions/06_varying_arguments.html\n",
      "https://python.itversity.com/08_user_defined_functions/07_keyword_arguments.html\n",
      "https://python.itversity.com/08_user_defined_functions/08_recap_of_user_defined_functions.html\n",
      "https://python.itversity.com/08_user_defined_functions/09_passing_functions_as_arguments.html\n",
      "https://python.itversity.com/08_user_defined_functions/10_lambda_functions.html\n",
      "https://python.itversity.com/08_user_defined_functions/11_usage_of_lambda_functions.html\n",
      "https://python.itversity.com/08_user_defined_functions/12_exercise_user_defined_functions.html\n",
      "https://python.itversity.com/09_overview_of_collections_list_and_set/01_overview_of_collections_list_and_set.html\n",
      "https://python.itversity.com/09_overview_of_collections_list_and_set/02_overview_of_list_and_set.html\n",
      "https://python.itversity.com/09_overview_of_collections_list_and_set/03_common_operations.html\n",
      "https://python.itversity.com/09_overview_of_collections_list_and_set/04_accessing_elements_from_list.html\n",
      "https://python.itversity.com/09_overview_of_collections_list_and_set/05_adding_elements_to_list.html\n",
      "https://python.itversity.com/09_overview_of_collections_list_and_set/07_other_list_operations.html\n",
      "https://python.itversity.com/09_overview_of_collections_list_and_set/08_adding_and_deleting_elements_set.html\n",
      "https://python.itversity.com/09_overview_of_collections_list_and_set/09_typical_set_operations.html\n",
      "https://python.itversity.com/09_overview_of_collections_list_and_set/10_validating_set.html\n",
      "https://python.itversity.com/09_overview_of_collections_list_and_set/11_list_and_set_usage.html\n",
      "https://python.itversity.com/10_overview_of_collections_dict_and_tuple/01_overview_of_collections_dict_and_tuple.html\n",
      "https://python.itversity.com/10_overview_of_collections_dict_and_tuple/02_overview_of_dict_and_tuple.html\n",
      "https://python.itversity.com/10_overview_of_collections_dict_and_tuple/03_common_operations.html\n",
      "https://python.itversity.com/10_overview_of_collections_dict_and_tuple/04_accessing_elements_tuples.html\n",
      "https://python.itversity.com/10_overview_of_collections_dict_and_tuple/05_accessing_elements_dict.html\n",
      "https://python.itversity.com/10_overview_of_collections_dict_and_tuple/06_manipulating_dict.html\n",
      "https://python.itversity.com/10_overview_of_collections_dict_and_tuple/07_common_examples_dict.html\n",
      "https://python.itversity.com/10_overview_of_collections_dict_and_tuple/08_list_of_tuples.html\n",
      "https://python.itversity.com/10_overview_of_collections_dict_and_tuple/09_list_of_dicts.html\n",
      "https://python.itversity.com/11_manipulating_collections_using_loops/01_manipulating_collections_using_loops.html\n",
      "https://python.itversity.com/11_manipulating_collections_using_loops/02_reading_files_into_collections.html\n",
      "https://python.itversity.com/11_manipulating_collections_using_loops/03_overview_of_standard_transformations.html\n",
      "https://python.itversity.com/11_manipulating_collections_using_loops/04_row_level_transformations.html\n",
      "https://python.itversity.com/11_manipulating_collections_using_loops/05_getting_unique_elements.html\n",
      "https://python.itversity.com/11_manipulating_collections_using_loops/06_filtering_data.html\n",
      "https://python.itversity.com/11_manipulating_collections_using_loops/07_preparing_data_sets.html\n",
      "https://python.itversity.com/11_manipulating_collections_using_loops/08_quick_recap_of_dict_operations.html\n",
      "https://python.itversity.com/11_manipulating_collections_using_loops/09_performing_total_aggregations.html\n",
      "https://python.itversity.com/11_manipulating_collections_using_loops/10_performing_grouped_aggregations.html\n",
      "https://python.itversity.com/11_manipulating_collections_using_loops/11_joining_data_sets.html\n",
      "https://python.itversity.com/11_manipulating_collections_using_loops/12_limitations_of_using_loops.html\n",
      "https://python.itversity.com/11_manipulating_collections_using_loops/13_exercises.html\n",
      "https://python.itversity.com/12_development_of_map_reduce_apis/01_development_of_map_reduce_apis.html\n",
      "https://python.itversity.com/12_development_of_map_reduce_apis/02_develop_myFilter.html\n",
      "https://python.itversity.com/12_development_of_map_reduce_apis/03_validate_myFilter.html\n",
      "https://python.itversity.com/12_development_of_map_reduce_apis/04_develop_myMap.html\n",
      "https://python.itversity.com/12_development_of_map_reduce_apis/05_validate_myMap.html\n",
      "https://python.itversity.com/12_development_of_map_reduce_apis/06_develop_myReduce.html\n",
      "https://python.itversity.com/12_development_of_map_reduce_apis/07_validate_myReduce_function.html\n",
      "https://python.itversity.com/12_development_of_map_reduce_apis/08_develop_myReduceByKey.html\n",
      "https://python.itversity.com/12_development_of_map_reduce_apis/09_validate_myReduceKey.html\n",
      "https://python.itversity.com/12_development_of_map_reduce_apis/10_exercises.html\n",
      "https://python.itversity.com/13_understanding_map_reduce_libraries/01_understanding_map_reduce_libraries.html\n",
      "https://python.itversity.com/13_understanding_map_reduce_libraries/02_preparing_data_sets.html\n",
      "https://python.itversity.com/13_understanding_map_reduce_libraries/03_filtering_data_using_filter.html\n",
      "https://python.itversity.com/13_understanding_map_reduce_libraries/04_projecting_data_using_map.html\n",
      "https://python.itversity.com/13_understanding_map_reduce_libraries/05_row_level_transformations_using_map.html\n",
      "https://python.itversity.com/13_understanding_map_reduce_libraries/06_aggregations_using_reduce.html\n",
      "https://python.itversity.com/13_understanding_map_reduce_libraries/07_overview_of_itertools.html\n",
      "https://python.itversity.com/13_understanding_map_reduce_libraries/08_using_groupby.html\n",
      "https://python.itversity.com/13_understanding_map_reduce_libraries/09_limitations_of_map_reduce_libraries.html\n",
      "https://python.itversity.com/14_overview_of_object_oriented_programming/01_overview_of_object_oriented_programming.html\n",
      "https://python.itversity.com/14_overview_of_object_oriented_programming/02_classes_and_objects.html\n",
      "https://python.itversity.com/14_overview_of_object_oriented_programming/03_constructors.html\n",
      "https://python.itversity.com/14_overview_of_object_oriented_programming/04_methods.html\n",
      "https://python.itversity.com/14_overview_of_object_oriented_programming/05_inheritance.html\n",
      "https://python.itversity.com/14_overview_of_object_oriented_programming/06_encapsulation.html\n",
      "https://python.itversity.com/14_overview_of_object_oriented_programming/07_polymorphism.html\n",
      "https://python.itversity.com/14_overview_of_object_oriented_programming/08_dynamic_classes.html\n",
      "https://python.itversity.com/15_overview_of_pandas_libraries/01_overview_of_pandas_libraries.html\n",
      "https://python.itversity.com/15_overview_of_pandas_libraries/02_pandas_data_structures_overview.html\n",
      "https://python.itversity.com/15_overview_of_pandas_libraries/03_overview_of_series.html\n",
      "https://python.itversity.com/15_overview_of_pandas_libraries/04_creating_data_frames_from_lists.html\n",
      "https://python.itversity.com/15_overview_of_pandas_libraries/05_data_frames_basic_operations.html\n",
      "https://python.itversity.com/15_overview_of_pandas_libraries/06_csv_to_pandas_data_frame.html\n",
      "https://python.itversity.com/15_overview_of_pandas_libraries/07_projecting_and_filtering.html\n",
      "https://python.itversity.com/15_overview_of_pandas_libraries/08_performing_total_aggregations.html\n",
      "https://python.itversity.com/15_overview_of_pandas_libraries/09_performing_grouped_aggregations.html\n",
      "https://python.itversity.com/15_overview_of_pandas_libraries/10_writing_data_frames_to_files.html\n",
      "https://python.itversity.com/15_overview_of_pandas_libraries/12_exercises_pandas_data_frames.html\n",
      "https://python.itversity.com/15_overview_of_pandas_libraries/11_joining_data_frames.html\n",
      "https://python.itversity.com/16_web_scraping_using_beautifulsoup/01_web_scraping_using_beautifulsoup.html\n",
      "https://python.itversity.com/16_web_scraping_using_beautifulsoup/02_problem_statement.html\n",
      "https://python.itversity.com/16_web_scraping_using_beautifulsoup/03_installing_pre-requisites.html\n",
      "https://python.itversity.com/16_web_scraping_using_beautifulsoup/04_overview_of_beautifulsoup.html\n",
      "https://python.itversity.com/16_web_scraping_using_beautifulsoup/05_getting_html_content.html\n",
      "https://python.itversity.com/16_web_scraping_using_beautifulsoup/06_processing_html_content.html\n",
      "https://python.itversity.com/16_web_scraping_using_beautifulsoup/07_creating_data_frame.html\n",
      "https://python.itversity.com/16_web_scraping_using_beautifulsoup/08_processing_data_using_data_frame_apis.html\n",
      "https://python.itversity.com/17_database_programming_crud_operations/01_database_programming_crud_operations.html\n",
      "https://python.itversity.com/17_database_programming_crud_operations/02_overview_of_database_programming.html\n",
      "https://python.itversity.com/17_database_programming_crud_operations/03_recap_of_rdbms_concepts.html\n",
      "https://python.itversity.com/17_database_programming_crud_operations/04_setup_database_client_libraries.html\n",
      "https://python.itversity.com/17_database_programming_crud_operations/05_function_get_database_connection.html\n",
      "https://python.itversity.com/17_database_programming_crud_operations/06_creating_database_table.html\n",
      "https://python.itversity.com/17_database_programming_crud_operations/07_inserting_data_into_table.html\n",
      "https://python.itversity.com/17_database_programming_crud_operations/08_updating_existing_table_data.html\n",
      "https://python.itversity.com/17_database_programming_crud_operations/09_deleting_data_from_table.html\n",
      "https://python.itversity.com/17_database_programming_crud_operations/10_querying_data_from_table.html\n",
      "https://python.itversity.com/17_database_programming_crud_operations/11_recap_crud_operations.html\n",
      "https://python.itversity.com/18_database_programming_batch_operations/01_database_programming_batch_operations.html\n",
      "https://python.itversity.com/18_database_programming_batch_operations/02_function_get_database_connection.html\n",
      "https://python.itversity.com/18_database_programming_batch_operations/03_creating_database_table.html\n",
      "https://python.itversity.com/18_database_programming_batch_operations/04_recap_of_insert.html\n",
      "https://python.itversity.com/18_database_programming_batch_operations/05_preparing_database.html\n",
      "https://python.itversity.com/18_database_programming_batch_operations/06_reading_data_from_file.html\n",
      "https://python.itversity.com/19_project_web_scraping_into_database/01_project_web_scraping_into_database.html\n",
      "https://python.itversity.com/19_project_web_scraping_into_database/02_define_problem_statement.html\n",
      "https://python.itversity.com/19_project_web_scraping_into_database/03_setup_project.html\n",
      "https://python.itversity.com/19_project_web_scraping_into_database/04_overview_of_python_virtual_environments.html\n",
      "https://python.itversity.com/19_project_web_scraping_into_database/05_installing_required_libraries.html\n",
      "https://python.itversity.com/19_project_web_scraping_into_database/06_setup_logging.html\n",
      "https://python.itversity.com/19_project_web_scraping_into_database/07_modularizing_the_project.html\n",
      "https://python.itversity.com/19_project_web_scraping_into_database/08_setup_database.html\n",
      "https://python.itversity.com/19_project_web_scraping_into_database/10_create_required_table.html\n",
      "https://python.itversity.com/19_project_web_scraping_into_database/11_reading_the_data.html\n",
      "https://python.itversity.com/19_project_web_scraping_into_database/12_validating_data.html\n",
      "https://python.itversity.com/19_project_web_scraping_into_database/13_apply_required_transformations.html\n",
      "https://python.itversity.com/19_project_web_scraping_into_database/14_writing_to_database.html\n",
      "https://python.itversity.com/19_project_web_scraping_into_database/15_run_queries_against_data.html\n"
     ]
    }
   ],
   "source": [
    "for first_level_url in first_level_urls:\n",
    "    url = f\"{python_base_url}/{first_level_url}\"\n",
    "    print(url)\n",
    "    page = requests.get(url)\n",
    "    soup = BeautifulSoup(page.content, 'html.parser')\n",
    "    current_nav = soup.find('nav', id='bd-docs-nav')\n",
    "    current_href = current_nav.find('li', class_='toctree-l1 current active')\n",
    "    for second_level_href in current_href.find_all('a', class_='reference internal'):\n",
    "        print(f\"{'/'.join(url.split('/')[:-1])}/{second_level_href['href']}\")"
   ]
  },
  {
   "cell_type": "code",
   "execution_count": null,
   "metadata": {},
   "outputs": [],
   "source": []
  }
 ],
 "metadata": {
  "kernelspec": {
   "display_name": "Python 3",
   "language": "python",
   "name": "python3"
  },
  "language_info": {
   "codemirror_mode": {
    "name": "ipython",
    "version": 3
   },
   "file_extension": ".py",
   "mimetype": "text/x-python",
   "name": "python",
   "nbconvert_exporter": "python",
   "pygments_lexer": "ipython3",
   "version": "3.6.12"
  }
 },
 "nbformat": 4,
 "nbformat_minor": 4
}
