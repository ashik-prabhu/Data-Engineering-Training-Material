{
 "cells": [
  {
   "cell_type": "markdown",
   "metadata": {},
   "source": [
    "## Overview of BeautifulSoup\n",
    "\n",
    "Let us get brief overview of BeautifulSoup. It is a library which provides APIs to process HTML data.\n",
    "* APIs are built on top of HTML's DOM structure.\n",
    "* If you are not familiar with HTML, make sure to familiarize about following terms.\n",
    "  * Tags\n",
    "  * Tag Attributes such as id, class\n",
    "  * Content or Text (between tags)\n",
    "* Here are some of the important tags from the perspective of web scraping.\n",
    "  * `head`\n",
    "  * `body`\n",
    "  * Anchor Tag - `a`\n",
    "  * Container Tag - `div`\n",
    "  * Script Tag - `script`\n",
    "  * Paragraph Tag - `p`\n",
    "  * Preformatted Tag - `pre`\n",
    "  * Table related tags such as `table`, table header - `th`, table row - `tr`, table details - `td` and more.\n",
    "* Here are the steps we can perform to process strings which have HTML in it.\n",
    "  * Create a string which contain HTML.\n",
    "  * Create BeautifulSoup object by passing HTML string along with `html.parser` as part of `features` keyword argument.\n",
    "* Here is a simple HTML which we will use some of the core capabilities of BeautifulSoup."
   ]
  },
  {
   "cell_type": "code",
   "execution_count": 1,
   "metadata": {
    "tags": [
     "remove-cell"
    ]
   },
   "outputs": [
    {
     "data": {
      "text/html": [
       "<iframe width=\"560\" height=\"315\" src=\"https://www.youtube.com/embed/zbD0HHFluVw?rel=0&amp;controls=1&amp;showinfo=0\" frameborder=\"0\" allowfullscreen></iframe>\n"
      ],
      "text/plain": [
       "<IPython.core.display.HTML object>"
      ]
     },
     "metadata": {},
     "output_type": "display_data"
    }
   ],
   "source": [
    "%%HTML\n",
    "<iframe width=\"560\" height=\"315\" src=\"https://www.youtube.com/embed/zbD0HHFluVw?rel=0&amp;controls=1&amp;showinfo=0\" frameborder=\"0\" allowfullscreen></iframe>"
   ]
  },
  {
   "cell_type": "code",
   "execution_count": 7,
   "metadata": {},
   "outputs": [
    {
     "data": {
      "text/html": [
       "<table>\n",
       "    <tbody>\n",
       "        <tr>\n",
       "            <th>Details</th>\n",
       "            <th>URL</th>\n",
       "        </tr>\n",
       "        <tr>\n",
       "            <td>Video Content</td>\n",
       "            <td><a href=\"https://www.youtube.com/itversityin\">YouTube Channel</a></td>\n",
       "        </tr>\n",
       "        <tr>\n",
       "            <td>Reference Material</td>\n",
       "            <td><a href=\"https://www.github.com/dgadiraju/itversity-books\">GitHub Repository</a></td>\n",
       "        </tr>\n",
       "    </tbody>\n",
       "</table>\n"
      ],
      "text/plain": [
       "<IPython.core.display.HTML object>"
      ]
     },
     "metadata": {},
     "output_type": "display_data"
    }
   ],
   "source": [
    "%%html\n",
    "<table>\n",
    "    <tbody>\n",
    "        <tr>\n",
    "            <th>Details</th>\n",
    "            <th>URL</th>\n",
    "        </tr>\n",
    "        <tr>\n",
    "            <td>Video Content</td>\n",
    "            <td><a href=\"https://www.youtube.com/itversityin\">YouTube Channel</a></td>\n",
    "        </tr>\n",
    "        <tr>\n",
    "            <td>Reference Material</td>\n",
    "            <td><a href=\"https://www.github.com/dgadiraju/itversity-books\">GitHub Repository</a></td>\n",
    "        </tr>\n",
    "    </tbody>\n",
    "</table>"
   ]
  },
  {
   "cell_type": "markdown",
   "metadata": {},
   "source": [
    "```{note}\n",
    "Let us define string type variable for the above HTML.\n",
    "```"
   ]
  },
  {
   "cell_type": "code",
   "execution_count": 8,
   "metadata": {},
   "outputs": [],
   "source": [
    "html_str = \"\"\"<table>\n",
    "    <tbody>\n",
    "        <tr>\n",
    "            <th>Details</th>\n",
    "            <th>URL</th>\n",
    "        </tr>\n",
    "        <tr>\n",
    "            <td>Video Content</td>\n",
    "            <td><a href=\"https://www.youtube.com/itversityin\">YouTube Channel</a>\n",
    "            </td>\n",
    "        </tr>\n",
    "        <tr>\n",
    "            <td>Reference Material</td>\n",
    "            <td><a href=\"https://www.github.com/dgadiraju/itversity-books\">GitHub Repository</a>\n",
    "            </td>\n",
    "        </tr>\n",
    "    </tbody>\n",
    "</table>\"\"\""
   ]
  },
  {
   "cell_type": "markdown",
   "metadata": {},
   "source": [
    "Let us build Beautiful Soup object to leverage methods or APIs scrape the HTML Content.\n",
    "* Create BeautifulSoup object by name soup.\n",
    "* We can access first occurrence of tag using its reference."
   ]
  },
  {
   "cell_type": "code",
   "execution_count": 9,
   "metadata": {},
   "outputs": [],
   "source": [
    "from bs4 import BeautifulSoup"
   ]
  },
  {
   "cell_type": "code",
   "execution_count": null,
   "metadata": {},
   "outputs": [],
   "source": [
    "#help(BeautifulSoup)"
   ]
  },
  {
   "cell_type": "code",
   "execution_count": 11,
   "metadata": {},
   "outputs": [
    {
     "data": {
      "text/plain": [
       "<table>\n",
       "<tbody>\n",
       "<tr>\n",
       "<th>Details</th>\n",
       "<th>URL</th>\n",
       "</tr>\n",
       "<tr>\n",
       "<td>Video Content</td>\n",
       "<td><a href=\"https://www.youtube.com/itversityin\">YouTube Channel</a>\n",
       "</td>\n",
       "</tr>\n",
       "<tr>\n",
       "<td>Reference Material</td>\n",
       "<td><a href=\"https://www.github.com/dgadiraju/itversity-books\">GitHub Repository</a>\n",
       "</td>\n",
       "</tr>\n",
       "</tbody>\n",
       "</table>"
      ]
     },
     "execution_count": 11,
     "metadata": {},
     "output_type": "execute_result"
    }
   ],
   "source": [
    "BeautifulSoup(html_str, features='html.parser')"
   ]
  },
  {
   "cell_type": "code",
   "execution_count": 12,
   "metadata": {},
   "outputs": [
    {
     "name": "stdout",
     "output_type": "stream",
     "text": [
      "<table>\n",
      " <tbody>\n",
      "  <tr>\n",
      "   <th>\n",
      "    Details\n",
      "   </th>\n",
      "   <th>\n",
      "    URL\n",
      "   </th>\n",
      "  </tr>\n",
      "  <tr>\n",
      "   <td>\n",
      "    Video Content\n",
      "   </td>\n",
      "   <td>\n",
      "    <a href=\"https://www.youtube.com/itversityin\">\n",
      "     YouTube Channel\n",
      "    </a>\n",
      "   </td>\n",
      "  </tr>\n",
      "  <tr>\n",
      "   <td>\n",
      "    Reference Material\n",
      "   </td>\n",
      "   <td>\n",
      "    <a href=\"https://www.github.com/dgadiraju/itversity-books\">\n",
      "     GitHub Repository\n",
      "    </a>\n",
      "   </td>\n",
      "  </tr>\n",
      " </tbody>\n",
      "</table>\n"
     ]
    }
   ],
   "source": [
    "from bs4 import BeautifulSoup\n",
    "\n",
    "soup = BeautifulSoup(html_str, 'html.parser')\n",
    "print(soup.prettify())"
   ]
  },
  {
   "cell_type": "code",
   "execution_count": null,
   "metadata": {},
   "outputs": [],
   "source": []
  }
 ],
 "metadata": {
  "kernelspec": {
   "display_name": "Python 3",
   "language": "python",
   "name": "python3"
  },
  "language_info": {
   "codemirror_mode": {
    "name": "ipython",
    "version": 3
   },
   "file_extension": ".py",
   "mimetype": "text/x-python",
   "name": "python",
   "nbconvert_exporter": "python",
   "pygments_lexer": "ipython3",
   "version": "3.6.12"
  }
 },
 "nbformat": 4,
 "nbformat_minor": 4
}
