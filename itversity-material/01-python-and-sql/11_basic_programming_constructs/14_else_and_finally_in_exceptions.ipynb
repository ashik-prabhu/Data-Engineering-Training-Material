{
 "cells": [
  {
   "cell_type": "markdown",
   "id": "bf5034b0",
   "metadata": {},
   "source": [
    "## Exception Handling - else and finally\n",
    "\n",
    "Let us go through else and finally.\n",
    "* Some times we might want to log all sucessful executions. We can leverage `else` for it.\n",
    "* If no exceptions are raised or thrown, then the code in `else` block will be executed.\n",
    "* The code in the `finally` will be executed all the time. Typically we use `finally` to ensure that any open database connections closed irrespective whether exceptions are raised or not.\n",
    "* We also use `finally` to generate informational logs."
   ]
  },
  {
   "cell_type": "code",
   "execution_count": null,
   "id": "7d4e1ec1",
   "metadata": {},
   "outputs": [],
   "source": [
    "a = 1"
   ]
  },
  {
   "cell_type": "code",
   "execution_count": null,
   "id": "f3ea0ad3",
   "metadata": {},
   "outputs": [],
   "source": [
    "b = 'ten'"
   ]
  },
  {
   "cell_type": "code",
   "execution_count": null,
   "id": "ba65a6ae",
   "metadata": {},
   "outputs": [],
   "source": [
    "int(a) + int(b)"
   ]
  },
  {
   "cell_type": "code",
   "execution_count": null,
   "id": "754611a7",
   "metadata": {},
   "outputs": [],
   "source": [
    "try:\n",
    "    res = int(a) + int(b)\n",
    "except TypeError:\n",
    "    print(f'Either {a} or {b} or both are not of integer type')"
   ]
  },
  {
   "cell_type": "code",
   "execution_count": 1,
   "id": "205bfff5",
   "metadata": {},
   "outputs": [
    {
     "name": "stdout",
     "output_type": "stream",
     "text": [
      "Sum of 1 and 10 is 11\n"
     ]
    }
   ],
   "source": [
    "a = 1\n",
    "b = '10'\n",
    "try:\n",
    "    res = int(a) + int(b)\n",
    "except TypeError:\n",
    "    print(f'Either {a} or {b} or both are not of integer type')\n",
    "else:\n",
    "    print(f'Sum of {a} and {b} is {res}')"
   ]
  },
  {
   "cell_type": "code",
   "execution_count": 2,
   "id": "3f226f63",
   "metadata": {},
   "outputs": [
    {
     "name": "stdout",
     "output_type": "stream",
     "text": [
      "Sum of 1 and 10 is 11\n",
      "Performed arithmetic operation on 1 and 10\n"
     ]
    }
   ],
   "source": [
    "a = 1\n",
    "b = '10'\n",
    "try:\n",
    "    res = int(a) + int(b)\n",
    "except TypeError:\n",
    "    print(f'Either {a} or {b} or both are not of integer type')\n",
    "else:\n",
    "    print(f'Sum of {a} and {b} is {res}')\n",
    "finally:\n",
    "    print(f'Performed arithmetic operation on {a} and {b}')"
   ]
  },
  {
   "cell_type": "code",
   "execution_count": 4,
   "id": "992f39f1",
   "metadata": {},
   "outputs": [
    {
     "name": "stdout",
     "output_type": "stream",
     "text": [
      "Either 1 or ten or both are not of integer type\n",
      "Performed arithmetic operation on 1 and ten\n"
     ]
    }
   ],
   "source": [
    "a = 1\n",
    "b = 'ten'\n",
    "try:\n",
    "    res = int(a) + int(b)\n",
    "except ValueError:\n",
    "    print(f'Either {a} or {b} or both are not of integer type')\n",
    "else:\n",
    "    print(f'Sum of {a} and {b} is {res}')\n",
    "finally:\n",
    "    print(f'Performed arithmetic operation on {a} and {b}')"
   ]
  },
  {
   "cell_type": "code",
   "execution_count": null,
   "id": "d72e4c65",
   "metadata": {},
   "outputs": [],
   "source": []
  }
 ],
 "metadata": {
  "kernelspec": {
   "display_name": "Python 3",
   "language": "python",
   "name": "python3"
  },
  "language_info": {
   "codemirror_mode": {
    "name": "ipython",
    "version": 3
   },
   "file_extension": ".py",
   "mimetype": "text/x-python",
   "name": "python",
   "nbconvert_exporter": "python",
   "pygments_lexer": "ipython3",
   "version": "3.6.12"
  }
 },
 "nbformat": 4,
 "nbformat_minor": 5
}
