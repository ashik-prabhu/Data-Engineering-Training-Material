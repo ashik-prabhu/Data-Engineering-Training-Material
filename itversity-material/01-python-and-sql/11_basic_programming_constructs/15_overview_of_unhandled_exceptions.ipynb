{
 "cells": [
  {
   "cell_type": "markdown",
   "id": "5ad34111",
   "metadata": {
    "tags": []
   },
   "source": [
    "## Overview of Unhandled Exceptions\n",
    "\n",
    "Let us see how we can handle general or unhandled exceptions.\n",
    "* As part of the code developed, we might not be able to handle all the exceptions.\n",
    "* When it comes to class hierarchy in Python, Exception is the root class. All unhandled exceptions can be dealt with `Exception` as part of `catch`."
   ]
  },
  {
   "cell_type": "code",
   "execution_count": 5,
   "id": "5bf2c5c0",
   "metadata": {},
   "outputs": [
    {
     "ename": "ValueError",
     "evalue": "invalid literal for int() with base 10: 'ten'",
     "output_type": "error",
     "traceback": [
      "\u001b[0;31m---------------------------------------------------------------------------\u001b[0m",
      "\u001b[0;31mValueError\u001b[0m                                Traceback (most recent call last)",
      "\u001b[0;32m/tmp/ipykernel_69/2253599874.py\u001b[0m in \u001b[0;36m<module>\u001b[0;34m\u001b[0m\n\u001b[1;32m      4\u001b[0m \u001b[0mb\u001b[0m \u001b[0;34m=\u001b[0m \u001b[0;34m'ten'\u001b[0m\u001b[0;34m\u001b[0m\u001b[0;34m\u001b[0m\u001b[0m\n\u001b[1;32m      5\u001b[0m \u001b[0;32mtry\u001b[0m\u001b[0;34m:\u001b[0m\u001b[0;34m\u001b[0m\u001b[0;34m\u001b[0m\u001b[0m\n\u001b[0;32m----> 6\u001b[0;31m     \u001b[0mres\u001b[0m \u001b[0;34m=\u001b[0m \u001b[0mint\u001b[0m\u001b[0;34m(\u001b[0m\u001b[0ma\u001b[0m\u001b[0;34m)\u001b[0m \u001b[0;34m+\u001b[0m \u001b[0mint\u001b[0m\u001b[0;34m(\u001b[0m\u001b[0mb\u001b[0m\u001b[0;34m)\u001b[0m\u001b[0;34m\u001b[0m\u001b[0;34m\u001b[0m\u001b[0m\n\u001b[0m\u001b[1;32m      7\u001b[0m \u001b[0;32mexcept\u001b[0m \u001b[0mTypeError\u001b[0m\u001b[0;34m:\u001b[0m\u001b[0;34m\u001b[0m\u001b[0;34m\u001b[0m\u001b[0m\n\u001b[1;32m      8\u001b[0m     \u001b[0mprint\u001b[0m\u001b[0;34m(\u001b[0m\u001b[0;34mf'Either {a} or {b} or both are not of integer type'\u001b[0m\u001b[0;34m)\u001b[0m\u001b[0;34m\u001b[0m\u001b[0;34m\u001b[0m\u001b[0m\n",
      "\u001b[0;31mValueError\u001b[0m: invalid literal for int() with base 10: 'ten'"
     ]
    }
   ],
   "source": [
    "# This code handles only type error\n",
    "# As b = 'ten', it will throw ValueError\n",
    "a = 1\n",
    "b = 'ten'\n",
    "try:\n",
    "    res = int(a) + int(b)\n",
    "except TypeError:\n",
    "    print(f'Either {a} or {b} or both are not of integer type')\n",
    "else:\n",
    "    print(f'Sum of {a} and {b} is {res}')"
   ]
  },
  {
   "cell_type": "code",
   "execution_count": 6,
   "id": "c201526e",
   "metadata": {},
   "outputs": [
    {
     "name": "stdout",
     "output_type": "stream",
     "text": [
      "Unhandled exeception while adding 1 and ten\n"
     ]
    }
   ],
   "source": [
    "# By adding Exception, if the code raises any unhandled exceptions\n",
    "# then they will be redirected to generic Exception\n",
    "a = 1\n",
    "b = 'ten'\n",
    "try:\n",
    "    res = int(a) + int(b)\n",
    "except TypeError:\n",
    "    print(f'Either {a} or {b} or both are not of integer type')\n",
    "except Exception:\n",
    "    print(f'Unhandled exeception while adding {a} and {b}')\n",
    "else:\n",
    "    print(f'Sum of {a} and {b} is {res}')"
   ]
  },
  {
   "cell_type": "code",
   "execution_count": 7,
   "id": "1bb8b50d",
   "metadata": {},
   "outputs": [
    {
     "name": "stdout",
     "output_type": "stream",
     "text": [
      "Either 1 or ten or both are not of integer type\n",
      "Performed arithmetic operation on 1 and ten\n"
     ]
    }
   ],
   "source": [
    "# finally will work in the same way as before.\n",
    "# The code in the finally block will always execute\n",
    "a = 1\n",
    "b = 'ten'\n",
    "try:\n",
    "    res = int(a) + int(b)\n",
    "except ValueError:\n",
    "    print(f'Either {a} or {b} or both are not of integer type')\n",
    "except Exception:\n",
    "    print(f'Unhandled exeception while adding {a} and {b}')\n",
    "else:\n",
    "    print(f'Sum of {a} and {b} is {res}')\n",
    "finally:\n",
    "    print(f'Performed arithmetic operation on {a} and {b}')"
   ]
  },
  {
   "cell_type": "code",
   "execution_count": null,
   "id": "5c407dbc",
   "metadata": {},
   "outputs": [],
   "source": []
  }
 ],
 "metadata": {
  "kernelspec": {
   "display_name": "Python 3",
   "language": "python",
   "name": "python3"
  },
  "language_info": {
   "codemirror_mode": {
    "name": "ipython",
    "version": 3
   },
   "file_extension": ".py",
   "mimetype": "text/x-python",
   "name": "python",
   "nbconvert_exporter": "python",
   "pygments_lexer": "ipython3",
   "version": "3.6.12"
  }
 },
 "nbformat": 4,
 "nbformat_minor": 5
}
