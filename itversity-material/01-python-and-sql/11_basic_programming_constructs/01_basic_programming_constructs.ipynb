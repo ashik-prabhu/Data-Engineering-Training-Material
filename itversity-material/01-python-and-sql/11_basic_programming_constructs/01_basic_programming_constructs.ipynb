{
 "cells": [
  {
   "cell_type": "markdown",
   "metadata": {},
   "source": [
    "# Basic Programming Constructs\n",
    "\n",
    "\n",
    "As part of this section we will see basic programming constructs in Python.\n",
    "\n",
    "* Getting Help\n",
    "* Variables and Objects\n",
    "* Data Types - Commonly used\n",
    "* Operators in Python\n",
    "* Comments and Doc Strings\n",
    "* Conditionals\n",
    "* All about for loops\n",
    "* Running OS Commands"
   ]
  }
 ],
 "metadata": {
  "kernelspec": {
   "display_name": "Python 3",
   "language": "python",
   "name": "python3"
  },
  "language_info": {
   "codemirror_mode": {
    "name": "ipython",
    "version": 3
   },
   "file_extension": ".py",
   "mimetype": "text/x-python",
   "name": "python",
   "nbconvert_exporter": "python",
   "pygments_lexer": "ipython3",
   "version": "3.6.12"
  }
 },
 "nbformat": 4,
 "nbformat_minor": 4
}
