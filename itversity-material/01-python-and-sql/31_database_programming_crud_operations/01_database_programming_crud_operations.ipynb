{
 "cells": [
  {
   "cell_type": "markdown",
   "metadata": {
    "pycharm": {
     "name": "#%% md"
    }
   },
   "source": [
    "# Database Programming – CRUD Operations\n",
    "\n",
    "\n",
    "Here are the topics covered as part of this module.\n",
    "* Overview of Database Programming\n",
    "* Recap of RDBMS Concepts\n",
    "* Setup Database Client Libraries\n",
    "* Function - Get Database Connection\n",
    "* Creating Database Table\n",
    "* Inserting Data into Table\n",
    "* Updating existing Table Data\n",
    "* Deleting Data from Table\n",
    "* Querying Data from Table\n",
    "* Recap - CRUD Operations\n",
    "\n",
    "We would highly recommend to be familiar with databases and SQL to be comfortable with Database Programming using Python or any other programming language.\n",
    "\n",
    "Feel free to **Master SQL using Postgresql** as target database using this course or [playlist](https://www.youtube.com/playlist?list=PLf0swTFhTI8p2yirPMTUhJ2xzuQhhUTwY)."
   ]
  }
 ],
 "metadata": {
  "kernelspec": {
   "display_name": "Python 3",
   "language": "python",
   "name": "python3"
  },
  "language_info": {
   "codemirror_mode": {
    "name": "ipython",
    "version": 3
   },
   "file_extension": ".py",
   "mimetype": "text/x-python",
   "name": "python",
   "nbconvert_exporter": "python",
   "pygments_lexer": "ipython3",
   "version": "3.6.12"
  }
 },
 "nbformat": 4,
 "nbformat_minor": 4
}
