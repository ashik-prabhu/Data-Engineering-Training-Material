{
 "cells": [
  {
   "cell_type": "markdown",
   "id": "69b80c80",
   "metadata": {},
   "source": [
    "## Read Delimited files into list of tuples\n",
    "\n",
    "Let us go through reading delimited files into list of tuples. Here are the steps involved.\n",
    "* Open the file in read mode (default).\n",
    "* Read the data in the file as string using `read` and then use `splitlines` to create a collection.\n",
    "* At this time, we will have a list where each element is a line from the file.\n",
    "* The data in each element is typically delimited. We have to read the data at each attribute level.\n",
    "* We typically process further to create list of tuples or list of dicts. Each string will be converted to tuple or a dict.\n",
    "* We can either use conventional loops or list comprehensions or functions like `map` to convert each element in the list to a tuple or dict. For now, we will focus on tuple."
   ]
  },
  {
   "cell_type": "code",
   "execution_count": 1,
   "id": "d623e664",
   "metadata": {},
   "outputs": [
    {
     "name": "stdout",
     "output_type": "stream",
     "text": [
      "total 2932\n",
      "-rw-r--r-- 1 root root 2999944 Jan 21  2021 part-00000\n"
     ]
    }
   ],
   "source": [
    "!ls -ltr /data/retail_db/orders"
   ]
  },
  {
   "cell_type": "code",
   "execution_count": 2,
   "id": "69003205",
   "metadata": {},
   "outputs": [
    {
     "name": "stdout",
     "output_type": "stream",
     "text": [
      "1,2013-07-25 00:00:00.0,11599,CLOSED\n",
      "2,2013-07-25 00:00:00.0,256,PENDING_PAYMENT\n",
      "3,2013-07-25 00:00:00.0,12111,COMPLETE\n",
      "4,2013-07-25 00:00:00.0,8827,CLOSED\n",
      "5,2013-07-25 00:00:00.0,11318,COMPLETE\n"
     ]
    }
   ],
   "source": [
    "!head -5 /data/retail_db/orders/part-00000"
   ]
  },
  {
   "cell_type": "code",
   "execution_count": 3,
   "id": "78e14f34",
   "metadata": {},
   "outputs": [
    {
     "name": "stdout",
     "output_type": "stream",
     "text": [
      "68883 /data/retail_db/orders/part-00000\n"
     ]
    }
   ],
   "source": [
    "!wc -l /data/retail_db/orders/part-00000"
   ]
  },
  {
   "cell_type": "markdown",
   "id": "779902e0",
   "metadata": {},
   "source": [
    "* Open the file in read mode."
   ]
  },
  {
   "cell_type": "code",
   "execution_count": 4,
   "id": "717ed5c0",
   "metadata": {},
   "outputs": [],
   "source": [
    "orders_file = open('/data/retail_db/orders/part-00000')"
   ]
  },
  {
   "cell_type": "markdown",
   "id": "fba9436e",
   "metadata": {},
   "source": [
    "* Read the data from the file into list of strings."
   ]
  },
  {
   "cell_type": "code",
   "execution_count": 5,
   "id": "f3b78bf6",
   "metadata": {},
   "outputs": [],
   "source": [
    "orders_list = orders_file.read().splitlines()"
   ]
  },
  {
   "cell_type": "code",
   "execution_count": 6,
   "id": "a54ee553",
   "metadata": {},
   "outputs": [
    {
     "data": {
      "text/plain": [
       "list"
      ]
     },
     "execution_count": 6,
     "metadata": {},
     "output_type": "execute_result"
    }
   ],
   "source": [
    "type(orders_list)"
   ]
  },
  {
   "cell_type": "code",
   "execution_count": 7,
   "id": "b5d313ae",
   "metadata": {},
   "outputs": [
    {
     "data": {
      "text/plain": [
       "['1,2013-07-25 00:00:00.0,11599,CLOSED',\n",
       " '2,2013-07-25 00:00:00.0,256,PENDING_PAYMENT',\n",
       " '3,2013-07-25 00:00:00.0,12111,COMPLETE',\n",
       " '4,2013-07-25 00:00:00.0,8827,CLOSED',\n",
       " '5,2013-07-25 00:00:00.0,11318,COMPLETE',\n",
       " '6,2013-07-25 00:00:00.0,7130,COMPLETE',\n",
       " '7,2013-07-25 00:00:00.0,4530,COMPLETE',\n",
       " '8,2013-07-25 00:00:00.0,2911,PROCESSING',\n",
       " '9,2013-07-25 00:00:00.0,5657,PENDING_PAYMENT',\n",
       " '10,2013-07-25 00:00:00.0,5648,PENDING_PAYMENT']"
      ]
     },
     "execution_count": 7,
     "metadata": {},
     "output_type": "execute_result"
    }
   ],
   "source": [
    "orders_list[:10]"
   ]
  },
  {
   "cell_type": "code",
   "execution_count": 8,
   "id": "e834df10",
   "metadata": {},
   "outputs": [
    {
     "data": {
      "text/plain": [
       "68883"
      ]
     },
     "execution_count": 8,
     "metadata": {},
     "output_type": "execute_result"
    }
   ],
   "source": [
    "len(orders_list)"
   ]
  },
  {
   "cell_type": "code",
   "execution_count": 9,
   "id": "0f469a92",
   "metadata": {},
   "outputs": [
    {
     "data": {
      "text/plain": [
       "'1,2013-07-25 00:00:00.0,11599,CLOSED'"
      ]
     },
     "execution_count": 9,
     "metadata": {},
     "output_type": "execute_result"
    }
   ],
   "source": [
    "orders_list[0]"
   ]
  },
  {
   "cell_type": "code",
   "execution_count": 10,
   "id": "2e0e596f",
   "metadata": {},
   "outputs": [
    {
     "data": {
      "text/plain": [
       "str"
      ]
     },
     "execution_count": 10,
     "metadata": {},
     "output_type": "execute_result"
    }
   ],
   "source": [
    "type(orders_list[0])"
   ]
  },
  {
   "cell_type": "markdown",
   "id": "d25e23da",
   "metadata": {},
   "source": [
    "* Converting each string in **orders_list** into list of tuples using conventional `for` loop."
   ]
  },
  {
   "cell_type": "code",
   "execution_count": 11,
   "id": "16bedc52",
   "metadata": {},
   "outputs": [],
   "source": [
    "order = orders_list[0]"
   ]
  },
  {
   "cell_type": "code",
   "execution_count": 12,
   "id": "142eef6c",
   "metadata": {},
   "outputs": [
    {
     "data": {
      "text/plain": [
       "['1', '2013-07-25 00:00:00.0', '11599', 'CLOSED']"
      ]
     },
     "execution_count": 12,
     "metadata": {},
     "output_type": "execute_result"
    }
   ],
   "source": [
    "order.split(',')"
   ]
  },
  {
   "cell_type": "code",
   "execution_count": 13,
   "id": "5f29a26a",
   "metadata": {},
   "outputs": [
    {
     "data": {
      "text/plain": [
       "('1', '2013-07-25 00:00:00.0', '11599', 'CLOSED')"
      ]
     },
     "execution_count": 13,
     "metadata": {},
     "output_type": "execute_result"
    }
   ],
   "source": [
    "tuple(order.split(','))"
   ]
  },
  {
   "cell_type": "code",
   "execution_count": 14,
   "id": "542fa8f1",
   "metadata": {},
   "outputs": [
    {
     "data": {
      "text/plain": [
       "(1, '2013-07-25 00:00:00.0', 11599, 'CLOSED')"
      ]
     },
     "execution_count": 14,
     "metadata": {},
     "output_type": "execute_result"
    }
   ],
   "source": [
    "tuple((int(order.split(',')[0]), order.split(',')[1], int(order.split(',')[2]), order.split(',')[3]))"
   ]
  },
  {
   "cell_type": "code",
   "execution_count": 15,
   "id": "3dc10e7f",
   "metadata": {},
   "outputs": [],
   "source": [
    "orders_conventional_for = []\n",
    "\n",
    "for order in orders_list:\n",
    "    order_details = order.split(',')\n",
    "    orders_conventional_for.append((int(order_details[0]), order_details[1], int(order_details[2]), order_details[3]))"
   ]
  },
  {
   "cell_type": "code",
   "execution_count": 16,
   "id": "e8735c15",
   "metadata": {},
   "outputs": [
    {
     "data": {
      "text/plain": [
       "[(1, '2013-07-25 00:00:00.0', 11599, 'CLOSED'),\n",
       " (2, '2013-07-25 00:00:00.0', 256, 'PENDING_PAYMENT'),\n",
       " (3, '2013-07-25 00:00:00.0', 12111, 'COMPLETE'),\n",
       " (4, '2013-07-25 00:00:00.0', 8827, 'CLOSED'),\n",
       " (5, '2013-07-25 00:00:00.0', 11318, 'COMPLETE'),\n",
       " (6, '2013-07-25 00:00:00.0', 7130, 'COMPLETE'),\n",
       " (7, '2013-07-25 00:00:00.0', 4530, 'COMPLETE'),\n",
       " (8, '2013-07-25 00:00:00.0', 2911, 'PROCESSING'),\n",
       " (9, '2013-07-25 00:00:00.0', 5657, 'PENDING_PAYMENT'),\n",
       " (10, '2013-07-25 00:00:00.0', 5648, 'PENDING_PAYMENT')]"
      ]
     },
     "execution_count": 16,
     "metadata": {},
     "output_type": "execute_result"
    }
   ],
   "source": [
    "orders_conventional_for[:10]"
   ]
  },
  {
   "cell_type": "code",
   "execution_count": 17,
   "id": "4f5d9709",
   "metadata": {},
   "outputs": [
    {
     "data": {
      "text/plain": [
       "68883"
      ]
     },
     "execution_count": 17,
     "metadata": {},
     "output_type": "execute_result"
    }
   ],
   "source": [
    "len(orders_conventional_for)"
   ]
  },
  {
   "cell_type": "code",
   "execution_count": 18,
   "id": "2fbbbe76",
   "metadata": {},
   "outputs": [
    {
     "data": {
      "text/plain": [
       "(1, '2013-07-25 00:00:00.0', 11599, 'CLOSED')"
      ]
     },
     "execution_count": 18,
     "metadata": {},
     "output_type": "execute_result"
    }
   ],
   "source": [
    "orders_conventional_for[0]"
   ]
  },
  {
   "cell_type": "code",
   "execution_count": 19,
   "id": "ea5fca2b",
   "metadata": {},
   "outputs": [
    {
     "data": {
      "text/plain": [
       "tuple"
      ]
     },
     "execution_count": 19,
     "metadata": {},
     "output_type": "execute_result"
    }
   ],
   "source": [
    "type(orders_conventional_for[0])"
   ]
  },
  {
   "cell_type": "markdown",
   "id": "0d9cda16",
   "metadata": {},
   "source": [
    "* Converting each string in **orders_list** into list of tuples using list comprehensions."
   ]
  },
  {
   "cell_type": "code",
   "execution_count": 20,
   "id": "b8c3a453",
   "metadata": {},
   "outputs": [],
   "source": [
    "orders_list_comprehension = [\n",
    "    (int(order.split(',')[0]), order.split(',')[1], int(order.split(',')[2]), order.split(',')[3]) for order in orders_list\n",
    "]"
   ]
  },
  {
   "cell_type": "code",
   "execution_count": 21,
   "id": "90b1ae15",
   "metadata": {},
   "outputs": [
    {
     "data": {
      "text/plain": [
       "[(1, '2013-07-25 00:00:00.0', 11599, 'CLOSED'),\n",
       " (2, '2013-07-25 00:00:00.0', 256, 'PENDING_PAYMENT'),\n",
       " (3, '2013-07-25 00:00:00.0', 12111, 'COMPLETE'),\n",
       " (4, '2013-07-25 00:00:00.0', 8827, 'CLOSED'),\n",
       " (5, '2013-07-25 00:00:00.0', 11318, 'COMPLETE'),\n",
       " (6, '2013-07-25 00:00:00.0', 7130, 'COMPLETE'),\n",
       " (7, '2013-07-25 00:00:00.0', 4530, 'COMPLETE'),\n",
       " (8, '2013-07-25 00:00:00.0', 2911, 'PROCESSING'),\n",
       " (9, '2013-07-25 00:00:00.0', 5657, 'PENDING_PAYMENT'),\n",
       " (10, '2013-07-25 00:00:00.0', 5648, 'PENDING_PAYMENT')]"
      ]
     },
     "execution_count": 21,
     "metadata": {},
     "output_type": "execute_result"
    }
   ],
   "source": [
    "orders_list_comprehension[:10]"
   ]
  },
  {
   "cell_type": "code",
   "execution_count": 22,
   "id": "98450a75",
   "metadata": {},
   "outputs": [
    {
     "data": {
      "text/plain": [
       "68883"
      ]
     },
     "execution_count": 22,
     "metadata": {},
     "output_type": "execute_result"
    }
   ],
   "source": [
    "len(orders_list_comprehension)"
   ]
  },
  {
   "cell_type": "code",
   "execution_count": 23,
   "id": "04cd846f",
   "metadata": {},
   "outputs": [
    {
     "data": {
      "text/plain": [
       "(1, '2013-07-25 00:00:00.0', 11599, 'CLOSED')"
      ]
     },
     "execution_count": 23,
     "metadata": {},
     "output_type": "execute_result"
    }
   ],
   "source": [
    "orders_list_comprehension[0]"
   ]
  },
  {
   "cell_type": "code",
   "execution_count": 24,
   "id": "801f90c1",
   "metadata": {},
   "outputs": [
    {
     "data": {
      "text/plain": [
       "tuple"
      ]
     },
     "execution_count": 24,
     "metadata": {},
     "output_type": "execute_result"
    }
   ],
   "source": [
    "type(orders_list_comprehension[0])"
   ]
  },
  {
   "cell_type": "code",
   "execution_count": 25,
   "id": "8ab43bc8",
   "metadata": {},
   "outputs": [
    {
     "data": {
      "text/plain": [
       "\u001b[0;31mInit signature:\u001b[0m \u001b[0mmap\u001b[0m\u001b[0;34m(\u001b[0m\u001b[0mself\u001b[0m\u001b[0;34m,\u001b[0m \u001b[0;34m/\u001b[0m\u001b[0;34m,\u001b[0m \u001b[0;34m*\u001b[0m\u001b[0margs\u001b[0m\u001b[0;34m,\u001b[0m \u001b[0;34m**\u001b[0m\u001b[0mkwargs\u001b[0m\u001b[0;34m)\u001b[0m\u001b[0;34m\u001b[0m\u001b[0;34m\u001b[0m\u001b[0m\n",
       "\u001b[0;31mDocstring:\u001b[0m     \n",
       "map(func, *iterables) --> map object\n",
       "\n",
       "Make an iterator that computes the function using arguments from\n",
       "each of the iterables.  Stops when the shortest iterable is exhausted.\n",
       "\u001b[0;31mType:\u001b[0m           type\n",
       "\u001b[0;31mSubclasses:\u001b[0m     \n"
      ]
     },
     "metadata": {},
     "output_type": "display_data"
    }
   ],
   "source": [
    "map?"
   ]
  },
  {
   "cell_type": "code",
   "execution_count": 39,
   "id": "02b8c4fa",
   "metadata": {},
   "outputs": [],
   "source": [
    "def list_to_Tupples(order):\n",
    "    return(int(order.split(',')[0]), order.split(',')[1], int(order.split(',')[2]), order.split(',')[3])"
   ]
  },
  {
   "cell_type": "code",
   "execution_count": 42,
   "id": "a2b67e76",
   "metadata": {},
   "outputs": [],
   "source": [
    "orders_list_map = map(\n",
    "    list_to_Tupples,\n",
    "    orders_list)"
   ]
  },
  {
   "cell_type": "markdown",
   "id": "8e665f0f",
   "metadata": {},
   "source": [
    "* Converting each string in **orders_list** into list of tuples using `map` function."
   ]
  },
  {
   "cell_type": "code",
   "execution_count": 37,
   "id": "1dc932e0",
   "metadata": {},
   "outputs": [],
   "source": [
    "orders_list_map = map(\n",
    "    lambda order: (\n",
    "        int(order.split(',')[0]), order.split(',')[1], int(order.split(',')[2]), order.split(',')[3]\n",
    "    ),\n",
    "    orders_list\n",
    ")"
   ]
  },
  {
   "cell_type": "code",
   "execution_count": null,
   "id": "8e0e8225",
   "metadata": {},
   "outputs": [],
   "source": [
    "type(orders_list_map)"
   ]
  },
  {
   "cell_type": "code",
   "execution_count": 43,
   "id": "5c172858",
   "metadata": {},
   "outputs": [
    {
     "data": {
      "text/plain": [
       "[(1, '2013-07-25 00:00:00.0', 11599, 'CLOSED'),\n",
       " (2, '2013-07-25 00:00:00.0', 256, 'PENDING_PAYMENT'),\n",
       " (3, '2013-07-25 00:00:00.0', 12111, 'COMPLETE'),\n",
       " (4, '2013-07-25 00:00:00.0', 8827, 'CLOSED'),\n",
       " (5, '2013-07-25 00:00:00.0', 11318, 'COMPLETE'),\n",
       " (6, '2013-07-25 00:00:00.0', 7130, 'COMPLETE'),\n",
       " (7, '2013-07-25 00:00:00.0', 4530, 'COMPLETE'),\n",
       " (8, '2013-07-25 00:00:00.0', 2911, 'PROCESSING'),\n",
       " (9, '2013-07-25 00:00:00.0', 5657, 'PENDING_PAYMENT'),\n",
       " (10, '2013-07-25 00:00:00.0', 5648, 'PENDING_PAYMENT')]"
      ]
     },
     "execution_count": 43,
     "metadata": {},
     "output_type": "execute_result"
    }
   ],
   "source": [
    "list(orders_list_map)[:10]"
   ]
  },
  {
   "cell_type": "code",
   "execution_count": 36,
   "id": "fd445eb4",
   "metadata": {},
   "outputs": [
    {
     "data": {
      "text/plain": [
       "68883"
      ]
     },
     "execution_count": 36,
     "metadata": {},
     "output_type": "execute_result"
    }
   ],
   "source": [
    "orders_list_map = map(\n",
    "    lambda order: (\n",
    "        int(order.split(',')[0]), order.split(',')[1], int(order.split(',')[2]), order.split(',')[3]\n",
    "    ),\n",
    "    orders_list\n",
    ")\n",
    "len(list(orders_list_map))"
   ]
  },
  {
   "cell_type": "code",
   "execution_count": null,
   "id": "6e0d86bb",
   "metadata": {},
   "outputs": [],
   "source": [
    "orders_list_map = map(\n",
    "    lambda order: (\n",
    "        int(order.split(',')[0]), order.split(',')[1], int(order.split(',')[2]), order.split(',')[3]\n",
    "    ),\n",
    "    orders_list\n",
    ")\n",
    "\n",
    "list(orders_list_map)[0:10]"
   ]
  },
  {
   "cell_type": "code",
   "execution_count": null,
   "id": "aeb3f672",
   "metadata": {},
   "outputs": [],
   "source": [
    "orders_list_map = map(\n",
    "    lambda order: (\n",
    "        int(order.split(',')[0]), order.split(',')[1], int(order.split(',')[2]), order.split(',')[3]\n",
    "    ),\n",
    "    orders_list\n",
    ")\n",
    "\n",
    "type(list(orders_list_map)[0])"
   ]
  },
  {
   "cell_type": "code",
   "execution_count": null,
   "id": "71427470",
   "metadata": {},
   "outputs": [],
   "source": []
  }
 ],
 "metadata": {
  "kernelspec": {
   "display_name": "Python 3",
   "language": "python",
   "name": "python3"
  },
  "language_info": {
   "codemirror_mode": {
    "name": "ipython",
    "version": 3
   },
   "file_extension": ".py",
   "mimetype": "text/x-python",
   "name": "python",
   "nbconvert_exporter": "python",
   "pygments_lexer": "ipython3",
   "version": "3.6.12"
  }
 },
 "nbformat": 4,
 "nbformat_minor": 5
}
