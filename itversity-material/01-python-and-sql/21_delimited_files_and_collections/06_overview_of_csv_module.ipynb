{
 "cells": [
  {
   "cell_type": "markdown",
   "id": "576ca31c",
   "metadata": {},
   "source": [
    "## Overview of CSV Module\n",
    "\n",
    "Let us get an overview of CSV Module. It provide some wrapper functions to provide structure to the delimited data in collections as well as to write the collections back in the form of delimited records.\n",
    "* You need to import `csv` module to use the functions that are part of it.\n",
    "* It exposes several APIs to deal with collections which contain delimited strings. Most of them are to read and write."
   ]
  },
  {
   "cell_type": "code",
   "execution_count": 1,
   "id": "c61c8897",
   "metadata": {},
   "outputs": [],
   "source": [
    "import csv"
   ]
  },
  {
   "cell_type": "markdown",
   "id": "ef31a3e3",
   "metadata": {},
   "source": [
    "* Let us see how we can read the list with delimited strings using `csv.reader`."
   ]
  },
  {
   "cell_type": "code",
   "execution_count": 2,
   "id": "b31ab281",
   "metadata": {},
   "outputs": [],
   "source": [
    "l = ['1,Scott,Tiger', '2,Donald,Duck']"
   ]
  },
  {
   "cell_type": "code",
   "execution_count": 3,
   "id": "b5fcf11e",
   "metadata": {},
   "outputs": [
    {
     "data": {
      "text/plain": [
       "\u001b[0;31mDocstring:\u001b[0m\n",
       "csv_reader = reader(iterable [, dialect='excel']\n",
       "                        [optional keyword args])\n",
       "    for row in csv_reader:\n",
       "        process(row)\n",
       "\n",
       "The \"iterable\" argument can be any object that returns a line\n",
       "of input for each iteration, such as a file object or a list.  The\n",
       "optional \"dialect\" parameter is discussed below.  The function\n",
       "also accepts optional keyword arguments which override settings\n",
       "provided by the dialect.\n",
       "\n",
       "The returned object is an iterator.  Each iteration returns a row\n",
       "of the CSV file (which can span multiple input lines).\n",
       "\u001b[0;31mType:\u001b[0m      builtin_function_or_method\n"
      ]
     },
     "metadata": {},
     "output_type": "display_data"
    }
   ],
   "source": [
    "csv.reader?"
   ]
  },
  {
   "cell_type": "code",
   "execution_count": 4,
   "id": "a38da210",
   "metadata": {},
   "outputs": [
    {
     "data": {
      "text/plain": [
       "<_csv.reader at 0x7fe2d3f2e0b8>"
      ]
     },
     "execution_count": 4,
     "metadata": {},
     "output_type": "execute_result"
    }
   ],
   "source": [
    "csv.reader(l)"
   ]
  },
  {
   "cell_type": "code",
   "execution_count": null,
   "id": "7fed308e",
   "metadata": {},
   "outputs": [],
   "source": [
    "list(csv.reader(l))"
   ]
  },
  {
   "cell_type": "code",
   "execution_count": 5,
   "id": "26c5c917",
   "metadata": {},
   "outputs": [
    {
     "name": "stdout",
     "output_type": "stream",
     "text": [
      "['1', 'Scott', 'Tiger']\n",
      "['2', 'Donald', 'Duck']\n"
     ]
    }
   ],
   "source": [
    "for item in list(csv.reader(l)):\n",
    "    print(item)"
   ]
  },
  {
   "cell_type": "code",
   "execution_count": 6,
   "id": "0b13ead6",
   "metadata": {},
   "outputs": [],
   "source": [
    "l = ['1\\tScott\\tTiger', '2\\tDonald\\tDuck']"
   ]
  },
  {
   "cell_type": "code",
   "execution_count": 7,
   "id": "7d1e3639",
   "metadata": {},
   "outputs": [
    {
     "data": {
      "text/plain": [
       "[['1', 'Scott', 'Tiger'], ['2', 'Donald', 'Duck']]"
      ]
     },
     "execution_count": 7,
     "metadata": {},
     "output_type": "execute_result"
    }
   ],
   "source": [
    "list(csv.reader(l, delimiter='\\t'))"
   ]
  },
  {
   "cell_type": "code",
   "execution_count": 8,
   "id": "5015b6e6",
   "metadata": {},
   "outputs": [],
   "source": [
    "lt = [(1, 'Scott', 'Tiger'), (2, 'Donald', 'Duck')]"
   ]
  },
  {
   "cell_type": "markdown",
   "id": "96873c96",
   "metadata": {},
   "source": [
    "Now let us see how we can write list of tuples to the file using `csv.writer`.\n",
    "* First we need to create file object in write mode.\n",
    "* We need to create csv writer object using `csv.writer`. By default, the object will be created with `,` as delimiter or separator.\n",
    "* We can pass key word argument `delimiter` along with the character using which we want the data to be separated by using specific character."
   ]
  },
  {
   "cell_type": "code",
   "execution_count": 9,
   "id": "8ecde79f",
   "metadata": {},
   "outputs": [
    {
     "data": {
      "text/plain": [
       "\u001b[0;31mDocstring:\u001b[0m\n",
       "csv_writer = csv.writer(fileobj [, dialect='excel']\n",
       "                            [optional keyword args])\n",
       "    for row in sequence:\n",
       "        csv_writer.writerow(row)\n",
       "\n",
       "    [or]\n",
       "\n",
       "    csv_writer = csv.writer(fileobj [, dialect='excel']\n",
       "                            [optional keyword args])\n",
       "    csv_writer.writerows(rows)\n",
       "\n",
       "The \"fileobj\" argument can be any object that supports the file API.\n",
       "\u001b[0;31mType:\u001b[0m      builtin_function_or_method\n"
      ]
     },
     "metadata": {},
     "output_type": "display_data"
    }
   ],
   "source": [
    "csv.writer?"
   ]
  },
  {
   "cell_type": "code",
   "execution_count": 10,
   "id": "1534dcb9",
   "metadata": {},
   "outputs": [],
   "source": [
    "!mkdir -p data/users"
   ]
  },
  {
   "cell_type": "code",
   "execution_count": 11,
   "id": "4f985a4c",
   "metadata": {},
   "outputs": [],
   "source": [
    "!rm -f data/users/part-00000"
   ]
  },
  {
   "cell_type": "code",
   "execution_count": 12,
   "id": "787ea251",
   "metadata": {},
   "outputs": [],
   "source": [
    "users_file = open('data/users/part-00000', 'w')"
   ]
  },
  {
   "cell_type": "code",
   "execution_count": 15,
   "id": "57d97d4e",
   "metadata": {},
   "outputs": [],
   "source": [
    "csv_writer = csv.writer(users_file)"
   ]
  },
  {
   "cell_type": "code",
   "execution_count": 16,
   "id": "65b9734b",
   "metadata": {},
   "outputs": [
    {
     "data": {
      "text/plain": [
       "<_csv.writer at 0x7fe2d3eea0a0>"
      ]
     },
     "execution_count": 16,
     "metadata": {},
     "output_type": "execute_result"
    }
   ],
   "source": [
    "csv_writer"
   ]
  },
  {
   "cell_type": "code",
   "execution_count": 17,
   "id": "103b0b34",
   "metadata": {},
   "outputs": [],
   "source": [
    "csv_writer.writerows(lt)"
   ]
  },
  {
   "cell_type": "code",
   "execution_count": 18,
   "id": "90320235",
   "metadata": {},
   "outputs": [],
   "source": [
    "users_file.close()"
   ]
  },
  {
   "cell_type": "code",
   "execution_count": 19,
   "id": "4c1c7d3e",
   "metadata": {},
   "outputs": [
    {
     "name": "stdout",
     "output_type": "stream",
     "text": [
      "-rw-r--r-- 1 itv002461 students 30 Apr 26 10:43 data/users/part-00000\n"
     ]
    }
   ],
   "source": [
    "!ls -ltr data/users/part-00000"
   ]
  },
  {
   "cell_type": "code",
   "execution_count": 20,
   "id": "f9496134",
   "metadata": {},
   "outputs": [
    {
     "name": "stdout",
     "output_type": "stream",
     "text": [
      "1,Scott,Tiger\n",
      "2,Donald,Duck\n"
     ]
    }
   ],
   "source": [
    "!cat data/users/part-00000"
   ]
  },
  {
   "cell_type": "markdown",
   "id": "eb9b9f56",
   "metadata": {},
   "source": [
    "* Let us see an example to write the data to the file using `|` as delimiter."
   ]
  },
  {
   "cell_type": "code",
   "execution_count": 21,
   "id": "1bfef6f2",
   "metadata": {},
   "outputs": [],
   "source": [
    "!mkdir -p data/users"
   ]
  },
  {
   "cell_type": "code",
   "execution_count": 22,
   "id": "5767ddc0",
   "metadata": {},
   "outputs": [],
   "source": [
    "!rm -f data/users/part-00000"
   ]
  },
  {
   "cell_type": "code",
   "execution_count": 23,
   "id": "1bbf6e15",
   "metadata": {},
   "outputs": [],
   "source": [
    "users_file = open('data/users/part-00000', 'w')"
   ]
  },
  {
   "cell_type": "code",
   "execution_count": 25,
   "id": "ec7256ac",
   "metadata": {},
   "outputs": [],
   "source": [
    "csv_writer = csv.writer(users_file, delimiter='|')"
   ]
  },
  {
   "cell_type": "code",
   "execution_count": 26,
   "id": "3690f595",
   "metadata": {},
   "outputs": [],
   "source": [
    "csv_writer.writerows(lt)"
   ]
  },
  {
   "cell_type": "code",
   "execution_count": 27,
   "id": "2ce87f38",
   "metadata": {},
   "outputs": [],
   "source": [
    "users_file.close()"
   ]
  },
  {
   "cell_type": "code",
   "execution_count": 28,
   "id": "60227c49",
   "metadata": {},
   "outputs": [
    {
     "name": "stdout",
     "output_type": "stream",
     "text": [
      "-rw-r--r-- 1 itv002461 students 30 Apr 26 10:46 data/users/part-00000\n"
     ]
    }
   ],
   "source": [
    "!ls -ltr data/users/part-00000"
   ]
  },
  {
   "cell_type": "code",
   "execution_count": 29,
   "id": "f5d629d4",
   "metadata": {},
   "outputs": [
    {
     "name": "stdout",
     "output_type": "stream",
     "text": [
      "1|Scott|Tiger\n",
      "2|Donald|Duck\n"
     ]
    }
   ],
   "source": [
    "!cat data/users/part-00000"
   ]
  },
  {
   "cell_type": "code",
   "execution_count": null,
   "id": "7a2bf8ee",
   "metadata": {},
   "outputs": [],
   "source": []
  }
 ],
 "metadata": {
  "kernelspec": {
   "display_name": "Python 3",
   "language": "python",
   "name": "python3"
  },
  "language_info": {
   "codemirror_mode": {
    "name": "ipython",
    "version": 3
   },
   "file_extension": ".py",
   "mimetype": "text/x-python",
   "name": "python",
   "nbconvert_exporter": "python",
   "pygments_lexer": "ipython3",
   "version": "3.6.12"
  }
 },
 "nbformat": 4,
 "nbformat_minor": 5
}
