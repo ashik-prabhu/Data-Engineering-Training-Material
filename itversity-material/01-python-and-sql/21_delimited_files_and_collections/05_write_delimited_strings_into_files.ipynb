{
 "cells": [
  {
   "cell_type": "code",
   "execution_count": 1,
   "id": "461b015d",
   "metadata": {},
   "outputs": [],
   "source": [
    "orders = [(1, '2013-07-25 00:00:00.0', 11599, 'CLOSED'),\n",
    " (2, '2013-07-25 00:00:00.0', 256, 'PENDING_PAYMENT'),\n",
    " (3, '2013-07-25 00:00:00.0', 12111, 'COMPLETE'),\n",
    " (4, '2013-07-25 00:00:00.0', 8827, 'CLOSED'),\n",
    " (5, '2013-07-25 00:00:00.0', 11318, 'COMPLETE'),\n",
    " (6, '2013-07-25 00:00:00.0', 7130, 'COMPLETE'),\n",
    " (7, '2013-07-25 00:00:00.0', 4530, 'COMPLETE'),\n",
    " (8, '2013-07-25 00:00:00.0', 2911, 'PROCESSING'),\n",
    " (9, '2013-07-25 00:00:00.0', 5657, 'PENDING_PAYMENT'),\n",
    " (10, '2013-07-25 00:00:00.0', 5648, 'PENDING_PAYMENT')]"
   ]
  },
  {
   "cell_type": "code",
   "execution_count": 2,
   "id": "8339ca52",
   "metadata": {},
   "outputs": [
    {
     "data": {
      "text/plain": [
       "list"
      ]
     },
     "execution_count": 2,
     "metadata": {},
     "output_type": "execute_result"
    }
   ],
   "source": [
    "type(orders)"
   ]
  },
  {
   "cell_type": "code",
   "execution_count": 3,
   "id": "f2372b0b",
   "metadata": {},
   "outputs": [
    {
     "data": {
      "text/plain": [
       "(1, '2013-07-25 00:00:00.0', 11599, 'CLOSED')"
      ]
     },
     "execution_count": 3,
     "metadata": {},
     "output_type": "execute_result"
    }
   ],
   "source": [
    "orders[0]"
   ]
  },
  {
   "cell_type": "code",
   "execution_count": 4,
   "id": "08d2e11a",
   "metadata": {},
   "outputs": [
    {
     "data": {
      "text/plain": [
       "tuple"
      ]
     },
     "execution_count": 4,
     "metadata": {},
     "output_type": "execute_result"
    }
   ],
   "source": [
    "type(orders[0])"
   ]
  },
  {
   "cell_type": "code",
   "execution_count": 5,
   "id": "2df7b876",
   "metadata": {},
   "outputs": [],
   "source": [
    "order = orders[0]"
   ]
  },
  {
   "cell_type": "code",
   "execution_count": 6,
   "id": "63c3d403",
   "metadata": {},
   "outputs": [
    {
     "data": {
      "text/plain": [
       "\u001b[0;31mDocstring:\u001b[0m\n",
       "S.join(iterable) -> str\n",
       "\n",
       "Return a string which is the concatenation of the strings in the\n",
       "iterable.  The separator between elements is S.\n",
       "\u001b[0;31mType:\u001b[0m      method_descriptor\n"
      ]
     },
     "metadata": {},
     "output_type": "display_data"
    }
   ],
   "source": [
    "str.join?"
   ]
  },
  {
   "cell_type": "code",
   "execution_count": 7,
   "id": "20c85bb5",
   "metadata": {},
   "outputs": [
    {
     "data": {
      "text/plain": [
       "<function str.join>"
      ]
     },
     "execution_count": 7,
     "metadata": {},
     "output_type": "execute_result"
    }
   ],
   "source": [
    "'hello'.join"
   ]
  },
  {
   "cell_type": "code",
   "execution_count": 8,
   "id": "fac26d0a",
   "metadata": {},
   "outputs": [
    {
     "ename": "TypeError",
     "evalue": "sequence item 0: expected str instance, int found",
     "output_type": "error",
     "traceback": [
      "\u001b[0;31m---------------------------------------------------------------------------\u001b[0m",
      "\u001b[0;31mTypeError\u001b[0m                                 Traceback (most recent call last)",
      "\u001b[0;32m<ipython-input-8-e2de746788cb>\u001b[0m in \u001b[0;36m<module>\u001b[0;34m\u001b[0m\n\u001b[0;32m----> 1\u001b[0;31m \u001b[0;34m','\u001b[0m\u001b[0;34m.\u001b[0m\u001b[0mjoin\u001b[0m\u001b[0;34m(\u001b[0m\u001b[0morder\u001b[0m\u001b[0;34m)\u001b[0m \u001b[0;31m# throws error as first and third elements are of type int\u001b[0m\u001b[0;34m\u001b[0m\u001b[0;34m\u001b[0m\u001b[0m\n\u001b[0m",
      "\u001b[0;31mTypeError\u001b[0m: sequence item 0: expected str instance, int found"
     ]
    }
   ],
   "source": [
    "','.join(order) # throws error as first and third elements are of type int"
   ]
  },
  {
   "cell_type": "code",
   "execution_count": 9,
   "id": "792c0c66",
   "metadata": {},
   "outputs": [
    {
     "data": {
      "text/plain": [
       "['1', '2013-07-25 00:00:00.0', '11599', 'CLOSED']"
      ]
     },
     "execution_count": 9,
     "metadata": {},
     "output_type": "execute_result"
    }
   ],
   "source": [
    "[str(item) for item in order]"
   ]
  },
  {
   "cell_type": "code",
   "execution_count": 10,
   "id": "12c23526",
   "metadata": {},
   "outputs": [
    {
     "data": {
      "text/plain": [
       "'1+2013-07-25 00:00:00.0+11599+CLOSED'"
      ]
     },
     "execution_count": 10,
     "metadata": {},
     "output_type": "execute_result"
    }
   ],
   "source": [
    "# Convering all the items in tuple to strings using list comprehension\n",
    "','.join([str(item) for item in order]) "
   ]
  },
  {
   "cell_type": "code",
   "execution_count": null,
   "id": "cd6b0550",
   "metadata": {},
   "outputs": [],
   "source": [
    "list(map(lambda item: str(item), order))"
   ]
  },
  {
   "cell_type": "code",
   "execution_count": null,
   "id": "888d84b0",
   "metadata": {},
   "outputs": [],
   "source": [
    "# Convering all the items in tuple to strings using map function\n",
    "','.join(map(lambda item: str(item), order))"
   ]
  },
  {
   "cell_type": "code",
   "execution_count": null,
   "id": "67bdce1e",
   "metadata": {},
   "outputs": [],
   "source": [
    "orders"
   ]
  },
  {
   "cell_type": "code",
   "execution_count": null,
   "id": "c2966fb5",
   "metadata": {},
   "outputs": [],
   "source": [
    "orders_csv = map(lambda order: ','.join(map(lambda item: str(item), order)), orders)"
   ]
  },
  {
   "cell_type": "code",
   "execution_count": null,
   "id": "9f7b54f8",
   "metadata": {},
   "outputs": [],
   "source": [
    "list(orders_csv)"
   ]
  },
  {
   "cell_type": "code",
   "execution_count": null,
   "id": "3bdc744c",
   "metadata": {},
   "outputs": [],
   "source": [
    "orders_csv = map(lambda order: ','.join(map(lambda item: str(item), order)), orders)\n",
    "order = list(orders_csv)[0]\n",
    "order"
   ]
  },
  {
   "cell_type": "markdown",
   "id": "e17ec191",
   "metadata": {},
   "source": [
    "* Writing CSV strings one at a time to the file."
   ]
  },
  {
   "cell_type": "code",
   "execution_count": null,
   "id": "440aff86",
   "metadata": {},
   "outputs": [],
   "source": [
    "!rm -rf data/retail_db/orders"
   ]
  },
  {
   "cell_type": "code",
   "execution_count": null,
   "id": "3a46ccad",
   "metadata": {},
   "outputs": [],
   "source": [
    "!mkdir -p data/retail_db/orders"
   ]
  },
  {
   "cell_type": "code",
   "execution_count": null,
   "id": "8ac4d10c",
   "metadata": {},
   "outputs": [],
   "source": [
    "orders_file = open('data/retail_db/orders/part-00000', 'w')"
   ]
  },
  {
   "cell_type": "code",
   "execution_count": null,
   "id": "4806c971",
   "metadata": {},
   "outputs": [],
   "source": [
    "orders_csv = map(lambda order: ','.join(map(lambda item: str(item), order)), orders)"
   ]
  },
  {
   "cell_type": "code",
   "execution_count": null,
   "id": "cccc120b",
   "metadata": {},
   "outputs": [],
   "source": [
    "for order in orders_csv:\n",
    "    orders_file.write(f'{order}\\n')"
   ]
  },
  {
   "cell_type": "code",
   "execution_count": null,
   "id": "2d17465c",
   "metadata": {},
   "outputs": [],
   "source": [
    "orders_file.close()"
   ]
  },
  {
   "cell_type": "markdown",
   "id": "054ffc94",
   "metadata": {},
   "source": [
    "* Writing as one big string. As we are opening the file using `w`, the file will be truncated. It means the contents of the file will be overwritten with the string we are trying to write to the file."
   ]
  },
  {
   "cell_type": "code",
   "execution_count": null,
   "id": "910f2bef",
   "metadata": {},
   "outputs": [],
   "source": [
    "orders_csv = map(lambda order: ','.join(map(lambda item: str(item), order)), orders)"
   ]
  },
  {
   "cell_type": "code",
   "execution_count": null,
   "id": "6373a2fd",
   "metadata": {},
   "outputs": [],
   "source": [
    "orders_string = '\\n'.join(orders_csv)"
   ]
  },
  {
   "cell_type": "code",
   "execution_count": null,
   "id": "c3a103ae",
   "metadata": {},
   "outputs": [],
   "source": [
    "orders_string"
   ]
  },
  {
   "cell_type": "code",
   "execution_count": null,
   "id": "a9587635",
   "metadata": {},
   "outputs": [],
   "source": [
    "orders_file = open('data/retail_db/orders/part-00000', 'w')"
   ]
  },
  {
   "cell_type": "code",
   "execution_count": null,
   "id": "03f7e788",
   "metadata": {},
   "outputs": [],
   "source": [
    "orders_file.write(orders_string)"
   ]
  },
  {
   "cell_type": "code",
   "execution_count": null,
   "id": "48e5ac43",
   "metadata": {},
   "outputs": [],
   "source": [
    "orders_file.close()"
   ]
  },
  {
   "cell_type": "code",
   "execution_count": null,
   "id": "ab7a27cb",
   "metadata": {},
   "outputs": [],
   "source": []
  }
 ],
 "metadata": {
  "kernelspec": {
   "display_name": "Python 3",
   "language": "python",
   "name": "python3"
  },
  "language_info": {
   "codemirror_mode": {
    "name": "ipython",
    "version": 3
   },
   "file_extension": ".py",
   "mimetype": "text/x-python",
   "name": "python",
   "nbconvert_exporter": "python",
   "pygments_lexer": "ipython3",
   "version": "3.6.12"
  }
 },
 "nbformat": 4,
 "nbformat_minor": 5
}
