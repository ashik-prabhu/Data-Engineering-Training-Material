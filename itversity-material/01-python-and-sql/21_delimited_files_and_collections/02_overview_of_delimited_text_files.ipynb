{
 "cells": [
  {
   "cell_type": "markdown",
   "id": "b0a9b125",
   "metadata": {},
   "source": [
    "## Overview of Delimited Text Files\n",
    "\n",
    "Let us get an overview of delimited text files. Delimited also means Separated.\n",
    "* Comma seperated or delimited is the most common delimited text files.\n",
    "* Each line in the text files are separated by either new line character `\\n` or carriage return `\\r`.\n",
    "* You will not be able to see those characters with naked eye when you open the file or use commands such as `cat`, `head`, etc.\n",
    "* Each line contain plain text with a delimiter or separator. The values are typically related to the attributes from the source using which the files are sourced.\n",
    "* We have setup delimited files under **/data/retail_db**. It have 6 folders and each folder have a text file where each line have data related to multiple attributes. The data in each line is separated or delimited by `,`.\n",
    "* There are other types of delimited text files as well - pipe separated or delimited, tab separated or delimited, etc."
   ]
  },
  {
   "cell_type": "code",
   "execution_count": 1,
   "id": "02646184",
   "metadata": {},
   "outputs": [
    {
     "name": "stdout",
     "output_type": "stream",
     "text": [
      "total 20156\n",
      "-rw-r--r-- 1 root root      806 Jan 21  2021 README.md\n",
      "drwxr-xr-x 2 root root     4096 Jan 21  2021 products\n",
      "drwxr-xr-x 2 root root     4096 Jan 21  2021 orders\n",
      "drwxr-xr-x 2 root root     4096 Jan 21  2021 order_items\n",
      "-rw-r--r-- 1 root root 10297372 Jan 21  2021 load_db_tables_pg.sql\n",
      "drwxr-xr-x 2 root root     4096 Jan 21  2021 departments\n",
      "drwxr-xr-x 2 root root     4096 Jan 21  2021 customers\n",
      "-rw-r--r-- 1 root root     1748 Jan 21  2021 create_db_tables_pg.sql\n",
      "-rw-r--r-- 1 root root 10303297 Jan 21  2021 create_db.sql\n",
      "drwxr-xr-x 2 root root     4096 Jan 21  2021 categories\n"
     ]
    }
   ],
   "source": [
    "!ls -ltr /data/retail_db"
   ]
  },
  {
   "cell_type": "markdown",
   "id": "5d6a7b02",
   "metadata": {},
   "source": [
    "Here are the folders which contain delimited text files.\n",
    "* departments\n",
    "* categories\n",
    "* products\n",
    "* customers\n",
    "* orders\n",
    "* order_items"
   ]
  },
  {
   "cell_type": "code",
   "execution_count": 2,
   "id": "7ce9e007",
   "metadata": {},
   "outputs": [
    {
     "name": "stdout",
     "output_type": "stream",
     "text": [
      "total 2932\n",
      "-rw-r--r-- 1 root root 2999944 Jan 21  2021 part-00000\n"
     ]
    }
   ],
   "source": [
    "!ls -ltr /data/retail_db/orders"
   ]
  },
  {
   "cell_type": "code",
   "execution_count": 3,
   "id": "6d0bd1ca",
   "metadata": {},
   "outputs": [
    {
     "name": "stdout",
     "output_type": "stream",
     "text": [
      "1,2013-07-25 00:00:00.0,11599,CLOSED\n",
      "2,2013-07-25 00:00:00.0,256,PENDING_PAYMENT\n",
      "3,2013-07-25 00:00:00.0,12111,COMPLETE\n",
      "4,2013-07-25 00:00:00.0,8827,CLOSED\n",
      "5,2013-07-25 00:00:00.0,11318,COMPLETE\n"
     ]
    }
   ],
   "source": [
    "!head -5 /data/retail_db/orders/part-00000"
   ]
  },
  {
   "cell_type": "markdown",
   "id": "67aa15d1",
   "metadata": {},
   "source": [
    "You need to spend some time in understanding characteristics of the data in the files.\n",
    "* There is no header in the file. Some files contain header and the header will give the information about columns or attributes from the source.\n",
    "* Each line contain values related to 4 attributes and these values are separated or delimited by `,`."
   ]
  }
 ],
 "metadata": {
  "kernelspec": {
   "display_name": "Python 3",
   "language": "python",
   "name": "python3"
  },
  "language_info": {
   "codemirror_mode": {
    "name": "ipython",
    "version": 3
   },
   "file_extension": ".py",
   "mimetype": "text/x-python",
   "name": "python",
   "nbconvert_exporter": "python",
   "pygments_lexer": "ipython3",
   "version": "3.6.12"
  }
 },
 "nbformat": 4,
 "nbformat_minor": 5
}
