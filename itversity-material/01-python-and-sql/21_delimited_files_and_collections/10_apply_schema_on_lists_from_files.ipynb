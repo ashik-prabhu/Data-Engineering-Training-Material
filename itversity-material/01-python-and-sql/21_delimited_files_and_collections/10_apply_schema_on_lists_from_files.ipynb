{
 "cells": [
  {
   "cell_type": "markdown",
   "id": "04025428",
   "metadata": {},
   "source": [
    "## Apply Schema on the lists from files\n",
    "\n",
    "Let us understand how to apply schema while processing the data from the files. \n",
    "* In many cases, data files might not contain the metadata such as column names, data types, etc.\n",
    "* We might get the data metadata in the form of separate files. Also, it is common that metadata is available via Database Tables or REST based schema registries.\n",
    "* We need to make sure that the metadata (schema) is applied on the data as part of data processing.\n",
    "\n",
    "In this case data files are available under **/data/retail_db**, the json file with metadata is available under **schemas/retail_db/retail.json**."
   ]
  },
  {
   "cell_type": "code",
   "execution_count": 8,
   "id": "568746ab",
   "metadata": {},
   "outputs": [
    {
     "name": "stdout",
     "output_type": "stream",
     "text": [
      "total 20156\n",
      "-rw-r--r-- 1 root root      806 Jan 21  2021 README.md\n",
      "drwxr-xr-x 2 root root     4096 Jan 21  2021 products\n",
      "drwxr-xr-x 2 root root     4096 Jan 21  2021 orders\n",
      "drwxr-xr-x 2 root root     4096 Jan 21  2021 order_items\n",
      "-rw-r--r-- 1 root root 10297372 Jan 21  2021 load_db_tables_pg.sql\n",
      "drwxr-xr-x 2 root root     4096 Jan 21  2021 departments\n",
      "drwxr-xr-x 2 root root     4096 Jan 21  2021 customers\n",
      "-rw-r--r-- 1 root root     1748 Jan 21  2021 create_db_tables_pg.sql\n",
      "-rw-r--r-- 1 root root 10303297 Jan 21  2021 create_db.sql\n",
      "drwxr-xr-x 2 root root     4096 Jan 21  2021 categories\n"
     ]
    }
   ],
   "source": [
    "!ls -ltr /data/retail_db"
   ]
  },
  {
   "cell_type": "code",
   "execution_count": 9,
   "id": "57bda84e",
   "metadata": {},
   "outputs": [
    {
     "name": "stdout",
     "output_type": "stream",
     "text": [
      "-rw-r--r-- 1 itv002461 students 2083 Apr  6 01:18 schemas/retail_db/retail.json\n"
     ]
    }
   ],
   "source": [
    "!ls -ltr schemas/retail_db/retail.json"
   ]
  },
  {
   "cell_type": "code",
   "execution_count": 10,
   "id": "68ceb71a",
   "metadata": {},
   "outputs": [
    {
     "name": "stdout",
     "output_type": "stream",
     "text": [
      "{\n",
      "    \"categories\": [\n",
      "        {\"column_name\": \"category_id\", \"data_type\": \"int\"},\n",
      "        {\"column_name\": \"category_department_id\", \"data_type\": \"int\"},\n",
      "        {\"column_name\": \"category_name\", \"data_type\": \"str\"}\n",
      "    ],\n",
      "    \"customers\": [\n",
      "        {\"column_name\": \"customer_id\", \"data_type\": \"int\"},\n",
      "        {\"column_name\": \"customer_fname\", \"data_type\": \"str\"},\n",
      "        {\"column_name\": \"customer_lname\", \"data_type\": \"str\"},\n",
      "        {\"column_name\": \"customer_email\", \"data_type\": \"str\"},\n",
      "        {\"column_name\": \"customer_password\", \"data_type\": \"str\"},\n",
      "        {\"column_name\": \"customer_street\", \"data_type\": \"str\"},\n",
      "        {\"column_name\": \"customer_city\", \"data_type\": \"str\"},\n",
      "        {\"column_name\": \"customer_state\", \"data_type\": \"str\"},\n",
      "        {\"column_name\": \"customer_zipcode\", \"data_type\": \"str\"}\n",
      "    ],\n",
      "    \"departments\": [\n",
      "        {\"column_name\": \"department_id\", \"data_type\": \"int\"},\n",
      "        {\"column_name\": \"department_name\", \"data_type\": \"str\"}\n",
      "    ],\n",
      "    \"order_items\": [\n",
      "        {\"column_name\": \"order_item_id\", \"data_type\": \"int\"},\n",
      "        {\"column_name\": \"order_item_order_id\", \"data_type\": \"int\"},\n",
      "        {\"column_name\": \"order_item_product_id\", \"data_type\": \"int\"},\n",
      "        {\"column_name\": \"order_item_quantity\", \"data_type\": \"int\"},\n",
      "        {\"column_name\": \"order_item_subtotal\", \"data_type\": \"float\"},\n",
      "        {\"column_name\": \"order_item_product_price\", \"data_type\": \"float\"}\n",
      "    ],\n",
      "    \"orders\": [\n",
      "        {\"column_name\": \"order_id\", \"data_type\": \"int\"},\n",
      "        {\"column_name\": \"order_date\", \"data_type\": \"str\"},\n",
      "        {\"column_name\": \"order_customer_id\", \"data_type\": \"int\"},\n",
      "        {\"column_name\": \"order_status\", \"data_type\": \"int\"}\n",
      "    ],\n",
      "    \"products\": [\n",
      "        {\"column_name\": \"product_id\", \"data_type\": \"int\"},\n",
      "        {\"column_name\": \"product_category_id\", \"data_type\": \"int\"},\n",
      "        {\"column_name\": \"product_name\", \"data_type\": \"str\"},\n",
      "        {\"column_name\": \"product_description\", \"data_type\": \"str\"},\n",
      "        {\"column_name\": \"product_price\", \"data_type\": \"float\"},\n",
      "        {\"column_name\": \"product_image\", \"data_type\": \"str\"}\n",
      "    ]    \n",
      "}"
     ]
    }
   ],
   "source": [
    "!cat schemas/retail_db/retail.json"
   ]
  },
  {
   "cell_type": "code",
   "execution_count": 11,
   "id": "a52a5ccf",
   "metadata": {},
   "outputs": [
    {
     "name": "stdout",
     "output_type": "stream",
     "text": [
      "total 2932\n",
      "-rw-r--r-- 1 root root 2999944 Jan 21  2021 part-00000\n"
     ]
    }
   ],
   "source": [
    "!ls -ltr /data/retail_db/orders"
   ]
  },
  {
   "cell_type": "code",
   "execution_count": 12,
   "id": "2f025468",
   "metadata": {},
   "outputs": [],
   "source": [
    "# Read orders data into list of strings\n",
    "\n",
    "orders_path = '/data/retail_db/orders/part-00000'\n",
    "orders = open(orders_path). \\\n",
    "    read(). \\\n",
    "    splitlines()"
   ]
  },
  {
   "cell_type": "code",
   "execution_count": 13,
   "id": "71e91b4c",
   "metadata": {},
   "outputs": [
    {
     "data": {
      "text/plain": [
       "['1,2013-07-25 00:00:00.0,11599,CLOSED',\n",
       " '2,2013-07-25 00:00:00.0,256,PENDING_PAYMENT',\n",
       " '3,2013-07-25 00:00:00.0,12111,COMPLETE',\n",
       " '4,2013-07-25 00:00:00.0,8827,CLOSED',\n",
       " '5,2013-07-25 00:00:00.0,11318,COMPLETE',\n",
       " '6,2013-07-25 00:00:00.0,7130,COMPLETE',\n",
       " '7,2013-07-25 00:00:00.0,4530,COMPLETE',\n",
       " '8,2013-07-25 00:00:00.0,2911,PROCESSING',\n",
       " '9,2013-07-25 00:00:00.0,5657,PENDING_PAYMENT',\n",
       " '10,2013-07-25 00:00:00.0,5648,PENDING_PAYMENT']"
      ]
     },
     "execution_count": 13,
     "metadata": {},
     "output_type": "execute_result"
    }
   ],
   "source": [
    "orders[:10]"
   ]
  },
  {
   "cell_type": "code",
   "execution_count": 14,
   "id": "cdbcff54",
   "metadata": {},
   "outputs": [],
   "source": [
    "# Load schemas into dict using json\n",
    "\n",
    "import json\n",
    "retail_schemas = json.load(open('schemas/retail_db/retail.json'))"
   ]
  },
  {
   "cell_type": "code",
   "execution_count": 15,
   "id": "8623d81b",
   "metadata": {},
   "outputs": [
    {
     "data": {
      "text/plain": [
       "{'categories': [{'column_name': 'category_id', 'data_type': 'int'},\n",
       "  {'column_name': 'category_department_id', 'data_type': 'int'},\n",
       "  {'column_name': 'category_name', 'data_type': 'str'}],\n",
       " 'customers': [{'column_name': 'customer_id', 'data_type': 'int'},\n",
       "  {'column_name': 'customer_fname', 'data_type': 'str'},\n",
       "  {'column_name': 'customer_lname', 'data_type': 'str'},\n",
       "  {'column_name': 'customer_email', 'data_type': 'str'},\n",
       "  {'column_name': 'customer_password', 'data_type': 'str'},\n",
       "  {'column_name': 'customer_street', 'data_type': 'str'},\n",
       "  {'column_name': 'customer_city', 'data_type': 'str'},\n",
       "  {'column_name': 'customer_state', 'data_type': 'str'},\n",
       "  {'column_name': 'customer_zipcode', 'data_type': 'str'}],\n",
       " 'departments': [{'column_name': 'department_id', 'data_type': 'int'},\n",
       "  {'column_name': 'department_name', 'data_type': 'str'}],\n",
       " 'order_items': [{'column_name': 'order_item_id', 'data_type': 'int'},\n",
       "  {'column_name': 'order_item_order_id', 'data_type': 'int'},\n",
       "  {'column_name': 'order_item_product_id', 'data_type': 'int'},\n",
       "  {'column_name': 'order_item_quantity', 'data_type': 'int'},\n",
       "  {'column_name': 'order_item_subtotal', 'data_type': 'float'},\n",
       "  {'column_name': 'order_item_product_price', 'data_type': 'float'}],\n",
       " 'orders': [{'column_name': 'order_id', 'data_type': 'int'},\n",
       "  {'column_name': 'order_date', 'data_type': 'str'},\n",
       "  {'column_name': 'order_customer_id', 'data_type': 'int'},\n",
       "  {'column_name': 'order_status', 'data_type': 'int'}],\n",
       " 'products': [{'column_name': 'product_id', 'data_type': 'int'},\n",
       "  {'column_name': 'product_category_id', 'data_type': 'int'},\n",
       "  {'column_name': 'product_name', 'data_type': 'str'},\n",
       "  {'column_name': 'product_description', 'data_type': 'str'},\n",
       "  {'column_name': 'product_price', 'data_type': 'float'},\n",
       "  {'column_name': 'product_image', 'data_type': 'str'}]}"
      ]
     },
     "execution_count": 15,
     "metadata": {},
     "output_type": "execute_result"
    }
   ],
   "source": [
    "retail_schemas"
   ]
  },
  {
   "cell_type": "code",
   "execution_count": 16,
   "id": "7c5f2593",
   "metadata": {},
   "outputs": [
    {
     "data": {
      "text/plain": [
       "[{'column_name': 'order_id', 'data_type': 'int'},\n",
       " {'column_name': 'order_date', 'data_type': 'str'},\n",
       " {'column_name': 'order_customer_id', 'data_type': 'int'},\n",
       " {'column_name': 'order_status', 'data_type': 'int'}]"
      ]
     },
     "execution_count": 16,
     "metadata": {},
     "output_type": "execute_result"
    }
   ],
   "source": [
    "# Get the schema for relevant data set\n",
    "\n",
    "retail_schemas['orders']"
   ]
  },
  {
   "cell_type": "code",
   "execution_count": 17,
   "id": "720cdfa6",
   "metadata": {},
   "outputs": [],
   "source": [
    "# Fetch the column names\n",
    "\n",
    "columns = list(map(lambda col: col['column_name'], retail_schemas['orders']))"
   ]
  },
  {
   "cell_type": "code",
   "execution_count": 18,
   "id": "85fa82c6",
   "metadata": {},
   "outputs": [
    {
     "data": {
      "text/plain": [
       "['order_id', 'order_date', 'order_customer_id', 'order_status']"
      ]
     },
     "execution_count": 18,
     "metadata": {},
     "output_type": "execute_result"
    }
   ],
   "source": [
    "columns"
   ]
  },
  {
   "cell_type": "code",
   "execution_count": 19,
   "id": "d3dd9a0f",
   "metadata": {},
   "outputs": [],
   "source": [
    "import csv"
   ]
  },
  {
   "cell_type": "code",
   "execution_count": 20,
   "id": "27b27d8d",
   "metadata": {},
   "outputs": [
    {
     "data": {
      "text/plain": [
       "\u001b[0;31mInit signature:\u001b[0m\n",
       "\u001b[0mcsv\u001b[0m\u001b[0;34m.\u001b[0m\u001b[0mDictReader\u001b[0m\u001b[0;34m(\u001b[0m\u001b[0;34m\u001b[0m\n",
       "\u001b[0;34m\u001b[0m    \u001b[0mf\u001b[0m\u001b[0;34m,\u001b[0m\u001b[0;34m\u001b[0m\n",
       "\u001b[0;34m\u001b[0m    \u001b[0mfieldnames\u001b[0m\u001b[0;34m=\u001b[0m\u001b[0;32mNone\u001b[0m\u001b[0;34m,\u001b[0m\u001b[0;34m\u001b[0m\n",
       "\u001b[0;34m\u001b[0m    \u001b[0mrestkey\u001b[0m\u001b[0;34m=\u001b[0m\u001b[0;32mNone\u001b[0m\u001b[0;34m,\u001b[0m\u001b[0;34m\u001b[0m\n",
       "\u001b[0;34m\u001b[0m    \u001b[0mrestval\u001b[0m\u001b[0;34m=\u001b[0m\u001b[0;32mNone\u001b[0m\u001b[0;34m,\u001b[0m\u001b[0;34m\u001b[0m\n",
       "\u001b[0;34m\u001b[0m    \u001b[0mdialect\u001b[0m\u001b[0;34m=\u001b[0m\u001b[0;34m'excel'\u001b[0m\u001b[0;34m,\u001b[0m\u001b[0;34m\u001b[0m\n",
       "\u001b[0;34m\u001b[0m    \u001b[0;34m*\u001b[0m\u001b[0margs\u001b[0m\u001b[0;34m,\u001b[0m\u001b[0;34m\u001b[0m\n",
       "\u001b[0;34m\u001b[0m    \u001b[0;34m**\u001b[0m\u001b[0mkwds\u001b[0m\u001b[0;34m,\u001b[0m\u001b[0;34m\u001b[0m\n",
       "\u001b[0;34m\u001b[0m\u001b[0;34m)\u001b[0m\u001b[0;34m\u001b[0m\u001b[0;34m\u001b[0m\u001b[0m\n",
       "\u001b[0;31mDocstring:\u001b[0m      <no docstring>\n",
       "\u001b[0;31mFile:\u001b[0m           /opt/anaconda3/envs/beakerx/lib/python3.6/csv.py\n",
       "\u001b[0;31mType:\u001b[0m           type\n",
       "\u001b[0;31mSubclasses:\u001b[0m     \n"
      ]
     },
     "metadata": {},
     "output_type": "display_data"
    }
   ],
   "source": [
    "csv.DictReader?"
   ]
  },
  {
   "cell_type": "code",
   "execution_count": 21,
   "id": "d7b3ff17",
   "metadata": {},
   "outputs": [],
   "source": [
    "# Create DictReader object using list of strings and column names\n",
    "# We will get list of dicts. The keys in the dicts are from columns\n",
    "csv_reader = csv.DictReader(open(orders_path), fieldnames=columns)"
   ]
  },
  {
   "cell_type": "code",
   "execution_count": 22,
   "id": "d7fa8c34",
   "metadata": {},
   "outputs": [
    {
     "data": {
      "text/plain": [
       "<csv.DictReader at 0x7fd984de2e10>"
      ]
     },
     "execution_count": 22,
     "metadata": {},
     "output_type": "execute_result"
    }
   ],
   "source": [
    "csv_reader"
   ]
  },
  {
   "cell_type": "code",
   "execution_count": 23,
   "id": "41165adc",
   "metadata": {},
   "outputs": [
    {
     "data": {
      "text/plain": [
       "[OrderedDict([('order_id', '1'),\n",
       "              ('order_date', '2013-07-25 00:00:00.0'),\n",
       "              ('order_customer_id', '11599'),\n",
       "              ('order_status', 'CLOSED')]),\n",
       " OrderedDict([('order_id', '2'),\n",
       "              ('order_date', '2013-07-25 00:00:00.0'),\n",
       "              ('order_customer_id', '256'),\n",
       "              ('order_status', 'PENDING_PAYMENT')]),\n",
       " OrderedDict([('order_id', '3'),\n",
       "              ('order_date', '2013-07-25 00:00:00.0'),\n",
       "              ('order_customer_id', '12111'),\n",
       "              ('order_status', 'COMPLETE')]),\n",
       " OrderedDict([('order_id', '4'),\n",
       "              ('order_date', '2013-07-25 00:00:00.0'),\n",
       "              ('order_customer_id', '8827'),\n",
       "              ('order_status', 'CLOSED')]),\n",
       " OrderedDict([('order_id', '5'),\n",
       "              ('order_date', '2013-07-25 00:00:00.0'),\n",
       "              ('order_customer_id', '11318'),\n",
       "              ('order_status', 'COMPLETE')]),\n",
       " OrderedDict([('order_id', '6'),\n",
       "              ('order_date', '2013-07-25 00:00:00.0'),\n",
       "              ('order_customer_id', '7130'),\n",
       "              ('order_status', 'COMPLETE')]),\n",
       " OrderedDict([('order_id', '7'),\n",
       "              ('order_date', '2013-07-25 00:00:00.0'),\n",
       "              ('order_customer_id', '4530'),\n",
       "              ('order_status', 'COMPLETE')]),\n",
       " OrderedDict([('order_id', '8'),\n",
       "              ('order_date', '2013-07-25 00:00:00.0'),\n",
       "              ('order_customer_id', '2911'),\n",
       "              ('order_status', 'PROCESSING')]),\n",
       " OrderedDict([('order_id', '9'),\n",
       "              ('order_date', '2013-07-25 00:00:00.0'),\n",
       "              ('order_customer_id', '5657'),\n",
       "              ('order_status', 'PENDING_PAYMENT')]),\n",
       " OrderedDict([('order_id', '10'),\n",
       "              ('order_date', '2013-07-25 00:00:00.0'),\n",
       "              ('order_customer_id', '5648'),\n",
       "              ('order_status', 'PENDING_PAYMENT')])]"
      ]
     },
     "execution_count": 23,
     "metadata": {},
     "output_type": "execute_result"
    }
   ],
   "source": [
    "list(csv_reader)[:10]"
   ]
  },
  {
   "cell_type": "code",
   "execution_count": 1,
   "id": "d18b8257",
   "metadata": {},
   "outputs": [],
   "source": [
    "folder_name = '/data/retail_db/orders'"
   ]
  },
  {
   "cell_type": "code",
   "execution_count": 2,
   "id": "88035b6f",
   "metadata": {},
   "outputs": [],
   "source": [
    "import os\n",
    "file_names = os.listdir(folder_name)"
   ]
  },
  {
   "cell_type": "code",
   "execution_count": 3,
   "id": "58bd6f44",
   "metadata": {},
   "outputs": [
    {
     "data": {
      "text/plain": [
       "['part-00000']"
      ]
     },
     "execution_count": 3,
     "metadata": {},
     "output_type": "execute_result"
    }
   ],
   "source": [
    "file_names"
   ]
  },
  {
   "cell_type": "code",
   "execution_count": 4,
   "id": "9bc97d95",
   "metadata": {},
   "outputs": [],
   "source": [
    "l1 = [1, 2, 3]"
   ]
  },
  {
   "cell_type": "code",
   "execution_count": 5,
   "id": "8bdaf03a",
   "metadata": {},
   "outputs": [],
   "source": [
    "l2 = [4, 5]"
   ]
  },
  {
   "cell_type": "code",
   "execution_count": 6,
   "id": "48e62013",
   "metadata": {},
   "outputs": [
    {
     "data": {
      "text/plain": [
       "[1, 2, 3, 4, 5]"
      ]
     },
     "execution_count": 6,
     "metadata": {},
     "output_type": "execute_result"
    }
   ],
   "source": [
    "l1 + l2"
   ]
  },
  {
   "cell_type": "code",
   "execution_count": 7,
   "id": "2ca3739e",
   "metadata": {},
   "outputs": [],
   "source": [
    "import os\n",
    "import json\n",
    "import csv\n",
    "\n",
    "def get_dicts(base_folder, data_set_name, schema_file):\n",
    "    file_names = os.listdir(f'{base_folder}/{data_set_name}')\n",
    "    retail_schemas = json.load(open(schema_file))\n",
    "    columns = list(map(lambda col: col['column_name'], retail_schemas[data_set_name]))\n",
    "    data = []\n",
    "    for file_name in file_names:\n",
    "        file_path = f'{base_folder}/{data_set_name}/{file_name}'\n",
    "        csv_reader = csv.DictReader(open(file_path), fieldnames=columns)\n",
    "        data += list(csv_reader)\n",
    "    return data"
   ]
  },
  {
   "cell_type": "code",
   "execution_count": 26,
   "id": "e5fed4c4",
   "metadata": {},
   "outputs": [],
   "source": [
    "data = get_dicts('/data/retail_db', 'orders', 'schemas/retail_db/retail.json')"
   ]
  },
  {
   "cell_type": "code",
   "execution_count": 27,
   "id": "7142234c",
   "metadata": {},
   "outputs": [
    {
     "data": {
      "text/plain": [
       "68883"
      ]
     },
     "execution_count": 27,
     "metadata": {},
     "output_type": "execute_result"
    }
   ],
   "source": [
    "len(data)"
   ]
  },
  {
   "cell_type": "code",
   "execution_count": 28,
   "id": "e80e8985",
   "metadata": {},
   "outputs": [
    {
     "data": {
      "text/plain": [
       "[OrderedDict([('order_id', '1'),\n",
       "              ('order_date', '2013-07-25 00:00:00.0'),\n",
       "              ('order_customer_id', '11599'),\n",
       "              ('order_status', 'CLOSED')]),\n",
       " OrderedDict([('order_id', '2'),\n",
       "              ('order_date', '2013-07-25 00:00:00.0'),\n",
       "              ('order_customer_id', '256'),\n",
       "              ('order_status', 'PENDING_PAYMENT')]),\n",
       " OrderedDict([('order_id', '3'),\n",
       "              ('order_date', '2013-07-25 00:00:00.0'),\n",
       "              ('order_customer_id', '12111'),\n",
       "              ('order_status', 'COMPLETE')]),\n",
       " OrderedDict([('order_id', '4'),\n",
       "              ('order_date', '2013-07-25 00:00:00.0'),\n",
       "              ('order_customer_id', '8827'),\n",
       "              ('order_status', 'CLOSED')]),\n",
       " OrderedDict([('order_id', '5'),\n",
       "              ('order_date', '2013-07-25 00:00:00.0'),\n",
       "              ('order_customer_id', '11318'),\n",
       "              ('order_status', 'COMPLETE')]),\n",
       " OrderedDict([('order_id', '6'),\n",
       "              ('order_date', '2013-07-25 00:00:00.0'),\n",
       "              ('order_customer_id', '7130'),\n",
       "              ('order_status', 'COMPLETE')]),\n",
       " OrderedDict([('order_id', '7'),\n",
       "              ('order_date', '2013-07-25 00:00:00.0'),\n",
       "              ('order_customer_id', '4530'),\n",
       "              ('order_status', 'COMPLETE')]),\n",
       " OrderedDict([('order_id', '8'),\n",
       "              ('order_date', '2013-07-25 00:00:00.0'),\n",
       "              ('order_customer_id', '2911'),\n",
       "              ('order_status', 'PROCESSING')]),\n",
       " OrderedDict([('order_id', '9'),\n",
       "              ('order_date', '2013-07-25 00:00:00.0'),\n",
       "              ('order_customer_id', '5657'),\n",
       "              ('order_status', 'PENDING_PAYMENT')]),\n",
       " OrderedDict([('order_id', '10'),\n",
       "              ('order_date', '2013-07-25 00:00:00.0'),\n",
       "              ('order_customer_id', '5648'),\n",
       "              ('order_status', 'PENDING_PAYMENT')])]"
      ]
     },
     "execution_count": 28,
     "metadata": {},
     "output_type": "execute_result"
    }
   ],
   "source": [
    "data[:10]"
   ]
  },
  {
   "cell_type": "code",
   "execution_count": 29,
   "id": "c2398b61",
   "metadata": {},
   "outputs": [],
   "source": [
    "data = get_dicts('/data/retail_db', 'order_items', 'schemas/retail_db/retail.json')"
   ]
  },
  {
   "cell_type": "code",
   "execution_count": 30,
   "id": "28f7ec67",
   "metadata": {},
   "outputs": [
    {
     "data": {
      "text/plain": [
       "172198"
      ]
     },
     "execution_count": 30,
     "metadata": {},
     "output_type": "execute_result"
    }
   ],
   "source": [
    "len(data)"
   ]
  },
  {
   "cell_type": "code",
   "execution_count": 31,
   "id": "9129124e",
   "metadata": {},
   "outputs": [
    {
     "data": {
      "text/plain": [
       "[OrderedDict([('order_item_id', '1'),\n",
       "              ('order_item_order_id', '1'),\n",
       "              ('order_item_product_id', '957'),\n",
       "              ('order_item_quantity', '1'),\n",
       "              ('order_item_subtotal', '299.98'),\n",
       "              ('order_item_product_price', '299.98')]),\n",
       " OrderedDict([('order_item_id', '2'),\n",
       "              ('order_item_order_id', '2'),\n",
       "              ('order_item_product_id', '1073'),\n",
       "              ('order_item_quantity', '1'),\n",
       "              ('order_item_subtotal', '199.99'),\n",
       "              ('order_item_product_price', '199.99')]),\n",
       " OrderedDict([('order_item_id', '3'),\n",
       "              ('order_item_order_id', '2'),\n",
       "              ('order_item_product_id', '502'),\n",
       "              ('order_item_quantity', '5'),\n",
       "              ('order_item_subtotal', '250.0'),\n",
       "              ('order_item_product_price', '50.0')]),\n",
       " OrderedDict([('order_item_id', '4'),\n",
       "              ('order_item_order_id', '2'),\n",
       "              ('order_item_product_id', '403'),\n",
       "              ('order_item_quantity', '1'),\n",
       "              ('order_item_subtotal', '129.99'),\n",
       "              ('order_item_product_price', '129.99')]),\n",
       " OrderedDict([('order_item_id', '5'),\n",
       "              ('order_item_order_id', '4'),\n",
       "              ('order_item_product_id', '897'),\n",
       "              ('order_item_quantity', '2'),\n",
       "              ('order_item_subtotal', '49.98'),\n",
       "              ('order_item_product_price', '24.99')]),\n",
       " OrderedDict([('order_item_id', '6'),\n",
       "              ('order_item_order_id', '4'),\n",
       "              ('order_item_product_id', '365'),\n",
       "              ('order_item_quantity', '5'),\n",
       "              ('order_item_subtotal', '299.95'),\n",
       "              ('order_item_product_price', '59.99')]),\n",
       " OrderedDict([('order_item_id', '7'),\n",
       "              ('order_item_order_id', '4'),\n",
       "              ('order_item_product_id', '502'),\n",
       "              ('order_item_quantity', '3'),\n",
       "              ('order_item_subtotal', '150.0'),\n",
       "              ('order_item_product_price', '50.0')]),\n",
       " OrderedDict([('order_item_id', '8'),\n",
       "              ('order_item_order_id', '4'),\n",
       "              ('order_item_product_id', '1014'),\n",
       "              ('order_item_quantity', '4'),\n",
       "              ('order_item_subtotal', '199.92'),\n",
       "              ('order_item_product_price', '49.98')]),\n",
       " OrderedDict([('order_item_id', '9'),\n",
       "              ('order_item_order_id', '5'),\n",
       "              ('order_item_product_id', '957'),\n",
       "              ('order_item_quantity', '1'),\n",
       "              ('order_item_subtotal', '299.98'),\n",
       "              ('order_item_product_price', '299.98')]),\n",
       " OrderedDict([('order_item_id', '10'),\n",
       "              ('order_item_order_id', '5'),\n",
       "              ('order_item_product_id', '365'),\n",
       "              ('order_item_quantity', '5'),\n",
       "              ('order_item_subtotal', '299.95'),\n",
       "              ('order_item_product_price', '59.99')])]"
      ]
     },
     "execution_count": 31,
     "metadata": {},
     "output_type": "execute_result"
    }
   ],
   "source": [
    "data[:10]"
   ]
  },
  {
   "cell_type": "code",
   "execution_count": null,
   "id": "293d195a",
   "metadata": {},
   "outputs": [],
   "source": []
  },
  {
   "cell_type": "code",
   "execution_count": null,
   "id": "cc487265",
   "metadata": {},
   "outputs": [],
   "source": []
  }
 ],
 "metadata": {
  "kernelspec": {
   "display_name": "Python 3",
   "language": "python",
   "name": "python3"
  },
  "language_info": {
   "codemirror_mode": {
    "name": "ipython",
    "version": 3
   },
   "file_extension": ".py",
   "mimetype": "text/x-python",
   "name": "python",
   "nbconvert_exporter": "python",
   "pygments_lexer": "ipython3",
   "version": "3.6.12"
  }
 },
 "nbformat": 4,
 "nbformat_minor": 5
}
