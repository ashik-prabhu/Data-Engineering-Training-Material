{
 "cells": [
  {
   "cell_type": "markdown",
   "id": "4b82c1ad",
   "metadata": {},
   "source": [
    "## Recap of basic file IO\n",
    "\n",
    "Let us quickly recap basic file IO using first class Python functions.\n",
    "* We use `open` to open a file with `r` for read only purpose.\n",
    "* We can use `open` to open a file with `w` to create a new file and write or to overwrite the existing file.\n",
    "* We can use `open` to open a file in append mode by using `a`. If the file does not exists, it will be created and if the file does exists then the content will be appended at the end of the file.\n",
    "* We might have to introduce `\\n` (new line character) after each element if we want to write a list of elements into a file.\n",
    "* In case if we want to create a file, only if it does not exists, then we can use `open` with `x`. If the file exists, it will throw error.\n",
    "* Let us perform a task to read a file under **/data/retail_db/orders** into a collection and then write the collection into a target file under **data/retail_db/orders**. The data folder which we are trying to write should be under our current folder."
   ]
  },
  {
   "cell_type": "markdown",
   "id": "d816f063",
   "metadata": {},
   "source": [
    "* Read data from **/data/retail_db/orders/part-00000**."
   ]
  },
  {
   "cell_type": "code",
   "execution_count": 1,
   "id": "d8b0c4a1",
   "metadata": {},
   "outputs": [
    {
     "name": "stdout",
     "output_type": "stream",
     "text": [
      "-rw-r--r-- 1 root root 2999944 Jan 21  2021 /data/retail_db/orders/part-00000\n"
     ]
    }
   ],
   "source": [
    "!ls -ltr /data/retail_db/orders/part-00000"
   ]
  },
  {
   "cell_type": "code",
   "execution_count": 1,
   "id": "d36a4f26",
   "metadata": {},
   "outputs": [
    {
     "name": "stdout",
     "output_type": "stream",
     "text": [
      "/data/retail_db/orders/part-00000: ASCII text\n"
     ]
    }
   ],
   "source": [
    "!file /data/retail_db/orders/part-00000"
   ]
  },
  {
   "cell_type": "code",
   "execution_count": 3,
   "id": "2c85899e",
   "metadata": {},
   "outputs": [
    {
     "name": "stdout",
     "output_type": "stream",
     "text": [
      "1,2013-07-25 00:00:00.0,11599,CLOSED\n",
      "2,2013-07-25 00:00:00.0,256,PENDING_PAYMENT\n",
      "3,2013-07-25 00:00:00.0,12111,COMPLETE\n",
      "4,2013-07-25 00:00:00.0,8827,CLOSED\n",
      "5,2013-07-25 00:00:00.0,11318,COMPLETE\n"
     ]
    }
   ],
   "source": [
    "!head -5 /data/retail_db/orders/part-00000"
   ]
  },
  {
   "cell_type": "code",
   "execution_count": 4,
   "id": "ad8fafdc",
   "metadata": {},
   "outputs": [],
   "source": [
    "orders = open('/data/retail_db/orders/part-00000').read().splitlines()"
   ]
  },
  {
   "cell_type": "code",
   "execution_count": 5,
   "id": "425a3827",
   "metadata": {},
   "outputs": [
    {
     "data": {
      "text/plain": [
       "list"
      ]
     },
     "execution_count": 5,
     "metadata": {},
     "output_type": "execute_result"
    }
   ],
   "source": [
    "type(orders)"
   ]
  },
  {
   "cell_type": "code",
   "execution_count": 6,
   "id": "768f31ab",
   "metadata": {},
   "outputs": [
    {
     "data": {
      "text/plain": [
       "68883"
      ]
     },
     "execution_count": 6,
     "metadata": {},
     "output_type": "execute_result"
    }
   ],
   "source": [
    "len(orders)"
   ]
  },
  {
   "cell_type": "code",
   "execution_count": 7,
   "id": "2adf7624",
   "metadata": {},
   "outputs": [
    {
     "data": {
      "text/plain": [
       "'1,2013-07-25 00:00:00.0,11599,CLOSED'"
      ]
     },
     "execution_count": 7,
     "metadata": {},
     "output_type": "execute_result"
    }
   ],
   "source": [
    "orders[0]"
   ]
  },
  {
   "cell_type": "markdown",
   "id": "4829c837",
   "metadata": {},
   "source": [
    "* Write the list `orders` to the target file."
   ]
  },
  {
   "cell_type": "code",
   "execution_count": 8,
   "id": "0e571226",
   "metadata": {},
   "outputs": [],
   "source": [
    "!rm -rf data/retail_db/orders"
   ]
  },
  {
   "cell_type": "code",
   "execution_count": 9,
   "id": "3a4a346a",
   "metadata": {},
   "outputs": [],
   "source": [
    "!mkdir -p data/retail_db/orders"
   ]
  },
  {
   "cell_type": "code",
   "execution_count": 10,
   "id": "31544235",
   "metadata": {},
   "outputs": [],
   "source": [
    "orders_file = open('data/retail_db/orders/part-00000', 'w')"
   ]
  },
  {
   "cell_type": "code",
   "execution_count": 11,
   "id": "cc6a49fa",
   "metadata": {},
   "outputs": [],
   "source": [
    "for order in orders:\n",
    "    orders_file.write(f'{order}\\n')"
   ]
  },
  {
   "cell_type": "code",
   "execution_count": 12,
   "id": "ea516b54",
   "metadata": {},
   "outputs": [],
   "source": [
    "orders_file.close()"
   ]
  },
  {
   "cell_type": "markdown",
   "id": "bcb3483b",
   "metadata": {},
   "source": [
    "* Validate whether file is created or not as expected."
   ]
  },
  {
   "cell_type": "code",
   "execution_count": 13,
   "id": "97c204ff",
   "metadata": {},
   "outputs": [
    {
     "name": "stdout",
     "output_type": "stream",
     "text": [
      "total 2932\n",
      "-rw-r--r-- 1 itv002461 students 2999944 Apr 26 10:12 part-00000\n"
     ]
    }
   ],
   "source": [
    "!ls -ltr data/retail_db/orders"
   ]
  },
  {
   "cell_type": "code",
   "execution_count": 14,
   "id": "295a4d7d",
   "metadata": {},
   "outputs": [
    {
     "name": "stdout",
     "output_type": "stream",
     "text": [
      "1,2013-07-25 00:00:00.0,11599,CLOSED\n",
      "2,2013-07-25 00:00:00.0,256,PENDING_PAYMENT\n",
      "3,2013-07-25 00:00:00.0,12111,COMPLETE\n",
      "4,2013-07-25 00:00:00.0,8827,CLOSED\n",
      "5,2013-07-25 00:00:00.0,11318,COMPLETE\n"
     ]
    }
   ],
   "source": [
    "!head -5 data/retail_db/orders/part-00000"
   ]
  },
  {
   "cell_type": "code",
   "execution_count": 15,
   "id": "bf8888c1",
   "metadata": {},
   "outputs": [
    {
     "name": "stdout",
     "output_type": "stream",
     "text": [
      "68883 data/retail_db/orders/part-00000\n"
     ]
    }
   ],
   "source": [
    "!wc -l data/retail_db/orders/part-00000"
   ]
  },
  {
   "cell_type": "code",
   "execution_count": null,
   "id": "3e5ab0e2",
   "metadata": {},
   "outputs": [],
   "source": []
  }
 ],
 "metadata": {
  "kernelspec": {
   "display_name": "Python 3",
   "language": "python",
   "name": "python3"
  },
  "language_info": {
   "codemirror_mode": {
    "name": "ipython",
    "version": 3
   },
   "file_extension": ".py",
   "mimetype": "text/x-python",
   "name": "python",
   "nbconvert_exporter": "python",
   "pygments_lexer": "ipython3",
   "version": "3.6.12"
  }
 },
 "nbformat": 4,
 "nbformat_minor": 5
}
