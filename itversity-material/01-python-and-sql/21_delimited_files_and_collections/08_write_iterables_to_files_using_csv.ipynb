{
 "cells": [
  {
   "cell_type": "markdown",
   "id": "10e7f792",
   "metadata": {
    "tags": []
   },
   "source": [
    "## Write iterables to files using CSV\n",
    "\n",
    "Let us understand how to write data in iterables such as list of tuples to delimited files using Python I/O functions as well as `csv`. `csv` can also be used to write iterable of dicts into delimited files."
   ]
  },
  {
   "cell_type": "code",
   "execution_count": 1,
   "id": "1472bb98",
   "metadata": {},
   "outputs": [],
   "source": [
    "orders = [(1, '2013-07-25 00:00:00.0', 11599, 'CLOSED'),\n",
    " (2, '2013-07-25 00:00:00.0', 256, 'PENDING_PAYMENT'),\n",
    " (3, '2013-07-25 00:00:00.0', 12111, 'COMPLETE'),\n",
    " (4, '2013-07-25 00:00:00.0', 8827, 'CLOSED'),\n",
    " (5, '2013-07-25 00:00:00.0', 11318, 'COMPLETE'),\n",
    " (6, '2013-07-25 00:00:00.0', 7130, 'COMPLETE'),\n",
    " (7, '2013-07-25 00:00:00.0', 4530, 'COMPLETE'),\n",
    " (8, '2013-07-25 00:00:00.0', 2911, 'PROCESSING'),\n",
    " (9, '2013-07-25 00:00:00.0', 5657, 'PENDING_PAYMENT'),\n",
    " (10, '2013-07-25 00:00:00.0', 5648, 'PENDING_PAYMENT')]\n",
    "\n",
    "orders_csv = map(lambda order: ','.join(map(lambda item: str(item), order)), orders)"
   ]
  },
  {
   "cell_type": "code",
   "execution_count": 2,
   "id": "17842953",
   "metadata": {},
   "outputs": [
    {
     "data": {
      "text/plain": [
       "['1,2013-07-25 00:00:00.0,11599,CLOSED',\n",
       " '2,2013-07-25 00:00:00.0,256,PENDING_PAYMENT',\n",
       " '3,2013-07-25 00:00:00.0,12111,COMPLETE',\n",
       " '4,2013-07-25 00:00:00.0,8827,CLOSED',\n",
       " '5,2013-07-25 00:00:00.0,11318,COMPLETE',\n",
       " '6,2013-07-25 00:00:00.0,7130,COMPLETE',\n",
       " '7,2013-07-25 00:00:00.0,4530,COMPLETE',\n",
       " '8,2013-07-25 00:00:00.0,2911,PROCESSING',\n",
       " '9,2013-07-25 00:00:00.0,5657,PENDING_PAYMENT',\n",
       " '10,2013-07-25 00:00:00.0,5648,PENDING_PAYMENT']"
      ]
     },
     "execution_count": 2,
     "metadata": {},
     "output_type": "execute_result"
    }
   ],
   "source": [
    "list(orders_csv)"
   ]
  },
  {
   "cell_type": "code",
   "execution_count": 3,
   "id": "7af77526",
   "metadata": {},
   "outputs": [],
   "source": [
    "!rm -rf data/retail_db/orders"
   ]
  },
  {
   "cell_type": "code",
   "execution_count": 4,
   "id": "cba65fa6",
   "metadata": {},
   "outputs": [],
   "source": [
    "!mkdir -p data/retail_db/orders"
   ]
  },
  {
   "cell_type": "code",
   "execution_count": 5,
   "id": "c2f014c5",
   "metadata": {},
   "outputs": [],
   "source": [
    "orders_file = open('data/retail_db/orders/part-00000', 'w')\n",
    "\n",
    "orders_csv = map(lambda order: ','.join(map(lambda item: str(item), order)), orders)\n",
    "\n",
    "for order in orders_csv:\n",
    "    orders_file.write(f'{order}\\n')\n",
    "\n",
    "orders_file.close()"
   ]
  },
  {
   "cell_type": "code",
   "execution_count": 6,
   "id": "89580590",
   "metadata": {},
   "outputs": [
    {
     "name": "stdout",
     "output_type": "stream",
     "text": [
      "-rw-r--r-- 1 itv002461 students 402 Aug 24 10:12 data/retail_db/orders/part-00000\n"
     ]
    }
   ],
   "source": [
    "!ls -ltr data/retail_db/orders/part-00000"
   ]
  },
  {
   "cell_type": "code",
   "execution_count": 7,
   "id": "44d1fa02",
   "metadata": {},
   "outputs": [
    {
     "name": "stdout",
     "output_type": "stream",
     "text": [
      "1,2013-07-25 00:00:00.0,11599,CLOSED\n",
      "2,2013-07-25 00:00:00.0,256,PENDING_PAYMENT\n",
      "3,2013-07-25 00:00:00.0,12111,COMPLETE\n",
      "4,2013-07-25 00:00:00.0,8827,CLOSED\n",
      "5,2013-07-25 00:00:00.0,11318,COMPLETE\n",
      "6,2013-07-25 00:00:00.0,7130,COMPLETE\n",
      "7,2013-07-25 00:00:00.0,4530,COMPLETE\n",
      "8,2013-07-25 00:00:00.0,2911,PROCESSING\n",
      "9,2013-07-25 00:00:00.0,5657,PENDING_PAYMENT\n",
      "10,2013-07-25 00:00:00.0,5648,PENDING_PAYMENT\n"
     ]
    }
   ],
   "source": [
    "!cat data/retail_db/orders/part-00000"
   ]
  },
  {
   "cell_type": "markdown",
   "id": "a192716c",
   "metadata": {},
   "source": [
    "* Writing iterables of tuples using `csv.writer`."
   ]
  },
  {
   "cell_type": "code",
   "execution_count": 8,
   "id": "c8c0ba87",
   "metadata": {},
   "outputs": [],
   "source": [
    "orders = [(1, '2013-07-25 00:00:00.0', 11599, 'CLOSED'),\n",
    " (2, '2013-07-25 00:00:00.0', 256, 'PENDING_PAYMENT'),\n",
    " (3, '2013-07-25 00:00:00.0', 12111, 'COMPLETE'),\n",
    " (4, '2013-07-25 00:00:00.0', 8827, 'CLOSED'),\n",
    " (5, '2013-07-25 00:00:00.0', 11318, 'COMPLETE'),\n",
    " (6, '2013-07-25 00:00:00.0', 7130, 'COMPLETE'),\n",
    " (7, '2013-07-25 00:00:00.0', 4530, 'COMPLETE'),\n",
    " (8, '2013-07-25 00:00:00.0', 2911, 'PROCESSING'),\n",
    " (9, '2013-07-25 00:00:00.0', 5657, 'PENDING_PAYMENT'),\n",
    " (10, '2013-07-25 00:00:00.0', 5648, 'PENDING_PAYMENT')]"
   ]
  },
  {
   "cell_type": "code",
   "execution_count": 9,
   "id": "fd866fa9",
   "metadata": {},
   "outputs": [],
   "source": [
    "import csv"
   ]
  },
  {
   "cell_type": "code",
   "execution_count": 10,
   "id": "8cd8c710",
   "metadata": {},
   "outputs": [
    {
     "data": {
      "text/plain": [
       "\u001b[0;31mDocstring:\u001b[0m\n",
       "csv_writer = csv.writer(fileobj [, dialect='excel']\n",
       "                            [optional keyword args])\n",
       "    for row in sequence:\n",
       "        csv_writer.writerow(row)\n",
       "\n",
       "    [or]\n",
       "\n",
       "    csv_writer = csv.writer(fileobj [, dialect='excel']\n",
       "                            [optional keyword args])\n",
       "    csv_writer.writerows(rows)\n",
       "\n",
       "The \"fileobj\" argument can be any object that supports the file API.\n",
       "\u001b[0;31mType:\u001b[0m      builtin_function_or_method\n"
      ]
     },
     "metadata": {},
     "output_type": "display_data"
    }
   ],
   "source": [
    "csv.writer?"
   ]
  },
  {
   "cell_type": "code",
   "execution_count": 11,
   "id": "ed4a527b",
   "metadata": {},
   "outputs": [],
   "source": [
    "!rm data/retail_db/orders/part-00000"
   ]
  },
  {
   "cell_type": "code",
   "execution_count": 12,
   "id": "02a799ed",
   "metadata": {},
   "outputs": [],
   "source": [
    "orders_file = open('data/retail_db/orders/part-00000', 'w')"
   ]
  },
  {
   "cell_type": "code",
   "execution_count": 13,
   "id": "cfa328f3",
   "metadata": {},
   "outputs": [],
   "source": [
    "csv_writer = csv.writer(orders_file)"
   ]
  },
  {
   "cell_type": "code",
   "execution_count": 14,
   "id": "82e15aec",
   "metadata": {},
   "outputs": [],
   "source": [
    "csv_writer.writerows(orders)"
   ]
  },
  {
   "cell_type": "code",
   "execution_count": 15,
   "id": "874c6454",
   "metadata": {},
   "outputs": [],
   "source": [
    "orders_file.close()"
   ]
  },
  {
   "cell_type": "code",
   "execution_count": 16,
   "id": "23940caa",
   "metadata": {},
   "outputs": [
    {
     "name": "stdout",
     "output_type": "stream",
     "text": [
      "-rw-r--r-- 1 itv002461 students 412 Aug 24 10:12 data/retail_db/orders/part-00000\n"
     ]
    }
   ],
   "source": [
    "!ls -ltr data/retail_db/orders/part-00000"
   ]
  },
  {
   "cell_type": "code",
   "execution_count": 17,
   "id": "151b6ab7",
   "metadata": {},
   "outputs": [
    {
     "name": "stdout",
     "output_type": "stream",
     "text": [
      "1,2013-07-25 00:00:00.0,11599,CLOSED\n",
      "2,2013-07-25 00:00:00.0,256,PENDING_PAYMENT\n",
      "3,2013-07-25 00:00:00.0,12111,COMPLETE\n",
      "4,2013-07-25 00:00:00.0,8827,CLOSED\n",
      "5,2013-07-25 00:00:00.0,11318,COMPLETE\n",
      "6,2013-07-25 00:00:00.0,7130,COMPLETE\n",
      "7,2013-07-25 00:00:00.0,4530,COMPLETE\n",
      "8,2013-07-25 00:00:00.0,2911,PROCESSING\n",
      "9,2013-07-25 00:00:00.0,5657,PENDING_PAYMENT\n",
      "10,2013-07-25 00:00:00.0,5648,PENDING_PAYMENT\n"
     ]
    }
   ],
   "source": [
    "!cat data/retail_db/orders/part-00000"
   ]
  },
  {
   "cell_type": "markdown",
   "id": "f75e9e5a",
   "metadata": {},
   "source": [
    "* We can also write into delimited text files using other delimiters than comma."
   ]
  },
  {
   "cell_type": "code",
   "execution_count": 18,
   "id": "cf067797",
   "metadata": {},
   "outputs": [],
   "source": [
    "!rm data/retail_db/orders/part-00000"
   ]
  },
  {
   "cell_type": "code",
   "execution_count": 19,
   "id": "386f8149",
   "metadata": {},
   "outputs": [],
   "source": [
    "orders_file = open('data/retail_db/orders/part-00000', 'w')\n",
    "csv_writer = csv.writer(orders_file, delimiter=';')\n",
    "csv_writer.writerows(orders)\n",
    "orders_file.close()"
   ]
  },
  {
   "cell_type": "code",
   "execution_count": 20,
   "id": "52d8e6b3",
   "metadata": {},
   "outputs": [
    {
     "name": "stdout",
     "output_type": "stream",
     "text": [
      "-rw-r--r-- 1 itv002461 students 412 Aug 24 10:12 data/retail_db/orders/part-00000\n"
     ]
    }
   ],
   "source": [
    "!ls -ltr data/retail_db/orders/part-00000"
   ]
  },
  {
   "cell_type": "code",
   "execution_count": 21,
   "id": "d62e8568",
   "metadata": {},
   "outputs": [
    {
     "name": "stdout",
     "output_type": "stream",
     "text": [
      "1;2013-07-25 00:00:00.0;11599;CLOSED\n",
      "2;2013-07-25 00:00:00.0;256;PENDING_PAYMENT\n",
      "3;2013-07-25 00:00:00.0;12111;COMPLETE\n",
      "4;2013-07-25 00:00:00.0;8827;CLOSED\n",
      "5;2013-07-25 00:00:00.0;11318;COMPLETE\n",
      "6;2013-07-25 00:00:00.0;7130;COMPLETE\n",
      "7;2013-07-25 00:00:00.0;4530;COMPLETE\n",
      "8;2013-07-25 00:00:00.0;2911;PROCESSING\n",
      "9;2013-07-25 00:00:00.0;5657;PENDING_PAYMENT\n",
      "10;2013-07-25 00:00:00.0;5648;PENDING_PAYMENT\n"
     ]
    }
   ],
   "source": [
    "!cat data/retail_db/orders/part-00000"
   ]
  },
  {
   "cell_type": "markdown",
   "id": "ff142360",
   "metadata": {},
   "source": [
    "* We can also write list of dicts into delimited strings using `csv.DictWriter`"
   ]
  },
  {
   "cell_type": "code",
   "execution_count": 22,
   "id": "057db4a9",
   "metadata": {},
   "outputs": [],
   "source": [
    "orders = [\n",
    "    {'order_id': 1, 'order_date': '2013-07-25 00:00:00.0', 'order_customer_id': 11599, 'order_status': 'CLOSED'},\n",
    "    {'order_id': 2, 'order_date': '2013-07-25 00:00:00.0', 'order_customer_id': 256, 'order_status': 'PENDING_PAYMENT'},\n",
    "    {'order_id': 3, 'order_date': '2013-07-25 00:00:00.0', 'order_customer_id': 12111, 'order_status': 'COMPLETE'},\n",
    "    {'order_id': 4, 'order_date': '2013-07-25 00:00:00.0', 'order_customer_id': 8827, 'order_status': 'CLOSED'},\n",
    "    {'order_id': 5, 'order_date': '2013-07-25 00:00:00.0', 'order_customer_id': 11318, 'order_status': 'COMPLETE'},\n",
    "    {'order_id': 6, 'order_date': '2013-07-25 00:00:00.0', 'order_customer_id': 7130, 'order_status': 'COMPLETE'},\n",
    "    {'order_id': 7, 'order_date': '2013-07-25 00:00:00.0', 'order_customer_id': 4530, 'order_status': 'COMPLETE'},\n",
    "    {'order_id': 8, 'order_date': '2013-07-25 00:00:00.0', 'order_customer_id': 2911, 'order_status': 'PROCESSING'},\n",
    "    {'order_id': 9, 'order_date': '2013-07-25 00:00:00.0', 'order_customer_id': 5657, 'order_status': 'PENDING_PAYMENT'},\n",
    "    {'order_id': 10, 'order_date': '2013-07-25 00:00:00.0', 'order_customer_id': 5648, 'order_status': 'PENDING_PAYMENT'}\n",
    "]"
   ]
  },
  {
   "cell_type": "code",
   "execution_count": 23,
   "id": "83b8e5c2",
   "metadata": {},
   "outputs": [],
   "source": [
    "!rm data/retail_db/orders/part-00000"
   ]
  },
  {
   "cell_type": "code",
   "execution_count": 24,
   "id": "bb9356d4",
   "metadata": {},
   "outputs": [],
   "source": [
    "orders_file = open('data/retail_db/orders/part-00000', 'w')"
   ]
  },
  {
   "cell_type": "code",
   "execution_count": 25,
   "id": "6b35bdea",
   "metadata": {},
   "outputs": [
    {
     "data": {
      "text/plain": [
       "\u001b[0;31mInit signature:\u001b[0m\n",
       "\u001b[0mcsv\u001b[0m\u001b[0;34m.\u001b[0m\u001b[0mDictWriter\u001b[0m\u001b[0;34m(\u001b[0m\u001b[0;34m\u001b[0m\n",
       "\u001b[0;34m\u001b[0m    \u001b[0mf\u001b[0m\u001b[0;34m,\u001b[0m\u001b[0;34m\u001b[0m\n",
       "\u001b[0;34m\u001b[0m    \u001b[0mfieldnames\u001b[0m\u001b[0;34m,\u001b[0m\u001b[0;34m\u001b[0m\n",
       "\u001b[0;34m\u001b[0m    \u001b[0mrestval\u001b[0m\u001b[0;34m=\u001b[0m\u001b[0;34m''\u001b[0m\u001b[0;34m,\u001b[0m\u001b[0;34m\u001b[0m\n",
       "\u001b[0;34m\u001b[0m    \u001b[0mextrasaction\u001b[0m\u001b[0;34m=\u001b[0m\u001b[0;34m'raise'\u001b[0m\u001b[0;34m,\u001b[0m\u001b[0;34m\u001b[0m\n",
       "\u001b[0;34m\u001b[0m    \u001b[0mdialect\u001b[0m\u001b[0;34m=\u001b[0m\u001b[0;34m'excel'\u001b[0m\u001b[0;34m,\u001b[0m\u001b[0;34m\u001b[0m\n",
       "\u001b[0;34m\u001b[0m    \u001b[0;34m*\u001b[0m\u001b[0margs\u001b[0m\u001b[0;34m,\u001b[0m\u001b[0;34m\u001b[0m\n",
       "\u001b[0;34m\u001b[0m    \u001b[0;34m**\u001b[0m\u001b[0mkwds\u001b[0m\u001b[0;34m,\u001b[0m\u001b[0;34m\u001b[0m\n",
       "\u001b[0;34m\u001b[0m\u001b[0;34m)\u001b[0m\u001b[0;34m\u001b[0m\u001b[0;34m\u001b[0m\u001b[0m\n",
       "\u001b[0;31mDocstring:\u001b[0m      <no docstring>\n",
       "\u001b[0;31mFile:\u001b[0m           /opt/anaconda3/envs/beakerx/lib/python3.6/csv.py\n",
       "\u001b[0;31mType:\u001b[0m           type\n",
       "\u001b[0;31mSubclasses:\u001b[0m     \n"
      ]
     },
     "metadata": {},
     "output_type": "display_data"
    }
   ],
   "source": [
    "csv.DictWriter?"
   ]
  },
  {
   "cell_type": "code",
   "execution_count": 26,
   "id": "69e317cc",
   "metadata": {},
   "outputs": [],
   "source": [
    "csv_writer = csv.DictWriter(\n",
    "    orders_file,\n",
    "    fieldnames=['order_id', 'order_date', 'order_customer_id', 'order_status'],\n",
    "    delimiter=';'\n",
    ")"
   ]
  },
  {
   "cell_type": "code",
   "execution_count": 27,
   "id": "545797b7",
   "metadata": {},
   "outputs": [],
   "source": [
    "csv_writer.writerows(orders)"
   ]
  },
  {
   "cell_type": "code",
   "execution_count": 28,
   "id": "4b0da168",
   "metadata": {},
   "outputs": [],
   "source": [
    "orders_file.close()"
   ]
  },
  {
   "cell_type": "code",
   "execution_count": 29,
   "id": "ab3fe2e4",
   "metadata": {},
   "outputs": [
    {
     "name": "stdout",
     "output_type": "stream",
     "text": [
      "-rw-r--r-- 1 itv002461 students 412 Aug 24 10:12 data/retail_db/orders/part-00000\n"
     ]
    }
   ],
   "source": [
    "!ls -ltr data/retail_db/orders/part-00000"
   ]
  },
  {
   "cell_type": "code",
   "execution_count": 30,
   "id": "58e9c8e7",
   "metadata": {},
   "outputs": [
    {
     "name": "stdout",
     "output_type": "stream",
     "text": [
      "1;2013-07-25 00:00:00.0;11599;CLOSED\n",
      "2;2013-07-25 00:00:00.0;256;PENDING_PAYMENT\n",
      "3;2013-07-25 00:00:00.0;12111;COMPLETE\n",
      "4;2013-07-25 00:00:00.0;8827;CLOSED\n",
      "5;2013-07-25 00:00:00.0;11318;COMPLETE\n",
      "6;2013-07-25 00:00:00.0;7130;COMPLETE\n",
      "7;2013-07-25 00:00:00.0;4530;COMPLETE\n",
      "8;2013-07-25 00:00:00.0;2911;PROCESSING\n",
      "9;2013-07-25 00:00:00.0;5657;PENDING_PAYMENT\n",
      "10;2013-07-25 00:00:00.0;5648;PENDING_PAYMENT\n"
     ]
    }
   ],
   "source": [
    "!cat data/retail_db/orders/part-00000"
   ]
  },
  {
   "cell_type": "code",
   "execution_count": null,
   "id": "570f92f5",
   "metadata": {},
   "outputs": [],
   "source": []
  }
 ],
 "metadata": {
  "kernelspec": {
   "display_name": "Python 3",
   "language": "python",
   "name": "python3"
  },
  "language_info": {
   "codemirror_mode": {
    "name": "ipython",
    "version": 3
   },
   "file_extension": ".py",
   "mimetype": "text/x-python",
   "name": "python",
   "nbconvert_exporter": "python",
   "pygments_lexer": "ipython3",
   "version": "3.6.12"
  }
 },
 "nbformat": 4,
 "nbformat_minor": 5
}
