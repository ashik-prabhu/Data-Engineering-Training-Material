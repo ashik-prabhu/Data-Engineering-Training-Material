{
 "cells": [
  {
   "cell_type": "markdown",
   "id": "80ce494c",
   "metadata": {},
   "source": [
    "## Delimited Files and Collections\n",
    "\n",
    "As part of this section or module, we will be going through the details about dealing with delimited files and collections.\n",
    "* Overview of Delimited text files\n",
    "* Recap of basic File I/O\n",
    "* Read Delimited Files into Lists\n",
    "* Write Delimited strings into Files\n",
    "* Overview of CSV Module\n",
    "* Read delimited data using CSV\n",
    "* Write iterables to files using CSV\n",
    "* Advantages of using CSV Module\n",
    "* Apply Schema on Lists from Files"
   ]
  },
  {
   "cell_type": "code",
   "execution_count": null,
   "id": "24620b24",
   "metadata": {},
   "outputs": [],
   "source": []
  }
 ],
 "metadata": {
  "kernelspec": {
   "display_name": "Python 3",
   "language": "python",
   "name": "python3"
  },
  "language_info": {
   "codemirror_mode": {
    "name": "ipython",
    "version": 3
   },
   "file_extension": ".py",
   "mimetype": "text/x-python",
   "name": "python",
   "nbconvert_exporter": "python",
   "pygments_lexer": "ipython3",
   "version": "3.6.12"
  }
 },
 "nbformat": 4,
 "nbformat_minor": 5
}
