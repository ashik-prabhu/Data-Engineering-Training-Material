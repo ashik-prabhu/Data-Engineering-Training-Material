{
 "cells": [
  {
   "cell_type": "markdown",
   "metadata": {},
   "source": [
    "## Overview of Sub Queries\n",
    "\n",
    "Let us recap about Sub Queries."
   ]
  },
  {
   "cell_type": "markdown",
   "metadata": {},
   "source": [
    "Let us start spark context for this Notebook so that we can execute the code provided. You can sign up for our [10 node state of the art cluster/labs](https://labs.itversity.com/plans) to learn Spark SQL using our unique integrated LMS."
   ]
  },
  {
   "cell_type": "code",
   "execution_count": 1,
   "metadata": {},
   "outputs": [
    {
     "data": {
      "text/plain": [
       "username = itv002461\n"
      ]
     },
     "metadata": {},
     "output_type": "display_data",
     "source": "user"
    },
    {
     "data": {
      "text/plain": [
       "itv002461"
      ]
     },
     "execution_count": 1,
     "metadata": {},
     "output_type": "execute_result"
    }
   ],
   "source": [
    "val username = System.getProperty(\"user.name\")"
   ]
  },
  {
   "cell_type": "code",
   "execution_count": 2,
   "metadata": {},
   "outputs": [
    {
     "data": {
      "text/plain": [
       "username = itv002461\n",
       "spark = org.apache.spark.sql.SparkSession@6d2d6449\n"
      ]
     },
     "metadata": {},
     "output_type": "display_data",
     "source": "user"
    },
    {
     "data": {
      "text/plain": [
       "org.apache.spark.sql.SparkSession@6d2d6449"
      ]
     },
     "execution_count": 2,
     "metadata": {},
     "output_type": "execute_result"
    }
   ],
   "source": [
    "import org.apache.spark.sql.SparkSession\n",
    "\n",
    "val username = System.getProperty(\"user.name\")\n",
    "val spark = SparkSession.\n",
    "    builder.\n",
    "    config(\"spark.ui.port\", \"0\").\n",
    "    config(\"spark.sql.warehouse.dir\", s\"/user/${username}/warehouse\").\n",
    "    enableHiveSupport.\n",
    "    appName(s\"${username} | Spark SQL - Windowing Functions\").\n",
    "    master(\"yarn\").\n",
    "    getOrCreate"
   ]
  },
  {
   "cell_type": "markdown",
   "metadata": {},
   "source": [
    "If you are going to use CLIs, you can use Spark SQL using one of the 3 approaches.\n",
    "\n",
    "**Using Spark SQL**\n",
    "\n",
    "```\n",
    "spark2-sql \\\n",
    "    --master yarn \\\n",
    "    --conf spark.ui.port=0 \\\n",
    "    --conf spark.sql.warehouse.dir=/user/${USER}/warehouse\n",
    "```\n",
    "\n",
    "**Using Scala**\n",
    "\n",
    "```\n",
    "spark2-shell \\\n",
    "    --master yarn \\\n",
    "    --conf spark.ui.port=0 \\\n",
    "    --conf spark.sql.warehouse.dir=/user/${USER}/warehouse\n",
    "```\n",
    "\n",
    "**Using Pyspark**\n",
    "\n",
    "```\n",
    "pyspark2 \\\n",
    "    --master yarn \\\n",
    "    --conf spark.ui.port=0 \\\n",
    "    --conf spark.sql.warehouse.dir=/user/${USER}/warehouse\n",
    "```"
   ]
  },
  {
   "cell_type": "markdown",
   "metadata": {},
   "source": [
    "* We typically have Sub Queries in **FROM** Clause.\n",
    "* We need not provide alias to the Sub Queries in **FROM** Clause in Spark SQL. In earlier versions, you might have to provide alias for the Sub Query.\n",
    "* We use Sub Queries quite often over queries using Analytics/Windowing Functions"
   ]
  },
  {
   "cell_type": "code",
   "execution_count": 3,
   "metadata": {},
   "outputs": [
    {
     "data": {
      "text/plain": [
       "Waiting for a Spark session to start..."
      ]
     },
     "metadata": {},
     "output_type": "display_data",
     "source": "user"
    },
    {
     "data": {
      "text/plain": [
       "+--------------+\n",
       "|current_date()|\n",
       "+--------------+\n",
       "|    2022-06-02|\n",
       "+--------------+\n",
       "\n"
      ]
     },
     "execution_count": 3,
     "metadata": {},
     "output_type": "execute_result"
    }
   ],
   "source": [
    "%%sql\n",
    "\n",
    "SELECT * FROM (SELECT current_date)"
   ]
  },
  {
   "cell_type": "code",
   "execution_count": 4,
   "metadata": {},
   "outputs": [
    {
     "data": {
      "text/plain": [
       "+--------------+\n",
       "|current_date()|\n",
       "+--------------+\n",
       "|    2022-06-02|\n",
       "+--------------+\n",
       "\n"
      ]
     },
     "execution_count": 4,
     "metadata": {},
     "output_type": "execute_result"
    }
   ],
   "source": [
    "%%sql\n",
    "\n",
    "SELECT * FROM (SELECT current_date) AS q"
   ]
  },
  {
   "cell_type": "markdown",
   "metadata": {},
   "source": [
    "Let us see few more examples with respect to Sub Queries."
   ]
  },
  {
   "cell_type": "code",
   "execution_count": 5,
   "metadata": {},
   "outputs": [
    {
     "data": {
      "text/plain": [
       "++\n",
       "||\n",
       "++\n",
       "++\n",
       "\n"
      ]
     },
     "execution_count": 5,
     "metadata": {},
     "output_type": "execute_result"
    }
   ],
   "source": [
    "%%sql\n",
    "\n",
    "USE itv002461_retail"
   ]
  },
  {
   "cell_type": "code",
   "execution_count": 6,
   "metadata": {},
   "outputs": [
    {
     "data": {
      "text/plain": [
       "+--------------------+-----------+\n",
       "|          order_date|order_count|\n",
       "+--------------------+-----------+\n",
       "|2014-03-19 00:00:...|        130|\n",
       "|2014-04-26 00:00:...|        251|\n",
       "|2013-10-12 00:00:...|        162|\n",
       "|2013-11-15 00:00:...|        135|\n",
       "|2013-09-16 00:00:...|        121|\n",
       "|2013-09-20 00:00:...|        139|\n",
       "|2013-12-31 00:00:...|        266|\n",
       "|2014-06-15 00:00:...|        128|\n",
       "|2013-09-06 00:00:...|        276|\n",
       "|2013-12-24 00:00:...|        170|\n",
       "+--------------------+-----------+\n",
       "\n"
      ]
     },
     "execution_count": 6,
     "metadata": {},
     "output_type": "execute_result"
    }
   ],
   "source": [
    "%%sql\n",
    "\n",
    "SELECT * FROM (\n",
    "    SELECT order_date, count(1) AS order_count\n",
    "    FROM orders\n",
    "    GROUP BY order_date\n",
    ") q\n",
    "LIMIT 10"
   ]
  },
  {
   "cell_type": "markdown",
   "metadata": {},
   "source": [
    "```{note}\n",
    "Here is an example of how we can filter based up on the derived columns using sub query. However, this can be achieved with direct query as well using `HAVING`. \n",
    "```"
   ]
  },
  {
   "cell_type": "code",
   "execution_count": 7,
   "metadata": {},
   "outputs": [
    {
     "data": {
      "text/plain": [
       "+--------------------+-----------+\n",
       "|          order_date|order_count|\n",
       "+--------------------+-----------+\n",
       "|2013-08-13 00:00:...|         73|\n",
       "|2013-10-12 00:00:...|        162|\n",
       "|2013-11-15 00:00:...|        135|\n",
       "|2014-03-19 00:00:...|        130|\n",
       "|2014-04-26 00:00:...|        251|\n",
       "|2013-09-16 00:00:...|        121|\n",
       "|2013-09-20 00:00:...|        139|\n",
       "|2013-12-31 00:00:...|        266|\n",
       "|2013-09-06 00:00:...|        276|\n",
       "|2014-06-15 00:00:...|        128|\n",
       "+--------------------+-----------+\n",
       "only showing top 10 rows\n",
       "\n"
      ]
     },
     "execution_count": 7,
     "metadata": {},
     "output_type": "execute_result"
    }
   ],
   "source": [
    "%%sql\n",
    "\n",
    "SELECT * FROM (\n",
    "    SELECT order_date, count(1) AS order_count\n",
    "    FROM orders\n",
    "    GROUP BY order_date\n",
    ") q\n",
    "WHERE q.order_count > 10"
   ]
  },
  {
   "cell_type": "code",
   "execution_count": 8,
   "metadata": {},
   "outputs": [
    {
     "data": {
      "text/plain": [
       "+--------------------+-----------+\n",
       "|          order_date|order_count|\n",
       "+--------------------+-----------+\n",
       "|2013-08-13 00:00:...|         73|\n",
       "|2014-03-19 00:00:...|        130|\n",
       "|2014-04-26 00:00:...|        251|\n",
       "|2013-10-12 00:00:...|        162|\n",
       "|2013-11-15 00:00:...|        135|\n",
       "|2013-09-16 00:00:...|        121|\n",
       "|2013-09-20 00:00:...|        139|\n",
       "|2013-12-31 00:00:...|        266|\n",
       "|2013-09-06 00:00:...|        276|\n",
       "|2014-06-15 00:00:...|        128|\n",
       "+--------------------+-----------+\n",
       "only showing top 10 rows\n",
       "\n"
      ]
     },
     "execution_count": 8,
     "metadata": {},
     "output_type": "execute_result"
    }
   ],
   "source": [
    "%%sql\n",
    "\n",
    "SELECT order_date, count(1) AS order_count\n",
    "FROM orders\n",
    "GROUP BY order_date\n",
    "    HAVING count(1) > 10"
   ]
  },
  {
   "cell_type": "code",
   "execution_count": null,
   "metadata": {},
   "outputs": [],
   "source": []
  }
 ],
 "metadata": {
  "kernelspec": {
   "display_name": "Spark 2 - Scala",
   "language": "scala",
   "name": "spark_2_scala"
  },
  "language_info": {
   "codemirror_mode": "text/x-scala",
   "file_extension": ".scala",
   "mimetype": "text/x-scala",
   "name": "scala",
   "pygments_lexer": "scala",
   "version": "2.11.12"
  }
 },
 "nbformat": 4,
 "nbformat_minor": 4
}
