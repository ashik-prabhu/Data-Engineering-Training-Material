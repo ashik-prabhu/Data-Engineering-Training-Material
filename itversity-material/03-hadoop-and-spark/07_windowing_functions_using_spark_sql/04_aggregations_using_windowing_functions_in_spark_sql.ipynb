{
 "cells": [
  {
   "cell_type": "markdown",
   "metadata": {},
   "source": [
    "## Aggregations using Windowing Functions\n",
    "\n",
    "Let us see how we can perform aggregations with in a partition or group using Windowing/Analytics Functions."
   ]
  },
  {
   "cell_type": "markdown",
   "metadata": {},
   "source": [
    "Let us start spark context for this Notebook so that we can execute the code provided. You can sign up for our [10 node state of the art cluster/labs](https://labs.itversity.com/plans) to learn Spark SQL using our unique integrated LMS."
   ]
  },
  {
   "cell_type": "code",
   "execution_count": 1,
   "metadata": {},
   "outputs": [
    {
     "data": {
      "text/plain": [
       "username = itv002461\n"
      ]
     },
     "metadata": {},
     "output_type": "display_data",
     "source": "user"
    },
    {
     "data": {
      "text/plain": [
       "itv002461"
      ]
     },
     "execution_count": 1,
     "metadata": {},
     "output_type": "execute_result"
    }
   ],
   "source": [
    "val username = System.getProperty(\"user.name\")"
   ]
  },
  {
   "cell_type": "code",
   "execution_count": 2,
   "metadata": {},
   "outputs": [
    {
     "data": {
      "text/plain": [
       "username = itv002461\n",
       "spark = org.apache.spark.sql.SparkSession@365e5687\n"
      ]
     },
     "metadata": {},
     "output_type": "display_data",
     "source": "user"
    },
    {
     "data": {
      "text/plain": [
       "org.apache.spark.sql.SparkSession@365e5687"
      ]
     },
     "execution_count": 2,
     "metadata": {},
     "output_type": "execute_result"
    }
   ],
   "source": [
    "import org.apache.spark.sql.SparkSession\n",
    "\n",
    "val username = System.getProperty(\"user.name\")\n",
    "val spark = SparkSession.\n",
    "    builder.\n",
    "    config(\"spark.ui.port\", \"0\").\n",
    "    config(\"spark.sql.warehouse.dir\", s\"/user/${username}/warehouse\").\n",
    "    enableHiveSupport.\n",
    "    appName(s\"${username} | Spark SQL - Windowing Functions\").\n",
    "    master(\"yarn\").\n",
    "    getOrCreate"
   ]
  },
  {
   "cell_type": "markdown",
   "metadata": {},
   "source": [
    "If you are going to use CLIs, you can use Spark SQL using one of the 3 approaches.\n",
    "\n",
    "**Using Spark SQL**\n",
    "\n",
    "```\n",
    "spark2-sql \\\n",
    "    --master yarn \\\n",
    "    --conf spark.ui.port=0 \\\n",
    "    --conf spark.sql.warehouse.dir=/user/${USER}/warehouse\n",
    "```\n",
    "\n",
    "**Using Scala**\n",
    "\n",
    "```\n",
    "spark2-shell \\\n",
    "    --master yarn \\\n",
    "    --conf spark.ui.port=0 \\\n",
    "    --conf spark.sql.warehouse.dir=/user/${USER}/warehouse\n",
    "```\n",
    "\n",
    "**Using Pyspark**\n",
    "\n",
    "```\n",
    "pyspark2 \\\n",
    "    --master yarn \\\n",
    "    --conf spark.ui.port=0 \\\n",
    "    --conf spark.sql.warehouse.dir=/user/${USER}/warehouse\n",
    "```"
   ]
  },
  {
   "cell_type": "markdown",
   "metadata": {},
   "source": [
    "* For simple aggregations where we have to get grouping key and aggregated results we can use **GROUP BY**.\n",
    "* If we want to get the raw data along with aggregated results, then using **GROUP BY** is not possible or overly complicated.\n",
    "* Using aggregate functions with **OVER** Clause not only simplifies the process of writing query, but also better with respect to performance.\n",
    "* Let us take an example of getting employee salary percentage when compared to department salary expense."
   ]
  },
  {
   "cell_type": "code",
   "execution_count": 3,
   "metadata": {},
   "outputs": [
    {
     "data": {
      "text/plain": [
       "Waiting for a Spark session to start..."
      ]
     },
     "metadata": {},
     "output_type": "display_data",
     "source": "user"
    },
    {
     "data": {
      "text/plain": [
       "++\n",
       "||\n",
       "++\n",
       "++\n",
       "\n"
      ]
     },
     "execution_count": 3,
     "metadata": {},
     "output_type": "execute_result"
    }
   ],
   "source": [
    "%%sql\n",
    "\n",
    "USE itv002461_hr"
   ]
  },
  {
   "cell_type": "code",
   "execution_count": 4,
   "metadata": {},
   "outputs": [
    {
     "data": {
      "text/plain": [
       "+-----------+-------------+--------+\n",
       "|employee_id|department_id|  salary|\n",
       "+-----------+-------------+--------+\n",
       "|        178|         null| 7000.00|\n",
       "|        200|           10| 4400.00|\n",
       "|        202|           20| 6000.00|\n",
       "|        201|           20|13000.00|\n",
       "|        119|           30| 2500.00|\n",
       "|        118|           30| 2600.00|\n",
       "|        117|           30| 2800.00|\n",
       "|        116|           30| 2900.00|\n",
       "|        115|           30| 3100.00|\n",
       "|        114|           30|11000.00|\n",
       "+-----------+-------------+--------+\n",
       "\n"
      ]
     },
     "execution_count": 4,
     "metadata": {},
     "output_type": "execute_result"
    }
   ],
   "source": [
    "%%sql\n",
    "\n",
    "SELECT employee_id, department_id, salary \n",
    "FROM employees \n",
    "ORDER BY department_id, salary\n",
    "LIMIT 10"
   ]
  },
  {
   "cell_type": "markdown",
   "metadata": {},
   "source": [
    "> Let us write the query using `GROUP BY` approach."
   ]
  },
  {
   "cell_type": "code",
   "execution_count": 5,
   "metadata": {},
   "outputs": [
    {
     "data": {
      "text/plain": [
       "+-------------+-------------------------+\n",
       "|department_id|department_salary_expense|\n",
       "+-------------+-------------------------+\n",
       "|         null|                  7000.00|\n",
       "|           10|                  4400.00|\n",
       "|           20|                 19000.00|\n",
       "|           30|                 24900.00|\n",
       "|           40|                  6500.00|\n",
       "|           50|                156400.00|\n",
       "|           60|                 28800.00|\n",
       "|           70|                 10000.00|\n",
       "|           80|                304500.00|\n",
       "|           90|                 58000.00|\n",
       "+-------------+-------------------------+\n",
       "only showing top 10 rows\n",
       "\n"
      ]
     },
     "execution_count": 5,
     "metadata": {},
     "output_type": "execute_result"
    }
   ],
   "source": [
    "%%sql\n",
    "\n",
    "SELECT department_id,\n",
    "       sum(salary) AS department_salary_expense\n",
    "FROM employees\n",
    "GROUP BY department_id\n",
    "ORDER BY department_id"
   ]
  },
  {
   "cell_type": "code",
   "execution_count": 6,
   "metadata": {},
   "outputs": [
    {
     "data": {
      "text/plain": [
       "|        117|           30| 2800.00|                 24900.00...\n"
      ]
     },
     "metadata": {},
     "output_type": "display_data",
     "source": "user"
    },
    {
     "data": {
      "text/plain": [
       "+-----------+-------------+--------+-------------------------+------------------+\n",
       "|employee_id|department_id|  salary|department_salary_expense|avg_salary_expense|\n",
       "+-----------+-------------+--------+-------------------------+------------------+\n",
       "|        200|           10| 4400.00|                  4400.00|       4400.000000|\n",
       "|        202|           20| 6000.00|                 19000.00|       9500.000000|\n",
       "|        201|           20|13000.00|                 19000.00|       9500.000000|\n",
       "|        119|           30| 2500.00|                 24900.00|       4150.000000|\n",
       "|        118|           30| 2600.00|                 24900.00|       4150.000000|\n",
       "|        117|           30| 2800.00|                 24900.00|       4150.000000|\n",
       "|        116|           30| 2900.00|                 24900.00|       4150.000000|\n",
       "|        115|           30| 3100.00|                 24900.00|       4150.000000|\n",
       "|        114|           30|11000.00|                 24900.00|       4150.000000|\n",
       "|        203|           40| 6500.00|                  6500.00|       6500.000000|\n",
       "+-----------+-------------+--------+-------------------------+------------------+\n",
       "only showing top 10 rows\n",
       "\n"
      ]
     },
     "execution_count": 6,
     "metadata": {},
     "output_type": "execute_result"
    }
   ],
   "source": [
    "%%sql\n",
    "\n",
    "SELECT e.employee_id, e.department_id, e.salary,\n",
    "       ae.department_salary_expense,\n",
    "       ae.avg_salary_expense\n",
    "FROM employees e JOIN (\n",
    "     SELECT department_id, \n",
    "            sum(salary) AS department_salary_expense,\n",
    "            avg(salary) AS avg_salary_expense\n",
    "     FROM employees\n",
    "     GROUP BY department_id\n",
    ") ae\n",
    "ON e.department_id = ae.department_id\n",
    "ORDER BY department_id, salary"
   ]
  },
  {
   "cell_type": "markdown",
   "metadata": {},
   "source": [
    "> Let us see how we can get it using Analytics/Windowing Functions. \n",
    "\n",
    "* We can use all standard aggregate functions such as `count`, `sum`, `min`, `max`, `avg` etc."
   ]
  },
  {
   "cell_type": "code",
   "execution_count": 4,
   "metadata": {},
   "outputs": [
    {
     "data": {
      "text/plain": [
       "|        116|           ...\n"
      ]
     },
     "metadata": {},
     "output_type": "display_data",
     "source": "user"
    },
    {
     "data": {
      "text/plain": [
       "+-----------+-------------+--------+-------------------------+\n",
       "|employee_id|department_id|  salary|department_salary_expense|\n",
       "+-----------+-------------+--------+-------------------------+\n",
       "|        178|         null| 7000.00|              7000.000000|\n",
       "|        200|           10| 4400.00|              4400.000000|\n",
       "|        201|           20|13000.00|              9500.000000|\n",
       "|        202|           20| 6000.00|              9500.000000|\n",
       "|        118|           30| 2600.00|              4150.000000|\n",
       "|        117|           30| 2800.00|              4150.000000|\n",
       "|        115|           30| 3100.00|              4150.000000|\n",
       "|        114|           30|11000.00|              4150.000000|\n",
       "|        116|           30| 2900.00|              4150.000000|\n",
       "|        119|           30| 2500.00|              4150.000000|\n",
       "+-----------+-------------+--------+-------------------------+\n",
       "only showing top 10 rows\n",
       "\n"
      ]
     },
     "execution_count": 4,
     "metadata": {},
     "output_type": "execute_result"
    }
   ],
   "source": [
    "%%sql\n",
    "\n",
    "SELECT e.employee_id, e.department_id, e.salary,\n",
    "       sum(e.salary) \n",
    "         OVER (PARTITION BY e.department_id)\n",
    "         AS department_salary_expense\n",
    "FROM employees e\n",
    "ORDER BY e.department_id"
   ]
  },
  {
   "cell_type": "code",
   "execution_count": 8,
   "metadata": {},
   "outputs": [
    {
     "data": {
      "text/plain": [
       "|        201|  ...\n"
      ]
     },
     "metadata": {},
     "output_type": "display_data",
     "source": "user"
    },
    {
     "data": {
      "text/plain": [
       "+-----------+-------------+--------+---------------+---------------+---------------+---------------+---------------+\n",
       "|employee_id|department_id|  salary|sum_sal_expense|avg_sal_expense|min_sal_expense|max_sal_expense|cnt_sal_expense|\n",
       "+-----------+-------------+--------+---------------+---------------+---------------+---------------+---------------+\n",
       "|        178|         null| 7000.00|        7000.00|    7000.000000|        7000.00|        7000.00|              1|\n",
       "|        200|           10| 4400.00|        4400.00|    4400.000000|        4400.00|        4400.00|              1|\n",
       "|        202|           20| 6000.00|       19000.00|    9500.000000|        6000.00|       13000.00|              2|\n",
       "|        201|           20|13000.00|       19000.00|    9500.000000|        6000.00|       13000.00|              2|\n",
       "|        116|           30| 2900.00|       24900.00|    4150.000000|        2500.00|       11000.00|              6|\n",
       "|        118|           30| 2600.00|       24900.00|    4150.000000|        2500.00|       11000.00|              6|\n",
       "|        114|           30|11000.00|       24900.00|    4150.000000|        2500.00|       11000.00|              6|\n",
       "|        115|           30| 3100.00|       24900.00|    4150.000000|        2500.00|       11000.00|              6|\n",
       "|        117|           30| 2800.00|       24900.00|    4150.000000|        2500.00|       11000.00|              6|\n",
       "|        119|           30| 2500.00|       24900.00|    4150.000000|        2500.00|       11000.00|              6|\n",
       "+-----------+-------------+--------+---------------+---------------+---------------+---------------+---------------+\n",
       "only showing top 10 rows\n",
       "\n"
      ]
     },
     "execution_count": 8,
     "metadata": {},
     "output_type": "execute_result"
    }
   ],
   "source": [
    "%%sql\n",
    "\n",
    "SELECT e.employee_id, e.department_id, e.salary,\n",
    "    sum(e.salary) OVER (PARTITION BY e.department_id) AS sum_sal_expense,\n",
    "    avg(e.salary) OVER (PARTITION BY e.department_id) AS avg_sal_expense,\n",
    "    min(e.salary) OVER (PARTITION BY e.department_id) AS min_sal_expense,\n",
    "    max(e.salary) OVER (PARTITION BY e.department_id) AS max_sal_expense,\n",
    "    count(e.salary) OVER (PARTITION BY e.department_id) AS cnt_sal_expense\n",
    "FROM employees e\n",
    "ORDER BY e.department_id"
   ]
  },
  {
   "cell_type": "markdown",
   "metadata": {},
   "source": [
    "### Create tables to get daily revenue\n",
    "\n",
    "Let us create couple of tables which will be used for the demonstrations of Windowing and Ranking functions.\n",
    "\n",
    "* We have **ORDERS** and **ORDER_ITEMS** tables.\n",
    "* Let us take care of computing daily revenue as well as daily product revenue.\n",
    "* As we will be using same data set several times, let us create the tables to pre compute the data.\n",
    "* **daily_revenue** will have the **order_date** and **revenue**, where data is aggregated using **order_date** as partition key.\n",
    "* **daily_product_revenue** will have **order_date**, **order_item_product_id** and **revenue**. In this case data is aggregated using **order_date** and **order_item_product_id** as partition keys.\n",
    "\n",
    "Let us create table to compute daily revenue."
   ]
  },
  {
   "cell_type": "code",
   "execution_count": 9,
   "metadata": {},
   "outputs": [
    {
     "data": {
      "text/plain": [
       "++\n",
       "||\n",
       "++\n",
       "++\n",
       "\n"
      ]
     },
     "execution_count": 9,
     "metadata": {},
     "output_type": "execute_result"
    }
   ],
   "source": [
    "%%sql\n",
    "\n",
    "USE itv002461_retail"
   ]
  },
  {
   "cell_type": "code",
   "execution_count": 10,
   "metadata": {},
   "outputs": [
    {
     "data": {
      "text/plain": [
       "++\n",
       "||\n",
       "++\n",
       "++\n",
       "\n"
      ]
     },
     "execution_count": 10,
     "metadata": {},
     "output_type": "execute_result"
    }
   ],
   "source": [
    "%%sql\n",
    "\n",
    "DROP TABLE IF EXISTS daily_revenue"
   ]
  },
  {
   "cell_type": "code",
   "execution_count": 11,
   "metadata": {},
   "outputs": [
    {
     "data": {
      "text/plain": [
       "++\n",
       "||\n",
       "++\n",
       "++\n",
       "\n"
      ]
     },
     "execution_count": 11,
     "metadata": {},
     "output_type": "execute_result"
    }
   ],
   "source": [
    "%%sql\n",
    "\n",
    "CREATE TABLE daily_revenue\n",
    "AS\n",
    "SELECT o.order_date,\n",
    "       round(sum(oi.order_item_subtotal), 2) AS revenue\n",
    "FROM orders o JOIN order_items oi\n",
    "ON o.order_id = oi.order_item_order_id\n",
    "WHERE o.order_status IN ('COMPLETE', 'CLOSED')\n",
    "GROUP BY o.order_date"
   ]
  },
  {
   "cell_type": "code",
   "execution_count": 12,
   "metadata": {},
   "outputs": [
    {
     "data": {
      "text/plain": [
       "+--------------------+--------+\n",
       "|          order_date| revenue|\n",
       "+--------------------+--------+\n",
       "|2013-07-25 00:00:...|31547.23|\n",
       "|2013-07-26 00:00:...|54713.23|\n",
       "|2013-07-27 00:00:...|48411.48|\n",
       "|2013-07-28 00:00:...|35672.03|\n",
       "|2013-07-29 00:00:...| 54579.7|\n",
       "|2013-07-30 00:00:...|49329.29|\n",
       "|2013-07-31 00:00:...|59212.49|\n",
       "|2013-08-01 00:00:...|49160.08|\n",
       "|2013-08-02 00:00:...|50688.58|\n",
       "|2013-08-03 00:00:...|43416.74|\n",
       "+--------------------+--------+\n",
       "\n"
      ]
     },
     "execution_count": 12,
     "metadata": {},
     "output_type": "execute_result"
    }
   ],
   "source": [
    "%%sql\n",
    "\n",
    "SELECT * \n",
    "FROM daily_revenue\n",
    "ORDER BY order_date\n",
    "LIMIT 10"
   ]
  },
  {
   "cell_type": "markdown",
   "metadata": {},
   "source": [
    "Let us create table to compute daily product revenue."
   ]
  },
  {
   "cell_type": "code",
   "execution_count": 13,
   "metadata": {},
   "outputs": [
    {
     "data": {
      "text/plain": [
       "++\n",
       "||\n",
       "++\n",
       "++\n",
       "\n"
      ]
     },
     "execution_count": 13,
     "metadata": {},
     "output_type": "execute_result"
    }
   ],
   "source": [
    "%%sql\n",
    "\n",
    "USE itv002461_retail"
   ]
  },
  {
   "cell_type": "code",
   "execution_count": 14,
   "metadata": {},
   "outputs": [
    {
     "data": {
      "text/plain": [
       "++\n",
       "||\n",
       "++\n",
       "++\n",
       "\n"
      ]
     },
     "execution_count": 14,
     "metadata": {},
     "output_type": "execute_result"
    }
   ],
   "source": [
    "%%sql\n",
    "\n",
    "DROP TABLE IF EXISTS daily_product_revenue"
   ]
  },
  {
   "cell_type": "code",
   "execution_count": 15,
   "metadata": {},
   "outputs": [
    {
     "data": {
      "text/plain": [
       "++\n",
       "||\n",
       "++\n",
       "++\n",
       "\n"
      ]
     },
     "execution_count": 15,
     "metadata": {},
     "output_type": "execute_result"
    }
   ],
   "source": [
    "%%sql\n",
    "\n",
    "CREATE TABLE daily_product_revenue\n",
    "AS\n",
    "SELECT o.order_date,\n",
    "       oi.order_item_product_id,\n",
    "       round(sum(oi.order_item_subtotal), 2) AS revenue\n",
    "FROM orders o JOIN order_items oi\n",
    "ON o.order_id = oi.order_item_order_id\n",
    "WHERE o.order_status IN ('COMPLETE', 'CLOSED')\n",
    "GROUP BY o.order_date, oi.order_item_product_id"
   ]
  },
  {
   "cell_type": "code",
   "execution_count": 16,
   "metadata": {},
   "outputs": [
    {
     "data": {
      "text/plain": [
       "+--------------------+------...\n"
      ]
     },
     "metadata": {},
     "output_type": "display_data",
     "source": "user"
    },
    {
     "data": {
      "text/plain": [
       "+--------------------+---------------------+-------+\n",
       "|          order_date|order_item_product_id|revenue|\n",
       "+--------------------+---------------------+-------+\n",
       "|2013-07-25 00:00:...|                   24| 319.96|\n",
       "|2013-07-25 00:00:...|                   93|  74.97|\n",
       "|2013-07-25 00:00:...|                  134|  100.0|\n",
       "|2013-07-25 00:00:...|                  191|5099.49|\n",
       "|2013-07-25 00:00:...|                  226| 599.99|\n",
       "|2013-07-25 00:00:...|                  365|3359.44|\n",
       "|2013-07-25 00:00:...|                  403|1949.85|\n",
       "|2013-07-25 00:00:...|                  502| 1650.0|\n",
       "|2013-07-25 00:00:...|                  572| 119.97|\n",
       "|2013-07-25 00:00:...|                  625| 199.99|\n",
       "+--------------------+---------------------+-------+\n",
       "\n"
      ]
     },
     "execution_count": 16,
     "metadata": {},
     "output_type": "execute_result"
    }
   ],
   "source": [
    "%%sql\n",
    "\n",
    "SELECT * \n",
    "FROM daily_product_revenue\n",
    "ORDER BY order_date, order_item_product_id\n",
    "LIMIT 10"
   ]
  },
  {
   "cell_type": "code",
   "execution_count": null,
   "metadata": {},
   "outputs": [],
   "source": []
  }
 ],
 "metadata": {
  "kernelspec": {
   "display_name": "Spark 2 - Scala",
   "language": "scala",
   "name": "spark_2_scala"
  },
  "language_info": {
   "codemirror_mode": "text/x-scala",
   "file_extension": ".scala",
   "mimetype": "text/x-scala",
   "name": "scala",
   "pygments_lexer": "scala",
   "version": "2.11.12"
  }
 },
 "nbformat": 4,
 "nbformat_minor": 4
}
