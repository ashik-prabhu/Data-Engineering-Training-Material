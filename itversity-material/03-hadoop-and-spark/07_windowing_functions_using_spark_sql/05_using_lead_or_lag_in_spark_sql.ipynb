{
 "cells": [
  {
   "cell_type": "markdown",
   "metadata": {},
   "source": [
    "## Using LEAD or LAG\n",
    "\n",
    "Let us understand LEAD and LAG functions to get column values from following or prior records."
   ]
  },
  {
   "cell_type": "markdown",
   "metadata": {},
   "source": [
    "Let us start spark context for this Notebook so that we can execute the code provided. You can sign up for our [10 node state of the art cluster/labs](https://labs.itversity.com/plans) to learn Spark SQL using our unique integrated LMS."
   ]
  },
  {
   "cell_type": "code",
   "execution_count": 1,
   "metadata": {},
   "outputs": [
    {
     "data": {
      "text/plain": [
       "username = itv002461\n"
      ]
     },
     "metadata": {},
     "output_type": "display_data",
     "source": "user"
    },
    {
     "data": {
      "text/plain": [
       "itv002461"
      ]
     },
     "execution_count": 1,
     "metadata": {},
     "output_type": "execute_result"
    }
   ],
   "source": [
    "val username = System.getProperty(\"user.name\")"
   ]
  },
  {
   "cell_type": "code",
   "execution_count": 2,
   "metadata": {},
   "outputs": [
    {
     "data": {
      "text/plain": [
       "username = itv002461\n",
       "spark = org.apache.spark.sql.SparkSession@196b1dac\n"
      ]
     },
     "metadata": {},
     "output_type": "display_data",
     "source": "user"
    },
    {
     "data": {
      "text/plain": [
       "org.apache.spark.sql.SparkSession@196b1dac"
      ]
     },
     "execution_count": 2,
     "metadata": {},
     "output_type": "execute_result"
    }
   ],
   "source": [
    "import org.apache.spark.sql.SparkSession\n",
    "\n",
    "val username = System.getProperty(\"user.name\")\n",
    "val spark = SparkSession.\n",
    "    builder.\n",
    "    config(\"spark.ui.port\", \"0\").\n",
    "    config(\"spark.sql.warehouse.dir\", s\"/user/${username}/warehouse\").\n",
    "    enableHiveSupport.\n",
    "    appName(s\"${username} | Spark SQL - Windowing Functions\").\n",
    "    master(\"yarn\").\n",
    "    getOrCreate"
   ]
  },
  {
   "cell_type": "markdown",
   "metadata": {},
   "source": [
    "If you are going to use CLIs, you can use Spark SQL using one of the 3 approaches.\n",
    "\n",
    "**Using Spark SQL**\n",
    "\n",
    "```\n",
    "spark2-sql \\\n",
    "    --master yarn \\\n",
    "    --conf spark.ui.port=0 \\\n",
    "    --conf spark.sql.warehouse.dir=/user/${USER}/warehouse\n",
    "```\n",
    "\n",
    "**Using Scala**\n",
    "\n",
    "```\n",
    "spark2-shell \\\n",
    "    --master yarn \\\n",
    "    --conf spark.ui.port=0 \\\n",
    "    --conf spark.sql.warehouse.dir=/user/${USER}/warehouse\n",
    "```\n",
    "\n",
    "**Using Pyspark**\n",
    "\n",
    "```\n",
    "pyspark2 \\\n",
    "    --master yarn \\\n",
    "    --conf spark.ui.port=0 \\\n",
    "    --conf spark.sql.warehouse.dir=/user/${USER}/warehouse\n",
    "```"
   ]
  },
  {
   "cell_type": "markdown",
   "metadata": {},
   "source": [
    "Here is the example where we can get prior or following records based on **ORDER BY** within **OVER** Clause."
   ]
  },
  {
   "cell_type": "code",
   "execution_count": 3,
   "metadata": {},
   "outputs": [
    {
     "data": {
      "text/plain": [
       "Waiting for a Spark session to start..."
      ]
     },
     "metadata": {},
     "output_type": "display_data",
     "source": "user"
    },
    {
     "data": {
      "text/plain": [
       "++\n",
       "||\n",
       "++\n",
       "++\n",
       "\n"
      ]
     },
     "execution_count": 3,
     "metadata": {},
     "output_type": "execute_result"
    }
   ],
   "source": [
    "%%sql\n",
    "\n",
    "USE itv002461_retail"
   ]
  },
  {
   "cell_type": "code",
   "execution_count": 4,
   "metadata": {},
   "outputs": [
    {
     "data": {
      "text/plain": [
       "+--------------------+--------+\n",
       "|          order_date| revenue|\n",
       "+--------------------+--------+\n",
       "|2014-07-24 00:00:...|50885.19|\n",
       "|2014-07-23 00:00:...|38795.23|\n",
       "|2014-07-22 00:00:...|36717.24|\n",
       "|2014-07-21 00:00:...| 51427.7|\n",
       "|2014-07-20 00:00:...|60047.45|\n",
       "|2014-07-19 00:00:...|38420.99|\n",
       "|2014-07-18 00:00:...| 43856.6|\n",
       "|2014-07-17 00:00:...|36384.77|\n",
       "|2014-07-16 00:00:...|43011.92|\n",
       "|2014-07-15 00:00:...|53480.23|\n",
       "+--------------------+--------+\n",
       "\n"
      ]
     },
     "execution_count": 4,
     "metadata": {},
     "output_type": "execute_result"
    }
   ],
   "source": [
    "%%sql\n",
    "\n",
    "SELECT * FROM daily_revenue\n",
    "ORDER BY order_date DESC\n",
    "LIMIT 10"
   ]
  },
  {
   "cell_type": "code",
   "execution_count": 5,
   "metadata": {},
   "outputs": [
    {
     "data": {
      "text/plain": [
       "|2014-07-21 00:00:...| 51427.7|2014-07-20 00:00:...|     60047.45|2014-07-20 00:0...\n"
      ]
     },
     "metadata": {},
     "output_type": "display_data",
     "source": "user"
    },
    {
     "data": {
      "text/plain": [
       "+--------------------+--------+--------------------+-------------+--------------------+-----------------+\n",
       "|          order_date| revenue|          prior_date|prior_revenue|      lag_prior_date|lag_prior_revenue|\n",
       "+--------------------+--------+--------------------+-------------+--------------------+-----------------+\n",
       "|2014-07-24 00:00:...|50885.19|2014-07-23 00:00:...|     38795.23|2014-07-23 00:00:...|         38795.23|\n",
       "|2014-07-23 00:00:...|38795.23|2014-07-22 00:00:...|     36717.24|2014-07-22 00:00:...|         36717.24|\n",
       "|2014-07-22 00:00:...|36717.24|2014-07-21 00:00:...|      51427.7|2014-07-21 00:00:...|          51427.7|\n",
       "|2014-07-21 00:00:...| 51427.7|2014-07-20 00:00:...|     60047.45|2014-07-20 00:00:...|         60047.45|\n",
       "|2014-07-20 00:00:...|60047.45|2014-07-19 00:00:...|     38420.99|2014-07-19 00:00:...|         38420.99|\n",
       "|2014-07-19 00:00:...|38420.99|2014-07-18 00:00:...|      43856.6|2014-07-18 00:00:...|          43856.6|\n",
       "|2014-07-18 00:00:...| 43856.6|2014-07-17 00:00:...|     36384.77|2014-07-17 00:00:...|         36384.77|\n",
       "|2014-07-17 00:00:...|36384.77|2014-07-16 00:00:...|     43011.92|2014-07-16 00:00:...|         43011.92|\n",
       "|2014-07-16 00:00:...|43011.92|2014-07-15 00:00:...|     53480.23|2014-07-15 00:00:...|         53480.23|\n",
       "|2014-07-15 00:00:...|53480.23|2014-07-14 00:00:...|     29937.52|2014-07-14 00:00:...|         29937.52|\n",
       "+--------------------+--------+--------------------+-------------+--------------------+-----------------+\n",
       "\n"
      ]
     },
     "execution_count": 5,
     "metadata": {},
     "output_type": "execute_result"
    }
   ],
   "source": [
    "%%sql\n",
    "\n",
    "SELECT t.*,\n",
    "  lead(order_date) OVER (ORDER BY order_date DESC) AS prior_date,\n",
    "  lead(revenue) OVER (ORDER BY order_date DESC) AS prior_revenue,\n",
    "  lag(order_date) OVER (ORDER BY order_date) AS lag_prior_date,\n",
    "  lag(revenue) OVER (ORDER BY order_date) AS lag_prior_revenue\n",
    "FROM daily_revenue AS t\n",
    "ORDER BY order_date DESC\n",
    "LIMIT 10"
   ]
  },
  {
   "cell_type": "code",
   "execution_count": 6,
   "metadata": {},
   "outputs": [
    {
     "data": {
      "text/plain": [
       "|2013-08-01 00:00:...|49160.08|2013-07-31 00:00...\n"
      ]
     },
     "metadata": {},
     "output_type": "display_data",
     "source": "user"
    },
    {
     "data": {
      "text/plain": [
       "+--------------------+--------+--------------------+-------------+\n",
       "|          order_date| revenue|          prior_date|prior_revenue|\n",
       "+--------------------+--------+--------------------+-------------+\n",
       "|2013-07-25 00:00:...|31547.23|                null|         null|\n",
       "|2013-07-26 00:00:...|54713.23|2013-07-25 00:00:...|     31547.23|\n",
       "|2013-07-27 00:00:...|48411.48|2013-07-26 00:00:...|     54713.23|\n",
       "|2013-07-28 00:00:...|35672.03|2013-07-27 00:00:...|     48411.48|\n",
       "|2013-07-29 00:00:...| 54579.7|2013-07-28 00:00:...|     35672.03|\n",
       "|2013-07-30 00:00:...|49329.29|2013-07-29 00:00:...|      54579.7|\n",
       "|2013-07-31 00:00:...|59212.49|2013-07-30 00:00:...|     49329.29|\n",
       "|2013-08-01 00:00:...|49160.08|2013-07-31 00:00:...|     59212.49|\n",
       "|2013-08-02 00:00:...|50688.58|2013-08-01 00:00:...|     49160.08|\n",
       "|2013-08-03 00:00:...|43416.74|2013-08-02 00:00:...|     50688.58|\n",
       "+--------------------+--------+--------------------+-------------+\n",
       "\n"
      ]
     },
     "execution_count": 6,
     "metadata": {},
     "output_type": "execute_result"
    }
   ],
   "source": [
    "%%sql\n",
    "\n",
    "SELECT t.*,\n",
    "  lead(order_date) OVER (ORDER BY order_date DESC) AS prior_date,\n",
    "  lead(revenue) OVER (ORDER BY order_date DESC) AS prior_revenue\n",
    "FROM daily_revenue AS t\n",
    "ORDER BY order_date\n",
    "LIMIT 10"
   ]
  },
  {
   "cell_type": "markdown",
   "metadata": {},
   "source": [
    "We can also pass number of rows as well as default values for nulls as arguments."
   ]
  },
  {
   "cell_type": "code",
   "execution_count": 7,
   "metadata": {},
   "outputs": [
    {
     "data": {
      "text/plain": [
       "++\n",
       "||\n",
       "++\n",
       "++\n",
       "\n"
      ]
     },
     "execution_count": 7,
     "metadata": {},
     "output_type": "execute_result"
    }
   ],
   "source": [
    "%%sql\n",
    "\n",
    "USE itv002461_retail"
   ]
  },
  {
   "cell_type": "code",
   "execution_count": 8,
   "metadata": {},
   "outputs": [
    {
     "data": {
      "text/plain": [
       "|2014-07-17 00:00:...|36384.77|2014-07-10 00:00...\n"
      ]
     },
     "metadata": {},
     "output_type": "display_data",
     "source": "user"
    },
    {
     "data": {
      "text/plain": [
       "+--------------------+--------+--------------------+-------------+\n",
       "|          order_date| revenue|          prior_date|prior_revenue|\n",
       "+--------------------+--------+--------------------+-------------+\n",
       "|2014-07-24 00:00:...|50885.19|2014-07-17 00:00:...|     36384.77|\n",
       "|2014-07-23 00:00:...|38795.23|2014-07-16 00:00:...|     43011.92|\n",
       "|2014-07-22 00:00:...|36717.24|2014-07-15 00:00:...|     53480.23|\n",
       "|2014-07-21 00:00:...| 51427.7|2014-07-14 00:00:...|     29937.52|\n",
       "|2014-07-20 00:00:...|60047.45|2014-07-13 00:00:...|     40410.99|\n",
       "|2014-07-19 00:00:...|38420.99|2014-07-12 00:00:...|     38449.77|\n",
       "|2014-07-18 00:00:...| 43856.6|2014-07-11 00:00:...|     29596.32|\n",
       "|2014-07-17 00:00:...|36384.77|2014-07-10 00:00:...|     47826.02|\n",
       "|2014-07-16 00:00:...|43011.92|2014-07-09 00:00:...|     36929.91|\n",
       "|2014-07-15 00:00:...|53480.23|2014-07-08 00:00:...|     50434.81|\n",
       "+--------------------+--------+--------------------+-------------+\n",
       "\n"
      ]
     },
     "execution_count": 8,
     "metadata": {},
     "output_type": "execute_result"
    }
   ],
   "source": [
    "%%sql\n",
    "\n",
    "SELECT t.*,\n",
    "  lead(order_date, 7) OVER (ORDER BY order_date DESC) AS prior_date,\n",
    "  lead(revenue, 7) OVER (ORDER BY order_date DESC) AS prior_revenue\n",
    "FROM daily_revenue t\n",
    "ORDER BY order_date DESC\n",
    "LIMIT 10"
   ]
  },
  {
   "cell_type": "code",
   "execution_count": 9,
   "metadata": {},
   "outputs": [
    {
     "data": {
      "text/plain": [
       "|2013-08-01 00:00:...|49160.08|2013-07-25 00:00...\n"
      ]
     },
     "metadata": {},
     "output_type": "display_data",
     "source": "user"
    },
    {
     "data": {
      "text/plain": [
       "+--------------------+--------+--------------------+-------------+\n",
       "|          order_date| revenue|          prior_date|prior_revenue|\n",
       "+--------------------+--------+--------------------+-------------+\n",
       "|2013-07-25 00:00:...|31547.23|                null|         null|\n",
       "|2013-07-26 00:00:...|54713.23|                null|         null|\n",
       "|2013-07-27 00:00:...|48411.48|                null|         null|\n",
       "|2013-07-28 00:00:...|35672.03|                null|         null|\n",
       "|2013-07-29 00:00:...| 54579.7|                null|         null|\n",
       "|2013-07-30 00:00:...|49329.29|                null|         null|\n",
       "|2013-07-31 00:00:...|59212.49|                null|         null|\n",
       "|2013-08-01 00:00:...|49160.08|2013-07-25 00:00:...|     31547.23|\n",
       "|2013-08-02 00:00:...|50688.58|2013-07-26 00:00:...|     54713.23|\n",
       "|2013-08-03 00:00:...|43416.74|2013-07-27 00:00:...|     48411.48|\n",
       "+--------------------+--------+--------------------+-------------+\n",
       "\n"
      ]
     },
     "execution_count": 9,
     "metadata": {},
     "output_type": "execute_result"
    }
   ],
   "source": [
    "%%sql\n",
    "\n",
    "SELECT t.*,\n",
    "  lead(order_date, 7) OVER (ORDER BY order_date DESC) AS prior_date,\n",
    "  lead(revenue, 7) OVER (ORDER BY order_date DESC) AS prior_revenue\n",
    "FROM daily_revenue t\n",
    "ORDER BY order_date\n",
    "LIMIT 10"
   ]
  },
  {
   "cell_type": "code",
   "execution_count": 10,
   "metadata": {},
   "outputs": [
    {
     "data": {
      "text/plain": [
       "|2013-08-01 00:00:...|49160.08|2013-07-25 00:00...\n"
      ]
     },
     "metadata": {},
     "output_type": "display_data",
     "source": "user"
    },
    {
     "data": {
      "text/plain": [
       "+--------------------+--------+--------------------+-------------+\n",
       "|          order_date| revenue|          prior_date|prior_revenue|\n",
       "+--------------------+--------+--------------------+-------------+\n",
       "|2013-07-25 00:00:...|31547.23|                  NA|          0.0|\n",
       "|2013-07-26 00:00:...|54713.23|                  NA|          0.0|\n",
       "|2013-07-27 00:00:...|48411.48|                  NA|          0.0|\n",
       "|2013-07-28 00:00:...|35672.03|                  NA|          0.0|\n",
       "|2013-07-29 00:00:...| 54579.7|                  NA|          0.0|\n",
       "|2013-07-30 00:00:...|49329.29|                  NA|          0.0|\n",
       "|2013-07-31 00:00:...|59212.49|                  NA|          0.0|\n",
       "|2013-08-01 00:00:...|49160.08|2013-07-25 00:00:...|     31547.23|\n",
       "|2013-08-02 00:00:...|50688.58|2013-07-26 00:00:...|     54713.23|\n",
       "|2013-08-03 00:00:...|43416.74|2013-07-27 00:00:...|     48411.48|\n",
       "+--------------------+--------+--------------------+-------------+\n",
       "\n"
      ]
     },
     "execution_count": 10,
     "metadata": {},
     "output_type": "execute_result"
    }
   ],
   "source": [
    "%%sql\n",
    "\n",
    "SELECT t.*,\n",
    "  lead(order_date, 7, 'NA') OVER (ORDER BY order_date DESC) AS prior_date,\n",
    "  lead(revenue, 7, 0) OVER (ORDER BY order_date DESC) AS prior_revenue\n",
    "FROM daily_revenue t\n",
    "ORDER BY order_date\n",
    "LIMIT 10"
   ]
  },
  {
   "cell_type": "markdown",
   "metadata": {},
   "source": [
    "Let us see how we can get prior or following records with in a group based on particular order.\n",
    "\n",
    "Here is the example where we can get prior or following records based on **PARTITION BY** and then **ORDER BY** Clause."
   ]
  },
  {
   "cell_type": "code",
   "execution_count": 11,
   "metadata": {},
   "outputs": [
    {
     "data": {
      "text/plain": [
       "++\n",
       "||\n",
       "++\n",
       "++\n",
       "\n"
      ]
     },
     "execution_count": 11,
     "metadata": {},
     "output_type": "execute_result"
    }
   ],
   "source": [
    "%%sql\n",
    "\n",
    "USE itv002461_retail"
   ]
  },
  {
   "cell_type": "code",
   "execution_count": 12,
   "metadata": {},
   "outputs": [
    {
     "data": {
      "text/plain": [
       "+--------------------+---------+-------+\n",
       "|            col_name|data_type|comment|\n",
       "+--------------------+---------+-------+\n",
       "|          order_date|   string|   null|\n",
       "|order_item_produc...|      int|   null|\n",
       "|             revenue|   double|   null|\n",
       "+--------------------+---------+-------+\n",
       "\n"
      ]
     },
     "execution_count": 12,
     "metadata": {},
     "output_type": "execute_result"
    }
   ],
   "source": [
    "%%sql\n",
    "\n",
    "DESCRIBE daily_product_revenue"
   ]
  },
  {
   "cell_type": "code",
   "execution_count": 13,
   "metadata": {},
   "outputs": [
    {
     "data": {
      "text/plain": [
       "+--------------------+------...\n"
      ]
     },
     "metadata": {},
     "output_type": "display_data",
     "source": "user"
    },
    {
     "data": {
      "text/plain": [
       "+--------------------+---------------------+-------+\n",
       "|          order_date|order_item_product_id|revenue|\n",
       "+--------------------+---------------------+-------+\n",
       "|2013-07-25 00:00:...|                 1004|5599.72|\n",
       "|2013-07-25 00:00:...|                  191|5099.49|\n",
       "|2013-07-25 00:00:...|                  957| 4499.7|\n",
       "|2013-07-25 00:00:...|                  365|3359.44|\n",
       "|2013-07-25 00:00:...|                 1073|2999.85|\n",
       "|2013-07-25 00:00:...|                 1014|2798.88|\n",
       "|2013-07-25 00:00:...|                  403|1949.85|\n",
       "|2013-07-25 00:00:...|                  502| 1650.0|\n",
       "|2013-07-25 00:00:...|                  627|1079.73|\n",
       "|2013-07-25 00:00:...|                  226| 599.99|\n",
       "+--------------------+---------------------+-------+\n",
       "\n"
      ]
     },
     "execution_count": 13,
     "metadata": {},
     "output_type": "execute_result"
    }
   ],
   "source": [
    "%%sql\n",
    "\n",
    "SELECT * FROM daily_product_revenue \n",
    "ORDER BY order_date, revenue DESC\n",
    "LIMIT 10"
   ]
  },
  {
   "cell_type": "code",
   "execution_count": 18,
   "metadata": {},
   "outputs": [
    {
     "data": {
      "text/plain": [
       "|2013-07-25 00:00:...|                 1014|2798.88|         ...\n"
      ]
     },
     "metadata": {},
     "output_type": "display_data",
     "source": "user"
    },
    {
     "data": {
      "text/plain": [
       "+--------------------+---------------------+-------+---------------+------------+\n",
       "|          order_date|order_item_product_id|revenue|next_product_id|next_revenue|\n",
       "+--------------------+---------------------+-------+---------------+------------+\n",
       "|2013-07-25 00:00:...|                 1004|5599.72|            191|     5099.49|\n",
       "|2013-07-25 00:00:...|                  191|5099.49|            957|      4499.7|\n",
       "|2013-07-25 00:00:...|                  957| 4499.7|            365|     3359.44|\n",
       "|2013-07-25 00:00:...|                  365|3359.44|           1073|     2999.85|\n",
       "|2013-07-25 00:00:...|                 1073|2999.85|           1014|     2798.88|\n",
       "|2013-07-25 00:00:...|                 1014|2798.88|            403|     1949.85|\n",
       "|2013-07-25 00:00:...|                  403|1949.85|            502|      1650.0|\n",
       "|2013-07-25 00:00:...|                  502| 1650.0|            627|     1079.73|\n",
       "|2013-07-25 00:00:...|                  627|1079.73|            226|      599.99|\n",
       "|2013-07-25 00:00:...|                  226| 599.99|             24|      319.96|\n",
       "+--------------------+---------------------+-------+---------------+------------+\n",
       "only showing top 10 rows\n",
       "\n"
      ]
     },
     "execution_count": 18,
     "metadata": {},
     "output_type": "execute_result"
    }
   ],
   "source": [
    "%%sql\n",
    "\n",
    "SELECT t.*,\n",
    "  LEAD(order_item_product_id) OVER (\n",
    "    PARTITION BY order_date \n",
    "    ORDER BY revenue DESC\n",
    "  ) next_product_id,\n",
    "  LEAD(revenue) OVER (\n",
    "    PARTITION BY order_date \n",
    "    ORDER BY revenue DESC\n",
    "  ) next_revenue\n",
    "FROM daily_product_revenue t\n",
    "ORDER BY order_date, revenue DESC\n",
    "LIMIT 100"
   ]
  },
  {
   "cell_type": "code",
   "execution_count": null,
   "metadata": {},
   "outputs": [],
   "source": [
    "spark.sql(\"\"\"\n",
    "    SELECT t.*,\n",
    "      LEAD(order_item_product_id) OVER (\n",
    "        PARTITION BY order_date \n",
    "        ORDER BY revenue DESC\n",
    "      ) next_product_id,\n",
    "      LEAD(revenue) OVER (\n",
    "        PARTITION BY order_date \n",
    "        ORDER BY revenue DESC\n",
    "      ) next_revenue\n",
    "    FROM daily_product_revenue t\n",
    "    ORDER BY order_date, revenue DESC\n",
    "\"\"\").\n",
    "    show(100, false)"
   ]
  },
  {
   "cell_type": "markdown",
   "metadata": {},
   "source": [
    "We can also pass number of rows as well as default values for nulls as arguments."
   ]
  },
  {
   "cell_type": "code",
   "execution_count": 20,
   "metadata": {},
   "outputs": [
    {
     "data": {
      "text/plain": [
       "|2013-07-25 00:00:...|                 1014|2798.88|         ...\n"
      ]
     },
     "metadata": {},
     "output_type": "display_data",
     "source": "user"
    },
    {
     "data": {
      "text/plain": [
       "+--------------------+---------------------+-------+---------------+------------+\n",
       "|          order_date|order_item_product_id|revenue|next_product_id|next_revenue|\n",
       "+--------------------+---------------------+-------+---------------+------------+\n",
       "|2013-07-25 00:00:...|                 1004|5599.72|            191|     5099.49|\n",
       "|2013-07-25 00:00:...|                  191|5099.49|            957|      4499.7|\n",
       "|2013-07-25 00:00:...|                  957| 4499.7|            365|     3359.44|\n",
       "|2013-07-25 00:00:...|                  365|3359.44|           1073|     2999.85|\n",
       "|2013-07-25 00:00:...|                 1073|2999.85|           1014|     2798.88|\n",
       "|2013-07-25 00:00:...|                 1014|2798.88|            403|     1949.85|\n",
       "|2013-07-25 00:00:...|                  403|1949.85|            502|      1650.0|\n",
       "|2013-07-25 00:00:...|                  502| 1650.0|            627|     1079.73|\n",
       "|2013-07-25 00:00:...|                  627|1079.73|            226|      599.99|\n",
       "|2013-07-25 00:00:...|                  226| 599.99|             24|      319.96|\n",
       "+--------------------+---------------------+-------+---------------+------------+\n",
       "only showing top 10 rows\n",
       "\n"
      ]
     },
     "execution_count": 20,
     "metadata": {},
     "output_type": "execute_result"
    }
   ],
   "source": [
    "%%sql\n",
    "\n",
    "SELECT t.*,\n",
    "  LEAD(order_item_product_id) OVER (\n",
    "    PARTITION BY order_date ORDER BY revenue DESC\n",
    "  ) next_product_id,\n",
    "  LEAD(revenue, 1, 0) OVER (\n",
    "    PARTITION BY order_date ORDER BY revenue DESC\n",
    "  ) next_revenue\n",
    "FROM daily_product_revenue t\n",
    "ORDER BY order_date, revenue DESC\n",
    "LIMIT 100"
   ]
  },
  {
   "cell_type": "code",
   "execution_count": null,
   "metadata": {},
   "outputs": [],
   "source": [
    "spark.sql(\"\"\"\n",
    "    SELECT t.*,\n",
    "      LEAD(order_item_product_id) OVER (\n",
    "        PARTITION BY order_date ORDER BY revenue DESC\n",
    "      ) next_product_id,\n",
    "      LEAD(revenue, 1, 0) OVER (\n",
    "        PARTITION BY order_date ORDER BY revenue DESC\n",
    "      ) next_revenue\n",
    "    FROM daily_product_revenue t\n",
    "    ORDER BY order_date, revenue DESC\n",
    "    LIMIT 100\n",
    "\"\"\").\n",
    "    show(100, false)"
   ]
  },
  {
   "cell_type": "code",
   "execution_count": 21,
   "metadata": {},
   "outputs": [
    {
     "data": {
      "text/plain": [
       "+---------------+\n",
       "|max(second_max)|\n",
       "+---------------+\n",
       "|        15999.2|\n",
       "+---------------+\n",
       "\n"
      ]
     },
     "execution_count": 21,
     "metadata": {},
     "output_type": "execute_result"
    }
   ],
   "source": [
    "%%sql\n",
    "select  max(q.second_max)\n",
    "from (select lead(revenue) over (order by revenue desc) as second_max\n",
    "      from daily_product_revenue\n",
    "      ) q"
   ]
  },
  {
   "cell_type": "code",
   "execution_count": 23,
   "metadata": {},
   "outputs": [
    {
     "data": {
      "text/plain": [
       "+--------+\n",
       "| revenue|\n",
       "+--------+\n",
       "|16399.18|\n",
       "| 15999.2|\n",
       "| 15999.2|\n",
       "|15599.22|\n",
       "|15599.22|\n",
       "|15199.24|\n",
       "|14799.26|\n",
       "|14799.26|\n",
       "|14799.26|\n",
       "|14399.28|\n",
       "+--------+\n",
       "only showing top 10 rows\n",
       "\n"
      ]
     },
     "execution_count": 23,
     "metadata": {},
     "output_type": "execute_result"
    }
   ],
   "source": [
    "%%sql\n",
    "select revenue from daily_product_revenue order by revenue desc"
   ]
  },
  {
   "cell_type": "code",
   "execution_count": null,
   "metadata": {},
   "outputs": [],
   "source": []
  }
 ],
 "metadata": {
  "kernelspec": {
   "display_name": "Spark 2 - Scala",
   "language": "scala",
   "name": "spark_2_scala"
  },
  "language_info": {
   "codemirror_mode": "text/x-scala",
   "file_extension": ".scala",
   "mimetype": "text/x-scala",
   "name": "scala",
   "pygments_lexer": "scala",
   "version": "2.11.12"
  }
 },
 "nbformat": 4,
 "nbformat_minor": 4
}
