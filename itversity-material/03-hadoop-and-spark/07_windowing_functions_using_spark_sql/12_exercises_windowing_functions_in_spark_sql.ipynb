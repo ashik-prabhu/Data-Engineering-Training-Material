{
 "cells": [
  {
   "cell_type": "markdown",
   "metadata": {},
   "source": [
    "## Exercises - Windowing Functions\n",
    "\n",
    "Let us take care of the exercises related to windowing or analytics functions. We will be using HR database for the same.\n",
    "\n",
    "* Get all the employees who is making more than average salary with in each department.\n",
    "* Get cumulative salary for one of the department along with department name.\n",
    "* Get top 3 paid employees with in each department by salary (use dense_rank)\n",
    "* Get top 3 products sold in the month of 2014 January by revenue.\n",
    "* Get top 3 products in each category sold in the month of 2014 January by revenue."
   ]
  },
  {
   "cell_type": "markdown",
   "metadata": {},
   "source": [
    "Let us start spark context for this Notebook so that we can execute the code provided. You can sign up for our [10 node state of the art cluster/labs](https://labs.itversity.com/plans) to learn Spark SQL using our unique integrated LMS."
   ]
  },
  {
   "cell_type": "code",
   "execution_count": null,
   "metadata": {},
   "outputs": [],
   "source": [
    "val username = System.getProperty(\"user.name\")"
   ]
  },
  {
   "cell_type": "code",
   "execution_count": 1,
   "metadata": {},
   "outputs": [
    {
     "data": {
      "text/plain": [
       "username = itv002461\n",
       "spark = org.apache.spark.sql.SparkSession@1ae237b7\n"
      ]
     },
     "metadata": {},
     "output_type": "display_data",
     "source": "user"
    },
    {
     "data": {
      "text/plain": [
       "org.apache.spark.sql.SparkSession@1ae237b7"
      ]
     },
     "execution_count": 1,
     "metadata": {},
     "output_type": "execute_result"
    }
   ],
   "source": [
    "import org.apache.spark.sql.SparkSession\n",
    "\n",
    "val username = System.getProperty(\"user.name\")\n",
    "val spark = SparkSession.\n",
    "    builder.\n",
    "    config(\"spark.ui.port\", \"0\").\n",
    "    config(\"spark.sql.warehouse.dir\", s\"/user/${username}/warehouse\").\n",
    "    enableHiveSupport.\n",
    "    appName(s\"${username} | Spark SQL - Windowing Functions\").\n",
    "    master(\"yarn\").\n",
    "    getOrCreate"
   ]
  },
  {
   "cell_type": "markdown",
   "metadata": {},
   "source": [
    "If you are going to use CLIs, you can use Spark SQL using one of the 3 approaches.\n",
    "\n",
    "**Using Spark SQL**\n",
    "\n",
    "```\n",
    "spark2-sql \\\n",
    "    --master yarn \\\n",
    "    --conf spark.ui.port=0 \\\n",
    "    --conf spark.sql.warehouse.dir=/user/${USER}/warehouse\n",
    "```\n",
    "\n",
    "**Using Scala**\n",
    "\n",
    "```\n",
    "spark2-shell \\\n",
    "    --master yarn \\\n",
    "    --conf spark.ui.port=0 \\\n",
    "    --conf spark.sql.warehouse.dir=/user/${USER}/warehouse\n",
    "```\n",
    "\n",
    "**Using Pyspark**\n",
    "\n",
    "```\n",
    "pyspark2 \\\n",
    "    --master yarn \\\n",
    "    --conf spark.ui.port=0 \\\n",
    "    --conf spark.sql.warehouse.dir=/user/${USER}/warehouse\n",
    "```"
   ]
  },
  {
   "cell_type": "markdown",
   "metadata": {},
   "source": [
    "### Exercise 1\n",
    "\n",
    "Get all the employees who is making more than average salary with in each department.\n",
    "\n",
    "* Use HR database employees and department tables for this problem.\n",
    "* Compute average salary expense for each department and get those employee details who are making more salary than average salary.\n",
    "* Make sure average salary expense per department is rounded off to 2 decimals.\n",
    "* Output should contain employee_id, department_name, salary and avg_salary_expense (derived field).\n",
    "* Data should be sorted in ascending order by department_id and descending order by salary.\n",
    "\n",
    "|employee_id|department_name|salary|avg_salary_expense|\n",
    "|---|---|---|---|\n",
    "|201|Marketing|13000.00|9500.00|\n",
    "|114|Purchasing|11000.00|4150.00|\n",
    "|121|Shipping|8200.00|3475.56|\n",
    "|120|Shipping|8000.00|3475.56|\n",
    "|122|Shipping|7900.00|3475.56|\n",
    "|123|Shipping|6500.00|3475.56|\n",
    "|124|Shipping|5800.00|3475.56|\n",
    "|184|Shipping|4200.00|3475.56|\n",
    "|185|Shipping|4100.00|3475.56|\n",
    "|192|Shipping|4000.00|3475.56|\n",
    "|193|Shipping|3900.00|3475.56|\n",
    "|188|Shipping|3800.00|3475.56|\n",
    "|137|Shipping|3600.00|3475.56|\n",
    "|189|Shipping|3600.00|3475.56|\n",
    "|141|Shipping|3500.00|3475.56|\n",
    "|103|IT|9000.00|5760.00|\n",
    "|104|IT|6000.00|5760.00|\n",
    "|145|Sales|14000.00|8955.88|\n",
    "|146|Sales|13500.00|8955.88|\n",
    "|147|Sales|12000.00|8955.88|\n",
    "|168|Sales|11500.00|8955.88|\n",
    "|148|Sales|11000.00|8955.88|\n",
    "|174|Sales|11000.00|8955.88|\n",
    "|149|Sales|10500.00|8955.88|\n",
    "|162|Sales|10500.00|8955.88|\n",
    "|156|Sales|10000.00|8955.88|\n",
    "|150|Sales|10000.00|8955.88|\n",
    "|169|Sales|10000.00|8955.88|\n",
    "|170|Sales|9600.00|8955.88|\n",
    "|163|Sales|9500.00|8955.88|\n",
    "|151|Sales|9500.00|8955.88|\n",
    "|157|Sales|9500.00|8955.88|\n",
    "|158|Sales|9000.00|8955.88|\n",
    "|152|Sales|9000.00|8955.88|\n",
    "|100|Executive|24000.00|19333.33|\n",
    "|108|Finance|12000.00|8600.00|\n",
    "|109|Finance|9000.00|8600.00|\n",
    "|205|Accounting|12000.00|10150.00|"
   ]
  },
  {
   "cell_type": "code",
   "execution_count": 3,
   "metadata": {},
   "outputs": [
    {
     "data": {
      "text/plain": [
       "Waiting for a Spark session to start..."
      ]
     },
     "metadata": {},
     "output_type": "display_data",
     "source": "user"
    },
    {
     "data": {
      "text/plain": [
       "++\n",
       "||\n",
       "++\n",
       "++\n",
       "\n"
      ]
     },
     "execution_count": 3,
     "metadata": {},
     "output_type": "execute_result"
    }
   ],
   "source": [
    "%%sql\n",
    "use itv002461_hr"
   ]
  },
  {
   "cell_type": "code",
   "execution_count": 14,
   "metadata": {},
   "outputs": [
    {
     "data": {
      "text/plain": [
       "|        192|       S...\n"
      ]
     },
     "metadata": {},
     "output_type": "display_data",
     "source": "user"
    },
    {
     "data": {
      "text/plain": [
       "+-----------+---------------+--------+------------------+\n",
       "|employee_id|department_name|  salary|avg_salary_expense|\n",
       "+-----------+---------------+--------+------------------+\n",
       "|        201|      Marketing|13000.00|           9500.00|\n",
       "|        114|     Purchasing|11000.00|           4150.00|\n",
       "|        121|       Shipping| 8200.00|           3475.56|\n",
       "|        120|       Shipping| 8000.00|           3475.56|\n",
       "|        122|       Shipping| 7900.00|           3475.56|\n",
       "|        123|       Shipping| 6500.00|           3475.56|\n",
       "|        124|       Shipping| 5800.00|           3475.56|\n",
       "|        184|       Shipping| 4200.00|           3475.56|\n",
       "|        185|       Shipping| 4100.00|           3475.56|\n",
       "|        192|       Shipping| 4000.00|           3475.56|\n",
       "+-----------+---------------+--------+------------------+\n",
       "only showing top 10 rows\n",
       "\n"
      ]
     },
     "execution_count": 14,
     "metadata": {},
     "output_type": "execute_result"
    }
   ],
   "source": [
    "%%sql\n",
    "select de.employee_id, de.department_name, de.salary, de.avg_salary_expense\n",
    "from (\n",
    "       select e.employee_id, e.department_id, d.department_name, e.salary,round(avg(e.salary) over (partition by e.department_id),2) as avg_salary_expense\n",
    "       from employees e join departments d on e.department_id=d.department_id              \n",
    "     ) as de\n",
    "where de.salary > de.avg_salary_expense\n",
    "order by de.department_id,de.salary desc"
   ]
  },
  {
   "cell_type": "code",
   "execution_count": 13,
   "metadata": {},
   "outputs": [
    {
     "name": "stdout",
     "output_type": "stream",
     "text": [
      "+-----------+---------------+--------+------------------+\n",
      "|employee_id|department_name|salary  |avg_salary_expense|\n",
      "+-----------+---------------+--------+------------------+\n",
      "|201        |Marketing      |13000.00|9500.00           |\n",
      "|114        |Purchasing     |11000.00|4150.00           |\n",
      "|121        |Shipping       |8200.00 |3475.56           |\n",
      "|120        |Shipping       |8000.00 |3475.56           |\n",
      "|122        |Shipping       |7900.00 |3475.56           |\n",
      "|123        |Shipping       |6500.00 |3475.56           |\n",
      "|124        |Shipping       |5800.00 |3475.56           |\n",
      "|184        |Shipping       |4200.00 |3475.56           |\n",
      "|185        |Shipping       |4100.00 |3475.56           |\n",
      "|192        |Shipping       |4000.00 |3475.56           |\n",
      "|193        |Shipping       |3900.00 |3475.56           |\n",
      "|188        |Shipping       |3800.00 |3475.56           |\n",
      "|137        |Shipping       |3600.00 |3475.56           |\n",
      "|189        |Shipping       |3600.00 |3475.56           |\n",
      "|141        |Shipping       |3500.00 |3475.56           |\n",
      "|103        |IT             |9000.00 |5760.00           |\n",
      "|104        |IT             |6000.00 |5760.00           |\n",
      "|145        |Sales          |14000.00|8955.88           |\n",
      "|146        |Sales          |13500.00|8955.88           |\n",
      "|147        |Sales          |12000.00|8955.88           |\n",
      "|168        |Sales          |11500.00|8955.88           |\n",
      "|148        |Sales          |11000.00|8955.88           |\n",
      "|174        |Sales          |11000.00|8955.88           |\n",
      "|149        |Sales          |10500.00|8955.88           |\n",
      "|162        |Sales          |10500.00|8955.88           |\n",
      "|156        |Sales          |10000.00|8955.88           |\n",
      "|169        |Sales          |10000.00|8955.88           |\n",
      "|150        |Sales          |10000.00|8955.88           |\n",
      "|170        |Sales          |9600.00 |8955.88           |\n",
      "|151        |Sales          |9500.00 |8955.88           |\n",
      "|163        |Sales          |9500.00 |8955.88           |\n",
      "|157        |Sales          |9500.00 |8955.88           |\n",
      "|152        |Sales          |9000.00 |8955.88           |\n",
      "|158        |Sales          |9000.00 |8955.88           |\n",
      "|100        |Executive      |24000.00|19333.33          |\n",
      "|108        |Finance        |12000.00|8600.00           |\n",
      "|109        |Finance        |9000.00 |8600.00           |\n",
      "|205        |Accounting     |12000.00|10150.00          |\n",
      "+-----------+---------------+--------+------------------+\n",
      "\n"
     ]
    }
   ],
   "source": [
    "spark.sql(\"\"\"select de.employee_id, de.department_name, de.salary, de.avg_salary_expense\n",
    "from (\n",
    "       select e.employee_id, e.department_id, d.department_name, e.salary,round(avg(e.salary) over (partition by e.department_id),2) as avg_salary_expense\n",
    "       from employees e join departments d on e.department_id=d.department_id              \n",
    "     ) as de\n",
    "where de.salary>de.avg_salary_expense\n",
    "order by de.department_id,de.salary desc\"\"\").show(40,false)"
   ]
  },
  {
   "cell_type": "markdown",
   "metadata": {},
   "source": [
    "### Exercise 2\n",
    "\n",
    "Get cumulative salary with in each department for Finance and IT department along with department name.\n",
    "\n",
    "* Use HR database employees and department tables for this problem.\n",
    "* Compute cumulative salary expense for **Finance** as well as **IT** departments with in respective departments.\n",
    "* Make sure cumulative salary expense per department is rounded off to 2 decimals.\n",
    "* Output should contain employee_id, department_name, salary and cum_salary_expense (derived field).\n",
    "* Data should be sorted in ascending order by department_name and then salary.\n",
    "\n",
    "|employee_id|department_name|salary|cum_salary_expense|\n",
    "|---|---|---|---|\n",
    "|113|Finance|6900.00|6900.00|\n",
    "|111|Finance|7700.00|14600.00|\n",
    "|112|Finance|7800.00|22400.00|\n",
    "|110|Finance|8200.00|30600.00|\n",
    "|109|Finance|9000.00|39600.00|\n",
    "|108|Finance|12000.00|51600.00|\n",
    "|107|IT|4200.00|4200.00|\n",
    "|106|IT|4800.00|9000.00|\n",
    "|105|IT|4800.00|13800.00|\n",
    "|104|IT|6000.00|19800.00|\n",
    "|103|IT|9000.00|28800.00|"
   ]
  },
  {
   "cell_type": "code",
   "execution_count": 15,
   "metadata": {},
   "outputs": [
    {
     "data": {
      "text/plain": [
       "|        104|        ...\n"
      ]
     },
     "metadata": {},
     "output_type": "display_data",
     "source": "user"
    },
    {
     "data": {
      "text/plain": [
       "+-----------+---------------+--------+------------------+\n",
       "|employee_id|department_name|  salary|cum_salary_expense|\n",
       "+-----------+---------------+--------+------------------+\n",
       "|        113|        Finance| 6900.00|           6900.00|\n",
       "|        111|        Finance| 7700.00|          14600.00|\n",
       "|        112|        Finance| 7800.00|          22400.00|\n",
       "|        110|        Finance| 8200.00|          30600.00|\n",
       "|        109|        Finance| 9000.00|          39600.00|\n",
       "|        108|        Finance|12000.00|          51600.00|\n",
       "|        107|             IT| 4200.00|           4200.00|\n",
       "|        106|             IT| 4800.00|          13800.00|\n",
       "|        105|             IT| 4800.00|           9000.00|\n",
       "|        104|             IT| 6000.00|          19800.00|\n",
       "+-----------+---------------+--------+------------------+\n",
       "only showing top 10 rows\n",
       "\n"
      ]
     },
     "execution_count": 15,
     "metadata": {},
     "output_type": "execute_result"
    }
   ],
   "source": [
    "%%sql\n",
    "select e.employee_id, d.department_name, e.salary, \n",
    "                                                round(sum(e.salary) over (\n",
    "                                                    partition by e.department_id\n",
    "                                                    order by e.salary\n",
    "                                                    rows between unbounded preceding and current row\n",
    "                                                ),2) as cum_salary_expense\n",
    "from employees e join departments d on e.department_id=d.department_id \n",
    "where d.department_name in ('Finance','IT')\n",
    "group by d.department_name,e.employee_id,e.department_id,e.salary\n",
    "order by d.department_name,e.salary"
   ]
  },
  {
   "cell_type": "markdown",
   "metadata": {},
   "source": [
    "### Exercise 3\n",
    "\n",
    "Get top 3 paid employees with in each department by salary (use dense_rank)\n",
    "\n",
    "* Use HR database employees and department tables for this problem.\n",
    "* Highest paid employee should be ranked first.\n",
    "* Output should contain employee_id, department_id, department_name, salary and employee_rank (derived field).\n",
    "* Data should be sorted in ascending order by department_id in ascending order and then salary in descending order.\n",
    "\n",
    "|employee_id|department_id|department_name|salary|employee_rank|\n",
    "|---|---|---|---|---|\n",
    "|200|10|Administration|4400.00|1|\n",
    "|201|20|Marketing|13000.00|1|\n",
    "|202|20|Marketing|6000.00|2|\n",
    "|114|30|Purchasing|11000.00|1|\n",
    "|115|30|Purchasing|3100.00|2|\n",
    "|116|30|Purchasing|2900.00|3|\n",
    "|203|40|Human Resources|6500.00|1|\n",
    "|121|50|Shipping|8200.00|1|\n",
    "|120|50|Shipping|8000.00|2|\n",
    "|122|50|Shipping|7900.00|3|\n",
    "|103|60|IT|9000.00|1|\n",
    "|104|60|IT|6000.00|2|\n",
    "|105|60|IT|4800.00|3|\n",
    "|106|60|IT|4800.00|3|\n",
    "|204|70|Public Relations|10000.00|1|\n",
    "|145|80|Sales|14000.00|1|\n",
    "|146|80|Sales|13500.00|2|\n",
    "|147|80|Sales|12000.00|3|\n",
    "|100|90|Executive|24000.00|1|\n",
    "|101|90|Executive|17000.00|2|\n",
    "|102|90|Executive|17000.00|2|\n",
    "|108|100|Finance|12000.00|1|\n",
    "|109|100|Finance|9000.00|2|\n",
    "|110|100|Finance|8200.00|3|\n",
    "|205|110|Accounting|12000.00|1|\n",
    "|206|110|Accounting|8300.00|2|"
   ]
  },
  {
   "cell_type": "code",
   "execution_count": 7,
   "metadata": {},
   "outputs": [
    {
     "data": {
      "text/plain": [
       "|        120|           50|       Shipping| 800...\n"
      ]
     },
     "metadata": {},
     "output_type": "display_data",
     "source": "user"
    },
    {
     "data": {
      "text/plain": [
       "+-----------+-------------+---------------+--------+-------------+\n",
       "|employee_id|department_id|department_name|  salary|employee_rank|\n",
       "+-----------+-------------+---------------+--------+-------------+\n",
       "|        200|           10| Administration| 4400.00|            1|\n",
       "|        201|           20|      Marketing|13000.00|            1|\n",
       "|        202|           20|      Marketing| 6000.00|            2|\n",
       "|        114|           30|     Purchasing|11000.00|            1|\n",
       "|        115|           30|     Purchasing| 3100.00|            2|\n",
       "|        203|           40|Human Resources| 6500.00|            1|\n",
       "|        121|           50|       Shipping| 8200.00|            1|\n",
       "|        120|           50|       Shipping| 8000.00|            2|\n",
       "|        103|           60|             IT| 9000.00|            1|\n",
       "|        104|           60|             IT| 6000.00|            2|\n",
       "+-----------+-------------+---------------+--------+-------------+\n",
       "only showing top 10 rows\n",
       "\n"
      ]
     },
     "execution_count": 7,
     "metadata": {},
     "output_type": "execute_result"
    }
   ],
   "source": [
    "%%sql\n",
    "select de.employee_id, de.department_id,de.department_name, de.salary,de.employee_rank\n",
    "from (select e.employee_id, e.department_id,d.department_name, e.salary,\n",
    "            dense_rank() over (\n",
    "                partition by e.department_id\n",
    "                order by e.salary desc\n",
    "            ) as employee_rank\n",
    "      from employees e join departments d on e.department_id=d.department_id\n",
    "     ) as de\n",
    "where de.employee_rank<3\n",
    "order by de.department_id,de.salary desc"
   ]
  },
  {
   "cell_type": "code",
   "execution_count": 8,
   "metadata": {},
   "outputs": [
    {
     "name": "stdout",
     "output_type": "stream",
     "text": [
      "+-----------+-------------+----------------+--------+-------------+\n",
      "|employee_id|department_id|department_name |salary  |employee_rank|\n",
      "+-----------+-------------+----------------+--------+-------------+\n",
      "|200        |10           |Administration  |4400.00 |1            |\n",
      "|201        |20           |Marketing       |13000.00|1            |\n",
      "|202        |20           |Marketing       |6000.00 |2            |\n",
      "|114        |30           |Purchasing      |11000.00|1            |\n",
      "|115        |30           |Purchasing      |3100.00 |2            |\n",
      "|203        |40           |Human Resources |6500.00 |1            |\n",
      "|121        |50           |Shipping        |8200.00 |1            |\n",
      "|120        |50           |Shipping        |8000.00 |2            |\n",
      "|103        |60           |IT              |9000.00 |1            |\n",
      "|104        |60           |IT              |6000.00 |2            |\n",
      "|204        |70           |Public Relations|10000.00|1            |\n",
      "|145        |80           |Sales           |14000.00|1            |\n",
      "|146        |80           |Sales           |13500.00|2            |\n",
      "|100        |90           |Executive       |24000.00|1            |\n",
      "|102        |90           |Executive       |17000.00|2            |\n",
      "|101        |90           |Executive       |17000.00|2            |\n",
      "|108        |100          |Finance         |12000.00|1            |\n",
      "|109        |100          |Finance         |9000.00 |2            |\n",
      "|205        |110          |Accounting      |12000.00|1            |\n",
      "|206        |110          |Accounting      |8300.00 |2            |\n",
      "+-----------+-------------+----------------+--------+-------------+\n",
      "\n"
     ]
    }
   ],
   "source": [
    "spark.sql(\"\"\"select de.employee_id, de.department_id,de.department_name, de.salary,de.employee_rank\n",
    "from (select e.employee_id, e.department_id,d.department_name, e.salary,\n",
    "            dense_rank() over (\n",
    "                partition by e.department_id\n",
    "                order by e.salary desc\n",
    "            ) as employee_rank\n",
    "      from employees e join departments d on e.department_id=d.department_id\n",
    "     ) as de\n",
    "where de.employee_rank<3\n",
    "order by de.department_id,de.salary desc\"\"\").show(50,false)"
   ]
  },
  {
   "cell_type": "markdown",
   "metadata": {},
   "source": [
    "### Exercise 4\n",
    "\n",
    "Get top 3 products sold in the month of 2014 January by revenue.\n",
    "\n",
    "* Use retail database tables such as orders, order_items and products.\n",
    "* Highest revenue generating product should come at top.\n",
    "* Output should contain product_id, product_name, revenue, product_rank. **revenue** and **product_rank** are derived fields.\n",
    "* Data should be sorted in descending order by revenue.\n",
    "\n",
    "|product_id|product_name|revenue|product_rank|\n",
    "|---|---|---|---|\n",
    "|1004|Field & Stream Sportsman 16 Gun Fire Safe|250787.46|1|\n",
    "|365|Perfect Fitness Perfect Rip Deck|151474.75|2|\n",
    "|957|Diamondback Women's Serene Classic Comfort Bi|148190.12|3|"
   ]
  },
  {
   "cell_type": "code",
   "execution_count": 2,
   "metadata": {},
   "outputs": [
    {
     "data": {
      "text/plain": [
       "Waiting for a Spark session to start..."
      ]
     },
     "metadata": {},
     "output_type": "display_data",
     "source": "user"
    },
    {
     "data": {
      "text/plain": [
       "++\n",
       "||\n",
       "++\n",
       "++\n",
       "\n"
      ]
     },
     "execution_count": 2,
     "metadata": {},
     "output_type": "execute_result"
    }
   ],
   "source": [
    "%%sql\n",
    "use itv002461_retail"
   ]
  },
  {
   "cell_type": "code",
   "execution_count": 4,
   "metadata": {},
   "outputs": [
    {
     "name": "stdout",
     "output_type": "stream",
     "text": [
      "+------------------------+---------+-------+\n",
      "|col_name                |data_type|comment|\n",
      "+------------------------+---------+-------+\n",
      "|order_item_id           |int      |null   |\n",
      "|order_item_order_id     |int      |null   |\n",
      "|order_item_product_id   |int      |null   |\n",
      "|order_item_quantity     |int      |null   |\n",
      "|order_item_subtotal     |float    |null   |\n",
      "|order_item_product_price|float    |null   |\n",
      "+------------------------+---------+-------+\n",
      "\n"
     ]
    }
   ],
   "source": [
    "\n",
    "spark.sql(\"describe order_items\").show(false)\n"
   ]
  },
  {
   "cell_type": "code",
   "execution_count": 14,
   "metadata": {},
   "outputs": [
    {
     "data": {
      "text/plain": [
       "+---------------------+--------------------+--------+------------+\n",
       "|order_item_product_id|        product_name| revenue|product_rank|\n",
       "+---------------------+--------------------+--------+------------+\n",
       "|                 1004|Field & Stream Sp...|250787.0|           1|\n",
       "|                  365|Perfect Fitness P...|151475.0|           2|\n",
       "|                  957|Diamondback Women...|148190.0|           3|\n",
       "+---------------------+--------------------+--------+------------+\n",
       "\n"
      ]
     },
     "execution_count": 14,
     "metadata": {},
     "output_type": "execute_result"
    }
   ],
   "source": [
    "%%sql\n",
    "with product_revenue as(select oi.order_item_product_id,p.product_name,\n",
    "         round(sum(order_item_subtotal) over (\n",
    "             partition by oi.order_item_product_id\n",
    "             ,2)) as revenue\n",
    "      from  orders as o \n",
    "          join \n",
    "          order_items oi on o.order_id = oi.order_item_order_id \n",
    "          join \n",
    "          products p on oi.order_item_product_id=p.product_id\n",
    "      where date_format(o.order_date, 'yyyy-MM') = '2014-01' AND o.order_status IN ('COMPLETE', 'CLOSED')\n",
    "     ) select *\n",
    "       from (\n",
    "             select pr.*, dense_rank() over (order by revenue desc) as product_rank\n",
    "             from product_revenue as pr \n",
    "            )as q \n",
    "       where q.product_rank < 4\n",
    "       group by q.order_item_product_id, q.product_name,q.revenue,q.product_rank\n",
    "       order by revenue desc"
   ]
  },
  {
   "cell_type": "code",
   "execution_count": 29,
   "metadata": {},
   "outputs": [
    {
     "name": "stdout",
     "output_type": "stream",
     "text": [
      "+---------------------+---------------------------------------------+--------+------------+\n",
      "|order_item_product_id|product_name                                 |revenue |product_rank|\n",
      "+---------------------+---------------------------------------------+--------+------------+\n",
      "|1004                 |Field & Stream Sportsman 16 Gun Fire Safe    |250787.0|1           |\n",
      "|365                  |Perfect Fitness Perfect Rip Deck             |151475.0|2           |\n",
      "|957                  |Diamondback Women's Serene Classic Comfort Bi|148190.0|3           |\n",
      "|191                  |Nike Men's Free 5.0+ Running Shoe            |132287.0|4           |\n",
      "|502                  |Nike Men's Dri-FIT Victory Golf Polo         |114800.0|5           |\n",
      "|1073                 |Pelican Sunstream 100 Kayak                  |113194.0|6           |\n",
      "|403                  |Nike Men's CJ Elite 2 TD Football Cleat      |107632.0|7           |\n",
      "|1014                 |O'Brien Men's Neoprene Life Vest             |100310.0|8           |\n",
      "|627                  |Under Armour Girls' Toddler Spine Surge Runni|38990.0 |9           |\n",
      "|565                  |adidas Youth Germany Black/Red Away Match Soc|3850.0  |10          |\n",
      "|249                  |Under Armour Women's Micro G Skulpt Running S|2529.0  |11          |\n",
      "|44                   |adidas Men's F10 Messi TRX FG Soccer Cleat   |2160.0  |12          |\n",
      "|724                  |LIJA Women's Mid-Length Panel Golf Shorts    |2100.0  |13          |\n",
      "|208                  |SOLE E35 Elliptical                          |2000.0  |14          |\n",
      "|818                  |Titleist Pro V1x Golf Balls                  |1968.0  |15          |\n",
      "|728                  |LIJA Women's Eyelet Sleeveless Golf Polo     |1885.0  |16          |\n",
      "|771                  |Clicgear Rovic Cooler Bag                    |1840.0  |17          |\n",
      "|278                  |Under Armour Men's Compression EV SL Slide   |1620.0  |18          |\n",
      "|303                  |Garmin Forerunner 910XT GPS Watch            |1600.0  |19          |\n",
      "|564                  |Nike Men's Deutschland Weltmeister Winners Bl|1590.0  |20          |\n",
      "|828                  |Bridgestone e6 Straight Distance NFL San Dieg|1440.0  |21          |\n",
      "|835                  |Bridgestone e6 Straight Distance NFL Carolina|1376.0  |22          |\n",
      "|822                  |Titleist Pro V1x High Numbers Golf Balls     |1296.0  |23          |\n",
      "|823                  |Titleist Pro V1x High Numbers Personalized Go|1248.0  |24          |\n",
      "|845                  |Garmin Approach S4 Golf GPS Watch            |1200.0  |25          |\n",
      "|203                  |GoPro HERO3+ Black Edition Camera            |1200.0  |25          |\n",
      "|885                  |Team Golf St. Louis Cardinals Putter Grip    |1150.0  |26          |\n",
      "|977                  |ENO Atlas Hammock Straps                     |1140.0  |27          |\n",
      "|116                  |Nike Men's Comfort 2 Slide                   |1125.0  |28          |\n",
      "|821                  |Titleist Pro V1 High Numbers Personalized Gol|1040.0  |29          |\n",
      "|858                  |GolfBuddy VT3 GPS Watch                      |1000.0  |30          |\n",
      "|60                   |SOLE E25 Elliptical                          |1000.0  |30          |\n",
      "|306                  |Polar FT4 Heart Rate Monitor                 |990.0   |31          |\n",
      "|273                  |Under Armour Kids' Mercenary Slide           |952.0   |32          |\n",
      "|235                  |Under Armour Hustle Storm Medium Duffle Bag  |910.0   |33          |\n",
      "|364                  |Total Gym 1400                               |900.0   |34          |\n",
      "|251                  |Brooks Women's Ghost 6 Running Shoe          |900.0   |34          |\n",
      "|642                  |Columbia Men's PFG Anchor Tough T-Shirt      |900.0   |34          |\n",
      "|825                  |Bridgestone e6 Straight Distance NFL Tennesse|896.0   |35          |\n",
      "|172                  |Nike Women's Tempo Shorts                    |870.0   |36          |\n",
      "|917                  |Glove It Women's Mod Oval 3-Zip Carry All Gol|858.0   |37          |\n",
      "|135                  |Nike Dri-FIT Crew Sock 6 Pack                |858.0   |37          |\n",
      "|282                  |Under Armour Women's Ignite PIP VI Slide     |832.0   |38          |\n",
      "|893                  |Team Golf Pittsburgh Steelers Putter Grip    |750.0   |39          |\n",
      "|37                   |adidas Kids' F5 Messi FG Soccer Cleat        |735.0   |40          |\n",
      "|906                  |Team Golf Tennessee Volunteers Putter Grip   |725.0   |41          |\n",
      "|897                  |Team Golf New England Patriots Putter Grip   |725.0   |41          |\n",
      "|24                   |Elevation Training Mask 2.0                  |720.0   |42          |\n",
      "|78                   |Nike Kids' Grade School KD VI Basketball Shoe|700.0   |43          |\n",
      "|804                  |Glove It Women's Imperial Golf Glove         |700.0   |43          |\n",
      "|276                  |Under Armour Women's Ignite Slide            |672.0   |44          |\n",
      "|810                  |Glove It Women's Mod Oval Golf Glove         |640.0   |45          |\n",
      "|93                   |Under Armour Men's Tech II T-Shirt           |600.0   |46          |\n",
      "|768                  |Titleist Club Glove Travel Cover             |600.0   |46          |\n",
      "|226                  |Bowflex SelectTech 1090 Dumbbells            |600.0   |46          |\n",
      "|860                  |Bushnell Pro X7 Jolt Slope Rangefinder       |600.0   |46          |\n",
      "|886                  |Team Golf San Francisco Giants Putter Grip   |600.0   |46          |\n",
      "|572                  |TYR Boys' Team Digi Jammer                   |600.0   |46          |\n",
      "|305                  |Mio ALPHA Heart Rate Monitor/Sport Watch     |597.0   |47          |\n",
      "|134                  |Nike Women's Legend V-Neck T-Shirt           |575.0   |48          |\n",
      "|778                  |Bag Boy Beverage Holder                      |575.0   |48          |\n",
      "|258                  |Nike Women's Free 5.0 TR FIT PRT 4 Training S|570.0   |49          |\n",
      "|730                  |LIJA Women's Argyle Golf Polo                |560.0   |50          |\n",
      "|924                  |Glove It Urban Brick Golf Towel              |560.0   |50          |\n",
      "|666                  |Merrell Men's All Out Flash Trail Running Sho|550.0   |51          |\n",
      "|703                  |Top Flite Women's 2014 XL Hybrid             |540.0   |52          |\n",
      "|792                  |Hirzl Men's Hybrid Golf Glove                |525.0   |53          |\n",
      "|567                  |adidas Men's Germany Black Crest Away Tee    |525.0   |53          |\n",
      "|652                  |Merrell Women's Grassbow Sport Waterproof Hik|520.0   |54          |\n",
      "|715                  |TaylorMade Women's RBZ SL Rescue             |520.0   |54          |\n",
      "|743                  |Ogio Race Golf Shoes                         |510.0   |55          |\n",
      "|773                  |Titleist Small Wheeled Travel Cover          |500.0   |56          |\n",
      "|607                  |Garmin Approach S3 Golf GPS Watch            |500.0   |56          |\n",
      "|646                  |Merrell Women's Grassbow Sport Hiking Shoe   |500.0   |56          |\n",
      "|981                  |The North Face Women's Recon Backpack        |495.0   |57          |\n",
      "|797                  |Hirzl Women's Soffft Flex Golf Glove         |486.0   |58          |\n",
      "|905                  |Team Golf Texas Longhorns Putter Grip        |475.0   |59          |\n",
      "|926                  |Glove It Imperial Golf Towel                 |448.0   |60          |\n",
      "|647                  |Merrell Women's Siren Mid Waterproof Hiking B|405.0   |61          |\n",
      "|793                  |Hirzl Women's Hybrid Golf Glove              |405.0   |61          |\n",
      "|359                  |Nike Men's Free TR 5.0 TB Training Shoe      |400.0   |62          |\n",
      "|19                   |Nike Men's Fingertrap Max Training Shoe      |375.0   |63          |\n",
      "|1059                 |Pelican Maverick 100X Kayak                  |350.0   |64          |\n",
      "|311                  |Polar Loop Activity Tracker                  |330.0   |65          |\n",
      "|725                  |LIJA Women's Button Golf Dress               |324.0   |66          |\n",
      "|777                  |Bag Boy M330 Push Cart                       |320.0   |67          |\n",
      "|35                   |adidas Brazuca 2014 Official Match Ball      |320.0   |67          |\n",
      "|58                   |Diamondback Boys' Insight 24 Performance Hybr|300.0   |68          |\n",
      "|705                  |Cleveland Golf Women's 588 RTX CB Satin Chrom|240.0   |69          |\n",
      "|625                  |Nike Men's Kobe IX Elite Low Basketball Shoe |200.0   |70          |\n",
      "|677                  |TaylorMade White Smoke IN-12 Putter          |200.0   |70          |\n",
      "|216                  |Yakima DoubleDown Ace Hitch Mount 4-Bike Rack|189.0   |71          |\n",
      "|775                  |Clicgear 8.0 Shoe Brush                      |160.0   |72          |\n",
      "|982                  |insta-bed Neverflat Air Mattress             |150.0   |73          |\n",
      "|295                  |Fitbit The One Wireless Activity & Sleep Trac|100.0   |74          |\n",
      "|691                  |MDGolf Pittsburgh Penguins Putter            |80.0    |75          |\n",
      "+---------------------+---------------------------------------------+--------+------------+\n",
      "\n"
     ]
    }
   ],
   "source": [
    "// spark.sql(\"\"\"select iq.*,dense_rank() over (\n",
    "//     order by iq.revenue desc\n",
    "//     ) as product_rank\n",
    "// from (select oi.order_item_product_id,p.product_name,\n",
    "//          round(sum(order_item_subtotal) over (\n",
    "//              partition by oi.order_item_product_id\n",
    "//              ,2)) as revenue\n",
    "//       from  orders as o \n",
    "//           join \n",
    "//           order_items oi on o.order_id = oi.order_item_order_id \n",
    "//           join \n",
    "//           products p on oi.order_item_product_id=p.product_id\n",
    "//       where date_format(o.order_date, 'yyyy-MM') = '2014-01' AND o.order_status IN ('COMPLETE', 'CLOSED')\n",
    "//      ) as iq\n",
    "//      group by iq.order_item_product_id,iq.product_name,iq.revenue\n",
    "//      order by revenue desc\"\"\").show(300,false)"
   ]
  },
  {
   "cell_type": "code",
   "execution_count": 3,
   "metadata": {},
   "outputs": [
    {
     "data": {
      "text/plain": [
       "+---------------------+--------------------+--------+------------+\n",
       "|order_item_product_id|        product_name| revenue|product_rank|\n",
       "+---------------------+--------------------+--------+------------+\n",
       "|                 1004|Field & Stream Sp...|250787.0|           1|\n",
       "|                  365|Perfect Fitness P...|151475.0|           2|\n",
       "|                  957|Diamondback Women...|148190.0|           3|\n",
       "+---------------------+--------------------+--------+------------+\n",
       "\n"
      ]
     },
     "execution_count": 3,
     "metadata": {},
     "output_type": "execute_result"
    }
   ],
   "source": [
    "%%sql\n",
    "select *\n",
    "from (\n",
    "        select iq.*,dense_rank() over (\n",
    "        order by iq.revenue desc\n",
    "        ) as product_rank\n",
    "    from (select oi.order_item_product_id,p.product_name,\n",
    "             round(sum(order_item_subtotal) over (\n",
    "                 partition by oi.order_item_product_id\n",
    "                 ,2)) as revenue\n",
    "          from  orders as o \n",
    "              join \n",
    "              order_items oi on o.order_id = oi.order_item_order_id \n",
    "              join \n",
    "              products p on oi.order_item_product_id=p.product_id\n",
    "          where date_format(o.order_date, 'yyyy-MM') = '2014-01' AND o.order_status IN ('COMPLETE', 'CLOSED')\n",
    "         ) as iq\n",
    "         group by iq.order_item_product_id,iq.product_name,iq.revenue\n",
    "         order by revenue desc\n",
    "    )as q\n",
    "where q.product_rank<=3\n",
    "order by revenue desc"
   ]
  },
  {
   "cell_type": "markdown",
   "metadata": {},
   "source": [
    "### Exercise 5\n",
    "\n",
    "Get top 3 products sold in the month of 2014 January under selected categories by revenue. The categories are **Cardio Equipment** and **Strength Training**.\n",
    "\n",
    "* Use retail database tables such as orders, order_items, products as well as categories.\n",
    "* Highest revenue generating product should come at top.\n",
    "* Output should contain category_id, category_name, product_id, product_name, revenue, product_rank. revenue and product_rank are derived fields.\n",
    "* Data should be sorted in ascending order by category_id and descending order by revenue.\n",
    "\n",
    "|category_id|category_name|product_id|product_name|revenue|product_rank|\n",
    "|---|---|---|---|---|---|\n",
    "|9|Cardio Equipment|191|Nike Men's Free 5.0+ Running Shoe|132286.77|1|\n",
    "|9|Cardio Equipment|172|Nike Women's Tempo Shorts|870.00|2|\n",
    "|10|Strength Training|208|SOLE E35 Elliptical|1999.99|1|\n",
    "|10|Strength Training|203|GoPro HERO3+ Black Edition Camera|1199.97|2|\n",
    "|10|Strength Training|216|Yakima DoubleDown Ace Hitch Mount 4-Bike Rack|189.00|3|"
   ]
  },
  {
   "cell_type": "code",
   "execution_count": 12,
   "metadata": {},
   "outputs": [
    {
     "data": {
      "text/plain": [
       "+-----------+-----------------+--------------------+--------+------------+\n",
       "|category_id|    category_name|        product_name| revenue|product_rank|\n",
       "+-----------+-----------------+--------------------+--------+------------+\n",
       "|          9| Cardio Equipment|Nike Men's Free 5...|132287.0|           1|\n",
       "|          9| Cardio Equipment|Nike Women's Temp...|   870.0|           2|\n",
       "|         10|Strength Training| SOLE E35 Elliptical|  2000.0|           1|\n",
       "|         10|Strength Training|GoPro HERO3+ Blac...|  1200.0|           2|\n",
       "|         10|Strength Training|Yakima DoubleDown...|   189.0|           3|\n",
       "+-----------+-----------------+--------------------+--------+------------+\n",
       "\n"
      ]
     },
     "execution_count": 12,
     "metadata": {},
     "output_type": "execute_result"
    }
   ],
   "source": [
    "%%sql\n",
    "select *\n",
    "from(\n",
    "    select iq.*,dense_rank() over (\n",
    "        partition by iq.category_id\n",
    "        order by iq.revenue desc\n",
    "        ) as product_rank\n",
    "    from (select c.category_id,c.category_name,p.product_name,\n",
    "                 round(sum(order_item_subtotal) over (\n",
    "                     partition by oi.order_item_product_id\n",
    "                     ,2)) as revenue\n",
    "              from  orders as o \n",
    "                  join \n",
    "                  order_items oi on o.order_id = oi.order_item_order_id \n",
    "                  join \n",
    "                  products p on oi.order_item_product_id=p.product_id\n",
    "                  join\n",
    "                  categories AS c ON c.category_id = p.product_category_id\n",
    "              where date_format(o.order_date, 'yyyy-MM') = '2014-01' AND o.order_status IN ('COMPLETE', 'CLOSED') AND \n",
    "              c.category_name IN ('Cardio Equipment', 'Strength Training')\n",
    "             ) as iq\n",
    "    group by iq.category_id,iq.category_name,iq.product_name,iq.revenue\n",
    "    order by iq.category_id,iq.revenue desc\n",
    "    )"
   ]
  },
  {
   "cell_type": "code",
   "execution_count": null,
   "metadata": {},
   "outputs": [],
   "source": []
  }
 ],
 "metadata": {
  "kernelspec": {
   "display_name": "Spark 2 - Scala",
   "language": "scala",
   "name": "spark_2_scala"
  },
  "language_info": {
   "codemirror_mode": "text/x-scala",
   "file_extension": ".scala",
   "mimetype": "text/x-scala",
   "name": "scala",
   "pygments_lexer": "scala",
   "version": "2.11.12"
  }
 },
 "nbformat": 4,
 "nbformat_minor": 4
}
