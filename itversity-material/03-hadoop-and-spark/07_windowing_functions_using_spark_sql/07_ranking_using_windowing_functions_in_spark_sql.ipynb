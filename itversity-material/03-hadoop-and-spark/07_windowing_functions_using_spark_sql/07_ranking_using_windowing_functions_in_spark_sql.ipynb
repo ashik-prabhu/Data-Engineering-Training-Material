{
 "cells": [
  {
   "cell_type": "markdown",
   "metadata": {},
   "source": [
    "## Ranking using Windowing Functions\n",
    "\n",
    "Let us see how we can assign ranks using different **rank** functions."
   ]
  },
  {
   "cell_type": "markdown",
   "metadata": {},
   "source": [
    "Let us start spark context for this Notebook so that we can execute the code provided. You can sign up for our [10 node state of the art cluster/labs](https://labs.itversity.com/plans) to learn Spark SQL using our unique integrated LMS."
   ]
  },
  {
   "cell_type": "code",
   "execution_count": 1,
   "metadata": {},
   "outputs": [
    {
     "data": {
      "text/plain": [
       "username = itv002461\n"
      ]
     },
     "metadata": {},
     "output_type": "display_data",
     "source": "user"
    },
    {
     "data": {
      "text/plain": [
       "itv002461"
      ]
     },
     "execution_count": 1,
     "metadata": {},
     "output_type": "execute_result"
    }
   ],
   "source": [
    "val username = System.getProperty(\"user.name\")"
   ]
  },
  {
   "cell_type": "code",
   "execution_count": 2,
   "metadata": {},
   "outputs": [
    {
     "data": {
      "text/plain": [
       "username = itv002461\n",
       "spark = org.apache.spark.sql.SparkSession@27be559b\n"
      ]
     },
     "metadata": {},
     "output_type": "display_data",
     "source": "user"
    },
    {
     "data": {
      "text/plain": [
       "org.apache.spark.sql.SparkSession@27be559b"
      ]
     },
     "execution_count": 2,
     "metadata": {},
     "output_type": "execute_result"
    }
   ],
   "source": [
    "import org.apache.spark.sql.SparkSession\n",
    "\n",
    "val username = System.getProperty(\"user.name\")\n",
    "val spark = SparkSession.\n",
    "    builder.\n",
    "    config(\"spark.ui.port\", \"0\").\n",
    "    config(\"spark.sql.warehouse.dir\", s\"/user/${username}/warehouse\").\n",
    "    enableHiveSupport.\n",
    "    appName(s\"${username} | Spark SQL - Windowing Functions\").\n",
    "    master(\"yarn\").\n",
    "    getOrCreate"
   ]
  },
  {
   "cell_type": "markdown",
   "metadata": {},
   "source": [
    "If you are going to use CLIs, you can use Spark SQL using one of the 3 approaches.\n",
    "\n",
    "**Using Spark SQL**\n",
    "\n",
    "```\n",
    "spark2-sql \\\n",
    "    --master yarn \\\n",
    "    --conf spark.ui.port=0 \\\n",
    "    --conf spark.sql.warehouse.dir=/user/${USER}/warehouse\n",
    "```\n",
    "\n",
    "**Using Scala**\n",
    "\n",
    "```\n",
    "spark2-shell \\\n",
    "    --master yarn \\\n",
    "    --conf spark.ui.port=0 \\\n",
    "    --conf spark.sql.warehouse.dir=/user/${USER}/warehouse\n",
    "```\n",
    "\n",
    "**Using Pyspark**\n",
    "\n",
    "```\n",
    "pyspark2 \\\n",
    "    --master yarn \\\n",
    "    --conf spark.ui.port=0 \\\n",
    "    --conf spark.sql.warehouse.dir=/user/${USER}/warehouse\n",
    "```"
   ]
  },
  {
   "cell_type": "markdown",
   "metadata": {},
   "source": [
    "* If we have to assign ranks globally, we just need to specify **ORDER BY**\n",
    "* If we have to assign ranks with in a key then we need to specify **PARTITION BY** and then **ORDER BY**.\n",
    "* By default **ORDER BY** will sort the data in ascending order. We can change the order by passing **DESC** after order by.\n",
    "* We have 3 main functions to assign ranks - `rank`, `dense_rank` and `row_number`. We will see the difference between the 3 in a moment.\n",
    "\n",
    "Here is an example to assign sparse ranks using the table daily_product_revenue with in each day based on revenue. We can use `rank` function to assign sparse ranks."
   ]
  },
  {
   "cell_type": "code",
   "execution_count": 3,
   "metadata": {},
   "outputs": [
    {
     "data": {
      "text/plain": [
       "Waiting for a Spark session to start..."
      ]
     },
     "metadata": {},
     "output_type": "display_data",
     "source": "user"
    },
    {
     "data": {
      "text/plain": [
       "++\n",
       "||\n",
       "++\n",
       "++\n",
       "\n"
      ]
     },
     "execution_count": 3,
     "metadata": {},
     "output_type": "execute_result"
    }
   ],
   "source": [
    "%%sql\n",
    "\n",
    "USE itv002461_retail"
   ]
  },
  {
   "cell_type": "code",
   "execution_count": 4,
   "metadata": {},
   "outputs": [
    {
     "data": {
      "text/plain": [
       "|2013-07-25 00:00:...|           ...\n"
      ]
     },
     "metadata": {},
     "output_type": "display_data",
     "source": "user"
    },
    {
     "data": {
      "text/plain": [
       "+--------------------+---------------------+-------+---+\n",
       "|          order_date|order_item_product_id|revenue|rnk|\n",
       "+--------------------+---------------------+-------+---+\n",
       "|2013-07-25 00:00:...|                 1004|5599.72|  1|\n",
       "|2013-07-25 00:00:...|                  191|5099.49|  2|\n",
       "|2013-07-25 00:00:...|                  957| 4499.7|  3|\n",
       "|2013-07-25 00:00:...|                  365|3359.44|  4|\n",
       "|2013-07-25 00:00:...|                 1073|2999.85|  5|\n",
       "|2013-07-25 00:00:...|                 1014|2798.88|  6|\n",
       "|2013-07-25 00:00:...|                  403|1949.85|  7|\n",
       "|2013-07-25 00:00:...|                  502| 1650.0|  8|\n",
       "|2013-07-25 00:00:...|                  627|1079.73|  9|\n",
       "|2013-07-25 00:00:...|                  226| 599.99| 10|\n",
       "+--------------------+---------------------+-------+---+\n",
       "only showing top 10 rows\n",
       "\n"
      ]
     },
     "execution_count": 4,
     "metadata": {},
     "output_type": "execute_result"
    }
   ],
   "source": [
    "%%sql\n",
    "\n",
    "SELECT t.*,\n",
    "  rank() OVER (\n",
    "    PARTITION BY order_date\n",
    "    ORDER BY revenue DESC\n",
    "  ) AS rnk\n",
    "FROM daily_product_revenue t\n",
    "ORDER BY order_date, revenue DESC\n",
    "LIMIT 100"
   ]
  },
  {
   "cell_type": "markdown",
   "metadata": {},
   "source": [
    "```{note}\n",
    "Here is another example to assign ranks using employees data set with in each department. We can also use other functions such as `dense_rank` and `row_number` to assign ranks.\n",
    "```"
   ]
  },
  {
   "cell_type": "code",
   "execution_count": 4,
   "metadata": {},
   "outputs": [
    {
     "data": {
      "text/plain": [
       "++\n",
       "||\n",
       "++\n",
       "++\n",
       "\n"
      ]
     },
     "execution_count": 4,
     "metadata": {},
     "output_type": "execute_result"
    }
   ],
   "source": [
    "%%sql\n",
    "\n",
    "USE itv002461_hr"
   ]
  },
  {
   "cell_type": "code",
   "execution_count": 12,
   "metadata": {},
   "outputs": [
    {
     "data": {
      "text/plain": [
       "only showing top ...\n"
      ]
     },
     "metadata": {},
     "output_type": "display_data",
     "source": "user"
    },
    {
     "data": {
      "text/plain": [
       "+-----------+-------------+--------+---+----+---+\n",
       "|employee_id|department_id|  salary|rnk|drnk| rn|\n",
       "+-----------+-------------+--------+---+----+---+\n",
       "|        178|         null| 7000.00|  1|   1|  1|\n",
       "|        200|           10| 4400.00|  1|   1|  1|\n",
       "|        201|           20|13000.00|  1|   1|  1|\n",
       "|        202|           20| 6000.00|  2|   2|  2|\n",
       "|        114|           30|11000.00|  1|   1|  1|\n",
       "|        115|           30| 3100.00|  2|   2|  2|\n",
       "|        116|           30| 2900.00|  3|   3|  3|\n",
       "|        117|           30| 2800.00|  4|   4|  4|\n",
       "|        118|           30| 2600.00|  5|   5|  5|\n",
       "|        119|           30| 2500.00|  6|   6|  6|\n",
       "+-----------+-------------+--------+---+----+---+\n",
       "only showing top 10 rows\n",
       "\n"
      ]
     },
     "execution_count": 12,
     "metadata": {},
     "output_type": "execute_result"
    }
   ],
   "source": [
    "%%sql\n",
    "\n",
    "SELECT\n",
    "  employee_id,\n",
    "  department_id,\n",
    "  salary,\n",
    "  rank() OVER (\n",
    "    PARTITION BY department_id\n",
    "    ORDER BY salary DESC\n",
    "  ) rnk,\n",
    "  dense_rank() OVER (\n",
    "    PARTITION BY department_id\n",
    "    ORDER BY salary DESC\n",
    "  ) drnk,\n",
    "  row_number() OVER (\n",
    "    PARTITION BY department_id\n",
    "    ORDER BY salary DESC\n",
    "  ) rn\n",
    "FROM employees\n",
    "ORDER BY department_id, salary DESC"
   ]
  },
  {
   "cell_type": "code",
   "execution_count": 14,
   "metadata": {},
   "outputs": [
    {
     "name": "stdout",
     "output_type": "stream",
     "text": [
      "+-----------+-------------+--------+---+----+---+\n",
      "|employee_id|department_id|salary  |rnk|drnk|rn |\n",
      "+-----------+-------------+--------+---+----+---+\n",
      "|178        |null         |7000.00 |1  |1   |1  |\n",
      "|200        |10           |4400.00 |1  |1   |1  |\n",
      "|201        |20           |13000.00|1  |1   |1  |\n",
      "|202        |20           |6000.00 |2  |2   |2  |\n",
      "|114        |30           |11000.00|1  |1   |1  |\n",
      "|115        |30           |3100.00 |2  |2   |2  |\n",
      "|116        |30           |2900.00 |3  |3   |3  |\n",
      "|117        |30           |2800.00 |4  |4   |4  |\n",
      "|118        |30           |2600.00 |5  |5   |5  |\n",
      "|119        |30           |2500.00 |6  |6   |6  |\n",
      "|203        |40           |6500.00 |1  |1   |1  |\n",
      "|121        |50           |8200.00 |1  |1   |1  |\n",
      "|120        |50           |8000.00 |2  |2   |2  |\n",
      "|122        |50           |7900.00 |3  |3   |3  |\n",
      "|123        |50           |6500.00 |4  |4   |4  |\n",
      "|124        |50           |5800.00 |5  |5   |5  |\n",
      "|184        |50           |4200.00 |6  |6   |6  |\n",
      "|185        |50           |4100.00 |7  |7   |7  |\n",
      "|192        |50           |4000.00 |8  |8   |8  |\n",
      "|193        |50           |3900.00 |9  |9   |9  |\n",
      "|188        |50           |3800.00 |10 |10  |10 |\n",
      "|189        |50           |3600.00 |11 |11  |12 |\n",
      "|137        |50           |3600.00 |11 |11  |11 |\n",
      "|141        |50           |3500.00 |13 |12  |13 |\n",
      "|186        |50           |3400.00 |14 |13  |14 |\n",
      "|129        |50           |3300.00 |15 |14  |15 |\n",
      "|133        |50           |3300.00 |15 |14  |16 |\n",
      "|125        |50           |3200.00 |17 |15  |17 |\n",
      "|138        |50           |3200.00 |17 |15  |18 |\n",
      "|180        |50           |3200.00 |17 |15  |19 |\n",
      "|194        |50           |3200.00 |17 |15  |20 |\n",
      "|196        |50           |3100.00 |21 |16  |23 |\n",
      "|142        |50           |3100.00 |21 |16  |21 |\n",
      "|181        |50           |3100.00 |21 |16  |22 |\n",
      "|187        |50           |3000.00 |24 |17  |24 |\n",
      "|197        |50           |3000.00 |24 |17  |25 |\n",
      "|134        |50           |2900.00 |26 |18  |26 |\n",
      "|190        |50           |2900.00 |26 |18  |27 |\n",
      "|183        |50           |2800.00 |28 |19  |29 |\n",
      "|130        |50           |2800.00 |28 |19  |28 |\n",
      "|195        |50           |2800.00 |28 |19  |30 |\n",
      "|126        |50           |2700.00 |31 |20  |31 |\n",
      "|139        |50           |2700.00 |31 |20  |32 |\n",
      "|199        |50           |2600.00 |33 |21  |35 |\n",
      "|143        |50           |2600.00 |33 |21  |33 |\n",
      "|198        |50           |2600.00 |33 |21  |34 |\n",
      "|191        |50           |2500.00 |36 |22  |40 |\n",
      "|140        |50           |2500.00 |36 |22  |37 |\n",
      "|144        |50           |2500.00 |36 |22  |38 |\n",
      "|182        |50           |2500.00 |36 |22  |39 |\n",
      "|131        |50           |2500.00 |36 |22  |36 |\n",
      "|135        |50           |2400.00 |41 |23  |42 |\n",
      "|127        |50           |2400.00 |41 |23  |41 |\n",
      "|128        |50           |2200.00 |43 |24  |43 |\n",
      "|136        |50           |2200.00 |43 |24  |44 |\n",
      "|132        |50           |2100.00 |45 |25  |45 |\n",
      "|103        |60           |9000.00 |1  |1   |1  |\n",
      "|104        |60           |6000.00 |2  |2   |2  |\n",
      "|105        |60           |4800.00 |3  |3   |3  |\n",
      "|106        |60           |4800.00 |3  |3   |4  |\n",
      "|107        |60           |4200.00 |5  |4   |5  |\n",
      "|204        |70           |10000.00|1  |1   |1  |\n",
      "|145        |80           |14000.00|1  |1   |1  |\n",
      "|146        |80           |13500.00|2  |2   |2  |\n",
      "|147        |80           |12000.00|3  |3   |3  |\n",
      "|168        |80           |11500.00|4  |4   |4  |\n",
      "|148        |80           |11000.00|5  |5   |5  |\n",
      "|174        |80           |11000.00|5  |5   |6  |\n",
      "|149        |80           |10500.00|7  |6   |7  |\n",
      "|162        |80           |10500.00|7  |6   |8  |\n",
      "|169        |80           |10000.00|9  |7   |11 |\n",
      "|156        |80           |10000.00|9  |7   |10 |\n",
      "|150        |80           |10000.00|9  |7   |9  |\n",
      "|170        |80           |9600.00 |12 |8   |12 |\n",
      "|163        |80           |9500.00 |13 |9   |15 |\n",
      "|157        |80           |9500.00 |13 |9   |14 |\n",
      "|151        |80           |9500.00 |13 |9   |13 |\n",
      "|158        |80           |9000.00 |16 |10  |17 |\n",
      "|152        |80           |9000.00 |16 |10  |16 |\n",
      "|175        |80           |8800.00 |18 |11  |18 |\n",
      "|176        |80           |8600.00 |19 |12  |19 |\n",
      "|177        |80           |8400.00 |20 |13  |20 |\n",
      "|153        |80           |8000.00 |21 |14  |21 |\n",
      "|159        |80           |8000.00 |21 |14  |22 |\n",
      "|160        |80           |7500.00 |23 |15  |24 |\n",
      "|154        |80           |7500.00 |23 |15  |23 |\n",
      "|171        |80           |7400.00 |25 |16  |25 |\n",
      "|172        |80           |7300.00 |26 |17  |26 |\n",
      "|164        |80           |7200.00 |27 |18  |27 |\n",
      "|161        |80           |7000.00 |28 |19  |29 |\n",
      "|155        |80           |7000.00 |28 |19  |28 |\n",
      "|165        |80           |6800.00 |30 |20  |30 |\n",
      "|166        |80           |6400.00 |31 |21  |31 |\n",
      "|167        |80           |6200.00 |32 |22  |32 |\n",
      "|179        |80           |6200.00 |32 |22  |33 |\n",
      "|173        |80           |6100.00 |34 |23  |34 |\n",
      "|100        |90           |24000.00|1  |1   |1  |\n",
      "|101        |90           |17000.00|2  |2   |2  |\n",
      "|102        |90           |17000.00|2  |2   |3  |\n",
      "|108        |100          |12000.00|1  |1   |1  |\n",
      "+-----------+-------------+--------+---+----+---+\n",
      "only showing top 100 rows\n",
      "\n"
     ]
    }
   ],
   "source": [
    "spark.sql(\"\"\"\n",
    "SELECT\n",
    "  employee_id,\n",
    "  department_id,\n",
    "  salary,\n",
    "  rank() OVER (\n",
    "    PARTITION BY department_id\n",
    "    ORDER BY salary DESC\n",
    "  ) rnk,\n",
    "  dense_rank() OVER (\n",
    "    PARTITION BY department_id\n",
    "    ORDER BY salary DESC\n",
    "  ) drnk,\n",
    "  row_number() OVER (\n",
    "    PARTITION BY department_id\n",
    "    ORDER BY salary DESC, employee_id\n",
    "  ) rn\n",
    "FROM employees\n",
    "ORDER BY department_id, salary DESC\n",
    "\"\"\").\n",
    "    show(100, false)"
   ]
  },
  {
   "cell_type": "code",
   "execution_count": 13,
   "metadata": {},
   "outputs": [
    {
     "data": {
      "text/plain": [
       "|        136|     Hazel|Philtanker|HPHILTAN|650.127.1634|2000-02-06|ST_CLERK|2200.00|  ...\n"
      ]
     },
     "metadata": {},
     "output_type": "display_data",
     "source": "user"
    },
    {
     "data": {
      "text/plain": [
       "+-----------+----------+----------+--------+------------+----------+--------+-------+--------------+----------+-------------+\n",
       "|employee_id|first_name| last_name|   email|phone_number| hire_date|  job_id| salary|commission_pct|manager_id|department_id|\n",
       "+-----------+----------+----------+--------+------------+----------+--------+-------+--------------+----------+-------------+\n",
       "|        132|        TJ|     Olson| TJOLSON|650.124.8234|1999-04-10|ST_CLERK|2100.00|          null|       121|           50|\n",
       "|        128|    Steven|    Markle| SMARKLE|650.124.1434|2000-03-08|ST_CLERK|2200.00|          null|       120|           50|\n",
       "|        136|     Hazel|Philtanker|HPHILTAN|650.127.1634|2000-02-06|ST_CLERK|2200.00|          null|       122|           50|\n",
       "|        135|        Ki|       Gee|    KGEE|650.127.1734|1999-12-12|ST_CLERK|2400.00|          null|       122|           50|\n",
       "|        127|     James|    Landry| JLANDRY|650.124.1334|1999-01-14|ST_CLERK|2400.00|          null|       120|           50|\n",
       "|        119|     Karen|Colmenares|KCOLMENA|515.127.4566|1999-08-10|PU_CLERK|2500.00|          null|       114|           30|\n",
       "|        182|    Martha|  Sullivan|MSULLIVA|650.507.9878|1999-06-21|SH_CLERK|2500.00|          null|       120|           50|\n",
       "|        140|    Joshua|     Patel|  JPATEL|650.121.1834|1998-04-06|ST_CLERK|2500.00|          null|       123|           50|\n",
       "|        144|     Peter|    Vargas| PVARGAS|650.121.2004|1998-07-09|ST_CLERK|2500.00|          null|       124|           50|\n",
       "|        131|     James|    Marlow| JAMRLOW|650.124.7234|1997-02-16|ST_CLERK|2500.00|          null|       121|           50|\n",
       "+-----------+----------+----------+--------+------------+----------+--------+-------+--------------+----------+-------------+\n",
       "\n"
      ]
     },
     "execution_count": 13,
     "metadata": {},
     "output_type": "execute_result"
    }
   ],
   "source": [
    "%%sql\n",
    "\n",
    "SELECT * FROM employees ORDER BY salary LIMIT 10"
   ]
  },
  {
   "cell_type": "markdown",
   "metadata": {},
   "source": [
    "```{note}\n",
    "Here is the example for global rank with out `PARTITION BY` clause.\n",
    "```"
   ]
  },
  {
   "cell_type": "code",
   "execution_count": 13,
   "metadata": {},
   "outputs": [
    {
     "data": {
      "text/plain": [
       "+-----------+--------+----+\n",
       "|employee_id|  salary|drnk|\n",
       "+-----------+--------+----+\n",
       "|        100|24000.00|   1|\n",
       "|        101|17000.00|   2|\n",
       "|        102|17000.00|   2|\n",
       "|        145|14000.00|   3|\n",
       "|        146|13500.00|   4|\n",
       "|        201|13000.00|   5|\n",
       "|        108|12000.00|   6|\n",
       "|        147|12000.00|   6|\n",
       "|        205|12000.00|   6|\n",
       "|        168|11500.00|   7|\n",
       "+-----------+--------+----+\n",
       "only showing top 10 rows\n",
       "\n"
      ]
     },
     "execution_count": 13,
     "metadata": {},
     "output_type": "execute_result"
    }
   ],
   "source": [
    "%%sql\n",
    "\n",
    "SELECT employee_id, salary,\n",
    "    dense_rank() OVER (ORDER BY salary DESC) AS drnk\n",
    "FROM employees"
   ]
  },
  {
   "cell_type": "markdown",
   "metadata": {},
   "source": [
    "Let us understand the difference between **rank**, **dense_rank** and **row_number**.\n",
    "\n",
    "* We can use either of the functions to generate ranks when there are no duplicates in the column based on which ranks are assigned.\n",
    "* When the column based on which ranks are assigned have duplicates then row_number should not be used as it generate unique number for each record with in the partition. For those duplicate values, the row number need not be same across multiple runs.\n",
    "* **rank** will skip the ranks in between if multiple people get the same rank while **dense_rank** will not skip the ranks based up on the number of times the value is repeated."
   ]
  }
 ],
 "metadata": {
  "kernelspec": {
   "display_name": "Spark 2 - Scala",
   "language": "scala",
   "name": "spark_2_scala"
  },
  "language_info": {
   "codemirror_mode": "text/x-scala",
   "file_extension": ".scala",
   "mimetype": "text/x-scala",
   "name": "scala",
   "pygments_lexer": "scala",
   "version": "2.11.12"
  }
 },
 "nbformat": 4,
 "nbformat_minor": 4
}
