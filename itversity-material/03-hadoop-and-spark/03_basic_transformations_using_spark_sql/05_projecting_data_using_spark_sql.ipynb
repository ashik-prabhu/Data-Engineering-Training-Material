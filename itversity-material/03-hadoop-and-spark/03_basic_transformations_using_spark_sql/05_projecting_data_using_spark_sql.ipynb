{
 "cells": [
  {
   "cell_type": "markdown",
   "metadata": {},
   "source": [
    "## Projecting Data\n",
    "\n",
    "Let us understand different aspects of projecting data. We primarily using `SELECT` to project the data."
   ]
  },
  {
   "cell_type": "markdown",
   "metadata": {},
   "source": [
    "* We can project all columns using `*` or some columns using column names.\n",
    "* We can provide aliases to a column or expression using `AS` in `SELECT` clause.\n",
    "* `DISTINCT` can be used to get the distinct records from selected columns. We can also use `DISTINCT *` to get unique records using all the columns.\n",
    "* As of now **Spark SQL** does not support projecting all but one or few columns. It is supported in Hive. Following will work in hive and it will project all the columns from orders except for order_id.\n",
    "\n",
    "```\n",
    "SET hive.support.quoted.identifiers=none;\n",
    "SELECT `(order_id)?+.+` FROM orders;\n",
    "```"
   ]
  },
  {
   "cell_type": "markdown",
   "metadata": {},
   "source": [
    "Let us start spark context for this Notebook so that we can execute the code provided. You can sign up for our [10 node state of the art cluster/labs](https://labs.itversity.com/plans) to learn Spark SQL using our unique integrated LMS."
   ]
  },
  {
   "cell_type": "code",
   "execution_count": 10,
   "metadata": {},
   "outputs": [
    {
     "data": {
      "text/plain": [
       "username = itv002461\n"
      ]
     },
     "metadata": {},
     "output_type": "display_data",
     "source": "user"
    },
    {
     "data": {
      "text/plain": [
       "itv002461"
      ]
     },
     "execution_count": 10,
     "metadata": {},
     "output_type": "execute_result"
    }
   ],
   "source": [
    "val username = System.getProperty(\"user.name\")"
   ]
  },
  {
   "cell_type": "code",
   "execution_count": 11,
   "metadata": {},
   "outputs": [
    {
     "data": {
      "text/plain": [
       "username = itv002461\n",
       "spark = org.apache.spark.sql.SparkSession@5fbaf6da\n"
      ]
     },
     "metadata": {},
     "output_type": "display_data",
     "source": "user"
    },
    {
     "data": {
      "text/plain": [
       "org.apache.spark.sql.SparkSession@5fbaf6da"
      ]
     },
     "execution_count": 11,
     "metadata": {},
     "output_type": "execute_result"
    }
   ],
   "source": [
    "import org.apache.spark.sql.SparkSession\n",
    "\n",
    "val username = System.getProperty(\"user.name\")\n",
    "val spark = SparkSession.\n",
    "    builder.\n",
    "    config(\"spark.ui.port\", \"0\").\n",
    "    config(\"spark.sql.warehouse.dir\", s\"/user/${username}/warehouse\").\n",
    "    enableHiveSupport.\n",
    "    appName(s\"${username} | Spark SQL - Basic Transformations\").\n",
    "    master(\"yarn\").\n",
    "    getOrCreate"
   ]
  },
  {
   "cell_type": "markdown",
   "metadata": {},
   "source": [
    "If you are going to use CLIs, you can use Spark SQL using one of the 3 approaches.\n",
    "\n",
    "**Using Spark SQL**\n",
    "\n",
    "```\n",
    "spark2-sql \\\n",
    "    --master yarn \\\n",
    "    --conf spark.ui.port=0 \\\n",
    "    --conf spark.sql.warehouse.dir=/user/${USER}/warehouse\n",
    "```\n",
    "\n",
    "**Using Scala**\n",
    "\n",
    "```\n",
    "spark2-shell \\\n",
    "    --master yarn \\\n",
    "    --conf spark.ui.port=0 \\\n",
    "    --conf spark.sql.warehouse.dir=/user/${USER}/warehouse\n",
    "```\n",
    "\n",
    "**Using Pyspark**\n",
    "\n",
    "```\n",
    "pyspark2 \\\n",
    "    --master yarn \\\n",
    "    --conf spark.ui.port=0 \\\n",
    "    --conf spark.sql.warehouse.dir=/user/${USER}/warehouse\n",
    "```"
   ]
  },
  {
   "cell_type": "code",
   "execution_count": 28,
   "metadata": {},
   "outputs": [
    {
     "data": {
      "text/plain": [
       "++\n",
       "||\n",
       "++\n",
       "++\n",
       "\n"
      ]
     },
     "execution_count": 28,
     "metadata": {},
     "output_type": "execute_result"
    }
   ],
   "source": [
    "%%sql \n",
    "USE itv002461_retail"
   ]
  },
  {
   "cell_type": "code",
   "execution_count": 29,
   "metadata": {},
   "outputs": [
    {
     "data": {
      "text/plain": [
       "|       8|2013-07-25 00:00:...|             2911|     PR...\n"
      ]
     },
     "metadata": {},
     "output_type": "display_data",
     "source": "user"
    },
    {
     "data": {
      "text/plain": [
       "+--------+--------------------+-----------------+---------------+\n",
       "|order_id|          order_date|order_customer_id|   order_status|\n",
       "+--------+--------------------+-----------------+---------------+\n",
       "|       1|2013-07-25 00:00:...|            11599|         CLOSED|\n",
       "|       2|2013-07-25 00:00:...|              256|PENDING_PAYMENT|\n",
       "|       3|2013-07-25 00:00:...|            12111|       COMPLETE|\n",
       "|       4|2013-07-25 00:00:...|             8827|         CLOSED|\n",
       "|       5|2013-07-25 00:00:...|            11318|       COMPLETE|\n",
       "|       6|2013-07-25 00:00:...|             7130|       COMPLETE|\n",
       "|       7|2013-07-25 00:00:...|             4530|       COMPLETE|\n",
       "|       8|2013-07-25 00:00:...|             2911|     PROCESSING|\n",
       "|       9|2013-07-25 00:00:...|             5657|PENDING_PAYMENT|\n",
       "|      10|2013-07-25 00:00:...|             5648|PENDING_PAYMENT|\n",
       "+--------+--------------------+-----------------+---------------+\n",
       "\n"
      ]
     },
     "execution_count": 29,
     "metadata": {},
     "output_type": "execute_result"
    }
   ],
   "source": [
    "%%sql\n",
    "\n",
    "SELECT * FROM orders LIMIT 10"
   ]
  },
  {
   "cell_type": "code",
   "execution_count": 1,
   "metadata": {},
   "outputs": [
    {
     "data": {
      "text/plain": [
       "+-----------------+---------+-------+\n",
       "|         col_name|data_type|comment|\n",
       "+-----------------+---------+-------+\n",
       "|         order_id|      int|   null|\n",
       "|       order_date|   string|   null|\n",
       "|order_customer_id|      int|   null|\n",
       "|     order_status|   string|   null|\n",
       "+-----------------+---------+-------+\n",
       "\n"
      ]
     },
     "execution_count": 1,
     "metadata": {},
     "output_type": "execute_result"
    }
   ],
   "source": [
    "%%sql\n",
    "\n",
    "DESCRIBE orders"
   ]
  },
  {
   "cell_type": "code",
   "execution_count": 2,
   "metadata": {},
   "outputs": [
    {
     "data": {
      "text/plain": [
       "|             1868|2014-02-23 00...\n"
      ]
     },
     "metadata": {},
     "output_type": "display_data",
     "source": "user"
    },
    {
     "data": {
      "text/plain": [
       "+-----------------+--------------------+---------------+\n",
       "|order_customer_id|          order_date|   order_status|\n",
       "+-----------------+--------------------+---------------+\n",
       "|             8702|2014-02-23 00:00:...|       COMPLETE|\n",
       "|             3066|2014-02-23 00:00:...|PENDING_PAYMENT|\n",
       "|             7314|2014-02-23 00:00:...|SUSPECTED_FRAUD|\n",
       "|             1271|2014-02-23 00:00:...|       COMPLETE|\n",
       "|            11083|2014-02-23 00:00:...|       COMPLETE|\n",
       "|             3159|2014-02-23 00:00:...|         CLOSED|\n",
       "|             4551|2014-02-23 00:00:...|         CLOSED|\n",
       "|             8135|2014-02-23 00:00:...|        PENDING|\n",
       "|             7497|2014-02-23 00:00:...|PENDING_PAYMENT|\n",
       "|             1868|2014-02-23 00:00:...|        ON_HOLD|\n",
       "+-----------------+--------------------+---------------+\n",
       "\n"
      ]
     },
     "execution_count": 2,
     "metadata": {},
     "output_type": "execute_result"
    }
   ],
   "source": [
    "%%sql\n",
    "\n",
    "SELECT order_customer_id, order_date, order_status FROM orders LIMIT 10"
   ]
  },
  {
   "cell_type": "code",
   "execution_count": 4,
   "metadata": {},
   "outputs": [
    {
     "data": {
      "text/plain": [
       "|           ...\n"
      ]
     },
     "metadata": {},
     "output_type": "display_data",
     "source": "user"
    },
    {
     "data": {
      "text/plain": [
       "+-----------------+---------------------------------------------------+---------------+\n",
       "|order_customer_id|date_format(CAST(order_date AS TIMESTAMP), yyyy-MM)|   order_status|\n",
       "+-----------------+---------------------------------------------------+---------------+\n",
       "|             8702|                                            2014-02|       COMPLETE|\n",
       "|             3066|                                            2014-02|PENDING_PAYMENT|\n",
       "|             7314|                                            2014-02|SUSPECTED_FRAUD|\n",
       "|             1271|                                            2014-02|       COMPLETE|\n",
       "|            11083|                                            2014-02|       COMPLETE|\n",
       "|             3159|                                            2014-02|         CLOSED|\n",
       "|             4551|                                            2014-02|         CLOSED|\n",
       "|             8135|                                            2014-02|        PENDING|\n",
       "|             7497|                                            2014-02|PENDING_PAYMENT|\n",
       "|             1868|                                            2014-02|        ON_HOLD|\n",
       "+-----------------+---------------------------------------------------+---------------+\n",
       "\n"
      ]
     },
     "execution_count": 4,
     "metadata": {},
     "output_type": "execute_result"
    }
   ],
   "source": [
    "%%sql\n",
    "\n",
    "SELECT order_customer_id, date_format(order_date, 'yyyy-MM'), order_status FROM orders LIMIT 10"
   ]
  },
  {
   "cell_type": "code",
   "execution_count": 5,
   "metadata": {},
   "outputs": [
    {
     "data": {
      "text/plain": [
       "+-----------------+-----------+---------------+\n",
       "|order_customer_id|order_month|   order_status|\n",
       "+-----------------+-----------+---------------+\n",
       "|            11599|    2013-07|         CLOSED|\n",
       "|              256|    2013-07|PENDING_PAYMENT|\n",
       "|            12111|    2013-07|       COMPLETE|\n",
       "|             8827|    2013-07|         CLOSED|\n",
       "|            11318|    2013-07|       COMPLETE|\n",
       "|             7130|    2013-07|       COMPLETE|\n",
       "|             4530|    2013-07|       COMPLETE|\n",
       "|             2911|    2013-07|     PROCESSING|\n",
       "|             5657|    2013-07|PENDING_PAYMENT|\n",
       "|             5648|    2013-07|PENDING_PAYMENT|\n",
       "+-----------------+-----------+---------------+\n",
       "\n"
      ]
     },
     "execution_count": 5,
     "metadata": {},
     "output_type": "execute_result"
    }
   ],
   "source": [
    "%%sql\n",
    "\n",
    "SELECT order_customer_id, \n",
    "    date_format(order_date, 'yyyy-MM') AS order_month, \n",
    "    order_status \n",
    "FROM orders LIMIT 10"
   ]
  },
  {
   "cell_type": "code",
   "execution_count": 6,
   "metadata": {},
   "outputs": [
    {
     "data": {
      "text/plain": [
       "+---------------+\n",
       "|   order_status|\n",
       "+---------------+\n",
       "|PENDING_PAYMENT|\n",
       "|       COMPLETE|\n",
       "|        ON_HOLD|\n",
       "| PAYMENT_REVIEW|\n",
       "|     PROCESSING|\n",
       "|         CLOSED|\n",
       "|SUSPECTED_FRAUD|\n",
       "|        PENDING|\n",
       "|       CANCELED|\n",
       "+---------------+\n",
       "\n"
      ]
     },
     "execution_count": 6,
     "metadata": {},
     "output_type": "execute_result"
    }
   ],
   "source": [
    "%%sql\n",
    "\n",
    "SELECT DISTINCT order_status FROM orders"
   ]
  },
  {
   "cell_type": "code",
   "execution_count": 7,
   "metadata": {},
   "outputs": [
    {
     "data": {
      "text/plain": [
       "|    1482|2013-08-01 00:00:...|             8110|       ...\n"
      ]
     },
     "metadata": {},
     "output_type": "display_data",
     "source": "user"
    },
    {
     "data": {
      "text/plain": [
       "+--------+--------------------+-----------------+---------------+\n",
       "|order_id|          order_date|order_customer_id|   order_status|\n",
       "+--------+--------------------+-----------------+---------------+\n",
       "|     215|2013-07-26 00:00:...|             5925|         CLOSED|\n",
       "|     224|2013-07-26 00:00:...|            11938|         CLOSED|\n",
       "|     712|2013-07-29 00:00:...|             4372|        PENDING|\n",
       "|     809|2013-07-29 00:00:...|             7725|     PROCESSING|\n",
       "|     888|2013-07-30 00:00:...|             6610|PENDING_PAYMENT|\n",
       "|    1088|2013-07-31 00:00:...|            11139|PENDING_PAYMENT|\n",
       "|    1320|2013-08-01 00:00:...|            12270|       COMPLETE|\n",
       "|    1482|2013-08-01 00:00:...|             8110|        PENDING|\n",
       "|    1495|2013-08-01 00:00:...|              847|SUSPECTED_FRAUD|\n",
       "|    1604|2013-08-02 00:00:...|             6008|       COMPLETE|\n",
       "+--------+--------------------+-----------------+---------------+\n",
       "\n"
      ]
     },
     "execution_count": 7,
     "metadata": {},
     "output_type": "execute_result"
    }
   ],
   "source": [
    "%%sql\n",
    "\n",
    "SELECT DISTINCT * FROM orders LIMIT 10"
   ]
  },
  {
   "cell_type": "code",
   "execution_count": 17,
   "metadata": {},
   "outputs": [
    {
     "data": {
      "text/plain": [
       "lastException: Throwable = null\n"
      ]
     },
     "metadata": {},
     "output_type": "display_data",
     "source": "user"
    },
    {
     "data": {
      "text/plain": [
       "[]"
      ]
     },
     "execution_count": 17,
     "metadata": {},
     "output_type": "execute_result"
    }
   ],
   "source": [
    "spark.sql(\"USE itv002461_retail\")"
   ]
  },
  {
   "cell_type": "markdown",
   "metadata": {},
   "source": [
    "* Using Spark SQL with Python or Scala"
   ]
  },
  {
   "cell_type": "code",
   "execution_count": 18,
   "metadata": {},
   "outputs": [
    {
     "name": "stdout",
     "output_type": "stream",
     "text": [
      "+--------+--------------------+-----------------+---------------+\n",
      "|order_id|          order_date|order_customer_id|   order_status|\n",
      "+--------+--------------------+-----------------+---------------+\n",
      "|       1|2013-07-25 00:00:...|            11599|         CLOSED|\n",
      "|       2|2013-07-25 00:00:...|              256|PENDING_PAYMENT|\n",
      "|       3|2013-07-25 00:00:...|            12111|       COMPLETE|\n",
      "|       4|2013-07-25 00:00:...|             8827|         CLOSED|\n",
      "|       5|2013-07-25 00:00:...|            11318|       COMPLETE|\n",
      "|       6|2013-07-25 00:00:...|             7130|       COMPLETE|\n",
      "|       7|2013-07-25 00:00:...|             4530|       COMPLETE|\n",
      "|       8|2013-07-25 00:00:...|             2911|     PROCESSING|\n",
      "|       9|2013-07-25 00:00:...|             5657|PENDING_PAYMENT|\n",
      "|      10|2013-07-25 00:00:...|             5648|PENDING_PAYMENT|\n",
      "|      11|2013-07-25 00:00:...|              918| PAYMENT_REVIEW|\n",
      "|      12|2013-07-25 00:00:...|             1837|         CLOSED|\n",
      "|      13|2013-07-25 00:00:...|             9149|PENDING_PAYMENT|\n",
      "|      14|2013-07-25 00:00:...|             9842|     PROCESSING|\n",
      "|      15|2013-07-25 00:00:...|             2568|       COMPLETE|\n",
      "|      16|2013-07-25 00:00:...|             7276|PENDING_PAYMENT|\n",
      "|      17|2013-07-25 00:00:...|             2667|       COMPLETE|\n",
      "|      18|2013-07-25 00:00:...|             1205|         CLOSED|\n",
      "|      19|2013-07-25 00:00:...|             9488|PENDING_PAYMENT|\n",
      "|      20|2013-07-25 00:00:...|             9198|     PROCESSING|\n",
      "+--------+--------------------+-----------------+---------------+\n",
      "only showing top 20 rows\n",
      "\n"
     ]
    }
   ],
   "source": [
    "spark.sql(\"SELECT * FROM orders\").show()"
   ]
  },
  {
   "cell_type": "code",
   "execution_count": 19,
   "metadata": {},
   "outputs": [
    {
     "name": "stdout",
     "output_type": "stream",
     "text": [
      "+-----------------+---------+-------+\n",
      "|         col_name|data_type|comment|\n",
      "+-----------------+---------+-------+\n",
      "|         order_id|      int|   null|\n",
      "|       order_date|   string|   null|\n",
      "|order_customer_id|      int|   null|\n",
      "|     order_status|   string|   null|\n",
      "+-----------------+---------+-------+\n",
      "\n"
     ]
    }
   ],
   "source": [
    "spark.sql(\"DESCRIBE orders\").show()"
   ]
  },
  {
   "cell_type": "code",
   "execution_count": 20,
   "metadata": {},
   "outputs": [
    {
     "name": "stdout",
     "output_type": "stream",
     "text": [
      "+-----------------+--------------------+---------------+\n",
      "|order_customer_id|          order_date|   order_status|\n",
      "+-----------------+--------------------+---------------+\n",
      "|            11599|2013-07-25 00:00:...|         CLOSED|\n",
      "|              256|2013-07-25 00:00:...|PENDING_PAYMENT|\n",
      "|            12111|2013-07-25 00:00:...|       COMPLETE|\n",
      "|             8827|2013-07-25 00:00:...|         CLOSED|\n",
      "|            11318|2013-07-25 00:00:...|       COMPLETE|\n",
      "|             7130|2013-07-25 00:00:...|       COMPLETE|\n",
      "|             4530|2013-07-25 00:00:...|       COMPLETE|\n",
      "|             2911|2013-07-25 00:00:...|     PROCESSING|\n",
      "|             5657|2013-07-25 00:00:...|PENDING_PAYMENT|\n",
      "|             5648|2013-07-25 00:00:...|PENDING_PAYMENT|\n",
      "|              918|2013-07-25 00:00:...| PAYMENT_REVIEW|\n",
      "|             1837|2013-07-25 00:00:...|         CLOSED|\n",
      "|             9149|2013-07-25 00:00:...|PENDING_PAYMENT|\n",
      "|             9842|2013-07-25 00:00:...|     PROCESSING|\n",
      "|             2568|2013-07-25 00:00:...|       COMPLETE|\n",
      "|             7276|2013-07-25 00:00:...|PENDING_PAYMENT|\n",
      "|             2667|2013-07-25 00:00:...|       COMPLETE|\n",
      "|             1205|2013-07-25 00:00:...|         CLOSED|\n",
      "|             9488|2013-07-25 00:00:...|PENDING_PAYMENT|\n",
      "|             9198|2013-07-25 00:00:...|     PROCESSING|\n",
      "+-----------------+--------------------+---------------+\n",
      "only showing top 20 rows\n",
      "\n"
     ]
    }
   ],
   "source": [
    "spark.sql(\"SELECT order_customer_id, order_date, order_status FROM orders\").show()"
   ]
  },
  {
   "cell_type": "code",
   "execution_count": 21,
   "metadata": {},
   "outputs": [
    {
     "name": "stdout",
     "output_type": "stream",
     "text": [
      "+-----------------+---------------------------------------------------+---------------+\n",
      "|order_customer_id|date_format(CAST(order_date AS TIMESTAMP), yyyy-MM)|   order_status|\n",
      "+-----------------+---------------------------------------------------+---------------+\n",
      "|            11599|                                            2013-07|         CLOSED|\n",
      "|              256|                                            2013-07|PENDING_PAYMENT|\n",
      "|            12111|                                            2013-07|       COMPLETE|\n",
      "|             8827|                                            2013-07|         CLOSED|\n",
      "|            11318|                                            2013-07|       COMPLETE|\n",
      "|             7130|                                            2013-07|       COMPLETE|\n",
      "|             4530|                                            2013-07|       COMPLETE|\n",
      "|             2911|                                            2013-07|     PROCESSING|\n",
      "|             5657|                                            2013-07|PENDING_PAYMENT|\n",
      "|             5648|                                            2013-07|PENDING_PAYMENT|\n",
      "|              918|                                            2013-07| PAYMENT_REVIEW|\n",
      "|             1837|                                            2013-07|         CLOSED|\n",
      "|             9149|                                            2013-07|PENDING_PAYMENT|\n",
      "|             9842|                                            2013-07|     PROCESSING|\n",
      "|             2568|                                            2013-07|       COMPLETE|\n",
      "|             7276|                                            2013-07|PENDING_PAYMENT|\n",
      "|             2667|                                            2013-07|       COMPLETE|\n",
      "|             1205|                                            2013-07|         CLOSED|\n",
      "|             9488|                                            2013-07|PENDING_PAYMENT|\n",
      "|             9198|                                            2013-07|     PROCESSING|\n",
      "+-----------------+---------------------------------------------------+---------------+\n",
      "only showing top 20 rows\n",
      "\n"
     ]
    }
   ],
   "source": [
    "spark.sql(\"\"\"\n",
    "SELECT order_customer_id, \n",
    "    date_format(order_date, 'yyyy-MM'), \n",
    "    order_status \n",
    "FROM orders\"\"\").show()"
   ]
  },
  {
   "cell_type": "code",
   "execution_count": 22,
   "metadata": {},
   "outputs": [
    {
     "name": "stdout",
     "output_type": "stream",
     "text": [
      "+-----------------+-----------+---------------+\n",
      "|order_customer_id|order_month|   order_status|\n",
      "+-----------------+-----------+---------------+\n",
      "|            11599|    2013-07|         CLOSED|\n",
      "|              256|    2013-07|PENDING_PAYMENT|\n",
      "|            12111|    2013-07|       COMPLETE|\n",
      "|             8827|    2013-07|         CLOSED|\n",
      "|            11318|    2013-07|       COMPLETE|\n",
      "|             7130|    2013-07|       COMPLETE|\n",
      "|             4530|    2013-07|       COMPLETE|\n",
      "|             2911|    2013-07|     PROCESSING|\n",
      "|             5657|    2013-07|PENDING_PAYMENT|\n",
      "|             5648|    2013-07|PENDING_PAYMENT|\n",
      "|              918|    2013-07| PAYMENT_REVIEW|\n",
      "|             1837|    2013-07|         CLOSED|\n",
      "|             9149|    2013-07|PENDING_PAYMENT|\n",
      "|             9842|    2013-07|     PROCESSING|\n",
      "|             2568|    2013-07|       COMPLETE|\n",
      "|             7276|    2013-07|PENDING_PAYMENT|\n",
      "|             2667|    2013-07|       COMPLETE|\n",
      "|             1205|    2013-07|         CLOSED|\n",
      "|             9488|    2013-07|PENDING_PAYMENT|\n",
      "|             9198|    2013-07|     PROCESSING|\n",
      "+-----------------+-----------+---------------+\n",
      "only showing top 20 rows\n",
      "\n"
     ]
    }
   ],
   "source": [
    "spark.sql(\"\"\"\n",
    "SELECT order_customer_id, \n",
    "    date_format(order_date, 'yyyy-MM') AS order_month, \n",
    "    order_status \n",
    "FROM orders\n",
    "\"\"\").show()"
   ]
  },
  {
   "cell_type": "code",
   "execution_count": 23,
   "metadata": {},
   "outputs": [
    {
     "name": "stdout",
     "output_type": "stream",
     "text": [
      "+---------------+\n",
      "|   order_status|\n",
      "+---------------+\n",
      "|PENDING_PAYMENT|\n",
      "|       COMPLETE|\n",
      "|        ON_HOLD|\n",
      "| PAYMENT_REVIEW|\n",
      "|     PROCESSING|\n",
      "|         CLOSED|\n",
      "|SUSPECTED_FRAUD|\n",
      "|        PENDING|\n",
      "|       CANCELED|\n",
      "+---------------+\n",
      "\n"
     ]
    }
   ],
   "source": [
    "spark.sql(\"SELECT DISTINCT order_status FROM orders\").show()"
   ]
  },
  {
   "cell_type": "code",
   "execution_count": 24,
   "metadata": {},
   "outputs": [
    {
     "name": "stdout",
     "output_type": "stream",
     "text": [
      "+--------+--------------------+-----------------+---------------+\n",
      "|order_id|          order_date|order_customer_id|   order_status|\n",
      "+--------+--------------------+-----------------+---------------+\n",
      "|     189|2013-07-26 00:00:...|            10177|        PENDING|\n",
      "|     379|2013-07-27 00:00:...|             8735|PENDING_PAYMENT|\n",
      "|     440|2013-07-27 00:00:...|             7290|       COMPLETE|\n",
      "|     471|2013-07-27 00:00:...|            10861|        PENDING|\n",
      "|     599|2013-07-28 00:00:...|             8005|       COMPLETE|\n",
      "|     665|2013-07-28 00:00:...|             5648|        ON_HOLD|\n",
      "|     736|2013-07-29 00:00:...|             8536|       COMPLETE|\n",
      "|     974|2013-07-30 00:00:...|             6413|         CLOSED|\n",
      "|    1052|2013-07-30 00:00:...|              464|     PROCESSING|\n",
      "|    1175|2013-07-31 00:00:...|             1330|       COMPLETE|\n",
      "|    1241|2013-07-31 00:00:...|             7430|       COMPLETE|\n",
      "|    1252|2013-07-31 00:00:...|            10504|        PENDING|\n",
      "|    1296|2013-07-31 00:00:...|              589|         CLOSED|\n",
      "|    1547|2013-08-02 00:00:...|             9462|       COMPLETE|\n",
      "|    1714|2013-08-02 00:00:...|            10107|PENDING_PAYMENT|\n",
      "|    2895|2013-08-10 00:00:...|            11697|        PENDING|\n",
      "|    2924|2013-08-10 00:00:...|             4316|PENDING_PAYMENT|\n",
      "|    2969|2013-08-10 00:00:...|             8603|       COMPLETE|\n",
      "|    3025|2013-08-11 00:00:...|             7410|         CLOSED|\n",
      "|    3265|2013-08-12 00:00:...|            11334|       COMPLETE|\n",
      "+--------+--------------------+-----------------+---------------+\n",
      "only showing top 20 rows\n",
      "\n"
     ]
    }
   ],
   "source": [
    "spark.sql(\"SELECT DISTINCT * FROM orders\").show()"
   ]
  },
  {
   "cell_type": "code",
   "execution_count": null,
   "metadata": {},
   "outputs": [],
   "source": []
  }
 ],
 "metadata": {
  "celltoolbar": "Tags",
  "kernelspec": {
   "display_name": "Spark 2 - Scala",
   "language": "scala",
   "name": "spark_2_scala"
  },
  "language_info": {
   "codemirror_mode": "text/x-scala",
   "file_extension": ".scala",
   "mimetype": "text/x-scala",
   "name": "scala",
   "pygments_lexer": "scala",
   "version": "2.11.12"
  }
 },
 "nbformat": 4,
 "nbformat_minor": 4
}
