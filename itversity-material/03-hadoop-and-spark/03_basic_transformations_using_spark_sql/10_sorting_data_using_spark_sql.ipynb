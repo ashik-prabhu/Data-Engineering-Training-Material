{
 "cells": [
  {
   "cell_type": "markdown",
   "metadata": {},
   "source": [
    "## Sorting Data\n",
    "\n",
    "Let us understand how to sort the data using **Spark SQL**."
   ]
  },
  {
   "cell_type": "markdown",
   "metadata": {},
   "source": [
    "Let us start spark context for this Notebook so that we can execute the code provided. You can sign up for our [10 node state of the art cluster/labs](https://labs.itversity.com/plans) to learn Spark SQL using our unique integrated LMS."
   ]
  },
  {
   "cell_type": "code",
   "execution_count": 1,
   "metadata": {},
   "outputs": [
    {
     "data": {
      "text/plain": [
       "username = itv002461\n"
      ]
     },
     "metadata": {},
     "output_type": "display_data",
     "source": "user"
    },
    {
     "data": {
      "text/plain": [
       "itv002461"
      ]
     },
     "execution_count": 1,
     "metadata": {},
     "output_type": "execute_result"
    }
   ],
   "source": [
    "val username = System.getProperty(\"user.name\")"
   ]
  },
  {
   "cell_type": "code",
   "execution_count": 2,
   "metadata": {},
   "outputs": [
    {
     "data": {
      "text/plain": [
       "username = itv002461\n",
       "spark = org.apache.spark.sql.SparkSession@1be6c816\n"
      ]
     },
     "metadata": {},
     "output_type": "display_data",
     "source": "user"
    },
    {
     "data": {
      "text/plain": [
       "org.apache.spark.sql.SparkSession@1be6c816"
      ]
     },
     "execution_count": 2,
     "metadata": {},
     "output_type": "execute_result"
    }
   ],
   "source": [
    "import org.apache.spark.sql.SparkSession\n",
    "\n",
    "val username = System.getProperty(\"user.name\")\n",
    "val spark = SparkSession.\n",
    "    builder.\n",
    "    config(\"spark.ui.port\", \"0\").\n",
    "    config(\"spark.sql.warehouse.dir\", s\"/user/${username}/warehouse\").\n",
    "    enableHiveSupport.\n",
    "    appName(s\"${username} | Spark SQL - Basic Transformations\").\n",
    "    master(\"yarn\").\n",
    "    getOrCreate"
   ]
  },
  {
   "cell_type": "markdown",
   "metadata": {},
   "source": [
    "If you are going to use CLIs, you can use Spark SQL using one of the 3 approaches.\n",
    "\n",
    "**Using Spark SQL**\n",
    "\n",
    "```\n",
    "spark2-sql \\\n",
    "    --master yarn \\\n",
    "    --conf spark.ui.port=0 \\\n",
    "    --conf spark.sql.warehouse.dir=/user/${USER}/warehouse\n",
    "```\n",
    "\n",
    "**Using Scala**\n",
    "\n",
    "```\n",
    "spark2-shell \\\n",
    "    --master yarn \\\n",
    "    --conf spark.ui.port=0 \\\n",
    "    --conf spark.sql.warehouse.dir=/user/${USER}/warehouse\n",
    "```\n",
    "\n",
    "**Using Pyspark**\n",
    "\n",
    "```\n",
    "pyspark2 \\\n",
    "    --master yarn \\\n",
    "    --conf spark.ui.port=0 \\\n",
    "    --conf spark.sql.warehouse.dir=/user/${USER}/warehouse\n",
    "```"
   ]
  },
  {
   "cell_type": "markdown",
   "metadata": {},
   "source": [
    "* We can perform global aggregations as well as aggregations by key.\n",
    "* Global Aggregations\n",
    "  * Get total number of orders.\n",
    "  * Get revenue for a given order id.\n",
    "  * Get number of records with order_status either COMPLETED or CLOSED.\n",
    "* Aggregations by key - using `GROUP BY`\n",
    "  * Get number of orders by date or status.\n",
    "  * Get revenue for each order_id.\n",
    "  * Get daily product revenue (using order date and product id as keys).\n",
    "* We can also use `HAVING` clause to apply filtering on top of aggregated data.\n",
    "  * Get daily product revenue where revenue is greater than $500 (using order date and product id as keys).\n",
    "* Rules while using `GROUP BY`.\n",
    "  * We can have the columns which are specified as part of `GROUP BY` in `SELECT` clause.\n",
    "  * On top of those, we can have derived columns using aggregate functions.\n",
    "  * We cannot have any other columns that are not used as part of `GROUP BY` on derived column using non aggregate functions.\n",
    "  * We will not be able to use aggregate functions or aliases used in the select clause as part of the where clause.\n",
    "  * If we want to filter based on aggregated results, then we can leverage `HAVING` on top of `GROUP BY` (specifying `WHERE` is not an option)\n",
    "* Typical query execution - FROM -> WHERE -> GROUP BY -> SELECT"
   ]
  },
  {
   "cell_type": "markdown",
   "metadata": {},
   "source": [
    "* We typically perform sorting as final step.\n",
    "* Sorting can be done either by using one field or multiple fields.\n",
    "* We can sort the data either in ascending order or descending order by using column or expression.\n",
    "* By default, the sorting order is ascendig and we can change it to descending by using `DESC`."
   ]
  },
  {
   "cell_type": "code",
   "execution_count": 4,
   "metadata": {},
   "outputs": [
    {
     "data": {
      "text/plain": [
       "++\n",
       "||\n",
       "++\n",
       "++\n",
       "\n"
      ]
     },
     "execution_count": 4,
     "metadata": {},
     "output_type": "execute_result"
    }
   ],
   "source": [
    "%%sql\n",
    "use itv002461_retail"
   ]
  },
  {
   "cell_type": "code",
   "execution_count": 5,
   "metadata": {},
   "outputs": [
    {
     "data": {
      "text/plain": [
       "|   35158|2014-02-26 00:00:...|                3|       C...\n"
      ]
     },
     "metadata": {},
     "output_type": "display_data",
     "source": "user"
    },
    {
     "data": {
      "text/plain": [
       "+--------+--------------------+-----------------+---------------+\n",
       "|order_id|          order_date|order_customer_id|   order_status|\n",
       "+--------+--------------------+-----------------+---------------+\n",
       "|   22945|2013-12-13 00:00:...|                1|       COMPLETE|\n",
       "|   67863|2013-11-30 00:00:...|                2|       COMPLETE|\n",
       "|   33865|2014-02-18 00:00:...|                2|       COMPLETE|\n",
       "|   15192|2013-10-29 00:00:...|                2|PENDING_PAYMENT|\n",
       "|   57963|2013-08-02 00:00:...|                2|        ON_HOLD|\n",
       "|   46399|2014-05-09 00:00:...|                3|     PROCESSING|\n",
       "|   56178|2014-07-15 00:00:...|                3|        PENDING|\n",
       "|   35158|2014-02-26 00:00:...|                3|       COMPLETE|\n",
       "|   57617|2014-07-24 00:00:...|                3|       COMPLETE|\n",
       "|   23662|2013-12-19 00:00:...|                3|       COMPLETE|\n",
       "+--------+--------------------+-----------------+---------------+\n",
       "\n"
      ]
     },
     "execution_count": 5,
     "metadata": {},
     "output_type": "execute_result"
    }
   ],
   "source": [
    "%%sql\n",
    "\n",
    "SELECT * FROM orders\n",
    "ORDER BY order_customer_id\n",
    "LIMIT 10"
   ]
  },
  {
   "cell_type": "code",
   "execution_count": 6,
   "metadata": {},
   "outputs": [
    {
     "data": {
      "text/plain": [
       "|   23662|2013-12-19 00:00:...|                3|       C...\n"
      ]
     },
     "metadata": {},
     "output_type": "display_data",
     "source": "user"
    },
    {
     "data": {
      "text/plain": [
       "+--------+--------------------+-----------------+---------------+\n",
       "|order_id|          order_date|order_customer_id|   order_status|\n",
       "+--------+--------------------+-----------------+---------------+\n",
       "|   22945|2013-12-13 00:00:...|                1|       COMPLETE|\n",
       "|   57963|2013-08-02 00:00:...|                2|        ON_HOLD|\n",
       "|   15192|2013-10-29 00:00:...|                2|PENDING_PAYMENT|\n",
       "|   67863|2013-11-30 00:00:...|                2|       COMPLETE|\n",
       "|   33865|2014-02-18 00:00:...|                2|       COMPLETE|\n",
       "|   22646|2013-12-11 00:00:...|                3|       COMPLETE|\n",
       "|   61453|2013-12-14 00:00:...|                3|       COMPLETE|\n",
       "|   23662|2013-12-19 00:00:...|                3|       COMPLETE|\n",
       "|   35158|2014-02-26 00:00:...|                3|       COMPLETE|\n",
       "|   46399|2014-05-09 00:00:...|                3|     PROCESSING|\n",
       "+--------+--------------------+-----------------+---------------+\n",
       "\n"
      ]
     },
     "execution_count": 6,
     "metadata": {},
     "output_type": "execute_result"
    }
   ],
   "source": [
    "%%sql\n",
    "\n",
    "SELECT * FROM orders\n",
    "ORDER BY order_customer_id,\n",
    "    order_date\n",
    "LIMIT 10"
   ]
  },
  {
   "cell_type": "code",
   "execution_count": 7,
   "metadata": {},
   "outputs": [
    {
     "data": {
      "text/plain": [
       "|   46399|2014-05-09 00:00:...|                3|     PRO...\n"
      ]
     },
     "metadata": {},
     "output_type": "display_data",
     "source": "user"
    },
    {
     "data": {
      "text/plain": [
       "+--------+--------------------+-----------------+---------------+\n",
       "|order_id|          order_date|order_customer_id|   order_status|\n",
       "+--------+--------------------+-----------------+---------------+\n",
       "|   22945|2013-12-13 00:00:...|                1|       COMPLETE|\n",
       "|   33865|2014-02-18 00:00:...|                2|       COMPLETE|\n",
       "|   67863|2013-11-30 00:00:...|                2|       COMPLETE|\n",
       "|   15192|2013-10-29 00:00:...|                2|PENDING_PAYMENT|\n",
       "|   57963|2013-08-02 00:00:...|                2|        ON_HOLD|\n",
       "|   57617|2014-07-24 00:00:...|                3|       COMPLETE|\n",
       "|   56178|2014-07-15 00:00:...|                3|        PENDING|\n",
       "|   46399|2014-05-09 00:00:...|                3|     PROCESSING|\n",
       "|   35158|2014-02-26 00:00:...|                3|       COMPLETE|\n",
       "|   23662|2013-12-19 00:00:...|                3|       COMPLETE|\n",
       "+--------+--------------------+-----------------+---------------+\n",
       "\n"
      ]
     },
     "execution_count": 7,
     "metadata": {},
     "output_type": "execute_result"
    }
   ],
   "source": [
    "%%sql\n",
    "\n",
    "SELECT * FROM orders\n",
    "ORDER BY order_customer_id,\n",
    "    order_date DESC\n",
    "LIMIT 10"
   ]
  },
  {
   "cell_type": "code",
   "execution_count": 8,
   "metadata": {},
   "outputs": [
    {
     "data": {
      "text/plain": [
       "+--------------------+------...\n"
      ]
     },
     "metadata": {},
     "output_type": "display_data",
     "source": "user"
    },
    {
     "data": {
      "text/plain": [
       "+--------------------+---------------------+-------+\n",
       "|          order_date|order_item_product_id|revenue|\n",
       "+--------------------+---------------------+-------+\n",
       "|2013-07-25 00:00:...|                 1004|5599.72|\n",
       "|2013-07-25 00:00:...|                  191|5099.49|\n",
       "|2013-07-25 00:00:...|                  957| 4499.7|\n",
       "|2013-07-25 00:00:...|                  365|3359.44|\n",
       "|2013-07-25 00:00:...|                 1073|2999.85|\n",
       "|2013-07-25 00:00:...|                 1014|2798.88|\n",
       "|2013-07-25 00:00:...|                  403|1949.85|\n",
       "|2013-07-25 00:00:...|                  502| 1650.0|\n",
       "|2013-07-25 00:00:...|                  627|1079.73|\n",
       "|2013-07-25 00:00:...|                  226| 599.99|\n",
       "+--------------------+---------------------+-------+\n",
       "\n"
      ]
     },
     "execution_count": 8,
     "metadata": {},
     "output_type": "execute_result"
    }
   ],
   "source": [
    "%%sql\n",
    "\n",
    "SELECT o.order_date,\n",
    "    oi.order_item_product_id,\n",
    "    round(sum(oi.order_item_subtotal), 2) AS revenue\n",
    "FROM orders o JOIN order_items oi\n",
    "    ON o.order_id = oi.order_item_order_id\n",
    "WHERE o.order_status IN ('COMPLETE', 'CLOSED')\n",
    "GROUP BY o.order_date,\n",
    "    oi.order_item_product_id\n",
    "ORDER BY o.order_date,\n",
    "    revenue DESC\n",
    "LIMIT 10"
   ]
  },
  {
   "cell_type": "markdown",
   "metadata": {},
   "source": [
    "* Using Spark SQL with Python or Scala"
   ]
  },
  {
   "cell_type": "code",
   "execution_count": 9,
   "metadata": {},
   "outputs": [
    {
     "name": "stdout",
     "output_type": "stream",
     "text": [
      "+--------+--------------------+-----------------+---------------+\n",
      "|order_id|          order_date|order_customer_id|   order_status|\n",
      "+--------+--------------------+-----------------+---------------+\n",
      "|   22945|2013-12-13 00:00:...|                1|       COMPLETE|\n",
      "|   57963|2013-08-02 00:00:...|                2|        ON_HOLD|\n",
      "|   67863|2013-11-30 00:00:...|                2|       COMPLETE|\n",
      "|   33865|2014-02-18 00:00:...|                2|       COMPLETE|\n",
      "|   15192|2013-10-29 00:00:...|                2|PENDING_PAYMENT|\n",
      "|   22646|2013-12-11 00:00:...|                3|       COMPLETE|\n",
      "|   56178|2014-07-15 00:00:...|                3|        PENDING|\n",
      "|   57617|2014-07-24 00:00:...|                3|       COMPLETE|\n",
      "|   61453|2013-12-14 00:00:...|                3|       COMPLETE|\n",
      "|   23662|2013-12-19 00:00:...|                3|       COMPLETE|\n",
      "|   35158|2014-02-26 00:00:...|                3|       COMPLETE|\n",
      "|   46399|2014-05-09 00:00:...|                3|     PROCESSING|\n",
      "|   37878|2014-03-15 00:00:...|                4|       COMPLETE|\n",
      "|   49339|2014-05-28 00:00:...|                4|       COMPLETE|\n",
      "|    9023|2013-09-19 00:00:...|                4|       COMPLETE|\n",
      "|    9704|2013-09-24 00:00:...|                4|       COMPLETE|\n",
      "|   17253|2013-11-09 00:00:...|                4|PENDING_PAYMENT|\n",
      "|   51157|2014-06-10 00:00:...|                4|         CLOSED|\n",
      "|   45832|2014-05-05 00:00:...|                5|PENDING_PAYMENT|\n",
      "|   36472|2014-03-06 00:00:...|                5|     PROCESSING|\n",
      "+--------+--------------------+-----------------+---------------+\n",
      "only showing top 20 rows\n",
      "\n"
     ]
    }
   ],
   "source": [
    "spark.sql(\"\"\"\n",
    "SELECT * FROM orders\n",
    "ORDER BY order_customer_id\n",
    "\"\"\").show()"
   ]
  },
  {
   "cell_type": "code",
   "execution_count": 10,
   "metadata": {},
   "outputs": [
    {
     "name": "stdout",
     "output_type": "stream",
     "text": [
      "+--------+--------------------+-----------------+---------------+\n",
      "|order_id|          order_date|order_customer_id|   order_status|\n",
      "+--------+--------------------+-----------------+---------------+\n",
      "|   22945|2013-12-13 00:00:...|                1|       COMPLETE|\n",
      "|   57963|2013-08-02 00:00:...|                2|        ON_HOLD|\n",
      "|   15192|2013-10-29 00:00:...|                2|PENDING_PAYMENT|\n",
      "|   67863|2013-11-30 00:00:...|                2|       COMPLETE|\n",
      "|   33865|2014-02-18 00:00:...|                2|       COMPLETE|\n",
      "|   22646|2013-12-11 00:00:...|                3|       COMPLETE|\n",
      "|   61453|2013-12-14 00:00:...|                3|       COMPLETE|\n",
      "|   23662|2013-12-19 00:00:...|                3|       COMPLETE|\n",
      "|   35158|2014-02-26 00:00:...|                3|       COMPLETE|\n",
      "|   46399|2014-05-09 00:00:...|                3|     PROCESSING|\n",
      "|   56178|2014-07-15 00:00:...|                3|        PENDING|\n",
      "|   57617|2014-07-24 00:00:...|                3|       COMPLETE|\n",
      "|    9023|2013-09-19 00:00:...|                4|       COMPLETE|\n",
      "|    9704|2013-09-24 00:00:...|                4|       COMPLETE|\n",
      "|   17253|2013-11-09 00:00:...|                4|PENDING_PAYMENT|\n",
      "|   37878|2014-03-15 00:00:...|                4|       COMPLETE|\n",
      "|   49339|2014-05-28 00:00:...|                4|       COMPLETE|\n",
      "|   51157|2014-06-10 00:00:...|                4|         CLOSED|\n",
      "|   13705|2013-10-18 00:00:...|                5|       COMPLETE|\n",
      "|   36472|2014-03-06 00:00:...|                5|     PROCESSING|\n",
      "+--------+--------------------+-----------------+---------------+\n",
      "only showing top 20 rows\n",
      "\n"
     ]
    }
   ],
   "source": [
    "spark.sql(\"\"\"\n",
    "SELECT * FROM orders\n",
    "ORDER BY order_customer_id,\n",
    "    order_date\n",
    "\"\"\").show()"
   ]
  },
  {
   "cell_type": "code",
   "execution_count": 11,
   "metadata": {},
   "outputs": [
    {
     "name": "stdout",
     "output_type": "stream",
     "text": [
      "+--------+--------------------+-----------------+---------------+\n",
      "|order_id|          order_date|order_customer_id|   order_status|\n",
      "+--------+--------------------+-----------------+---------------+\n",
      "|   22945|2013-12-13 00:00:...|                1|       COMPLETE|\n",
      "|   33865|2014-02-18 00:00:...|                2|       COMPLETE|\n",
      "|   67863|2013-11-30 00:00:...|                2|       COMPLETE|\n",
      "|   15192|2013-10-29 00:00:...|                2|PENDING_PAYMENT|\n",
      "|   57963|2013-08-02 00:00:...|                2|        ON_HOLD|\n",
      "|   57617|2014-07-24 00:00:...|                3|       COMPLETE|\n",
      "|   56178|2014-07-15 00:00:...|                3|        PENDING|\n",
      "|   46399|2014-05-09 00:00:...|                3|     PROCESSING|\n",
      "|   35158|2014-02-26 00:00:...|                3|       COMPLETE|\n",
      "|   23662|2013-12-19 00:00:...|                3|       COMPLETE|\n",
      "|   61453|2013-12-14 00:00:...|                3|       COMPLETE|\n",
      "|   22646|2013-12-11 00:00:...|                3|       COMPLETE|\n",
      "|   51157|2014-06-10 00:00:...|                4|         CLOSED|\n",
      "|   49339|2014-05-28 00:00:...|                4|       COMPLETE|\n",
      "|   37878|2014-03-15 00:00:...|                4|       COMPLETE|\n",
      "|   17253|2013-11-09 00:00:...|                4|PENDING_PAYMENT|\n",
      "|    9704|2013-09-24 00:00:...|                4|       COMPLETE|\n",
      "|    9023|2013-09-19 00:00:...|                4|       COMPLETE|\n",
      "|   45832|2014-05-05 00:00:...|                5|PENDING_PAYMENT|\n",
      "|   41333|2014-04-05 00:00:...|                5|       COMPLETE|\n",
      "+--------+--------------------+-----------------+---------------+\n",
      "only showing top 20 rows\n",
      "\n"
     ]
    }
   ],
   "source": [
    "spark.sql(\"\"\"\n",
    "SELECT * FROM orders\n",
    "ORDER BY order_customer_id,\n",
    "    order_date DESC\n",
    "\"\"\").show()"
   ]
  },
  {
   "cell_type": "code",
   "execution_count": 12,
   "metadata": {},
   "outputs": [
    {
     "name": "stdout",
     "output_type": "stream",
     "text": [
      "+--------------------+---------------------+-------+\n",
      "|          order_date|order_item_product_id|revenue|\n",
      "+--------------------+---------------------+-------+\n",
      "|2013-07-25 00:00:...|                 1004|5599.72|\n",
      "|2013-07-25 00:00:...|                  191|5099.49|\n",
      "|2013-07-25 00:00:...|                  957| 4499.7|\n",
      "|2013-07-25 00:00:...|                  365|3359.44|\n",
      "|2013-07-25 00:00:...|                 1073|2999.85|\n",
      "|2013-07-25 00:00:...|                 1014|2798.88|\n",
      "|2013-07-25 00:00:...|                  403|1949.85|\n",
      "|2013-07-25 00:00:...|                  502| 1650.0|\n",
      "|2013-07-25 00:00:...|                  627|1079.73|\n",
      "|2013-07-25 00:00:...|                  226| 599.99|\n",
      "|2013-07-25 00:00:...|                   24| 319.96|\n",
      "|2013-07-25 00:00:...|                  821| 207.96|\n",
      "|2013-07-25 00:00:...|                  625| 199.99|\n",
      "|2013-07-25 00:00:...|                  705| 119.99|\n",
      "|2013-07-25 00:00:...|                  572| 119.97|\n",
      "|2013-07-25 00:00:...|                  666| 109.99|\n",
      "|2013-07-25 00:00:...|                  725|  108.0|\n",
      "|2013-07-25 00:00:...|                  134|  100.0|\n",
      "|2013-07-25 00:00:...|                  906|  99.96|\n",
      "|2013-07-25 00:00:...|                  828|  95.97|\n",
      "+--------------------+---------------------+-------+\n",
      "only showing top 20 rows\n",
      "\n"
     ]
    }
   ],
   "source": [
    "spark.sql(\"\"\"\n",
    "SELECT o.order_date,\n",
    "    oi.order_item_product_id,\n",
    "    round(sum(oi.order_item_subtotal), 2) AS revenue\n",
    "FROM orders o JOIN order_items oi\n",
    "    ON o.order_id = oi.order_item_order_id\n",
    "WHERE o.order_status IN ('COMPLETE', 'CLOSED')\n",
    "GROUP BY o.order_date,\n",
    "    oi.order_item_product_id\n",
    "ORDER BY o.order_date,\n",
    "    revenue DESC\n",
    "\"\"\").show()"
   ]
  },
  {
   "cell_type": "code",
   "execution_count": null,
   "metadata": {},
   "outputs": [],
   "source": []
  },
  {
   "cell_type": "code",
   "execution_count": null,
   "metadata": {},
   "outputs": [],
   "source": []
  },
  {
   "cell_type": "code",
   "execution_count": null,
   "metadata": {},
   "outputs": [],
   "source": []
  }
 ],
 "metadata": {
  "celltoolbar": "Tags",
  "kernelspec": {
   "display_name": "Spark 2 - Scala",
   "language": "scala",
   "name": "spark_2_scala"
  },
  "language_info": {
   "codemirror_mode": "text/x-scala",
   "file_extension": ".scala",
   "mimetype": "text/x-scala",
   "name": "scala",
   "pygments_lexer": "scala",
   "version": "2.11.12"
  }
 },
 "nbformat": 4,
 "nbformat_minor": 4
}
