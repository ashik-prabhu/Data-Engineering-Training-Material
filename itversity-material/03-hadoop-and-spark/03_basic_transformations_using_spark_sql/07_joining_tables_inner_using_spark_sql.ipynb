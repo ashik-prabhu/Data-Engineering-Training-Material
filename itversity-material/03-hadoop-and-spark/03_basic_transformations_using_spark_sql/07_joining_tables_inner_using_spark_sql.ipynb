{
 "cells": [
  {
   "cell_type": "markdown",
   "metadata": {},
   "source": [
    "## Joining Tables - Inner\n",
    "\n",
    "Let us understand how to join data from multiple tables."
   ]
  },
  {
   "cell_type": "markdown",
   "metadata": {},
   "source": [
    "Let us start spark context for this Notebook so that we can execute the code provided. You can sign up for our [10 node state of the art cluster/labs](https://labs.itversity.com/plans) to learn Spark SQL using our unique integrated LMS."
   ]
  },
  {
   "cell_type": "code",
   "execution_count": 1,
   "metadata": {},
   "outputs": [
    {
     "data": {
      "text/plain": [
       "username = itv002461\n"
      ]
     },
     "metadata": {},
     "output_type": "display_data",
     "source": "user"
    },
    {
     "data": {
      "text/plain": [
       "itv002461"
      ]
     },
     "execution_count": 1,
     "metadata": {},
     "output_type": "execute_result"
    }
   ],
   "source": [
    "val username = System.getProperty(\"user.name\")"
   ]
  },
  {
   "cell_type": "code",
   "execution_count": 2,
   "metadata": {},
   "outputs": [
    {
     "data": {
      "text/plain": [
       "username = itv002461\n",
       "spark = org.apache.spark.sql.SparkSession@5d0e100f\n"
      ]
     },
     "metadata": {},
     "output_type": "display_data",
     "source": "user"
    },
    {
     "data": {
      "text/plain": [
       "org.apache.spark.sql.SparkSession@5d0e100f"
      ]
     },
     "execution_count": 2,
     "metadata": {},
     "output_type": "execute_result"
    }
   ],
   "source": [
    "import org.apache.spark.sql.SparkSession\n",
    "\n",
    "val username = System.getProperty(\"user.name\")\n",
    "val spark = SparkSession.\n",
    "    builder.\n",
    "    config(\"spark.ui.port\", \"0\").\n",
    "    config(\"spark.sql.warehouse.dir\", s\"/user/${username}/warehouse\").\n",
    "    enableHiveSupport.\n",
    "    appName(s\"${username} | Spark SQL - Basic Transformations\").\n",
    "    master(\"yarn\").\n",
    "    getOrCreate"
   ]
  },
  {
   "cell_type": "markdown",
   "metadata": {},
   "source": [
    "If you are going to use CLIs, you can use Spark SQL using one of the 3 approaches.\n",
    "\n",
    "**Using Spark SQL**\n",
    "\n",
    "```\n",
    "spark2-sql \\\n",
    "    --master yarn \\\n",
    "    --conf spark.ui.port=0 \\\n",
    "    --conf spark.sql.warehouse.dir=/user/${USER}/warehouse\n",
    "```\n",
    "\n",
    "**Using Scala**\n",
    "\n",
    "```\n",
    "spark2-shell \\\n",
    "    --master yarn \\\n",
    "    --conf spark.ui.port=0 \\\n",
    "    --conf spark.sql.warehouse.dir=/user/${USER}/warehouse\n",
    "```\n",
    "\n",
    "**Using Pyspark**\n",
    "\n",
    "```\n",
    "pyspark2 \\\n",
    "    --master yarn \\\n",
    "    --conf spark.ui.port=0 \\\n",
    "    --conf spark.sql.warehouse.dir=/user/${USER}/warehouse\n",
    "```"
   ]
  },
  {
   "cell_type": "markdown",
   "metadata": {},
   "source": [
    "* **Spark SQL** supports ASCII style join (**JOIN with ON**).\n",
    "* There are different types of joins.\n",
    "  * INNER JOIN - Get all the records from both the datasets which satisfies JOIN condition.\n",
    "  * OUTER JOIN - We will get into the details as part of the next topic\n",
    "* Example for INNER JOIN\n",
    "\n",
    "```\n",
    "SELECT o.order_id,\n",
    "    o.order_date,\n",
    "    o.order_status,\n",
    "    oi.order_item_subtotal\n",
    "FROM orders o JOIN order_items oi\n",
    "    ON o.order_id = oi.order_item_order_id\n",
    "LIMIT 10\n",
    "```\n",
    "\n",
    "* We can join more than 2 tables in one query. Here is how it will look like.\n",
    "\n",
    "```\n",
    "SELECT o.order_id,\n",
    "    o.order_date,\n",
    "    o.order_status,\n",
    "    oi.order_item_subtotal\n",
    "FROM orders o JOIN order_items oi\n",
    "    ON o.order_id = oi.order_item_order_id\n",
    "    JOIN products p\n",
    "    ON p.product_id = oi.order_item_product_id\n",
    "LIMIT 10\n",
    "```\n",
    "\n",
    "* If we have to apply additional filters, it is recommended to use WHERE clause. ON clause should only have join conditions.\n",
    "* We can have non equal join conditions as well, but they are not used that often.\n",
    "* Here are some of the examples for INNER JOIN:\n",
    "  * Get order id, date, status and item revenue for all order items.\n",
    "  * Get order id, date, status and item revenue for all order items for all orders where order status is either COMPLETE or CLOSED.\n",
    "  * Get order id, date, status and item revenue for all order items for all orders where order status is either COMPLETE or CLOSED for the orders that are placed in the month of 2014 January."
   ]
  },
  {
   "cell_type": "code",
   "execution_count": 5,
   "metadata": {},
   "outputs": [
    {
     "data": {
      "text/plain": [
       "++\n",
       "||\n",
       "++\n",
       "++\n",
       "\n"
      ]
     },
     "execution_count": 5,
     "metadata": {},
     "output_type": "execute_result"
    }
   ],
   "source": [
    "%%sql\n",
    "\n",
    "USE itv002461_retail"
   ]
  },
  {
   "cell_type": "code",
   "execution_count": 6,
   "metadata": {},
   "outputs": [
    {
     "data": {
      "text/plain": [
       "|   34571|2014-02-23 00:00:...|      ...\n"
      ]
     },
     "metadata": {},
     "output_type": "display_data",
     "source": "user"
    },
    {
     "data": {
      "text/plain": [
       "+--------+--------------------+---------------+-------------------+\n",
       "|order_id|          order_date|   order_status|order_item_subtotal|\n",
       "+--------+--------------------+---------------+-------------------+\n",
       "|   34566|2014-02-23 00:00:...|PENDING_PAYMENT|             179.97|\n",
       "|   34566|2014-02-23 00:00:...|PENDING_PAYMENT|              250.0|\n",
       "|   34570|2014-02-23 00:00:...|         CLOSED|              49.98|\n",
       "|   34570|2014-02-23 00:00:...|         CLOSED|             119.97|\n",
       "|   34570|2014-02-23 00:00:...|         CLOSED|              200.0|\n",
       "|   34570|2014-02-23 00:00:...|         CLOSED|             239.96|\n",
       "|   34571|2014-02-23 00:00:...|         CLOSED|             399.98|\n",
       "|   34571|2014-02-23 00:00:...|         CLOSED|             299.98|\n",
       "|   34571|2014-02-23 00:00:...|         CLOSED|              59.99|\n",
       "|   34571|2014-02-23 00:00:...|         CLOSED|             299.98|\n",
       "+--------+--------------------+---------------+-------------------+\n",
       "\n"
      ]
     },
     "execution_count": 6,
     "metadata": {},
     "output_type": "execute_result"
    }
   ],
   "source": [
    "%%sql\n",
    "\n",
    "SELECT o.order_id,\n",
    "    o.order_date,\n",
    "    o.order_status,\n",
    "    oi.order_item_subtotal\n",
    "FROM orders o JOIN order_items oi\n",
    "    ON o.order_id = oi.order_item_order_id\n",
    "LIMIT 10"
   ]
  },
  {
   "cell_type": "code",
   "execution_count": 7,
   "metadata": {},
   "outputs": [
    {
     "data": {
      "text/plain": [
       "+--------+\n",
       "|count(1)|\n",
       "+--------+\n",
       "|   68883|\n",
       "+--------+\n",
       "\n"
      ]
     },
     "execution_count": 7,
     "metadata": {},
     "output_type": "execute_result"
    }
   ],
   "source": [
    "%%sql\n",
    "\n",
    "SELECT count(1)\n",
    "FROM orders"
   ]
  },
  {
   "cell_type": "code",
   "execution_count": 8,
   "metadata": {},
   "outputs": [
    {
     "data": {
      "text/plain": [
       "+--------+\n",
       "|count(1)|\n",
       "+--------+\n",
       "|  172198|\n",
       "+--------+\n",
       "\n"
      ]
     },
     "execution_count": 8,
     "metadata": {},
     "output_type": "execute_result"
    }
   ],
   "source": [
    "%%sql\n",
    "\n",
    "SELECT count(1)\n",
    "FROM order_items"
   ]
  },
  {
   "cell_type": "code",
   "execution_count": 9,
   "metadata": {},
   "outputs": [
    {
     "data": {
      "text/plain": [
       "|       4|2013-07-25 00:00:...|      ...\n"
      ]
     },
     "metadata": {},
     "output_type": "display_data",
     "source": "user"
    },
    {
     "data": {
      "text/plain": [
       "+--------+--------------------+---------------+-------------------+\n",
       "|order_id|          order_date|   order_status|order_item_subtotal|\n",
       "+--------+--------------------+---------------+-------------------+\n",
       "|       1|2013-07-25 00:00:...|         CLOSED|             299.98|\n",
       "|       2|2013-07-25 00:00:...|PENDING_PAYMENT|             129.99|\n",
       "|       2|2013-07-25 00:00:...|PENDING_PAYMENT|              250.0|\n",
       "|       2|2013-07-25 00:00:...|PENDING_PAYMENT|             199.99|\n",
       "|       4|2013-07-25 00:00:...|         CLOSED|             199.92|\n",
       "|       4|2013-07-25 00:00:...|         CLOSED|              150.0|\n",
       "|       4|2013-07-25 00:00:...|         CLOSED|             299.95|\n",
       "|       4|2013-07-25 00:00:...|         CLOSED|              49.98|\n",
       "|       5|2013-07-25 00:00:...|       COMPLETE|             129.99|\n",
       "|       5|2013-07-25 00:00:...|       COMPLETE|             299.98|\n",
       "+--------+--------------------+---------------+-------------------+\n",
       "\n"
      ]
     },
     "execution_count": 9,
     "metadata": {},
     "output_type": "execute_result"
    }
   ],
   "source": [
    "%%sql\n",
    "\n",
    "SELECT o.order_id,\n",
    "    o.order_date,\n",
    "    o.order_status,\n",
    "    oi.order_item_subtotal\n",
    "FROM orders o JOIN order_items oi\n",
    "    ON o.order_id = oi.order_item_order_id\n",
    "LIMIT 10"
   ]
  },
  {
   "cell_type": "code",
   "execution_count": 10,
   "metadata": {},
   "outputs": [
    {
     "data": {
      "text/plain": [
       "+--------+\n",
       "|count(1)|\n",
       "+--------+\n",
       "|  172198|\n",
       "+--------+\n",
       "\n"
      ]
     },
     "execution_count": 10,
     "metadata": {},
     "output_type": "execute_result"
    }
   ],
   "source": [
    "%%sql\n",
    "\n",
    "SELECT count(1)\n",
    "FROM orders o JOIN order_items oi\n",
    "    ON o.order_id = oi.order_item_order_id"
   ]
  },
  {
   "cell_type": "code",
   "execution_count": 11,
   "metadata": {},
   "outputs": [
    {
     "data": {
      "text/plain": [
       "| ...\n"
      ]
     },
     "metadata": {},
     "output_type": "display_data",
     "source": "user"
    },
    {
     "data": {
      "text/plain": [
       "+--------+--------------------+------------+-------------------+\n",
       "|order_id|          order_date|order_status|order_item_subtotal|\n",
       "+--------+--------------------+------------+-------------------+\n",
       "|       1|2013-07-25 00:00:...|      CLOSED|             299.98|\n",
       "|       4|2013-07-25 00:00:...|      CLOSED|             199.92|\n",
       "|       4|2013-07-25 00:00:...|      CLOSED|              150.0|\n",
       "|       4|2013-07-25 00:00:...|      CLOSED|             299.95|\n",
       "|       4|2013-07-25 00:00:...|      CLOSED|              49.98|\n",
       "|       5|2013-07-25 00:00:...|    COMPLETE|             129.99|\n",
       "|       5|2013-07-25 00:00:...|    COMPLETE|             299.98|\n",
       "|       5|2013-07-25 00:00:...|    COMPLETE|              99.96|\n",
       "|       5|2013-07-25 00:00:...|    COMPLETE|             299.95|\n",
       "|       5|2013-07-25 00:00:...|    COMPLETE|             299.98|\n",
       "+--------+--------------------+------------+-------------------+\n",
       "\n"
      ]
     },
     "execution_count": 11,
     "metadata": {},
     "output_type": "execute_result"
    }
   ],
   "source": [
    "%%sql\n",
    "\n",
    "SELECT o.order_id,\n",
    "    o.order_date,\n",
    "    o.order_status,\n",
    "    oi.order_item_subtotal\n",
    "FROM orders o JOIN order_items oi\n",
    "    ON o.order_id = oi.order_item_order_id\n",
    "WHERE o.order_status IN ('COMPLETE', 'CLOSED')\n",
    "LIMIT 10"
   ]
  },
  {
   "cell_type": "code",
   "execution_count": 12,
   "metadata": {},
   "outputs": [
    {
     "data": {
      "text/plain": [
       "+--------+\n",
       "|count(1)|\n",
       "+--------+\n",
       "|   75408|\n",
       "+--------+\n",
       "\n"
      ]
     },
     "execution_count": 12,
     "metadata": {},
     "output_type": "execute_result"
    }
   ],
   "source": [
    "%%sql\n",
    "\n",
    "SELECT count(1)\n",
    "FROM orders o JOIN order_items oi\n",
    "    ON o.order_id = oi.order_item_order_id\n",
    "WHERE o.order_status IN ('COMPLETE', 'CLOSED')\n",
    "LIMIT 10"
   ]
  },
  {
   "cell_type": "code",
   "execution_count": 13,
   "metadata": {},
   "outputs": [
    {
     "data": {
      "text/plain": [
       "| ...\n"
      ]
     },
     "metadata": {},
     "output_type": "display_data",
     "source": "user"
    },
    {
     "data": {
      "text/plain": [
       "+--------+--------------------+------------+-------------------+\n",
       "|order_id|          order_date|order_status|order_item_subtotal|\n",
       "+--------+--------------------+------------+-------------------+\n",
       "|   61898|2014-01-01 00:00:...|    COMPLETE|               50.0|\n",
       "|   61898|2014-01-01 00:00:...|    COMPLETE|             199.92|\n",
       "|   61904|2014-01-01 00:00:...|    COMPLETE|              500.0|\n",
       "|   61907|2014-01-01 00:00:...|    COMPLETE|             299.98|\n",
       "|   61907|2014-01-01 00:00:...|    COMPLETE|             399.96|\n",
       "|   61907|2014-01-01 00:00:...|    COMPLETE|             199.99|\n",
       "|   61907|2014-01-01 00:00:...|    COMPLETE|             399.98|\n",
       "|   61908|2014-01-01 00:00:...|    COMPLETE|             129.99|\n",
       "|   61910|2014-01-01 00:00:...|    COMPLETE|             119.98|\n",
       "|   61910|2014-01-01 00:00:...|    COMPLETE|             399.98|\n",
       "+--------+--------------------+------------+-------------------+\n",
       "\n"
      ]
     },
     "execution_count": 13,
     "metadata": {},
     "output_type": "execute_result"
    }
   ],
   "source": [
    "%%sql\n",
    "\n",
    "SELECT o.order_id,\n",
    "    o.order_date,\n",
    "    o.order_status,\n",
    "    oi.order_item_subtotal\n",
    "FROM orders o JOIN order_items oi\n",
    "    ON o.order_id = oi.order_item_order_id\n",
    "WHERE o.order_status IN ('COMPLETE', 'CLOSED')\n",
    "    AND date_format(order_date, 'yyyy-MM') = '2014-01'\n",
    "LIMIT 10"
   ]
  },
  {
   "cell_type": "code",
   "execution_count": 14,
   "metadata": {},
   "outputs": [
    {
     "data": {
      "text/plain": [
       "+--------+\n",
       "|count(1)|\n",
       "+--------+\n",
       "|    6198|\n",
       "+--------+\n",
       "\n"
      ]
     },
     "execution_count": 14,
     "metadata": {},
     "output_type": "execute_result"
    }
   ],
   "source": [
    "%%sql\n",
    "\n",
    "SELECT count(1)\n",
    "FROM orders o JOIN order_items oi\n",
    "    ON o.order_id = oi.order_item_order_id\n",
    "WHERE o.order_status IN ('COMPLETE', 'CLOSED')\n",
    "    AND date_format(order_date, 'yyyy-MM') = '2014-01'\n",
    "LIMIT 10"
   ]
  },
  {
   "cell_type": "markdown",
   "metadata": {},
   "source": [
    "* Using Spark SQL with Python or Scala"
   ]
  },
  {
   "cell_type": "code",
   "execution_count": 15,
   "metadata": {},
   "outputs": [
    {
     "name": "stdout",
     "output_type": "stream",
     "text": [
      "+--------+--------------------+---------------+-------------------+\n",
      "|order_id|          order_date|   order_status|order_item_subtotal|\n",
      "+--------+--------------------+---------------+-------------------+\n",
      "|       1|2013-07-25 00:00:...|         CLOSED|             299.98|\n",
      "|       2|2013-07-25 00:00:...|PENDING_PAYMENT|             129.99|\n",
      "|       2|2013-07-25 00:00:...|PENDING_PAYMENT|              250.0|\n",
      "|       2|2013-07-25 00:00:...|PENDING_PAYMENT|             199.99|\n",
      "|       4|2013-07-25 00:00:...|         CLOSED|             199.92|\n",
      "|       4|2013-07-25 00:00:...|         CLOSED|              150.0|\n",
      "|       4|2013-07-25 00:00:...|         CLOSED|             299.95|\n",
      "|       4|2013-07-25 00:00:...|         CLOSED|              49.98|\n",
      "|       5|2013-07-25 00:00:...|       COMPLETE|             129.99|\n",
      "|       5|2013-07-25 00:00:...|       COMPLETE|             299.98|\n",
      "|       5|2013-07-25 00:00:...|       COMPLETE|              99.96|\n",
      "|       5|2013-07-25 00:00:...|       COMPLETE|             299.95|\n",
      "|       5|2013-07-25 00:00:...|       COMPLETE|             299.98|\n",
      "|       7|2013-07-25 00:00:...|       COMPLETE|              79.95|\n",
      "|       7|2013-07-25 00:00:...|       COMPLETE|             299.98|\n",
      "|       7|2013-07-25 00:00:...|       COMPLETE|             199.99|\n",
      "|       8|2013-07-25 00:00:...|     PROCESSING|               50.0|\n",
      "|       8|2013-07-25 00:00:...|     PROCESSING|             199.92|\n",
      "|       8|2013-07-25 00:00:...|     PROCESSING|             299.95|\n",
      "|       8|2013-07-25 00:00:...|     PROCESSING|             179.97|\n",
      "+--------+--------------------+---------------+-------------------+\n",
      "only showing top 20 rows\n",
      "\n"
     ]
    }
   ],
   "source": [
    "spark.sql(\"\"\"\n",
    "SELECT o.order_id,\n",
    "    o.order_date,\n",
    "    o.order_status,\n",
    "    oi.order_item_subtotal\n",
    "FROM orders o JOIN order_items oi\n",
    "    ON o.order_id = oi.order_item_order_id\n",
    "\"\"\").show()"
   ]
  },
  {
   "cell_type": "code",
   "execution_count": 16,
   "metadata": {},
   "outputs": [
    {
     "name": "stdout",
     "output_type": "stream",
     "text": [
      "+--------+\n",
      "|count(1)|\n",
      "+--------+\n",
      "|   68883|\n",
      "+--------+\n",
      "\n"
     ]
    }
   ],
   "source": [
    "spark.sql(\"\"\"\n",
    "SELECT count(1)\n",
    "FROM orders\n",
    "\"\"\").show()"
   ]
  },
  {
   "cell_type": "code",
   "execution_count": 17,
   "metadata": {},
   "outputs": [
    {
     "name": "stdout",
     "output_type": "stream",
     "text": [
      "+--------+\n",
      "|count(1)|\n",
      "+--------+\n",
      "|  172198|\n",
      "+--------+\n",
      "\n"
     ]
    }
   ],
   "source": [
    "spark.sql(\"\"\"\n",
    "SELECT count(1)\n",
    "FROM order_items\n",
    "\"\"\").show()"
   ]
  },
  {
   "cell_type": "code",
   "execution_count": 18,
   "metadata": {},
   "outputs": [
    {
     "name": "stdout",
     "output_type": "stream",
     "text": [
      "+--------+--------------------+---------------+-------------------+\n",
      "|order_id|          order_date|   order_status|order_item_subtotal|\n",
      "+--------+--------------------+---------------+-------------------+\n",
      "|       1|2013-07-25 00:00:...|         CLOSED|             299.98|\n",
      "|       2|2013-07-25 00:00:...|PENDING_PAYMENT|             129.99|\n",
      "|       2|2013-07-25 00:00:...|PENDING_PAYMENT|              250.0|\n",
      "|       2|2013-07-25 00:00:...|PENDING_PAYMENT|             199.99|\n",
      "|       4|2013-07-25 00:00:...|         CLOSED|             199.92|\n",
      "|       4|2013-07-25 00:00:...|         CLOSED|              150.0|\n",
      "|       4|2013-07-25 00:00:...|         CLOSED|             299.95|\n",
      "|       4|2013-07-25 00:00:...|         CLOSED|              49.98|\n",
      "|       5|2013-07-25 00:00:...|       COMPLETE|             129.99|\n",
      "|       5|2013-07-25 00:00:...|       COMPLETE|             299.98|\n",
      "|       5|2013-07-25 00:00:...|       COMPLETE|              99.96|\n",
      "|       5|2013-07-25 00:00:...|       COMPLETE|             299.95|\n",
      "|       5|2013-07-25 00:00:...|       COMPLETE|             299.98|\n",
      "|       7|2013-07-25 00:00:...|       COMPLETE|              79.95|\n",
      "|       7|2013-07-25 00:00:...|       COMPLETE|             299.98|\n",
      "|       7|2013-07-25 00:00:...|       COMPLETE|             199.99|\n",
      "|       8|2013-07-25 00:00:...|     PROCESSING|               50.0|\n",
      "|       8|2013-07-25 00:00:...|     PROCESSING|             199.92|\n",
      "|       8|2013-07-25 00:00:...|     PROCESSING|             299.95|\n",
      "|       8|2013-07-25 00:00:...|     PROCESSING|             179.97|\n",
      "+--------+--------------------+---------------+-------------------+\n",
      "only showing top 20 rows\n",
      "\n"
     ]
    }
   ],
   "source": [
    "spark.sql(\"\"\"\n",
    "SELECT o.order_id,\n",
    "    o.order_date,\n",
    "    o.order_status,\n",
    "    oi.order_item_subtotal\n",
    "FROM orders o JOIN order_items oi\n",
    "    ON o.order_id = oi.order_item_order_id\n",
    "\"\"\").show()"
   ]
  },
  {
   "cell_type": "code",
   "execution_count": 19,
   "metadata": {},
   "outputs": [
    {
     "name": "stdout",
     "output_type": "stream",
     "text": [
      "+--------+\n",
      "|count(1)|\n",
      "+--------+\n",
      "|  172198|\n",
      "+--------+\n",
      "\n"
     ]
    }
   ],
   "source": [
    "spark.sql(\"\"\"\n",
    "SELECT count(1)\n",
    "FROM orders o JOIN order_items oi\n",
    "    ON o.order_id = oi.order_item_order_id\n",
    "\"\"\").show()"
   ]
  },
  {
   "cell_type": "code",
   "execution_count": 20,
   "metadata": {},
   "outputs": [
    {
     "name": "stdout",
     "output_type": "stream",
     "text": [
      "+--------+--------------------+------------+-------------------+\n",
      "|order_id|          order_date|order_status|order_item_subtotal|\n",
      "+--------+--------------------+------------+-------------------+\n",
      "|       1|2013-07-25 00:00:...|      CLOSED|             299.98|\n",
      "|       4|2013-07-25 00:00:...|      CLOSED|             199.92|\n",
      "|       4|2013-07-25 00:00:...|      CLOSED|              150.0|\n",
      "|       4|2013-07-25 00:00:...|      CLOSED|             299.95|\n",
      "|       4|2013-07-25 00:00:...|      CLOSED|              49.98|\n",
      "|       5|2013-07-25 00:00:...|    COMPLETE|             129.99|\n",
      "|       5|2013-07-25 00:00:...|    COMPLETE|             299.98|\n",
      "|       5|2013-07-25 00:00:...|    COMPLETE|              99.96|\n",
      "|       5|2013-07-25 00:00:...|    COMPLETE|             299.95|\n",
      "|       5|2013-07-25 00:00:...|    COMPLETE|             299.98|\n",
      "|       7|2013-07-25 00:00:...|    COMPLETE|              79.95|\n",
      "|       7|2013-07-25 00:00:...|    COMPLETE|             299.98|\n",
      "|       7|2013-07-25 00:00:...|    COMPLETE|             199.99|\n",
      "|      12|2013-07-25 00:00:...|      CLOSED|              250.0|\n",
      "|      12|2013-07-25 00:00:...|      CLOSED|             499.95|\n",
      "|      12|2013-07-25 00:00:...|      CLOSED|             149.94|\n",
      "|      12|2013-07-25 00:00:...|      CLOSED|              100.0|\n",
      "|      12|2013-07-25 00:00:...|      CLOSED|             299.98|\n",
      "|      15|2013-07-25 00:00:...|    COMPLETE|             399.98|\n",
      "|      15|2013-07-25 00:00:...|    COMPLETE|             179.97|\n",
      "+--------+--------------------+------------+-------------------+\n",
      "only showing top 20 rows\n",
      "\n"
     ]
    }
   ],
   "source": [
    "spark.sql(\"\"\"\n",
    "SELECT o.order_id,\n",
    "    o.order_date,\n",
    "    o.order_status,\n",
    "    oi.order_item_subtotal\n",
    "FROM orders o JOIN order_items oi\n",
    "    ON o.order_id = oi.order_item_order_id\n",
    "WHERE o.order_status IN ('COMPLETE', 'CLOSED')\n",
    "\"\"\").show()"
   ]
  },
  {
   "cell_type": "code",
   "execution_count": 21,
   "metadata": {},
   "outputs": [
    {
     "name": "stdout",
     "output_type": "stream",
     "text": [
      "+--------+\n",
      "|count(1)|\n",
      "+--------+\n",
      "|   75408|\n",
      "+--------+\n",
      "\n"
     ]
    }
   ],
   "source": [
    "spark.sql(\"\"\"\n",
    "SELECT count(1)\n",
    "FROM orders o JOIN order_items oi\n",
    "    ON o.order_id = oi.order_item_order_id\n",
    "WHERE o.order_status IN ('COMPLETE', 'CLOSED')\n",
    "\"\"\").show()"
   ]
  },
  {
   "cell_type": "code",
   "execution_count": 22,
   "metadata": {},
   "outputs": [
    {
     "name": "stdout",
     "output_type": "stream",
     "text": [
      "+--------+--------------------+------------+-------------------+\n",
      "|order_id|          order_date|order_status|order_item_subtotal|\n",
      "+--------+--------------------+------------+-------------------+\n",
      "|   25882|2014-01-01 00:00:...|    COMPLETE|             399.98|\n",
      "|   25882|2014-01-01 00:00:...|    COMPLETE|              79.98|\n",
      "|   25882|2014-01-01 00:00:...|    COMPLETE|              100.0|\n",
      "|   25882|2014-01-01 00:00:...|    COMPLETE|             299.97|\n",
      "|   25888|2014-01-01 00:00:...|    COMPLETE|             299.98|\n",
      "|   25889|2014-01-01 00:00:...|    COMPLETE|              19.99|\n",
      "|   25889|2014-01-01 00:00:...|    COMPLETE|              99.96|\n",
      "|   25891|2014-01-01 00:00:...|      CLOSED|             119.97|\n",
      "|   25891|2014-01-01 00:00:...|      CLOSED|               50.0|\n",
      "|   25891|2014-01-01 00:00:...|      CLOSED|              150.0|\n",
      "|   25895|2014-01-01 00:00:...|    COMPLETE|             199.99|\n",
      "|   25895|2014-01-01 00:00:...|    COMPLETE|             399.98|\n",
      "|   25897|2014-01-01 00:00:...|    COMPLETE|             299.98|\n",
      "|   25897|2014-01-01 00:00:...|    COMPLETE|              250.0|\n",
      "|   25897|2014-01-01 00:00:...|    COMPLETE|               66.0|\n",
      "|   25898|2014-01-01 00:00:...|    COMPLETE|             129.99|\n",
      "|   25900|2014-01-01 00:00:...|      CLOSED|             199.98|\n",
      "|   25900|2014-01-01 00:00:...|      CLOSED|             119.98|\n",
      "|   25900|2014-01-01 00:00:...|      CLOSED|             399.98|\n",
      "|   25901|2014-01-01 00:00:...|    COMPLETE|             299.98|\n",
      "+--------+--------------------+------------+-------------------+\n",
      "only showing top 20 rows\n",
      "\n"
     ]
    }
   ],
   "source": [
    "spark.sql(\"\"\"\n",
    "SELECT o.order_id,\n",
    "    o.order_date,\n",
    "    o.order_status,\n",
    "    oi.order_item_subtotal\n",
    "FROM orders o JOIN order_items oi\n",
    "    ON o.order_id = oi.order_item_order_id\n",
    "WHERE o.order_status IN ('COMPLETE', 'CLOSED')\n",
    "    AND date_format(order_date, 'yyyy-MM') = '2014-01'\n",
    "\"\"\").show()"
   ]
  },
  {
   "cell_type": "code",
   "execution_count": 23,
   "metadata": {},
   "outputs": [
    {
     "name": "stdout",
     "output_type": "stream",
     "text": [
      "+--------+\n",
      "|count(1)|\n",
      "+--------+\n",
      "|    6198|\n",
      "+--------+\n",
      "\n"
     ]
    }
   ],
   "source": [
    "spark.sql(\"\"\"\n",
    "SELECT count(1)\n",
    "FROM orders o JOIN order_items oi\n",
    "    ON o.order_id = oi.order_item_order_id\n",
    "WHERE o.order_status IN ('COMPLETE', 'CLOSED')\n",
    "    AND date_format(order_date, 'yyyy-MM') = '2014-01'\n",
    "\"\"\").show()"
   ]
  },
  {
   "cell_type": "code",
   "execution_count": null,
   "metadata": {},
   "outputs": [],
   "source": []
  }
 ],
 "metadata": {
  "celltoolbar": "Tags",
  "kernelspec": {
   "display_name": "Spark 2 - Scala",
   "language": "scala",
   "name": "spark_2_scala"
  },
  "language_info": {
   "codemirror_mode": "text/x-scala",
   "file_extension": ".scala",
   "mimetype": "text/x-scala",
   "name": "scala",
   "pygments_lexer": "scala",
   "version": "2.11.12"
  }
 },
 "nbformat": 4,
 "nbformat_minor": 4
}
