{
 "cells": [
  {
   "cell_type": "markdown",
   "metadata": {},
   "source": [
    "## Filtering Data\n",
    "\n",
    "Let us understand how we can filter the data in Spark SQL."
   ]
  },
  {
   "cell_type": "markdown",
   "metadata": {},
   "source": [
    "Let us start spark context for this Notebook so that we can execute the code provided. You can sign up for our [10 node state of the art cluster/labs](https://labs.itversity.com/plans) to learn Spark SQL using our unique integrated LMS."
   ]
  },
  {
   "cell_type": "code",
   "execution_count": 1,
   "metadata": {},
   "outputs": [
    {
     "data": {
      "text/plain": [
       "username = itv002461\n"
      ]
     },
     "metadata": {},
     "output_type": "display_data",
     "source": "user"
    },
    {
     "data": {
      "text/plain": [
       "itv002461"
      ]
     },
     "execution_count": 1,
     "metadata": {},
     "output_type": "execute_result"
    }
   ],
   "source": [
    "val username = System.getProperty(\"user.name\")"
   ]
  },
  {
   "cell_type": "code",
   "execution_count": 2,
   "metadata": {},
   "outputs": [
    {
     "data": {
      "text/plain": [
       "username = itv002461\n",
       "spark = org.apache.spark.sql.SparkSession@6416c004\n"
      ]
     },
     "metadata": {},
     "output_type": "display_data",
     "source": "user"
    },
    {
     "data": {
      "text/plain": [
       "org.apache.spark.sql.SparkSession@6416c004"
      ]
     },
     "execution_count": 2,
     "metadata": {},
     "output_type": "execute_result"
    }
   ],
   "source": [
    "import org.apache.spark.sql.SparkSession\n",
    "\n",
    "val username = System.getProperty(\"user.name\")\n",
    "val spark = SparkSession.\n",
    "    builder.\n",
    "    config(\"spark.ui.port\", \"0\").\n",
    "    config(\"spark.sql.warehouse.dir\", s\"/user/${username}/warehouse\").\n",
    "    enableHiveSupport.\n",
    "    appName(s\"${username} | Spark SQL - Basic Transformations\").\n",
    "    master(\"yarn\").\n",
    "    getOrCreate"
   ]
  },
  {
   "cell_type": "markdown",
   "metadata": {},
   "source": [
    "If you are going to use CLIs, you can use Spark SQL using one of the 3 approaches.\n",
    "\n",
    "**Using Spark SQL**\n",
    "\n",
    "```\n",
    "spark2-sql \\\n",
    "    --master yarn \\\n",
    "    --conf spark.ui.port=0 \\\n",
    "    --conf spark.sql.warehouse.dir=/user/${USER}/warehouse\n",
    "```\n",
    "\n",
    "**Using Scala**\n",
    "\n",
    "```\n",
    "spark2-shell \\\n",
    "    --master yarn \\\n",
    "    --conf spark.ui.port=0 \\\n",
    "    --conf spark.sql.warehouse.dir=/user/${USER}/warehouse\n",
    "```\n",
    "\n",
    "**Using Pyspark**\n",
    "\n",
    "```\n",
    "pyspark2 \\\n",
    "    --master yarn \\\n",
    "    --conf spark.ui.port=0 \\\n",
    "    --conf spark.sql.warehouse.dir=/user/${USER}/warehouse\n",
    "```"
   ]
  },
  {
   "cell_type": "markdown",
   "metadata": {},
   "source": [
    "* We use `WHERE` clause to filter the data.\n",
    "* All comparison operators such as `=`, `!=`, `>`, `<`, etc can be used to compare a column or expression or literal with another column or expression or literal.\n",
    "* We can use operators such as LIKE with % and regexp_like for pattern matching.\n",
    "* Boolan OR and AND can be performed when we want to apply multiple conditions.\n",
    "  * Get all orders with order_status equals to COMPLETE or CLOSED. We can also use IN operator.\n",
    "  * Get all orders from month 2014 January with order_status equals to COMPLETE or CLOSED\n",
    "* We need to use `IS NULL` and `IS NOT NULL` to compare against null values."
   ]
  },
  {
   "cell_type": "code",
   "execution_count": 3,
   "metadata": {},
   "outputs": [
    {
     "data": {
      "text/plain": [
       "Waiting for a Spark session to start..."
      ]
     },
     "metadata": {},
     "output_type": "display_data",
     "source": "user"
    },
    {
     "data": {
      "text/plain": [
       "++\n",
       "||\n",
       "++\n",
       "++\n",
       "\n"
      ]
     },
     "execution_count": 3,
     "metadata": {},
     "output_type": "execute_result"
    }
   ],
   "source": [
    "%%sql\n",
    "\n",
    "USE itv002461_retail"
   ]
  },
  {
   "cell_type": "code",
   "execution_count": 4,
   "metadata": {},
   "outputs": [
    {
     "data": {
      "text/plain": [
       "+----------------+-----------+-----------+\n",
       "|        database|  tableName|isTemporary|\n",
       "+----------------+-----------+-----------+\n",
       "|itv002461_retail|order_items|      false|\n",
       "|itv002461_retail|     orders|      false|\n",
       "+----------------+-----------+-----------+\n",
       "\n"
      ]
     },
     "execution_count": 4,
     "metadata": {},
     "output_type": "execute_result"
    }
   ],
   "source": [
    "%%sql\n",
    "\n",
    "SHOW tables"
   ]
  },
  {
   "cell_type": "code",
   "execution_count": 5,
   "metadata": {},
   "outputs": [
    {
     "data": {
      "text/plain": [
       "|   34592|2014-02-23 00:...\n"
      ]
     },
     "metadata": {},
     "output_type": "display_data",
     "source": "user"
    },
    {
     "data": {
      "text/plain": [
       "+--------+--------------------+-----------------+------------+\n",
       "|order_id|          order_date|order_customer_id|order_status|\n",
       "+--------+--------------------+-----------------+------------+\n",
       "|   34565|2014-02-23 00:00:...|             8702|    COMPLETE|\n",
       "|   34568|2014-02-23 00:00:...|             1271|    COMPLETE|\n",
       "|   34569|2014-02-23 00:00:...|            11083|    COMPLETE|\n",
       "|   34576|2014-02-23 00:00:...|             6117|    COMPLETE|\n",
       "|   34580|2014-02-23 00:00:...|             6540|    COMPLETE|\n",
       "|   34581|2014-02-23 00:00:...|             4882|    COMPLETE|\n",
       "|   34589|2014-02-23 00:00:...|               42|    COMPLETE|\n",
       "|   34590|2014-02-23 00:00:...|            10367|    COMPLETE|\n",
       "|   34592|2014-02-23 00:00:...|             4033|    COMPLETE|\n",
       "|   34593|2014-02-23 00:00:...|             4696|    COMPLETE|\n",
       "+--------+--------------------+-----------------+------------+\n",
       "\n"
      ]
     },
     "execution_count": 5,
     "metadata": {},
     "output_type": "execute_result"
    }
   ],
   "source": [
    "%%sql\n",
    "\n",
    "SELECT * FROM orders WHERE order_status = 'COMPLETE' LIMIT 10"
   ]
  },
  {
   "cell_type": "code",
   "execution_count": 6,
   "metadata": {},
   "outputs": [
    {
     "data": {
      "text/plain": [
       "+--------+\n",
       "|count(1)|\n",
       "+--------+\n",
       "|   22899|\n",
       "+--------+\n",
       "\n"
      ]
     },
     "execution_count": 6,
     "metadata": {},
     "output_type": "execute_result"
    }
   ],
   "source": [
    "%%sql\n",
    "\n",
    "SELECT count(1) FROM orders WHERE order_status = 'COMPLETE'"
   ]
  },
  {
   "cell_type": "code",
   "execution_count": 7,
   "metadata": {},
   "outputs": [
    {
     "data": {
      "text/plain": [
       "|      17|2013-07-25 00:...\n"
      ]
     },
     "metadata": {},
     "output_type": "display_data",
     "source": "user"
    },
    {
     "data": {
      "text/plain": [
       "+--------+--------------------+-----------------+------------+\n",
       "|order_id|          order_date|order_customer_id|order_status|\n",
       "+--------+--------------------+-----------------+------------+\n",
       "|       1|2013-07-25 00:00:...|            11599|      CLOSED|\n",
       "|       3|2013-07-25 00:00:...|            12111|    COMPLETE|\n",
       "|       4|2013-07-25 00:00:...|             8827|      CLOSED|\n",
       "|       5|2013-07-25 00:00:...|            11318|    COMPLETE|\n",
       "|       6|2013-07-25 00:00:...|             7130|    COMPLETE|\n",
       "|       7|2013-07-25 00:00:...|             4530|    COMPLETE|\n",
       "|      12|2013-07-25 00:00:...|             1837|      CLOSED|\n",
       "|      15|2013-07-25 00:00:...|             2568|    COMPLETE|\n",
       "|      17|2013-07-25 00:00:...|             2667|    COMPLETE|\n",
       "|      18|2013-07-25 00:00:...|             1205|      CLOSED|\n",
       "+--------+--------------------+-----------------+------------+\n",
       "\n"
      ]
     },
     "execution_count": 7,
     "metadata": {},
     "output_type": "execute_result"
    }
   ],
   "source": [
    "%%sql\n",
    "\n",
    "SELECT * FROM orders WHERE order_status IN ('COMPLETE', 'CLOSED') LIMIT 10"
   ]
  },
  {
   "cell_type": "code",
   "execution_count": 9,
   "metadata": {},
   "outputs": [
    {
     "data": {
      "text/plain": [
       "|   34589|2014-02-23 00:...\n"
      ]
     },
     "metadata": {},
     "output_type": "display_data",
     "source": "user"
    },
    {
     "data": {
      "text/plain": [
       "+--------+--------------------+-----------------+------------+\n",
       "|order_id|          order_date|order_customer_id|order_status|\n",
       "+--------+--------------------+-----------------+------------+\n",
       "|   34565|2014-02-23 00:00:...|             8702|    COMPLETE|\n",
       "|   34568|2014-02-23 00:00:...|             1271|    COMPLETE|\n",
       "|   34569|2014-02-23 00:00:...|            11083|    COMPLETE|\n",
       "|   34570|2014-02-23 00:00:...|             3159|      CLOSED|\n",
       "|   34571|2014-02-23 00:00:...|             4551|      CLOSED|\n",
       "|   34576|2014-02-23 00:00:...|             6117|    COMPLETE|\n",
       "|   34580|2014-02-23 00:00:...|             6540|    COMPLETE|\n",
       "|   34581|2014-02-23 00:00:...|             4882|    COMPLETE|\n",
       "|   34589|2014-02-23 00:00:...|               42|    COMPLETE|\n",
       "|   34590|2014-02-23 00:00:...|            10367|    COMPLETE|\n",
       "+--------+--------------------+-----------------+------------+\n",
       "\n"
      ]
     },
     "execution_count": 9,
     "metadata": {},
     "output_type": "execute_result"
    }
   ],
   "source": [
    "%%sql\n",
    "\n",
    "SELECT * FROM orders WHERE order_status = 'COMPLETE' OR order_status = 'CLOSED' LIMIT 10"
   ]
  },
  {
   "cell_type": "code",
   "execution_count": 10,
   "metadata": {},
   "outputs": [
    {
     "data": {
      "text/plain": [
       "+--------+\n",
       "|count(1)|\n",
       "+--------+\n",
       "|   30455|\n",
       "+--------+\n",
       "\n"
      ]
     },
     "execution_count": 10,
     "metadata": {},
     "output_type": "execute_result"
    }
   ],
   "source": [
    "%%sql\n",
    "\n",
    "SELECT count(1) FROM orders WHERE order_status IN ('COMPLETE', 'CLOSED')"
   ]
  },
  {
   "cell_type": "code",
   "execution_count": 11,
   "metadata": {},
   "outputs": [
    {
     "data": {
      "text/plain": [
       "+--------+\n",
       "|count(1)|\n",
       "+--------+\n",
       "|   30455|\n",
       "+--------+\n",
       "\n"
      ]
     },
     "execution_count": 11,
     "metadata": {},
     "output_type": "execute_result"
    }
   ],
   "source": [
    "%%sql\n",
    "\n",
    "SELECT count(1) FROM orders WHERE order_status = 'COMPLETE' OR order_status = 'CLOSED'"
   ]
  },
  {
   "cell_type": "code",
   "execution_count": 12,
   "metadata": {},
   "outputs": [
    {
     "data": {
      "text/plain": [
       "|   61920|2014-01-02 00:...\n"
      ]
     },
     "metadata": {},
     "output_type": "display_data",
     "source": "user"
    },
    {
     "data": {
      "text/plain": [
       "+--------+--------------------+-----------------+------------+\n",
       "|order_id|          order_date|order_customer_id|order_status|\n",
       "+--------+--------------------+-----------------+------------+\n",
       "|   61898|2014-01-01 00:00:...|            10152|    COMPLETE|\n",
       "|   61904|2014-01-01 00:00:...|              470|    COMPLETE|\n",
       "|   61907|2014-01-01 00:00:...|            11258|    COMPLETE|\n",
       "|   61908|2014-01-01 00:00:...|             5031|    COMPLETE|\n",
       "|   61910|2014-01-01 00:00:...|            11201|    COMPLETE|\n",
       "|   61913|2014-01-01 00:00:...|            12218|    COMPLETE|\n",
       "|   61914|2014-01-01 00:00:...|             2956|    COMPLETE|\n",
       "|   61919|2014-01-02 00:00:...|            12383|    COMPLETE|\n",
       "|   61920|2014-01-02 00:00:...|             2278|    COMPLETE|\n",
       "|   61921|2014-01-02 00:00:...|             3530|    COMPLETE|\n",
       "+--------+--------------------+-----------------+------------+\n",
       "\n"
      ]
     },
     "execution_count": 12,
     "metadata": {},
     "output_type": "execute_result"
    }
   ],
   "source": [
    "%%sql\n",
    "\n",
    "SELECT * FROM orders \n",
    "WHERE order_status IN ('COMPLETE', 'CLOSED')\n",
    "    AND order_date LIKE '2014-01%'\n",
    "LIMIT 10"
   ]
  },
  {
   "cell_type": "code",
   "execution_count": 13,
   "metadata": {},
   "outputs": [
    {
     "data": {
      "text/plain": [
       "+--------+\n",
       "|count(1)|\n",
       "+--------+\n",
       "|    2544|\n",
       "+--------+\n",
       "\n"
      ]
     },
     "execution_count": 13,
     "metadata": {},
     "output_type": "execute_result"
    }
   ],
   "source": [
    "%%sql\n",
    "\n",
    "SELECT count(1) FROM orders \n",
    "WHERE order_status IN ('COMPLETE', 'CLOSED')\n",
    "    AND order_date LIKE '2014-01%'"
   ]
  },
  {
   "cell_type": "code",
   "execution_count": 14,
   "metadata": {},
   "outputs": [
    {
     "data": {
      "text/plain": [
       "|   25900|2014-01-01 00:...\n"
      ]
     },
     "metadata": {},
     "output_type": "display_data",
     "source": "user"
    },
    {
     "data": {
      "text/plain": [
       "+--------+--------------------+-----------------+------------+\n",
       "|order_id|          order_date|order_customer_id|order_status|\n",
       "+--------+--------------------+-----------------+------------+\n",
       "|   25882|2014-01-01 00:00:...|             4598|    COMPLETE|\n",
       "|   25888|2014-01-01 00:00:...|             6735|    COMPLETE|\n",
       "|   25889|2014-01-01 00:00:...|            10045|    COMPLETE|\n",
       "|   25891|2014-01-01 00:00:...|             3037|      CLOSED|\n",
       "|   25895|2014-01-01 00:00:...|             1044|    COMPLETE|\n",
       "|   25897|2014-01-01 00:00:...|             6405|    COMPLETE|\n",
       "|   25898|2014-01-01 00:00:...|             3950|    COMPLETE|\n",
       "|   25899|2014-01-01 00:00:...|             8068|      CLOSED|\n",
       "|   25900|2014-01-01 00:00:...|             2382|      CLOSED|\n",
       "|   25901|2014-01-01 00:00:...|             3099|    COMPLETE|\n",
       "+--------+--------------------+-----------------+------------+\n",
       "\n"
      ]
     },
     "execution_count": 14,
     "metadata": {},
     "output_type": "execute_result"
    }
   ],
   "source": [
    "%%sql\n",
    "\n",
    "SELECT * FROM orders \n",
    "WHERE order_status IN ('COMPLETE', 'CLOSED')\n",
    "    AND date_format(order_date, 'yyyy-MM') = '2014-01'\n",
    "LIMIT 10"
   ]
  },
  {
   "cell_type": "code",
   "execution_count": 15,
   "metadata": {},
   "outputs": [
    {
     "data": {
      "text/plain": [
       "+--------+\n",
       "|count(1)|\n",
       "+--------+\n",
       "|    2544|\n",
       "+--------+\n",
       "\n"
      ]
     },
     "execution_count": 15,
     "metadata": {},
     "output_type": "execute_result"
    }
   ],
   "source": [
    "%%sql\n",
    "\n",
    "SELECT count(1) FROM orders \n",
    "WHERE order_status IN ('COMPLETE', 'CLOSED')\n",
    "    AND date_format(order_date, 'yyyy-MM') = '2014-01'"
   ]
  },
  {
   "cell_type": "markdown",
   "metadata": {},
   "source": [
    "* Using Spark SQL with Python or Scala"
   ]
  },
  {
   "cell_type": "code",
   "execution_count": 16,
   "metadata": {},
   "outputs": [
    {
     "data": {
      "text/plain": [
       "[]"
      ]
     },
     "execution_count": 16,
     "metadata": {},
     "output_type": "execute_result"
    }
   ],
   "source": [
    "spark.sql(\"USE itv002461_retail\")"
   ]
  },
  {
   "cell_type": "code",
   "execution_count": 17,
   "metadata": {},
   "outputs": [
    {
     "name": "stdout",
     "output_type": "stream",
     "text": [
      "+----------------+-----------+-----------+\n",
      "|        database|  tableName|isTemporary|\n",
      "+----------------+-----------+-----------+\n",
      "|itv002461_retail|order_items|      false|\n",
      "|itv002461_retail|     orders|      false|\n",
      "+----------------+-----------+-----------+\n",
      "\n"
     ]
    }
   ],
   "source": [
    "spark.sql(\"SHOW tables\").show()"
   ]
  },
  {
   "cell_type": "code",
   "execution_count": 18,
   "metadata": {},
   "outputs": [
    {
     "name": "stdout",
     "output_type": "stream",
     "text": [
      "+--------+--------------------+-----------------+------------+\n",
      "|order_id|          order_date|order_customer_id|order_status|\n",
      "+--------+--------------------+-----------------+------------+\n",
      "|       3|2013-07-25 00:00:...|            12111|    COMPLETE|\n",
      "|       5|2013-07-25 00:00:...|            11318|    COMPLETE|\n",
      "|       6|2013-07-25 00:00:...|             7130|    COMPLETE|\n",
      "|       7|2013-07-25 00:00:...|             4530|    COMPLETE|\n",
      "|      15|2013-07-25 00:00:...|             2568|    COMPLETE|\n",
      "|      17|2013-07-25 00:00:...|             2667|    COMPLETE|\n",
      "|      22|2013-07-25 00:00:...|              333|    COMPLETE|\n",
      "|      26|2013-07-25 00:00:...|             7562|    COMPLETE|\n",
      "|      28|2013-07-25 00:00:...|              656|    COMPLETE|\n",
      "|      32|2013-07-25 00:00:...|             3960|    COMPLETE|\n",
      "|      35|2013-07-25 00:00:...|             4840|    COMPLETE|\n",
      "|      45|2013-07-25 00:00:...|             2636|    COMPLETE|\n",
      "|      56|2013-07-25 00:00:...|            10519|    COMPLETE|\n",
      "|      63|2013-07-25 00:00:...|             1148|    COMPLETE|\n",
      "|      65|2013-07-25 00:00:...|             5903|    COMPLETE|\n",
      "|      67|2013-07-25 00:00:...|             1406|    COMPLETE|\n",
      "|      71|2013-07-25 00:00:...|             8646|    COMPLETE|\n",
      "|      72|2013-07-25 00:00:...|             4349|    COMPLETE|\n",
      "|      76|2013-07-25 00:00:...|             6898|    COMPLETE|\n",
      "|      80|2013-07-25 00:00:...|             3007|    COMPLETE|\n",
      "+--------+--------------------+-----------------+------------+\n",
      "only showing top 20 rows\n",
      "\n"
     ]
    }
   ],
   "source": [
    "spark.sql(\"SELECT * FROM orders WHERE order_status = 'COMPLETE'\").show()"
   ]
  },
  {
   "cell_type": "code",
   "execution_count": 19,
   "metadata": {},
   "outputs": [
    {
     "name": "stdout",
     "output_type": "stream",
     "text": [
      "+--------+\n",
      "|count(1)|\n",
      "+--------+\n",
      "|   22899|\n",
      "+--------+\n",
      "\n"
     ]
    }
   ],
   "source": [
    "spark.sql(\"SELECT count(1) FROM orders WHERE order_status = 'COMPLETE'\").show()"
   ]
  },
  {
   "cell_type": "code",
   "execution_count": 20,
   "metadata": {},
   "outputs": [
    {
     "name": "stdout",
     "output_type": "stream",
     "text": [
      "+--------+--------------------+-----------------+------------+\n",
      "|order_id|          order_date|order_customer_id|order_status|\n",
      "+--------+--------------------+-----------------+------------+\n",
      "|       1|2013-07-25 00:00:...|            11599|      CLOSED|\n",
      "|       3|2013-07-25 00:00:...|            12111|    COMPLETE|\n",
      "|       4|2013-07-25 00:00:...|             8827|      CLOSED|\n",
      "|       5|2013-07-25 00:00:...|            11318|    COMPLETE|\n",
      "|       6|2013-07-25 00:00:...|             7130|    COMPLETE|\n",
      "|       7|2013-07-25 00:00:...|             4530|    COMPLETE|\n",
      "|      12|2013-07-25 00:00:...|             1837|      CLOSED|\n",
      "|      15|2013-07-25 00:00:...|             2568|    COMPLETE|\n",
      "|      17|2013-07-25 00:00:...|             2667|    COMPLETE|\n",
      "|      18|2013-07-25 00:00:...|             1205|      CLOSED|\n",
      "|      22|2013-07-25 00:00:...|              333|    COMPLETE|\n",
      "|      24|2013-07-25 00:00:...|            11441|      CLOSED|\n",
      "|      25|2013-07-25 00:00:...|             9503|      CLOSED|\n",
      "|      26|2013-07-25 00:00:...|             7562|    COMPLETE|\n",
      "|      28|2013-07-25 00:00:...|              656|    COMPLETE|\n",
      "|      32|2013-07-25 00:00:...|             3960|    COMPLETE|\n",
      "|      35|2013-07-25 00:00:...|             4840|    COMPLETE|\n",
      "|      37|2013-07-25 00:00:...|             5863|      CLOSED|\n",
      "|      45|2013-07-25 00:00:...|             2636|    COMPLETE|\n",
      "|      51|2013-07-25 00:00:...|            12271|      CLOSED|\n",
      "+--------+--------------------+-----------------+------------+\n",
      "only showing top 20 rows\n",
      "\n"
     ]
    }
   ],
   "source": [
    "spark.sql(\"SELECT * FROM orders WHERE order_status IN ('COMPLETE', 'CLOSED')\").show()"
   ]
  },
  {
   "cell_type": "code",
   "execution_count": 21,
   "metadata": {},
   "outputs": [
    {
     "name": "stdout",
     "output_type": "stream",
     "text": [
      "+--------+--------------------+-----------------+------------+\n",
      "|order_id|          order_date|order_customer_id|order_status|\n",
      "+--------+--------------------+-----------------+------------+\n",
      "|       1|2013-07-25 00:00:...|            11599|      CLOSED|\n",
      "|       3|2013-07-25 00:00:...|            12111|    COMPLETE|\n",
      "|       4|2013-07-25 00:00:...|             8827|      CLOSED|\n",
      "|       5|2013-07-25 00:00:...|            11318|    COMPLETE|\n",
      "|       6|2013-07-25 00:00:...|             7130|    COMPLETE|\n",
      "|       7|2013-07-25 00:00:...|             4530|    COMPLETE|\n",
      "|      12|2013-07-25 00:00:...|             1837|      CLOSED|\n",
      "|      15|2013-07-25 00:00:...|             2568|    COMPLETE|\n",
      "|      17|2013-07-25 00:00:...|             2667|    COMPLETE|\n",
      "|      18|2013-07-25 00:00:...|             1205|      CLOSED|\n",
      "|      22|2013-07-25 00:00:...|              333|    COMPLETE|\n",
      "|      24|2013-07-25 00:00:...|            11441|      CLOSED|\n",
      "|      25|2013-07-25 00:00:...|             9503|      CLOSED|\n",
      "|      26|2013-07-25 00:00:...|             7562|    COMPLETE|\n",
      "|      28|2013-07-25 00:00:...|              656|    COMPLETE|\n",
      "|      32|2013-07-25 00:00:...|             3960|    COMPLETE|\n",
      "|      35|2013-07-25 00:00:...|             4840|    COMPLETE|\n",
      "|      37|2013-07-25 00:00:...|             5863|      CLOSED|\n",
      "|      45|2013-07-25 00:00:...|             2636|    COMPLETE|\n",
      "|      51|2013-07-25 00:00:...|            12271|      CLOSED|\n",
      "+--------+--------------------+-----------------+------------+\n",
      "only showing top 20 rows\n",
      "\n"
     ]
    }
   ],
   "source": [
    "spark.sql(\"\"\"\n",
    "SELECT * FROM orders \n",
    "WHERE order_status = 'COMPLETE' OR order_status = 'CLOSED'\n",
    "\"\"\").show()"
   ]
  },
  {
   "cell_type": "code",
   "execution_count": 22,
   "metadata": {},
   "outputs": [
    {
     "name": "stdout",
     "output_type": "stream",
     "text": [
      "+--------+\n",
      "|count(1)|\n",
      "+--------+\n",
      "|   30455|\n",
      "+--------+\n",
      "\n"
     ]
    }
   ],
   "source": [
    "spark.sql(\"\"\"\n",
    "SELECT count(1) FROM orders \n",
    "WHERE order_status IN ('COMPLETE', 'CLOSED')\n",
    "\"\"\").show()"
   ]
  },
  {
   "cell_type": "code",
   "execution_count": 23,
   "metadata": {},
   "outputs": [
    {
     "name": "stdout",
     "output_type": "stream",
     "text": [
      "+--------+\n",
      "|count(1)|\n",
      "+--------+\n",
      "|   30455|\n",
      "+--------+\n",
      "\n"
     ]
    }
   ],
   "source": [
    "spark.sql(\"\"\"\n",
    "SELECT count(1) FROM orders\n",
    "WHERE order_status = 'COMPLETE' OR order_status = 'CLOSED'\n",
    "\"\"\").show()"
   ]
  },
  {
   "cell_type": "code",
   "execution_count": 24,
   "metadata": {},
   "outputs": [
    {
     "name": "stdout",
     "output_type": "stream",
     "text": [
      "+--------+--------------------+-----------------+------------+\n",
      "|order_id|          order_date|order_customer_id|order_status|\n",
      "+--------+--------------------+-----------------+------------+\n",
      "|   25882|2014-01-01 00:00:...|             4598|    COMPLETE|\n",
      "|   25888|2014-01-01 00:00:...|             6735|    COMPLETE|\n",
      "|   25889|2014-01-01 00:00:...|            10045|    COMPLETE|\n",
      "|   25891|2014-01-01 00:00:...|             3037|      CLOSED|\n",
      "|   25895|2014-01-01 00:00:...|             1044|    COMPLETE|\n",
      "|   25897|2014-01-01 00:00:...|             6405|    COMPLETE|\n",
      "|   25898|2014-01-01 00:00:...|             3950|    COMPLETE|\n",
      "|   25899|2014-01-01 00:00:...|             8068|      CLOSED|\n",
      "|   25900|2014-01-01 00:00:...|             2382|      CLOSED|\n",
      "|   25901|2014-01-01 00:00:...|             3099|    COMPLETE|\n",
      "|   25902|2014-01-01 00:00:...|             6083|    COMPLETE|\n",
      "|   25907|2014-01-01 00:00:...|             3603|    COMPLETE|\n",
      "|   25913|2014-01-01 00:00:...|             9382|    COMPLETE|\n",
      "|   25914|2014-01-01 00:00:...|             9288|    COMPLETE|\n",
      "|   25915|2014-01-01 00:00:...|             2963|    COMPLETE|\n",
      "|   25916|2014-01-01 00:00:...|             3219|    COMPLETE|\n",
      "|   25918|2014-01-01 00:00:...|              279|    COMPLETE|\n",
      "|   25919|2014-01-01 00:00:...|             3052|    COMPLETE|\n",
      "|   25920|2014-01-01 00:00:...|            12232|    COMPLETE|\n",
      "|   25921|2014-01-01 00:00:...|            12373|    COMPLETE|\n",
      "+--------+--------------------+-----------------+------------+\n",
      "only showing top 20 rows\n",
      "\n"
     ]
    }
   ],
   "source": [
    "spark.sql(\"\"\"\n",
    "SELECT * FROM orders \n",
    "WHERE order_status IN ('COMPLETE', 'CLOSED')\n",
    "    AND order_date LIKE '2014-01%'\n",
    "\"\"\").show()"
   ]
  },
  {
   "cell_type": "code",
   "execution_count": 25,
   "metadata": {},
   "outputs": [
    {
     "name": "stdout",
     "output_type": "stream",
     "text": [
      "+--------+\n",
      "|count(1)|\n",
      "+--------+\n",
      "|    2544|\n",
      "+--------+\n",
      "\n"
     ]
    }
   ],
   "source": [
    "spark.sql(\"\"\"\n",
    "SELECT count(1) FROM orders \n",
    "WHERE order_status IN ('COMPLETE', 'CLOSED')\n",
    "    AND order_date LIKE '2014-01%'\n",
    "\"\"\").show()"
   ]
  },
  {
   "cell_type": "code",
   "execution_count": 26,
   "metadata": {},
   "outputs": [
    {
     "name": "stdout",
     "output_type": "stream",
     "text": [
      "+--------+--------------------+-----------------+------------+\n",
      "|order_id|          order_date|order_customer_id|order_status|\n",
      "+--------+--------------------+-----------------+------------+\n",
      "|   25882|2014-01-01 00:00:...|             4598|    COMPLETE|\n",
      "|   25888|2014-01-01 00:00:...|             6735|    COMPLETE|\n",
      "|   25889|2014-01-01 00:00:...|            10045|    COMPLETE|\n",
      "|   25891|2014-01-01 00:00:...|             3037|      CLOSED|\n",
      "|   25895|2014-01-01 00:00:...|             1044|    COMPLETE|\n",
      "|   25897|2014-01-01 00:00:...|             6405|    COMPLETE|\n",
      "|   25898|2014-01-01 00:00:...|             3950|    COMPLETE|\n",
      "|   25899|2014-01-01 00:00:...|             8068|      CLOSED|\n",
      "|   25900|2014-01-01 00:00:...|             2382|      CLOSED|\n",
      "|   25901|2014-01-01 00:00:...|             3099|    COMPLETE|\n",
      "|   25902|2014-01-01 00:00:...|             6083|    COMPLETE|\n",
      "|   25907|2014-01-01 00:00:...|             3603|    COMPLETE|\n",
      "|   25913|2014-01-01 00:00:...|             9382|    COMPLETE|\n",
      "|   25914|2014-01-01 00:00:...|             9288|    COMPLETE|\n",
      "|   25915|2014-01-01 00:00:...|             2963|    COMPLETE|\n",
      "|   25916|2014-01-01 00:00:...|             3219|    COMPLETE|\n",
      "|   25918|2014-01-01 00:00:...|              279|    COMPLETE|\n",
      "|   25919|2014-01-01 00:00:...|             3052|    COMPLETE|\n",
      "|   25920|2014-01-01 00:00:...|            12232|    COMPLETE|\n",
      "|   25921|2014-01-01 00:00:...|            12373|    COMPLETE|\n",
      "+--------+--------------------+-----------------+------------+\n",
      "only showing top 20 rows\n",
      "\n"
     ]
    }
   ],
   "source": [
    "spark.sql(\"\"\"\n",
    "SELECT * FROM orders \n",
    "WHERE order_status IN ('COMPLETE', 'CLOSED')\n",
    "    AND date_format(order_date, 'yyyy-MM') = '2014-01'\n",
    "\"\"\").show()"
   ]
  },
  {
   "cell_type": "code",
   "execution_count": 27,
   "metadata": {},
   "outputs": [
    {
     "name": "stdout",
     "output_type": "stream",
     "text": [
      "+--------+\n",
      "|count(1)|\n",
      "+--------+\n",
      "|    2544|\n",
      "+--------+\n",
      "\n"
     ]
    }
   ],
   "source": [
    "spark.sql(\"\"\"\n",
    "SELECT count(1) FROM orders \n",
    "WHERE order_status IN ('COMPLETE', 'CLOSED')\n",
    "    AND date_format(order_date, 'yyyy-MM') = '2014-01'\n",
    "\"\"\").show()"
   ]
  },
  {
   "cell_type": "markdown",
   "metadata": {},
   "source": [
    "* Let us prepare the table to demonstrate how to deal with null values while filtering the data."
   ]
  },
  {
   "cell_type": "code",
   "execution_count": 32,
   "metadata": {},
   "outputs": [
    {
     "data": {
      "text/plain": [
       "++\n",
       "||\n",
       "++\n",
       "++\n",
       "\n"
      ]
     },
     "execution_count": 32,
     "metadata": {},
     "output_type": "execute_result"
    }
   ],
   "source": [
    "%%sql\n",
    "\n",
    "DROP DATABASE IF EXISTS itv002461_sms CASCADE"
   ]
  },
  {
   "cell_type": "code",
   "execution_count": 33,
   "metadata": {},
   "outputs": [
    {
     "data": {
      "text/plain": [
       "++\n",
       "||\n",
       "++\n",
       "++\n",
       "\n"
      ]
     },
     "execution_count": 33,
     "metadata": {},
     "output_type": "execute_result"
    }
   ],
   "source": [
    "%%sql\n",
    "\n",
    "CREATE DATABASE IF NOT EXISTS itv002461_sms"
   ]
  },
  {
   "cell_type": "code",
   "execution_count": 34,
   "metadata": {},
   "outputs": [
    {
     "data": {
      "text/plain": [
       "++\n",
       "||\n",
       "++\n",
       "++\n",
       "\n"
      ]
     },
     "execution_count": 34,
     "metadata": {},
     "output_type": "execute_result"
    }
   ],
   "source": [
    "%%sql\n",
    "\n",
    "DROP TABLE IF EXISTS students"
   ]
  },
  {
   "cell_type": "code",
   "execution_count": 35,
   "metadata": {},
   "outputs": [
    {
     "data": {
      "text/plain": [
       "++\n",
       "||\n",
       "++\n",
       "++\n",
       "\n"
      ]
     },
     "execution_count": 35,
     "metadata": {},
     "output_type": "execute_result"
    }
   ],
   "source": [
    "%%sql\n",
    "\n",
    "CREATE TABLE students (\n",
    "    student_id INT,\n",
    "    student_first_name STRING,\n",
    "    student_last_name STRING,\n",
    "    student_phone_number STRING,\n",
    "    student_address STRING\n",
    ") STORED AS avro"
   ]
  },
  {
   "cell_type": "code",
   "execution_count": 36,
   "metadata": {},
   "outputs": [
    {
     "data": {
      "text/plain": [
       "++\n",
       "||\n",
       "++\n",
       "++\n",
       "\n"
      ]
     },
     "execution_count": 36,
     "metadata": {},
     "output_type": "execute_result"
    }
   ],
   "source": [
    "%%sql\n",
    "\n",
    "INSERT INTO students VALUES (1, 'Scott', 'Tiger', NULL, NULL)"
   ]
  },
  {
   "cell_type": "code",
   "execution_count": 37,
   "metadata": {},
   "outputs": [
    {
     "data": {
      "text/plain": [
       "++\n",
       "||\n",
       "++\n",
       "++\n",
       "\n"
      ]
     },
     "execution_count": 37,
     "metadata": {},
     "output_type": "execute_result"
    }
   ],
   "source": [
    "%%sql\n",
    "\n",
    "INSERT INTO students VALUES (2, 'Donald', 'Duck', '1234567890', NULL)"
   ]
  },
  {
   "cell_type": "code",
   "execution_count": 38,
   "metadata": {},
   "outputs": [
    {
     "data": {
      "text/plain": [
       "++\n",
       "||\n",
       "++\n",
       "++\n",
       "\n"
      ]
     },
     "execution_count": 38,
     "metadata": {},
     "output_type": "execute_result"
    }
   ],
   "source": [
    "%%sql\n",
    "\n",
    "INSERT INTO students VALUES \n",
    "    (3, 'Mickey', 'Mouse', '2345678901', 'A Street, One City, Some State, 12345'),\n",
    "    (4, 'Bubble', 'Guppy', '6789012345', 'Bubbly Street, Guppy, La la land, 45678')"
   ]
  },
  {
   "cell_type": "code",
   "execution_count": 39,
   "metadata": {},
   "outputs": [
    {
     "data": {
      "text/plain": [
       "+----------+------------------+-----------------+--------------------+--...\n"
      ]
     },
     "metadata": {},
     "output_type": "display_data",
     "source": "user"
    },
    {
     "data": {
      "text/plain": [
       "+----------+------------------+-----------------+--------------------+--------------------+\n",
       "|student_id|student_first_name|student_last_name|student_phone_number|     student_address|\n",
       "+----------+------------------+-----------------+--------------------+--------------------+\n",
       "|         3|            Mickey|            Mouse|          2345678901|A Street, One Cit...|\n",
       "|         2|            Donald|             Duck|          1234567890|                null|\n",
       "|         1|             Scott|            Tiger|                null|                null|\n",
       "|         4|            Bubble|            Guppy|          6789012345|Bubbly Street, Gu...|\n",
       "+----------+------------------+-----------------+--------------------+--------------------+\n",
       "\n"
      ]
     },
     "execution_count": 39,
     "metadata": {},
     "output_type": "execute_result"
    }
   ],
   "source": [
    "%%sql\n",
    "\n",
    "SELECT * FROM students"
   ]
  },
  {
   "cell_type": "markdown",
   "metadata": {},
   "source": [
    "* Using Spark SQL with Python or Scala"
   ]
  },
  {
   "cell_type": "code",
   "execution_count": 40,
   "metadata": {},
   "outputs": [
    {
     "data": {
      "text/plain": [
       "[]"
      ]
     },
     "execution_count": 40,
     "metadata": {},
     "output_type": "execute_result"
    }
   ],
   "source": [
    "spark.sql(\"DROP DATABASE IF EXISTS itv002461_sms CASCADE\")"
   ]
  },
  {
   "cell_type": "code",
   "execution_count": 41,
   "metadata": {},
   "outputs": [
    {
     "data": {
      "text/plain": [
       "[]"
      ]
     },
     "execution_count": 41,
     "metadata": {},
     "output_type": "execute_result"
    }
   ],
   "source": [
    "spark.sql(\"CREATE DATABASE IF NOT EXISTS itv002461y_sms\")"
   ]
  },
  {
   "cell_type": "code",
   "execution_count": 42,
   "metadata": {},
   "outputs": [
    {
     "data": {
      "text/plain": [
       "[]"
      ]
     },
     "execution_count": 42,
     "metadata": {},
     "output_type": "execute_result"
    }
   ],
   "source": [
    "spark.sql(\"DROP TABLE IF EXISTS students\")"
   ]
  },
  {
   "cell_type": "code",
   "execution_count": 43,
   "metadata": {},
   "outputs": [
    {
     "data": {
      "text/plain": [
       "[]"
      ]
     },
     "execution_count": 43,
     "metadata": {},
     "output_type": "execute_result"
    }
   ],
   "source": [
    "spark.sql(\"\"\"\n",
    "CREATE TABLE students (\n",
    "    student_id INT,\n",
    "    student_first_name STRING,\n",
    "    student_last_name STRING,\n",
    "    student_phone_number STRING,\n",
    "    student_address STRING\n",
    ") STORED AS avro\n",
    "\"\"\")"
   ]
  },
  {
   "cell_type": "code",
   "execution_count": 44,
   "metadata": {},
   "outputs": [
    {
     "data": {
      "text/plain": [
       "[]"
      ]
     },
     "execution_count": 44,
     "metadata": {},
     "output_type": "execute_result"
    }
   ],
   "source": [
    "spark.sql(\"\"\"\n",
    "INSERT INTO students \n",
    "VALUES (1, 'Scott', 'Tiger', NULL, NULL)\n",
    "\"\"\")"
   ]
  },
  {
   "cell_type": "code",
   "execution_count": 45,
   "metadata": {},
   "outputs": [
    {
     "data": {
      "text/plain": [
       "[]"
      ]
     },
     "execution_count": 45,
     "metadata": {},
     "output_type": "execute_result"
    }
   ],
   "source": [
    "spark.sql(\"\"\"\n",
    "INSERT INTO students \n",
    "VALUES (2, 'Donald', 'Duck', '1234567890', NULL)\n",
    "\"\"\")"
   ]
  },
  {
   "cell_type": "code",
   "execution_count": 46,
   "metadata": {},
   "outputs": [
    {
     "data": {
      "text/plain": [
       "[]"
      ]
     },
     "execution_count": 46,
     "metadata": {},
     "output_type": "execute_result"
    }
   ],
   "source": [
    "spark.sql(\"\"\"\n",
    "INSERT INTO students VALUES \n",
    "    (3, 'Mickey', 'Mouse', '2345678901', 'A Street, One City, Some State, 12345'),\n",
    "    (4, 'Bubble', 'Guppy', '6789012345', 'Bubbly Street, Guppy, La la land, 45678')\n",
    "\"\"\")"
   ]
  },
  {
   "cell_type": "code",
   "execution_count": 47,
   "metadata": {},
   "outputs": [
    {
     "name": "stdout",
     "output_type": "stream",
     "text": [
      "+----------+------------------+-----------------+--------------------+--------------------+\n",
      "|student_id|student_first_name|student_last_name|student_phone_number|     student_address|\n",
      "+----------+------------------+-----------------+--------------------+--------------------+\n",
      "|         2|            Donald|             Duck|          1234567890|                null|\n",
      "|         1|             Scott|            Tiger|                null|                null|\n",
      "|         3|            Mickey|            Mouse|          2345678901|A Street, One Cit...|\n",
      "|         4|            Bubble|            Guppy|          6789012345|Bubbly Street, Gu...|\n",
      "+----------+------------------+-----------------+--------------------+--------------------+\n",
      "\n"
     ]
    }
   ],
   "source": [
    "spark.sql(\"SELECT * FROM students\").show()"
   ]
  },
  {
   "cell_type": "markdown",
   "metadata": {},
   "source": [
    "* Comparison against null can be done with `IS NULL` and `IS NOT NULL`. Below query will not work even though we have one record with phone_numbers as null."
   ]
  },
  {
   "cell_type": "code",
   "execution_count": 48,
   "metadata": {},
   "outputs": [
    {
     "name": "stdout",
     "output_type": "stream",
     "text": [
      "+----------+------------------+-----------------+--------------------+---------------+\n",
      "|student_id|student_first_name|student_last_name|student_phone_number|student_address|\n",
      "+----------+------------------+-----------------+--------------------+---------------+\n",
      "+----------+------------------+-----------------+--------------------+---------------+\n",
      "\n"
     ]
    }
   ],
   "source": [
    "spark.sql(\"\"\"\n",
    "SELECT * FROM students \n",
    "WHERE student_phone_number = NULL\n",
    "\"\"\").show()"
   ]
  },
  {
   "cell_type": "code",
   "execution_count": 49,
   "metadata": {},
   "outputs": [
    {
     "name": "stdout",
     "output_type": "stream",
     "text": [
      "+----------+------------------+-----------------+--------------------+---------------+\n",
      "|student_id|student_first_name|student_last_name|student_phone_number|student_address|\n",
      "+----------+------------------+-----------------+--------------------+---------------+\n",
      "+----------+------------------+-----------------+--------------------+---------------+\n",
      "\n"
     ]
    }
   ],
   "source": [
    "spark.sql(\"\"\"\n",
    "SELECT * FROM students \n",
    "WHERE student_phone_number != NULL\n",
    "\"\"\").show()"
   ]
  },
  {
   "cell_type": "code",
   "execution_count": 50,
   "metadata": {},
   "outputs": [
    {
     "name": "stdout",
     "output_type": "stream",
     "text": [
      "+----------+------------------+-----------------+--------------------+---------------+\n",
      "|student_id|student_first_name|student_last_name|student_phone_number|student_address|\n",
      "+----------+------------------+-----------------+--------------------+---------------+\n",
      "|         1|             Scott|            Tiger|                null|           null|\n",
      "+----------+------------------+-----------------+--------------------+---------------+\n",
      "\n"
     ]
    }
   ],
   "source": [
    "spark.sql(\"\"\"\n",
    "SELECT * FROM students\n",
    "WHERE student_phone_number IS NULL\n",
    "\"\"\").show()"
   ]
  },
  {
   "cell_type": "code",
   "execution_count": 51,
   "metadata": {},
   "outputs": [
    {
     "name": "stdout",
     "output_type": "stream",
     "text": [
      "+----------+------------------+-----------------+--------------------+--------------------+\n",
      "|student_id|student_first_name|student_last_name|student_phone_number|     student_address|\n",
      "+----------+------------------+-----------------+--------------------+--------------------+\n",
      "|         2|            Donald|             Duck|          1234567890|                null|\n",
      "|         3|            Mickey|            Mouse|          2345678901|A Street, One Cit...|\n",
      "|         4|            Bubble|            Guppy|          6789012345|Bubbly Street, Gu...|\n",
      "+----------+------------------+-----------------+--------------------+--------------------+\n",
      "\n"
     ]
    }
   ],
   "source": [
    "spark.sql(\"\"\"\n",
    "SELECT * FROM students\n",
    "WHERE student_phone_number IS NOT NULL\n",
    "\"\"\").show()"
   ]
  },
  {
   "cell_type": "code",
   "execution_count": null,
   "metadata": {},
   "outputs": [],
   "source": []
  }
 ],
 "metadata": {
  "celltoolbar": "Tags",
  "kernelspec": {
   "display_name": "Spark 2 - Scala",
   "language": "scala",
   "name": "spark_2_scala"
  },
  "language_info": {
   "codemirror_mode": "text/x-scala",
   "file_extension": ".scala",
   "mimetype": "text/x-scala",
   "name": "scala",
   "pygments_lexer": "scala",
   "version": "2.11.12"
  }
 },
 "nbformat": 4,
 "nbformat_minor": 4
}
