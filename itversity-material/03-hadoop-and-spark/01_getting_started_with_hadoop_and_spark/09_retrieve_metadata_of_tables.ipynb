{
 "cells": [
  {
   "cell_type": "markdown",
   "metadata": {},
   "source": [
    "## Retrieve Metadata of Tables\n",
    "\n",
    "As the table is created, let us understand how to get the metadata of a table."
   ]
  },
  {
   "cell_type": "markdown",
   "metadata": {},
   "source": [
    "* We can get metadata of Hive Tables using several commands.\n",
    "  * DESCRIBE - e.g.: `DESCRIBE orders;`\n",
    "  * DESCRIBE EXTENDED - e.g.: `DESCRIBE EXTENDED orders;`\n",
    "  * DESCRIBE FORMATTED - e.g.: `DESCRIBE FORMATTED orders;`\n",
    "* **DESCRIBE** will give only field names and data types.\n",
    "* **DESCRIBE EXTENDED** will give all the metadata, but not in readable format in Hive. It is same as **DESCRIBE FORMATTED** in Spark SQL.\n",
    "* **DESCRIBE FORMATTED** will give metadata in readable format.\n",
    "\n",
    "**As the output is truncated using Jupyter, we will actually see the details using `spark-sql`**"
   ]
  },
  {
   "cell_type": "code",
   "execution_count": 1,
   "metadata": {},
   "outputs": [
    {
     "data": {
      "text/plain": [
       "username = itv002461\n",
       "spark = org.apache.spark.sql.SparkSession@41f14e46\n"
      ]
     },
     "metadata": {},
     "output_type": "display_data",
     "source": "user"
    },
    {
     "data": {
      "text/plain": [
       "org.apache.spark.sql.SparkSession@41f14e46"
      ]
     },
     "execution_count": 1,
     "metadata": {},
     "output_type": "execute_result"
    }
   ],
   "source": [
    "import org.apache.spark.sql.SparkSession\n",
    "\n",
    "val username = System.getProperty(\"user.name\")\n",
    "val spark = SparkSession.\n",
    "    builder.\n",
    "    config(\"spark.ui.port\", \"0\").\n",
    "    config(\"spark.sql.warehouse.dir\", s\"/user/${username}/warehouse\").\n",
    "    enableHiveSupport.\n",
    "    master(\"yarn\").\n",
    "    appName(s\"${username} | Spark SQL - Getting Started\").\n",
    "    getOrCreate"
   ]
  },
  {
   "cell_type": "code",
   "execution_count": 2,
   "metadata": {},
   "outputs": [
    {
     "data": {
      "text/plain": [
       "Waiting for a Spark session to start..."
      ]
     },
     "metadata": {},
     "output_type": "display_data",
     "source": "user"
    },
    {
     "data": {
      "text/plain": [
       "+------------------+\n",
       "|current_database()|\n",
       "+------------------+\n",
       "|           default|\n",
       "+------------------+\n",
       "\n"
      ]
     },
     "execution_count": 2,
     "metadata": {},
     "output_type": "execute_result"
    }
   ],
   "source": [
    "%%sql\n",
    "\n",
    "SELECT current_database()"
   ]
  },
  {
   "cell_type": "code",
   "execution_count": 3,
   "metadata": {},
   "outputs": [
    {
     "data": {
      "text/plain": [
       "++\n",
       "||\n",
       "++\n",
       "++\n",
       "\n"
      ]
     },
     "execution_count": 3,
     "metadata": {},
     "output_type": "execute_result"
    }
   ],
   "source": [
    "%%sql\n",
    "\n",
    "USE itv002461_retail"
   ]
  },
  {
   "cell_type": "code",
   "execution_count": 4,
   "metadata": {},
   "outputs": [
    {
     "data": {
      "text/plain": [
       "+----------------+---------+-----------+\n",
       "|        database|tableName|isTemporary|\n",
       "+----------------+---------+-----------+\n",
       "|itv002461_retail|   orders|      false|\n",
       "+----------------+---------+-----------+\n",
       "\n"
      ]
     },
     "execution_count": 4,
     "metadata": {},
     "output_type": "execute_result"
    }
   ],
   "source": [
    "%%sql\n",
    "\n",
    "SHOW tables"
   ]
  },
  {
   "cell_type": "code",
   "execution_count": 5,
   "metadata": {},
   "outputs": [
    {
     "data": {
      "text/plain": [
       "+-----------------+---------+-------+\n",
       "|         col_name|data_type|comment|\n",
       "+-----------------+---------+-------+\n",
       "|         order_id|      int|   null|\n",
       "|       order_date|   string|   null|\n",
       "|order_customer_id|      int|   null|\n",
       "|     order_status|   string|   null|\n",
       "+-----------------+---------+-------+\n",
       "\n"
      ]
     },
     "execution_count": 5,
     "metadata": {},
     "output_type": "execute_result"
    }
   ],
   "source": [
    "%%sql\n",
    "\n",
    "DESCRIBE orders"
   ]
  },
  {
   "cell_type": "code",
   "execution_count": 6,
   "metadata": {},
   "outputs": [
    {
     "data": {
      "text/plain": [
       "+--------------------+-------------------...\n"
      ]
     },
     "metadata": {},
     "output_type": "display_data",
     "source": "user"
    },
    {
     "data": {
      "text/plain": [
       "+--------------------+--------------------+-------+\n",
       "|            col_name|           data_type|comment|\n",
       "+--------------------+--------------------+-------+\n",
       "|            order_id|                 int|   null|\n",
       "|          order_date|              string|   null|\n",
       "|   order_customer_id|                 int|   null|\n",
       "|        order_status|              string|   null|\n",
       "|                    |                    |       |\n",
       "|# Detailed Table ...|                    |       |\n",
       "|            Database|    itv002461_retail|       |\n",
       "|               Table|              orders|       |\n",
       "|               Owner|           itv002461|       |\n",
       "|        Created Time|Wed May 25 04:12:...|       |\n",
       "+--------------------+--------------------+-------+\n",
       "only showing top 10 rows\n",
       "\n"
      ]
     },
     "execution_count": 6,
     "metadata": {},
     "output_type": "execute_result"
    }
   ],
   "source": [
    "%%sql\n",
    "\n",
    "DESCRIBE EXTENDED orders"
   ]
  },
  {
   "cell_type": "code",
   "execution_count": 7,
   "metadata": {},
   "outputs": [
    {
     "data": {
      "text/plain": [
       "+--------------------+-------------------...\n"
      ]
     },
     "metadata": {},
     "output_type": "display_data",
     "source": "user"
    },
    {
     "data": {
      "text/plain": [
       "+--------------------+--------------------+-------+\n",
       "|            col_name|           data_type|comment|\n",
       "+--------------------+--------------------+-------+\n",
       "|            order_id|                 int|   null|\n",
       "|          order_date|              string|   null|\n",
       "|   order_customer_id|                 int|   null|\n",
       "|        order_status|              string|   null|\n",
       "|                    |                    |       |\n",
       "|# Detailed Table ...|                    |       |\n",
       "|            Database|    itv002461_retail|       |\n",
       "|               Table|              orders|       |\n",
       "|               Owner|           itv002461|       |\n",
       "|        Created Time|Wed May 25 04:12:...|       |\n",
       "+--------------------+--------------------+-------+\n",
       "only showing top 10 rows\n",
       "\n"
      ]
     },
     "execution_count": 7,
     "metadata": {},
     "output_type": "execute_result"
    }
   ],
   "source": [
    "%%sql\n",
    "\n",
    "DESCRIBE FORMATTED orders"
   ]
  },
  {
   "cell_type": "code",
   "execution_count": null,
   "metadata": {},
   "outputs": [],
   "source": []
  }
 ],
 "metadata": {
  "celltoolbar": "Tags",
  "kernelspec": {
   "display_name": "Spark 2 - Scala",
   "language": "scala",
   "name": "spark_2_scala"
  },
  "language_info": {
   "codemirror_mode": "text/x-scala",
   "file_extension": ".scala",
   "mimetype": "text/x-scala",
   "name": "scala",
   "pygments_lexer": "scala",
   "version": "2.11.12"
  }
 },
 "nbformat": 4,
 "nbformat_minor": 4
}
