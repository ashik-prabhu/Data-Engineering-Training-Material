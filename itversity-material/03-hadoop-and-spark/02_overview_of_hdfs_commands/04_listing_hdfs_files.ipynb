{
 "cells": [
  {
   "cell_type": "markdown",
   "metadata": {},
   "source": [
    "## Listing HDFS Files\n",
    "\n",
    "Now let us walk through different options we have with hdfs `ls` command to list the files."
   ]
  },
  {
   "cell_type": "markdown",
   "metadata": {},
   "source": [
    "* We can get usage by running `hdfs dfs -usage ls`."
   ]
  },
  {
   "cell_type": "code",
   "execution_count": 1,
   "metadata": {},
   "outputs": [
    {
     "name": "stdout",
     "output_type": "stream",
     "text": [
      "Usage: hadoop fs [generic options] -ls [-C] [-d] [-h] [-q] [-R] [-t] [-S] [-r] [-u] [-e] [<path> ...]\n"
     ]
    }
   ],
   "source": [
    "%%sh\n",
    "\n",
    "hdfs dfs -usage ls"
   ]
  },
  {
   "cell_type": "markdown",
   "metadata": {},
   "source": [
    "* We can get help using `hdfs dfs -help ls`"
   ]
  },
  {
   "cell_type": "code",
   "execution_count": 2,
   "metadata": {},
   "outputs": [
    {
     "name": "stdout",
     "output_type": "stream",
     "text": [
      "-ls [-C] [-d] [-h] [-q] [-R] [-t] [-S] [-r] [-u] [-e] [<path> ...] :\n",
      "  List the contents that match the specified file pattern. If path is not\n",
      "  specified, the contents of /user/<currentUser> will be listed. For a directory a\n",
      "  list of its direct children is returned (unless -d option is specified).\n",
      "  \n",
      "  Directory entries are of the form:\n",
      "  \tpermissions - userId groupId sizeOfDirectory(in bytes)\n",
      "  modificationDate(yyyy-MM-dd HH:mm) directoryName\n",
      "  \n",
      "  and file entries are of the form:\n",
      "  \tpermissions numberOfReplicas userId groupId sizeOfFile(in bytes)\n",
      "  modificationDate(yyyy-MM-dd HH:mm) fileName\n",
      "  \n",
      "    -C  Display the paths of files and directories only.\n",
      "    -d  Directories are listed as plain files.\n",
      "    -h  Formats the sizes of files in a human-readable fashion\n",
      "        rather than a number of bytes.\n",
      "    -q  Print ? instead of non-printable characters.\n",
      "    -R  Recursively list the contents of directories.\n",
      "    -t  Sort files by modification time (most recent first).\n",
      "    -S  Sort files by size.\n",
      "    -r  Reverse the order of the sort.\n",
      "    -u  Use time of last access instead of modification for\n",
      "        display and sorting.\n",
      "    -e  Display the erasure coding policy of files and directories.\n"
     ]
    }
   ],
   "source": [
    "%%sh\n",
    "\n",
    "hdfs dfs -help ls"
   ]
  },
  {
   "cell_type": "markdown",
   "metadata": {},
   "source": [
    "* Let us list all the files in **/public/nyse_all/nyse_data** folder. It is one of the public data sets that are available under **/public**. By default files and folders are sorted in ascending order by name."
   ]
  },
  {
   "cell_type": "code",
   "execution_count": 2,
   "metadata": {},
   "outputs": [
    {
     "name": "stdout",
     "output_type": "stream",
     "text": [
      "Found 21 items\n",
      "-rw-r--r--   2 hdfs supergroup    3842443 2021-01-28 09:13 /public/nyse_all/nyse_data/NYSE_1997.txt.gz\n",
      "-rw-r--r--   2 hdfs supergroup    4142942 2021-01-28 09:25 /public/nyse_all/nyse_data/NYSE_1998.txt.gz\n",
      "-rw-r--r--   2 hdfs supergroup    4297025 2021-01-28 08:12 /public/nyse_all/nyse_data/NYSE_1999.txt.gz\n",
      "-rw-r--r--   2 hdfs supergroup    4439306 2021-01-28 09:32 /public/nyse_all/nyse_data/NYSE_2000.txt.gz\n",
      "-rw-r--r--   2 hdfs supergroup    4722623 2021-01-28 08:00 /public/nyse_all/nyse_data/NYSE_2001.txt.gz\n",
      "-rw-r--r--   2 hdfs supergroup    5021940 2021-01-28 11:29 /public/nyse_all/nyse_data/NYSE_2002.txt.gz\n",
      "-rw-r--r--   2 hdfs supergroup    5271305 2021-01-28 11:10 /public/nyse_all/nyse_data/NYSE_2003.txt.gz\n",
      "-rw-r--r--   2 hdfs supergroup    5689069 2021-01-28 11:02 /public/nyse_all/nyse_data/NYSE_2004.txt.gz\n",
      "-rw-r--r--   2 hdfs supergroup    6207833 2021-01-28 09:40 /public/nyse_all/nyse_data/NYSE_2005.txt.gz\n",
      "-rw-r--r--   2 hdfs supergroup    6480175 2021-01-28 08:27 /public/nyse_all/nyse_data/NYSE_2006.txt.gz\n",
      "-rw-r--r--   2 hdfs supergroup    6903056 2021-01-28 11:27 /public/nyse_all/nyse_data/NYSE_2007.txt.gz\n",
      "-rw-r--r--   2 hdfs supergroup    7179621 2021-01-28 11:01 /public/nyse_all/nyse_data/NYSE_2008.txt.gz\n",
      "-rw-r--r--   2 hdfs supergroup    7186235 2021-01-28 07:41 /public/nyse_all/nyse_data/NYSE_2009.txt.gz\n",
      "-rw-r--r--   2 hdfs supergroup    7551218 2021-01-28 09:25 /public/nyse_all/nyse_data/NYSE_2010.txt.gz\n",
      "-rw-r--r--   2 hdfs supergroup    7980961 2021-01-28 08:54 /public/nyse_all/nyse_data/NYSE_2011.txt.gz\n",
      "-rw-r--r--   2 hdfs supergroup    8538688 2021-01-28 11:31 /public/nyse_all/nyse_data/NYSE_2012.txt.gz\n",
      "-rw-r--r--   2 hdfs supergroup    9588984 2021-01-28 08:55 /public/nyse_all/nyse_data/NYSE_2013.txt.gz\n",
      "-rw-r--r--   2 hdfs supergroup   10552757 2021-01-28 09:31 /public/nyse_all/nyse_data/NYSE_2014.txt.gz\n",
      "-rw-r--r--   2 hdfs supergroup   11327417 2021-01-28 08:41 /public/nyse_all/nyse_data/NYSE_2015.txt.gz\n",
      "-rw-r--r--   2 hdfs supergroup   11796756 2021-01-28 09:23 /public/nyse_all/nyse_data/NYSE_2016.txt.gz\n",
      "-rw-r--r--   2 hdfs supergroup     519586 2021-01-28 09:07 /public/nyse_all/nyse_data/NYSE_2017.txt.gz\n"
     ]
    }
   ],
   "source": [
    "%%sh\n",
    "\n",
    "hdfs dfs -ls /public/nyse_all/nyse_data"
   ]
  },
  {
   "cell_type": "code",
   "execution_count": 3,
   "metadata": {},
   "outputs": [
    {
     "name": "stdout",
     "output_type": "stream",
     "text": [
      "Found 21 items\n",
      "-rw-r--r--   2 hdfs supergroup     519586 2021-01-28 09:07 /public/nyse_all/nyse_data/NYSE_2017.txt.gz\n",
      "-rw-r--r--   2 hdfs supergroup   11796756 2021-01-28 09:23 /public/nyse_all/nyse_data/NYSE_2016.txt.gz\n",
      "-rw-r--r--   2 hdfs supergroup   11327417 2021-01-28 08:41 /public/nyse_all/nyse_data/NYSE_2015.txt.gz\n",
      "-rw-r--r--   2 hdfs supergroup   10552757 2021-01-28 09:31 /public/nyse_all/nyse_data/NYSE_2014.txt.gz\n",
      "-rw-r--r--   2 hdfs supergroup    9588984 2021-01-28 08:55 /public/nyse_all/nyse_data/NYSE_2013.txt.gz\n",
      "-rw-r--r--   2 hdfs supergroup    8538688 2021-01-28 11:31 /public/nyse_all/nyse_data/NYSE_2012.txt.gz\n",
      "-rw-r--r--   2 hdfs supergroup    7980961 2021-01-28 08:54 /public/nyse_all/nyse_data/NYSE_2011.txt.gz\n",
      "-rw-r--r--   2 hdfs supergroup    7551218 2021-01-28 09:25 /public/nyse_all/nyse_data/NYSE_2010.txt.gz\n",
      "-rw-r--r--   2 hdfs supergroup    7186235 2021-01-28 07:41 /public/nyse_all/nyse_data/NYSE_2009.txt.gz\n",
      "-rw-r--r--   2 hdfs supergroup    7179621 2021-01-28 11:01 /public/nyse_all/nyse_data/NYSE_2008.txt.gz\n",
      "-rw-r--r--   2 hdfs supergroup    6903056 2021-01-28 11:27 /public/nyse_all/nyse_data/NYSE_2007.txt.gz\n",
      "-rw-r--r--   2 hdfs supergroup    6480175 2021-01-28 08:27 /public/nyse_all/nyse_data/NYSE_2006.txt.gz\n",
      "-rw-r--r--   2 hdfs supergroup    6207833 2021-01-28 09:40 /public/nyse_all/nyse_data/NYSE_2005.txt.gz\n",
      "-rw-r--r--   2 hdfs supergroup    5689069 2021-01-28 11:02 /public/nyse_all/nyse_data/NYSE_2004.txt.gz\n",
      "-rw-r--r--   2 hdfs supergroup    5271305 2021-01-28 11:10 /public/nyse_all/nyse_data/NYSE_2003.txt.gz\n",
      "-rw-r--r--   2 hdfs supergroup    5021940 2021-01-28 11:29 /public/nyse_all/nyse_data/NYSE_2002.txt.gz\n",
      "-rw-r--r--   2 hdfs supergroup    4722623 2021-01-28 08:00 /public/nyse_all/nyse_data/NYSE_2001.txt.gz\n",
      "-rw-r--r--   2 hdfs supergroup    4439306 2021-01-28 09:32 /public/nyse_all/nyse_data/NYSE_2000.txt.gz\n",
      "-rw-r--r--   2 hdfs supergroup    4297025 2021-01-28 08:12 /public/nyse_all/nyse_data/NYSE_1999.txt.gz\n",
      "-rw-r--r--   2 hdfs supergroup    4142942 2021-01-28 09:25 /public/nyse_all/nyse_data/NYSE_1998.txt.gz\n",
      "-rw-r--r--   2 hdfs supergroup    3842443 2021-01-28 09:13 /public/nyse_all/nyse_data/NYSE_1997.txt.gz\n"
     ]
    }
   ],
   "source": [
    "%%sh\n",
    "\n",
    "hdfs dfs -ls -r /public/nyse_all/nyse_data"
   ]
  },
  {
   "cell_type": "markdown",
   "metadata": {},
   "source": [
    "* We can sort the files and directories by time using `-t` option. By default you will see latest files at top. We can reverse it by using `-t -r`."
   ]
  },
  {
   "cell_type": "code",
   "execution_count": 4,
   "metadata": {},
   "outputs": [
    {
     "name": "stdout",
     "output_type": "stream",
     "text": [
      "Found 21 items\n",
      "-rw-r--r--   2 hdfs supergroup    8538688 2021-01-28 11:31 /public/nyse_all/nyse_data/NYSE_2012.txt.gz\n",
      "-rw-r--r--   2 hdfs supergroup    5021940 2021-01-28 11:29 /public/nyse_all/nyse_data/NYSE_2002.txt.gz\n",
      "-rw-r--r--   2 hdfs supergroup    6903056 2021-01-28 11:27 /public/nyse_all/nyse_data/NYSE_2007.txt.gz\n",
      "-rw-r--r--   2 hdfs supergroup    5271305 2021-01-28 11:10 /public/nyse_all/nyse_data/NYSE_2003.txt.gz\n",
      "-rw-r--r--   2 hdfs supergroup    5689069 2021-01-28 11:02 /public/nyse_all/nyse_data/NYSE_2004.txt.gz\n",
      "-rw-r--r--   2 hdfs supergroup    7179621 2021-01-28 11:01 /public/nyse_all/nyse_data/NYSE_2008.txt.gz\n",
      "-rw-r--r--   2 hdfs supergroup    6207833 2021-01-28 09:40 /public/nyse_all/nyse_data/NYSE_2005.txt.gz\n",
      "-rw-r--r--   2 hdfs supergroup    4439306 2021-01-28 09:32 /public/nyse_all/nyse_data/NYSE_2000.txt.gz\n",
      "-rw-r--r--   2 hdfs supergroup   10552757 2021-01-28 09:31 /public/nyse_all/nyse_data/NYSE_2014.txt.gz\n",
      "-rw-r--r--   2 hdfs supergroup    7551218 2021-01-28 09:25 /public/nyse_all/nyse_data/NYSE_2010.txt.gz\n",
      "-rw-r--r--   2 hdfs supergroup    4142942 2021-01-28 09:25 /public/nyse_all/nyse_data/NYSE_1998.txt.gz\n",
      "-rw-r--r--   2 hdfs supergroup   11796756 2021-01-28 09:23 /public/nyse_all/nyse_data/NYSE_2016.txt.gz\n",
      "-rw-r--r--   2 hdfs supergroup    3842443 2021-01-28 09:13 /public/nyse_all/nyse_data/NYSE_1997.txt.gz\n",
      "-rw-r--r--   2 hdfs supergroup     519586 2021-01-28 09:07 /public/nyse_all/nyse_data/NYSE_2017.txt.gz\n",
      "-rw-r--r--   2 hdfs supergroup    9588984 2021-01-28 08:55 /public/nyse_all/nyse_data/NYSE_2013.txt.gz\n",
      "-rw-r--r--   2 hdfs supergroup    7980961 2021-01-28 08:54 /public/nyse_all/nyse_data/NYSE_2011.txt.gz\n",
      "-rw-r--r--   2 hdfs supergroup   11327417 2021-01-28 08:41 /public/nyse_all/nyse_data/NYSE_2015.txt.gz\n",
      "-rw-r--r--   2 hdfs supergroup    6480175 2021-01-28 08:27 /public/nyse_all/nyse_data/NYSE_2006.txt.gz\n",
      "-rw-r--r--   2 hdfs supergroup    4297025 2021-01-28 08:12 /public/nyse_all/nyse_data/NYSE_1999.txt.gz\n",
      "-rw-r--r--   2 hdfs supergroup    4722623 2021-01-28 08:00 /public/nyse_all/nyse_data/NYSE_2001.txt.gz\n",
      "-rw-r--r--   2 hdfs supergroup    7186235 2021-01-28 07:41 /public/nyse_all/nyse_data/NYSE_2009.txt.gz\n"
     ]
    }
   ],
   "source": [
    "%%sh\n",
    "\n",
    "hdfs dfs -ls -t /public/nyse_all/nyse_data"
   ]
  },
  {
   "cell_type": "code",
   "execution_count": 5,
   "metadata": {},
   "outputs": [
    {
     "name": "stdout",
     "output_type": "stream",
     "text": [
      "Found 21 items\n",
      "-rw-r--r--   2 hdfs supergroup    7186235 2021-01-28 07:41 /public/nyse_all/nyse_data/NYSE_2009.txt.gz\n",
      "-rw-r--r--   2 hdfs supergroup    4722623 2021-01-28 08:00 /public/nyse_all/nyse_data/NYSE_2001.txt.gz\n",
      "-rw-r--r--   2 hdfs supergroup    4297025 2021-01-28 08:12 /public/nyse_all/nyse_data/NYSE_1999.txt.gz\n",
      "-rw-r--r--   2 hdfs supergroup    6480175 2021-01-28 08:27 /public/nyse_all/nyse_data/NYSE_2006.txt.gz\n",
      "-rw-r--r--   2 hdfs supergroup   11327417 2021-01-28 08:41 /public/nyse_all/nyse_data/NYSE_2015.txt.gz\n",
      "-rw-r--r--   2 hdfs supergroup    7980961 2021-01-28 08:54 /public/nyse_all/nyse_data/NYSE_2011.txt.gz\n",
      "-rw-r--r--   2 hdfs supergroup    9588984 2021-01-28 08:55 /public/nyse_all/nyse_data/NYSE_2013.txt.gz\n",
      "-rw-r--r--   2 hdfs supergroup     519586 2021-01-28 09:07 /public/nyse_all/nyse_data/NYSE_2017.txt.gz\n",
      "-rw-r--r--   2 hdfs supergroup    3842443 2021-01-28 09:13 /public/nyse_all/nyse_data/NYSE_1997.txt.gz\n",
      "-rw-r--r--   2 hdfs supergroup   11796756 2021-01-28 09:23 /public/nyse_all/nyse_data/NYSE_2016.txt.gz\n",
      "-rw-r--r--   2 hdfs supergroup    4142942 2021-01-28 09:25 /public/nyse_all/nyse_data/NYSE_1998.txt.gz\n",
      "-rw-r--r--   2 hdfs supergroup    7551218 2021-01-28 09:25 /public/nyse_all/nyse_data/NYSE_2010.txt.gz\n",
      "-rw-r--r--   2 hdfs supergroup   10552757 2021-01-28 09:31 /public/nyse_all/nyse_data/NYSE_2014.txt.gz\n",
      "-rw-r--r--   2 hdfs supergroup    4439306 2021-01-28 09:32 /public/nyse_all/nyse_data/NYSE_2000.txt.gz\n",
      "-rw-r--r--   2 hdfs supergroup    6207833 2021-01-28 09:40 /public/nyse_all/nyse_data/NYSE_2005.txt.gz\n",
      "-rw-r--r--   2 hdfs supergroup    7179621 2021-01-28 11:01 /public/nyse_all/nyse_data/NYSE_2008.txt.gz\n",
      "-rw-r--r--   2 hdfs supergroup    5689069 2021-01-28 11:02 /public/nyse_all/nyse_data/NYSE_2004.txt.gz\n",
      "-rw-r--r--   2 hdfs supergroup    5271305 2021-01-28 11:10 /public/nyse_all/nyse_data/NYSE_2003.txt.gz\n",
      "-rw-r--r--   2 hdfs supergroup    6903056 2021-01-28 11:27 /public/nyse_all/nyse_data/NYSE_2007.txt.gz\n",
      "-rw-r--r--   2 hdfs supergroup    5021940 2021-01-28 11:29 /public/nyse_all/nyse_data/NYSE_2002.txt.gz\n",
      "-rw-r--r--   2 hdfs supergroup    8538688 2021-01-28 11:31 /public/nyse_all/nyse_data/NYSE_2012.txt.gz\n"
     ]
    }
   ],
   "source": [
    "%%sh\n",
    "\n",
    "hdfs dfs -ls -t -r /public/nyse_all/nyse_data"
   ]
  },
  {
   "cell_type": "markdown",
   "metadata": {},
   "source": [
    "* We can sort the files and directories by size using `-S`. By default, the files will be sorted in descending order by size. We can reverse the sorting order using `-S -r`."
   ]
  },
  {
   "cell_type": "code",
   "execution_count": 6,
   "metadata": {},
   "outputs": [
    {
     "name": "stdout",
     "output_type": "stream",
     "text": [
      "Found 21 items\n",
      "-rw-r--r--   2 hdfs supergroup   11796756 2021-01-28 09:23 /public/nyse_all/nyse_data/NYSE_2016.txt.gz\n",
      "-rw-r--r--   2 hdfs supergroup   11327417 2021-01-28 08:41 /public/nyse_all/nyse_data/NYSE_2015.txt.gz\n",
      "-rw-r--r--   2 hdfs supergroup   10552757 2021-01-28 09:31 /public/nyse_all/nyse_data/NYSE_2014.txt.gz\n",
      "-rw-r--r--   2 hdfs supergroup    9588984 2021-01-28 08:55 /public/nyse_all/nyse_data/NYSE_2013.txt.gz\n",
      "-rw-r--r--   2 hdfs supergroup    8538688 2021-01-28 11:31 /public/nyse_all/nyse_data/NYSE_2012.txt.gz\n",
      "-rw-r--r--   2 hdfs supergroup    7980961 2021-01-28 08:54 /public/nyse_all/nyse_data/NYSE_2011.txt.gz\n",
      "-rw-r--r--   2 hdfs supergroup    7551218 2021-01-28 09:25 /public/nyse_all/nyse_data/NYSE_2010.txt.gz\n",
      "-rw-r--r--   2 hdfs supergroup    7186235 2021-01-28 07:41 /public/nyse_all/nyse_data/NYSE_2009.txt.gz\n",
      "-rw-r--r--   2 hdfs supergroup    7179621 2021-01-28 11:01 /public/nyse_all/nyse_data/NYSE_2008.txt.gz\n",
      "-rw-r--r--   2 hdfs supergroup    6903056 2021-01-28 11:27 /public/nyse_all/nyse_data/NYSE_2007.txt.gz\n",
      "-rw-r--r--   2 hdfs supergroup    6480175 2021-01-28 08:27 /public/nyse_all/nyse_data/NYSE_2006.txt.gz\n",
      "-rw-r--r--   2 hdfs supergroup    6207833 2021-01-28 09:40 /public/nyse_all/nyse_data/NYSE_2005.txt.gz\n",
      "-rw-r--r--   2 hdfs supergroup    5689069 2021-01-28 11:02 /public/nyse_all/nyse_data/NYSE_2004.txt.gz\n",
      "-rw-r--r--   2 hdfs supergroup    5271305 2021-01-28 11:10 /public/nyse_all/nyse_data/NYSE_2003.txt.gz\n",
      "-rw-r--r--   2 hdfs supergroup    5021940 2021-01-28 11:29 /public/nyse_all/nyse_data/NYSE_2002.txt.gz\n",
      "-rw-r--r--   2 hdfs supergroup    4722623 2021-01-28 08:00 /public/nyse_all/nyse_data/NYSE_2001.txt.gz\n",
      "-rw-r--r--   2 hdfs supergroup    4439306 2021-01-28 09:32 /public/nyse_all/nyse_data/NYSE_2000.txt.gz\n",
      "-rw-r--r--   2 hdfs supergroup    4297025 2021-01-28 08:12 /public/nyse_all/nyse_data/NYSE_1999.txt.gz\n",
      "-rw-r--r--   2 hdfs supergroup    4142942 2021-01-28 09:25 /public/nyse_all/nyse_data/NYSE_1998.txt.gz\n",
      "-rw-r--r--   2 hdfs supergroup    3842443 2021-01-28 09:13 /public/nyse_all/nyse_data/NYSE_1997.txt.gz\n",
      "-rw-r--r--   2 hdfs supergroup     519586 2021-01-28 09:07 /public/nyse_all/nyse_data/NYSE_2017.txt.gz\n"
     ]
    }
   ],
   "source": [
    "%%sh\n",
    "\n",
    "hdfs dfs -ls -S /public/nyse_all/nyse_data"
   ]
  },
  {
   "cell_type": "code",
   "execution_count": 7,
   "metadata": {},
   "outputs": [
    {
     "name": "stdout",
     "output_type": "stream",
     "text": [
      "Found 21 items\n",
      "-rw-r--r--   2 hdfs supergroup     519586 2021-01-28 09:07 /public/nyse_all/nyse_data/NYSE_2017.txt.gz\n",
      "-rw-r--r--   2 hdfs supergroup    3842443 2021-01-28 09:13 /public/nyse_all/nyse_data/NYSE_1997.txt.gz\n",
      "-rw-r--r--   2 hdfs supergroup    4142942 2021-01-28 09:25 /public/nyse_all/nyse_data/NYSE_1998.txt.gz\n",
      "-rw-r--r--   2 hdfs supergroup    4297025 2021-01-28 08:12 /public/nyse_all/nyse_data/NYSE_1999.txt.gz\n",
      "-rw-r--r--   2 hdfs supergroup    4439306 2021-01-28 09:32 /public/nyse_all/nyse_data/NYSE_2000.txt.gz\n",
      "-rw-r--r--   2 hdfs supergroup    4722623 2021-01-28 08:00 /public/nyse_all/nyse_data/NYSE_2001.txt.gz\n",
      "-rw-r--r--   2 hdfs supergroup    5021940 2021-01-28 11:29 /public/nyse_all/nyse_data/NYSE_2002.txt.gz\n",
      "-rw-r--r--   2 hdfs supergroup    5271305 2021-01-28 11:10 /public/nyse_all/nyse_data/NYSE_2003.txt.gz\n",
      "-rw-r--r--   2 hdfs supergroup    5689069 2021-01-28 11:02 /public/nyse_all/nyse_data/NYSE_2004.txt.gz\n",
      "-rw-r--r--   2 hdfs supergroup    6207833 2021-01-28 09:40 /public/nyse_all/nyse_data/NYSE_2005.txt.gz\n",
      "-rw-r--r--   2 hdfs supergroup    6480175 2021-01-28 08:27 /public/nyse_all/nyse_data/NYSE_2006.txt.gz\n",
      "-rw-r--r--   2 hdfs supergroup    6903056 2021-01-28 11:27 /public/nyse_all/nyse_data/NYSE_2007.txt.gz\n",
      "-rw-r--r--   2 hdfs supergroup    7179621 2021-01-28 11:01 /public/nyse_all/nyse_data/NYSE_2008.txt.gz\n",
      "-rw-r--r--   2 hdfs supergroup    7186235 2021-01-28 07:41 /public/nyse_all/nyse_data/NYSE_2009.txt.gz\n",
      "-rw-r--r--   2 hdfs supergroup    7551218 2021-01-28 09:25 /public/nyse_all/nyse_data/NYSE_2010.txt.gz\n",
      "-rw-r--r--   2 hdfs supergroup    7980961 2021-01-28 08:54 /public/nyse_all/nyse_data/NYSE_2011.txt.gz\n",
      "-rw-r--r--   2 hdfs supergroup    8538688 2021-01-28 11:31 /public/nyse_all/nyse_data/NYSE_2012.txt.gz\n",
      "-rw-r--r--   2 hdfs supergroup    9588984 2021-01-28 08:55 /public/nyse_all/nyse_data/NYSE_2013.txt.gz\n",
      "-rw-r--r--   2 hdfs supergroup   10552757 2021-01-28 09:31 /public/nyse_all/nyse_data/NYSE_2014.txt.gz\n",
      "-rw-r--r--   2 hdfs supergroup   11327417 2021-01-28 08:41 /public/nyse_all/nyse_data/NYSE_2015.txt.gz\n",
      "-rw-r--r--   2 hdfs supergroup   11796756 2021-01-28 09:23 /public/nyse_all/nyse_data/NYSE_2016.txt.gz\n"
     ]
    }
   ],
   "source": [
    "%%sh\n",
    "\n",
    "hdfs dfs -ls -S -r /public/nyse_all/nyse_data"
   ]
  },
  {
   "cell_type": "code",
   "execution_count": 8,
   "metadata": {},
   "outputs": [
    {
     "name": "stdout",
     "output_type": "stream",
     "text": [
      "Found 21 items\n",
      "-rw-r--r--   2 hdfs supergroup      3.7 M 2021-01-28 09:13 /public/nyse_all/nyse_data/NYSE_1997.txt.gz\n",
      "-rw-r--r--   2 hdfs supergroup      4.0 M 2021-01-28 09:25 /public/nyse_all/nyse_data/NYSE_1998.txt.gz\n",
      "-rw-r--r--   2 hdfs supergroup      4.1 M 2021-01-28 08:12 /public/nyse_all/nyse_data/NYSE_1999.txt.gz\n",
      "-rw-r--r--   2 hdfs supergroup      4.2 M 2021-01-28 09:32 /public/nyse_all/nyse_data/NYSE_2000.txt.gz\n",
      "-rw-r--r--   2 hdfs supergroup      4.5 M 2021-01-28 08:00 /public/nyse_all/nyse_data/NYSE_2001.txt.gz\n",
      "-rw-r--r--   2 hdfs supergroup      4.8 M 2021-01-28 11:29 /public/nyse_all/nyse_data/NYSE_2002.txt.gz\n",
      "-rw-r--r--   2 hdfs supergroup      5.0 M 2021-01-28 11:10 /public/nyse_all/nyse_data/NYSE_2003.txt.gz\n",
      "-rw-r--r--   2 hdfs supergroup      5.4 M 2021-01-28 11:02 /public/nyse_all/nyse_data/NYSE_2004.txt.gz\n",
      "-rw-r--r--   2 hdfs supergroup      5.9 M 2021-01-28 09:40 /public/nyse_all/nyse_data/NYSE_2005.txt.gz\n",
      "-rw-r--r--   2 hdfs supergroup      6.2 M 2021-01-28 08:27 /public/nyse_all/nyse_data/NYSE_2006.txt.gz\n",
      "-rw-r--r--   2 hdfs supergroup      6.6 M 2021-01-28 11:27 /public/nyse_all/nyse_data/NYSE_2007.txt.gz\n",
      "-rw-r--r--   2 hdfs supergroup      6.8 M 2021-01-28 11:01 /public/nyse_all/nyse_data/NYSE_2008.txt.gz\n",
      "-rw-r--r--   2 hdfs supergroup      6.9 M 2021-01-28 07:41 /public/nyse_all/nyse_data/NYSE_2009.txt.gz\n",
      "-rw-r--r--   2 hdfs supergroup      7.2 M 2021-01-28 09:25 /public/nyse_all/nyse_data/NYSE_2010.txt.gz\n",
      "-rw-r--r--   2 hdfs supergroup      7.6 M 2021-01-28 08:54 /public/nyse_all/nyse_data/NYSE_2011.txt.gz\n",
      "-rw-r--r--   2 hdfs supergroup      8.1 M 2021-01-28 11:31 /public/nyse_all/nyse_data/NYSE_2012.txt.gz\n",
      "-rw-r--r--   2 hdfs supergroup      9.1 M 2021-01-28 08:55 /public/nyse_all/nyse_data/NYSE_2013.txt.gz\n",
      "-rw-r--r--   2 hdfs supergroup     10.1 M 2021-01-28 09:31 /public/nyse_all/nyse_data/NYSE_2014.txt.gz\n",
      "-rw-r--r--   2 hdfs supergroup     10.8 M 2021-01-28 08:41 /public/nyse_all/nyse_data/NYSE_2015.txt.gz\n",
      "-rw-r--r--   2 hdfs supergroup     11.3 M 2021-01-28 09:23 /public/nyse_all/nyse_data/NYSE_2016.txt.gz\n",
      "-rw-r--r--   2 hdfs supergroup    507.4 K 2021-01-28 09:07 /public/nyse_all/nyse_data/NYSE_2017.txt.gz\n"
     ]
    }
   ],
   "source": [
    "%%sh\n",
    "\n",
    "hdfs dfs -ls -h /public/nyse_all/nyse_data"
   ]
  },
  {
   "cell_type": "code",
   "execution_count": 9,
   "metadata": {},
   "outputs": [
    {
     "name": "stdout",
     "output_type": "stream",
     "text": [
      "Found 21 items\n",
      "-rw-r--r--   2 hdfs supergroup      8.1 M 2021-01-28 11:31 /public/nyse_all/nyse_data/NYSE_2012.txt.gz\n",
      "-rw-r--r--   2 hdfs supergroup      4.8 M 2021-01-28 11:29 /public/nyse_all/nyse_data/NYSE_2002.txt.gz\n",
      "-rw-r--r--   2 hdfs supergroup      6.6 M 2021-01-28 11:27 /public/nyse_all/nyse_data/NYSE_2007.txt.gz\n",
      "-rw-r--r--   2 hdfs supergroup      5.0 M 2021-01-28 11:10 /public/nyse_all/nyse_data/NYSE_2003.txt.gz\n",
      "-rw-r--r--   2 hdfs supergroup      5.4 M 2021-01-28 11:02 /public/nyse_all/nyse_data/NYSE_2004.txt.gz\n",
      "-rw-r--r--   2 hdfs supergroup      6.8 M 2021-01-28 11:01 /public/nyse_all/nyse_data/NYSE_2008.txt.gz\n",
      "-rw-r--r--   2 hdfs supergroup      5.9 M 2021-01-28 09:40 /public/nyse_all/nyse_data/NYSE_2005.txt.gz\n",
      "-rw-r--r--   2 hdfs supergroup      4.2 M 2021-01-28 09:32 /public/nyse_all/nyse_data/NYSE_2000.txt.gz\n",
      "-rw-r--r--   2 hdfs supergroup     10.1 M 2021-01-28 09:31 /public/nyse_all/nyse_data/NYSE_2014.txt.gz\n",
      "-rw-r--r--   2 hdfs supergroup      7.2 M 2021-01-28 09:25 /public/nyse_all/nyse_data/NYSE_2010.txt.gz\n",
      "-rw-r--r--   2 hdfs supergroup      4.0 M 2021-01-28 09:25 /public/nyse_all/nyse_data/NYSE_1998.txt.gz\n",
      "-rw-r--r--   2 hdfs supergroup     11.3 M 2021-01-28 09:23 /public/nyse_all/nyse_data/NYSE_2016.txt.gz\n",
      "-rw-r--r--   2 hdfs supergroup      3.7 M 2021-01-28 09:13 /public/nyse_all/nyse_data/NYSE_1997.txt.gz\n",
      "-rw-r--r--   2 hdfs supergroup    507.4 K 2021-01-28 09:07 /public/nyse_all/nyse_data/NYSE_2017.txt.gz\n",
      "-rw-r--r--   2 hdfs supergroup      9.1 M 2021-01-28 08:55 /public/nyse_all/nyse_data/NYSE_2013.txt.gz\n",
      "-rw-r--r--   2 hdfs supergroup      7.6 M 2021-01-28 08:54 /public/nyse_all/nyse_data/NYSE_2011.txt.gz\n",
      "-rw-r--r--   2 hdfs supergroup     10.8 M 2021-01-28 08:41 /public/nyse_all/nyse_data/NYSE_2015.txt.gz\n",
      "-rw-r--r--   2 hdfs supergroup      6.2 M 2021-01-28 08:27 /public/nyse_all/nyse_data/NYSE_2006.txt.gz\n",
      "-rw-r--r--   2 hdfs supergroup      4.1 M 2021-01-28 08:12 /public/nyse_all/nyse_data/NYSE_1999.txt.gz\n",
      "-rw-r--r--   2 hdfs supergroup      4.5 M 2021-01-28 08:00 /public/nyse_all/nyse_data/NYSE_2001.txt.gz\n",
      "-rw-r--r--   2 hdfs supergroup      6.9 M 2021-01-28 07:41 /public/nyse_all/nyse_data/NYSE_2009.txt.gz\n"
     ]
    }
   ],
   "source": [
    "%%sh\n",
    "\n",
    "hdfs dfs -ls -h -t /public/nyse_all/nyse_data"
   ]
  },
  {
   "cell_type": "code",
   "execution_count": 10,
   "metadata": {},
   "outputs": [
    {
     "name": "stdout",
     "output_type": "stream",
     "text": [
      "Found 21 items\n",
      "-rw-r--r--   2 hdfs supergroup     11.3 M 2021-01-28 09:23 /public/nyse_all/nyse_data/NYSE_2016.txt.gz\n",
      "-rw-r--r--   2 hdfs supergroup     10.8 M 2021-01-28 08:41 /public/nyse_all/nyse_data/NYSE_2015.txt.gz\n",
      "-rw-r--r--   2 hdfs supergroup     10.1 M 2021-01-28 09:31 /public/nyse_all/nyse_data/NYSE_2014.txt.gz\n",
      "-rw-r--r--   2 hdfs supergroup      9.1 M 2021-01-28 08:55 /public/nyse_all/nyse_data/NYSE_2013.txt.gz\n",
      "-rw-r--r--   2 hdfs supergroup      8.1 M 2021-01-28 11:31 /public/nyse_all/nyse_data/NYSE_2012.txt.gz\n",
      "-rw-r--r--   2 hdfs supergroup      7.6 M 2021-01-28 08:54 /public/nyse_all/nyse_data/NYSE_2011.txt.gz\n",
      "-rw-r--r--   2 hdfs supergroup      7.2 M 2021-01-28 09:25 /public/nyse_all/nyse_data/NYSE_2010.txt.gz\n",
      "-rw-r--r--   2 hdfs supergroup      6.9 M 2021-01-28 07:41 /public/nyse_all/nyse_data/NYSE_2009.txt.gz\n",
      "-rw-r--r--   2 hdfs supergroup      6.8 M 2021-01-28 11:01 /public/nyse_all/nyse_data/NYSE_2008.txt.gz\n",
      "-rw-r--r--   2 hdfs supergroup      6.6 M 2021-01-28 11:27 /public/nyse_all/nyse_data/NYSE_2007.txt.gz\n",
      "-rw-r--r--   2 hdfs supergroup      6.2 M 2021-01-28 08:27 /public/nyse_all/nyse_data/NYSE_2006.txt.gz\n",
      "-rw-r--r--   2 hdfs supergroup      5.9 M 2021-01-28 09:40 /public/nyse_all/nyse_data/NYSE_2005.txt.gz\n",
      "-rw-r--r--   2 hdfs supergroup      5.4 M 2021-01-28 11:02 /public/nyse_all/nyse_data/NYSE_2004.txt.gz\n",
      "-rw-r--r--   2 hdfs supergroup      5.0 M 2021-01-28 11:10 /public/nyse_all/nyse_data/NYSE_2003.txt.gz\n",
      "-rw-r--r--   2 hdfs supergroup      4.8 M 2021-01-28 11:29 /public/nyse_all/nyse_data/NYSE_2002.txt.gz\n",
      "-rw-r--r--   2 hdfs supergroup      4.5 M 2021-01-28 08:00 /public/nyse_all/nyse_data/NYSE_2001.txt.gz\n",
      "-rw-r--r--   2 hdfs supergroup      4.2 M 2021-01-28 09:32 /public/nyse_all/nyse_data/NYSE_2000.txt.gz\n",
      "-rw-r--r--   2 hdfs supergroup      4.1 M 2021-01-28 08:12 /public/nyse_all/nyse_data/NYSE_1999.txt.gz\n",
      "-rw-r--r--   2 hdfs supergroup      4.0 M 2021-01-28 09:25 /public/nyse_all/nyse_data/NYSE_1998.txt.gz\n",
      "-rw-r--r--   2 hdfs supergroup      3.7 M 2021-01-28 09:13 /public/nyse_all/nyse_data/NYSE_1997.txt.gz\n",
      "-rw-r--r--   2 hdfs supergroup    507.4 K 2021-01-28 09:07 /public/nyse_all/nyse_data/NYSE_2017.txt.gz\n"
     ]
    }
   ],
   "source": [
    "%%sh\n",
    "\n",
    "hdfs dfs -ls -h -S /public/nyse_all/nyse_data"
   ]
  },
  {
   "cell_type": "code",
   "execution_count": 11,
   "metadata": {},
   "outputs": [
    {
     "name": "stdout",
     "output_type": "stream",
     "text": [
      "Found 21 items\n",
      "-rw-r--r--   2 hdfs supergroup    507.4 K 2021-01-28 09:07 /public/nyse_all/nyse_data/NYSE_2017.txt.gz\n",
      "-rw-r--r--   2 hdfs supergroup      3.7 M 2021-01-28 09:13 /public/nyse_all/nyse_data/NYSE_1997.txt.gz\n",
      "-rw-r--r--   2 hdfs supergroup      4.0 M 2021-01-28 09:25 /public/nyse_all/nyse_data/NYSE_1998.txt.gz\n",
      "-rw-r--r--   2 hdfs supergroup      4.1 M 2021-01-28 08:12 /public/nyse_all/nyse_data/NYSE_1999.txt.gz\n",
      "-rw-r--r--   2 hdfs supergroup      4.2 M 2021-01-28 09:32 /public/nyse_all/nyse_data/NYSE_2000.txt.gz\n",
      "-rw-r--r--   2 hdfs supergroup      4.5 M 2021-01-28 08:00 /public/nyse_all/nyse_data/NYSE_2001.txt.gz\n",
      "-rw-r--r--   2 hdfs supergroup      4.8 M 2021-01-28 11:29 /public/nyse_all/nyse_data/NYSE_2002.txt.gz\n",
      "-rw-r--r--   2 hdfs supergroup      5.0 M 2021-01-28 11:10 /public/nyse_all/nyse_data/NYSE_2003.txt.gz\n",
      "-rw-r--r--   2 hdfs supergroup      5.4 M 2021-01-28 11:02 /public/nyse_all/nyse_data/NYSE_2004.txt.gz\n",
      "-rw-r--r--   2 hdfs supergroup      5.9 M 2021-01-28 09:40 /public/nyse_all/nyse_data/NYSE_2005.txt.gz\n",
      "-rw-r--r--   2 hdfs supergroup      6.2 M 2021-01-28 08:27 /public/nyse_all/nyse_data/NYSE_2006.txt.gz\n",
      "-rw-r--r--   2 hdfs supergroup      6.6 M 2021-01-28 11:27 /public/nyse_all/nyse_data/NYSE_2007.txt.gz\n",
      "-rw-r--r--   2 hdfs supergroup      6.8 M 2021-01-28 11:01 /public/nyse_all/nyse_data/NYSE_2008.txt.gz\n",
      "-rw-r--r--   2 hdfs supergroup      6.9 M 2021-01-28 07:41 /public/nyse_all/nyse_data/NYSE_2009.txt.gz\n",
      "-rw-r--r--   2 hdfs supergroup      7.2 M 2021-01-28 09:25 /public/nyse_all/nyse_data/NYSE_2010.txt.gz\n",
      "-rw-r--r--   2 hdfs supergroup      7.6 M 2021-01-28 08:54 /public/nyse_all/nyse_data/NYSE_2011.txt.gz\n",
      "-rw-r--r--   2 hdfs supergroup      8.1 M 2021-01-28 11:31 /public/nyse_all/nyse_data/NYSE_2012.txt.gz\n",
      "-rw-r--r--   2 hdfs supergroup      9.1 M 2021-01-28 08:55 /public/nyse_all/nyse_data/NYSE_2013.txt.gz\n",
      "-rw-r--r--   2 hdfs supergroup     10.1 M 2021-01-28 09:31 /public/nyse_all/nyse_data/NYSE_2014.txt.gz\n",
      "-rw-r--r--   2 hdfs supergroup     10.8 M 2021-01-28 08:41 /public/nyse_all/nyse_data/NYSE_2015.txt.gz\n",
      "-rw-r--r--   2 hdfs supergroup     11.3 M 2021-01-28 09:23 /public/nyse_all/nyse_data/NYSE_2016.txt.gz\n"
     ]
    }
   ],
   "source": [
    "%%sh\n",
    "\n",
    "hdfs dfs -ls -h -S -r /public/nyse_all/nyse_data"
   ]
  },
  {
   "cell_type": "code",
   "execution_count": null,
   "metadata": {},
   "outputs": [],
   "source": []
  }
 ],
 "metadata": {
  "kernelspec": {
   "display_name": "Python 3",
   "language": "python",
   "name": "python3"
  },
  "language_info": {
   "codemirror_mode": {
    "name": "ipython",
    "version": 3
   },
   "file_extension": ".py",
   "mimetype": "text/x-python",
   "name": "python",
   "nbconvert_exporter": "python",
   "pygments_lexer": "ipython3",
   "version": "3.6.12"
  }
 },
 "nbformat": 4,
 "nbformat_minor": 4
}
