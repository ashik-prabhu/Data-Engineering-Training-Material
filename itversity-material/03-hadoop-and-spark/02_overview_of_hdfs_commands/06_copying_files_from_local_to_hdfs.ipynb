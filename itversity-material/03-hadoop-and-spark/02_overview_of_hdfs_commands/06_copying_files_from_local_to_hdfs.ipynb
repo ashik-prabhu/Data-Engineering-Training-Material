{
 "cells": [
  {
   "cell_type": "markdown",
   "metadata": {},
   "source": [
    "## Copying files from local to HDFS\n",
    "\n",
    "We can copy files from local file system to HDFS either by using `copyFromLocal` or `put` command."
   ]
  },
  {
   "cell_type": "markdown",
   "metadata": {},
   "source": [
    "* `hdfs dfs -copyFromLocal` or `hdfs dfs -put` – to copy files or directories from local filesystem into HDFS. We can also use `hadoop fs` in place of `hdfs dfs`.\n",
    "* However, we will not be able to update or fix data in files when they are in HDFS. If we have to fix any data, we have to move file to local file system, fix data and then copy back to HDFS.\n",
    "* Files will be divided into blocks and will be stored on Datanodes in distributed fashion based on block size and replication factor. We will get into the details later.\n",
    "\n",
    "![test](https://s3.amazonaws.com/kaizen.itversity.com/hadoop-overview/04HDFSAnatomyOfFileWrite.png)"
   ]
  },
  {
   "cell_type": "code",
   "execution_count": 1,
   "metadata": {},
   "outputs": [
    {
     "name": "stdout",
     "output_type": "stream",
     "text": [
      "Found 3 items\n",
      "drwx------   - itv002461 supergroup          0 2022-05-25 04:05 /user/itv002461/.Trash\n",
      "drwxr-xr-x   - itv002461 supergroup          0 2022-05-25 05:30 /user/itv002461/.sparkStaging\n",
      "drwxr-xr-x   - itv002461 supergroup          0 2022-05-25 04:11 /user/itv002461/warehouse\n"
     ]
    }
   ],
   "source": [
    "%%sh\n",
    "\n",
    "hdfs dfs -ls /user/${USER}"
   ]
  },
  {
   "cell_type": "code",
   "execution_count": 2,
   "metadata": {},
   "outputs": [],
   "source": [
    "%%sh\n",
    "\n",
    "hdfs dfs -mkdir /user/${USER}/retail_db"
   ]
  },
  {
   "cell_type": "code",
   "execution_count": 3,
   "metadata": {},
   "outputs": [
    {
     "name": "stdout",
     "output_type": "stream",
     "text": [
      "Found 4 items\n",
      "drwx------   - itv002461 supergroup          0 2022-05-25 04:05 /user/itv002461/.Trash\n",
      "drwxr-xr-x   - itv002461 supergroup          0 2022-05-25 05:30 /user/itv002461/.sparkStaging\n",
      "drwxr-xr-x   - itv002461 supergroup          0 2022-05-25 08:22 /user/itv002461/retail_db\n",
      "drwxr-xr-x   - itv002461 supergroup          0 2022-05-25 04:11 /user/itv002461/warehouse\n"
     ]
    }
   ],
   "source": [
    "%%sh\n",
    "\n",
    "hdfs dfs -ls /user/${USER}"
   ]
  },
  {
   "cell_type": "code",
   "execution_count": 4,
   "metadata": {},
   "outputs": [],
   "source": [
    "%%sh\n",
    "\n",
    "hdfs dfs -ls /user/${USER}/retail_db"
   ]
  },
  {
   "cell_type": "code",
   "execution_count": 5,
   "metadata": {},
   "outputs": [
    {
     "name": "stdout",
     "output_type": "stream",
     "text": [
      "-put [-f] [-p] [-l] [-d] <localsrc> ... <dst> :\n",
      "  Copy files from the local file system into fs. Copying fails if the file already\n",
      "  exists, unless the -f flag is given.\n",
      "  Flags:\n",
      "                                                                       \n",
      "  -p  Preserves access and modification times, ownership and the mode. \n",
      "  -f  Overwrites the destination if it already exists.                 \n",
      "  -l  Allow DataNode to lazily persist the file to disk. Forces        \n",
      "         replication factor of 1. This flag will result in reduced\n",
      "         durability. Use with care.\n",
      "                                                        \n",
      "  -d  Skip creation of temporary file(<dst>._COPYING_). \n"
     ]
    }
   ],
   "source": [
    "%%sh\n",
    "\n",
    "hdfs dfs -help put"
   ]
  },
  {
   "cell_type": "code",
   "execution_count": 6,
   "metadata": {},
   "outputs": [
    {
     "name": "stdout",
     "output_type": "stream",
     "text": [
      "-copyFromLocal [-f] [-p] [-l] [-d] [-t <thread count>] <localsrc> ... <dst> :\n",
      "  Copy files from the local file system into fs. Copying fails if the file already\n",
      "  exists, unless the -f flag is given.\n",
      "  Flags:\n",
      "                                                                                 \n",
      "  -p                 Preserves access and modification times, ownership and the  \n",
      "                     mode.                                                       \n",
      "  -f                 Overwrites the destination if it already exists.            \n",
      "  -t <thread count>  Number of threads to be used, default is 1.                 \n",
      "  -l                 Allow DataNode to lazily persist the file to disk. Forces   \n",
      "                     replication factor of 1. This flag will result in reduced   \n",
      "                     durability. Use with care.                                  \n",
      "  -d                 Skip creation of temporary file(<dst>._COPYING_).           \n"
     ]
    }
   ],
   "source": [
    "%%sh\n",
    "\n",
    "hdfs dfs -help copyFromLocal"
   ]
  },
  {
   "cell_type": "markdown",
   "metadata": {},
   "source": [
    "```{warning}\n",
    "This will copy the entire folder to `/user/${USER}/retail_db` and you will see `/user/${USER}/retail_db/retail_db`. You can use the next command to get files as expected.\n",
    "```"
   ]
  },
  {
   "cell_type": "code",
   "execution_count": 7,
   "metadata": {},
   "outputs": [
    {
     "name": "stdout",
     "output_type": "stream",
     "text": [
      "total 20156\n",
      "-rw-r--r-- 1 root root      806 Jan 21  2021 README.md\n",
      "drwxr-xr-x 2 root root     4096 Jan 21  2021 products\n",
      "drwxr-xr-x 2 root root     4096 Jan 21  2021 orders\n",
      "drwxr-xr-x 2 root root     4096 Jan 21  2021 order_items\n",
      "-rw-r--r-- 1 root root 10297372 Jan 21  2021 load_db_tables_pg.sql\n",
      "drwxr-xr-x 2 root root     4096 Jan 21  2021 departments\n",
      "drwxr-xr-x 2 root root     4096 Jan 21  2021 customers\n",
      "-rw-r--r-- 1 root root     1748 Jan 21  2021 create_db_tables_pg.sql\n",
      "-rw-r--r-- 1 root root 10303297 Jan 21  2021 create_db.sql\n",
      "drwxr-xr-x 2 root root     4096 Jan 21  2021 categories\n"
     ]
    }
   ],
   "source": [
    "%%sh\n",
    "\n",
    "ls -ltr /data/retail_db"
   ]
  },
  {
   "cell_type": "code",
   "execution_count": 9,
   "metadata": {},
   "outputs": [
    {
     "name": "stderr",
     "output_type": "stream",
     "text": [
      "put: `/user/itv002461/retail_db/retail_db/departments/part-00000': File exists\n",
      "put: `/user/itv002461/retail_db/retail_db/products/part-00000': File exists\n",
      "put: `/user/itv002461/retail_db/retail_db/README.md': File exists\n",
      "put: `/user/itv002461/retail_db/retail_db/create_db_tables_pg.sql': File exists\n",
      "put: `/user/itv002461/retail_db/retail_db/load_db_tables_pg.sql': File exists\n",
      "put: `/user/itv002461/retail_db/retail_db/categories/part-00000': File exists\n",
      "put: `/user/itv002461/retail_db/retail_db/create_db.sql': File exists\n",
      "put: `/user/itv002461/retail_db/retail_db/orders/part-00000': File exists\n",
      "put: `/user/itv002461/retail_db/retail_db/customers/part-00000': File exists\n",
      "put: `/user/itv002461/retail_db/retail_db/order_items/part-00000': File exists\n",
      "put: `/user/itv002461/retail_db/retail_db/.git/packed-refs': File exists\n",
      "put: `/user/itv002461/retail_db/retail_db/.git/HEAD': File exists\n",
      "put: `/user/itv002461/retail_db/retail_db/.git/description': File exists\n",
      "put: `/user/itv002461/retail_db/retail_db/.git/objects/1f/1bd72ebcfcf65c212e84044d239aa3fe653fb6': File exists\n",
      "put: `/user/itv002461/retail_db/retail_db/.git/objects/41/1d0ce6478c6e98628d2801eb3903ba9e410b84': File exists\n",
      "put: `/user/itv002461/retail_db/retail_db/.git/objects/52/6ae0bf67e6bf8e3377e780d4132f760feccfc6': File exists\n",
      "put: `/user/itv002461/retail_db/retail_db/.git/objects/27/4a7a03b99b5f307287958b1824f0e279bc2ead': File exists\n",
      "put: `/user/itv002461/retail_db/retail_db/.git/objects/56/0e6b0d52c384ec6e253b329956850442014472': File exists\n",
      "put: `/user/itv002461/retail_db/retail_db/.git/objects/5f/88dd9fe2d063aa140f6cc73aaeef849bcad3df': File exists\n",
      "put: `/user/itv002461/retail_db/retail_db/.git/objects/0a/f34d00acb230df2f1f1c44ca252959232a358e': File exists\n",
      "put: `/user/itv002461/retail_db/retail_db/.git/objects/36/2a91889067da2c09e081526bcfafe8040fa867': File exists\n",
      "put: `/user/itv002461/retail_db/retail_db/.git/objects/88/e73fe52979b9611f2186810800bbdea1e7f025': File exists\n",
      "put: `/user/itv002461/retail_db/retail_db/.git/objects/c0/8eab720921bfab7283bda9c2f7375af637ed47': File exists\n",
      "put: `/user/itv002461/retail_db/retail_db/.git/objects/dc/c77dd21e88aac23709cd526f79ed90318ee9a5': File exists\n",
      "put: `/user/itv002461/retail_db/retail_db/.git/objects/35/ad0bc10e4e6349c47b2a93eed8f8004705a31c': File exists\n",
      "put: `/user/itv002461/retail_db/retail_db/.git/objects/07/092483d626505d5f1673282aba1e39ff7acef7': File exists\n",
      "put: `/user/itv002461/retail_db/retail_db/.git/objects/13/1988a13dfdcd89c3bd01e4a2ddcf4fc9fc8535': File exists\n",
      "put: `/user/itv002461/retail_db/retail_db/.git/objects/e6/48b7b889231e1c9cb7ddde4d549b0e059ad002': File exists\n",
      "put: `/user/itv002461/retail_db/retail_db/.git/objects/20/dd3be600599c8f82a09d0f3217adab77454d63': File exists\n",
      "put: `/user/itv002461/retail_db/retail_db/.git/objects/a2/a8eea2b6436fb952904fd7cfc26a1dae5f56af': File exists\n",
      "put: `/user/itv002461/retail_db/retail_db/.git/objects/a9/10ce1ba0f6db8d91a6b1f0ec1e09db2a4db302': File exists\n",
      "put: `/user/itv002461/retail_db/retail_db/.git/objects/9f/dd92a48e239af4f2d8f592444ca606558be510': File exists\n",
      "put: `/user/itv002461/retail_db/retail_db/.git/objects/fe/c19a1bf156441793d6f444758dffed0c07f8e8': File exists\n",
      "put: `/user/itv002461/retail_db/retail_db/.git/objects/fe/feb4bb2f9d49682507c5e4d08f1112af5203bf': File exists\n",
      "put: `/user/itv002461/retail_db/retail_db/.git/objects/f6/47e787bee6b7f17a995d65388d627c5396d41f': File exists\n",
      "put: `/user/itv002461/retail_db/retail_db/.git/objects/51/c15e1e83260608494ec80a500a54d11aca4304': File exists\n",
      "put: `/user/itv002461/retail_db/retail_db/.git/objects/f0/f6cfcf949e3493a4645f5214845f5d4612080c': File exists\n",
      "put: `/user/itv002461/retail_db/retail_db/.git/objects/58/2a386cf855b01260d86397f334e6307a088318': File exists\n",
      "put: `/user/itv002461/retail_db/retail_db/.git/objects/58/46680442d0410de239cb58df752369ddca3de1': File exists\n",
      "put: `/user/itv002461/retail_db/retail_db/.git/objects/a6/1448480f57b87f003a3a9fdf762f88c3548b32': File exists\n",
      "put: `/user/itv002461/retail_db/retail_db/.git/objects/30/a8b8d83ca72475731ff627ed2b98ef411fa14f': File exists\n",
      "put: `/user/itv002461/retail_db/retail_db/.git/objects/a8/600b1314a8a84eafcaeeb85fc28b6f4bffafbd': File exists\n",
      "put: `/user/itv002461/retail_db/retail_db/.git/objects/ae/5340fab29b1b91138ea83a7fe16f55d2de0d96': File exists\n",
      "put: `/user/itv002461/retail_db/retail_db/.git/objects/4a/872ba84139b7c8d4c2240c494503b8770d0956': File exists\n",
      "put: `/user/itv002461/retail_db/retail_db/.git/objects/e1/963013bb99974f03890064d602dc61e9cd601d': File exists\n",
      "put: `/user/itv002461/retail_db/retail_db/.git/objects/d5/31e42bca5c2b788bdc1559b3c4f5ae014774bf': File exists\n",
      "put: `/user/itv002461/retail_db/retail_db/.git/objects/c4/7834de705ad3a907127ada28b563ca06b88755': File exists\n",
      "put: `/user/itv002461/retail_db/retail_db/.git/objects/67/453ab8ec4f6bd570ff1a0b64856b277b2599f4': File exists\n",
      "put: `/user/itv002461/retail_db/retail_db/.git/objects/67/3d62b4b825ef284e73457d190ac8bb4cf33dcf': File exists\n",
      "put: `/user/itv002461/retail_db/retail_db/.git/objects/c2/dd4d7592d80530b56dd2e3dfa7f06ef0cac675': File exists\n",
      "put: `/user/itv002461/retail_db/retail_db/.git/objects/c5/b5b0f5774f5f42c31a5911ac90134148856c51': File exists\n",
      "put: `/user/itv002461/retail_db/retail_db/.git/objects/9a/bfbae18a93b615dd1944eff2d07fa18b06dcf7': File exists\n",
      "put: `/user/itv002461/retail_db/retail_db/.git/objects/f1/054a378578277c061bb0690195dd18cf9ab5dc': File exists\n",
      "put: `/user/itv002461/retail_db/retail_db/.git/objects/86/4f6b9a91e3152424e141d97dd01928c60e662c': File exists\n",
      "put: `/user/itv002461/retail_db/retail_db/.git/objects/b8/2b59cf6bc40bcf221cd381af72f6a6abb8658d': File exists\n",
      "put: `/user/itv002461/retail_db/retail_db/.git/objects/b8/419f83fc9b79d79fe58e01dce90802cc979dd0': File exists\n",
      "put: `/user/itv002461/retail_db/retail_db/.git/objects/f9/e734892acc42e74e8791b71a950eb7c92f05a8': File exists\n",
      "put: `/user/itv002461/retail_db/retail_db/.git/objects/97/75b581f9dd346e3096577f7ae3297f158b6373': File exists\n",
      "put: `/user/itv002461/retail_db/retail_db/.git/objects/e4/613fc9745843d32b57e1164f8def110ad2621e': File exists\n",
      "put: `/user/itv002461/retail_db/retail_db/.git/objects/06/d0171a85055a97026def5886f04b62d567832a': File exists\n",
      "put: `/user/itv002461/retail_db/retail_db/.git/refs/heads/master': File exists\n",
      "put: `/user/itv002461/retail_db/retail_db/.git/refs/remotes/origin/HEAD': File exists\n",
      "put: `/user/itv002461/retail_db/retail_db/.git/hooks/commit-msg.sample': File exists\n",
      "put: `/user/itv002461/retail_db/retail_db/.git/hooks/pre-applypatch.sample': File exists\n",
      "put: `/user/itv002461/retail_db/retail_db/.git/hooks/pre-push.sample': File exists\n",
      "put: `/user/itv002461/retail_db/retail_db/.git/hooks/pre-commit.sample': File exists\n",
      "put: `/user/itv002461/retail_db/retail_db/.git/hooks/prepare-commit-msg.sample': File exists\n",
      "put: `/user/itv002461/retail_db/retail_db/.git/hooks/update.sample': File exists\n",
      "put: `/user/itv002461/retail_db/retail_db/.git/hooks/applypatch-msg.sample': File exists\n",
      "put: `/user/itv002461/retail_db/retail_db/.git/hooks/pre-rebase.sample': File exists\n",
      "put: `/user/itv002461/retail_db/retail_db/.git/hooks/post-update.sample': File exists\n",
      "put: `/user/itv002461/retail_db/retail_db/.git/info/exclude': File exists\n",
      "put: `/user/itv002461/retail_db/retail_db/.git/logs/HEAD': File exists\n",
      "put: `/user/itv002461/retail_db/retail_db/.git/logs/refs/heads/master': File exists\n",
      "put: `/user/itv002461/retail_db/retail_db/.git/logs/refs/remotes/origin/HEAD': File exists\n",
      "put: `/user/itv002461/retail_db/retail_db/.git/index': File exists\n",
      "put: `/user/itv002461/retail_db/retail_db/.git/config': File exists\n"
     ]
    },
    {
     "ename": "CalledProcessError",
     "evalue": "Command 'b'\\nhdfs dfs -put /data/retail_db /user/${USER}/retail_db\\n'' returned non-zero exit status 1.",
     "output_type": "error",
     "traceback": [
      "\u001b[0;31m---------------------------------------------------------------------------\u001b[0m",
      "\u001b[0;31mCalledProcessError\u001b[0m                        Traceback (most recent call last)",
      "\u001b[0;32m<ipython-input-9-ce773848f1b5>\u001b[0m in \u001b[0;36m<module>\u001b[0;34m\u001b[0m\n\u001b[0;32m----> 1\u001b[0;31m \u001b[0mget_ipython\u001b[0m\u001b[0;34m(\u001b[0m\u001b[0;34m)\u001b[0m\u001b[0;34m.\u001b[0m\u001b[0mrun_cell_magic\u001b[0m\u001b[0;34m(\u001b[0m\u001b[0;34m'sh'\u001b[0m\u001b[0;34m,\u001b[0m \u001b[0;34m''\u001b[0m\u001b[0;34m,\u001b[0m \u001b[0;34m'\\nhdfs dfs -put /data/retail_db /user/${USER}/retail_db\\n'\u001b[0m\u001b[0;34m)\u001b[0m\u001b[0;34m\u001b[0m\u001b[0;34m\u001b[0m\u001b[0m\n\u001b[0m",
      "\u001b[0;32m/opt/anaconda3/envs/beakerx/lib/python3.6/site-packages/IPython/core/interactiveshell.py\u001b[0m in \u001b[0;36mrun_cell_magic\u001b[0;34m(self, magic_name, line, cell)\u001b[0m\n\u001b[1;32m   2369\u001b[0m             \u001b[0;32mwith\u001b[0m \u001b[0mself\u001b[0m\u001b[0;34m.\u001b[0m\u001b[0mbuiltin_trap\u001b[0m\u001b[0;34m:\u001b[0m\u001b[0;34m\u001b[0m\u001b[0;34m\u001b[0m\u001b[0m\n\u001b[1;32m   2370\u001b[0m                 \u001b[0margs\u001b[0m \u001b[0;34m=\u001b[0m \u001b[0;34m(\u001b[0m\u001b[0mmagic_arg_s\u001b[0m\u001b[0;34m,\u001b[0m \u001b[0mcell\u001b[0m\u001b[0;34m)\u001b[0m\u001b[0;34m\u001b[0m\u001b[0;34m\u001b[0m\u001b[0m\n\u001b[0;32m-> 2371\u001b[0;31m                 \u001b[0mresult\u001b[0m \u001b[0;34m=\u001b[0m \u001b[0mfn\u001b[0m\u001b[0;34m(\u001b[0m\u001b[0;34m*\u001b[0m\u001b[0margs\u001b[0m\u001b[0;34m,\u001b[0m \u001b[0;34m**\u001b[0m\u001b[0mkwargs\u001b[0m\u001b[0;34m)\u001b[0m\u001b[0;34m\u001b[0m\u001b[0;34m\u001b[0m\u001b[0m\n\u001b[0m\u001b[1;32m   2372\u001b[0m             \u001b[0;32mreturn\u001b[0m \u001b[0mresult\u001b[0m\u001b[0;34m\u001b[0m\u001b[0;34m\u001b[0m\u001b[0m\n\u001b[1;32m   2373\u001b[0m \u001b[0;34m\u001b[0m\u001b[0m\n",
      "\u001b[0;32m/opt/anaconda3/envs/beakerx/lib/python3.6/site-packages/IPython/core/magics/script.py\u001b[0m in \u001b[0;36mnamed_script_magic\u001b[0;34m(line, cell)\u001b[0m\n\u001b[1;32m    140\u001b[0m             \u001b[0;32melse\u001b[0m\u001b[0;34m:\u001b[0m\u001b[0;34m\u001b[0m\u001b[0;34m\u001b[0m\u001b[0m\n\u001b[1;32m    141\u001b[0m                 \u001b[0mline\u001b[0m \u001b[0;34m=\u001b[0m \u001b[0mscript\u001b[0m\u001b[0;34m\u001b[0m\u001b[0;34m\u001b[0m\u001b[0m\n\u001b[0;32m--> 142\u001b[0;31m             \u001b[0;32mreturn\u001b[0m \u001b[0mself\u001b[0m\u001b[0;34m.\u001b[0m\u001b[0mshebang\u001b[0m\u001b[0;34m(\u001b[0m\u001b[0mline\u001b[0m\u001b[0;34m,\u001b[0m \u001b[0mcell\u001b[0m\u001b[0;34m)\u001b[0m\u001b[0;34m\u001b[0m\u001b[0;34m\u001b[0m\u001b[0m\n\u001b[0m\u001b[1;32m    143\u001b[0m \u001b[0;34m\u001b[0m\u001b[0m\n\u001b[1;32m    144\u001b[0m         \u001b[0;31m# write a basic docstring:\u001b[0m\u001b[0;34m\u001b[0m\u001b[0;34m\u001b[0m\u001b[0;34m\u001b[0m\u001b[0m\n",
      "\u001b[0;32m<decorator-gen-110>\u001b[0m in \u001b[0;36mshebang\u001b[0;34m(self, line, cell)\u001b[0m\n",
      "\u001b[0;32m/opt/anaconda3/envs/beakerx/lib/python3.6/site-packages/IPython/core/magic.py\u001b[0m in \u001b[0;36m<lambda>\u001b[0;34m(f, *a, **k)\u001b[0m\n\u001b[1;32m    185\u001b[0m     \u001b[0;31m# but it's overkill for just that one bit of state.\u001b[0m\u001b[0;34m\u001b[0m\u001b[0;34m\u001b[0m\u001b[0;34m\u001b[0m\u001b[0m\n\u001b[1;32m    186\u001b[0m     \u001b[0;32mdef\u001b[0m \u001b[0mmagic_deco\u001b[0m\u001b[0;34m(\u001b[0m\u001b[0marg\u001b[0m\u001b[0;34m)\u001b[0m\u001b[0;34m:\u001b[0m\u001b[0;34m\u001b[0m\u001b[0;34m\u001b[0m\u001b[0m\n\u001b[0;32m--> 187\u001b[0;31m         \u001b[0mcall\u001b[0m \u001b[0;34m=\u001b[0m \u001b[0;32mlambda\u001b[0m \u001b[0mf\u001b[0m\u001b[0;34m,\u001b[0m \u001b[0;34m*\u001b[0m\u001b[0ma\u001b[0m\u001b[0;34m,\u001b[0m \u001b[0;34m**\u001b[0m\u001b[0mk\u001b[0m\u001b[0;34m:\u001b[0m \u001b[0mf\u001b[0m\u001b[0;34m(\u001b[0m\u001b[0;34m*\u001b[0m\u001b[0ma\u001b[0m\u001b[0;34m,\u001b[0m \u001b[0;34m**\u001b[0m\u001b[0mk\u001b[0m\u001b[0;34m)\u001b[0m\u001b[0;34m\u001b[0m\u001b[0;34m\u001b[0m\u001b[0m\n\u001b[0m\u001b[1;32m    188\u001b[0m \u001b[0;34m\u001b[0m\u001b[0m\n\u001b[1;32m    189\u001b[0m         \u001b[0;32mif\u001b[0m \u001b[0mcallable\u001b[0m\u001b[0;34m(\u001b[0m\u001b[0marg\u001b[0m\u001b[0;34m)\u001b[0m\u001b[0;34m:\u001b[0m\u001b[0;34m\u001b[0m\u001b[0;34m\u001b[0m\u001b[0m\n",
      "\u001b[0;32m/opt/anaconda3/envs/beakerx/lib/python3.6/site-packages/IPython/core/magics/script.py\u001b[0m in \u001b[0;36mshebang\u001b[0;34m(self, line, cell)\u001b[0m\n\u001b[1;32m    243\u001b[0m             \u001b[0msys\u001b[0m\u001b[0;34m.\u001b[0m\u001b[0mstderr\u001b[0m\u001b[0;34m.\u001b[0m\u001b[0mflush\u001b[0m\u001b[0;34m(\u001b[0m\u001b[0;34m)\u001b[0m\u001b[0;34m\u001b[0m\u001b[0;34m\u001b[0m\u001b[0m\n\u001b[1;32m    244\u001b[0m         \u001b[0;32mif\u001b[0m \u001b[0margs\u001b[0m\u001b[0;34m.\u001b[0m\u001b[0mraise_error\u001b[0m \u001b[0;32mand\u001b[0m \u001b[0mp\u001b[0m\u001b[0;34m.\u001b[0m\u001b[0mreturncode\u001b[0m\u001b[0;34m!=\u001b[0m\u001b[0;36m0\u001b[0m\u001b[0;34m:\u001b[0m\u001b[0;34m\u001b[0m\u001b[0;34m\u001b[0m\u001b[0m\n\u001b[0;32m--> 245\u001b[0;31m             \u001b[0;32mraise\u001b[0m \u001b[0mCalledProcessError\u001b[0m\u001b[0;34m(\u001b[0m\u001b[0mp\u001b[0m\u001b[0;34m.\u001b[0m\u001b[0mreturncode\u001b[0m\u001b[0;34m,\u001b[0m \u001b[0mcell\u001b[0m\u001b[0;34m,\u001b[0m \u001b[0moutput\u001b[0m\u001b[0;34m=\u001b[0m\u001b[0mout\u001b[0m\u001b[0;34m,\u001b[0m \u001b[0mstderr\u001b[0m\u001b[0;34m=\u001b[0m\u001b[0merr\u001b[0m\u001b[0;34m)\u001b[0m\u001b[0;34m\u001b[0m\u001b[0;34m\u001b[0m\u001b[0m\n\u001b[0m\u001b[1;32m    246\u001b[0m \u001b[0;34m\u001b[0m\u001b[0m\n\u001b[1;32m    247\u001b[0m     \u001b[0;32mdef\u001b[0m \u001b[0m_run_script\u001b[0m\u001b[0;34m(\u001b[0m\u001b[0mself\u001b[0m\u001b[0;34m,\u001b[0m \u001b[0mp\u001b[0m\u001b[0;34m,\u001b[0m \u001b[0mcell\u001b[0m\u001b[0;34m,\u001b[0m \u001b[0mto_close\u001b[0m\u001b[0;34m)\u001b[0m\u001b[0;34m:\u001b[0m\u001b[0;34m\u001b[0m\u001b[0;34m\u001b[0m\u001b[0m\n",
      "\u001b[0;31mCalledProcessError\u001b[0m: Command 'b'\\nhdfs dfs -put /data/retail_db /user/${USER}/retail_db\\n'' returned non-zero exit status 1."
     ]
    }
   ],
   "source": [
    "%%sh\n",
    "\n",
    "hdfs dfs -put /data/retail_db /user/${USER}/retail_db"
   ]
  },
  {
   "cell_type": "code",
   "execution_count": 10,
   "metadata": {},
   "outputs": [
    {
     "name": "stdout",
     "output_type": "stream",
     "text": [
      "Found 1 items\n",
      "drwxr-xr-x   - itv002461 supergroup          0 2022-05-25 08:25 /user/itv002461/retail_db/retail_db\n"
     ]
    }
   ],
   "source": [
    "%%sh\n",
    "\n",
    "hdfs dfs -ls /user/${USER}/retail_db"
   ]
  },
  {
   "cell_type": "code",
   "execution_count": 11,
   "metadata": {},
   "outputs": [
    {
     "name": "stdout",
     "output_type": "stream",
     "text": [
      "Found 11 items\n",
      "drwxr-xr-x   - itv002461 supergroup          0 2022-05-25 08:25 /user/itv002461/retail_db/retail_db/.git\n",
      "-rw-r--r--   3 itv002461 supergroup        806 2022-05-25 08:25 /user/itv002461/retail_db/retail_db/README.md\n",
      "drwxr-xr-x   - itv002461 supergroup          0 2022-05-25 08:25 /user/itv002461/retail_db/retail_db/categories\n",
      "-rw-r--r--   3 itv002461 supergroup   10303297 2022-05-25 08:25 /user/itv002461/retail_db/retail_db/create_db.sql\n",
      "-rw-r--r--   3 itv002461 supergroup       1748 2022-05-25 08:25 /user/itv002461/retail_db/retail_db/create_db_tables_pg.sql\n",
      "drwxr-xr-x   - itv002461 supergroup          0 2022-05-25 08:25 /user/itv002461/retail_db/retail_db/customers\n",
      "drwxr-xr-x   - itv002461 supergroup          0 2022-05-25 08:25 /user/itv002461/retail_db/retail_db/departments\n",
      "-rw-r--r--   3 itv002461 supergroup   10297372 2022-05-25 08:25 /user/itv002461/retail_db/retail_db/load_db_tables_pg.sql\n",
      "drwxr-xr-x   - itv002461 supergroup          0 2022-05-25 08:25 /user/itv002461/retail_db/retail_db/order_items\n",
      "drwxr-xr-x   - itv002461 supergroup          0 2022-05-25 08:25 /user/itv002461/retail_db/retail_db/orders\n",
      "drwxr-xr-x   - itv002461 supergroup          0 2022-05-25 08:25 /user/itv002461/retail_db/retail_db/products\n"
     ]
    }
   ],
   "source": [
    "%%sh\n",
    "\n",
    "hdfs dfs -ls /user/${USER}/retail_db/retail_db"
   ]
  },
  {
   "cell_type": "markdown",
   "metadata": {},
   "source": [
    "```{note}\n",
    "Let's drop this folder and make sure files are copied as expected. As the folder is pre-created, we can use patterns to copy the sub folders.\n",
    "```"
   ]
  },
  {
   "cell_type": "code",
   "execution_count": 12,
   "metadata": {},
   "outputs": [
    {
     "name": "stdout",
     "output_type": "stream",
     "text": [
      "-rm [-f] [-r|-R] [-skipTrash] [-safely] <src> ... :\n",
      "  Delete all files that match the specified file pattern. Equivalent to the Unix\n",
      "  command \"rm <src>\"\n",
      "                                                                                 \n",
      "  -f          If the file does not exist, do not display a diagnostic message or \n",
      "              modify the exit status to reflect an error.                        \n",
      "  -[rR]       Recursively deletes directories.                                   \n",
      "  -skipTrash  option bypasses trash, if enabled, and immediately deletes <src>.  \n",
      "  -safely     option requires safety confirmation, if enabled, requires          \n",
      "              confirmation before deleting large directory with more than        \n",
      "              <hadoop.shell.delete.limit.num.files> files. Delay is expected when\n",
      "              walking over large directory recursively to count the number of    \n",
      "              files to be deleted before the confirmation.                       \n"
     ]
    }
   ],
   "source": [
    "%%sh\n",
    "\n",
    "hdfs dfs -help rm"
   ]
  },
  {
   "cell_type": "code",
   "execution_count": 13,
   "metadata": {},
   "outputs": [
    {
     "name": "stdout",
     "output_type": "stream",
     "text": [
      "Deleted /user/itv002461/retail_db/retail_db\n"
     ]
    }
   ],
   "source": [
    "%%sh\n",
    "\n",
    "hdfs dfs -rm -R -skipTrash /user/${USER}/retail_db/retail_db"
   ]
  },
  {
   "cell_type": "code",
   "execution_count": 14,
   "metadata": {},
   "outputs": [],
   "source": [
    "%%sh\n",
    "\n",
    "hdfs dfs -ls /user/${USER}/retail_db/"
   ]
  },
  {
   "cell_type": "code",
   "execution_count": 15,
   "metadata": {},
   "outputs": [],
   "source": [
    "%%sh\n",
    "\n",
    "hdfs dfs -put /data/retail_db/order* /user/${USER}/retail_db"
   ]
  },
  {
   "cell_type": "code",
   "execution_count": 16,
   "metadata": {},
   "outputs": [
    {
     "name": "stdout",
     "output_type": "stream",
     "text": [
      "Found 2 items\n",
      "drwxr-xr-x   - itv002461 supergroup          0 2022-05-25 08:29 /user/itv002461/retail_db/order_items\n",
      "drwxr-xr-x   - itv002461 supergroup          0 2022-05-25 08:29 /user/itv002461/retail_db/orders\n"
     ]
    }
   ],
   "source": [
    "%%sh\n",
    "\n",
    "hdfs dfs -ls /user/${USER}/retail_db/"
   ]
  },
  {
   "cell_type": "code",
   "execution_count": 18,
   "metadata": {},
   "outputs": [],
   "source": [
    "%%sh\n",
    "\n",
    "hdfs dfs -put -f /data/retail_db/* /user/${USER}/retail_db"
   ]
  },
  {
   "cell_type": "code",
   "execution_count": 19,
   "metadata": {},
   "outputs": [
    {
     "name": "stdout",
     "output_type": "stream",
     "text": [
      "Found 10 items\n",
      "-rw-r--r--   3 itv002461 supergroup        806 2022-05-25 08:30 /user/itv002461/retail_db/README.md\n",
      "drwxr-xr-x   - itv002461 supergroup          0 2022-05-25 08:30 /user/itv002461/retail_db/categories\n",
      "-rw-r--r--   3 itv002461 supergroup   10303297 2022-05-25 08:30 /user/itv002461/retail_db/create_db.sql\n",
      "-rw-r--r--   3 itv002461 supergroup       1748 2022-05-25 08:30 /user/itv002461/retail_db/create_db_tables_pg.sql\n",
      "drwxr-xr-x   - itv002461 supergroup          0 2022-05-25 08:30 /user/itv002461/retail_db/customers\n",
      "drwxr-xr-x   - itv002461 supergroup          0 2022-05-25 08:30 /user/itv002461/retail_db/departments\n",
      "-rw-r--r--   3 itv002461 supergroup   10297372 2022-05-25 08:30 /user/itv002461/retail_db/load_db_tables_pg.sql\n",
      "drwxr-xr-x   - itv002461 supergroup          0 2022-05-25 08:30 /user/itv002461/retail_db/order_items\n",
      "drwxr-xr-x   - itv002461 supergroup          0 2022-05-25 08:30 /user/itv002461/retail_db/orders\n",
      "drwxr-xr-x   - itv002461 supergroup          0 2022-05-25 08:30 /user/itv002461/retail_db/products\n"
     ]
    }
   ],
   "source": [
    "%%sh\n",
    "\n",
    "hdfs dfs -ls /user/${USER}/retail_db/"
   ]
  },
  {
   "cell_type": "code",
   "execution_count": null,
   "metadata": {},
   "outputs": [],
   "source": [
    "%%sh\n",
    "\n",
    "hdfs dfs -ls -R /user/${USER}/retail_db/"
   ]
  },
  {
   "cell_type": "markdown",
   "metadata": {},
   "source": [
    "```{note}\n",
    "Alternatively you can use `copyFromLocal` as well.\n",
    "```"
   ]
  },
  {
   "cell_type": "code",
   "execution_count": 20,
   "metadata": {},
   "outputs": [
    {
     "name": "stdout",
     "output_type": "stream",
     "text": [
      "Deleted /user/itv002461/retail_db\n"
     ]
    }
   ],
   "source": [
    "%%sh\n",
    "\n",
    "hdfs dfs -rm -R -skipTrash /user/${USER}/retail_db"
   ]
  },
  {
   "cell_type": "code",
   "execution_count": 23,
   "metadata": {},
   "outputs": [
    {
     "name": "stderr",
     "output_type": "stream",
     "text": [
      "mkdir: `/user/itv002461/retail_db': File exists\n"
     ]
    },
    {
     "ename": "CalledProcessError",
     "evalue": "Command 'b'\\nhdfs dfs -mkdir /user/${USER}/retail_db\\n'' returned non-zero exit status 1.",
     "output_type": "error",
     "traceback": [
      "\u001b[0;31m---------------------------------------------------------------------------\u001b[0m",
      "\u001b[0;31mCalledProcessError\u001b[0m                        Traceback (most recent call last)",
      "\u001b[0;32m<ipython-input-23-f2eb4c0d5fe5>\u001b[0m in \u001b[0;36m<module>\u001b[0;34m\u001b[0m\n\u001b[0;32m----> 1\u001b[0;31m \u001b[0mget_ipython\u001b[0m\u001b[0;34m(\u001b[0m\u001b[0;34m)\u001b[0m\u001b[0;34m.\u001b[0m\u001b[0mrun_cell_magic\u001b[0m\u001b[0;34m(\u001b[0m\u001b[0;34m'sh'\u001b[0m\u001b[0;34m,\u001b[0m \u001b[0;34m''\u001b[0m\u001b[0;34m,\u001b[0m \u001b[0;34m'\\nhdfs dfs -mkdir /user/${USER}/retail_db\\n'\u001b[0m\u001b[0;34m)\u001b[0m\u001b[0;34m\u001b[0m\u001b[0;34m\u001b[0m\u001b[0m\n\u001b[0m",
      "\u001b[0;32m/opt/anaconda3/envs/beakerx/lib/python3.6/site-packages/IPython/core/interactiveshell.py\u001b[0m in \u001b[0;36mrun_cell_magic\u001b[0;34m(self, magic_name, line, cell)\u001b[0m\n\u001b[1;32m   2369\u001b[0m             \u001b[0;32mwith\u001b[0m \u001b[0mself\u001b[0m\u001b[0;34m.\u001b[0m\u001b[0mbuiltin_trap\u001b[0m\u001b[0;34m:\u001b[0m\u001b[0;34m\u001b[0m\u001b[0;34m\u001b[0m\u001b[0m\n\u001b[1;32m   2370\u001b[0m                 \u001b[0margs\u001b[0m \u001b[0;34m=\u001b[0m \u001b[0;34m(\u001b[0m\u001b[0mmagic_arg_s\u001b[0m\u001b[0;34m,\u001b[0m \u001b[0mcell\u001b[0m\u001b[0;34m)\u001b[0m\u001b[0;34m\u001b[0m\u001b[0;34m\u001b[0m\u001b[0m\n\u001b[0;32m-> 2371\u001b[0;31m                 \u001b[0mresult\u001b[0m \u001b[0;34m=\u001b[0m \u001b[0mfn\u001b[0m\u001b[0;34m(\u001b[0m\u001b[0;34m*\u001b[0m\u001b[0margs\u001b[0m\u001b[0;34m,\u001b[0m \u001b[0;34m**\u001b[0m\u001b[0mkwargs\u001b[0m\u001b[0;34m)\u001b[0m\u001b[0;34m\u001b[0m\u001b[0;34m\u001b[0m\u001b[0m\n\u001b[0m\u001b[1;32m   2372\u001b[0m             \u001b[0;32mreturn\u001b[0m \u001b[0mresult\u001b[0m\u001b[0;34m\u001b[0m\u001b[0;34m\u001b[0m\u001b[0m\n\u001b[1;32m   2373\u001b[0m \u001b[0;34m\u001b[0m\u001b[0m\n",
      "\u001b[0;32m/opt/anaconda3/envs/beakerx/lib/python3.6/site-packages/IPython/core/magics/script.py\u001b[0m in \u001b[0;36mnamed_script_magic\u001b[0;34m(line, cell)\u001b[0m\n\u001b[1;32m    140\u001b[0m             \u001b[0;32melse\u001b[0m\u001b[0;34m:\u001b[0m\u001b[0;34m\u001b[0m\u001b[0;34m\u001b[0m\u001b[0m\n\u001b[1;32m    141\u001b[0m                 \u001b[0mline\u001b[0m \u001b[0;34m=\u001b[0m \u001b[0mscript\u001b[0m\u001b[0;34m\u001b[0m\u001b[0;34m\u001b[0m\u001b[0m\n\u001b[0;32m--> 142\u001b[0;31m             \u001b[0;32mreturn\u001b[0m \u001b[0mself\u001b[0m\u001b[0;34m.\u001b[0m\u001b[0mshebang\u001b[0m\u001b[0;34m(\u001b[0m\u001b[0mline\u001b[0m\u001b[0;34m,\u001b[0m \u001b[0mcell\u001b[0m\u001b[0;34m)\u001b[0m\u001b[0;34m\u001b[0m\u001b[0;34m\u001b[0m\u001b[0m\n\u001b[0m\u001b[1;32m    143\u001b[0m \u001b[0;34m\u001b[0m\u001b[0m\n\u001b[1;32m    144\u001b[0m         \u001b[0;31m# write a basic docstring:\u001b[0m\u001b[0;34m\u001b[0m\u001b[0;34m\u001b[0m\u001b[0;34m\u001b[0m\u001b[0m\n",
      "\u001b[0;32m<decorator-gen-110>\u001b[0m in \u001b[0;36mshebang\u001b[0;34m(self, line, cell)\u001b[0m\n",
      "\u001b[0;32m/opt/anaconda3/envs/beakerx/lib/python3.6/site-packages/IPython/core/magic.py\u001b[0m in \u001b[0;36m<lambda>\u001b[0;34m(f, *a, **k)\u001b[0m\n\u001b[1;32m    185\u001b[0m     \u001b[0;31m# but it's overkill for just that one bit of state.\u001b[0m\u001b[0;34m\u001b[0m\u001b[0;34m\u001b[0m\u001b[0;34m\u001b[0m\u001b[0m\n\u001b[1;32m    186\u001b[0m     \u001b[0;32mdef\u001b[0m \u001b[0mmagic_deco\u001b[0m\u001b[0;34m(\u001b[0m\u001b[0marg\u001b[0m\u001b[0;34m)\u001b[0m\u001b[0;34m:\u001b[0m\u001b[0;34m\u001b[0m\u001b[0;34m\u001b[0m\u001b[0m\n\u001b[0;32m--> 187\u001b[0;31m         \u001b[0mcall\u001b[0m \u001b[0;34m=\u001b[0m \u001b[0;32mlambda\u001b[0m \u001b[0mf\u001b[0m\u001b[0;34m,\u001b[0m \u001b[0;34m*\u001b[0m\u001b[0ma\u001b[0m\u001b[0;34m,\u001b[0m \u001b[0;34m**\u001b[0m\u001b[0mk\u001b[0m\u001b[0;34m:\u001b[0m \u001b[0mf\u001b[0m\u001b[0;34m(\u001b[0m\u001b[0;34m*\u001b[0m\u001b[0ma\u001b[0m\u001b[0;34m,\u001b[0m \u001b[0;34m**\u001b[0m\u001b[0mk\u001b[0m\u001b[0;34m)\u001b[0m\u001b[0;34m\u001b[0m\u001b[0;34m\u001b[0m\u001b[0m\n\u001b[0m\u001b[1;32m    188\u001b[0m \u001b[0;34m\u001b[0m\u001b[0m\n\u001b[1;32m    189\u001b[0m         \u001b[0;32mif\u001b[0m \u001b[0mcallable\u001b[0m\u001b[0;34m(\u001b[0m\u001b[0marg\u001b[0m\u001b[0;34m)\u001b[0m\u001b[0;34m:\u001b[0m\u001b[0;34m\u001b[0m\u001b[0;34m\u001b[0m\u001b[0m\n",
      "\u001b[0;32m/opt/anaconda3/envs/beakerx/lib/python3.6/site-packages/IPython/core/magics/script.py\u001b[0m in \u001b[0;36mshebang\u001b[0;34m(self, line, cell)\u001b[0m\n\u001b[1;32m    243\u001b[0m             \u001b[0msys\u001b[0m\u001b[0;34m.\u001b[0m\u001b[0mstderr\u001b[0m\u001b[0;34m.\u001b[0m\u001b[0mflush\u001b[0m\u001b[0;34m(\u001b[0m\u001b[0;34m)\u001b[0m\u001b[0;34m\u001b[0m\u001b[0;34m\u001b[0m\u001b[0m\n\u001b[1;32m    244\u001b[0m         \u001b[0;32mif\u001b[0m \u001b[0margs\u001b[0m\u001b[0;34m.\u001b[0m\u001b[0mraise_error\u001b[0m \u001b[0;32mand\u001b[0m \u001b[0mp\u001b[0m\u001b[0;34m.\u001b[0m\u001b[0mreturncode\u001b[0m\u001b[0;34m!=\u001b[0m\u001b[0;36m0\u001b[0m\u001b[0;34m:\u001b[0m\u001b[0;34m\u001b[0m\u001b[0;34m\u001b[0m\u001b[0m\n\u001b[0;32m--> 245\u001b[0;31m             \u001b[0;32mraise\u001b[0m \u001b[0mCalledProcessError\u001b[0m\u001b[0;34m(\u001b[0m\u001b[0mp\u001b[0m\u001b[0;34m.\u001b[0m\u001b[0mreturncode\u001b[0m\u001b[0;34m,\u001b[0m \u001b[0mcell\u001b[0m\u001b[0;34m,\u001b[0m \u001b[0moutput\u001b[0m\u001b[0;34m=\u001b[0m\u001b[0mout\u001b[0m\u001b[0;34m,\u001b[0m \u001b[0mstderr\u001b[0m\u001b[0;34m=\u001b[0m\u001b[0merr\u001b[0m\u001b[0;34m)\u001b[0m\u001b[0;34m\u001b[0m\u001b[0;34m\u001b[0m\u001b[0m\n\u001b[0m\u001b[1;32m    246\u001b[0m \u001b[0;34m\u001b[0m\u001b[0m\n\u001b[1;32m    247\u001b[0m     \u001b[0;32mdef\u001b[0m \u001b[0m_run_script\u001b[0m\u001b[0;34m(\u001b[0m\u001b[0mself\u001b[0m\u001b[0;34m,\u001b[0m \u001b[0mp\u001b[0m\u001b[0;34m,\u001b[0m \u001b[0mcell\u001b[0m\u001b[0;34m,\u001b[0m \u001b[0mto_close\u001b[0m\u001b[0;34m)\u001b[0m\u001b[0;34m:\u001b[0m\u001b[0;34m\u001b[0m\u001b[0;34m\u001b[0m\u001b[0m\n",
      "\u001b[0;31mCalledProcessError\u001b[0m: Command 'b'\\nhdfs dfs -mkdir /user/${USER}/retail_db\\n'' returned non-zero exit status 1."
     ]
    }
   ],
   "source": [
    "%%sh\n",
    "\n",
    "hdfs dfs -mkdir /user/${USER}/retail_db"
   ]
  },
  {
   "cell_type": "code",
   "execution_count": 24,
   "metadata": {},
   "outputs": [
    {
     "name": "stdout",
     "output_type": "stream",
     "text": [
      "Found 7 items\n",
      "drwxr-xr-x   - itversity itversity          0 2022-04-07 13:03 /user/itversity/retail_db/categories\n",
      "drwxr-xr-x   - itversity itversity          0 2022-04-07 13:03 /user/itversity/retail_db/customers\n",
      "drwxr-xr-x   - itversity itversity          0 2022-04-07 13:03 /user/itversity/retail_db/departments\n",
      "drwxr-xr-x   - itversity itversity          0 2022-04-07 13:03 /user/itversity/retail_db/order_items\n",
      "drwxr-xr-x   - itversity itversity          0 2022-04-07 13:03 /user/itversity/retail_db/orders\n",
      "drwxr-xr-x   - itversity itversity          0 2022-04-07 13:03 /user/itversity/retail_db/products\n",
      "-rw-r--r--   3 itversity itversity       4965 2022-04-07 13:03 /user/itversity/retail_db/wordcount.rtf\n"
     ]
    }
   ],
   "source": [
    "%%sh\n",
    "\n",
    "hdfs dfs -ls /user/itversity/retail_db/"
   ]
  },
  {
   "cell_type": "code",
   "execution_count": 25,
   "metadata": {},
   "outputs": [],
   "source": [
    "%%sh\n",
    "\n",
    "hdfs dfs -copyFromLocal /data/retail_db/* /user/${USER}/retail_db"
   ]
  },
  {
   "cell_type": "code",
   "execution_count": 26,
   "metadata": {},
   "outputs": [
    {
     "name": "stdout",
     "output_type": "stream",
     "text": [
      "Found 10 items\n",
      "-rw-r--r--   3 itv002461 supergroup        806 2022-05-25 10:03 /user/itv002461/retail_db/README.md\n",
      "drwxr-xr-x   - itv002461 supergroup          0 2022-05-25 10:03 /user/itv002461/retail_db/categories\n",
      "-rw-r--r--   3 itv002461 supergroup   10303297 2022-05-25 10:03 /user/itv002461/retail_db/create_db.sql\n",
      "-rw-r--r--   3 itv002461 supergroup       1748 2022-05-25 10:03 /user/itv002461/retail_db/create_db_tables_pg.sql\n",
      "drwxr-xr-x   - itv002461 supergroup          0 2022-05-25 10:03 /user/itv002461/retail_db/customers\n",
      "drwxr-xr-x   - itv002461 supergroup          0 2022-05-25 10:03 /user/itv002461/retail_db/departments\n",
      "-rw-r--r--   3 itv002461 supergroup   10297372 2022-05-25 10:03 /user/itv002461/retail_db/load_db_tables_pg.sql\n",
      "drwxr-xr-x   - itv002461 supergroup          0 2022-05-25 10:03 /user/itv002461/retail_db/order_items\n",
      "drwxr-xr-x   - itv002461 supergroup          0 2022-05-25 10:03 /user/itv002461/retail_db/orders\n",
      "drwxr-xr-x   - itv002461 supergroup          0 2022-05-25 10:03 /user/itv002461/retail_db/products\n"
     ]
    }
   ],
   "source": [
    "%%sh\n",
    "\n",
    "hdfs dfs -ls /user/${USER}/retail_db"
   ]
  },
  {
   "cell_type": "markdown",
   "metadata": {},
   "source": [
    "```{note}\n",
    "We can also use this alternative approach to directly copy the folder `/data/retail_db` to `/user/${USER}/retail_db`. Let us first delete `/user/${USER}/retail_db` using `skipTrash`.\n",
    "```"
   ]
  },
  {
   "cell_type": "code",
   "execution_count": 27,
   "metadata": {},
   "outputs": [
    {
     "name": "stdout",
     "output_type": "stream",
     "text": [
      "Deleted /user/itv002461/retail_db\n"
     ]
    }
   ],
   "source": [
    "%%sh\n",
    "\n",
    "hdfs dfs -rm -R -skipTrash /user/${USER}/retail_db"
   ]
  },
  {
   "cell_type": "markdown",
   "metadata": {},
   "source": [
    "```{note}\n",
    "We can specify the target location as `/user/${USER}`. It will create the retail_db folder and its contents.\n",
    "```"
   ]
  },
  {
   "cell_type": "code",
   "execution_count": 28,
   "metadata": {},
   "outputs": [],
   "source": [
    "%%sh\n",
    "\n",
    "hdfs dfs -put /data/retail_db /user/${USER}"
   ]
  },
  {
   "cell_type": "code",
   "execution_count": 29,
   "metadata": {},
   "outputs": [
    {
     "name": "stdout",
     "output_type": "stream",
     "text": [
      "Found 11 items\n",
      "drwxr-xr-x   - itv002461 supergroup          0 2022-05-25 10:04 /user/itv002461/retail_db/.git\n",
      "-rw-r--r--   3 itv002461 supergroup        806 2022-05-25 10:03 /user/itv002461/retail_db/README.md\n",
      "drwxr-xr-x   - itv002461 supergroup          0 2022-05-25 10:03 /user/itv002461/retail_db/categories\n",
      "-rw-r--r--   3 itv002461 supergroup   10303297 2022-05-25 10:03 /user/itv002461/retail_db/create_db.sql\n",
      "-rw-r--r--   3 itv002461 supergroup       1748 2022-05-25 10:03 /user/itv002461/retail_db/create_db_tables_pg.sql\n",
      "drwxr-xr-x   - itv002461 supergroup          0 2022-05-25 10:03 /user/itv002461/retail_db/customers\n",
      "drwxr-xr-x   - itv002461 supergroup          0 2022-05-25 10:03 /user/itv002461/retail_db/departments\n",
      "-rw-r--r--   3 itv002461 supergroup   10297372 2022-05-25 10:03 /user/itv002461/retail_db/load_db_tables_pg.sql\n",
      "drwxr-xr-x   - itv002461 supergroup          0 2022-05-25 10:03 /user/itv002461/retail_db/order_items\n",
      "drwxr-xr-x   - itv002461 supergroup          0 2022-05-25 10:03 /user/itv002461/retail_db/orders\n",
      "drwxr-xr-x   - itv002461 supergroup          0 2022-05-25 10:03 /user/itv002461/retail_db/products\n"
     ]
    }
   ],
   "source": [
    "%%sh\n",
    "\n",
    "hdfs dfs -ls /user/${USER}/retail_db"
   ]
  },
  {
   "cell_type": "markdown",
   "metadata": {},
   "source": [
    "* If we try to run `hdfs dfs -put /data/retail_db /user/${USER}` again it will fail as the target folder already exists."
   ]
  },
  {
   "cell_type": "code",
   "execution_count": 30,
   "metadata": {},
   "outputs": [
    {
     "name": "stderr",
     "output_type": "stream",
     "text": [
      "put: `/user/itv002461/retail_db/departments/part-00000': File exists\n",
      "put: `/user/itv002461/retail_db/products/part-00000': File exists\n",
      "put: `/user/itv002461/retail_db/README.md': File exists\n",
      "put: `/user/itv002461/retail_db/create_db_tables_pg.sql': File exists\n",
      "put: `/user/itv002461/retail_db/load_db_tables_pg.sql': File exists\n",
      "put: `/user/itv002461/retail_db/categories/part-00000': File exists\n",
      "put: `/user/itv002461/retail_db/create_db.sql': File exists\n",
      "put: `/user/itv002461/retail_db/orders/part-00000': File exists\n",
      "put: `/user/itv002461/retail_db/customers/part-00000': File exists\n",
      "put: `/user/itv002461/retail_db/order_items/part-00000': File exists\n",
      "put: `/user/itv002461/retail_db/.git/packed-refs': File exists\n",
      "put: `/user/itv002461/retail_db/.git/HEAD': File exists\n",
      "put: `/user/itv002461/retail_db/.git/description': File exists\n",
      "put: `/user/itv002461/retail_db/.git/objects/1f/1bd72ebcfcf65c212e84044d239aa3fe653fb6': File exists\n",
      "put: `/user/itv002461/retail_db/.git/objects/41/1d0ce6478c6e98628d2801eb3903ba9e410b84': File exists\n",
      "put: `/user/itv002461/retail_db/.git/objects/52/6ae0bf67e6bf8e3377e780d4132f760feccfc6': File exists\n",
      "put: `/user/itv002461/retail_db/.git/objects/27/4a7a03b99b5f307287958b1824f0e279bc2ead': File exists\n",
      "put: `/user/itv002461/retail_db/.git/objects/56/0e6b0d52c384ec6e253b329956850442014472': File exists\n",
      "put: `/user/itv002461/retail_db/.git/objects/5f/88dd9fe2d063aa140f6cc73aaeef849bcad3df': File exists\n",
      "put: `/user/itv002461/retail_db/.git/objects/0a/f34d00acb230df2f1f1c44ca252959232a358e': File exists\n",
      "put: `/user/itv002461/retail_db/.git/objects/36/2a91889067da2c09e081526bcfafe8040fa867': File exists\n",
      "put: `/user/itv002461/retail_db/.git/objects/88/e73fe52979b9611f2186810800bbdea1e7f025': File exists\n",
      "put: `/user/itv002461/retail_db/.git/objects/c0/8eab720921bfab7283bda9c2f7375af637ed47': File exists\n",
      "put: `/user/itv002461/retail_db/.git/objects/dc/c77dd21e88aac23709cd526f79ed90318ee9a5': File exists\n",
      "put: `/user/itv002461/retail_db/.git/objects/35/ad0bc10e4e6349c47b2a93eed8f8004705a31c': File exists\n",
      "put: `/user/itv002461/retail_db/.git/objects/07/092483d626505d5f1673282aba1e39ff7acef7': File exists\n",
      "put: `/user/itv002461/retail_db/.git/objects/13/1988a13dfdcd89c3bd01e4a2ddcf4fc9fc8535': File exists\n",
      "put: `/user/itv002461/retail_db/.git/objects/e6/48b7b889231e1c9cb7ddde4d549b0e059ad002': File exists\n",
      "put: `/user/itv002461/retail_db/.git/objects/20/dd3be600599c8f82a09d0f3217adab77454d63': File exists\n",
      "put: `/user/itv002461/retail_db/.git/objects/a2/a8eea2b6436fb952904fd7cfc26a1dae5f56af': File exists\n",
      "put: `/user/itv002461/retail_db/.git/objects/a9/10ce1ba0f6db8d91a6b1f0ec1e09db2a4db302': File exists\n",
      "put: `/user/itv002461/retail_db/.git/objects/9f/dd92a48e239af4f2d8f592444ca606558be510': File exists\n",
      "put: `/user/itv002461/retail_db/.git/objects/fe/c19a1bf156441793d6f444758dffed0c07f8e8': File exists\n",
      "put: `/user/itv002461/retail_db/.git/objects/fe/feb4bb2f9d49682507c5e4d08f1112af5203bf': File exists\n",
      "put: `/user/itv002461/retail_db/.git/objects/f6/47e787bee6b7f17a995d65388d627c5396d41f': File exists\n",
      "put: `/user/itv002461/retail_db/.git/objects/51/c15e1e83260608494ec80a500a54d11aca4304': File exists\n",
      "put: `/user/itv002461/retail_db/.git/objects/f0/f6cfcf949e3493a4645f5214845f5d4612080c': File exists\n",
      "put: `/user/itv002461/retail_db/.git/objects/58/2a386cf855b01260d86397f334e6307a088318': File exists\n",
      "put: `/user/itv002461/retail_db/.git/objects/58/46680442d0410de239cb58df752369ddca3de1': File exists\n",
      "put: `/user/itv002461/retail_db/.git/objects/a6/1448480f57b87f003a3a9fdf762f88c3548b32': File exists\n",
      "put: `/user/itv002461/retail_db/.git/objects/30/a8b8d83ca72475731ff627ed2b98ef411fa14f': File exists\n",
      "put: `/user/itv002461/retail_db/.git/objects/a8/600b1314a8a84eafcaeeb85fc28b6f4bffafbd': File exists\n",
      "put: `/user/itv002461/retail_db/.git/objects/ae/5340fab29b1b91138ea83a7fe16f55d2de0d96': File exists\n",
      "put: `/user/itv002461/retail_db/.git/objects/4a/872ba84139b7c8d4c2240c494503b8770d0956': File exists\n",
      "put: `/user/itv002461/retail_db/.git/objects/e1/963013bb99974f03890064d602dc61e9cd601d': File exists\n",
      "put: `/user/itv002461/retail_db/.git/objects/d5/31e42bca5c2b788bdc1559b3c4f5ae014774bf': File exists\n",
      "put: `/user/itv002461/retail_db/.git/objects/c4/7834de705ad3a907127ada28b563ca06b88755': File exists\n",
      "put: `/user/itv002461/retail_db/.git/objects/67/453ab8ec4f6bd570ff1a0b64856b277b2599f4': File exists\n",
      "put: `/user/itv002461/retail_db/.git/objects/67/3d62b4b825ef284e73457d190ac8bb4cf33dcf': File exists\n",
      "put: `/user/itv002461/retail_db/.git/objects/c2/dd4d7592d80530b56dd2e3dfa7f06ef0cac675': File exists\n",
      "put: `/user/itv002461/retail_db/.git/objects/c5/b5b0f5774f5f42c31a5911ac90134148856c51': File exists\n",
      "put: `/user/itv002461/retail_db/.git/objects/9a/bfbae18a93b615dd1944eff2d07fa18b06dcf7': File exists\n",
      "put: `/user/itv002461/retail_db/.git/objects/f1/054a378578277c061bb0690195dd18cf9ab5dc': File exists\n",
      "put: `/user/itv002461/retail_db/.git/objects/86/4f6b9a91e3152424e141d97dd01928c60e662c': File exists\n",
      "put: `/user/itv002461/retail_db/.git/objects/b8/2b59cf6bc40bcf221cd381af72f6a6abb8658d': File exists\n",
      "put: `/user/itv002461/retail_db/.git/objects/b8/419f83fc9b79d79fe58e01dce90802cc979dd0': File exists\n",
      "put: `/user/itv002461/retail_db/.git/objects/f9/e734892acc42e74e8791b71a950eb7c92f05a8': File exists\n",
      "put: `/user/itv002461/retail_db/.git/objects/97/75b581f9dd346e3096577f7ae3297f158b6373': File exists\n",
      "put: `/user/itv002461/retail_db/.git/objects/e4/613fc9745843d32b57e1164f8def110ad2621e': File exists\n",
      "put: `/user/itv002461/retail_db/.git/objects/06/d0171a85055a97026def5886f04b62d567832a': File exists\n",
      "put: `/user/itv002461/retail_db/.git/refs/heads/master': File exists\n",
      "put: `/user/itv002461/retail_db/.git/refs/remotes/origin/HEAD': File exists\n",
      "put: `/user/itv002461/retail_db/.git/hooks/commit-msg.sample': File exists\n",
      "put: `/user/itv002461/retail_db/.git/hooks/pre-applypatch.sample': File exists\n",
      "put: `/user/itv002461/retail_db/.git/hooks/pre-push.sample': File exists\n",
      "put: `/user/itv002461/retail_db/.git/hooks/pre-commit.sample': File exists\n",
      "put: `/user/itv002461/retail_db/.git/hooks/prepare-commit-msg.sample': File exists\n",
      "put: `/user/itv002461/retail_db/.git/hooks/update.sample': File exists\n",
      "put: `/user/itv002461/retail_db/.git/hooks/applypatch-msg.sample': File exists\n",
      "put: `/user/itv002461/retail_db/.git/hooks/pre-rebase.sample': File exists\n",
      "put: `/user/itv002461/retail_db/.git/hooks/post-update.sample': File exists\n",
      "put: `/user/itv002461/retail_db/.git/info/exclude': File exists\n",
      "put: `/user/itv002461/retail_db/.git/logs/HEAD': File exists\n",
      "put: `/user/itv002461/retail_db/.git/logs/refs/heads/master': File exists\n",
      "put: `/user/itv002461/retail_db/.git/logs/refs/remotes/origin/HEAD': File exists\n",
      "put: `/user/itv002461/retail_db/.git/index': File exists\n",
      "put: `/user/itv002461/retail_db/.git/config': File exists\n"
     ]
    },
    {
     "ename": "CalledProcessError",
     "evalue": "Command 'b'\\nhdfs dfs -put /data/retail_db /user/${USER}\\n'' returned non-zero exit status 1.",
     "output_type": "error",
     "traceback": [
      "\u001b[0;31m---------------------------------------------------------------------------\u001b[0m",
      "\u001b[0;31mCalledProcessError\u001b[0m                        Traceback (most recent call last)",
      "\u001b[0;32m<ipython-input-30-0c4d49b57980>\u001b[0m in \u001b[0;36m<module>\u001b[0;34m\u001b[0m\n\u001b[0;32m----> 1\u001b[0;31m \u001b[0mget_ipython\u001b[0m\u001b[0;34m(\u001b[0m\u001b[0;34m)\u001b[0m\u001b[0;34m.\u001b[0m\u001b[0mrun_cell_magic\u001b[0m\u001b[0;34m(\u001b[0m\u001b[0;34m'sh'\u001b[0m\u001b[0;34m,\u001b[0m \u001b[0;34m''\u001b[0m\u001b[0;34m,\u001b[0m \u001b[0;34m'\\nhdfs dfs -put /data/retail_db /user/${USER}\\n'\u001b[0m\u001b[0;34m)\u001b[0m\u001b[0;34m\u001b[0m\u001b[0;34m\u001b[0m\u001b[0m\n\u001b[0m",
      "\u001b[0;32m/opt/anaconda3/envs/beakerx/lib/python3.6/site-packages/IPython/core/interactiveshell.py\u001b[0m in \u001b[0;36mrun_cell_magic\u001b[0;34m(self, magic_name, line, cell)\u001b[0m\n\u001b[1;32m   2369\u001b[0m             \u001b[0;32mwith\u001b[0m \u001b[0mself\u001b[0m\u001b[0;34m.\u001b[0m\u001b[0mbuiltin_trap\u001b[0m\u001b[0;34m:\u001b[0m\u001b[0;34m\u001b[0m\u001b[0;34m\u001b[0m\u001b[0m\n\u001b[1;32m   2370\u001b[0m                 \u001b[0margs\u001b[0m \u001b[0;34m=\u001b[0m \u001b[0;34m(\u001b[0m\u001b[0mmagic_arg_s\u001b[0m\u001b[0;34m,\u001b[0m \u001b[0mcell\u001b[0m\u001b[0;34m)\u001b[0m\u001b[0;34m\u001b[0m\u001b[0;34m\u001b[0m\u001b[0m\n\u001b[0;32m-> 2371\u001b[0;31m                 \u001b[0mresult\u001b[0m \u001b[0;34m=\u001b[0m \u001b[0mfn\u001b[0m\u001b[0;34m(\u001b[0m\u001b[0;34m*\u001b[0m\u001b[0margs\u001b[0m\u001b[0;34m,\u001b[0m \u001b[0;34m**\u001b[0m\u001b[0mkwargs\u001b[0m\u001b[0;34m)\u001b[0m\u001b[0;34m\u001b[0m\u001b[0;34m\u001b[0m\u001b[0m\n\u001b[0m\u001b[1;32m   2372\u001b[0m             \u001b[0;32mreturn\u001b[0m \u001b[0mresult\u001b[0m\u001b[0;34m\u001b[0m\u001b[0;34m\u001b[0m\u001b[0m\n\u001b[1;32m   2373\u001b[0m \u001b[0;34m\u001b[0m\u001b[0m\n",
      "\u001b[0;32m/opt/anaconda3/envs/beakerx/lib/python3.6/site-packages/IPython/core/magics/script.py\u001b[0m in \u001b[0;36mnamed_script_magic\u001b[0;34m(line, cell)\u001b[0m\n\u001b[1;32m    140\u001b[0m             \u001b[0;32melse\u001b[0m\u001b[0;34m:\u001b[0m\u001b[0;34m\u001b[0m\u001b[0;34m\u001b[0m\u001b[0m\n\u001b[1;32m    141\u001b[0m                 \u001b[0mline\u001b[0m \u001b[0;34m=\u001b[0m \u001b[0mscript\u001b[0m\u001b[0;34m\u001b[0m\u001b[0;34m\u001b[0m\u001b[0m\n\u001b[0;32m--> 142\u001b[0;31m             \u001b[0;32mreturn\u001b[0m \u001b[0mself\u001b[0m\u001b[0;34m.\u001b[0m\u001b[0mshebang\u001b[0m\u001b[0;34m(\u001b[0m\u001b[0mline\u001b[0m\u001b[0;34m,\u001b[0m \u001b[0mcell\u001b[0m\u001b[0;34m)\u001b[0m\u001b[0;34m\u001b[0m\u001b[0;34m\u001b[0m\u001b[0m\n\u001b[0m\u001b[1;32m    143\u001b[0m \u001b[0;34m\u001b[0m\u001b[0m\n\u001b[1;32m    144\u001b[0m         \u001b[0;31m# write a basic docstring:\u001b[0m\u001b[0;34m\u001b[0m\u001b[0;34m\u001b[0m\u001b[0;34m\u001b[0m\u001b[0m\n",
      "\u001b[0;32m<decorator-gen-110>\u001b[0m in \u001b[0;36mshebang\u001b[0;34m(self, line, cell)\u001b[0m\n",
      "\u001b[0;32m/opt/anaconda3/envs/beakerx/lib/python3.6/site-packages/IPython/core/magic.py\u001b[0m in \u001b[0;36m<lambda>\u001b[0;34m(f, *a, **k)\u001b[0m\n\u001b[1;32m    185\u001b[0m     \u001b[0;31m# but it's overkill for just that one bit of state.\u001b[0m\u001b[0;34m\u001b[0m\u001b[0;34m\u001b[0m\u001b[0;34m\u001b[0m\u001b[0m\n\u001b[1;32m    186\u001b[0m     \u001b[0;32mdef\u001b[0m \u001b[0mmagic_deco\u001b[0m\u001b[0;34m(\u001b[0m\u001b[0marg\u001b[0m\u001b[0;34m)\u001b[0m\u001b[0;34m:\u001b[0m\u001b[0;34m\u001b[0m\u001b[0;34m\u001b[0m\u001b[0m\n\u001b[0;32m--> 187\u001b[0;31m         \u001b[0mcall\u001b[0m \u001b[0;34m=\u001b[0m \u001b[0;32mlambda\u001b[0m \u001b[0mf\u001b[0m\u001b[0;34m,\u001b[0m \u001b[0;34m*\u001b[0m\u001b[0ma\u001b[0m\u001b[0;34m,\u001b[0m \u001b[0;34m**\u001b[0m\u001b[0mk\u001b[0m\u001b[0;34m:\u001b[0m \u001b[0mf\u001b[0m\u001b[0;34m(\u001b[0m\u001b[0;34m*\u001b[0m\u001b[0ma\u001b[0m\u001b[0;34m,\u001b[0m \u001b[0;34m**\u001b[0m\u001b[0mk\u001b[0m\u001b[0;34m)\u001b[0m\u001b[0;34m\u001b[0m\u001b[0;34m\u001b[0m\u001b[0m\n\u001b[0m\u001b[1;32m    188\u001b[0m \u001b[0;34m\u001b[0m\u001b[0m\n\u001b[1;32m    189\u001b[0m         \u001b[0;32mif\u001b[0m \u001b[0mcallable\u001b[0m\u001b[0;34m(\u001b[0m\u001b[0marg\u001b[0m\u001b[0;34m)\u001b[0m\u001b[0;34m:\u001b[0m\u001b[0;34m\u001b[0m\u001b[0;34m\u001b[0m\u001b[0m\n",
      "\u001b[0;32m/opt/anaconda3/envs/beakerx/lib/python3.6/site-packages/IPython/core/magics/script.py\u001b[0m in \u001b[0;36mshebang\u001b[0;34m(self, line, cell)\u001b[0m\n\u001b[1;32m    243\u001b[0m             \u001b[0msys\u001b[0m\u001b[0;34m.\u001b[0m\u001b[0mstderr\u001b[0m\u001b[0;34m.\u001b[0m\u001b[0mflush\u001b[0m\u001b[0;34m(\u001b[0m\u001b[0;34m)\u001b[0m\u001b[0;34m\u001b[0m\u001b[0;34m\u001b[0m\u001b[0m\n\u001b[1;32m    244\u001b[0m         \u001b[0;32mif\u001b[0m \u001b[0margs\u001b[0m\u001b[0;34m.\u001b[0m\u001b[0mraise_error\u001b[0m \u001b[0;32mand\u001b[0m \u001b[0mp\u001b[0m\u001b[0;34m.\u001b[0m\u001b[0mreturncode\u001b[0m\u001b[0;34m!=\u001b[0m\u001b[0;36m0\u001b[0m\u001b[0;34m:\u001b[0m\u001b[0;34m\u001b[0m\u001b[0;34m\u001b[0m\u001b[0m\n\u001b[0;32m--> 245\u001b[0;31m             \u001b[0;32mraise\u001b[0m \u001b[0mCalledProcessError\u001b[0m\u001b[0;34m(\u001b[0m\u001b[0mp\u001b[0m\u001b[0;34m.\u001b[0m\u001b[0mreturncode\u001b[0m\u001b[0;34m,\u001b[0m \u001b[0mcell\u001b[0m\u001b[0;34m,\u001b[0m \u001b[0moutput\u001b[0m\u001b[0;34m=\u001b[0m\u001b[0mout\u001b[0m\u001b[0;34m,\u001b[0m \u001b[0mstderr\u001b[0m\u001b[0;34m=\u001b[0m\u001b[0merr\u001b[0m\u001b[0;34m)\u001b[0m\u001b[0;34m\u001b[0m\u001b[0;34m\u001b[0m\u001b[0m\n\u001b[0m\u001b[1;32m    246\u001b[0m \u001b[0;34m\u001b[0m\u001b[0m\n\u001b[1;32m    247\u001b[0m     \u001b[0;32mdef\u001b[0m \u001b[0m_run_script\u001b[0m\u001b[0;34m(\u001b[0m\u001b[0mself\u001b[0m\u001b[0;34m,\u001b[0m \u001b[0mp\u001b[0m\u001b[0;34m,\u001b[0m \u001b[0mcell\u001b[0m\u001b[0;34m,\u001b[0m \u001b[0mto_close\u001b[0m\u001b[0;34m)\u001b[0m\u001b[0;34m:\u001b[0m\u001b[0;34m\u001b[0m\u001b[0;34m\u001b[0m\u001b[0m\n",
      "\u001b[0;31mCalledProcessError\u001b[0m: Command 'b'\\nhdfs dfs -put /data/retail_db /user/${USER}\\n'' returned non-zero exit status 1."
     ]
    }
   ],
   "source": [
    "%%sh\n",
    "\n",
    "hdfs dfs -put /data/retail_db /user/${USER}"
   ]
  },
  {
   "cell_type": "markdown",
   "metadata": {},
   "source": [
    "* We can use `-f` as part of `put` or `copyFromLocal` to replace existing folder."
   ]
  },
  {
   "cell_type": "code",
   "execution_count": 31,
   "metadata": {},
   "outputs": [],
   "source": [
    "%%sh\n",
    "\n",
    "hdfs dfs -put -f /data/retail_db /user/${USER}"
   ]
  },
  {
   "cell_type": "code",
   "execution_count": 32,
   "metadata": {},
   "outputs": [
    {
     "name": "stdout",
     "output_type": "stream",
     "text": [
      "Found 11 items\n",
      "drwxr-xr-x   - itv002461 supergroup          0 2022-05-25 10:04 /user/itv002461/retail_db/.git\n",
      "-rw-r--r--   3 itv002461 supergroup        806 2022-05-25 10:04 /user/itv002461/retail_db/README.md\n",
      "drwxr-xr-x   - itv002461 supergroup          0 2022-05-25 10:04 /user/itv002461/retail_db/categories\n",
      "-rw-r--r--   3 itv002461 supergroup   10303297 2022-05-25 10:04 /user/itv002461/retail_db/create_db.sql\n",
      "-rw-r--r--   3 itv002461 supergroup       1748 2022-05-25 10:04 /user/itv002461/retail_db/create_db_tables_pg.sql\n",
      "drwxr-xr-x   - itv002461 supergroup          0 2022-05-25 10:04 /user/itv002461/retail_db/customers\n",
      "drwxr-xr-x   - itv002461 supergroup          0 2022-05-25 10:04 /user/itv002461/retail_db/departments\n",
      "-rw-r--r--   3 itv002461 supergroup   10297372 2022-05-25 10:04 /user/itv002461/retail_db/load_db_tables_pg.sql\n",
      "drwxr-xr-x   - itv002461 supergroup          0 2022-05-25 10:04 /user/itv002461/retail_db/order_items\n",
      "drwxr-xr-x   - itv002461 supergroup          0 2022-05-25 10:04 /user/itv002461/retail_db/orders\n",
      "drwxr-xr-x   - itv002461 supergroup          0 2022-05-25 10:04 /user/itv002461/retail_db/products\n"
     ]
    }
   ],
   "source": [
    "%%sh\n",
    "\n",
    "hdfs dfs -ls /user/${USER}/retail_db"
   ]
  },
  {
   "cell_type": "code",
   "execution_count": 33,
   "metadata": {},
   "outputs": [
    {
     "name": "stdout",
     "output_type": "stream",
     "text": [
      "drwxr-xr-x   - itv002461 supergroup          0 2022-05-25 10:04 /user/itv002461/retail_db/.git\n",
      "-rw-r--r--   3 itv002461 supergroup         23 2022-05-25 10:04 /user/itv002461/retail_db/.git/HEAD\n",
      "drwxr-xr-x   - itv002461 supergroup          0 2022-05-25 10:04 /user/itv002461/retail_db/.git/branches\n",
      "-rw-r--r--   3 itv002461 supergroup        267 2022-05-25 10:04 /user/itv002461/retail_db/.git/config\n",
      "-rw-r--r--   3 itv002461 supergroup         73 2022-05-25 10:04 /user/itv002461/retail_db/.git/description\n",
      "drwxr-xr-x   - itv002461 supergroup          0 2022-05-25 10:04 /user/itv002461/retail_db/.git/hooks\n",
      "-rw-r--r--   3 itv002461 supergroup        452 2022-05-25 10:04 /user/itv002461/retail_db/.git/hooks/applypatch-msg.sample\n",
      "-rw-r--r--   3 itv002461 supergroup        896 2022-05-25 10:04 /user/itv002461/retail_db/.git/hooks/commit-msg.sample\n",
      "-rw-r--r--   3 itv002461 supergroup        189 2022-05-25 10:04 /user/itv002461/retail_db/.git/hooks/post-update.sample\n",
      "-rw-r--r--   3 itv002461 supergroup        398 2022-05-25 10:04 /user/itv002461/retail_db/.git/hooks/pre-applypatch.sample\n",
      "-rw-r--r--   3 itv002461 supergroup       1704 2022-05-25 10:04 /user/itv002461/retail_db/.git/hooks/pre-commit.sample\n",
      "-rw-r--r--   3 itv002461 supergroup       1348 2022-05-25 10:04 /user/itv002461/retail_db/.git/hooks/pre-push.sample\n",
      "-rw-r--r--   3 itv002461 supergroup       4951 2022-05-25 10:04 /user/itv002461/retail_db/.git/hooks/pre-rebase.sample\n",
      "-rw-r--r--   3 itv002461 supergroup       1239 2022-05-25 10:04 /user/itv002461/retail_db/.git/hooks/prepare-commit-msg.sample\n",
      "-rw-r--r--   3 itv002461 supergroup       3611 2022-05-25 10:04 /user/itv002461/retail_db/.git/hooks/update.sample\n",
      "-rw-r--r--   3 itv002461 supergroup        880 2022-05-25 10:04 /user/itv002461/retail_db/.git/index\n",
      "drwxr-xr-x   - itv002461 supergroup          0 2022-05-25 10:04 /user/itv002461/retail_db/.git/info\n",
      "-rw-r--r--   3 itv002461 supergroup        240 2022-05-25 10:04 /user/itv002461/retail_db/.git/info/exclude\n",
      "drwxr-xr-x   - itv002461 supergroup          0 2022-05-25 10:04 /user/itv002461/retail_db/.git/logs\n",
      "-rw-r--r--   3 itv002461 supergroup        185 2022-05-25 10:04 /user/itv002461/retail_db/.git/logs/HEAD\n",
      "drwxr-xr-x   - itv002461 supergroup          0 2022-05-25 10:04 /user/itv002461/retail_db/.git/logs/refs\n",
      "drwxr-xr-x   - itv002461 supergroup          0 2022-05-25 10:04 /user/itv002461/retail_db/.git/logs/refs/heads\n",
      "-rw-r--r--   3 itv002461 supergroup        185 2022-05-25 10:04 /user/itv002461/retail_db/.git/logs/refs/heads/master\n",
      "drwxr-xr-x   - itv002461 supergroup          0 2022-05-25 10:04 /user/itv002461/retail_db/.git/logs/refs/remotes\n",
      "drwxr-xr-x   - itv002461 supergroup          0 2022-05-25 10:04 /user/itv002461/retail_db/.git/logs/refs/remotes/origin\n",
      "-rw-r--r--   3 itv002461 supergroup        185 2022-05-25 10:04 /user/itv002461/retail_db/.git/logs/refs/remotes/origin/HEAD\n",
      "drwxr-xr-x   - itv002461 supergroup          0 2022-05-25 10:04 /user/itv002461/retail_db/.git/objects\n",
      "drwxr-xr-x   - itv002461 supergroup          0 2022-05-25 10:04 /user/itv002461/retail_db/.git/objects/06\n",
      "-rw-r--r--   3 itv002461 supergroup        559 2022-05-25 10:04 /user/itv002461/retail_db/.git/objects/06/d0171a85055a97026def5886f04b62d567832a\n",
      "drwxr-xr-x   - itv002461 supergroup          0 2022-05-25 10:04 /user/itv002461/retail_db/.git/objects/07\n",
      "-rw-r--r--   3 itv002461 supergroup        352 2022-05-25 10:04 /user/itv002461/retail_db/.git/objects/07/092483d626505d5f1673282aba1e39ff7acef7\n",
      "drwxr-xr-x   - itv002461 supergroup          0 2022-05-25 10:04 /user/itv002461/retail_db/.git/objects/0a\n",
      "-rw-r--r--   3 itv002461 supergroup        182 2022-05-25 10:04 /user/itv002461/retail_db/.git/objects/0a/f34d00acb230df2f1f1c44ca252959232a358e\n",
      "drwxr-xr-x   - itv002461 supergroup          0 2022-05-25 10:04 /user/itv002461/retail_db/.git/objects/13\n",
      "-rw-r--r--   3 itv002461 supergroup         53 2022-05-25 10:04 /user/itv002461/retail_db/.git/objects/13/1988a13dfdcd89c3bd01e4a2ddcf4fc9fc8535\n",
      "drwxr-xr-x   - itv002461 supergroup          0 2022-05-25 10:04 /user/itv002461/retail_db/.git/objects/1f\n",
      "-rw-r--r--   3 itv002461 supergroup         52 2022-05-25 10:04 /user/itv002461/retail_db/.git/objects/1f/1bd72ebcfcf65c212e84044d239aa3fe653fb6\n",
      "drwxr-xr-x   - itv002461 supergroup          0 2022-05-25 10:04 /user/itv002461/retail_db/.git/objects/20\n",
      "-rw-r--r--   3 itv002461 supergroup        490 2022-05-25 10:04 /user/itv002461/retail_db/.git/objects/20/dd3be600599c8f82a09d0f3217adab77454d63\n",
      "drwxr-xr-x   - itv002461 supergroup          0 2022-05-25 10:04 /user/itv002461/retail_db/.git/objects/27\n",
      "-rw-r--r--   3 itv002461 supergroup      34400 2022-05-25 10:04 /user/itv002461/retail_db/.git/objects/27/4a7a03b99b5f307287958b1824f0e279bc2ead\n",
      "drwxr-xr-x   - itv002461 supergroup          0 2022-05-25 10:04 /user/itv002461/retail_db/.git/objects/30\n",
      "-rw-r--r--   3 itv002461 supergroup     596420 2022-05-25 10:04 /user/itv002461/retail_db/.git/objects/30/a8b8d83ca72475731ff627ed2b98ef411fa14f\n",
      "drwxr-xr-x   - itv002461 supergroup          0 2022-05-25 10:04 /user/itv002461/retail_db/.git/objects/35\n",
      "-rw-r--r--   3 itv002461 supergroup        320 2022-05-25 10:04 /user/itv002461/retail_db/.git/objects/35/ad0bc10e4e6349c47b2a93eed8f8004705a31c\n",
      "drwxr-xr-x   - itv002461 supergroup          0 2022-05-25 10:04 /user/itv002461/retail_db/.git/objects/36\n",
      "-rw-r--r--   3 itv002461 supergroup        352 2022-05-25 10:04 /user/itv002461/retail_db/.git/objects/36/2a91889067da2c09e081526bcfafe8040fa867\n",
      "drwxr-xr-x   - itv002461 supergroup          0 2022-05-25 10:04 /user/itv002461/retail_db/.git/objects/41\n",
      "-rw-r--r--   3 itv002461 supergroup        451 2022-05-25 10:04 /user/itv002461/retail_db/.git/objects/41/1d0ce6478c6e98628d2801eb3903ba9e410b84\n",
      "drwxr-xr-x   - itv002461 supergroup          0 2022-05-25 10:04 /user/itv002461/retail_db/.git/objects/4a\n",
      "-rw-r--r--   3 itv002461 supergroup    1983715 2022-05-25 10:04 /user/itv002461/retail_db/.git/objects/4a/872ba84139b7c8d4c2240c494503b8770d0956\n",
      "drwxr-xr-x   - itv002461 supergroup          0 2022-05-25 10:04 /user/itv002461/retail_db/.git/objects/51\n",
      "-rw-r--r--   3 itv002461 supergroup        553 2022-05-25 10:04 /user/itv002461/retail_db/.git/objects/51/c15e1e83260608494ec80a500a54d11aca4304\n",
      "drwxr-xr-x   - itv002461 supergroup          0 2022-05-25 10:04 /user/itv002461/retail_db/.git/objects/52\n",
      "-rw-r--r--   3 itv002461 supergroup        182 2022-05-25 10:04 /user/itv002461/retail_db/.git/objects/52/6ae0bf67e6bf8e3377e780d4132f760feccfc6\n",
      "drwxr-xr-x   - itv002461 supergroup          0 2022-05-25 10:04 /user/itv002461/retail_db/.git/objects/56\n",
      "-rw-r--r--   3 itv002461 supergroup     296805 2022-05-25 10:04 /user/itv002461/retail_db/.git/objects/56/0e6b0d52c384ec6e253b329956850442014472\n",
      "drwxr-xr-x   - itv002461 supergroup          0 2022-05-25 10:04 /user/itv002461/retail_db/.git/objects/58\n",
      "-rw-r--r--   3 itv002461 supergroup         52 2022-05-25 10:04 /user/itv002461/retail_db/.git/objects/58/2a386cf855b01260d86397f334e6307a088318\n",
      "-rw-r--r--   3 itv002461 supergroup        174 2022-05-25 10:04 /user/itv002461/retail_db/.git/objects/58/46680442d0410de239cb58df752369ddca3de1\n",
      "drwxr-xr-x   - itv002461 supergroup          0 2022-05-25 10:04 /user/itv002461/retail_db/.git/objects/5f\n",
      "-rw-r--r--   3 itv002461 supergroup        461 2022-05-25 10:04 /user/itv002461/retail_db/.git/objects/5f/88dd9fe2d063aa140f6cc73aaeef849bcad3df\n",
      "drwxr-xr-x   - itv002461 supergroup          0 2022-05-25 10:04 /user/itv002461/retail_db/.git/objects/67\n",
      "-rw-r--r--   3 itv002461 supergroup        460 2022-05-25 10:04 /user/itv002461/retail_db/.git/objects/67/3d62b4b825ef284e73457d190ac8bb4cf33dcf\n",
      "-rw-r--r--   3 itv002461 supergroup        211 2022-05-25 10:04 /user/itv002461/retail_db/.git/objects/67/453ab8ec4f6bd570ff1a0b64856b277b2599f4\n",
      "drwxr-xr-x   - itv002461 supergroup          0 2022-05-25 10:04 /user/itv002461/retail_db/.git/objects/86\n",
      "-rw-r--r--   3 itv002461 supergroup    2269951 2022-05-25 10:04 /user/itv002461/retail_db/.git/objects/86/4f6b9a91e3152424e141d97dd01928c60e662c\n",
      "drwxr-xr-x   - itv002461 supergroup          0 2022-05-25 10:04 /user/itv002461/retail_db/.git/objects/88\n",
      "-rw-r--r--   3 itv002461 supergroup         52 2022-05-25 10:04 /user/itv002461/retail_db/.git/objects/88/e73fe52979b9611f2186810800bbdea1e7f025\n",
      "drwxr-xr-x   - itv002461 supergroup          0 2022-05-25 10:04 /user/itv002461/retail_db/.git/objects/97\n",
      "-rw-r--r--   3 itv002461 supergroup         76 2022-05-25 10:04 /user/itv002461/retail_db/.git/objects/97/75b581f9dd346e3096577f7ae3297f158b6373\n",
      "drwxr-xr-x   - itv002461 supergroup          0 2022-05-25 10:04 /user/itv002461/retail_db/.git/objects/9a\n",
      "-rw-r--r--   3 itv002461 supergroup        352 2022-05-25 10:04 /user/itv002461/retail_db/.git/objects/9a/bfbae18a93b615dd1944eff2d07fa18b06dcf7\n",
      "drwxr-xr-x   - itv002461 supergroup          0 2022-05-25 10:04 /user/itv002461/retail_db/.git/objects/9f\n",
      "-rw-r--r--   3 itv002461 supergroup        581 2022-05-25 10:04 /user/itv002461/retail_db/.git/objects/9f/dd92a48e239af4f2d8f592444ca606558be510\n",
      "drwxr-xr-x   - itv002461 supergroup          0 2022-05-25 10:04 /user/itv002461/retail_db/.git/objects/a2\n",
      "-rw-r--r--   3 itv002461 supergroup    2267816 2022-05-25 10:04 /user/itv002461/retail_db/.git/objects/a2/a8eea2b6436fb952904fd7cfc26a1dae5f56af\n",
      "drwxr-xr-x   - itv002461 supergroup          0 2022-05-25 10:04 /user/itv002461/retail_db/.git/objects/a6\n",
      "-rw-r--r--   3 itv002461 supergroup         52 2022-05-25 10:04 /user/itv002461/retail_db/.git/objects/a6/1448480f57b87f003a3a9fdf762f88c3548b32\n",
      "drwxr-xr-x   - itv002461 supergroup          0 2022-05-25 10:04 /user/itv002461/retail_db/.git/objects/a8\n",
      "-rw-r--r--   3 itv002461 supergroup        285 2022-05-25 10:04 /user/itv002461/retail_db/.git/objects/a8/600b1314a8a84eafcaeeb85fc28b6f4bffafbd\n",
      "drwxr-xr-x   - itv002461 supergroup          0 2022-05-25 10:04 /user/itv002461/retail_db/.git/objects/a9\n",
      "-rw-r--r--   3 itv002461 supergroup        173 2022-05-25 10:04 /user/itv002461/retail_db/.git/objects/a9/10ce1ba0f6db8d91a6b1f0ec1e09db2a4db302\n",
      "drwxr-xr-x   - itv002461 supergroup          0 2022-05-25 10:04 /user/itv002461/retail_db/.git/objects/ae\n",
      "-rw-r--r--   3 itv002461 supergroup        249 2022-05-25 10:04 /user/itv002461/retail_db/.git/objects/ae/5340fab29b1b91138ea83a7fe16f55d2de0d96\n",
      "drwxr-xr-x   - itv002461 supergroup          0 2022-05-25 10:04 /user/itv002461/retail_db/.git/objects/b8\n",
      "-rw-r--r--   3 itv002461 supergroup        192 2022-05-25 10:04 /user/itv002461/retail_db/.git/objects/b8/2b59cf6bc40bcf221cd381af72f6a6abb8658d\n",
      "-rw-r--r--   3 itv002461 supergroup        320 2022-05-25 10:04 /user/itv002461/retail_db/.git/objects/b8/419f83fc9b79d79fe58e01dce90802cc979dd0\n",
      "drwxr-xr-x   - itv002461 supergroup          0 2022-05-25 10:04 /user/itv002461/retail_db/.git/objects/c0\n",
      "-rw-r--r--   3 itv002461 supergroup        352 2022-05-25 10:04 /user/itv002461/retail_db/.git/objects/c0/8eab720921bfab7283bda9c2f7375af637ed47\n",
      "drwxr-xr-x   - itv002461 supergroup          0 2022-05-25 10:04 /user/itv002461/retail_db/.git/objects/c2\n",
      "-rw-r--r--   3 itv002461 supergroup        521 2022-05-25 10:04 /user/itv002461/retail_db/.git/objects/c2/dd4d7592d80530b56dd2e3dfa7f06ef0cac675\n",
      "drwxr-xr-x   - itv002461 supergroup          0 2022-05-25 10:04 /user/itv002461/retail_db/.git/objects/c4\n",
      "-rw-r--r--   3 itv002461 supergroup        554 2022-05-25 10:04 /user/itv002461/retail_db/.git/objects/c4/7834de705ad3a907127ada28b563ca06b88755\n",
      "drwxr-xr-x   - itv002461 supergroup          0 2022-05-25 10:04 /user/itv002461/retail_db/.git/objects/c5\n",
      "-rw-r--r--   3 itv002461 supergroup        554 2022-05-25 10:04 /user/itv002461/retail_db/.git/objects/c5/b5b0f5774f5f42c31a5911ac90134148856c51\n",
      "drwxr-xr-x   - itv002461 supergroup          0 2022-05-25 10:04 /user/itv002461/retail_db/.git/objects/d5\n",
      "-rw-r--r--   3 itv002461 supergroup        455 2022-05-25 10:04 /user/itv002461/retail_db/.git/objects/d5/31e42bca5c2b788bdc1559b3c4f5ae014774bf\n",
      "drwxr-xr-x   - itv002461 supergroup          0 2022-05-25 10:04 /user/itv002461/retail_db/.git/objects/dc\n",
      "-rw-r--r--   3 itv002461 supergroup        437 2022-05-25 10:04 /user/itv002461/retail_db/.git/objects/dc/c77dd21e88aac23709cd526f79ed90318ee9a5\n",
      "drwxr-xr-x   - itv002461 supergroup          0 2022-05-25 10:04 /user/itv002461/retail_db/.git/objects/e1\n",
      "-rw-r--r--   3 itv002461 supergroup        174 2022-05-25 10:04 /user/itv002461/retail_db/.git/objects/e1/963013bb99974f03890064d602dc61e9cd601d\n",
      "drwxr-xr-x   - itv002461 supergroup          0 2022-05-25 10:04 /user/itv002461/retail_db/.git/objects/e4\n",
      "-rw-r--r--   3 itv002461 supergroup         52 2022-05-25 10:04 /user/itv002461/retail_db/.git/objects/e4/613fc9745843d32b57e1164f8def110ad2621e\n",
      "drwxr-xr-x   - itv002461 supergroup          0 2022-05-25 10:04 /user/itv002461/retail_db/.git/objects/e6\n",
      "-rw-r--r--   3 itv002461 supergroup    1270075 2022-05-25 10:04 /user/itv002461/retail_db/.git/objects/e6/48b7b889231e1c9cb7ddde4d549b0e059ad002\n",
      "drwxr-xr-x   - itv002461 supergroup          0 2022-05-25 10:04 /user/itv002461/retail_db/.git/objects/f0\n",
      "-rw-r--r--   3 itv002461 supergroup    2267807 2022-05-25 10:04 /user/itv002461/retail_db/.git/objects/f0/f6cfcf949e3493a4645f5214845f5d4612080c\n",
      "drwxr-xr-x   - itv002461 supergroup          0 2022-05-25 10:04 /user/itv002461/retail_db/.git/objects/f1\n",
      "-rw-r--r--   3 itv002461 supergroup        321 2022-05-25 10:04 /user/itv002461/retail_db/.git/objects/f1/054a378578277c061bb0690195dd18cf9ab5dc\n",
      "drwxr-xr-x   - itv002461 supergroup          0 2022-05-25 10:04 /user/itv002461/retail_db/.git/objects/f6\n",
      "-rw-r--r--   3 itv002461 supergroup        285 2022-05-25 10:04 /user/itv002461/retail_db/.git/objects/f6/47e787bee6b7f17a995d65388d627c5396d41f\n",
      "drwxr-xr-x   - itv002461 supergroup          0 2022-05-25 10:04 /user/itv002461/retail_db/.git/objects/f9\n",
      "-rw-r--r--   3 itv002461 supergroup        437 2022-05-25 10:04 /user/itv002461/retail_db/.git/objects/f9/e734892acc42e74e8791b71a950eb7c92f05a8\n",
      "drwxr-xr-x   - itv002461 supergroup          0 2022-05-25 10:04 /user/itv002461/retail_db/.git/objects/fe\n",
      "-rw-r--r--   3 itv002461 supergroup        561 2022-05-25 10:04 /user/itv002461/retail_db/.git/objects/fe/c19a1bf156441793d6f444758dffed0c07f8e8\n",
      "-rw-r--r--   3 itv002461 supergroup        249 2022-05-25 10:04 /user/itv002461/retail_db/.git/objects/fe/feb4bb2f9d49682507c5e4d08f1112af5203bf\n",
      "drwxr-xr-x   - itv002461 supergroup          0 2022-05-25 10:03 /user/itv002461/retail_db/.git/objects/info\n",
      "drwxr-xr-x   - itv002461 supergroup          0 2022-05-25 10:04 /user/itv002461/retail_db/.git/objects/pack\n",
      "-rw-r--r--   3 itv002461 supergroup        107 2022-05-25 10:04 /user/itv002461/retail_db/.git/packed-refs\n",
      "drwxr-xr-x   - itv002461 supergroup          0 2022-05-25 10:04 /user/itv002461/retail_db/.git/refs\n",
      "drwxr-xr-x   - itv002461 supergroup          0 2022-05-25 10:04 /user/itv002461/retail_db/.git/refs/heads\n",
      "-rw-r--r--   3 itv002461 supergroup         41 2022-05-25 10:04 /user/itv002461/retail_db/.git/refs/heads/master\n",
      "drwxr-xr-x   - itv002461 supergroup          0 2022-05-25 10:04 /user/itv002461/retail_db/.git/refs/remotes\n",
      "drwxr-xr-x   - itv002461 supergroup          0 2022-05-25 10:04 /user/itv002461/retail_db/.git/refs/remotes/origin\n",
      "-rw-r--r--   3 itv002461 supergroup         32 2022-05-25 10:04 /user/itv002461/retail_db/.git/refs/remotes/origin/HEAD\n",
      "drwxr-xr-x   - itv002461 supergroup          0 2022-05-25 10:04 /user/itv002461/retail_db/.git/refs/tags\n",
      "-rw-r--r--   3 itv002461 supergroup        806 2022-05-25 10:04 /user/itv002461/retail_db/README.md\n",
      "drwxr-xr-x   - itv002461 supergroup          0 2022-05-25 10:04 /user/itv002461/retail_db/categories\n",
      "-rw-r--r--   3 itv002461 supergroup       1029 2022-05-25 10:04 /user/itv002461/retail_db/categories/part-00000\n",
      "-rw-r--r--   3 itv002461 supergroup   10303297 2022-05-25 10:04 /user/itv002461/retail_db/create_db.sql\n",
      "-rw-r--r--   3 itv002461 supergroup       1748 2022-05-25 10:04 /user/itv002461/retail_db/create_db_tables_pg.sql\n",
      "drwxr-xr-x   - itv002461 supergroup          0 2022-05-25 10:04 /user/itv002461/retail_db/customers\n",
      "-rw-r--r--   3 itv002461 supergroup     953719 2022-05-25 10:04 /user/itv002461/retail_db/customers/part-00000\n",
      "drwxr-xr-x   - itv002461 supergroup          0 2022-05-25 10:04 /user/itv002461/retail_db/departments\n",
      "-rw-r--r--   3 itv002461 supergroup         60 2022-05-25 10:04 /user/itv002461/retail_db/departments/part-00000\n",
      "-rw-r--r--   3 itv002461 supergroup   10297372 2022-05-25 10:04 /user/itv002461/retail_db/load_db_tables_pg.sql\n",
      "drwxr-xr-x   - itv002461 supergroup          0 2022-05-25 10:04 /user/itv002461/retail_db/order_items\n",
      "-rw-r--r--   3 itv002461 supergroup    5408880 2022-05-25 10:04 /user/itv002461/retail_db/order_items/part-00000\n",
      "drwxr-xr-x   - itv002461 supergroup          0 2022-05-25 10:04 /user/itv002461/retail_db/orders\n",
      "-rw-r--r--   3 itv002461 supergroup    2999944 2022-05-25 10:04 /user/itv002461/retail_db/orders/part-00000\n",
      "drwxr-xr-x   - itv002461 supergroup          0 2022-05-25 10:04 /user/itv002461/retail_db/products\n",
      "-rw-r--r--   3 itv002461 supergroup     174155 2022-05-25 10:04 /user/itv002461/retail_db/products/part-00000\n"
     ]
    }
   ],
   "source": [
    "%%sh\n",
    "\n",
    "hdfs dfs -ls -R /user/${USER}/retail_db"
   ]
  },
  {
   "cell_type": "code",
   "execution_count": null,
   "metadata": {},
   "outputs": [],
   "source": []
  }
 ],
 "metadata": {
  "kernelspec": {
   "display_name": "Python 3",
   "language": "python",
   "name": "python3"
  },
  "language_info": {
   "codemirror_mode": {
    "name": "ipython",
    "version": 3
   },
   "file_extension": ".py",
   "mimetype": "text/x-python",
   "name": "python",
   "nbconvert_exporter": "python",
   "pygments_lexer": "ipython3",
   "version": "3.6.12"
  }
 },
 "nbformat": 4,
 "nbformat_minor": 4
}
