{
 "cells": [
  {
   "cell_type": "markdown",
   "metadata": {},
   "source": [
    "## Copying files from HDFS to Local\n",
    "\n",
    "We can copy files from HDFS to local file system either by using `copyToLocal` or `get` command."
   ]
  },
  {
   "cell_type": "markdown",
   "metadata": {},
   "source": [
    "* `hdfs dfs -copyToLocal` or `hdfs dfs -get` – to copy files or directories from HDFS to local filesystem.\n",
    "* It will read all the blocks using index in sequence and construct the file in local file system.\n",
    "* If the target file or directory already exists in the local file system, `get` will fail saying **already exists**"
   ]
  },
  {
   "cell_type": "code",
   "execution_count": 1,
   "metadata": {},
   "outputs": [
    {
     "name": "stdout",
     "output_type": "stream",
     "text": [
      "-get [-f] [-p] [-ignoreCrc] [-crc] <src> ... <localdst> :\n",
      "  Copy files that match the file pattern <src> to the local name.  <src> is kept. \n",
      "  When copying multiple files, the destination must be a directory. Passing -f\n",
      "  overwrites the destination if it already exists and -p preserves access and\n",
      "  modification times, ownership and the mode.\n"
     ]
    }
   ],
   "source": [
    "%%sh\n",
    "\n",
    "hdfs dfs -help get"
   ]
  },
  {
   "cell_type": "code",
   "execution_count": 2,
   "metadata": {},
   "outputs": [
    {
     "name": "stdout",
     "output_type": "stream",
     "text": [
      "-copyToLocal [-f] [-p] [-ignoreCrc] [-crc] <src> ... <localdst> :\n",
      "  Identical to the -get command.\n"
     ]
    }
   ],
   "source": [
    "%%sh\n",
    "\n",
    "hdfs dfs -help copyToLocal"
   ]
  },
  {
   "cell_type": "markdown",
   "metadata": {},
   "source": [
    "```{warning}\n",
    "This will copy the entire folder from `/user/${USER}/retail_db` to local home directory and you will see `/home/${USER}/retail_db`. \n",
    "```"
   ]
  },
  {
   "cell_type": "code",
   "execution_count": 3,
   "metadata": {},
   "outputs": [
    {
     "name": "stdout",
     "output_type": "stream",
     "text": [
      "Found 11 items\n",
      "drwxr-xr-x   - itv002461 supergroup          0 2022-05-25 10:04 /user/itv002461/retail_db/.git\n",
      "-rw-r--r--   3 itv002461 supergroup        806 2022-05-25 10:04 /user/itv002461/retail_db/README.md\n",
      "drwxr-xr-x   - itv002461 supergroup          0 2022-05-25 10:04 /user/itv002461/retail_db/categories\n",
      "-rw-r--r--   3 itv002461 supergroup   10303297 2022-05-25 10:04 /user/itv002461/retail_db/create_db.sql\n",
      "-rw-r--r--   3 itv002461 supergroup       1748 2022-05-25 10:04 /user/itv002461/retail_db/create_db_tables_pg.sql\n",
      "drwxr-xr-x   - itv002461 supergroup          0 2022-05-25 10:04 /user/itv002461/retail_db/customers\n",
      "drwxr-xr-x   - itv002461 supergroup          0 2022-05-25 10:04 /user/itv002461/retail_db/departments\n",
      "-rw-r--r--   3 itv002461 supergroup   10297372 2022-05-25 10:04 /user/itv002461/retail_db/load_db_tables_pg.sql\n",
      "drwxr-xr-x   - itv002461 supergroup          0 2022-05-25 10:04 /user/itv002461/retail_db/order_items\n",
      "drwxr-xr-x   - itv002461 supergroup          0 2022-05-25 10:04 /user/itv002461/retail_db/orders\n",
      "drwxr-xr-x   - itv002461 supergroup          0 2022-05-25 10:04 /user/itv002461/retail_db/products\n"
     ]
    }
   ],
   "source": [
    "%%sh\n",
    "\n",
    "hdfs dfs -ls /user/${USER}/retail_db"
   ]
  },
  {
   "cell_type": "code",
   "execution_count": 4,
   "metadata": {},
   "outputs": [
    {
     "name": "stdout",
     "output_type": "stream",
     "text": [
      "total 12\n",
      "drwxr-xr-x 3 itv002461 students 4096 May  2 00:12 data\n",
      "drwxr-xr-x 3 itv002461 students 4096 May  9 05:23 Project\n",
      "drwxr-xr-x 9 itv002461 students 4096 May 18 11:13 data-engineering-spark\n"
     ]
    }
   ],
   "source": [
    "%%sh\n",
    "\n",
    "ls -ltr /home/${USER}/"
   ]
  },
  {
   "cell_type": "code",
   "execution_count": 5,
   "metadata": {},
   "outputs": [],
   "source": [
    "%%sh\n",
    "\n",
    "mkdir /home/${USER}/retail_db"
   ]
  },
  {
   "cell_type": "code",
   "execution_count": 6,
   "metadata": {},
   "outputs": [],
   "source": [
    "%%sh\n",
    "\n",
    "hdfs dfs -get /user/${USER}/retail_db/* /home/${USER}/retail_db"
   ]
  },
  {
   "cell_type": "code",
   "execution_count": 7,
   "metadata": {},
   "outputs": [
    {
     "name": "stdout",
     "output_type": "stream",
     "text": [
      "total 20156\n",
      "-rw-r--r-- 1 itv002461 students      806 May 25 10:11 README.md\n",
      "drwxr-xr-x 2 itv002461 students     4096 May 25 10:11 categories\n",
      "-rw-r--r-- 1 itv002461 students     1748 May 25 10:11 create_db_tables_pg.sql\n",
      "-rw-r--r-- 1 itv002461 students 10303297 May 25 10:11 create_db.sql\n",
      "drwxr-xr-x 2 itv002461 students     4096 May 25 10:11 customers\n",
      "drwxr-xr-x 2 itv002461 students     4096 May 25 10:11 departments\n",
      "-rw-r--r-- 1 itv002461 students 10297372 May 25 10:11 load_db_tables_pg.sql\n",
      "drwxr-xr-x 2 itv002461 students     4096 May 25 10:11 order_items\n",
      "drwxr-xr-x 2 itv002461 students     4096 May 25 10:11 orders\n",
      "drwxr-xr-x 2 itv002461 students     4096 May 25 10:11 products\n"
     ]
    }
   ],
   "source": [
    "%%sh\n",
    "\n",
    "ls -ltr /home/${USER}/retail_db"
   ]
  },
  {
   "cell_type": "markdown",
   "metadata": {},
   "source": [
    "```{note}\n",
    "This will fail as retail_db folder already exists.\n",
    "```"
   ]
  },
  {
   "cell_type": "code",
   "execution_count": 8,
   "metadata": {},
   "outputs": [
    {
     "name": "stderr",
     "output_type": "stream",
     "text": [
      "get: `/home/itv002461/retail_db/.git/HEAD': File exists\n",
      "get: `/home/itv002461/retail_db/.git/config': File exists\n",
      "get: `/home/itv002461/retail_db/.git/description': File exists\n",
      "get: `/home/itv002461/retail_db/.git/hooks/applypatch-msg.sample': File exists\n",
      "get: `/home/itv002461/retail_db/.git/hooks/commit-msg.sample': File exists\n",
      "get: `/home/itv002461/retail_db/.git/hooks/post-update.sample': File exists\n",
      "get: `/home/itv002461/retail_db/.git/hooks/pre-applypatch.sample': File exists\n",
      "get: `/home/itv002461/retail_db/.git/hooks/pre-commit.sample': File exists\n",
      "get: `/home/itv002461/retail_db/.git/hooks/pre-push.sample': File exists\n",
      "get: `/home/itv002461/retail_db/.git/hooks/pre-rebase.sample': File exists\n",
      "get: `/home/itv002461/retail_db/.git/hooks/prepare-commit-msg.sample': File exists\n",
      "get: `/home/itv002461/retail_db/.git/hooks/update.sample': File exists\n",
      "get: `/home/itv002461/retail_db/.git/index': File exists\n",
      "get: `/home/itv002461/retail_db/.git/info/exclude': File exists\n",
      "get: `/home/itv002461/retail_db/.git/logs/HEAD': File exists\n",
      "get: `/home/itv002461/retail_db/.git/logs/refs/heads/master': File exists\n",
      "get: `/home/itv002461/retail_db/.git/logs/refs/remotes/origin/HEAD': File exists\n",
      "get: `/home/itv002461/retail_db/.git/objects/06/d0171a85055a97026def5886f04b62d567832a': File exists\n",
      "get: `/home/itv002461/retail_db/.git/objects/07/092483d626505d5f1673282aba1e39ff7acef7': File exists\n",
      "get: `/home/itv002461/retail_db/.git/objects/0a/f34d00acb230df2f1f1c44ca252959232a358e': File exists\n",
      "get: `/home/itv002461/retail_db/.git/objects/13/1988a13dfdcd89c3bd01e4a2ddcf4fc9fc8535': File exists\n",
      "get: `/home/itv002461/retail_db/.git/objects/1f/1bd72ebcfcf65c212e84044d239aa3fe653fb6': File exists\n",
      "get: `/home/itv002461/retail_db/.git/objects/20/dd3be600599c8f82a09d0f3217adab77454d63': File exists\n",
      "get: `/home/itv002461/retail_db/.git/objects/27/4a7a03b99b5f307287958b1824f0e279bc2ead': File exists\n",
      "get: `/home/itv002461/retail_db/.git/objects/30/a8b8d83ca72475731ff627ed2b98ef411fa14f': File exists\n",
      "get: `/home/itv002461/retail_db/.git/objects/35/ad0bc10e4e6349c47b2a93eed8f8004705a31c': File exists\n",
      "get: `/home/itv002461/retail_db/.git/objects/36/2a91889067da2c09e081526bcfafe8040fa867': File exists\n",
      "get: `/home/itv002461/retail_db/.git/objects/41/1d0ce6478c6e98628d2801eb3903ba9e410b84': File exists\n",
      "get: `/home/itv002461/retail_db/.git/objects/4a/872ba84139b7c8d4c2240c494503b8770d0956': File exists\n",
      "get: `/home/itv002461/retail_db/.git/objects/51/c15e1e83260608494ec80a500a54d11aca4304': File exists\n",
      "get: `/home/itv002461/retail_db/.git/objects/52/6ae0bf67e6bf8e3377e780d4132f760feccfc6': File exists\n",
      "get: `/home/itv002461/retail_db/.git/objects/56/0e6b0d52c384ec6e253b329956850442014472': File exists\n",
      "get: `/home/itv002461/retail_db/.git/objects/58/2a386cf855b01260d86397f334e6307a088318': File exists\n",
      "get: `/home/itv002461/retail_db/.git/objects/58/46680442d0410de239cb58df752369ddca3de1': File exists\n",
      "get: `/home/itv002461/retail_db/.git/objects/5f/88dd9fe2d063aa140f6cc73aaeef849bcad3df': File exists\n",
      "get: `/home/itv002461/retail_db/.git/objects/67/3d62b4b825ef284e73457d190ac8bb4cf33dcf': File exists\n",
      "get: `/home/itv002461/retail_db/.git/objects/67/453ab8ec4f6bd570ff1a0b64856b277b2599f4': File exists\n",
      "get: `/home/itv002461/retail_db/.git/objects/86/4f6b9a91e3152424e141d97dd01928c60e662c': File exists\n",
      "get: `/home/itv002461/retail_db/.git/objects/88/e73fe52979b9611f2186810800bbdea1e7f025': File exists\n",
      "get: `/home/itv002461/retail_db/.git/objects/97/75b581f9dd346e3096577f7ae3297f158b6373': File exists\n",
      "get: `/home/itv002461/retail_db/.git/objects/9a/bfbae18a93b615dd1944eff2d07fa18b06dcf7': File exists\n",
      "get: `/home/itv002461/retail_db/.git/objects/9f/dd92a48e239af4f2d8f592444ca606558be510': File exists\n",
      "get: `/home/itv002461/retail_db/.git/objects/a2/a8eea2b6436fb952904fd7cfc26a1dae5f56af': File exists\n",
      "get: `/home/itv002461/retail_db/.git/objects/a6/1448480f57b87f003a3a9fdf762f88c3548b32': File exists\n",
      "get: `/home/itv002461/retail_db/.git/objects/a8/600b1314a8a84eafcaeeb85fc28b6f4bffafbd': File exists\n",
      "get: `/home/itv002461/retail_db/.git/objects/a9/10ce1ba0f6db8d91a6b1f0ec1e09db2a4db302': File exists\n",
      "get: `/home/itv002461/retail_db/.git/objects/ae/5340fab29b1b91138ea83a7fe16f55d2de0d96': File exists\n",
      "get: `/home/itv002461/retail_db/.git/objects/b8/2b59cf6bc40bcf221cd381af72f6a6abb8658d': File exists\n",
      "get: `/home/itv002461/retail_db/.git/objects/b8/419f83fc9b79d79fe58e01dce90802cc979dd0': File exists\n",
      "get: `/home/itv002461/retail_db/.git/objects/c0/8eab720921bfab7283bda9c2f7375af637ed47': File exists\n",
      "get: `/home/itv002461/retail_db/.git/objects/c2/dd4d7592d80530b56dd2e3dfa7f06ef0cac675': File exists\n",
      "get: `/home/itv002461/retail_db/.git/objects/c4/7834de705ad3a907127ada28b563ca06b88755': File exists\n",
      "get: `/home/itv002461/retail_db/.git/objects/c5/b5b0f5774f5f42c31a5911ac90134148856c51': File exists\n",
      "get: `/home/itv002461/retail_db/.git/objects/d5/31e42bca5c2b788bdc1559b3c4f5ae014774bf': File exists\n",
      "get: `/home/itv002461/retail_db/.git/objects/dc/c77dd21e88aac23709cd526f79ed90318ee9a5': File exists\n",
      "get: `/home/itv002461/retail_db/.git/objects/e1/963013bb99974f03890064d602dc61e9cd601d': File exists\n",
      "get: `/home/itv002461/retail_db/.git/objects/e4/613fc9745843d32b57e1164f8def110ad2621e': File exists\n",
      "get: `/home/itv002461/retail_db/.git/objects/e6/48b7b889231e1c9cb7ddde4d549b0e059ad002': File exists\n",
      "get: `/home/itv002461/retail_db/.git/objects/f0/f6cfcf949e3493a4645f5214845f5d4612080c': File exists\n",
      "get: `/home/itv002461/retail_db/.git/objects/f1/054a378578277c061bb0690195dd18cf9ab5dc': File exists\n",
      "get: `/home/itv002461/retail_db/.git/objects/f6/47e787bee6b7f17a995d65388d627c5396d41f': File exists\n",
      "get: `/home/itv002461/retail_db/.git/objects/f9/e734892acc42e74e8791b71a950eb7c92f05a8': File exists\n",
      "get: `/home/itv002461/retail_db/.git/objects/fe/c19a1bf156441793d6f444758dffed0c07f8e8': File exists\n",
      "get: `/home/itv002461/retail_db/.git/objects/fe/feb4bb2f9d49682507c5e4d08f1112af5203bf': File exists\n",
      "get: `/home/itv002461/retail_db/.git/packed-refs': File exists\n",
      "get: `/home/itv002461/retail_db/.git/refs/heads/master': File exists\n",
      "get: `/home/itv002461/retail_db/.git/refs/remotes/origin/HEAD': File exists\n",
      "get: `/home/itv002461/retail_db/README.md': File exists\n",
      "get: `/home/itv002461/retail_db/categories/part-00000': File exists\n",
      "get: `/home/itv002461/retail_db/create_db.sql': File exists\n",
      "get: `/home/itv002461/retail_db/create_db_tables_pg.sql': File exists\n",
      "get: `/home/itv002461/retail_db/customers/part-00000': File exists\n",
      "get: `/home/itv002461/retail_db/departments/part-00000': File exists\n",
      "get: `/home/itv002461/retail_db/load_db_tables_pg.sql': File exists\n",
      "get: `/home/itv002461/retail_db/order_items/part-00000': File exists\n",
      "get: `/home/itv002461/retail_db/orders/part-00000': File exists\n",
      "get: `/home/itv002461/retail_db/products/part-00000': File exists\n"
     ]
    },
    {
     "ename": "CalledProcessError",
     "evalue": "Command 'b'\\nhdfs dfs -get /user/${USER}/retail_db /home/${USER}\\n'' returned non-zero exit status 1.",
     "output_type": "error",
     "traceback": [
      "\u001b[0;31m---------------------------------------------------------------------------\u001b[0m",
      "\u001b[0;31mCalledProcessError\u001b[0m                        Traceback (most recent call last)",
      "\u001b[0;32m<ipython-input-8-78b4155f2b41>\u001b[0m in \u001b[0;36m<module>\u001b[0;34m\u001b[0m\n\u001b[0;32m----> 1\u001b[0;31m \u001b[0mget_ipython\u001b[0m\u001b[0;34m(\u001b[0m\u001b[0;34m)\u001b[0m\u001b[0;34m.\u001b[0m\u001b[0mrun_cell_magic\u001b[0m\u001b[0;34m(\u001b[0m\u001b[0;34m'sh'\u001b[0m\u001b[0;34m,\u001b[0m \u001b[0;34m''\u001b[0m\u001b[0;34m,\u001b[0m \u001b[0;34m'\\nhdfs dfs -get /user/${USER}/retail_db /home/${USER}\\n'\u001b[0m\u001b[0;34m)\u001b[0m\u001b[0;34m\u001b[0m\u001b[0;34m\u001b[0m\u001b[0m\n\u001b[0m",
      "\u001b[0;32m/opt/anaconda3/envs/beakerx/lib/python3.6/site-packages/IPython/core/interactiveshell.py\u001b[0m in \u001b[0;36mrun_cell_magic\u001b[0;34m(self, magic_name, line, cell)\u001b[0m\n\u001b[1;32m   2369\u001b[0m             \u001b[0;32mwith\u001b[0m \u001b[0mself\u001b[0m\u001b[0;34m.\u001b[0m\u001b[0mbuiltin_trap\u001b[0m\u001b[0;34m:\u001b[0m\u001b[0;34m\u001b[0m\u001b[0;34m\u001b[0m\u001b[0m\n\u001b[1;32m   2370\u001b[0m                 \u001b[0margs\u001b[0m \u001b[0;34m=\u001b[0m \u001b[0;34m(\u001b[0m\u001b[0mmagic_arg_s\u001b[0m\u001b[0;34m,\u001b[0m \u001b[0mcell\u001b[0m\u001b[0;34m)\u001b[0m\u001b[0;34m\u001b[0m\u001b[0;34m\u001b[0m\u001b[0m\n\u001b[0;32m-> 2371\u001b[0;31m                 \u001b[0mresult\u001b[0m \u001b[0;34m=\u001b[0m \u001b[0mfn\u001b[0m\u001b[0;34m(\u001b[0m\u001b[0;34m*\u001b[0m\u001b[0margs\u001b[0m\u001b[0;34m,\u001b[0m \u001b[0;34m**\u001b[0m\u001b[0mkwargs\u001b[0m\u001b[0;34m)\u001b[0m\u001b[0;34m\u001b[0m\u001b[0;34m\u001b[0m\u001b[0m\n\u001b[0m\u001b[1;32m   2372\u001b[0m             \u001b[0;32mreturn\u001b[0m \u001b[0mresult\u001b[0m\u001b[0;34m\u001b[0m\u001b[0;34m\u001b[0m\u001b[0m\n\u001b[1;32m   2373\u001b[0m \u001b[0;34m\u001b[0m\u001b[0m\n",
      "\u001b[0;32m/opt/anaconda3/envs/beakerx/lib/python3.6/site-packages/IPython/core/magics/script.py\u001b[0m in \u001b[0;36mnamed_script_magic\u001b[0;34m(line, cell)\u001b[0m\n\u001b[1;32m    140\u001b[0m             \u001b[0;32melse\u001b[0m\u001b[0;34m:\u001b[0m\u001b[0;34m\u001b[0m\u001b[0;34m\u001b[0m\u001b[0m\n\u001b[1;32m    141\u001b[0m                 \u001b[0mline\u001b[0m \u001b[0;34m=\u001b[0m \u001b[0mscript\u001b[0m\u001b[0;34m\u001b[0m\u001b[0;34m\u001b[0m\u001b[0m\n\u001b[0;32m--> 142\u001b[0;31m             \u001b[0;32mreturn\u001b[0m \u001b[0mself\u001b[0m\u001b[0;34m.\u001b[0m\u001b[0mshebang\u001b[0m\u001b[0;34m(\u001b[0m\u001b[0mline\u001b[0m\u001b[0;34m,\u001b[0m \u001b[0mcell\u001b[0m\u001b[0;34m)\u001b[0m\u001b[0;34m\u001b[0m\u001b[0;34m\u001b[0m\u001b[0m\n\u001b[0m\u001b[1;32m    143\u001b[0m \u001b[0;34m\u001b[0m\u001b[0m\n\u001b[1;32m    144\u001b[0m         \u001b[0;31m# write a basic docstring:\u001b[0m\u001b[0;34m\u001b[0m\u001b[0;34m\u001b[0m\u001b[0;34m\u001b[0m\u001b[0m\n",
      "\u001b[0;32m<decorator-gen-110>\u001b[0m in \u001b[0;36mshebang\u001b[0;34m(self, line, cell)\u001b[0m\n",
      "\u001b[0;32m/opt/anaconda3/envs/beakerx/lib/python3.6/site-packages/IPython/core/magic.py\u001b[0m in \u001b[0;36m<lambda>\u001b[0;34m(f, *a, **k)\u001b[0m\n\u001b[1;32m    185\u001b[0m     \u001b[0;31m# but it's overkill for just that one bit of state.\u001b[0m\u001b[0;34m\u001b[0m\u001b[0;34m\u001b[0m\u001b[0;34m\u001b[0m\u001b[0m\n\u001b[1;32m    186\u001b[0m     \u001b[0;32mdef\u001b[0m \u001b[0mmagic_deco\u001b[0m\u001b[0;34m(\u001b[0m\u001b[0marg\u001b[0m\u001b[0;34m)\u001b[0m\u001b[0;34m:\u001b[0m\u001b[0;34m\u001b[0m\u001b[0;34m\u001b[0m\u001b[0m\n\u001b[0;32m--> 187\u001b[0;31m         \u001b[0mcall\u001b[0m \u001b[0;34m=\u001b[0m \u001b[0;32mlambda\u001b[0m \u001b[0mf\u001b[0m\u001b[0;34m,\u001b[0m \u001b[0;34m*\u001b[0m\u001b[0ma\u001b[0m\u001b[0;34m,\u001b[0m \u001b[0;34m**\u001b[0m\u001b[0mk\u001b[0m\u001b[0;34m:\u001b[0m \u001b[0mf\u001b[0m\u001b[0;34m(\u001b[0m\u001b[0;34m*\u001b[0m\u001b[0ma\u001b[0m\u001b[0;34m,\u001b[0m \u001b[0;34m**\u001b[0m\u001b[0mk\u001b[0m\u001b[0;34m)\u001b[0m\u001b[0;34m\u001b[0m\u001b[0;34m\u001b[0m\u001b[0m\n\u001b[0m\u001b[1;32m    188\u001b[0m \u001b[0;34m\u001b[0m\u001b[0m\n\u001b[1;32m    189\u001b[0m         \u001b[0;32mif\u001b[0m \u001b[0mcallable\u001b[0m\u001b[0;34m(\u001b[0m\u001b[0marg\u001b[0m\u001b[0;34m)\u001b[0m\u001b[0;34m:\u001b[0m\u001b[0;34m\u001b[0m\u001b[0;34m\u001b[0m\u001b[0m\n",
      "\u001b[0;32m/opt/anaconda3/envs/beakerx/lib/python3.6/site-packages/IPython/core/magics/script.py\u001b[0m in \u001b[0;36mshebang\u001b[0;34m(self, line, cell)\u001b[0m\n\u001b[1;32m    243\u001b[0m             \u001b[0msys\u001b[0m\u001b[0;34m.\u001b[0m\u001b[0mstderr\u001b[0m\u001b[0;34m.\u001b[0m\u001b[0mflush\u001b[0m\u001b[0;34m(\u001b[0m\u001b[0;34m)\u001b[0m\u001b[0;34m\u001b[0m\u001b[0;34m\u001b[0m\u001b[0m\n\u001b[1;32m    244\u001b[0m         \u001b[0;32mif\u001b[0m \u001b[0margs\u001b[0m\u001b[0;34m.\u001b[0m\u001b[0mraise_error\u001b[0m \u001b[0;32mand\u001b[0m \u001b[0mp\u001b[0m\u001b[0;34m.\u001b[0m\u001b[0mreturncode\u001b[0m\u001b[0;34m!=\u001b[0m\u001b[0;36m0\u001b[0m\u001b[0;34m:\u001b[0m\u001b[0;34m\u001b[0m\u001b[0;34m\u001b[0m\u001b[0m\n\u001b[0;32m--> 245\u001b[0;31m             \u001b[0;32mraise\u001b[0m \u001b[0mCalledProcessError\u001b[0m\u001b[0;34m(\u001b[0m\u001b[0mp\u001b[0m\u001b[0;34m.\u001b[0m\u001b[0mreturncode\u001b[0m\u001b[0;34m,\u001b[0m \u001b[0mcell\u001b[0m\u001b[0;34m,\u001b[0m \u001b[0moutput\u001b[0m\u001b[0;34m=\u001b[0m\u001b[0mout\u001b[0m\u001b[0;34m,\u001b[0m \u001b[0mstderr\u001b[0m\u001b[0;34m=\u001b[0m\u001b[0merr\u001b[0m\u001b[0;34m)\u001b[0m\u001b[0;34m\u001b[0m\u001b[0;34m\u001b[0m\u001b[0m\n\u001b[0m\u001b[1;32m    246\u001b[0m \u001b[0;34m\u001b[0m\u001b[0m\n\u001b[1;32m    247\u001b[0m     \u001b[0;32mdef\u001b[0m \u001b[0m_run_script\u001b[0m\u001b[0;34m(\u001b[0m\u001b[0mself\u001b[0m\u001b[0;34m,\u001b[0m \u001b[0mp\u001b[0m\u001b[0;34m,\u001b[0m \u001b[0mcell\u001b[0m\u001b[0;34m,\u001b[0m \u001b[0mto_close\u001b[0m\u001b[0;34m)\u001b[0m\u001b[0;34m:\u001b[0m\u001b[0;34m\u001b[0m\u001b[0;34m\u001b[0m\u001b[0m\n",
      "\u001b[0;31mCalledProcessError\u001b[0m: Command 'b'\\nhdfs dfs -get /user/${USER}/retail_db /home/${USER}\\n'' returned non-zero exit status 1."
     ]
    }
   ],
   "source": [
    "%%sh\n",
    "\n",
    "hdfs dfs -get /user/${USER}/retail_db /home/${USER}"
   ]
  },
  {
   "cell_type": "markdown",
   "metadata": {},
   "source": [
    "```{note}\n",
    "Alternative approach, where the folder and contents are copied directly.\n",
    "```"
   ]
  },
  {
   "cell_type": "code",
   "execution_count": 9,
   "metadata": {},
   "outputs": [],
   "source": [
    "%%sh\n",
    "\n",
    "rm -rf /home/${USER}/retail_db"
   ]
  },
  {
   "cell_type": "code",
   "execution_count": 10,
   "metadata": {},
   "outputs": [
    {
     "name": "stdout",
     "output_type": "stream",
     "text": [
      "total 12\n",
      "drwxr-xr-x 3 itv002461 students 4096 May  2 00:12 data\n",
      "drwxr-xr-x 3 itv002461 students 4096 May  9 05:23 Project\n",
      "drwxr-xr-x 9 itv002461 students 4096 May 18 11:13 data-engineering-spark\n"
     ]
    }
   ],
   "source": [
    "%%sh\n",
    "\n",
    "ls -ltr /home/${USER}"
   ]
  },
  {
   "cell_type": "code",
   "execution_count": 11,
   "metadata": {},
   "outputs": [],
   "source": [
    "%%sh\n",
    "\n",
    "hdfs dfs -get /user/${USER}/retail_db /home/${USER}"
   ]
  },
  {
   "cell_type": "code",
   "execution_count": 12,
   "metadata": {},
   "outputs": [
    {
     "name": "stdout",
     "output_type": "stream",
     "text": [
      "-rw-r--r-- 1 itv002461 students      806 May 25 10:12 /home/itv002461/retail_db/README.md\n",
      "-rw-r--r-- 1 itv002461 students 10303297 May 25 10:12 /home/itv002461/retail_db/create_db.sql\n",
      "-rw-r--r-- 1 itv002461 students     1748 May 25 10:12 /home/itv002461/retail_db/create_db_tables_pg.sql\n",
      "-rw-r--r-- 1 itv002461 students 10297372 May 25 10:12 /home/itv002461/retail_db/load_db_tables_pg.sql\n",
      "\n",
      "/home/itv002461/retail_db/categories:\n",
      "total 4\n",
      "-rw-r--r-- 1 itv002461 students 1029 May 25 10:12 part-00000\n",
      "\n",
      "/home/itv002461/retail_db/customers:\n",
      "total 932\n",
      "-rw-r--r-- 1 itv002461 students 953719 May 25 10:12 part-00000\n",
      "\n",
      "/home/itv002461/retail_db/departments:\n",
      "total 4\n",
      "-rw-r--r-- 1 itv002461 students 60 May 25 10:12 part-00000\n",
      "\n",
      "/home/itv002461/retail_db/order_items:\n",
      "total 5284\n",
      "-rw-r--r-- 1 itv002461 students 5408880 May 25 10:12 part-00000\n",
      "\n",
      "/home/itv002461/retail_db/orders:\n",
      "total 2932\n",
      "-rw-r--r-- 1 itv002461 students 2999944 May 25 10:12 part-00000\n",
      "\n",
      "/home/itv002461/retail_db/products:\n",
      "total 172\n",
      "-rw-r--r-- 1 itv002461 students 174155 May 25 10:12 part-00000\n"
     ]
    }
   ],
   "source": [
    "%%sh\n",
    "\n",
    "ls -ltr /home/${USER}/retail_db/*"
   ]
  },
  {
   "cell_type": "markdown",
   "metadata": {},
   "source": [
    "* We can also use patterns while using `get` command to get files from HDFS to local file system. Also, we can pass multiple files or folders in HDFS to `get` command."
   ]
  },
  {
   "cell_type": "code",
   "execution_count": 13,
   "metadata": {},
   "outputs": [],
   "source": [
    "%%sh\n",
    "\n",
    "rm -rf /home/${USER}/retail_db"
   ]
  },
  {
   "cell_type": "code",
   "execution_count": 14,
   "metadata": {},
   "outputs": [
    {
     "name": "stdout",
     "output_type": "stream",
     "text": [
      "total 12\n",
      "drwxr-xr-x 3 itv002461 students 4096 May  2 00:12 data\n",
      "drwxr-xr-x 3 itv002461 students 4096 May  9 05:23 Project\n",
      "drwxr-xr-x 9 itv002461 students 4096 May 18 11:13 data-engineering-spark\n"
     ]
    }
   ],
   "source": [
    "%%sh\n",
    "\n",
    "ls -ltr /home/${USER}"
   ]
  },
  {
   "cell_type": "code",
   "execution_count": 15,
   "metadata": {},
   "outputs": [],
   "source": [
    "%%sh\n",
    "\n",
    "mkdir /home/${USER}/retail_db"
   ]
  },
  {
   "cell_type": "code",
   "execution_count": 16,
   "metadata": {},
   "outputs": [],
   "source": [
    "%%sh\n",
    "\n",
    "hdfs dfs -get /user/${USER}/retail_db/order* /home/${USER}/retail_db"
   ]
  },
  {
   "cell_type": "code",
   "execution_count": 17,
   "metadata": {},
   "outputs": [
    {
     "name": "stdout",
     "output_type": "stream",
     "text": [
      "total 8\n",
      "drwxr-xr-x 2 itv002461 students 4096 May 25 10:13 order_items\n",
      "drwxr-xr-x 2 itv002461 students 4096 May 25 10:13 orders\n"
     ]
    }
   ],
   "source": [
    "%%sh\n",
    "\n",
    "ls -ltr /home/${USER}/retail_db"
   ]
  },
  {
   "cell_type": "code",
   "execution_count": 18,
   "metadata": {},
   "outputs": [],
   "source": [
    "%%sh\n",
    "\n",
    "hdfs dfs -get /user/${USER}/retail_db/departments /user/${USER}/retail_db/products /home/${USER}/retail_db"
   ]
  },
  {
   "cell_type": "code",
   "execution_count": 19,
   "metadata": {},
   "outputs": [
    {
     "name": "stdout",
     "output_type": "stream",
     "text": [
      "total 16\n",
      "drwxr-xr-x 2 itv002461 students 4096 May 25 10:13 order_items\n",
      "drwxr-xr-x 2 itv002461 students 4096 May 25 10:13 orders\n",
      "drwxr-xr-x 2 itv002461 students 4096 May 25 10:13 departments\n",
      "drwxr-xr-x 2 itv002461 students 4096 May 25 10:13 products\n"
     ]
    }
   ],
   "source": [
    "%%sh\n",
    "\n",
    "ls -ltr /home/${USER}/retail_db"
   ]
  },
  {
   "cell_type": "code",
   "execution_count": 21,
   "metadata": {},
   "outputs": [
    {
     "name": "stderr",
     "output_type": "stream",
     "text": [
      "get: `/home/itv002461/retail_db/categories/part-00000': File exists\n",
      "get: `/home/itv002461/retail_db/customers/part-00000': File exists\n"
     ]
    },
    {
     "ename": "CalledProcessError",
     "evalue": "Command 'b'\\nhdfs dfs -get /user/${USER}/retail_db/categories /user/${USER}/retail_db/customers /home/${USER}/retail_db\\n'' returned non-zero exit status 1.",
     "output_type": "error",
     "traceback": [
      "\u001b[0;31m---------------------------------------------------------------------------\u001b[0m",
      "\u001b[0;31mCalledProcessError\u001b[0m                        Traceback (most recent call last)",
      "\u001b[0;32m<ipython-input-21-32a518e7d585>\u001b[0m in \u001b[0;36m<module>\u001b[0;34m\u001b[0m\n\u001b[0;32m----> 1\u001b[0;31m \u001b[0mget_ipython\u001b[0m\u001b[0;34m(\u001b[0m\u001b[0;34m)\u001b[0m\u001b[0;34m.\u001b[0m\u001b[0mrun_cell_magic\u001b[0m\u001b[0;34m(\u001b[0m\u001b[0;34m'sh'\u001b[0m\u001b[0;34m,\u001b[0m \u001b[0;34m''\u001b[0m\u001b[0;34m,\u001b[0m \u001b[0;34m'\\nhdfs dfs -get /user/${USER}/retail_db/categories /user/${USER}/retail_db/customers /home/${USER}/retail_db\\n'\u001b[0m\u001b[0;34m)\u001b[0m\u001b[0;34m\u001b[0m\u001b[0;34m\u001b[0m\u001b[0m\n\u001b[0m",
      "\u001b[0;32m/opt/anaconda3/envs/beakerx/lib/python3.6/site-packages/IPython/core/interactiveshell.py\u001b[0m in \u001b[0;36mrun_cell_magic\u001b[0;34m(self, magic_name, line, cell)\u001b[0m\n\u001b[1;32m   2369\u001b[0m             \u001b[0;32mwith\u001b[0m \u001b[0mself\u001b[0m\u001b[0;34m.\u001b[0m\u001b[0mbuiltin_trap\u001b[0m\u001b[0;34m:\u001b[0m\u001b[0;34m\u001b[0m\u001b[0;34m\u001b[0m\u001b[0m\n\u001b[1;32m   2370\u001b[0m                 \u001b[0margs\u001b[0m \u001b[0;34m=\u001b[0m \u001b[0;34m(\u001b[0m\u001b[0mmagic_arg_s\u001b[0m\u001b[0;34m,\u001b[0m \u001b[0mcell\u001b[0m\u001b[0;34m)\u001b[0m\u001b[0;34m\u001b[0m\u001b[0;34m\u001b[0m\u001b[0m\n\u001b[0;32m-> 2371\u001b[0;31m                 \u001b[0mresult\u001b[0m \u001b[0;34m=\u001b[0m \u001b[0mfn\u001b[0m\u001b[0;34m(\u001b[0m\u001b[0;34m*\u001b[0m\u001b[0margs\u001b[0m\u001b[0;34m,\u001b[0m \u001b[0;34m**\u001b[0m\u001b[0mkwargs\u001b[0m\u001b[0;34m)\u001b[0m\u001b[0;34m\u001b[0m\u001b[0;34m\u001b[0m\u001b[0m\n\u001b[0m\u001b[1;32m   2372\u001b[0m             \u001b[0;32mreturn\u001b[0m \u001b[0mresult\u001b[0m\u001b[0;34m\u001b[0m\u001b[0;34m\u001b[0m\u001b[0m\n\u001b[1;32m   2373\u001b[0m \u001b[0;34m\u001b[0m\u001b[0m\n",
      "\u001b[0;32m/opt/anaconda3/envs/beakerx/lib/python3.6/site-packages/IPython/core/magics/script.py\u001b[0m in \u001b[0;36mnamed_script_magic\u001b[0;34m(line, cell)\u001b[0m\n\u001b[1;32m    140\u001b[0m             \u001b[0;32melse\u001b[0m\u001b[0;34m:\u001b[0m\u001b[0;34m\u001b[0m\u001b[0;34m\u001b[0m\u001b[0m\n\u001b[1;32m    141\u001b[0m                 \u001b[0mline\u001b[0m \u001b[0;34m=\u001b[0m \u001b[0mscript\u001b[0m\u001b[0;34m\u001b[0m\u001b[0;34m\u001b[0m\u001b[0m\n\u001b[0;32m--> 142\u001b[0;31m             \u001b[0;32mreturn\u001b[0m \u001b[0mself\u001b[0m\u001b[0;34m.\u001b[0m\u001b[0mshebang\u001b[0m\u001b[0;34m(\u001b[0m\u001b[0mline\u001b[0m\u001b[0;34m,\u001b[0m \u001b[0mcell\u001b[0m\u001b[0;34m)\u001b[0m\u001b[0;34m\u001b[0m\u001b[0;34m\u001b[0m\u001b[0m\n\u001b[0m\u001b[1;32m    143\u001b[0m \u001b[0;34m\u001b[0m\u001b[0m\n\u001b[1;32m    144\u001b[0m         \u001b[0;31m# write a basic docstring:\u001b[0m\u001b[0;34m\u001b[0m\u001b[0;34m\u001b[0m\u001b[0;34m\u001b[0m\u001b[0m\n",
      "\u001b[0;32m<decorator-gen-110>\u001b[0m in \u001b[0;36mshebang\u001b[0;34m(self, line, cell)\u001b[0m\n",
      "\u001b[0;32m/opt/anaconda3/envs/beakerx/lib/python3.6/site-packages/IPython/core/magic.py\u001b[0m in \u001b[0;36m<lambda>\u001b[0;34m(f, *a, **k)\u001b[0m\n\u001b[1;32m    185\u001b[0m     \u001b[0;31m# but it's overkill for just that one bit of state.\u001b[0m\u001b[0;34m\u001b[0m\u001b[0;34m\u001b[0m\u001b[0;34m\u001b[0m\u001b[0m\n\u001b[1;32m    186\u001b[0m     \u001b[0;32mdef\u001b[0m \u001b[0mmagic_deco\u001b[0m\u001b[0;34m(\u001b[0m\u001b[0marg\u001b[0m\u001b[0;34m)\u001b[0m\u001b[0;34m:\u001b[0m\u001b[0;34m\u001b[0m\u001b[0;34m\u001b[0m\u001b[0m\n\u001b[0;32m--> 187\u001b[0;31m         \u001b[0mcall\u001b[0m \u001b[0;34m=\u001b[0m \u001b[0;32mlambda\u001b[0m \u001b[0mf\u001b[0m\u001b[0;34m,\u001b[0m \u001b[0;34m*\u001b[0m\u001b[0ma\u001b[0m\u001b[0;34m,\u001b[0m \u001b[0;34m**\u001b[0m\u001b[0mk\u001b[0m\u001b[0;34m:\u001b[0m \u001b[0mf\u001b[0m\u001b[0;34m(\u001b[0m\u001b[0;34m*\u001b[0m\u001b[0ma\u001b[0m\u001b[0;34m,\u001b[0m \u001b[0;34m**\u001b[0m\u001b[0mk\u001b[0m\u001b[0;34m)\u001b[0m\u001b[0;34m\u001b[0m\u001b[0;34m\u001b[0m\u001b[0m\n\u001b[0m\u001b[1;32m    188\u001b[0m \u001b[0;34m\u001b[0m\u001b[0m\n\u001b[1;32m    189\u001b[0m         \u001b[0;32mif\u001b[0m \u001b[0mcallable\u001b[0m\u001b[0;34m(\u001b[0m\u001b[0marg\u001b[0m\u001b[0;34m)\u001b[0m\u001b[0;34m:\u001b[0m\u001b[0;34m\u001b[0m\u001b[0;34m\u001b[0m\u001b[0m\n",
      "\u001b[0;32m/opt/anaconda3/envs/beakerx/lib/python3.6/site-packages/IPython/core/magics/script.py\u001b[0m in \u001b[0;36mshebang\u001b[0;34m(self, line, cell)\u001b[0m\n\u001b[1;32m    243\u001b[0m             \u001b[0msys\u001b[0m\u001b[0;34m.\u001b[0m\u001b[0mstderr\u001b[0m\u001b[0;34m.\u001b[0m\u001b[0mflush\u001b[0m\u001b[0;34m(\u001b[0m\u001b[0;34m)\u001b[0m\u001b[0;34m\u001b[0m\u001b[0;34m\u001b[0m\u001b[0m\n\u001b[1;32m    244\u001b[0m         \u001b[0;32mif\u001b[0m \u001b[0margs\u001b[0m\u001b[0;34m.\u001b[0m\u001b[0mraise_error\u001b[0m \u001b[0;32mand\u001b[0m \u001b[0mp\u001b[0m\u001b[0;34m.\u001b[0m\u001b[0mreturncode\u001b[0m\u001b[0;34m!=\u001b[0m\u001b[0;36m0\u001b[0m\u001b[0;34m:\u001b[0m\u001b[0;34m\u001b[0m\u001b[0;34m\u001b[0m\u001b[0m\n\u001b[0;32m--> 245\u001b[0;31m             \u001b[0;32mraise\u001b[0m \u001b[0mCalledProcessError\u001b[0m\u001b[0;34m(\u001b[0m\u001b[0mp\u001b[0m\u001b[0;34m.\u001b[0m\u001b[0mreturncode\u001b[0m\u001b[0;34m,\u001b[0m \u001b[0mcell\u001b[0m\u001b[0;34m,\u001b[0m \u001b[0moutput\u001b[0m\u001b[0;34m=\u001b[0m\u001b[0mout\u001b[0m\u001b[0;34m,\u001b[0m \u001b[0mstderr\u001b[0m\u001b[0;34m=\u001b[0m\u001b[0merr\u001b[0m\u001b[0;34m)\u001b[0m\u001b[0;34m\u001b[0m\u001b[0;34m\u001b[0m\u001b[0m\n\u001b[0m\u001b[1;32m    246\u001b[0m \u001b[0;34m\u001b[0m\u001b[0m\n\u001b[1;32m    247\u001b[0m     \u001b[0;32mdef\u001b[0m \u001b[0m_run_script\u001b[0m\u001b[0;34m(\u001b[0m\u001b[0mself\u001b[0m\u001b[0;34m,\u001b[0m \u001b[0mp\u001b[0m\u001b[0;34m,\u001b[0m \u001b[0mcell\u001b[0m\u001b[0;34m,\u001b[0m \u001b[0mto_close\u001b[0m\u001b[0;34m)\u001b[0m\u001b[0;34m:\u001b[0m\u001b[0;34m\u001b[0m\u001b[0;34m\u001b[0m\u001b[0m\n",
      "\u001b[0;31mCalledProcessError\u001b[0m: Command 'b'\\nhdfs dfs -get /user/${USER}/retail_db/categories /user/${USER}/retail_db/customers /home/${USER}/retail_db\\n'' returned non-zero exit status 1."
     ]
    }
   ],
   "source": [
    "%%sh\n",
    "\n",
    "hdfs dfs -get /user/${USER}/retail_db/categories /user/${USER}/retail_db/customers /home/${USER}/retail_db"
   ]
  },
  {
   "cell_type": "code",
   "execution_count": 22,
   "metadata": {},
   "outputs": [
    {
     "name": "stdout",
     "output_type": "stream",
     "text": [
      "total 24\n",
      "drwxr-xr-x 2 itv002461 students 4096 May 25 10:13 order_items\n",
      "drwxr-xr-x 2 itv002461 students 4096 May 25 10:13 orders\n",
      "drwxr-xr-x 2 itv002461 students 4096 May 25 10:13 departments\n",
      "drwxr-xr-x 2 itv002461 students 4096 May 25 10:13 products\n",
      "drwxr-xr-x 2 itv002461 students 4096 May 25 10:13 categories\n",
      "drwxr-xr-x 2 itv002461 students 4096 May 25 10:13 customers\n"
     ]
    }
   ],
   "source": [
    "%%sh\n",
    "\n",
    "ls -ltr /home/${USER}/retail_db"
   ]
  },
  {
   "cell_type": "code",
   "execution_count": null,
   "metadata": {},
   "outputs": [],
   "source": []
  }
 ],
 "metadata": {
  "kernelspec": {
   "display_name": "Python 3",
   "language": "python",
   "name": "python3"
  },
  "language_info": {
   "codemirror_mode": {
    "name": "ipython",
    "version": 3
   },
   "file_extension": ".py",
   "mimetype": "text/x-python",
   "name": "python",
   "nbconvert_exporter": "python",
   "pygments_lexer": "ipython3",
   "version": "3.6.12"
  }
 },
 "nbformat": 4,
 "nbformat_minor": 4
}
