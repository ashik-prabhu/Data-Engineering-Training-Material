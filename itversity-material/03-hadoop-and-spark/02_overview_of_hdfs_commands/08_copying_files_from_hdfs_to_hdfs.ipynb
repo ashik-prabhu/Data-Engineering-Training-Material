{
 "cells": [
  {
   "cell_type": "markdown",
   "metadata": {},
   "source": [
    "## Copying files from HDFS to HDFS\n",
    "\n",
    "Let us understand how to copy files with in HDFS (from one HDFS location to another HDFS location). \n",
    "\n",
    "* We can use `hdfs dfs -cp` command to copy files with in HDFS.\n",
    "* One need to have at least read permission on source folders or files and write permission on target folder for `cp` command to work as expected."
   ]
  },
  {
   "cell_type": "code",
   "execution_count": 1,
   "metadata": {},
   "outputs": [
    {
     "name": "stdout",
     "output_type": "stream",
     "text": [
      "Deleted /user/itv002461/retail_db\n"
     ]
    }
   ],
   "source": [
    "%%sh\n",
    "\n",
    "hdfs dfs -rm -R -skipTrash /user/${USER}/retail_db"
   ]
  },
  {
   "cell_type": "code",
   "execution_count": 2,
   "metadata": {},
   "outputs": [
    {
     "name": "stdout",
     "output_type": "stream",
     "text": [
      "Found 7 items\n",
      "drwxr-xr-x   - hdfs supergroup          0 2021-01-28 08:49 /public/retail_db/categories\n",
      "drwxr-xr-x   - hdfs supergroup          0 2021-01-28 08:59 /public/retail_db/customers\n",
      "drwxr-xr-x   - hdfs supergroup          0 2021-01-28 09:44 /public/retail_db/departments\n",
      "drwxr-xr-x   - hdfs supergroup          0 2021-01-28 09:01 /public/retail_db/order_items\n",
      "drwxr-xr-x   - hdfs supergroup          0 2021-01-28 09:27 /public/retail_db/orders\n",
      "drwxr-xr-x   - hdfs supergroup          0 2021-01-28 08:54 /public/retail_db/products\n",
      "-rw-r--r--   3 hdfs supergroup       4965 2021-08-21 03:48 /public/retail_db/wordcount.rtf\n"
     ]
    }
   ],
   "source": [
    "%%sh\n",
    "\n",
    "hdfs dfs -ls /public/retail_db"
   ]
  },
  {
   "cell_type": "code",
   "execution_count": 3,
   "metadata": {},
   "outputs": [
    {
     "name": "stdout",
     "output_type": "stream",
     "text": [
      "Found 3 items\n",
      "drwx------   - itv002461 supergroup          0 2022-05-25 04:05 /user/itv002461/.Trash\n",
      "drwxr-xr-x   - itv002461 supergroup          0 2022-05-25 05:30 /user/itv002461/.sparkStaging\n",
      "drwxr-xr-x   - itv002461 supergroup          0 2022-05-25 04:11 /user/itv002461/warehouse\n"
     ]
    }
   ],
   "source": [
    "%%sh\n",
    "\n",
    "hdfs dfs -ls /user/${USER}"
   ]
  },
  {
   "cell_type": "code",
   "execution_count": 4,
   "metadata": {},
   "outputs": [
    {
     "name": "stdout",
     "output_type": "stream",
     "text": [
      "-cp [-f] [-p | -p[topax]] [-d] <src> ... <dst> :\n",
      "  Copy files that match the file pattern <src> to a destination.  When copying\n",
      "  multiple files, the destination must be a directory. Passing -p preserves status\n",
      "  [topax] (timestamps, ownership, permission, ACLs, XAttr). If -p is specified\n",
      "  with no <arg>, then preserves timestamps, ownership, permission. If -pa is\n",
      "  specified, then preserves permission also because ACL is a super-set of\n",
      "  permission. Passing -f overwrites the destination if it already exists. raw\n",
      "  namespace extended attributes are preserved if (1) they are supported (HDFS\n",
      "  only) and, (2) all of the source and target pathnames are in the /.reserved/raw\n",
      "  hierarchy. raw namespace xattr preservation is determined solely by the presence\n",
      "  (or absence) of the /.reserved/raw prefix and not by the -p option. Passing -d\n",
      "  will skip creation of temporary file(<dst>._COPYING_).\n"
     ]
    }
   ],
   "source": [
    "%%sh\n",
    "\n",
    "hdfs dfs -help cp"
   ]
  },
  {
   "cell_type": "markdown",
   "metadata": {},
   "source": [
    "* Let us create directory to store all the folders and files related to HDFS under user space. You can review the permissions on retail_db, user have write permissions on the target folder."
   ]
  },
  {
   "cell_type": "code",
   "execution_count": 5,
   "metadata": {},
   "outputs": [],
   "source": [
    "%%sh\n",
    "\n",
    "hdfs dfs -mkdir /user/${USER}/retail_db"
   ]
  },
  {
   "cell_type": "code",
   "execution_count": 6,
   "metadata": {},
   "outputs": [
    {
     "name": "stdout",
     "output_type": "stream",
     "text": [
      "Found 4 items\n",
      "drwx------   - itv002461 supergroup          0 2022-05-25 04:05 /user/itv002461/.Trash\n",
      "drwxr-xr-x   - itv002461 supergroup          0 2022-05-25 05:30 /user/itv002461/.sparkStaging\n",
      "drwxr-xr-x   - itv002461 supergroup          0 2022-05-25 10:21 /user/itv002461/retail_db\n",
      "drwxr-xr-x   - itv002461 supergroup          0 2022-05-25 04:11 /user/itv002461/warehouse\n"
     ]
    }
   ],
   "source": [
    "%%sh\n",
    "\n",
    "hdfs dfs -ls /user/${USER}"
   ]
  },
  {
   "cell_type": "code",
   "execution_count": null,
   "metadata": {},
   "outputs": [],
   "source": [
    "%%sh\n",
    "\n",
    "hdfs dfs -cp /public/retail_db/* /user/${USER}/retail_db"
   ]
  },
  {
   "cell_type": "code",
   "execution_count": null,
   "metadata": {},
   "outputs": [],
   "source": [
    "%%sh\n",
    "\n",
    "hdfs dfs -ls /user/${USER}/retail_db"
   ]
  },
  {
   "cell_type": "markdown",
   "metadata": {},
   "source": [
    "```{note}\n",
    "This will fail as retail_db folder already exists.\n",
    "```"
   ]
  },
  {
   "cell_type": "code",
   "execution_count": null,
   "metadata": {},
   "outputs": [],
   "source": [
    "%%sh\n",
    "\n",
    "hdfs dfs -cp /public/retail_db /user/${USER}"
   ]
  },
  {
   "cell_type": "markdown",
   "metadata": {},
   "source": [
    "```{note}\n",
    "Alternative approach, where the folder and contents are copied directly.\n",
    "```"
   ]
  },
  {
   "cell_type": "code",
   "execution_count": 7,
   "metadata": {},
   "outputs": [
    {
     "name": "stdout",
     "output_type": "stream",
     "text": [
      "Deleted /user/itv002461/retail_db\n"
     ]
    }
   ],
   "source": [
    "%%sh\n",
    "\n",
    "hdfs dfs -rm -R -skipTrash /user/${USER}/retail_db"
   ]
  },
  {
   "cell_type": "code",
   "execution_count": 8,
   "metadata": {},
   "outputs": [
    {
     "name": "stdout",
     "output_type": "stream",
     "text": [
      "Found 3 items\n",
      "drwx------   - itv002461 supergroup          0 2022-05-25 04:05 /user/itv002461/.Trash\n",
      "drwxr-xr-x   - itv002461 supergroup          0 2022-05-25 05:30 /user/itv002461/.sparkStaging\n",
      "drwxr-xr-x   - itv002461 supergroup          0 2022-05-25 04:11 /user/itv002461/warehouse\n"
     ]
    }
   ],
   "source": [
    "%%sh\n",
    "\n",
    "hdfs dfs -ls /user/${USER}"
   ]
  },
  {
   "cell_type": "code",
   "execution_count": 9,
   "metadata": {},
   "outputs": [],
   "source": [
    "%%sh\n",
    "\n",
    "hdfs dfs -cp /public/retail_db /user/${USER}"
   ]
  },
  {
   "cell_type": "code",
   "execution_count": 10,
   "metadata": {},
   "outputs": [
    {
     "name": "stdout",
     "output_type": "stream",
     "text": [
      "drwxr-xr-x   - itv002461 supergroup          0 2022-05-25 10:29 /user/itv002461/retail_db/categories\n",
      "-rw-r--r--   3 itv002461 supergroup       1029 2022-05-25 10:29 /user/itv002461/retail_db/categories/part-00000\n",
      "drwxr-xr-x   - itv002461 supergroup          0 2022-05-25 10:29 /user/itv002461/retail_db/customers\n",
      "-rw-r--r--   3 itv002461 supergroup     953719 2022-05-25 10:29 /user/itv002461/retail_db/customers/part-00000\n",
      "drwxr-xr-x   - itv002461 supergroup          0 2022-05-25 10:29 /user/itv002461/retail_db/departments\n",
      "-rw-r--r--   3 itv002461 supergroup         60 2022-05-25 10:29 /user/itv002461/retail_db/departments/part-00000\n",
      "drwxr-xr-x   - itv002461 supergroup          0 2022-05-25 10:29 /user/itv002461/retail_db/order_items\n",
      "-rw-r--r--   3 itv002461 supergroup    5408880 2022-05-25 10:29 /user/itv002461/retail_db/order_items/part-00000\n",
      "drwxr-xr-x   - itv002461 supergroup          0 2022-05-25 10:29 /user/itv002461/retail_db/orders\n",
      "-rw-r--r--   3 itv002461 supergroup    2999944 2022-05-25 10:29 /user/itv002461/retail_db/orders/part-00000\n",
      "drwxr-xr-x   - itv002461 supergroup          0 2022-05-25 10:29 /user/itv002461/retail_db/products\n",
      "-rw-r--r--   3 itv002461 supergroup     174155 2022-05-25 10:29 /user/itv002461/retail_db/products/part-00000\n",
      "-rw-r--r--   3 itv002461 supergroup       4965 2022-05-25 10:29 /user/itv002461/retail_db/wordcount.rtf\n"
     ]
    }
   ],
   "source": [
    "%%sh\n",
    "\n",
    "hdfs dfs -ls -R /user/${USER}/retail_db"
   ]
  },
  {
   "cell_type": "markdown",
   "metadata": {},
   "source": [
    "* We can also use patterns while using `cp` command to copy files within HDFS. Also, we can pass multiple files or folders in HDFS to `cp` command."
   ]
  },
  {
   "cell_type": "code",
   "execution_count": 11,
   "metadata": {},
   "outputs": [
    {
     "name": "stdout",
     "output_type": "stream",
     "text": [
      "Deleted /user/itv002461/retail_db\n"
     ]
    }
   ],
   "source": [
    "%%sh\n",
    "\n",
    "hdfs dfs -rm -R -skipTrash /user/${USER}/retail_db"
   ]
  },
  {
   "cell_type": "code",
   "execution_count": 12,
   "metadata": {},
   "outputs": [
    {
     "name": "stdout",
     "output_type": "stream",
     "text": [
      "Found 3 items\n",
      "drwx------   - itv002461 supergroup          0 2022-05-25 04:05 /user/itv002461/.Trash\n",
      "drwxr-xr-x   - itv002461 supergroup          0 2022-05-25 05:30 /user/itv002461/.sparkStaging\n",
      "drwxr-xr-x   - itv002461 supergroup          0 2022-05-25 04:11 /user/itv002461/warehouse\n"
     ]
    }
   ],
   "source": [
    "%%sh\n",
    "\n",
    "hdfs dfs -ls /user/${USER}"
   ]
  },
  {
   "cell_type": "code",
   "execution_count": 13,
   "metadata": {},
   "outputs": [],
   "source": [
    "%%sh\n",
    "\n",
    "hdfs dfs -mkdir /user/${USER}/retail_db"
   ]
  },
  {
   "cell_type": "code",
   "execution_count": 14,
   "metadata": {},
   "outputs": [],
   "source": [
    "%%sh\n",
    "\n",
    "hdfs dfs -cp /public/retail_db/order* /user/${USER}/retail_db"
   ]
  },
  {
   "cell_type": "code",
   "execution_count": 15,
   "metadata": {},
   "outputs": [
    {
     "name": "stdout",
     "output_type": "stream",
     "text": [
      "Found 2 items\n",
      "drwxr-xr-x   - itv002461 supergroup          0 2022-05-25 10:30 /user/itv002461/retail_db/order_items\n",
      "drwxr-xr-x   - itv002461 supergroup          0 2022-05-25 10:30 /user/itv002461/retail_db/orders\n"
     ]
    }
   ],
   "source": [
    "%%sh\n",
    "\n",
    "hdfs dfs -ls /user/${USER}/retail_db"
   ]
  },
  {
   "cell_type": "code",
   "execution_count": 16,
   "metadata": {},
   "outputs": [],
   "source": [
    "%%sh\n",
    "\n",
    "hdfs dfs -cp /public/retail_db/departments /public/retail_db/products /user/${USER}/retail_db"
   ]
  },
  {
   "cell_type": "code",
   "execution_count": 17,
   "metadata": {},
   "outputs": [
    {
     "name": "stdout",
     "output_type": "stream",
     "text": [
      "Found 4 items\n",
      "drwxr-xr-x   - itv002461 supergroup          0 2022-05-25 10:30 /user/itv002461/retail_db/departments\n",
      "drwxr-xr-x   - itv002461 supergroup          0 2022-05-25 10:30 /user/itv002461/retail_db/order_items\n",
      "drwxr-xr-x   - itv002461 supergroup          0 2022-05-25 10:30 /user/itv002461/retail_db/orders\n",
      "drwxr-xr-x   - itv002461 supergroup          0 2022-05-25 10:30 /user/itv002461/retail_db/products\n"
     ]
    }
   ],
   "source": [
    "%%sh\n",
    "\n",
    "hdfs dfs -ls /user/${USER}/retail_db"
   ]
  },
  {
   "cell_type": "code",
   "execution_count": 18,
   "metadata": {},
   "outputs": [],
   "source": [
    "%%sh\n",
    "\n",
    "hdfs dfs -cp /public/retail_db/categories /public/retail_db/customers /user/${USER}/retail_db"
   ]
  },
  {
   "cell_type": "code",
   "execution_count": 19,
   "metadata": {},
   "outputs": [
    {
     "name": "stdout",
     "output_type": "stream",
     "text": [
      "Found 6 items\n",
      "drwxr-xr-x   - itv002461 supergroup          0 2022-05-25 10:30 /user/itv002461/retail_db/categories\n",
      "drwxr-xr-x   - itv002461 supergroup          0 2022-05-25 10:30 /user/itv002461/retail_db/customers\n",
      "drwxr-xr-x   - itv002461 supergroup          0 2022-05-25 10:30 /user/itv002461/retail_db/departments\n",
      "drwxr-xr-x   - itv002461 supergroup          0 2022-05-25 10:30 /user/itv002461/retail_db/order_items\n",
      "drwxr-xr-x   - itv002461 supergroup          0 2022-05-25 10:30 /user/itv002461/retail_db/orders\n",
      "drwxr-xr-x   - itv002461 supergroup          0 2022-05-25 10:30 /user/itv002461/retail_db/products\n"
     ]
    }
   ],
   "source": [
    "%%sh\n",
    "\n",
    "hdfs dfs -ls /user/${USER}/retail_db"
   ]
  },
  {
   "cell_type": "code",
   "execution_count": null,
   "metadata": {},
   "outputs": [],
   "source": []
  }
 ],
 "metadata": {
  "kernelspec": {
   "display_name": "Python 3",
   "language": "python",
   "name": "python3"
  },
  "language_info": {
   "codemirror_mode": {
    "name": "ipython",
    "version": 3
   },
   "file_extension": ".py",
   "mimetype": "text/x-python",
   "name": "python",
   "nbconvert_exporter": "python",
   "pygments_lexer": "ipython3",
   "version": "3.6.12"
  }
 },
 "nbformat": 4,
 "nbformat_minor": 4
}
