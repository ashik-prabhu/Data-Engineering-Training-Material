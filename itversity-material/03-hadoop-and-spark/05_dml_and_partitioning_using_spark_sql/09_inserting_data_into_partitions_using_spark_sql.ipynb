{
 "cells": [
  {
   "cell_type": "markdown",
   "metadata": {},
   "source": [
    "## Inserting Data into Partitions\n",
    "\n",
    "Let us understand how to use insert to get data into static partitions in Spark Metastore from existing table called as orders."
   ]
  },
  {
   "cell_type": "markdown",
   "metadata": {},
   "source": [
    "Let us start spark context for this Notebook so that we can execute the code provided. You can sign up for our [10 node state of the art cluster/labs](https://labs.itversity.com/plans) to learn Spark SQL using our unique integrated LMS."
   ]
  },
  {
   "cell_type": "code",
   "execution_count": 1,
   "metadata": {},
   "outputs": [
    {
     "data": {
      "text/plain": [
       "username = itv002461\n"
      ]
     },
     "metadata": {},
     "output_type": "display_data",
     "source": "user"
    },
    {
     "data": {
      "text/plain": [
       "itv002461"
      ]
     },
     "execution_count": 1,
     "metadata": {},
     "output_type": "execute_result"
    }
   ],
   "source": [
    "val username = System.getProperty(\"user.name\")"
   ]
  },
  {
   "cell_type": "code",
   "execution_count": 2,
   "metadata": {},
   "outputs": [
    {
     "data": {
      "text/plain": [
       "username = itv002461\n",
       "spark = org.apache.spark.sql.SparkSession@6ce8365c\n"
      ]
     },
     "metadata": {},
     "output_type": "display_data",
     "source": "user"
    },
    {
     "data": {
      "text/plain": [
       "org.apache.spark.sql.SparkSession@6ce8365c"
      ]
     },
     "execution_count": 2,
     "metadata": {},
     "output_type": "execute_result"
    }
   ],
   "source": [
    "import org.apache.spark.sql.SparkSession\n",
    "\n",
    "val username = System.getProperty(\"user.name\")\n",
    "val spark = SparkSession.\n",
    "    builder.\n",
    "    config(\"spark.ui.port\", \"0\").\n",
    "    config(\"spark.sql.warehouse.dir\", s\"/user/${username}/warehouse\").\n",
    "    enableHiveSupport.\n",
    "    appName(s\"${username} | Spark SQL - Managing Tables - DML and Partitioning\").\n",
    "    master(\"yarn\").\n",
    "    getOrCreate"
   ]
  },
  {
   "cell_type": "markdown",
   "metadata": {},
   "source": [
    "If you are going to use CLIs, you can use Spark SQL using one of the 3 approaches.\n",
    "\n",
    "**Using Spark SQL**\n",
    "\n",
    "```\n",
    "spark2-sql \\\n",
    "    --master yarn \\\n",
    "    --conf spark.ui.port=0 \\\n",
    "    --conf spark.sql.warehouse.dir=/user/${USER}/warehouse\n",
    "```\n",
    "\n",
    "**Using Scala**\n",
    "\n",
    "```\n",
    "spark2-shell \\\n",
    "    --master yarn \\\n",
    "    --conf spark.ui.port=0 \\\n",
    "    --conf spark.sql.warehouse.dir=/user/${USER}/warehouse\n",
    "```\n",
    "\n",
    "**Using Pyspark**\n",
    "\n",
    "```\n",
    "pyspark2 \\\n",
    "    --master yarn \\\n",
    "    --conf spark.ui.port=0 \\\n",
    "    --conf spark.sql.warehouse.dir=/user/${USER}/warehouse\n",
    "```"
   ]
  },
  {
   "cell_type": "markdown",
   "metadata": {},
   "source": [
    "* Let us recap what is covered so far related to partitioned tables.\n",
    "  * We have created a table called as orders_part with order_month of type INT as partitioned column.\n",
    "  * We have added 4 static partitions for 201307, 201308, 201309 and 201310 using ALTER TABLE command.\n",
    "  * Once the table is created and partitions are added we have pre-processed the data to get data into the partitions using LOAD command.\n",
    "* It is not practical to use LOAD command always. We typically use `INSERT` via stage table to copy data into partitioned table.\n",
    "* We can pre-create partitions in partitioned tables and insert data into partitions using appropriate `INSERT `command. One need to ensure that required filter condition is applied to get the data relevant to the partition that is being populated.\n",
    "* We can also create partitions dynamically which we will see as part of the next topic."
   ]
  },
  {
   "cell_type": "code",
   "execution_count": 3,
   "metadata": {},
   "outputs": [
    {
     "data": {
      "text/plain": [
       "Waiting for a Spark session to start..."
      ]
     },
     "metadata": {},
     "output_type": "display_data",
     "source": "user"
    },
    {
     "data": {
      "text/plain": [
       "++\n",
       "||\n",
       "++\n",
       "++\n",
       "\n"
      ]
     },
     "execution_count": 3,
     "metadata": {},
     "output_type": "execute_result"
    }
   ],
   "source": [
    "%%sql\n",
    "\n",
    "USE itv002461_retail"
   ]
  },
  {
   "cell_type": "code",
   "execution_count": 4,
   "metadata": {},
   "outputs": [
    {
     "data": {
      "text/plain": [
       "++\n",
       "||\n",
       "++\n",
       "++\n",
       "\n"
      ]
     },
     "execution_count": 4,
     "metadata": {},
     "output_type": "execute_result"
    }
   ],
   "source": [
    "%%sql\n",
    "\n",
    "ALTER TABLE orders_part ADD PARTITION (order_month=201311)"
   ]
  },
  {
   "cell_type": "code",
   "execution_count": 5,
   "metadata": {},
   "outputs": [
    {
     "data": {
      "text/plain": [
       "+--------+\n",
       "|count(1)|\n",
       "+--------+\n",
       "|   18389|\n",
       "+--------+\n",
       "\n"
      ]
     },
     "execution_count": 5,
     "metadata": {},
     "output_type": "execute_result"
    }
   ],
   "source": [
    "%%sql\n",
    "\n",
    "SELECT count(1) FROM orders_part"
   ]
  },
  {
   "cell_type": "code",
   "execution_count": 6,
   "metadata": {},
   "outputs": [
    {
     "data": {
      "text/plain": [
       "++\n",
       "||\n",
       "++\n",
       "++\n",
       "\n"
      ]
     },
     "execution_count": 6,
     "metadata": {},
     "output_type": "execute_result"
    }
   ],
   "source": [
    "%%sql\n",
    "\n",
    "INSERT INTO TABLE orders_part PARTITION (order_month=201311)\n",
    "  SELECT * FROM orders WHERE order_date LIKE '2013-11%'"
   ]
  },
  {
   "cell_type": "code",
   "execution_count": 7,
   "metadata": {},
   "outputs": [
    {
     "data": {
      "text/plain": [
       "+--------+\n",
       "|count(1)|\n",
       "+--------+\n",
       "|   24770|\n",
       "+--------+\n",
       "\n"
      ]
     },
     "execution_count": 7,
     "metadata": {},
     "output_type": "execute_result"
    }
   ],
   "source": [
    "%%sql\n",
    "\n",
    "SELECT count(1) FROM orders_part"
   ]
  },
  {
   "cell_type": "code",
   "execution_count": 8,
   "metadata": {},
   "outputs": [
    {
     "name": "stdout",
     "output_type": "stream",
     "text": [
      "drwxr-xr-x   - itv002461 supergroup          0 2022-05-30 01:13 /user/itv002461/warehouse/itv002461_retail.db/orders_part/order_month=201307\n",
      "-rwxr-xr-x   3 itv002461 supergroup      64737 2022-05-30 01:13 /user/itv002461/warehouse/itv002461_retail.db/orders_part/order_month=201307/orders_201307\n",
      "drwxr-xr-x   - itv002461 supergroup          0 2022-05-30 01:20 /user/itv002461/warehouse/itv002461_retail.db/orders_part/order_month=201308\n",
      "-rwxr-xr-x   3 itv002461 supergroup     243190 2022-05-30 01:20 /user/itv002461/warehouse/itv002461_retail.db/orders_part/order_month=201308/orders_201308\n",
      "drwxr-xr-x   - itv002461 supergroup          0 2022-05-30 01:20 /user/itv002461/warehouse/itv002461_retail.db/orders_part/order_month=201309\n",
      "-rwxr-xr-x   3 itv002461 supergroup     251262 2022-05-30 01:20 /user/itv002461/warehouse/itv002461_retail.db/orders_part/order_month=201309/orders_201309\n",
      "drwxr-xr-x   - itv002461 supergroup          0 2022-05-30 01:20 /user/itv002461/warehouse/itv002461_retail.db/orders_part/order_month=201310\n",
      "-rwxr-xr-x   3 itv002461 supergroup     233173 2022-05-30 01:20 /user/itv002461/warehouse/itv002461_retail.db/orders_part/order_month=201310/orders_201310\n",
      "drwxr-xr-x   - itv002461 supergroup          0 2022-05-30 01:29 /user/itv002461/warehouse/itv002461_retail.db/orders_part/order_month=201311\n",
      "-rwxr-xr-x   3 itv002461 supergroup     237275 2022-05-30 01:29 /user/itv002461/warehouse/itv002461_retail.db/orders_part/order_month=201311/part-00000-861ba86c-9b81-4fc2-874d-ccfa54943d14-c000\n",
      "-rwxr-xr-x   3 itv002461 supergroup      41746 2022-05-30 01:29 /user/itv002461/warehouse/itv002461_retail.db/orders_part/order_month=201311/part-00001-861ba86c-9b81-4fc2-874d-ccfa54943d14-c000\n"
     ]
    },
    {
     "data": {
      "text/plain": [
       "warning: there was one feature warning; re-run with -feature for details\n"
      ]
     },
     "metadata": {},
     "output_type": "display_data",
     "source": "user"
    },
    {
     "data": {
      "text/plain": [
       "0"
      ]
     },
     "execution_count": 8,
     "metadata": {},
     "output_type": "execute_result"
    }
   ],
   "source": [
    "import sys.process._\n",
    "\n",
    "s\"hdfs dfs -ls -R /user/${username}/warehouse/${username}_retail.db/orders_part\" !"
   ]
  },
  {
   "cell_type": "code",
   "execution_count": null,
   "metadata": {},
   "outputs": [],
   "source": []
  }
 ],
 "metadata": {
  "kernelspec": {
   "display_name": "Spark 2 - Scala",
   "language": "scala",
   "name": "spark_2_scala"
  },
  "language_info": {
   "codemirror_mode": "text/x-scala",
   "file_extension": ".scala",
   "mimetype": "text/x-scala",
   "name": "scala",
   "pygments_lexer": "scala",
   "version": "2.11.12"
  }
 },
 "nbformat": 4,
 "nbformat_minor": 4
}
