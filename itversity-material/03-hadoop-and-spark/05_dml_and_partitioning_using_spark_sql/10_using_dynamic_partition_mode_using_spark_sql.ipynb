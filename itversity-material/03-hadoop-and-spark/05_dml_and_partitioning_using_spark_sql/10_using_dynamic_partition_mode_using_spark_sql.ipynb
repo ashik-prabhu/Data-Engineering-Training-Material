{
 "cells": [
  {
   "cell_type": "markdown",
   "metadata": {},
   "source": [
    "## Using Dynamic Partition Mode\n",
    "\n",
    "Let us understand how we can insert data into partitioned table using dynamic partition mode."
   ]
  },
  {
   "cell_type": "markdown",
   "metadata": {},
   "source": [
    "Let us start spark context for this Notebook so that we can execute the code provided. You can sign up for our [10 node state of the art cluster/labs](https://labs.itversity.com/plans) to learn Spark SQL using our unique integrated LMS."
   ]
  },
  {
   "cell_type": "code",
   "execution_count": 1,
   "metadata": {},
   "outputs": [
    {
     "data": {
      "text/plain": [
       "username = itv002461\n"
      ]
     },
     "metadata": {},
     "output_type": "display_data",
     "source": "user"
    },
    {
     "data": {
      "text/plain": [
       "itv002461"
      ]
     },
     "execution_count": 1,
     "metadata": {},
     "output_type": "execute_result"
    }
   ],
   "source": [
    "val username = System.getProperty(\"user.name\")"
   ]
  },
  {
   "cell_type": "code",
   "execution_count": 2,
   "metadata": {},
   "outputs": [
    {
     "data": {
      "text/plain": [
       "username = itv002461\n",
       "spark = org.apache.spark.sql.SparkSession@1892f805\n"
      ]
     },
     "metadata": {},
     "output_type": "display_data",
     "source": "user"
    },
    {
     "data": {
      "text/plain": [
       "org.apache.spark.sql.SparkSession@1892f805"
      ]
     },
     "execution_count": 2,
     "metadata": {},
     "output_type": "execute_result"
    }
   ],
   "source": [
    "import org.apache.spark.sql.SparkSession\n",
    "\n",
    "val username = System.getProperty(\"user.name\")\n",
    "val spark = SparkSession.\n",
    "    builder.\n",
    "    config(\"spark.ui.port\", \"0\").\n",
    "    config(\"spark.sql.warehouse.dir\", s\"/user/${username}/warehouse\").\n",
    "    enableHiveSupport.\n",
    "    appName(s\"${username} | Spark SQL - Managing Tables - DML and Partitioning\").\n",
    "    master(\"yarn\").\n",
    "    getOrCreate"
   ]
  },
  {
   "cell_type": "markdown",
   "metadata": {},
   "source": [
    "If you are going to use CLIs, you can use Spark SQL using one of the 3 approaches.\n",
    "\n",
    "**Using Spark SQL**\n",
    "\n",
    "```\n",
    "spark2-sql \\\n",
    "    --master yarn \\\n",
    "    --conf spark.ui.port=0 \\\n",
    "    --conf spark.sql.warehouse.dir=/user/${USER}/warehouse\n",
    "```\n",
    "\n",
    "**Using Scala**\n",
    "\n",
    "```\n",
    "spark2-shell \\\n",
    "    --master yarn \\\n",
    "    --conf spark.ui.port=0 \\\n",
    "    --conf spark.sql.warehouse.dir=/user/${USER}/warehouse\n",
    "```\n",
    "\n",
    "**Using Pyspark**\n",
    "\n",
    "```\n",
    "pyspark2 \\\n",
    "    --master yarn \\\n",
    "    --conf spark.ui.port=0 \\\n",
    "    --conf spark.sql.warehouse.dir=/user/${USER}/warehouse\n",
    "```"
   ]
  },
  {
   "cell_type": "markdown",
   "metadata": {},
   "source": [
    "* Using dynamic partition mode we need not pre create the partitions. Partitions will be automatically created when we issue INSERT command in dynamic partition mode.\n",
    "* To insert data using dynamic partition mode, we need to set the property `hive.exec.dynamic.partition` to **true**\n",
    "* Also we need to set `hive.exec.dynamic.partition.mode` to **nonstrict**\n",
    "\n",
    "Here is the example of inserting data into partitions using dynamic partition mode."
   ]
  },
  {
   "cell_type": "code",
   "execution_count": 3,
   "metadata": {},
   "outputs": [
    {
     "data": {
      "text/plain": [
       "Waiting for a Spark session to start..."
      ]
     },
     "metadata": {},
     "output_type": "display_data",
     "source": "user"
    },
    {
     "data": {
      "text/plain": [
       "++\n",
       "||\n",
       "++\n",
       "++\n",
       "\n"
      ]
     },
     "execution_count": 3,
     "metadata": {},
     "output_type": "execute_result"
    }
   ],
   "source": [
    "%%sql\n",
    "\n",
    "USE itv002461_retail"
   ]
  },
  {
   "cell_type": "code",
   "execution_count": 4,
   "metadata": {},
   "outputs": [
    {
     "data": {
      "text/plain": [
       "+----------------+-----------------+-----------+\n",
       "|        database|        tableName|isTemporary|\n",
       "+----------------+-----------------+-----------+\n",
       "|itv002461_retail|       categories|      false|\n",
       "|itv002461_retail|        customers|      false|\n",
       "|itv002461_retail|      departments|      false|\n",
       "|itv002461_retail|      order_items|      false|\n",
       "|itv002461_retail|order_items_stage|      false|\n",
       "|itv002461_retail|           orders|      false|\n",
       "|itv002461_retail|      orders_part|      false|\n",
       "|itv002461_retail|         products|      false|\n",
       "+----------------+-----------------+-----------+\n",
       "\n"
      ]
     },
     "execution_count": 4,
     "metadata": {},
     "output_type": "execute_result"
    }
   ],
   "source": [
    "%%sql\n",
    "\n",
    "SHOW tables"
   ]
  },
  {
   "cell_type": "code",
   "execution_count": 5,
   "metadata": {},
   "outputs": [
    {
     "data": {
      "text/plain": [
       "+--------+\n",
       "|count(1)|\n",
       "+--------+\n",
       "|   68883|\n",
       "+--------+\n",
       "\n"
      ]
     },
     "execution_count": 5,
     "metadata": {},
     "output_type": "execute_result"
    }
   ],
   "source": [
    "%%sql\n",
    "\n",
    "SELECT count(1) FROM orders"
   ]
  },
  {
   "cell_type": "code",
   "execution_count": 6,
   "metadata": {},
   "outputs": [
    {
     "data": {
      "text/plain": [
       "+--------+\n",
       "|count(1)|\n",
       "+--------+\n",
       "|   24770|\n",
       "+--------+\n",
       "\n"
      ]
     },
     "execution_count": 6,
     "metadata": {},
     "output_type": "execute_result"
    }
   ],
   "source": [
    "%%sql\n",
    "\n",
    "SELECT count(1) FROM orders_part"
   ]
  },
  {
   "cell_type": "code",
   "execution_count": 7,
   "metadata": {},
   "outputs": [
    {
     "data": {
      "text/plain": [
       "+--------------------+-----------+\n",
       "|                 key|      value|\n",
       "+--------------------+-----------+\n",
       "|hive.exec.dynamic...|<undefined>|\n",
       "+--------------------+-----------+\n",
       "\n"
      ]
     },
     "execution_count": 7,
     "metadata": {},
     "output_type": "execute_result"
    }
   ],
   "source": [
    "%%sql\n",
    "\n",
    "SET hive.exec.dynamic.partition"
   ]
  },
  {
   "cell_type": "code",
   "execution_count": 8,
   "metadata": {},
   "outputs": [
    {
     "data": {
      "text/plain": [
       "+--------------------+-----------+\n",
       "|                 key|      value|\n",
       "+--------------------+-----------+\n",
       "|hive.exec.dynamic...|<undefined>|\n",
       "+--------------------+-----------+\n",
       "\n"
      ]
     },
     "execution_count": 8,
     "metadata": {},
     "output_type": "execute_result"
    }
   ],
   "source": [
    "%%sql\n",
    "\n",
    "SET hive.exec.dynamic.partition.mode"
   ]
  },
  {
   "cell_type": "code",
   "execution_count": 9,
   "metadata": {},
   "outputs": [
    {
     "data": {
      "text/plain": [
       "+--------------------+-----+\n",
       "|                 key|value|\n",
       "+--------------------+-----+\n",
       "|hive.exec.dynamic...| true|\n",
       "+--------------------+-----+\n",
       "\n"
      ]
     },
     "execution_count": 9,
     "metadata": {},
     "output_type": "execute_result"
    }
   ],
   "source": [
    "%%sql\n",
    "\n",
    "SET hive.exec.dynamic.partition=true"
   ]
  },
  {
   "cell_type": "code",
   "execution_count": 10,
   "metadata": {},
   "outputs": [
    {
     "data": {
      "text/plain": [
       "+--------------------+---------+\n",
       "|                 key|    value|\n",
       "+--------------------+---------+\n",
       "|hive.exec.dynamic...|nonstrict|\n",
       "+--------------------+---------+\n",
       "\n"
      ]
     },
     "execution_count": 10,
     "metadata": {},
     "output_type": "execute_result"
    }
   ],
   "source": [
    "%%sql\n",
    "\n",
    "SET hive.exec.dynamic.partition.mode=nonstrict"
   ]
  },
  {
   "cell_type": "code",
   "execution_count": 11,
   "metadata": {},
   "outputs": [
    {
     "data": {
      "text/plain": [
       "++\n",
       "||\n",
       "++\n",
       "++\n",
       "\n"
      ]
     },
     "execution_count": 11,
     "metadata": {},
     "output_type": "execute_result"
    }
   ],
   "source": [
    "%%sql\n",
    "\n",
    "INSERT INTO TABLE orders_part PARTITION (order_month)\n",
    "SELECT o.*, date_format(order_date, 'yyyyMM') order_month\n",
    "FROM orders o\n",
    "WHERE order_date >= '2013-12-01 00:00:00.0'"
   ]
  },
  {
   "cell_type": "code",
   "execution_count": 12,
   "metadata": {},
   "outputs": [
    {
     "name": "stdout",
     "output_type": "stream",
     "text": [
      "\n",
      "-rwxr-xr-x   3 itv002461 supergroup      64737 2022-05-30 01:13 /user/itv002461/warehouse/itv002461_retail.db/orders_part/order_month=201307/orders_201307\n",
      "drwxr-xr-x   - itv002461 supergroup          0 2022-05-30 01:20 /user/itv002461/warehouse/itv002461_retail.db/orders_part/order_month=201308\n",
      "-rwxr-xr-x   3 itv002461 supergroup     243190 2022-05-30 01:20 /user/itv002461/warehouse/itv002461_retail.db/orders_part/order_month=201308/orders_201308\n",
      "drwxr-xr-x   - itv002461 supergroup          0 2022-05-30 01:20 /user/itv002461/warehouse/itv002461_retail.db/orders_part/order_month=201309\n",
      "-rwxr-xr-x   3 itv002461 supergroup     251262 2022-05-30 01:20 /user/itv002461/warehouse/itv002461_retail.db/orders_part/order_month=201309/orders_201309\n",
      "drwxr-xr-x   - itv002461 supergroup          0 2022-05-30 01:20 /user/itv002461/warehouse/itv002461_retail.db/orders_part/order_month=201310\n",
      "-rwxr-xr-x   3 itv002461 supergroup     233173 2022-05-30 01:20 /user/itv002461/warehouse/itv002461_retail.db/orders_part/order_month=201310/orders_201310\n",
      "drwxr-xr-x   - itv002461 supergroup          0 2022-05-30 01:29 /user/itv002461/warehouse/itv002461_retail.db/orders_part/order_month=201311\n",
      "-rwxr-xr-x   3 itv002461 supergroup     237275 2022-05-30 01:29 /user/itv002461/warehouse/itv002461_retail.db/orders_part/order_month=201311/part-00000-861ba86c-9b81-4fc2-874d-ccfa54943d14-c000\n",
      "-rwxr-xr-x   3 itv002461 supergroup      41746 2022-05-30 01:29 /user/itv002461/warehouse/itv002461_retail.db/orders_part/order_month=201311/part-00001-861ba86c-9b81-4fc2-874d-ccfa54943d14-c000\n",
      "drwxr-xr-x   - itv002461 supergroup          0 2022-05-30 07:39 /user/itv002461/warehouse/itv002461_retail.db/orders_part/order_month=201312\n",
      "-rwxr-xr-x   3 itv002461 supergroup     217002 2022-05-30 07:39 /user/itv002461/warehouse/itv002461_retail.db/orders_part/order_month=201312/part-00000-5e97e6f9-f82d-44d4-9539-9a5f45bae264.c000\n",
      "-rwxr-xr-x   3 itv002461 supergroup      40788 2022-05-30 07:39 /user/itv002461/warehouse/itv002461_retail.db/orders_part/order_month=201312/part-00001-5e97e6f9-f82d-44d4-9539-9a5f45bae264.c000\n",
      "drwxr-xr-x   - itv002461 supergroup          0 2022-05-30 07:39 /user/itv002461/warehouse/itv002461_retail.db/orders_part/order_month=201401\n",
      "-rwxr-xr-x   3 itv002461 supergroup     214357 2022-05-30 07:39 /user/itv002461/warehouse/itv002461_retail.db/orders_part/order_month=201401/part-00000-5e97e6f9-f82d-44d4-9539-9a5f45bae264.c000\n",
      "-rwxr-xr-x   3 itv002461 supergroup      44232 2022-05-30 07:39 /user/itv002461/warehouse/itv002461_retail.db/orders_part/order_month=201401/part-00001-5e97e6f9-f82d-44d4-9539-9a5f45bae264.c000\n",
      "drwxr-xr-x   - itv002461 supergroup          0 2022-05-30 07:39 /user/itv002461/warehouse/itv002461_retail.db/orders_part/order_month=201402\n",
      "-rwxr-xr-x   3 itv002461 supergroup     165558 2022-05-30 07:39 /user/itv002461/warehouse/itv002461_retail.db/orders_part/order_month=201402/part-00000-5e97e6f9-f82d-44d4-9539-9a5f45bae264.c000\n",
      "-rwxr-xr-x   3 itv002461 supergroup      80574 2022-05-30 07:39 /user/itv002461/warehouse/itv002461_retail.db/orders_part/order_month=201402/part-00001-5e97e6f9-f82d-44d4-9539-9a5f45bae264.c000\n",
      "drwxr-xr-x   - itv002461 supergroup          0 2022-05-30 07:39 /user/itv002461/warehouse/itv002461_retail.db/orders_part/order_month=201403\n",
      "-rwxr-xr-x   3 itv002461 supergroup     252602 2022-05-30 07:39 /user/itv002461/warehouse/itv002461_retail.db/orders_part/order_month=201403/part-00001-5e97e6f9-f82d-44d4-9539-9a5f45bae264.c000\n",
      "drwxr-xr-x   - itv002461 supergroup          0 2022-05-30 07:39 /user/itv002461/warehouse/itv002461_retail.db/orders_part/order_month=201404\n",
      "-rwxr-xr-x   3 itv002461 supergroup     247346 2022-05-30 07:39 /user/itv002461/warehouse/itv002461_retail.db/orders_part/order_month=201404/part-00001-5e97e6f9-f82d-44d4-9539-9a5f45bae264.c000\n",
      "drwxr-xr-x   - itv002461 supergroup          0 2022-05-30 07:39 /user/itv002461/warehouse/itv002461_retail.db/orders_part/order_month=201405\n",
      "-rwxr-xr-x   3 itv002461 supergroup     238805 2022-05-30 07:39 /user/itv002461/warehouse/itv002461_retail.db/orders_part/order_month=201405/part-00001-5e97e6f9-f82d-44d4-9539-9a5f45bae264.c000\n",
      "drwxr-xr-x   - itv002461 supergroup          0 2022-05-30 07:39 /user/itv002461/warehouse/itv002461_retail.db/orders_part/order_month=201406\n",
      "-rwxr-xr-x   3 itv002461 supergroup     231901 2022-05-30 07:39 /user/itv002461/warehouse/itv002461_retail.db/orders_part/order_month=201406/part-00001-5e97e6f9-f82d-44d4-9539-9a5f45bae264.c000\n",
      "drwxr-xr-x   - itv002461 supergroup          0 2022-05-30 07:39 /user/itv002461/warehouse/itv002461_retail.db/orders_part/order_month=201407\n",
      "-rwxr-xr-x   3 itv002461 supergroup     195396 2022-05-30 07:39 /user/itv002461/warehouse/itv002461_retail.db/orders_part/order_month=201407/part-00001-5e97e6f9-f82d-44d4-9539-9a5f45bae264.c000\n",
      "drwxr-xr-x   - itv002461 supergroup          0 2022-05-30 01:13 /user/itv002461/warehouse/itv002461_retail.db/orders_part/order_month=201307"
     ]
    },
    {
     "data": {
      "text/plain": [
       "warning: there was one feature warning; re-run with -feature for details\n"
      ]
     },
     "metadata": {},
     "output_type": "display_data",
     "source": "user"
    },
    {
     "data": {
      "text/plain": [
       "0"
      ]
     },
     "execution_count": 12,
     "metadata": {},
     "output_type": "execute_result"
    }
   ],
   "source": [
    "import sys.process._\n",
    "\n",
    "s\"hdfs dfs -ls -R /user/${username}/warehouse/${username}_retail.db/orders_part\" !"
   ]
  },
  {
   "cell_type": "code",
   "execution_count": 13,
   "metadata": {},
   "outputs": [
    {
     "data": {
      "text/plain": [
       "+--------+\n",
       "|count(1)|\n",
       "+--------+\n",
       "|   68883|\n",
       "+--------+\n",
       "\n"
      ]
     },
     "execution_count": 13,
     "metadata": {},
     "output_type": "execute_result"
    }
   ],
   "source": [
    "%%sql\n",
    "\n",
    "SELECT count(1) FROM orders"
   ]
  },
  {
   "cell_type": "code",
   "execution_count": 14,
   "metadata": {},
   "outputs": [
    {
     "data": {
      "text/plain": [
       "+--------+\n",
       "|count(1)|\n",
       "+--------+\n",
       "|   68883|\n",
       "+--------+\n",
       "\n"
      ]
     },
     "execution_count": 14,
     "metadata": {},
     "output_type": "execute_result"
    }
   ],
   "source": [
    "%%sql\n",
    "\n",
    "SELECT count(1) FROM orders_part"
   ]
  },
  {
   "cell_type": "markdown",
   "metadata": {},
   "source": [
    "* You will see new partitions created starting from 201312 to 201407."
   ]
  },
  {
   "cell_type": "code",
   "execution_count": null,
   "metadata": {},
   "outputs": [],
   "source": []
  }
 ],
 "metadata": {
  "kernelspec": {
   "display_name": "Spark 2 - Scala",
   "language": "scala",
   "name": "spark_2_scala"
  },
  "language_info": {
   "codemirror_mode": "text/x-scala",
   "file_extension": ".scala",
   "mimetype": "text/x-scala",
   "name": "scala",
   "pygments_lexer": "scala",
   "version": "2.11.12"
  }
 },
 "nbformat": 4,
 "nbformat_minor": 4
}
