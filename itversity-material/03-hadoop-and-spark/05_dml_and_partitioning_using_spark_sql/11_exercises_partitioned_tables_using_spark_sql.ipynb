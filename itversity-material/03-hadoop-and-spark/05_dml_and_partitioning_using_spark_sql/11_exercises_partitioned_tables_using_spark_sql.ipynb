{
 "cells": [
  {
   "cell_type": "markdown",
   "metadata": {},
   "source": [
    "## Exercise - Partitioned Tables\n",
    "\n",
    "Let us take care of this exercise related to partitioning to self evaluate our comfort level in working with partitioned tables."
   ]
  },
  {
   "cell_type": "markdown",
   "metadata": {},
   "source": [
    "Let us start spark context for this Notebook so that we can execute the code provided. You can sign up for our [10 node state of the art cluster/labs](https://labs.itversity.com/plans) to learn Spark SQL using our unique integrated LMS."
   ]
  },
  {
   "cell_type": "code",
   "execution_count": 1,
   "metadata": {},
   "outputs": [
    {
     "data": {
      "text/plain": [
       "username = itv002461\n"
      ]
     },
     "metadata": {},
     "output_type": "display_data",
     "source": "user"
    },
    {
     "data": {
      "text/plain": [
       "itv002461"
      ]
     },
     "execution_count": 1,
     "metadata": {},
     "output_type": "execute_result"
    }
   ],
   "source": [
    "val username = System.getProperty(\"user.name\")"
   ]
  },
  {
   "cell_type": "code",
   "execution_count": 2,
   "metadata": {},
   "outputs": [
    {
     "data": {
      "text/plain": [
       "username = itv002461\n",
       "spark = org.apache.spark.sql.SparkSession@762dd5e8\n"
      ]
     },
     "metadata": {},
     "output_type": "display_data",
     "source": "user"
    },
    {
     "data": {
      "text/plain": [
       "org.apache.spark.sql.SparkSession@762dd5e8"
      ]
     },
     "execution_count": 2,
     "metadata": {},
     "output_type": "execute_result"
    }
   ],
   "source": [
    "import org.apache.spark.sql.SparkSession\n",
    "\n",
    "val username = System.getProperty(\"user.name\")\n",
    "val spark = SparkSession.\n",
    "    builder.\n",
    "    config(\"spark.ui.port\", \"0\").\n",
    "    config(\"spark.sql.warehouse.dir\", s\"/user/${username}/warehouse\").\n",
    "    enableHiveSupport.\n",
    "    appName(s\"${username} | Spark SQL - Managing Tables - DML and Partitioning\").\n",
    "    master(\"yarn\").\n",
    "    getOrCreate"
   ]
  },
  {
   "cell_type": "markdown",
   "metadata": {},
   "source": [
    "If you are going to use CLIs, you can use Spark SQL using one of the 3 approaches.\n",
    "\n",
    "**Using Spark SQL**\n",
    "\n",
    "```\n",
    "spark2-sql \\\n",
    "    --master yarn \\\n",
    "    --conf spark.ui.port=0 \\\n",
    "    --conf spark.sql.warehouse.dir=/user/${USER}/warehouse\n",
    "```\n",
    "\n",
    "**Using Scala**\n",
    "\n",
    "```\n",
    "spark2-shell \\\n",
    "    --master yarn \\\n",
    "    --conf spark.ui.port=0 \\\n",
    "    --conf spark.sql.warehouse.dir=/user/${USER}/warehouse\n",
    "```\n",
    "\n",
    "**Using Pyspark**\n",
    "\n",
    "```\n",
    "pyspark2 \\\n",
    "    --master yarn \\\n",
    "    --conf spark.ui.port=0 \\\n",
    "    --conf spark.sql.warehouse.dir=/user/${USER}/warehouse\n",
    "```"
   ]
  },
  {
   "cell_type": "markdown",
   "metadata": {},
   "source": [
    "* Duration: **30 Minutes**\n",
    "* Use data from **/data/nyse_all/nyse_data**\n",
    "* Use database **YOUR_OS_USER_NAME_nyse**\n",
    "* Create partitioned table **nyse_eod_part**\n",
    "* Field Names: stockticker, tradedate, openprice, highprice, lowprice, closeprice, volume\n",
    "* Determine correct data types based on the values\n",
    "* Create Managed table with \",\" as delimiter.\n",
    "* Partition Field should be **tradeyear** and of type **INT** (one partition for corresponding year)\n",
    "* Insert data into partitioned table using dynamic partition mode.\n",
    "* Here are the steps to come up with the solution.\n",
    "  * Review the files under **/data/nyse_all/nyse_data** - determine data types (For example: tradedate should be INT and volume should be BIGINT)\n",
    "  * Create database **YOUR_OS_USER_NAME_nyse** (if it does not exists)\n",
    "  * Create non partitioned stage table\n",
    "  * Load data into non partitioned stage table\n",
    "  * Validate the count and also see that data is as expected by running simple select query.\n",
    "  * Create partitioned table\n",
    "  * Set required properties to use dynamic partition\n",
    "  * Insert data into partitioned table - here is how you can compute year from tradedate of type int `year(to_date(cast(tradedate AS STRING), 'yyyyMMdd')) AS tradeyear`\n",
    "  * Run below validate commands to validate"
   ]
  },
  {
   "cell_type": "code",
   "execution_count": 3,
   "metadata": {},
   "outputs": [
    {
     "data": {
      "text/plain": [
       "Waiting for a Spark session to start..."
      ]
     },
     "metadata": {},
     "output_type": "display_data",
     "source": "user"
    },
    {
     "data": {
      "text/plain": [
       "++\n",
       "||\n",
       "++\n",
       "++\n",
       "\n"
      ]
     },
     "execution_count": 3,
     "metadata": {},
     "output_type": "execute_result"
    }
   ],
   "source": [
    "%%sql\n",
    "USE itv002461_nyse "
   ]
  },
  {
   "cell_type": "code",
   "execution_count": 4,
   "metadata": {},
   "outputs": [
    {
     "data": {
      "text/plain": [
       "++\n",
       "||\n",
       "++\n",
       "++\n",
       "\n"
      ]
     },
     "execution_count": 4,
     "metadata": {},
     "output_type": "execute_result"
    }
   ],
   "source": [
    "%%sql\n",
    "DROP TABLE IF EXISTS nyse_eod_part"
   ]
  },
  {
   "cell_type": "code",
   "execution_count": 9,
   "metadata": {},
   "outputs": [
    {
     "data": {
      "text/plain": [
       "++\n",
       "||\n",
       "++\n",
       "++\n",
       "\n"
      ]
     },
     "execution_count": 9,
     "metadata": {},
     "output_type": "execute_result"
    }
   ],
   "source": [
    "%%sql\n",
    "CREATE TABLE IF NOT EXISTS nyse_eod_part(\n",
    "    stockticker STRING,\n",
    "    tradedate INT,\n",
    "    openprice FLOAT,\n",
    "    highprice FLOAT,\n",
    "    lowprice FLOAT,\n",
    "    closeprice FLOAT,\n",
    "    volume BIGINT  \n",
    ")PARTITIONED BY (tradeyear INT)\n",
    "ROW FORMAT DELIMITED FIELDS TERMINATED BY ','"
   ]
  },
  {
   "cell_type": "code",
   "execution_count": 4,
   "metadata": {},
   "outputs": [
    {
     "data": {
      "text/plain": [
       "++\n",
       "||\n",
       "++\n",
       "++\n",
       "\n"
      ]
     },
     "execution_count": 4,
     "metadata": {},
     "output_type": "execute_result"
    }
   ],
   "source": [
    "%%sql\n",
    "CREATE TABLE IF NOT EXISTS nyse_eod_stage(\n",
    "    stockticker STRING,\n",
    "    tradedate INT,\n",
    "    openprice FLOAT,\n",
    "    highprice FLOAT,\n",
    "    lowprice FLOAT,\n",
    "    closeprice FLOAT,\n",
    "    volume BIGINT  \n",
    ")ROW FORMAT DELIMITED FIELDS TERMINATED BY ','"
   ]
  },
  {
   "cell_type": "code",
   "execution_count": 5,
   "metadata": {},
   "outputs": [
    {
     "data": {
      "text/plain": [
       "++\n",
       "||\n",
       "++\n",
       "++\n",
       "\n"
      ]
     },
     "execution_count": 5,
     "metadata": {},
     "output_type": "execute_result"
    }
   ],
   "source": [
    "%%sql\n",
    "LOAD DATA LOCAL INPATH '/home/itv002461/tables' OVERWRITE INTO TABLE nyse_eod_stage"
   ]
  },
  {
   "cell_type": "code",
   "execution_count": 6,
   "metadata": {},
   "outputs": [
    {
     "data": {
      "text/plain": [
       "+--------+\n",
       "|count(1)|\n",
       "+--------+\n",
       "| 9384739|\n",
       "+--------+\n",
       "\n"
      ]
     },
     "execution_count": 6,
     "metadata": {},
     "output_type": "execute_result"
    }
   ],
   "source": [
    "%%sql\n",
    "SELECT count(1) FROM nyse_eod_stage "
   ]
  },
  {
   "cell_type": "code",
   "execution_count": 8,
   "metadata": {},
   "outputs": [
    {
     "data": {
      "text/plain": [
       "+--------------------+-----+\n",
       "|                 key|value|\n",
       "+--------------------+-----+\n",
       "|hive.exec.dynamic...| true|\n",
       "+--------------------+-----+\n",
       "\n"
      ]
     },
     "execution_count": 8,
     "metadata": {},
     "output_type": "execute_result"
    }
   ],
   "source": [
    "%%sql\n",
    "\n",
    "SET hive.exec.dynamic.partition=true"
   ]
  },
  {
   "cell_type": "code",
   "execution_count": 9,
   "metadata": {},
   "outputs": [
    {
     "data": {
      "text/plain": [
       "+--------------------+---------+\n",
       "|                 key|    value|\n",
       "+--------------------+---------+\n",
       "|hive.exec.dynamic...|nonstrict|\n",
       "+--------------------+---------+\n",
       "\n"
      ]
     },
     "execution_count": 9,
     "metadata": {},
     "output_type": "execute_result"
    }
   ],
   "source": [
    "%%sql\n",
    "\n",
    "SET hive.exec.dynamic.partition.mode=nonstrict"
   ]
  },
  {
   "cell_type": "code",
   "execution_count": 10,
   "metadata": {},
   "outputs": [
    {
     "data": {
      "text/plain": [
       "++\n",
       "||\n",
       "++\n",
       "++\n",
       "\n"
      ]
     },
     "execution_count": 10,
     "metadata": {},
     "output_type": "execute_result"
    }
   ],
   "source": [
    "%%sql\n",
    "INSERT INTO TABLE nyse_eod_part PARTITION (tradeyear)\n",
    "SELECT ns.*,year(to_date(cast(tradedate AS STRING), 'yyyyMMdd')) AS tradeyear\n",
    "FROM nyse_eod_stage as ns"
   ]
  },
  {
   "cell_type": "code",
   "execution_count": 11,
   "metadata": {},
   "outputs": [
    {
     "data": {
      "text/plain": [
       "+--------+\n",
       "|count(1)|\n",
       "+--------+\n",
       "| 9384739|\n",
       "+--------+\n",
       "\n"
      ]
     },
     "execution_count": 11,
     "metadata": {},
     "output_type": "execute_result"
    }
   ],
   "source": [
    "%%sql\n",
    "SELECT COUNT(1) FROM nyse_eod_part"
   ]
  },
  {
   "cell_type": "code",
   "execution_count": 33,
   "metadata": {},
   "outputs": [
    {
     "data": {
      "text/plain": [
       "+---------+------+\n",
       "|tradeyear| count|\n",
       "+---------+------+\n",
       "|     2003|358650|\n",
       "|     2007|452691|\n",
       "|     2015|759147|\n",
       "|     2006|429757|\n",
       "|     2013|638134|\n",
       "|     1997|278396|\n",
       "|     2014|702632|\n",
       "|     2004|382896|\n",
       "|     1998|294400|\n",
       "|     2012|569725|\n",
       "+---------+------+\n",
       "only showing top 10 rows\n",
       "\n"
      ]
     },
     "execution_count": 33,
     "metadata": {},
     "output_type": "execute_result"
    }
   ],
   "source": [
    "%%sql\n",
    "select tradeyear,count(*) as count \n",
    "FROM nyse_eod_part \n",
    "group by(tradeyear)"
   ]
  },
  {
   "cell_type": "code",
   "execution_count": 30,
   "metadata": {},
   "outputs": [
    {
     "data": {
      "text/plain": [
       "+----------+\n",
       "|sum(count)|\n",
       "+----------+\n",
       "|   9384739|\n",
       "+----------+\n",
       "\n"
      ]
     },
     "execution_count": 30,
     "metadata": {},
     "output_type": "execute_result"
    }
   ],
   "source": [
    "%%sql\n",
    "select sum(q.count) \n",
    "from(\n",
    "        select count(*) as count \n",
    "        FROM nyse_eod_part \n",
    "        group by(tradeyear)\n",
    "    ) as q"
   ]
  },
  {
   "cell_type": "markdown",
   "metadata": {},
   "source": [
    "### Validation\n",
    "Here are the instructions to validate the results.\n",
    "* Run `hdfs dfs -ls /user/YOUR_OS_USER_NAME/warehouse/YOUR_OS_USER_NAME_nyse.db/nyse_eod_part`\n",
    "* Run `SHOW PARTITIONS YOUR_OS_USER_NAME_nyse.nyse_eod_part`. You should see partitions for all the years using which you have loaded the data.\n",
    "* Run `SELECT count(1) FROM YOUR_OS_USER_NAME_nyse.nyse_eod_part`. The count should match the number of records in our dataset.\n",
    "* You can compare with the output generated by this simple Python code which is validated in our labs.\n",
    "\n",
    "```\n",
    "import pandas as pd\n",
    "import glob\n",
    "\n",
    "path = r'/data/nyse_all/nyse_data' # use your path\n",
    "all_files = glob.glob(path + \"/*.txt.gz\")\n",
    "\n",
    "li = []\n",
    "\n",
    "for filename in all_files:\n",
    "    df = pd.read_csv(filename, index_col=None, header=None)\n",
    "    li.append(df)\n",
    "\n",
    "frame = pd.concat(li, axis=0, ignore_index=True)\n",
    "frame.shape\n",
    "```"
   ]
  },
  {
   "cell_type": "code",
   "execution_count": 31,
   "metadata": {},
   "outputs": [
    {
     "data": {
      "text/plain": [
       "username = itv002461\n"
      ]
     },
     "metadata": {},
     "output_type": "display_data",
     "source": "user"
    },
    {
     "data": {
      "text/plain": [
       "itv002461"
      ]
     },
     "execution_count": 31,
     "metadata": {},
     "output_type": "execute_result"
    }
   ],
   "source": [
    "import sys.process._\n",
    "val username = System.getProperty(\"user.name\")"
   ]
  },
  {
   "cell_type": "code",
   "execution_count": 34,
   "metadata": {},
   "outputs": [
    {
     "name": "stdout",
     "output_type": "stream",
     "text": [
      "Found 21 items\n",
      "drwxr-xr-x   - itv002461 supergroup          0 2022-05-30 13:45 /user/itv002461/warehouse/itv002461_nyse.db/nyse_eod_part/tradeyear=1997\n",
      "drwxr-xr-x   - itv002461 supergroup          0 2022-05-30 13:45 /user/itv002461/warehouse/itv002461_nyse.db/nyse_eod_part/tradeyear=1998\n",
      "drwxr-xr-x   - itv002461 supergroup          0 2022-05-30 13:45 /user/itv002461/warehouse/itv002461_nyse.db/nyse_eod_part/tradeyear=1999\n",
      "drwxr-xr-x   - itv002461 supergroup          0 2022-05-30 13:45 /user/itv002461/warehouse/itv002461_nyse.db/nyse_eod_part/tradeyear=2000\n",
      "drwxr-xr-x   - itv002461 supergroup          0 2022-05-30 13:45 /user/itv002461/warehouse/itv002461_nyse.db/nyse_eod_part/tradeyear=2001\n",
      "drwxr-xr-x   - itv002461 supergroup          0 2022-05-30 13:45 /user/itv002461/warehouse/itv002461_nyse.db/nyse_eod_part/tradeyear=2002\n",
      "drwxr-xr-x   - itv002461 supergroup          0 2022-05-30 13:45 /user/itv002461/warehouse/itv002461_nyse.db/nyse_eod_part/tradeyear=2003\n",
      "drwxr-xr-x   - itv002461 supergroup          0 2022-05-30 13:45 /user/itv002461/warehouse/itv002461_nyse.db/nyse_eod_part/tradeyear=2004\n",
      "drwxr-xr-x   - itv002461 supergroup          0 2022-05-30 13:45 /user/itv002461/warehouse/itv002461_nyse.db/nyse_eod_part/tradeyear=2005\n",
      "drwxr-xr-x   - itv002461 supergroup          0 2022-05-30 13:45 /user/itv002461/warehouse/itv002461_nyse.db/nyse_eod_part/tradeyear=2006\n",
      "drwxr-xr-x   - itv002461 supergroup          0 2022-05-30 13:45 /user/itv002461/warehouse/itv002461_nyse.db/nyse_eod_part/tradeyear=2007\n",
      "drwxr-xr-x   - itv002461 supergroup          0 2022-05-30 13:45 /user/itv002461/warehouse/itv002461_nyse.db/nyse_eod_part/tradeyear=2008\n",
      "drwxr-xr-x   - itv002461 supergroup          0 2022-05-30 13:45 /user/itv002461/warehouse/itv002461_nyse.db/nyse_eod_part/tradeyear=2009\n",
      "drwxr-xr-x   - itv002461 supergroup          0 2022-05-30 13:45 /user/itv002461/warehouse/itv002461_nyse.db/nyse_eod_part/tradeyear=2010\n",
      "drwxr-xr-x   - itv002461 supergroup          0 2022-05-30 13:45 /user/itv002461/warehouse/itv002461_nyse.db/nyse_eod_part/tradeyear=2011\n",
      "drwxr-xr-x   - itv002461 supergroup          0 2022-05-30 13:45 /user/itv002461/warehouse/itv002461_nyse.db/nyse_eod_part/tradeyear=2012\n",
      "drwxr-xr-x   - itv002461 supergroup          0 2022-05-30 13:45 /user/itv002461/warehouse/itv002461_nyse.db/nyse_eod_part/tradeyear=2013\n",
      "drwxr-xr-x   - itv002461 supergroup          0 2022-05-30 13:45 /user/itv002461/warehouse/itv002461_nyse.db/nyse_eod_part/tradeyear=2014\n",
      "drwxr-xr-x   - itv002461 supergroup          0 2022-05-30 13:45 /user/itv002461/warehouse/itv002461_nyse.db/nyse_eod_part/tradeyear=2015\n",
      "drwxr-xr-x   - itv002461 supergroup          0 2022-05-30 13:45 /user/itv002461/warehouse/itv002461_nyse.db/nyse_eod_part/tradeyear=2016\n",
      "drwxr-xr-x   - itv002461 supergroup          0 2022-05-30 13:45 /user/itv002461/warehouse/itv002461_nyse.db/nyse_eod_part/tradeyear=2017\n"
     ]
    },
    {
     "data": {
      "text/plain": [
       "warning: there was one feature warning; re-run with -feature for details\n"
      ]
     },
     "metadata": {},
     "output_type": "display_data",
     "source": "user"
    },
    {
     "data": {
      "text/plain": [
       "0"
      ]
     },
     "execution_count": 34,
     "metadata": {},
     "output_type": "execute_result"
    }
   ],
   "source": [
    "s\"hdfs dfs -ls /user/${username}/warehouse/${username}_nyse.db/nyse_eod_part\" !"
   ]
  },
  {
   "cell_type": "code",
   "execution_count": 36,
   "metadata": {},
   "outputs": [
    {
     "data": {
      "text/plain": [
       "lastException: Throwable = null\n"
      ]
     },
     "metadata": {},
     "output_type": "display_data",
     "source": "user"
    },
    {
     "data": {
      "text/plain": [
       "+--------------+\n",
       "|     partition|\n",
       "+--------------+\n",
       "|tradeyear=1997|\n",
       "|tradeyear=1998|\n",
       "|tradeyear=1999|\n",
       "|tradeyear=2000|\n",
       "|tradeyear=2001|\n",
       "|tradeyear=2002|\n",
       "|tradeyear=2003|\n",
       "|tradeyear=2004|\n",
       "|tradeyear=2005|\n",
       "|tradeyear=2006|\n",
       "+--------------+\n",
       "only showing top 10 rows\n",
       "\n"
      ]
     },
     "execution_count": 36,
     "metadata": {},
     "output_type": "execute_result"
    }
   ],
   "source": [
    "%%sql\n",
    "SHOW PARTITIONS itv002461_nyse.nyse_eod_part"
   ]
  },
  {
   "cell_type": "code",
   "execution_count": 38,
   "metadata": {},
   "outputs": [
    {
     "data": {
      "text/plain": [
       "+--------+\n",
       "|count(1)|\n",
       "+--------+\n",
       "| 9384739|\n",
       "+--------+\n",
       "\n"
      ]
     },
     "execution_count": 38,
     "metadata": {},
     "output_type": "execute_result"
    }
   ],
   "source": [
    "%%sql \n",
    "SELECT count(1) FROM itv002461_nyse.nyse_eod_part"
   ]
  },
  {
   "cell_type": "code",
   "execution_count": 7,
   "metadata": {},
   "outputs": [
    {
     "data": {
      "text/plain": [
       "(9384739, 7)"
      ]
     },
     "execution_count": 7,
     "metadata": {},
     "output_type": "execute_result"
    }
   ],
   "source": [
    "import pandas as pd\n",
    "import glob\n",
    "\n",
    "path = r'/data/nyse_all/nyse_data' # use your path\n",
    "all_files = glob.glob(path + \"/*.txt.gz\")\n",
    "\n",
    "li = []\n",
    "for filename in all_files:\n",
    "    df = pd.read_csv(filename, index_col=None, header=None)\n",
    "    li.append(df)\n",
    "frame = pd.concat(li, axis=0, ignore_index=True)\n",
    "frame.shape"
   ]
  },
  {
   "cell_type": "code",
   "execution_count": null,
   "metadata": {},
   "outputs": [],
   "source": []
  }
 ],
 "metadata": {
  "kernelspec": {
   "display_name": "Python 3",
   "language": "python",
   "name": "python3"
  },
  "language_info": {
   "codemirror_mode": {
    "name": "ipython",
    "version": 3
   },
   "file_extension": ".py",
   "mimetype": "text/x-python",
   "name": "python",
   "nbconvert_exporter": "python",
   "pygments_lexer": "ipython3",
   "version": "3.6.12"
  }
 },
 "nbformat": 4,
 "nbformat_minor": 4
}
