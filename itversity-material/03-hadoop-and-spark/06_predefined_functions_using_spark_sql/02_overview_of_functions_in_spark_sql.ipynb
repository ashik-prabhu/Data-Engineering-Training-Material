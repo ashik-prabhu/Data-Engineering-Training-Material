{
 "cells": [
  {
   "cell_type": "markdown",
   "metadata": {},
   "source": [
    "## Overview of Functions\n",
    "Let us get overview of pre-defined functions in Spark SQL."
   ]
  },
  {
   "cell_type": "markdown",
   "metadata": {},
   "source": [
    "Let us start spark context for this Notebook so that we can execute the code provided. You can sign up for our [10 node state of the art cluster/labs](https://labs.itversity.com/plans) to learn Spark SQL using our unique integrated LMS."
   ]
  },
  {
   "cell_type": "code",
   "execution_count": 1,
   "metadata": {},
   "outputs": [
    {
     "data": {
      "text/plain": [
       "username = itv002461\n"
      ]
     },
     "metadata": {},
     "output_type": "display_data",
     "source": "user"
    },
    {
     "data": {
      "text/plain": [
       "itv002461"
      ]
     },
     "execution_count": 1,
     "metadata": {},
     "output_type": "execute_result"
    }
   ],
   "source": [
    "val username = System.getProperty(\"user.name\")"
   ]
  },
  {
   "cell_type": "code",
   "execution_count": 2,
   "metadata": {},
   "outputs": [
    {
     "data": {
      "text/plain": [
       "username = itv002461\n",
       "spark = org.apache.spark.sql.SparkSession@74220177\n"
      ]
     },
     "metadata": {},
     "output_type": "display_data",
     "source": "user"
    },
    {
     "data": {
      "text/plain": [
       "org.apache.spark.sql.SparkSession@74220177"
      ]
     },
     "execution_count": 2,
     "metadata": {},
     "output_type": "execute_result"
    }
   ],
   "source": [
    "import org.apache.spark.sql.SparkSession\n",
    "\n",
    "val username = System.getProperty(\"user.name\")\n",
    "val spark = SparkSession.\n",
    "    builder.\n",
    "    config(\"spark.ui.port\", \"0\").\n",
    "    config(\"spark.sql.warehouse.dir\", s\"/user/${username}/warehouse\").\n",
    "    enableHiveSupport.\n",
    "    appName(s\"${username} | Spark SQL - Predefined Functions\").\n",
    "    master(\"yarn\").\n",
    "    getOrCreate"
   ]
  },
  {
   "cell_type": "markdown",
   "metadata": {},
   "source": [
    "If you are going to use CLIs, you can use Spark SQL using one of the 3 approaches.\n",
    "\n",
    "**Using Spark SQL**\n",
    "\n",
    "```\n",
    "spark2-sql \\\n",
    "    --master yarn \\\n",
    "    --conf spark.ui.port=0 \\\n",
    "    --conf spark.sql.warehouse.dir=/user/${USER}/warehouse\n",
    "```\n",
    "\n",
    "**Using Scala**\n",
    "\n",
    "```\n",
    "spark2-shell \\\n",
    "    --master yarn \\\n",
    "    --conf spark.ui.port=0 \\\n",
    "    --conf spark.sql.warehouse.dir=/user/${USER}/warehouse\n",
    "```\n",
    "\n",
    "**Using Pyspark**\n",
    "\n",
    "```\n",
    "pyspark2 \\\n",
    "    --master yarn \\\n",
    "    --conf spark.ui.port=0 \\\n",
    "    --conf spark.sql.warehouse.dir=/user/${USER}/warehouse\n",
    "```"
   ]
  },
  {
   "cell_type": "markdown",
   "metadata": {},
   "source": [
    "* We can get list of functions by running `SHOW functions`\n",
    "* We can use DESCRIBE command to get the syntax and symantecs of a function - `DESCRIBE FUNCTION substr`\n",
    "* Following are the categories of functions that are more commonly used.\n",
    "  * String Manipulation\n",
    "  * Date Manipulation\n",
    "  * Numeric Functions\n",
    "  * Type Conversion Functions\n",
    "  * CASE and WHEN\n",
    "  * and more"
   ]
  },
  {
   "cell_type": "code",
   "execution_count": 3,
   "metadata": {},
   "outputs": [
    {
     "data": {
      "text/plain": [
       "Waiting for a Spark session to start..."
      ]
     },
     "metadata": {},
     "output_type": "display_data",
     "source": "user"
    },
    {
     "data": {
      "text/plain": [
       "+--------+\n",
       "|function|\n",
       "+--------+\n",
       "|       !|\n",
       "|       %|\n",
       "|       &|\n",
       "|       *|\n",
       "|       +|\n",
       "|       -|\n",
       "|       /|\n",
       "|       <|\n",
       "|      <=|\n",
       "|     <=>|\n",
       "+--------+\n",
       "only showing top 10 rows\n",
       "\n"
      ]
     },
     "execution_count": 3,
     "metadata": {},
     "output_type": "execute_result"
    }
   ],
   "source": [
    "%%sql\n",
    "\n",
    "SHOW functions"
   ]
  },
  {
   "cell_type": "code",
   "execution_count": 4,
   "metadata": {},
   "outputs": [
    {
     "name": "stdout",
     "output_type": "stream",
     "text": [
      "+-----------------------------+\n",
      "|function                     |\n",
      "+-----------------------------+\n",
      "|!                            |\n",
      "|%                            |\n",
      "|&                            |\n",
      "|*                            |\n",
      "|+                            |\n",
      "|-                            |\n",
      "|/                            |\n",
      "|<                            |\n",
      "|<=                           |\n",
      "|<=>                          |\n",
      "|=                            |\n",
      "|==                           |\n",
      "|>                            |\n",
      "|>=                           |\n",
      "|^                            |\n",
      "|abs                          |\n",
      "|acos                         |\n",
      "|add_months                   |\n",
      "|aggregate                    |\n",
      "|and                          |\n",
      "|approx_count_distinct        |\n",
      "|approx_percentile            |\n",
      "|array                        |\n",
      "|array_contains               |\n",
      "|array_distinct               |\n",
      "|array_except                 |\n",
      "|array_intersect              |\n",
      "|array_join                   |\n",
      "|array_max                    |\n",
      "|array_min                    |\n",
      "|array_position               |\n",
      "|array_remove                 |\n",
      "|array_repeat                 |\n",
      "|array_sort                   |\n",
      "|array_union                  |\n",
      "|arrays_overlap               |\n",
      "|arrays_zip                   |\n",
      "|ascii                        |\n",
      "|asin                         |\n",
      "|assert_true                  |\n",
      "|atan                         |\n",
      "|atan2                        |\n",
      "|avg                          |\n",
      "|base64                       |\n",
      "|bigint                       |\n",
      "|bin                          |\n",
      "|binary                       |\n",
      "|bit_length                   |\n",
      "|boolean                      |\n",
      "|bround                       |\n",
      "|cardinality                  |\n",
      "|cast                         |\n",
      "|cbrt                         |\n",
      "|ceil                         |\n",
      "|ceiling                      |\n",
      "|char                         |\n",
      "|char_length                  |\n",
      "|character_length             |\n",
      "|chr                          |\n",
      "|coalesce                     |\n",
      "|collect_list                 |\n",
      "|collect_set                  |\n",
      "|concat                       |\n",
      "|concat_ws                    |\n",
      "|conv                         |\n",
      "|corr                         |\n",
      "|cos                          |\n",
      "|cosh                         |\n",
      "|cot                          |\n",
      "|count                        |\n",
      "|count_min_sketch             |\n",
      "|covar_pop                    |\n",
      "|covar_samp                   |\n",
      "|crc32                        |\n",
      "|cube                         |\n",
      "|cume_dist                    |\n",
      "|current_database             |\n",
      "|current_date                 |\n",
      "|current_timestamp            |\n",
      "|date                         |\n",
      "|date_add                     |\n",
      "|date_format                  |\n",
      "|date_sub                     |\n",
      "|date_trunc                   |\n",
      "|datediff                     |\n",
      "|day                          |\n",
      "|dayofmonth                   |\n",
      "|dayofweek                    |\n",
      "|dayofyear                    |\n",
      "|decimal                      |\n",
      "|decode                       |\n",
      "|default.converttouppercase   |\n",
      "|default.standardize_perm     |\n",
      "|default.standardize_permanent|\n",
      "|default.xyz                  |\n",
      "|degrees                      |\n",
      "|dense_rank                   |\n",
      "|double                       |\n",
      "|e                            |\n",
      "|element_at                   |\n",
      "|elt                          |\n",
      "|encode                       |\n",
      "|exists                       |\n",
      "|exp                          |\n",
      "|explode                      |\n",
      "|explode_outer                |\n",
      "|expm1                        |\n",
      "|factorial                    |\n",
      "|filter                       |\n",
      "|find_in_set                  |\n",
      "|first                        |\n",
      "|first_value                  |\n",
      "|flatten                      |\n",
      "|float                        |\n",
      "|floor                        |\n",
      "|format_number                |\n",
      "|format_string                |\n",
      "|from_json                    |\n",
      "|from_unixtime                |\n",
      "|from_utc_timestamp           |\n",
      "|get_json_object              |\n",
      "|greatest                     |\n",
      "|grouping                     |\n",
      "|grouping_id                  |\n",
      "|hash                         |\n",
      "|hex                          |\n",
      "|hour                         |\n",
      "|hypot                        |\n",
      "|if                           |\n",
      "|ifnull                       |\n",
      "|in                           |\n",
      "|initcap                      |\n",
      "|inline                       |\n",
      "|inline_outer                 |\n",
      "|input_file_block_length      |\n",
      "|input_file_block_start       |\n",
      "|input_file_name              |\n",
      "|instr                        |\n",
      "|int                          |\n",
      "|isnan                        |\n",
      "|isnotnull                    |\n",
      "|isnull                       |\n",
      "|java_method                  |\n",
      "|json_tuple                   |\n",
      "|kurtosis                     |\n",
      "|lag                          |\n",
      "|last                         |\n",
      "|last_day                     |\n",
      "|last_value                   |\n",
      "|lcase                        |\n",
      "|lead                         |\n",
      "|least                        |\n",
      "|left                         |\n",
      "|length                       |\n",
      "|levenshtein                  |\n",
      "|like                         |\n",
      "|ln                           |\n",
      "|locate                       |\n",
      "|log                          |\n",
      "|log10                        |\n",
      "|log1p                        |\n",
      "|log2                         |\n",
      "|lower                        |\n",
      "|lpad                         |\n",
      "|ltrim                        |\n",
      "|map                          |\n",
      "|map_concat                   |\n",
      "|map_from_arrays              |\n",
      "|map_from_entries             |\n",
      "|map_keys                     |\n",
      "|map_values                   |\n",
      "|max                          |\n",
      "|md5                          |\n",
      "|mean                         |\n",
      "|min                          |\n",
      "|minute                       |\n",
      "|mod                          |\n",
      "|monotonically_increasing_id  |\n",
      "|month                        |\n",
      "|months_between               |\n",
      "|named_struct                 |\n",
      "|nanvl                        |\n",
      "|negative                     |\n",
      "|next_day                     |\n",
      "|not                          |\n",
      "|now                          |\n",
      "|ntile                        |\n",
      "|nullif                       |\n",
      "|nvl                          |\n",
      "|nvl2                         |\n",
      "|octet_length                 |\n",
      "|or                           |\n",
      "|parse_url                    |\n",
      "|percent_rank                 |\n",
      "|percentile                   |\n",
      "|percentile_approx            |\n",
      "|pi                           |\n",
      "|pmod                         |\n",
      "|posexplode                   |\n",
      "|posexplode_outer             |\n",
      "|position                     |\n",
      "|positive                     |\n",
      "|pow                          |\n",
      "|power                        |\n",
      "|printf                       |\n",
      "|quarter                      |\n",
      "|radians                      |\n",
      "|rand                         |\n",
      "|randn                        |\n",
      "|rank                         |\n",
      "|reflect                      |\n",
      "|regexp_extract               |\n",
      "|regexp_replace               |\n",
      "|repeat                       |\n",
      "|replace                      |\n",
      "|reverse                      |\n",
      "|right                        |\n",
      "|rint                         |\n",
      "|rlike                        |\n",
      "|rollup                       |\n",
      "|round                        |\n",
      "|row_number                   |\n",
      "|rpad                         |\n",
      "|rtrim                        |\n",
      "|schema_of_json               |\n",
      "|second                       |\n",
      "|sentences                    |\n",
      "|sequence                     |\n",
      "|sha                          |\n",
      "|sha1                         |\n",
      "|sha2                         |\n",
      "|shiftleft                    |\n",
      "|shiftright                   |\n",
      "|shiftrightunsigned           |\n",
      "|shuffle                      |\n",
      "|sign                         |\n",
      "|signum                       |\n",
      "|sin                          |\n",
      "|sinh                         |\n",
      "|size                         |\n",
      "|skewness                     |\n",
      "|slice                        |\n",
      "|smallint                     |\n",
      "|sort_array                   |\n",
      "|soundex                      |\n",
      "|space                        |\n",
      "|spark_partition_id           |\n",
      "|split                        |\n",
      "|sqrt                         |\n",
      "|stack                        |\n",
      "|std                          |\n",
      "|stddev                       |\n",
      "|stddev_pop                   |\n",
      "|stddev_samp                  |\n",
      "|str_to_map                   |\n",
      "|string                       |\n",
      "|struct                       |\n",
      "|substr                       |\n",
      "|substring                    |\n",
      "|substring_index              |\n",
      "|sum                          |\n",
      "|tan                          |\n",
      "|tanh                         |\n",
      "|timestamp                    |\n",
      "|tinyint                      |\n",
      "|to_date                      |\n",
      "|to_json                      |\n",
      "|to_timestamp                 |\n",
      "|to_unix_timestamp            |\n",
      "|to_utc_timestamp             |\n",
      "|transform                    |\n",
      "|translate                    |\n",
      "|trim                         |\n",
      "|trunc                        |\n",
      "|ucase                        |\n",
      "|unbase64                     |\n",
      "|unhex                        |\n",
      "|unix_timestamp               |\n",
      "|upper                        |\n",
      "|uuid                         |\n",
      "|var_pop                      |\n",
      "|var_samp                     |\n",
      "|variance                     |\n",
      "|weekday                      |\n",
      "|weekofyear                   |\n",
      "|when                         |\n",
      "|window                       |\n",
      "|xpath                        |\n",
      "|xpath_boolean                |\n",
      "|xpath_double                 |\n",
      "|xpath_float                  |\n",
      "|xpath_int                    |\n",
      "|xpath_long                   |\n",
      "|xpath_number                 |\n",
      "|xpath_short                  |\n",
      "|xpath_string                 |\n",
      "|year                         |\n",
      "|zip_with                     |\n",
      "||                            |\n",
      "|~                            |\n",
      "+-----------------------------+\n",
      "\n"
     ]
    }
   ],
   "source": [
    "spark.sql(\"SHOW functions\").show(300, false)"
   ]
  },
  {
   "cell_type": "code",
   "execution_count": null,
   "metadata": {},
   "outputs": [],
   "source": [
    "spark.catalog.listFunctions.show(300, false)"
   ]
  },
  {
   "cell_type": "code",
   "execution_count": 6,
   "metadata": {},
   "outputs": [
    {
     "data": {
      "text/plain": [
       "+--------------------+\n",
       "|       function_desc|\n",
       "+--------------------+\n",
       "|    Function: substr|\n",
       "|Class: org.apache...|\n",
       "|Usage: substr(str...|\n",
       "+--------------------+\n",
       "\n"
      ]
     },
     "execution_count": 6,
     "metadata": {},
     "output_type": "execute_result"
    }
   ],
   "source": [
    "%%sql\n",
    "\n",
    "DESCRIBE FUNCTION substr"
   ]
  },
  {
   "cell_type": "code",
   "execution_count": 7,
   "metadata": {},
   "outputs": [
    {
     "name": "stdout",
     "output_type": "stream",
     "text": [
      "+------------------------------------------------------------------------------------------------------------------------------------------------------------------------------------+\n",
      "|function_desc                                                                                                                                                                       |\n",
      "+------------------------------------------------------------------------------------------------------------------------------------------------------------------------------------+\n",
      "|Function: substr                                                                                                                                                                    |\n",
      "|Class: org.apache.spark.sql.catalyst.expressions.Substring                                                                                                                          |\n",
      "|Usage: substr(str, pos[, len]) - Returns the substring of `str` that starts at `pos` and is of length `len`, or the slice of byte array that starts at `pos` and is of length `len`.|\n",
      "+------------------------------------------------------------------------------------------------------------------------------------------------------------------------------------+\n",
      "\n"
     ]
    }
   ],
   "source": [
    "spark.sql(\"DESCRIBE FUNCTION substr\").show(false)"
   ]
  },
  {
   "cell_type": "code",
   "execution_count": null,
   "metadata": {},
   "outputs": [],
   "source": []
  }
 ],
 "metadata": {
  "kernelspec": {
   "display_name": "Spark 2 - Scala",
   "language": "scala",
   "name": "spark_2_scala"
  },
  "language_info": {
   "codemirror_mode": "text/x-scala",
   "file_extension": ".scala",
   "mimetype": "text/x-scala",
   "name": "scala",
   "pygments_lexer": "scala",
   "version": "2.11.12"
  }
 },
 "nbformat": 4,
 "nbformat_minor": 4
}
