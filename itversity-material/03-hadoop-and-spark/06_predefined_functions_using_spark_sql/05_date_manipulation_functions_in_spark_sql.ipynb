{
 "cells": [
  {
   "cell_type": "markdown",
   "metadata": {},
   "source": [
    "## Date Manipulation Functions\n",
    "\n",
    "Let us go through some of the important date manipulation functions."
   ]
  },
  {
   "cell_type": "markdown",
   "metadata": {},
   "source": [
    "Let us start spark context for this Notebook so that we can execute the code provided. You can sign up for our [10 node state of the art cluster/labs](https://labs.itversity.com/plans) to learn Spark SQL using our unique integrated LMS."
   ]
  },
  {
   "cell_type": "code",
   "execution_count": 1,
   "metadata": {},
   "outputs": [
    {
     "data": {
      "text/plain": [
       "username = itv002461\n"
      ]
     },
     "metadata": {},
     "output_type": "display_data",
     "source": "user"
    },
    {
     "data": {
      "text/plain": [
       "itv002461"
      ]
     },
     "execution_count": 1,
     "metadata": {},
     "output_type": "execute_result"
    }
   ],
   "source": [
    "val username = System.getProperty(\"user.name\")"
   ]
  },
  {
   "cell_type": "code",
   "execution_count": 2,
   "metadata": {},
   "outputs": [
    {
     "data": {
      "text/plain": [
       "username = itv002461\n",
       "spark = org.apache.spark.sql.SparkSession@2806407c\n"
      ]
     },
     "metadata": {},
     "output_type": "display_data",
     "source": "user"
    },
    {
     "data": {
      "text/plain": [
       "org.apache.spark.sql.SparkSession@2806407c"
      ]
     },
     "execution_count": 2,
     "metadata": {},
     "output_type": "execute_result"
    }
   ],
   "source": [
    "import org.apache.spark.sql.SparkSession\n",
    "\n",
    "val username = System.getProperty(\"user.name\")\n",
    "val spark = SparkSession.\n",
    "    builder.\n",
    "    config(\"spark.ui.port\", \"0\").\n",
    "    config(\"spark.sql.warehouse.dir\", s\"/user/${username}/warehouse\").\n",
    "    enableHiveSupport.\n",
    "    appName(s\"${username} | Spark SQL - Predefined Functions\").\n",
    "    master(\"yarn\").\n",
    "    getOrCreate"
   ]
  },
  {
   "cell_type": "markdown",
   "metadata": {},
   "source": [
    "If you are going to use CLIs, you can use Spark SQL using one of the 3 approaches.\n",
    "\n",
    "**Using Spark SQL**\n",
    "\n",
    "```\n",
    "spark2-sql \\\n",
    "    --master yarn \\\n",
    "    --conf spark.ui.port=0 \\\n",
    "    --conf spark.sql.warehouse.dir=/user/${USER}/warehouse\n",
    "```\n",
    "\n",
    "**Using Scala**\n",
    "\n",
    "```\n",
    "spark2-shell \\\n",
    "    --master yarn \\\n",
    "    --conf spark.ui.port=0 \\\n",
    "    --conf spark.sql.warehouse.dir=/user/${USER}/warehouse\n",
    "```\n",
    "\n",
    "**Using Pyspark**\n",
    "\n",
    "```\n",
    "pyspark2 \\\n",
    "    --master yarn \\\n",
    "    --conf spark.ui.port=0 \\\n",
    "    --conf spark.sql.warehouse.dir=/user/${USER}/warehouse\n",
    "```"
   ]
  },
  {
   "cell_type": "markdown",
   "metadata": {},
   "source": [
    "* Getting Current Date and Timestamp\n",
    "* Date Arithmetic such as `date_add`\n",
    "* Getting beginning date or time using `trunc` or `date_trunc`\n",
    "* Extracting information using `date_format` as well as calendar functions.\n",
    "* Dealing with unix timestamp using `from_unixtime`, `to_unix_timestamp`"
   ]
  },
  {
   "cell_type": "markdown",
   "metadata": {},
   "source": [
    "### Getting Current Date and Timestamp\n",
    "\n",
    "Let us understand how to get the details about current or today's date as well as current timestamp.\n",
    "\n",
    "* `current_date` is the function or operator which will return today's date.\n",
    "* `current_timestamp` is the function or operator which will return current time up to milliseconds.\n",
    "* These are not like other functions and do not use **()** at the end.\n",
    "* These are not listed as part of `SHOW functions` and we can get help using `DESCRIBE`.\n",
    "* There is a format associated with date and timestamp.\n",
    "  * Date - `yyyy-MM-dd`\n",
    "  * Timestamp - `yyyy-MM-dd HH:mm:ss.SSS`\n",
    "* Keep in mind that a date or timestamp in Spark SQL are nothing but special strings containing values using above specified formats. We can apply all string manipulation functions on date or timestamp."
   ]
  },
  {
   "cell_type": "code",
   "execution_count": 3,
   "metadata": {},
   "outputs": [
    {
     "data": {
      "text/plain": [
       "Waiting for a Spark session to start..."
      ]
     },
     "metadata": {},
     "output_type": "display_data",
     "source": "user"
    },
    {
     "data": {
      "text/plain": [
       "+------------+\n",
       "|current_date|\n",
       "+------------+\n",
       "|  2022-05-31|\n",
       "+------------+\n",
       "\n"
      ]
     },
     "execution_count": 3,
     "metadata": {},
     "output_type": "execute_result"
    }
   ],
   "source": [
    "%%sql\n",
    "\n",
    "SELECT current_date AS current_date"
   ]
  },
  {
   "cell_type": "code",
   "execution_count": 4,
   "metadata": {},
   "outputs": [
    {
     "data": {
      "text/plain": [
       "+------------+\n",
       "|current_date|\n",
       "+------------+\n",
       "|  2022-05-31|\n",
       "+------------+\n",
       "\n"
      ]
     },
     "execution_count": 4,
     "metadata": {},
     "output_type": "execute_result"
    }
   ],
   "source": [
    "%%sql\n",
    "\n",
    "SELECT current_date() AS current_date"
   ]
  },
  {
   "cell_type": "code",
   "execution_count": 5,
   "metadata": {},
   "outputs": [
    {
     "data": {
      "text/plain": [
       "+--------------------+\n",
       "|   current_timestamp|\n",
       "+--------------------+\n",
       "|2022-05-31 10:23:...|\n",
       "+--------------------+\n",
       "\n"
      ]
     },
     "execution_count": 5,
     "metadata": {},
     "output_type": "execute_result"
    }
   ],
   "source": [
    "%%sql\n",
    "\n",
    "SELECT current_timestamp AS current_timestamp"
   ]
  },
  {
   "cell_type": "code",
   "execution_count": 6,
   "metadata": {},
   "outputs": [
    {
     "name": "stdout",
     "output_type": "stream",
     "text": [
      "+-----------------------+\n",
      "|current_timestamp      |\n",
      "+-----------------------+\n",
      "|2022-05-31 10:23:18.031|\n",
      "+-----------------------+\n",
      "\n"
     ]
    }
   ],
   "source": [
    "spark.sql(\"SELECT current_timestamp AS current_timestamp\").show(false)"
   ]
  },
  {
   "cell_type": "markdown",
   "metadata": {},
   "source": [
    "### Date Arithmetic\n",
    "Let us understand how to perform arithmetic on dates or timestamps.\n",
    "\n",
    "* `date_add` can be used to add or subtract days.\n",
    "* `date_sub` can be used to subtract or add days.\n",
    "* `datediff` can be used to get difference between 2 dates\n",
    "* `add_months` can be used add months to a date"
   ]
  },
  {
   "cell_type": "code",
   "execution_count": 7,
   "metadata": {},
   "outputs": [
    {
     "data": {
      "text/plain": [
       "+----------+\n",
       "|    result|\n",
       "+----------+\n",
       "|2022-07-02|\n",
       "+----------+\n",
       "\n"
      ]
     },
     "execution_count": 7,
     "metadata": {},
     "output_type": "execute_result"
    }
   ],
   "source": [
    "%%sql\n",
    "\n",
    "SELECT date_add(current_date, 32) AS result"
   ]
  },
  {
   "cell_type": "code",
   "execution_count": 8,
   "metadata": {},
   "outputs": [
    {
     "data": {
      "text/plain": [
       "+----------+\n",
       "|    result|\n",
       "+----------+\n",
       "|2020-04-14|\n",
       "+----------+\n",
       "\n"
      ]
     },
     "execution_count": 8,
     "metadata": {},
     "output_type": "execute_result"
    }
   ],
   "source": [
    "%%sql\n",
    "\n",
    "SELECT date_add('2018-04-15', 730) AS result"
   ]
  },
  {
   "cell_type": "code",
   "execution_count": 9,
   "metadata": {},
   "outputs": [
    {
     "data": {
      "text/plain": [
       "+----------+\n",
       "|    result|\n",
       "+----------+\n",
       "|2016-04-15|\n",
       "+----------+\n",
       "\n"
      ]
     },
     "execution_count": 9,
     "metadata": {},
     "output_type": "execute_result"
    }
   ],
   "source": [
    "%%sql\n",
    "\n",
    "SELECT date_add('2018-04-15', -730) AS result"
   ]
  },
  {
   "cell_type": "code",
   "execution_count": 10,
   "metadata": {},
   "outputs": [
    {
     "data": {
      "text/plain": [
       "+----------+\n",
       "|    result|\n",
       "+----------+\n",
       "|2022-05-01|\n",
       "+----------+\n",
       "\n"
      ]
     },
     "execution_count": 10,
     "metadata": {},
     "output_type": "execute_result"
    }
   ],
   "source": [
    "%%sql\n",
    "\n",
    "SELECT date_sub(current_date, 30) AS result"
   ]
  },
  {
   "cell_type": "code",
   "execution_count": 11,
   "metadata": {},
   "outputs": [
    {
     "data": {
      "text/plain": [
       "+------+\n",
       "|result|\n",
       "+------+\n",
       "|   454|\n",
       "+------+\n",
       "\n"
      ]
     },
     "execution_count": 11,
     "metadata": {},
     "output_type": "execute_result"
    }
   ],
   "source": [
    "%%sql\n",
    "\n",
    "SELECT datediff('2019-03-30', '2017-12-31') AS result"
   ]
  },
  {
   "cell_type": "code",
   "execution_count": 12,
   "metadata": {},
   "outputs": [
    {
     "data": {
      "text/plain": [
       "+------+\n",
       "|result|\n",
       "+------+\n",
       "|  -454|\n",
       "+------+\n",
       "\n"
      ]
     },
     "execution_count": 12,
     "metadata": {},
     "output_type": "execute_result"
    }
   ],
   "source": [
    "%%sql\n",
    "\n",
    "SELECT datediff('2017-12-31', '2019-03-30') AS result"
   ]
  },
  {
   "cell_type": "code",
   "execution_count": 13,
   "metadata": {},
   "outputs": [
    {
     "data": {
      "text/plain": [
       "+----------+\n",
       "|    result|\n",
       "+----------+\n",
       "|2022-08-31|\n",
       "+----------+\n",
       "\n"
      ]
     },
     "execution_count": 13,
     "metadata": {},
     "output_type": "execute_result"
    }
   ],
   "source": [
    "%%sql\n",
    "\n",
    "SELECT add_months(current_date, 3) AS result"
   ]
  },
  {
   "cell_type": "code",
   "execution_count": 14,
   "metadata": {},
   "outputs": [
    {
     "data": {
      "text/plain": [
       "+----------+\n",
       "|    result|\n",
       "+----------+\n",
       "|2019-02-28|\n",
       "+----------+\n",
       "\n"
      ]
     },
     "execution_count": 14,
     "metadata": {},
     "output_type": "execute_result"
    }
   ],
   "source": [
    "%%sql\n",
    "\n",
    "SELECT add_months('2019-01-31', 1) AS result"
   ]
  },
  {
   "cell_type": "code",
   "execution_count": 15,
   "metadata": {},
   "outputs": [
    {
     "data": {
      "text/plain": [
       "+----------+\n",
       "|    result|\n",
       "+----------+\n",
       "|2019-06-30|\n",
       "+----------+\n",
       "\n"
      ]
     },
     "execution_count": 15,
     "metadata": {},
     "output_type": "execute_result"
    }
   ],
   "source": [
    "%%sql\n",
    "\n",
    "SELECT add_months('2019-05-31', 1) AS result"
   ]
  },
  {
   "cell_type": "code",
   "execution_count": 16,
   "metadata": {},
   "outputs": [
    {
     "data": {
      "text/plain": [
       "+----------+\n",
       "|    result|\n",
       "+----------+\n",
       "|2022-08-31|\n",
       "+----------+\n",
       "\n"
      ]
     },
     "execution_count": 16,
     "metadata": {},
     "output_type": "execute_result"
    }
   ],
   "source": [
    "%%sql\n",
    "\n",
    "SELECT add_months(current_timestamp, 3) AS result"
   ]
  },
  {
   "cell_type": "code",
   "execution_count": 17,
   "metadata": {},
   "outputs": [
    {
     "data": {
      "text/plain": [
       "+----------+\n",
       "|    result|\n",
       "+----------+\n",
       "|2020-05-31|\n",
       "+----------+\n",
       "\n"
      ]
     },
     "execution_count": 17,
     "metadata": {},
     "output_type": "execute_result"
    }
   ],
   "source": [
    "%%sql\n",
    "\n",
    "SELECT date_add(current_timestamp, -730) AS result"
   ]
  },
  {
   "cell_type": "markdown",
   "metadata": {},
   "source": [
    "### Beginning Date or Time - trunc and date_trunc\n",
    "Let us understand how to use `trunc` and `date_trunc` on dates or timestamps and get beginning date of the period.\n",
    "\n",
    "* We can use **MM** to get beginning date of the month.\n",
    "* **YY** can be used to get begining date of the year.\n",
    "* We can apply trunc either on date or timestamp, however we cannot apply it other than month or year (such an hour or day)."
   ]
  },
  {
   "cell_type": "code",
   "execution_count": 18,
   "metadata": {},
   "outputs": [
    {
     "data": {
      "text/plain": [
       "+--------------------+\n",
       "|       function_desc|\n",
       "+--------------------+\n",
       "|     Function: trunc|\n",
       "|Class: org.apache...|\n",
       "|Usage: \n",
       "    trunc...|\n",
       "+--------------------+\n",
       "\n"
      ]
     },
     "execution_count": 18,
     "metadata": {},
     "output_type": "execute_result"
    }
   ],
   "source": [
    "%%sql\n",
    "\n",
    "DESCRIBE FUNCTION trunc"
   ]
  },
  {
   "cell_type": "code",
   "execution_count": 19,
   "metadata": {},
   "outputs": [
    {
     "name": "stdout",
     "output_type": "stream",
     "text": [
      "+--------------------------------------------------------------------------------------------------------------------------------------------------------------------------------------------------------------------+\n",
      "|function_desc                                                                                                                                                                                                       |\n",
      "+--------------------------------------------------------------------------------------------------------------------------------------------------------------------------------------------------------------------+\n",
      "|Function: trunc                                                                                                                                                                                                     |\n",
      "|Class: org.apache.spark.sql.catalyst.expressions.TruncDate                                                                                                                                                          |\n",
      "|Usage: \n",
      "    trunc(date, fmt) - Returns `date` with the time portion of the day truncated to the unit specified by the format model `fmt`.\n",
      "    `fmt` should be one of [\"year\", \"yyyy\", \"yy\", \"mon\", \"month\", \"mm\"]\n",
      "  |\n",
      "+--------------------------------------------------------------------------------------------------------------------------------------------------------------------------------------------------------------------+\n",
      "\n"
     ]
    }
   ],
   "source": [
    "spark.sql(\"DESCRIBE FUNCTION trunc\").show(false)"
   ]
  },
  {
   "cell_type": "code",
   "execution_count": 20,
   "metadata": {},
   "outputs": [
    {
     "data": {
      "text/plain": [
       "+--------------------+\n",
       "|beginning_date_month|\n",
       "+--------------------+\n",
       "|          2022-05-01|\n",
       "+--------------------+\n",
       "\n"
      ]
     },
     "execution_count": 20,
     "metadata": {},
     "output_type": "execute_result"
    }
   ],
   "source": [
    "%%sql\n",
    "\n",
    "SELECT trunc(current_date, 'MM') AS beginning_date_month"
   ]
  },
  {
   "cell_type": "code",
   "execution_count": 21,
   "metadata": {},
   "outputs": [
    {
     "data": {
      "text/plain": [
       "+--------------------+\n",
       "|beginning_date_month|\n",
       "+--------------------+\n",
       "|          2019-01-01|\n",
       "+--------------------+\n",
       "\n"
      ]
     },
     "execution_count": 21,
     "metadata": {},
     "output_type": "execute_result"
    }
   ],
   "source": [
    "%%sql\n",
    "\n",
    "SELECT trunc('2019-01-23', 'MM') AS beginning_date_month"
   ]
  },
  {
   "cell_type": "code",
   "execution_count": 22,
   "metadata": {},
   "outputs": [
    {
     "data": {
      "text/plain": [
       "+-------------------+\n",
       "|beginning_date_year|\n",
       "+-------------------+\n",
       "|         2022-01-01|\n",
       "+-------------------+\n",
       "\n"
      ]
     },
     "execution_count": 22,
     "metadata": {},
     "output_type": "execute_result"
    }
   ],
   "source": [
    "%%sql\n",
    "\n",
    "SELECT trunc(current_date, 'YY') AS beginning_date_year "
   ]
  },
  {
   "cell_type": "markdown",
   "metadata": {},
   "source": [
    "* This will not work"
   ]
  },
  {
   "cell_type": "code",
   "execution_count": 23,
   "metadata": {},
   "outputs": [
    {
     "data": {
      "text/plain": [
       "+-----------+\n",
       "|doesnt_work|\n",
       "+-----------+\n",
       "|       null|\n",
       "+-----------+\n",
       "\n"
      ]
     },
     "execution_count": 23,
     "metadata": {},
     "output_type": "execute_result"
    }
   ],
   "source": [
    "%%sql\n",
    "\n",
    "SELECT trunc(current_timestamp, 'HH') AS doesnt_work"
   ]
  },
  {
   "cell_type": "markdown",
   "metadata": {},
   "source": [
    "* While `trunc` can be used to get beginning time of a given month or year, we can get the beginning time up to Second using `date_trunc`."
   ]
  },
  {
   "cell_type": "code",
   "execution_count": 24,
   "metadata": {},
   "outputs": [
    {
     "name": "stdout",
     "output_type": "stream",
     "text": [
      "+----------------------------------------------------------------------------------------------------------------------------------------------------------------------------------------------------------------------------------------------------------+\n",
      "|function_desc                                                                                                                                                                                                                                             |\n",
      "+----------------------------------------------------------------------------------------------------------------------------------------------------------------------------------------------------------------------------------------------------------+\n",
      "|Function: date_trunc                                                                                                                                                                                                                                      |\n",
      "|Class: org.apache.spark.sql.catalyst.expressions.TruncTimestamp                                                                                                                                                                                           |\n",
      "|Usage: \n",
      "    date_trunc(fmt, ts) - Returns timestamp `ts` truncated to the unit specified by the format model `fmt`.\n",
      "    `fmt` should be one of [\"YEAR\", \"YYYY\", \"YY\", \"MON\", \"MONTH\", \"MM\", \"DAY\", \"DD\", \"HOUR\", \"MINUTE\", \"SECOND\", \"WEEK\", \"QUARTER\"]\n",
      "  |\n",
      "+----------------------------------------------------------------------------------------------------------------------------------------------------------------------------------------------------------------------------------------------------------+\n",
      "\n"
     ]
    }
   ],
   "source": [
    "spark.sql(\"DESCRIBE FUNCTION date_trunc\").show(false)"
   ]
  },
  {
   "cell_type": "code",
   "execution_count": 25,
   "metadata": {},
   "outputs": [
    {
     "data": {
      "text/plain": [
       "+-------------------+\n",
       "|     hour_beginning|\n",
       "+-------------------+\n",
       "|2022-05-31 10:00:00|\n",
       "+-------------------+\n",
       "\n"
      ]
     },
     "execution_count": 25,
     "metadata": {},
     "output_type": "execute_result"
    }
   ],
   "source": [
    "%%sql\n",
    "\n",
    "SELECT date_trunc('HOUR', current_timestamp) AS hour_beginning"
   ]
  },
  {
   "cell_type": "markdown",
   "metadata": {},
   "source": [
    "### Extracting information using date_format\n",
    "\n",
    "Let us understand how to use `date_format` to extract information from date or timestamp.\n",
    "\n",
    "Here is how we can get date related information such as year, month, day etc from date or timestamp."
   ]
  },
  {
   "cell_type": "code",
   "execution_count": 26,
   "metadata": {},
   "outputs": [
    {
     "name": "stdout",
     "output_type": "stream",
     "text": [
      "+--------------------------------------------------------------------------------------------------------------------------------+\n",
      "|function_desc                                                                                                                   |\n",
      "+--------------------------------------------------------------------------------------------------------------------------------+\n",
      "|Function: date_format                                                                                                           |\n",
      "|Class: org.apache.spark.sql.catalyst.expressions.DateFormatClass                                                                |\n",
      "|Usage: date_format(timestamp, fmt) - Converts `timestamp` to a value of string in the format specified by the date format `fmt`.|\n",
      "+--------------------------------------------------------------------------------------------------------------------------------+\n",
      "\n"
     ]
    }
   ],
   "source": [
    "spark.sql(\"DESCRIBE FUNCTION date_format\").show(false)"
   ]
  },
  {
   "cell_type": "code",
   "execution_count": 27,
   "metadata": {},
   "outputs": [
    {
     "data": {
      "text/plain": [
       "+--------------------+\n",
       "|   current_timestamp|\n",
       "+--------------------+\n",
       "|2022-05-31 10:35:...|\n",
       "+--------------------+\n",
       "\n"
      ]
     },
     "execution_count": 27,
     "metadata": {},
     "output_type": "execute_result"
    }
   ],
   "source": [
    "%%sql\n",
    "\n",
    "SELECT current_timestamp AS current_timestamp"
   ]
  },
  {
   "cell_type": "code",
   "execution_count": 28,
   "metadata": {},
   "outputs": [
    {
     "data": {
      "text/plain": [
       "+--------------------+----+\n",
       "|   current_timestamp|year|\n",
       "+--------------------+----+\n",
       "|2022-05-31 10:36:...|2022|\n",
       "+--------------------+----+\n",
       "\n"
      ]
     },
     "execution_count": 28,
     "metadata": {},
     "output_type": "execute_result"
    }
   ],
   "source": [
    "%%sql\n",
    "\n",
    "SELECT current_timestamp AS current_timestamp, \n",
    "    date_format(current_timestamp, 'yyyy') AS year"
   ]
  },
  {
   "cell_type": "code",
   "execution_count": 29,
   "metadata": {},
   "outputs": [
    {
     "data": {
      "text/plain": [
       "+--------------------+----+\n",
       "|   current_timestamp|year|\n",
       "+--------------------+----+\n",
       "|2022-05-31 10:36:...|  22|\n",
       "+--------------------+----+\n",
       "\n"
      ]
     },
     "execution_count": 29,
     "metadata": {},
     "output_type": "execute_result"
    }
   ],
   "source": [
    "%%sql\n",
    "\n",
    "SELECT current_timestamp AS current_timestamp, \n",
    "    date_format(current_timestamp, 'yy') AS year"
   ]
  },
  {
   "cell_type": "code",
   "execution_count": 30,
   "metadata": {},
   "outputs": [
    {
     "data": {
      "text/plain": [
       "+--------------------+-----+\n",
       "|   current_timestamp|month|\n",
       "+--------------------+-----+\n",
       "|2022-05-31 10:36:...|   05|\n",
       "+--------------------+-----+\n",
       "\n"
      ]
     },
     "execution_count": 30,
     "metadata": {},
     "output_type": "execute_result"
    }
   ],
   "source": [
    "%%sql\n",
    "\n",
    "SELECT current_timestamp AS current_timestamp, \n",
    "    date_format(current_timestamp, 'MM') AS month"
   ]
  },
  {
   "cell_type": "code",
   "execution_count": 31,
   "metadata": {},
   "outputs": [
    {
     "data": {
      "text/plain": [
       "+--------------------+------------+\n",
       "|   current_timestamp|day_of_month|\n",
       "+--------------------+------------+\n",
       "|2022-05-31 10:37:...|          31|\n",
       "+--------------------+------------+\n",
       "\n"
      ]
     },
     "execution_count": 31,
     "metadata": {},
     "output_type": "execute_result"
    }
   ],
   "source": [
    "%%sql\n",
    "\n",
    "SELECT current_timestamp AS current_timestamp, \n",
    "    date_format(current_timestamp, 'dd') AS day_of_month"
   ]
  },
  {
   "cell_type": "code",
   "execution_count": 32,
   "metadata": {},
   "outputs": [
    {
     "data": {
      "text/plain": [
       "+--------------------+-----------+\n",
       "|   current_timestamp|day_of_year|\n",
       "+--------------------+-----------+\n",
       "|2022-05-31 10:37:...|        151|\n",
       "+--------------------+-----------+\n",
       "\n"
      ]
     },
     "execution_count": 32,
     "metadata": {},
     "output_type": "execute_result"
    }
   ],
   "source": [
    "%%sql\n",
    "\n",
    "SELECT current_timestamp AS current_timestamp, \n",
    "    date_format(current_timestamp, 'DD') AS day_of_year"
   ]
  },
  {
   "cell_type": "code",
   "execution_count": 33,
   "metadata": {},
   "outputs": [
    {
     "data": {
      "text/plain": [
       "+--------------------+----------+\n",
       "|   current_timestamp|month_name|\n",
       "+--------------------+----------+\n",
       "|2022-05-31 10:37:...|       May|\n",
       "+--------------------+----------+\n",
       "\n"
      ]
     },
     "execution_count": 33,
     "metadata": {},
     "output_type": "execute_result"
    }
   ],
   "source": [
    "%%sql\n",
    "\n",
    "SELECT current_timestamp AS current_timestamp, \n",
    "    date_format(current_timestamp, 'MMM') AS month_name"
   ]
  },
  {
   "cell_type": "code",
   "execution_count": 34,
   "metadata": {},
   "outputs": [
    {
     "data": {
      "text/plain": [
       "+--------------------+----------+\n",
       "|   current_timestamp|month_name|\n",
       "+--------------------+----------+\n",
       "|2022-05-31 10:37:...|       May|\n",
       "+--------------------+----------+\n",
       "\n"
      ]
     },
     "execution_count": 34,
     "metadata": {},
     "output_type": "execute_result"
    }
   ],
   "source": [
    "%%sql\n",
    "\n",
    "SELECT current_timestamp AS current_timestamp, \n",
    "    date_format(current_timestamp, 'MMMM') AS month_name"
   ]
  },
  {
   "cell_type": "code",
   "execution_count": 35,
   "metadata": {},
   "outputs": [
    {
     "data": {
      "text/plain": [
       "+--------------------+-------+\n",
       "|   current_timestamp|dayname|\n",
       "+--------------------+-------+\n",
       "|2022-05-31 10:37:...|    Tue|\n",
       "+--------------------+-------+\n",
       "\n"
      ]
     },
     "execution_count": 35,
     "metadata": {},
     "output_type": "execute_result"
    }
   ],
   "source": [
    "%%sql\n",
    "\n",
    "SELECT current_timestamp AS current_timestamp, \n",
    "    date_format(current_timestamp, 'EE') AS dayname"
   ]
  },
  {
   "cell_type": "code",
   "execution_count": 36,
   "metadata": {},
   "outputs": [
    {
     "data": {
      "text/plain": [
       "+--------------------+-------+\n",
       "|   current_timestamp|dayname|\n",
       "+--------------------+-------+\n",
       "|2022-05-31 10:37:...|Tuesday|\n",
       "+--------------------+-------+\n",
       "\n"
      ]
     },
     "execution_count": 36,
     "metadata": {},
     "output_type": "execute_result"
    }
   ],
   "source": [
    "%%sql\n",
    "\n",
    "SELECT current_timestamp AS current_timestamp, \n",
    "    date_format(current_timestamp, 'EEEE') AS dayname"
   ]
  },
  {
   "cell_type": "markdown",
   "metadata": {},
   "source": [
    "* Here is how we can get time related information such as hour, minute, seconds, milliseconds etc from timestamp."
   ]
  },
  {
   "cell_type": "code",
   "execution_count": 37,
   "metadata": {},
   "outputs": [
    {
     "data": {
      "text/plain": [
       "+--------------------+------+\n",
       "|   current_timestamp|hour24|\n",
       "+--------------------+------+\n",
       "|2022-05-31 10:37:...|    10|\n",
       "+--------------------+------+\n",
       "\n"
      ]
     },
     "execution_count": 37,
     "metadata": {},
     "output_type": "execute_result"
    }
   ],
   "source": [
    "%%sql\n",
    "\n",
    "SELECT current_timestamp AS current_timestamp, \n",
    "    date_format(current_timestamp, 'HH') AS hour24"
   ]
  },
  {
   "cell_type": "code",
   "execution_count": 38,
   "metadata": {},
   "outputs": [
    {
     "data": {
      "text/plain": [
       "+--------------------+------+\n",
       "|   current_timestamp|hour12|\n",
       "+--------------------+------+\n",
       "|2022-05-31 10:37:...|    10|\n",
       "+--------------------+------+\n",
       "\n"
      ]
     },
     "execution_count": 38,
     "metadata": {},
     "output_type": "execute_result"
    }
   ],
   "source": [
    "%%sql\n",
    "\n",
    "SELECT current_timestamp AS current_timestamp, \n",
    "    date_format(current_timestamp, 'hh') AS hour12"
   ]
  },
  {
   "cell_type": "code",
   "execution_count": 39,
   "metadata": {},
   "outputs": [
    {
     "data": {
      "text/plain": [
       "+--------------------+-------+\n",
       "|   current_timestamp|minutes|\n",
       "+--------------------+-------+\n",
       "|2022-05-31 10:37:...|     37|\n",
       "+--------------------+-------+\n",
       "\n"
      ]
     },
     "execution_count": 39,
     "metadata": {},
     "output_type": "execute_result"
    }
   ],
   "source": [
    "%%sql\n",
    "\n",
    "SELECT current_timestamp AS current_timestamp, \n",
    "    date_format(current_timestamp, 'mm') AS minutes"
   ]
  },
  {
   "cell_type": "code",
   "execution_count": 40,
   "metadata": {},
   "outputs": [
    {
     "data": {
      "text/plain": [
       "+--------------------+-------+\n",
       "|   current_timestamp|seconds|\n",
       "+--------------------+-------+\n",
       "|2022-05-31 10:38:...|     01|\n",
       "+--------------------+-------+\n",
       "\n"
      ]
     },
     "execution_count": 40,
     "metadata": {},
     "output_type": "execute_result"
    }
   ],
   "source": [
    "%%sql\n",
    "\n",
    "SELECT current_timestamp AS current_timestamp, \n",
    "    date_format(current_timestamp, 'ss') AS seconds"
   ]
  },
  {
   "cell_type": "code",
   "execution_count": 41,
   "metadata": {},
   "outputs": [
    {
     "data": {
      "text/plain": [
       "+--------------------+------+\n",
       "|   current_timestamp|millis|\n",
       "+--------------------+------+\n",
       "|2022-05-31 10:38:...|   950|\n",
       "+--------------------+------+\n",
       "\n"
      ]
     },
     "execution_count": 41,
     "metadata": {},
     "output_type": "execute_result"
    }
   ],
   "source": [
    "%%sql\n",
    "\n",
    "SELECT current_timestamp AS current_timestamp, \n",
    "    date_format(current_timestamp, 'SS') AS millis"
   ]
  },
  {
   "cell_type": "markdown",
   "metadata": {},
   "source": [
    "* Here is how we can get the information from date or timestamp in the format we require."
   ]
  },
  {
   "cell_type": "code",
   "execution_count": 42,
   "metadata": {},
   "outputs": [
    {
     "data": {
      "text/plain": [
       "+-------------+\n",
       "|current_month|\n",
       "+-------------+\n",
       "|       202205|\n",
       "+-------------+\n",
       "\n"
      ]
     },
     "execution_count": 42,
     "metadata": {},
     "output_type": "execute_result"
    }
   ],
   "source": [
    "%%sql\n",
    "\n",
    "SELECT date_format(current_timestamp, 'yyyyMM') AS current_month"
   ]
  },
  {
   "cell_type": "code",
   "execution_count": 43,
   "metadata": {},
   "outputs": [
    {
     "data": {
      "text/plain": [
       "+------------+\n",
       "|current_date|\n",
       "+------------+\n",
       "|    20220531|\n",
       "+------------+\n",
       "\n"
      ]
     },
     "execution_count": 43,
     "metadata": {},
     "output_type": "execute_result"
    }
   ],
   "source": [
    "%%sql\n",
    "\n",
    "SELECT date_format(current_timestamp, 'yyyyMMdd') AS current_date"
   ]
  },
  {
   "cell_type": "code",
   "execution_count": 44,
   "metadata": {},
   "outputs": [
    {
     "data": {
      "text/plain": [
       "+------------+\n",
       "|current_date|\n",
       "+------------+\n",
       "|  2022/05/31|\n",
       "+------------+\n",
       "\n"
      ]
     },
     "execution_count": 44,
     "metadata": {},
     "output_type": "execute_result"
    }
   ],
   "source": [
    "%%sql\n",
    "\n",
    "SELECT date_format(current_timestamp, 'yyyy/MM/dd') AS current_date"
   ]
  },
  {
   "cell_type": "markdown",
   "metadata": {},
   "source": [
    "### Extracting information - Calendar functions\n",
    "\n",
    "We can get year, month, day etc from date or timestamp using functions. There are functions such as `day`, `dayofmonth`, `month`, `weekofyear`, `year` etc available for us."
   ]
  },
  {
   "cell_type": "code",
   "execution_count": 45,
   "metadata": {},
   "outputs": [
    {
     "name": "stdout",
     "output_type": "stream",
     "text": [
      "+------------------------------------------------------------------+\n",
      "|function_desc                                                     |\n",
      "+------------------------------------------------------------------+\n",
      "|Function: day                                                     |\n",
      "|Class: org.apache.spark.sql.catalyst.expressions.DayOfMonth       |\n",
      "|Usage: day(date) - Returns the day of month of the date/timestamp.|\n",
      "+------------------------------------------------------------------+\n",
      "\n"
     ]
    }
   ],
   "source": [
    "spark.sql(\"DESCRIBE FUNCTION day\").show(false)"
   ]
  },
  {
   "cell_type": "code",
   "execution_count": 46,
   "metadata": {},
   "outputs": [
    {
     "name": "stdout",
     "output_type": "stream",
     "text": [
      "+-------------------------------------------------------------------------+\n",
      "|function_desc                                                            |\n",
      "+-------------------------------------------------------------------------+\n",
      "|Function: dayofmonth                                                     |\n",
      "|Class: org.apache.spark.sql.catalyst.expressions.DayOfMonth              |\n",
      "|Usage: dayofmonth(date) - Returns the day of month of the date/timestamp.|\n",
      "+-------------------------------------------------------------------------+\n",
      "\n"
     ]
    }
   ],
   "source": [
    "spark.sql(\"DESCRIBE FUNCTION dayofmonth\").show(false)"
   ]
  },
  {
   "cell_type": "code",
   "execution_count": 47,
   "metadata": {},
   "outputs": [
    {
     "name": "stdout",
     "output_type": "stream",
     "text": [
      "+-----------------------------------------------------------------------+\n",
      "|function_desc                                                          |\n",
      "+-----------------------------------------------------------------------+\n",
      "|Function: month                                                        |\n",
      "|Class: org.apache.spark.sql.catalyst.expressions.Month                 |\n",
      "|Usage: month(date) - Returns the month component of the date/timestamp.|\n",
      "+-----------------------------------------------------------------------+\n",
      "\n"
     ]
    }
   ],
   "source": [
    "spark.sql(\"DESCRIBE FUNCTION month\").show(false)"
   ]
  },
  {
   "cell_type": "code",
   "execution_count": 48,
   "metadata": {},
   "outputs": [
    {
     "name": "stdout",
     "output_type": "stream",
     "text": [
      "+--------------------------------------------------------------------------------------------------------------------------------------------------------------+\n",
      "|function_desc                                                                                                                                                 |\n",
      "+--------------------------------------------------------------------------------------------------------------------------------------------------------------+\n",
      "|Function: weekofyear                                                                                                                                          |\n",
      "|Class: org.apache.spark.sql.catalyst.expressions.WeekOfYear                                                                                                   |\n",
      "|Usage: weekofyear(date) - Returns the week of the year of the given date. A week is considered to start on a Monday and week 1 is the first week with >3 days.|\n",
      "+--------------------------------------------------------------------------------------------------------------------------------------------------------------+\n",
      "\n"
     ]
    }
   ],
   "source": [
    "spark.sql(\"DESCRIBE FUNCTION weekofyear\").show(false)"
   ]
  },
  {
   "cell_type": "code",
   "execution_count": 49,
   "metadata": {},
   "outputs": [
    {
     "name": "stdout",
     "output_type": "stream",
     "text": [
      "+---------------------------------------------------------------------+\n",
      "|function_desc                                                        |\n",
      "+---------------------------------------------------------------------+\n",
      "|Function: year                                                       |\n",
      "|Class: org.apache.spark.sql.catalyst.expressions.Year                |\n",
      "|Usage: year(date) - Returns the year component of the date/timestamp.|\n",
      "+---------------------------------------------------------------------+\n",
      "\n"
     ]
    }
   ],
   "source": [
    "spark.sql(\"DESCRIBE FUNCTION year\").show(false)"
   ]
  },
  {
   "cell_type": "markdown",
   "metadata": {},
   "source": [
    "* Let us see the usage of the functions such as day, dayofmonth, month, weekofyear, year etc."
   ]
  },
  {
   "cell_type": "code",
   "execution_count": 50,
   "metadata": {},
   "outputs": [
    {
     "data": {
      "text/plain": [
       "+----+\n",
       "|year|\n",
       "+----+\n",
       "|2022|\n",
       "+----+\n",
       "\n"
      ]
     },
     "execution_count": 50,
     "metadata": {},
     "output_type": "execute_result"
    }
   ],
   "source": [
    "%%sql\n",
    "\n",
    "SELECT year(current_date) AS year"
   ]
  },
  {
   "cell_type": "code",
   "execution_count": 51,
   "metadata": {},
   "outputs": [
    {
     "data": {
      "text/plain": [
       "+-----+\n",
       "|month|\n",
       "+-----+\n",
       "|    5|\n",
       "+-----+\n",
       "\n"
      ]
     },
     "execution_count": 51,
     "metadata": {},
     "output_type": "execute_result"
    }
   ],
   "source": [
    "%%sql\n",
    "\n",
    "SELECT month(current_date) AS month"
   ]
  },
  {
   "cell_type": "code",
   "execution_count": 52,
   "metadata": {},
   "outputs": [
    {
     "data": {
      "text/plain": [
       "+----------+\n",
       "|weekofyear|\n",
       "+----------+\n",
       "|        22|\n",
       "+----------+\n",
       "\n"
      ]
     },
     "execution_count": 52,
     "metadata": {},
     "output_type": "execute_result"
    }
   ],
   "source": [
    "%%sql\n",
    "\n",
    "SELECT weekofyear(current_date) AS weekofyear"
   ]
  },
  {
   "cell_type": "code",
   "execution_count": 53,
   "metadata": {},
   "outputs": [
    {
     "data": {
      "text/plain": [
       "+---+\n",
       "|day|\n",
       "+---+\n",
       "| 31|\n",
       "+---+\n",
       "\n"
      ]
     },
     "execution_count": 53,
     "metadata": {},
     "output_type": "execute_result"
    }
   ],
   "source": [
    "%%sql\n",
    "\n",
    "SELECT day(current_date) AS day"
   ]
  },
  {
   "cell_type": "code",
   "execution_count": 54,
   "metadata": {},
   "outputs": [
    {
     "data": {
      "text/plain": [
       "+----------+\n",
       "|dayofmonth|\n",
       "+----------+\n",
       "|        31|\n",
       "+----------+\n",
       "\n"
      ]
     },
     "execution_count": 54,
     "metadata": {},
     "output_type": "execute_result"
    }
   ],
   "source": [
    "%%sql\n",
    "\n",
    "SELECT dayofmonth(current_date) AS dayofmonth"
   ]
  },
  {
   "cell_type": "markdown",
   "metadata": {},
   "source": [
    "### Dealing with Unix Timestamp\n",
    "\n",
    "Let us go through the functions that can be used to deal with Unix Timestamp.\n",
    "\n",
    "* `from_unixtime` can be used to convert Unix epoch to regular timestamp.\n",
    "* `unix_timestamp` or `to_unix_timestamp` can be used to convert timestamp to Unix epoch.\n",
    "* We can get Unix epoch or Unix timestamp by running `date '+%s'` in Unix/Linux terminal\n",
    "* We can DESCRIBE on the above functions to get details about them.\n",
    "\n",
    "Let us sww how we can use functions such as `from_unixtime`, `unix_timestamp` or `to_unix_timestamp` to convert between timestamp and Unix timestamp or epoch.\n",
    "\n",
    "* We can unix epoch in Unix/Linux terminal using `date '+%s'`"
   ]
  },
  {
   "cell_type": "code",
   "execution_count": 55,
   "metadata": {},
   "outputs": [
    {
     "data": {
      "text/plain": [
       "+-------------------+\n",
       "|          timestamp|\n",
       "+-------------------+\n",
       "|2019-04-30 18:18:51|\n",
       "+-------------------+\n",
       "\n"
      ]
     },
     "execution_count": 55,
     "metadata": {},
     "output_type": "execute_result"
    }
   ],
   "source": [
    "%%sql\n",
    "\n",
    "SELECT from_unixtime(1556662731) AS timestamp"
   ]
  },
  {
   "cell_type": "code",
   "execution_count": 56,
   "metadata": {},
   "outputs": [
    {
     "data": {
      "text/plain": [
       "+----------+\n",
       "|  unixtime|\n",
       "+----------+\n",
       "|1556662731|\n",
       "+----------+\n",
       "\n"
      ]
     },
     "execution_count": 56,
     "metadata": {},
     "output_type": "execute_result"
    }
   ],
   "source": [
    "%%sql\n",
    "\n",
    "SELECT to_unix_timestamp('2019-04-30 18:18:51') AS unixtime"
   ]
  },
  {
   "cell_type": "code",
   "execution_count": 57,
   "metadata": {},
   "outputs": [
    {
     "data": {
      "text/plain": [
       "+------+\n",
       "| month|\n",
       "+------+\n",
       "|201904|\n",
       "+------+\n",
       "\n"
      ]
     },
     "execution_count": 57,
     "metadata": {},
     "output_type": "execute_result"
    }
   ],
   "source": [
    "%%sql\n",
    "\n",
    "SELECT from_unixtime(1556662731, 'yyyyMM') AS month"
   ]
  },
  {
   "cell_type": "code",
   "execution_count": 58,
   "metadata": {},
   "outputs": [
    {
     "data": {
      "text/plain": [
       "+----------+\n",
       "|      date|\n",
       "+----------+\n",
       "|2019-04-30|\n",
       "+----------+\n",
       "\n"
      ]
     },
     "execution_count": 58,
     "metadata": {},
     "output_type": "execute_result"
    }
   ],
   "source": [
    "%%sql\n",
    "\n",
    "SELECT from_unixtime(1556662731, 'yyyy-MM-dd') AS date"
   ]
  },
  {
   "cell_type": "code",
   "execution_count": 59,
   "metadata": {},
   "outputs": [
    {
     "data": {
      "text/plain": [
       "+----------------+\n",
       "|       timestamp|\n",
       "+----------------+\n",
       "|2019-04-30 18:18|\n",
       "+----------------+\n",
       "\n"
      ]
     },
     "execution_count": 59,
     "metadata": {},
     "output_type": "execute_result"
    }
   ],
   "source": [
    "%%sql\n",
    "\n",
    "SELECT from_unixtime(1556662731, 'yyyy-MM-dd HH:mm') AS timestamp"
   ]
  },
  {
   "cell_type": "code",
   "execution_count": 60,
   "metadata": {},
   "outputs": [
    {
     "data": {
      "text/plain": [
       "+----------------+\n",
       "|       timestamp|\n",
       "+----------------+\n",
       "|2019-04-30 06:18|\n",
       "+----------------+\n",
       "\n"
      ]
     },
     "execution_count": 60,
     "metadata": {},
     "output_type": "execute_result"
    }
   ],
   "source": [
    "%%sql\n",
    "\n",
    "SELECT from_unixtime(1556662731, 'yyyy-MM-dd hh:mm') AS timestamp"
   ]
  },
  {
   "cell_type": "code",
   "execution_count": 61,
   "metadata": {},
   "outputs": [
    {
     "data": {
      "text/plain": [
       "+----------+\n",
       "|      date|\n",
       "+----------+\n",
       "|1556596800|\n",
       "+----------+\n",
       "\n"
      ]
     },
     "execution_count": 61,
     "metadata": {},
     "output_type": "execute_result"
    }
   ],
   "source": [
    "%%sql\n",
    "\n",
    "SELECT to_unix_timestamp('20190430 18:18:51', 'yyyyMMdd') AS date"
   ]
  },
  {
   "cell_type": "code",
   "execution_count": 62,
   "metadata": {},
   "outputs": [
    {
     "data": {
      "text/plain": [
       "+----------+\n",
       "| timestamp|\n",
       "+----------+\n",
       "|1556662731|\n",
       "+----------+\n",
       "\n"
      ]
     },
     "execution_count": 62,
     "metadata": {},
     "output_type": "execute_result"
    }
   ],
   "source": [
    "%%sql\n",
    "\n",
    "SELECT to_unix_timestamp('20190430 18:18:51', 'yyyyMMdd HH:mm:ss') AS timestamp"
   ]
  },
  {
   "cell_type": "code",
   "execution_count": 65,
   "metadata": {},
   "outputs": [
    {
     "data": {
      "text/plain": [
       "+----------+\n",
       "|      date|\n",
       "+----------+\n",
       "|2022-05-31|\n",
       "+----------+\n",
       "\n"
      ]
     },
     "execution_count": 65,
     "metadata": {},
     "output_type": "execute_result"
    }
   ],
   "source": [
    "%%sql\n",
    "select from_unixtime(1654008236,'yyyy-MM-dd') as date"
   ]
  },
  {
   "cell_type": "code",
   "execution_count": null,
   "metadata": {},
   "outputs": [],
   "source": []
  }
 ],
 "metadata": {
  "kernelspec": {
   "display_name": "Spark 2 - Scala",
   "language": "scala",
   "name": "spark_2_scala"
  },
  "language_info": {
   "codemirror_mode": "text/x-scala",
   "file_extension": ".scala",
   "mimetype": "text/x-scala",
   "name": "scala",
   "pygments_lexer": "scala",
   "version": "2.11.12"
  }
 },
 "nbformat": 4,
 "nbformat_minor": 4
}
