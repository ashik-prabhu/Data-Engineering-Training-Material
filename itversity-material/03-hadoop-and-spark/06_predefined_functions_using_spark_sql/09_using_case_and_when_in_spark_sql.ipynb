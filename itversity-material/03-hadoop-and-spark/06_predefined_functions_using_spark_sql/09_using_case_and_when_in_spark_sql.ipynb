{
 "cells": [
  {
   "cell_type": "markdown",
   "metadata": {},
   "source": [
    "## Using CASE and WHEN\n",
    "At times we might have to select values from multiple columns conditionally."
   ]
  },
  {
   "cell_type": "markdown",
   "metadata": {},
   "source": [
    "Let us start spark context for this Notebook so that we can execute the code provided. You can sign up for our [10 node state of the art cluster/labs](https://labs.itversity.com/plans) to learn Spark SQL using our unique integrated LMS."
   ]
  },
  {
   "cell_type": "code",
   "execution_count": 1,
   "metadata": {},
   "outputs": [
    {
     "data": {
      "text/plain": [
       "username = itv002461\n"
      ]
     },
     "metadata": {},
     "output_type": "display_data",
     "source": "user"
    },
    {
     "data": {
      "text/plain": [
       "itv002461"
      ]
     },
     "execution_count": 1,
     "metadata": {},
     "output_type": "execute_result"
    }
   ],
   "source": [
    "val username = System.getProperty(\"user.name\")"
   ]
  },
  {
   "cell_type": "code",
   "execution_count": 2,
   "metadata": {},
   "outputs": [
    {
     "data": {
      "text/plain": [
       "username = itv002461\n",
       "spark = org.apache.spark.sql.SparkSession@df0e753\n"
      ]
     },
     "metadata": {},
     "output_type": "display_data",
     "source": "user"
    },
    {
     "data": {
      "text/plain": [
       "org.apache.spark.sql.SparkSession@df0e753"
      ]
     },
     "execution_count": 2,
     "metadata": {},
     "output_type": "execute_result"
    }
   ],
   "source": [
    "import org.apache.spark.sql.SparkSession\n",
    "\n",
    "val username = System.getProperty(\"user.name\")\n",
    "val spark = SparkSession.\n",
    "    builder.\n",
    "    config(\"spark.ui.port\", \"0\").\n",
    "    config(\"spark.sql.warehouse.dir\", s\"/user/${username}/warehouse\").\n",
    "    enableHiveSupport.\n",
    "    appName(s\"${username} | Spark SQL - Predefined Functions\").\n",
    "    master(\"yarn\").\n",
    "    getOrCreate"
   ]
  },
  {
   "cell_type": "markdown",
   "metadata": {},
   "source": [
    "If you are going to use CLIs, you can use Spark SQL using one of the 3 approaches.\n",
    "\n",
    "**Using Spark SQL**\n",
    "\n",
    "```\n",
    "spark2-sql \\\n",
    "    --master yarn \\\n",
    "    --conf spark.ui.port=0 \\\n",
    "    --conf spark.sql.warehouse.dir=/user/${USER}/warehouse\n",
    "```\n",
    "\n",
    "**Using Scala**\n",
    "\n",
    "```\n",
    "spark2-shell \\\n",
    "    --master yarn \\\n",
    "    --conf spark.ui.port=0 \\\n",
    "    --conf spark.sql.warehouse.dir=/user/${USER}/warehouse\n",
    "```\n",
    "\n",
    "**Using Pyspark**\n",
    "\n",
    "```\n",
    "pyspark2 \\\n",
    "    --master yarn \\\n",
    "    --conf spark.ui.port=0 \\\n",
    "    --conf spark.sql.warehouse.dir=/user/${USER}/warehouse\n",
    "```"
   ]
  },
  {
   "cell_type": "markdown",
   "metadata": {},
   "source": [
    "* We can use `CASE` and `WHEN` for that.\n",
    "* Let us implement this conditional logic to come up with derived order_status.\n",
    "  * If order_status is COMPLETE or CLOSED, set COMPLETED\n",
    "  * If order_status have PENDING in it, then we will say PENDING\n",
    "  * If order_status have PROCESSING or PAYMENT_REVIEW in it, then we will say PENDING\n",
    "  * We will set all others as OTHER\n",
    "* We can also have `ELSE` as part of `CASE` and `WHEN`."
   ]
  },
  {
   "cell_type": "code",
   "execution_count": 3,
   "metadata": {},
   "outputs": [
    {
     "data": {
      "text/plain": [
       "Waiting for a Spark session to start..."
      ]
     },
     "metadata": {},
     "output_type": "display_data",
     "source": "user"
    },
    {
     "data": {
      "text/plain": [
       "++\n",
       "||\n",
       "++\n",
       "++\n",
       "\n"
      ]
     },
     "execution_count": 3,
     "metadata": {},
     "output_type": "execute_result"
    }
   ],
   "source": [
    "%%sql\n",
    "\n",
    "USE itv002461_retail"
   ]
  },
  {
   "cell_type": "code",
   "execution_count": 4,
   "metadata": {},
   "outputs": [
    {
     "data": {
      "text/plain": [
       "+----------------+--------------------+--...\n"
      ]
     },
     "metadata": {},
     "output_type": "display_data",
     "source": "user"
    },
    {
     "data": {
      "text/plain": [
       "+----------------+--------------------+-----------+\n",
       "|        database|           tableName|isTemporary|\n",
       "+----------------+--------------------+-----------+\n",
       "|itv002461_retail|          categories|      false|\n",
       "|itv002461_retail|           customers|      false|\n",
       "|itv002461_retail|         departments|      false|\n",
       "|itv002461_retail|                dual|      false|\n",
       "|itv002461_retail|         order_items|      false|\n",
       "|itv002461_retail|   order_items_stage|      false|\n",
       "|itv002461_retail|              orders|      false|\n",
       "|itv002461_retail|         orders_part|      false|\n",
       "|itv002461_retail|orders_single_column|      false|\n",
       "|itv002461_retail|            products|      false|\n",
       "+----------------+--------------------+-----------+\n",
       "only showing top 10 rows\n",
       "\n"
      ]
     },
     "execution_count": 4,
     "metadata": {},
     "output_type": "execute_result"
    }
   ],
   "source": [
    "%%sql\n",
    "\n",
    "SHOW tables"
   ]
  },
  {
   "cell_type": "code",
   "execution_count": 5,
   "metadata": {},
   "outputs": [
    {
     "data": {
      "text/plain": [
       "+---------------+\n",
       "|   order_status|\n",
       "+---------------+\n",
       "|PENDING_PAYMENT|\n",
       "|       COMPLETE|\n",
       "|        ON_HOLD|\n",
       "| PAYMENT_REVIEW|\n",
       "|     PROCESSING|\n",
       "|         CLOSED|\n",
       "|SUSPECTED_FRAUD|\n",
       "|        PENDING|\n",
       "|       CANCELED|\n",
       "+---------------+\n",
       "\n"
      ]
     },
     "execution_count": 5,
     "metadata": {},
     "output_type": "execute_result"
    }
   ],
   "source": [
    "%%sql\n",
    "\n",
    "SELECT DISTINCT order_status FROM orders LIMIT 10"
   ]
  },
  {
   "cell_type": "code",
   "execution_count": 7,
   "metadata": {},
   "outputs": [
    {
     "data": {
      "text/plain": [
       "|       6|2013-07-25 ...\n"
      ]
     },
     "metadata": {},
     "output_type": "display_data",
     "source": "user"
    },
    {
     "data": {
      "text/plain": [
       "+--------+--------------------+-----------------+---------------+--------------------+\n",
       "|order_id|          order_date|order_customer_id|   order_status|updated_order_status|\n",
       "+--------+--------------------+-----------------+---------------+--------------------+\n",
       "|       1|2013-07-25 00:00:...|            11599|         CLOSED|           COMPLETED|\n",
       "|       2|2013-07-25 00:00:...|              256|PENDING_PAYMENT|                null|\n",
       "|       3|2013-07-25 00:00:...|            12111|       COMPLETE|           COMPLETED|\n",
       "|       4|2013-07-25 00:00:...|             8827|         CLOSED|           COMPLETED|\n",
       "|       5|2013-07-25 00:00:...|            11318|       COMPLETE|           COMPLETED|\n",
       "|       6|2013-07-25 00:00:...|             7130|       COMPLETE|           COMPLETED|\n",
       "|       7|2013-07-25 00:00:...|             4530|       COMPLETE|           COMPLETED|\n",
       "|       8|2013-07-25 00:00:...|             2911|     PROCESSING|                null|\n",
       "|       9|2013-07-25 00:00:...|             5657|PENDING_PAYMENT|                null|\n",
       "|      10|2013-07-25 00:00:...|             5648|PENDING_PAYMENT|                null|\n",
       "+--------+--------------------+-----------------+---------------+--------------------+\n",
       "\n"
      ]
     },
     "execution_count": 7,
     "metadata": {},
     "output_type": "execute_result"
    }
   ],
   "source": [
    "%%sql\n",
    "\n",
    "SELECT o.*,\n",
    "    CASE WHEN order_status IN ('COMPLETE', 'CLOSED') THEN 'COMPLETED'\n",
    "    END AS updated_order_status\n",
    "FROM orders o\n",
    "LIMIT 10"
   ]
  },
  {
   "cell_type": "code",
   "execution_count": 8,
   "metadata": {},
   "outputs": [
    {
     "data": {
      "text/plain": [
       "|   34570|2014-02-23 ...\n"
      ]
     },
     "metadata": {},
     "output_type": "display_data",
     "source": "user"
    },
    {
     "data": {
      "text/plain": [
       "+--------+--------------------+-----------------+---------------+--------------------+\n",
       "|order_id|          order_date|order_customer_id|   order_status|updated_order_status|\n",
       "+--------+--------------------+-----------------+---------------+--------------------+\n",
       "|   34565|2014-02-23 00:00:...|             8702|       COMPLETE|           COMPLETED|\n",
       "|   34566|2014-02-23 00:00:...|             3066|PENDING_PAYMENT|     PENDING_PAYMENT|\n",
       "|   34567|2014-02-23 00:00:...|             7314|SUSPECTED_FRAUD|     SUSPECTED_FRAUD|\n",
       "|   34568|2014-02-23 00:00:...|             1271|       COMPLETE|           COMPLETED|\n",
       "|   34569|2014-02-23 00:00:...|            11083|       COMPLETE|           COMPLETED|\n",
       "|   34570|2014-02-23 00:00:...|             3159|         CLOSED|           COMPLETED|\n",
       "|   34571|2014-02-23 00:00:...|             4551|         CLOSED|           COMPLETED|\n",
       "|   34572|2014-02-23 00:00:...|             8135|        PENDING|             PENDING|\n",
       "|   34573|2014-02-23 00:00:...|             7497|PENDING_PAYMENT|     PENDING_PAYMENT|\n",
       "|   34574|2014-02-23 00:00:...|             1868|        ON_HOLD|             ON_HOLD|\n",
       "+--------+--------------------+-----------------+---------------+--------------------+\n",
       "\n"
      ]
     },
     "execution_count": 8,
     "metadata": {},
     "output_type": "execute_result"
    }
   ],
   "source": [
    "%%sql\n",
    "\n",
    "SELECT o.*,\n",
    "    CASE WHEN order_status IN ('COMPLETE', 'CLOSED') THEN 'COMPLETED'\n",
    "    ELSE order_status\n",
    "    END AS updated_order_status\n",
    "FROM orders o\n",
    "LIMIT 10"
   ]
  },
  {
   "cell_type": "code",
   "execution_count": 9,
   "metadata": {},
   "outputs": [
    {
     "data": {
      "text/plain": [
       "|       6|2013-07-25 ...\n"
      ]
     },
     "metadata": {},
     "output_type": "display_data",
     "source": "user"
    },
    {
     "data": {
      "text/plain": [
       "+--------+--------------------+-----------------+---------------+--------------------+\n",
       "|order_id|          order_date|order_customer_id|   order_status|updated_order_status|\n",
       "+--------+--------------------+-----------------+---------------+--------------------+\n",
       "|       1|2013-07-25 00:00:...|            11599|         CLOSED|           COMPLETED|\n",
       "|       2|2013-07-25 00:00:...|              256|PENDING_PAYMENT|             PENDING|\n",
       "|       3|2013-07-25 00:00:...|            12111|       COMPLETE|           COMPLETED|\n",
       "|       4|2013-07-25 00:00:...|             8827|         CLOSED|           COMPLETED|\n",
       "|       5|2013-07-25 00:00:...|            11318|       COMPLETE|           COMPLETED|\n",
       "|       6|2013-07-25 00:00:...|             7130|       COMPLETE|           COMPLETED|\n",
       "|       7|2013-07-25 00:00:...|             4530|       COMPLETE|           COMPLETED|\n",
       "|       8|2013-07-25 00:00:...|             2911|     PROCESSING|               OTHER|\n",
       "|       9|2013-07-25 00:00:...|             5657|PENDING_PAYMENT|             PENDING|\n",
       "|      10|2013-07-25 00:00:...|             5648|PENDING_PAYMENT|             PENDING|\n",
       "+--------+--------------------+-----------------+---------------+--------------------+\n",
       "\n"
      ]
     },
     "execution_count": 9,
     "metadata": {},
     "output_type": "execute_result"
    }
   ],
   "source": [
    "%%sql\n",
    "\n",
    "SELECT o.*,\n",
    "    CASE \n",
    "        WHEN order_status IN ('COMPLETE', 'CLOSED') THEN 'COMPLETED'\n",
    "        WHEN order_status LIKE '%PENDING%' THEN 'PENDING'\n",
    "        ELSE 'OTHER'\n",
    "    END AS updated_order_status\n",
    "FROM orders o\n",
    "LIMIT 10"
   ]
  },
  {
   "cell_type": "code",
   "execution_count": 10,
   "metadata": {},
   "outputs": [
    {
     "data": {
      "text/plain": [
       "|   34570|2014-02-23 ...\n"
      ]
     },
     "metadata": {},
     "output_type": "display_data",
     "source": "user"
    },
    {
     "data": {
      "text/plain": [
       "+--------+--------------------+-----------------+---------------+--------------------+\n",
       "|order_id|          order_date|order_customer_id|   order_status|updated_order_status|\n",
       "+--------+--------------------+-----------------+---------------+--------------------+\n",
       "|   34565|2014-02-23 00:00:...|             8702|       COMPLETE|           COMPLETED|\n",
       "|   34566|2014-02-23 00:00:...|             3066|PENDING_PAYMENT|             PENDING|\n",
       "|   34567|2014-02-23 00:00:...|             7314|SUSPECTED_FRAUD|               OTHER|\n",
       "|   34568|2014-02-23 00:00:...|             1271|       COMPLETE|           COMPLETED|\n",
       "|   34569|2014-02-23 00:00:...|            11083|       COMPLETE|           COMPLETED|\n",
       "|   34570|2014-02-23 00:00:...|             3159|         CLOSED|           COMPLETED|\n",
       "|   34571|2014-02-23 00:00:...|             4551|         CLOSED|           COMPLETED|\n",
       "|   34572|2014-02-23 00:00:...|             8135|        PENDING|             PENDING|\n",
       "|   34573|2014-02-23 00:00:...|             7497|PENDING_PAYMENT|             PENDING|\n",
       "|   34574|2014-02-23 00:00:...|             1868|        ON_HOLD|               OTHER|\n",
       "+--------+--------------------+-----------------+---------------+--------------------+\n",
       "\n"
      ]
     },
     "execution_count": 10,
     "metadata": {},
     "output_type": "execute_result"
    }
   ],
   "source": [
    "%%sql\n",
    "\n",
    "SELECT o.*,\n",
    "    CASE \n",
    "        WHEN order_status IN ('COMPLETE', 'CLOSED') THEN 'COMPLETED'\n",
    "        WHEN order_status LIKE '%PENDING%' OR order_status IN ('PROCESSING', 'PAYMENT_REVIEW')\n",
    "            THEN 'PENDING'\n",
    "        ELSE 'OTHER'\n",
    "    END AS updated_order_status\n",
    "FROM orders o\n",
    "LIMIT 10"
   ]
  },
  {
   "cell_type": "code",
   "execution_count": 11,
   "metadata": {},
   "outputs": [
    {
     "data": {
      "text/plain": [
       "+---------------+--------------------+\n",
       "|   order_status|updated_order_status|\n",
       "+---------------+--------------------+\n",
       "|       COMPLETE|           COMPLETED|\n",
       "|         CLOSED|           COMPLETED|\n",
       "|        ON_HOLD|               OTHER|\n",
       "|SUSPECTED_FRAUD|               OTHER|\n",
       "|       CANCELED|               OTHER|\n",
       "|PENDING_PAYMENT|             PENDING|\n",
       "| PAYMENT_REVIEW|             PENDING|\n",
       "|     PROCESSING|             PENDING|\n",
       "|        PENDING|             PENDING|\n",
       "+---------------+--------------------+\n",
       "\n"
      ]
     },
     "execution_count": 11,
     "metadata": {},
     "output_type": "execute_result"
    }
   ],
   "source": [
    "%%sql\n",
    "\n",
    "SELECT DISTINCT order_status,\n",
    "    CASE \n",
    "        WHEN order_status IN ('COMPLETE', 'CLOSED') THEN 'COMPLETED'\n",
    "        WHEN order_status LIKE '%PENDING%' OR order_status IN ('PROCESSING', 'PAYMENT_REVIEW')\n",
    "            THEN 'PENDING'\n",
    "        ELSE 'OTHER'\n",
    "    END AS updated_order_status\n",
    "FROM orders\n",
    "ORDER BY updated_order_status"
   ]
  },
  {
   "cell_type": "code",
   "execution_count": null,
   "metadata": {},
   "outputs": [],
   "source": []
  }
 ],
 "metadata": {
  "kernelspec": {
   "display_name": "Spark 2 - Scala",
   "language": "scala",
   "name": "spark_2_scala"
  },
  "language_info": {
   "codemirror_mode": "text/x-scala",
   "file_extension": ".scala",
   "mimetype": "text/x-scala",
   "name": "scala",
   "pygments_lexer": "scala",
   "version": "2.11.12"
  }
 },
 "nbformat": 4,
 "nbformat_minor": 4
}
