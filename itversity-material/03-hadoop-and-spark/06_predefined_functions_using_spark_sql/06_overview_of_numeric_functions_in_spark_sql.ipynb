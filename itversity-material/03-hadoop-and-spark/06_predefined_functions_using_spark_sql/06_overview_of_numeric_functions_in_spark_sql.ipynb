{
 "cells": [
  {
   "cell_type": "markdown",
   "metadata": {},
   "source": [
    "## Overview of Numeric Functions\n",
    "\n",
    "Here are some of the numeric functions we might use quite often."
   ]
  },
  {
   "cell_type": "markdown",
   "metadata": {},
   "source": [
    "Let us start spark context for this Notebook so that we can execute the code provided. You can sign up for our [10 node state of the art cluster/labs](https://labs.itversity.com/plans) to learn Spark SQL using our unique integrated LMS."
   ]
  },
  {
   "cell_type": "code",
   "execution_count": 1,
   "metadata": {},
   "outputs": [
    {
     "data": {
      "text/plain": [
       "username = itv002461\n"
      ]
     },
     "metadata": {},
     "output_type": "display_data",
     "source": "user"
    },
    {
     "data": {
      "text/plain": [
       "itv002461"
      ]
     },
     "execution_count": 1,
     "metadata": {},
     "output_type": "execute_result"
    }
   ],
   "source": [
    "val username = System.getProperty(\"user.name\")"
   ]
  },
  {
   "cell_type": "code",
   "execution_count": 2,
   "metadata": {},
   "outputs": [
    {
     "data": {
      "text/plain": [
       "username = itv002461\n",
       "spark = org.apache.spark.sql.SparkSession@41c39fb6\n"
      ]
     },
     "metadata": {},
     "output_type": "display_data",
     "source": "user"
    },
    {
     "data": {
      "text/plain": [
       "org.apache.spark.sql.SparkSession@41c39fb6"
      ]
     },
     "execution_count": 2,
     "metadata": {},
     "output_type": "execute_result"
    }
   ],
   "source": [
    "import org.apache.spark.sql.SparkSession\n",
    "\n",
    "val username = System.getProperty(\"user.name\")\n",
    "val spark = SparkSession.\n",
    "    builder.\n",
    "    config(\"spark.ui.port\", \"0\").\n",
    "    config(\"spark.sql.warehouse.dir\", s\"/user/${username}/warehouse\").\n",
    "    enableHiveSupport.\n",
    "    appName(s\"${username} | Spark SQL - Predefined Functions\").\n",
    "    master(\"yarn\").\n",
    "    getOrCreate"
   ]
  },
  {
   "cell_type": "markdown",
   "metadata": {},
   "source": [
    "If you are going to use CLIs, you can use Spark SQL using one of the 3 approaches.\n",
    "\n",
    "**Using Spark SQL**\n",
    "\n",
    "```\n",
    "spark2-sql \\\n",
    "    --master yarn \\\n",
    "    --conf spark.ui.port=0 \\\n",
    "    --conf spark.sql.warehouse.dir=/user/${USER}/warehouse\n",
    "```\n",
    "\n",
    "**Using Scala**\n",
    "\n",
    "```\n",
    "spark2-shell \\\n",
    "    --master yarn \\\n",
    "    --conf spark.ui.port=0 \\\n",
    "    --conf spark.sql.warehouse.dir=/user/${USER}/warehouse\n",
    "```\n",
    "\n",
    "**Using Pyspark**\n",
    "\n",
    "```\n",
    "pyspark2 \\\n",
    "    --master yarn \\\n",
    "    --conf spark.ui.port=0 \\\n",
    "    --conf spark.sql.warehouse.dir=/user/${USER}/warehouse\n",
    "```"
   ]
  },
  {
   "cell_type": "markdown",
   "metadata": {},
   "source": [
    "* `abs` - always return positive number\n",
    "* `sum`, `avg`\n",
    "* `round` - rounds off to specified precision\n",
    "* `ceil`, `floor` - always return integer.\n",
    "* `greatest`\n",
    "* `min`, `max`\n",
    "* `rand`\n",
    "* `pow`, `sqrt`\n",
    "* `cumedist`, `stddev`, `variance`\n",
    "\n",
    "Some of the functions highlighted are aggregate functions, eg: `sum`, `avg`, `min`, `max` etc."
   ]
  },
  {
   "cell_type": "code",
   "execution_count": 3,
   "metadata": {},
   "outputs": [
    {
     "data": {
      "text/plain": [
       "Waiting for a Spark session to start..."
      ]
     },
     "metadata": {},
     "output_type": "display_data",
     "source": "user"
    },
    {
     "data": {
      "text/plain": [
       "+----------+-------+\n",
       "|abs(-10.5)|abs(10)|\n",
       "+----------+-------+\n",
       "|      10.5|     10|\n",
       "+----------+-------+\n",
       "\n"
      ]
     },
     "execution_count": 3,
     "metadata": {},
     "output_type": "execute_result"
    }
   ],
   "source": [
    "%%sql\n",
    "\n",
    "SELECT abs(-10.5), abs(10)"
   ]
  },
  {
   "cell_type": "code",
   "execution_count": 4,
   "metadata": {},
   "outputs": [
    {
     "data": {
      "text/plain": [
       "++\n",
       "||\n",
       "++\n",
       "++\n",
       "\n"
      ]
     },
     "execution_count": 4,
     "metadata": {},
     "output_type": "execute_result"
    }
   ],
   "source": [
    "%%sql\n",
    "\n",
    "USE itv002461_retail"
   ]
  },
  {
   "cell_type": "code",
   "execution_count": 5,
   "metadata": {},
   "outputs": [
    {
     "data": {
      "text/plain": [
       "+----------------+-----------------+-----------+\n",
       "|        database|        tableName|isTemporary|\n",
       "+----------------+-----------------+-----------+\n",
       "|itv002461_retail|       categories|      false|\n",
       "|itv002461_retail|        customers|      false|\n",
       "|itv002461_retail|      departments|      false|\n",
       "|itv002461_retail|             dual|      false|\n",
       "|itv002461_retail|      order_items|      false|\n",
       "|itv002461_retail|order_items_stage|      false|\n",
       "|itv002461_retail|           orders|      false|\n",
       "|itv002461_retail|      orders_part|      false|\n",
       "|itv002461_retail|         products|      false|\n",
       "+----------------+-----------------+-----------+\n",
       "\n"
      ]
     },
     "execution_count": 5,
     "metadata": {},
     "output_type": "execute_result"
    }
   ],
   "source": [
    "%%sql\n",
    "\n",
    "SHOW tables"
   ]
  },
  {
   "cell_type": "code",
   "execution_count": 6,
   "metadata": {},
   "outputs": [
    {
     "data": {
      "text/plain": [
       "+-------------------+-------------------+\n",
       "|order_item_order_id|order_item_subtotal|\n",
       "+-------------------+-------------------+\n",
       "|                  2|             199.99|\n",
       "|                  2|              250.0|\n",
       "|                  2|             129.99|\n",
       "+-------------------+-------------------+\n",
       "\n"
      ]
     },
     "execution_count": 6,
     "metadata": {},
     "output_type": "execute_result"
    }
   ],
   "source": [
    "%%sql\n",
    "\n",
    "SELECT order_item_order_id, order_item_subtotal FROM order_items\n",
    "WHERE order_item_order_id = 2"
   ]
  },
  {
   "cell_type": "code",
   "execution_count": 7,
   "metadata": {},
   "outputs": [
    {
     "data": {
      "text/plain": [
       "+------------------+\n",
       "| order_revenue_avg|\n",
       "+------------------+\n",
       "|193.32667032877603|\n",
       "+------------------+\n",
       "\n"
      ]
     },
     "execution_count": 7,
     "metadata": {},
     "output_type": "execute_result"
    }
   ],
   "source": [
    "%%sql\n",
    "\n",
    "SELECT avg(order_item_subtotal) AS order_revenue_avg FROM order_items\n",
    "WHERE order_item_order_id = 2"
   ]
  },
  {
   "cell_type": "code",
   "execution_count": 8,
   "metadata": {},
   "outputs": [
    {
     "data": {
      "text/plain": [
       "+-------------------+------------------+\n",
       "|order_item_order_id| order_revenue_avg|\n",
       "+-------------------+------------------+\n",
       "|                148|159.99666849772134|\n",
       "|                463|207.48000240325928|\n",
       "|                471| 84.99000358581543|\n",
       "|                496|  88.3900016784668|\n",
       "|               1088|124.98500442504883|\n",
       "|               1580|299.95001220703125|\n",
       "|               1591|146.61999893188477|\n",
       "|               1645| 301.9580047607422|\n",
       "|               2366| 299.9700012207031|\n",
       "|               2659|144.98200302124025|\n",
       "+-------------------+------------------+\n",
       "\n"
      ]
     },
     "execution_count": 8,
     "metadata": {},
     "output_type": "execute_result"
    }
   ],
   "source": [
    "%%sql\n",
    "\n",
    "SELECT order_item_order_id, \n",
    "    avg(order_item_subtotal) AS order_revenue_avg \n",
    "FROM order_items\n",
    "GROUP BY order_item_order_id\n",
    "LIMIT 10"
   ]
  },
  {
   "cell_type": "code",
   "execution_count": 9,
   "metadata": {},
   "outputs": [
    {
     "data": {
      "text/plain": [
       "+-------------------+-----------------+\n",
       "|order_item_order_id|order_revenue_sum|\n",
       "+-------------------+-----------------+\n",
       "|              35351|629.9300231933594|\n",
       "|              35361|614.8800086975098|\n",
       "|              35689|799.8800048828125|\n",
       "|              35694|889.9400291442871|\n",
       "|              35820|949.9600219726562|\n",
       "|              35912|799.9600219726562|\n",
       "|              35947|519.9600143432617|\n",
       "|              35982|1201.820016860962|\n",
       "|              36131|554.9500122070312|\n",
       "|              36224|729.9600219726562|\n",
       "+-------------------+-----------------+\n",
       "\n"
      ]
     },
     "execution_count": 9,
     "metadata": {},
     "output_type": "execute_result"
    }
   ],
   "source": [
    "%%sql\n",
    "\n",
    "SELECT order_item_order_id, \n",
    "    sum(order_item_subtotal) AS order_revenue_sum\n",
    "FROM order_items\n",
    "GROUP BY order_item_order_id\n",
    "LIMIT 10"
   ]
  },
  {
   "cell_type": "code",
   "execution_count": 10,
   "metadata": {},
   "outputs": [
    {
     "data": {
      "text/plain": [
       "+---+---+---+\n",
       "|rnd|flr| cl|\n",
       "+---+---+---+\n",
       "| 11| 10| 11|\n",
       "+---+---+---+\n",
       "\n"
      ]
     },
     "execution_count": 10,
     "metadata": {},
     "output_type": "execute_result"
    }
   ],
   "source": [
    "%%sql\n",
    "\n",
    "SELECT\n",
    "    round(10.58) rnd,\n",
    "    floor(10.58) flr,\n",
    "    ceil(10.58) cl"
   ]
  },
  {
   "cell_type": "code",
   "execution_count": 11,
   "metadata": {},
   "outputs": [
    {
     "data": {
      "text/plain": [
       "+----+----+----+---+---+\n",
       "|rnd1|rnd1|rnd2|flr| cl|\n",
       "+----+----+----+---+---+\n",
       "|  10|10.4|10.5| 10| 11|\n",
       "+----+----+----+---+---+\n",
       "\n"
      ]
     },
     "execution_count": 11,
     "metadata": {},
     "output_type": "execute_result"
    }
   ],
   "source": [
    "%%sql\n",
    "\n",
    "SELECT\n",
    "    round(10.44) rnd1,\n",
    "    round(10.44, 1) rnd1,\n",
    "    round(10.46, 1) rnd2,\n",
    "    floor(10.44) flr,\n",
    "    ceil(10.44) cl"
   ]
  },
  {
   "cell_type": "code",
   "execution_count": 12,
   "metadata": {},
   "outputs": [
    {
     "data": {
      "text/plain": [
       "+------------------+\n",
       "| order_revenue_avg|\n",
       "+------------------+\n",
       "|193.32667032877603|\n",
       "+------------------+\n",
       "\n"
      ]
     },
     "execution_count": 12,
     "metadata": {},
     "output_type": "execute_result"
    }
   ],
   "source": [
    "%%sql\n",
    "\n",
    "SELECT avg(order_item_subtotal) AS order_revenue_avg FROM order_items\n",
    "WHERE order_item_order_id = 2"
   ]
  },
  {
   "cell_type": "code",
   "execution_count": 13,
   "metadata": {},
   "outputs": [
    {
     "data": {
      "text/plain": [
       "+-----------------+\n",
       "|order_revenue_avg|\n",
       "+-----------------+\n",
       "|           193.33|\n",
       "+-----------------+\n",
       "\n"
      ]
     },
     "execution_count": 13,
     "metadata": {},
     "output_type": "execute_result"
    }
   ],
   "source": [
    "%%sql\n",
    "\n",
    "SELECT round(avg(order_item_subtotal), 2) AS order_revenue_avg \n",
    "FROM order_items\n",
    "WHERE order_item_order_id = 2"
   ]
  },
  {
   "cell_type": "code",
   "execution_count": 14,
   "metadata": {},
   "outputs": [
    {
     "data": {
      "text/plain": [
       "+-------------------+-----------------+\n",
       "|order_item_order_id|order_revenue_avg|\n",
       "+-------------------+-----------------+\n",
       "|              35450|           193.31|\n",
       "|              35654|           112.49|\n",
       "|              35800|           129.99|\n",
       "|              35868|           132.48|\n",
       "|              36106|           167.97|\n",
       "|              36312|           239.97|\n",
       "|              36655|           189.97|\n",
       "|              36706|           349.97|\n",
       "|              36783|           206.24|\n",
       "|              36982|           279.97|\n",
       "+-------------------+-----------------+\n",
       "\n"
      ]
     },
     "execution_count": 14,
     "metadata": {},
     "output_type": "execute_result"
    }
   ],
   "source": [
    "%%sql\n",
    "\n",
    "SELECT order_item_order_id, \n",
    "    round(avg(order_item_subtotal), 2) AS order_revenue_avg \n",
    "FROM order_items\n",
    "GROUP BY order_item_order_id\n",
    "LIMIT 10"
   ]
  },
  {
   "cell_type": "code",
   "execution_count": 15,
   "metadata": {},
   "outputs": [
    {
     "data": {
      "text/plain": [
       "+-------------------+-----------------+\n",
       "|order_item_order_id|order_revenue_sum|\n",
       "+-------------------+-----------------+\n",
       "|                243|          1179.89|\n",
       "|                392|          1209.84|\n",
       "|                540|           609.93|\n",
       "|                623|           239.96|\n",
       "|                737|            49.98|\n",
       "|                858|            100.0|\n",
       "|                897|           1129.9|\n",
       "|               1025|           529.89|\n",
       "|               1084|            100.0|\n",
       "|               1127|            200.0|\n",
       "+-------------------+-----------------+\n",
       "\n"
      ]
     },
     "execution_count": 15,
     "metadata": {},
     "output_type": "execute_result"
    }
   ],
   "source": [
    "%%sql\n",
    "\n",
    "SELECT order_item_order_id, \n",
    "    round(sum(order_item_subtotal), 2) AS order_revenue_sum\n",
    "FROM order_items\n",
    "GROUP BY order_item_order_id\n",
    "LIMIT 10"
   ]
  },
  {
   "cell_type": "code",
   "execution_count": 16,
   "metadata": {},
   "outputs": [
    {
     "data": {
      "text/plain": [
       "+-------------------------+\n",
       "|greatest(10, 11, 13, -13)|\n",
       "+-------------------------+\n",
       "|                       13|\n",
       "+-------------------------+\n",
       "\n"
      ]
     },
     "execution_count": 16,
     "metadata": {},
     "output_type": "execute_result"
    }
   ],
   "source": [
    "%%sql\n",
    "\n",
    "SELECT greatest(10, 11, 13, -13)"
   ]
  },
  {
   "cell_type": "code",
   "execution_count": 17,
   "metadata": {},
   "outputs": [
    {
     "data": {
      "text/plain": [
       "+------------------+\n",
       "|              rand|\n",
       "+------------------+\n",
       "|0.7699922416258418|\n",
       "+------------------+\n",
       "\n"
      ]
     },
     "execution_count": 17,
     "metadata": {},
     "output_type": "execute_result"
    }
   ],
   "source": [
    "%%sql\n",
    "\n",
    "SELECT rand() AS rand"
   ]
  },
  {
   "cell_type": "code",
   "execution_count": 24,
   "metadata": {},
   "outputs": [
    {
     "data": {
      "text/plain": [
       "+----------+\n",
       "|random_int|\n",
       "+----------+\n",
       "|         7|\n",
       "+----------+\n",
       "\n"
      ]
     },
     "execution_count": 24,
     "metadata": {},
     "output_type": "execute_result"
    }
   ],
   "source": [
    "%%sql\n",
    "\n",
    "SELECT cast(round(rand() * 10) AS int) AS random_int"
   ]
  },
  {
   "cell_type": "code",
   "execution_count": 22,
   "metadata": {},
   "outputs": [
    {
     "data": {
      "text/plain": [
       "|            ...\n"
      ]
     },
     "metadata": {},
     "output_type": "display_data",
     "source": "user"
    },
    {
     "data": {
      "text/plain": [
       "+-------------------+-----------------+-----------------------+-----------------------+\n",
       "|order_item_order_id|order_revenue_sum|order_item_subtotal_min|order_item_subtotal_max|\n",
       "+-------------------+-----------------+-----------------------+-----------------------+\n",
       "|              35351|           629.93|                 129.99|                 239.96|\n",
       "|              35361|           614.88|                  49.98|                 179.97|\n",
       "|              35689|           799.88|                  150.0|                 399.98|\n",
       "|              35694|           889.94|                  39.99|                 299.98|\n",
       "|              35820|           949.96|                 199.99|                 299.98|\n",
       "|              35912|           799.96|                 199.99|                 199.99|\n",
       "|              35947|           519.96|                 119.98|                 399.98|\n",
       "|              35982|          1201.82|                  31.99|                 399.98|\n",
       "|              36131|           554.95|                  44.97|                  250.0|\n",
       "|              36224|           729.96|                 129.99|                 399.98|\n",
       "+-------------------+-----------------+-----------------------+-----------------------+\n",
       "\n"
      ]
     },
     "execution_count": 22,
     "metadata": {},
     "output_type": "execute_result"
    }
   ],
   "source": [
    "%%sql\n",
    "\n",
    "SELECT order_item_order_id, \n",
    "    round(sum(order_item_subtotal), 2) AS order_revenue_sum,\n",
    "    min(order_item_subtotal) AS order_item_subtotal_min,\n",
    "    max(order_item_subtotal) AS order_item_subtotal_max \n",
    "FROM order_items\n",
    "GROUP BY order_item_order_id\n",
    "LIMIT 10"
   ]
  },
  {
   "cell_type": "code",
   "execution_count": 25,
   "metadata": {},
   "outputs": [
    {
     "data": {
      "text/plain": [
       "+-------------------+-------------------+\n",
       "|order_item_order_id|order_item_subtotal|\n",
       "+-------------------+-------------------+\n",
       "|                  2|             199.99|\n",
       "|                  2|              250.0|\n",
       "|                  2|             129.99|\n",
       "+-------------------+-------------------+\n",
       "\n"
      ]
     },
     "execution_count": 25,
     "metadata": {},
     "output_type": "execute_result"
    }
   ],
   "source": [
    "%%sql\n",
    "\n",
    "SELECT order_item_order_id, order_item_subtotal\n",
    "FROM order_items\n",
    "WHERE order_item_order_id = 2"
   ]
  },
  {
   "cell_type": "code",
   "execution_count": 26,
   "metadata": {},
   "outputs": [
    {
     "data": {
      "text/plain": [
       "+-----------------+-----------------------+-----------------------+\n",
       "|order_revenue_sum|order_item_subtotal_min|order_item_subtotal_max|\n",
       "+-----------------+-----------------------+-----------------------+\n",
       "|           579.98|                 129.99|                  250.0|\n",
       "+-----------------+-----------------------+-----------------------+\n",
       "\n"
      ]
     },
     "execution_count": 26,
     "metadata": {},
     "output_type": "execute_result"
    }
   ],
   "source": [
    "%%sql\n",
    "\n",
    "SELECT round(sum(order_item_subtotal), 2) AS order_revenue_sum,\n",
    "    min(order_item_subtotal) AS order_item_subtotal_min,\n",
    "    max(order_item_subtotal) AS order_item_subtotal_max \n",
    "FROM order_items\n",
    "WHERE order_item_order_id = 2"
   ]
  },
  {
   "cell_type": "code",
   "execution_count": null,
   "metadata": {},
   "outputs": [],
   "source": []
  }
 ],
 "metadata": {
  "kernelspec": {
   "display_name": "Spark 2 - Scala",
   "language": "scala",
   "name": "spark_2_scala"
  },
  "language_info": {
   "codemirror_mode": "text/x-scala",
   "file_extension": ".scala",
   "mimetype": "text/x-scala",
   "name": "scala",
   "pygments_lexer": "scala",
   "version": "2.11.12"
  }
 },
 "nbformat": 4,
 "nbformat_minor": 4
}
