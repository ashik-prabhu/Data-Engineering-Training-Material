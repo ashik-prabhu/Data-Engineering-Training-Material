{
 "cells": [
  {
   "cell_type": "markdown",
   "metadata": {},
   "source": [
    "## Data Type Conversion\n",
    "\n",
    "Let us understand how we can type cast to change the data type of extracted value to its original type."
   ]
  },
  {
   "cell_type": "markdown",
   "metadata": {},
   "source": [
    "Let us start spark context for this Notebook so that we can execute the code provided. You can sign up for our [10 node state of the art cluster/labs](https://labs.itversity.com/plans) to learn Spark SQL using our unique integrated LMS."
   ]
  },
  {
   "cell_type": "code",
   "execution_count": 1,
   "metadata": {},
   "outputs": [
    {
     "data": {
      "text/plain": [
       "username = itv002461\n"
      ]
     },
     "metadata": {},
     "output_type": "display_data",
     "source": "user"
    },
    {
     "data": {
      "text/plain": [
       "itv002461"
      ]
     },
     "execution_count": 1,
     "metadata": {},
     "output_type": "execute_result"
    }
   ],
   "source": [
    "val username = System.getProperty(\"user.name\")"
   ]
  },
  {
   "cell_type": "code",
   "execution_count": 2,
   "metadata": {},
   "outputs": [
    {
     "data": {
      "text/plain": [
       "username = itv002461\n",
       "spark = org.apache.spark.sql.SparkSession@6785e4c2\n"
      ]
     },
     "metadata": {},
     "output_type": "display_data",
     "source": "user"
    },
    {
     "data": {
      "text/plain": [
       "org.apache.spark.sql.SparkSession@6785e4c2"
      ]
     },
     "execution_count": 2,
     "metadata": {},
     "output_type": "execute_result"
    }
   ],
   "source": [
    "import org.apache.spark.sql.SparkSession\n",
    "\n",
    "val username = System.getProperty(\"user.name\")\n",
    "val spark = SparkSession.\n",
    "    builder.\n",
    "    config(\"spark.ui.port\", \"0\").\n",
    "    config(\"spark.sql.warehouse.dir\", s\"/user/${username}/warehouse\").\n",
    "    enableHiveSupport.\n",
    "    appName(s\"${username} | Spark SQL - Predefined Functions\").\n",
    "    master(\"yarn\").\n",
    "    getOrCreate"
   ]
  },
  {
   "cell_type": "markdown",
   "metadata": {},
   "source": [
    "If you are going to use CLIs, you can use Spark SQL using one of the 3 approaches.\n",
    "\n",
    "**Using Spark SQL**\n",
    "\n",
    "```\n",
    "spark2-sql \\\n",
    "    --master yarn \\\n",
    "    --conf spark.ui.port=0 \\\n",
    "    --conf spark.sql.warehouse.dir=/user/${USER}/warehouse\n",
    "```\n",
    "\n",
    "**Using Scala**\n",
    "\n",
    "```\n",
    "spark2-shell \\\n",
    "    --master yarn \\\n",
    "    --conf spark.ui.port=0 \\\n",
    "    --conf spark.sql.warehouse.dir=/user/${USER}/warehouse\n",
    "```\n",
    "\n",
    "**Using Pyspark**\n",
    "\n",
    "```\n",
    "pyspark2 \\\n",
    "    --master yarn \\\n",
    "    --conf spark.ui.port=0 \\\n",
    "    --conf spark.sql.warehouse.dir=/user/${USER}/warehouse\n",
    "```"
   ]
  },
  {
   "cell_type": "code",
   "execution_count": 3,
   "metadata": {},
   "outputs": [
    {
     "data": {
      "text/plain": [
       "Waiting for a Spark session to start..."
      ]
     },
     "metadata": {},
     "output_type": "display_data",
     "source": "user"
    },
    {
     "data": {
      "text/plain": [
       "+------------+\n",
       "|current_date|\n",
       "+------------+\n",
       "|  2022-06-01|\n",
       "+------------+\n",
       "\n"
      ]
     },
     "execution_count": 3,
     "metadata": {},
     "output_type": "execute_result"
    }
   ],
   "source": [
    "%%sql\n",
    "\n",
    "SELECT current_date AS current_date"
   ]
  },
  {
   "cell_type": "code",
   "execution_count": 4,
   "metadata": {},
   "outputs": [
    {
     "data": {
      "text/plain": [
       "+-----+\n",
       "|month|\n",
       "+-----+\n",
       "|   06|\n",
       "+-----+\n",
       "\n"
      ]
     },
     "execution_count": 4,
     "metadata": {},
     "output_type": "execute_result"
    }
   ],
   "source": [
    "%%sql\n",
    "\n",
    "SELECT split(current_date, '-')[1] AS month"
   ]
  },
  {
   "cell_type": "code",
   "execution_count": 5,
   "metadata": {},
   "outputs": [
    {
     "data": {
      "text/plain": [
       "+-----+\n",
       "|month|\n",
       "+-----+\n",
       "|    6|\n",
       "+-----+\n",
       "\n"
      ]
     },
     "execution_count": 5,
     "metadata": {},
     "output_type": "execute_result"
    }
   ],
   "source": [
    "%%sql\n",
    "\n",
    "SELECT cast(split(current_date, '-')[1] AS INT) AS month"
   ]
  },
  {
   "cell_type": "code",
   "execution_count": 6,
   "metadata": {},
   "outputs": [
    {
     "data": {
      "text/plain": [
       "+------+\n",
       "|result|\n",
       "+------+\n",
       "|  0.04|\n",
       "+------+\n",
       "\n"
      ]
     },
     "execution_count": 6,
     "metadata": {},
     "output_type": "execute_result"
    }
   ],
   "source": [
    "%%sql\n",
    "\n",
    "SELECT cast('0.04' AS FLOAT) AS result"
   ]
  },
  {
   "cell_type": "code",
   "execution_count": 7,
   "metadata": {},
   "outputs": [
    {
     "data": {
      "text/plain": [
       "+----+\n",
       "|zero|\n",
       "+----+\n",
       "|   0|\n",
       "+----+\n",
       "\n"
      ]
     },
     "execution_count": 7,
     "metadata": {},
     "output_type": "execute_result"
    }
   ],
   "source": [
    "%%sql\n",
    "\n",
    "SELECT cast('0.04' AS INT) AS zero"
   ]
  },
  {
   "cell_type": "code",
   "execution_count": 8,
   "metadata": {},
   "outputs": [
    {
     "data": {
      "text/plain": [
       "+------------+\n",
       "|returns_null|\n",
       "+------------+\n",
       "|        null|\n",
       "+------------+\n",
       "\n"
      ]
     },
     "execution_count": 8,
     "metadata": {},
     "output_type": "execute_result"
    }
   ],
   "source": [
    "%%sql\n",
    "\n",
    "SELECT cast('xyz' AS INT) AS returns_null"
   ]
  },
  {
   "cell_type": "code",
   "execution_count": 13,
   "metadata": {},
   "outputs": [
    {
     "data": {
      "text/plain": [
       "++\n",
       "||\n",
       "++\n",
       "++\n",
       "\n"
      ]
     },
     "execution_count": 13,
     "metadata": {},
     "output_type": "execute_result"
    }
   ],
   "source": [
    "%%sql\n",
    "USE itv002461_retail"
   ]
  },
  {
   "cell_type": "code",
   "execution_count": 14,
   "metadata": {},
   "outputs": [
    {
     "data": {
      "text/plain": [
       "++\n",
       "||\n",
       "++\n",
       "++\n",
       "\n"
      ]
     },
     "execution_count": 14,
     "metadata": {},
     "output_type": "execute_result"
    }
   ],
   "source": [
    "%%sql\n",
    "\n",
    "CREATE EXTERNAL TABLE IF NOT EXISTS orders_single_column (\n",
    "    s STRING\n",
    ") LOCATION '/user/itv002461/warehouse/itv002461_retail.db/orders'"
   ]
  },
  {
   "cell_type": "code",
   "execution_count": 15,
   "metadata": {},
   "outputs": [
    {
     "data": {
      "text/plain": [
       "+--------------------+\n",
       "|                   s|\n",
       "+--------------------+\n",
       "|1,2013-07-25 00:0...|\n",
       "|2,2013-07-25 00:0...|\n",
       "|3,2013-07-25 00:0...|\n",
       "|4,2013-07-25 00:0...|\n",
       "|5,2013-07-25 00:0...|\n",
       "|6,2013-07-25 00:0...|\n",
       "|7,2013-07-25 00:0...|\n",
       "|8,2013-07-25 00:0...|\n",
       "|9,2013-07-25 00:0...|\n",
       "|10,2013-07-25 00:...|\n",
       "+--------------------+\n",
       "\n"
      ]
     },
     "execution_count": 15,
     "metadata": {},
     "output_type": "execute_result"
    }
   ],
   "source": [
    "%%sql\n",
    "\n",
    "SELECT * FROM orders_single_column LIMIT 10"
   ]
  },
  {
   "cell_type": "code",
   "execution_count": 16,
   "metadata": {},
   "outputs": [
    {
     "data": {
      "text/plain": [
       "|       8|2013-07-25 00:00:...|             2911|     PRO...\n"
      ]
     },
     "metadata": {},
     "output_type": "display_data",
     "source": "user"
    },
    {
     "data": {
      "text/plain": [
       "+--------+--------------------+-----------------+---------------+\n",
       "|order_id|          order_date|order_customer_id|   order_status|\n",
       "+--------+--------------------+-----------------+---------------+\n",
       "|       1|2013-07-25 00:00:...|            11599|         CLOSED|\n",
       "|       2|2013-07-25 00:00:...|              256|PENDING_PAYMENT|\n",
       "|       3|2013-07-25 00:00:...|            12111|       COMPLETE|\n",
       "|       4|2013-07-25 00:00:...|             8827|         CLOSED|\n",
       "|       5|2013-07-25 00:00:...|            11318|       COMPLETE|\n",
       "|       6|2013-07-25 00:00:...|             7130|       COMPLETE|\n",
       "|       7|2013-07-25 00:00:...|             4530|       COMPLETE|\n",
       "|       8|2013-07-25 00:00:...|             2911|     PROCESSING|\n",
       "|       9|2013-07-25 00:00:...|             5657|PENDING_PAYMENT|\n",
       "|      10|2013-07-25 00:00:...|             5648|PENDING_PAYMENT|\n",
       "+--------+--------------------+-----------------+---------------+\n",
       "\n"
      ]
     },
     "execution_count": 16,
     "metadata": {},
     "output_type": "execute_result"
    }
   ],
   "source": [
    "%%sql\n",
    "\n",
    "SELECT split(s, ',')[0] AS order_id,\n",
    "    split(s, ',')[1] AS order_date,\n",
    "    split(s, ',')[2] AS order_customer_id,\n",
    "    split(s, ',')[3] AS order_status\n",
    "FROM orders_single_column LIMIT 10"
   ]
  },
  {
   "cell_type": "code",
   "execution_count": 17,
   "metadata": {},
   "outputs": [
    {
     "data": {
      "text/plain": [
       "| ...\n"
      ]
     },
     "metadata": {},
     "output_type": "display_data",
     "source": "user"
    },
    {
     "data": {
      "text/plain": [
       "+--------+-------------------+-----------------+---------------+\n",
       "|order_id|         order_date|order_customer_id|   order_status|\n",
       "+--------+-------------------+-----------------+---------------+\n",
       "|       1|2013-07-25 00:00:00|            11599|         CLOSED|\n",
       "|       2|2013-07-25 00:00:00|              256|PENDING_PAYMENT|\n",
       "|       3|2013-07-25 00:00:00|            12111|       COMPLETE|\n",
       "|       4|2013-07-25 00:00:00|             8827|         CLOSED|\n",
       "|       5|2013-07-25 00:00:00|            11318|       COMPLETE|\n",
       "|       6|2013-07-25 00:00:00|             7130|       COMPLETE|\n",
       "|       7|2013-07-25 00:00:00|             4530|       COMPLETE|\n",
       "|       8|2013-07-25 00:00:00|             2911|     PROCESSING|\n",
       "|       9|2013-07-25 00:00:00|             5657|PENDING_PAYMENT|\n",
       "|      10|2013-07-25 00:00:00|             5648|PENDING_PAYMENT|\n",
       "+--------+-------------------+-----------------+---------------+\n",
       "\n"
      ]
     },
     "execution_count": 17,
     "metadata": {},
     "output_type": "execute_result"
    }
   ],
   "source": [
    "%%sql\n",
    "\n",
    "SELECT cast(split(s, ',')[0] AS INT) AS order_id,\n",
    "    cast(split(s, ',')[1] AS TIMESTAMP) AS order_date,\n",
    "    cast(split(s, ',')[2] AS INT) AS order_customer_id,\n",
    "    cast(split(s, ',')[3] AS STRING) AS order_status\n",
    "FROM orders_single_column LIMIT 10"
   ]
  },
  {
   "cell_type": "code",
   "execution_count": null,
   "metadata": {},
   "outputs": [],
   "source": []
  }
 ],
 "metadata": {
  "kernelspec": {
   "display_name": "Spark 2 - Scala",
   "language": "scala",
   "name": "spark_2_scala"
  },
  "language_info": {
   "codemirror_mode": "text/x-scala",
   "file_extension": ".scala",
   "mimetype": "text/x-scala",
   "name": "scala",
   "pygments_lexer": "scala",
   "version": "2.11.12"
  }
 },
 "nbformat": 4,
 "nbformat_minor": 4
}
