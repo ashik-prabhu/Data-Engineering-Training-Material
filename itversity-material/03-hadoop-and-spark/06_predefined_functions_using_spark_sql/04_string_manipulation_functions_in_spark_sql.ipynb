{
 "cells": [
  {
   "cell_type": "markdown",
   "metadata": {},
   "source": [
    "## String Manipulation Functions\n",
    "\n",
    "We use string manipulation functions quite extensively. Here are some of the important functions which we typically use."
   ]
  },
  {
   "cell_type": "markdown",
   "metadata": {},
   "source": [
    "Let us start spark context for this Notebook so that we can execute the code provided. You can sign up for our [10 node state of the art cluster/labs](https://labs.itversity.com/plans) to learn Spark SQL using our unique integrated LMS."
   ]
  },
  {
   "cell_type": "code",
   "execution_count": 1,
   "metadata": {},
   "outputs": [
    {
     "data": {
      "text/plain": [
       "username = itv002461\n"
      ]
     },
     "metadata": {},
     "output_type": "display_data",
     "source": "user"
    },
    {
     "data": {
      "text/plain": [
       "itv002461"
      ]
     },
     "execution_count": 1,
     "metadata": {},
     "output_type": "execute_result"
    }
   ],
   "source": [
    "val username = System.getProperty(\"user.name\")"
   ]
  },
  {
   "cell_type": "code",
   "execution_count": 2,
   "metadata": {},
   "outputs": [
    {
     "data": {
      "text/plain": [
       "username = itv002461\n",
       "spark = org.apache.spark.sql.SparkSession@4e9fed17\n"
      ]
     },
     "metadata": {},
     "output_type": "display_data",
     "source": "user"
    },
    {
     "data": {
      "text/plain": [
       "org.apache.spark.sql.SparkSession@4e9fed17"
      ]
     },
     "execution_count": 2,
     "metadata": {},
     "output_type": "execute_result"
    }
   ],
   "source": [
    "import org.apache.spark.sql.SparkSession\n",
    "\n",
    "val username = System.getProperty(\"user.name\")\n",
    "val spark = SparkSession.\n",
    "    builder.\n",
    "    config(\"spark.ui.port\", \"0\").\n",
    "    config(\"spark.sql.warehouse.dir\", s\"/user/${username}/warehouse\").\n",
    "    enableHiveSupport.\n",
    "    appName(s\"${username} | Spark SQL - Predefined Functions\").\n",
    "    master(\"yarn\").\n",
    "    getOrCreate"
   ]
  },
  {
   "cell_type": "markdown",
   "metadata": {},
   "source": [
    "If you are going to use CLIs, you can use Spark SQL using one of the 3 approaches.\n",
    "\n",
    "**Using Spark SQL**\n",
    "\n",
    "```\n",
    "spark2-sql \\\n",
    "    --master yarn \\\n",
    "    --conf spark.ui.port=0 \\\n",
    "    --conf spark.sql.warehouse.dir=/user/${USER}/warehouse\n",
    "```\n",
    "\n",
    "**Using Scala**\n",
    "\n",
    "```\n",
    "spark2-shell \\\n",
    "    --master yarn \\\n",
    "    --conf spark.ui.port=0 \\\n",
    "    --conf spark.sql.warehouse.dir=/user/${USER}/warehouse\n",
    "```\n",
    "\n",
    "**Using Pyspark**\n",
    "\n",
    "```\n",
    "pyspark2 \\\n",
    "    --master yarn \\\n",
    "    --conf spark.ui.port=0 \\\n",
    "    --conf spark.sql.warehouse.dir=/user/${USER}/warehouse\n",
    "```"
   ]
  },
  {
   "cell_type": "markdown",
   "metadata": {},
   "source": [
    "* Case Conversion - `lower`, `upper`, `initcap`\n",
    "* Getting size of the column value - `length`\n",
    "* Extracting Data - `substr` and `split`\n",
    "* Trimming and Padding functions - `trim`, `rtrim`, `ltrim`, `rpad` and `lpad`\n",
    "* Reversing strings - `reverse`\n",
    "* Concatenating multiple strings `concat` and `concat_ws`"
   ]
  },
  {
   "cell_type": "markdown",
   "metadata": {},
   "source": [
    "### Case Conversion and Length\n",
    "Let us understand how to perform case conversion functions of a string and also length of a string.\n",
    "\n",
    "* Case Conversion Functions - `lower`, `upper`, `initcap`"
   ]
  },
  {
   "cell_type": "code",
   "execution_count": 3,
   "metadata": {},
   "outputs": [
    {
     "data": {
      "text/plain": [
       "Waiting for a Spark session to start..."
      ]
     },
     "metadata": {},
     "output_type": "display_data",
     "source": "user"
    },
    {
     "data": {
      "text/plain": [
       "+------------+------------+--------------+\n",
       "|lower_result|upper_result|initcap_result|\n",
       "+------------+------------+--------------+\n",
       "| hello world| HELLO WORLD|   Hello World|\n",
       "+------------+------------+--------------+\n",
       "\n"
      ]
     },
     "execution_count": 3,
     "metadata": {},
     "output_type": "execute_result"
    }
   ],
   "source": [
    "%%sql\n",
    "\n",
    "SELECT lower('hEllo wOrlD') AS lower_result,\n",
    "    upper('hEllo wOrlD') AS upper_result,\n",
    "    initcap('hEllo wOrlD') AS initcap_result"
   ]
  },
  {
   "cell_type": "markdown",
   "metadata": {},
   "source": [
    "* Getting length - `length`"
   ]
  },
  {
   "cell_type": "code",
   "execution_count": 4,
   "metadata": {},
   "outputs": [
    {
     "data": {
      "text/plain": [
       "+------+\n",
       "|result|\n",
       "+------+\n",
       "|    11|\n",
       "+------+\n",
       "\n"
      ]
     },
     "execution_count": 4,
     "metadata": {},
     "output_type": "execute_result"
    }
   ],
   "source": [
    "%%sql\n",
    "\n",
    "SELECT length('hEllo wOrlD') AS result"
   ]
  },
  {
   "cell_type": "markdown",
   "metadata": {},
   "source": [
    "Let us see how to use these functions on top of the table. We will use orders table which was loaded as part of last section.\n",
    "\n",
    "* order_status for some of the orders is in lower case and we will convert every thing to upper case."
   ]
  },
  {
   "cell_type": "code",
   "execution_count": 5,
   "metadata": {},
   "outputs": [
    {
     "data": {
      "text/plain": [
       "++\n",
       "||\n",
       "++\n",
       "++\n",
       "\n"
      ]
     },
     "execution_count": 5,
     "metadata": {},
     "output_type": "execute_result"
    }
   ],
   "source": [
    "%%sql\n",
    "\n",
    "USE itv002461_retail"
   ]
  },
  {
   "cell_type": "code",
   "execution_count": 6,
   "metadata": {},
   "outputs": [
    {
     "data": {
      "text/plain": [
       "+----------------+-----------------+-----------+\n",
       "|        database|        tableName|isTemporary|\n",
       "+----------------+-----------------+-----------+\n",
       "|itv002461_retail|       categories|      false|\n",
       "|itv002461_retail|        customers|      false|\n",
       "|itv002461_retail|      departments|      false|\n",
       "|itv002461_retail|             dual|      false|\n",
       "|itv002461_retail|      order_items|      false|\n",
       "|itv002461_retail|order_items_stage|      false|\n",
       "|itv002461_retail|           orders|      false|\n",
       "|itv002461_retail|      orders_part|      false|\n",
       "|itv002461_retail|         products|      false|\n",
       "+----------------+-----------------+-----------+\n",
       "\n"
      ]
     },
     "execution_count": 6,
     "metadata": {},
     "output_type": "execute_result"
    }
   ],
   "source": [
    "%%sql \n",
    "\n",
    "SHOW tables"
   ]
  },
  {
   "cell_type": "code",
   "execution_count": 7,
   "metadata": {},
   "outputs": [
    {
     "data": {
      "text/plain": [
       "|   34572|2014-02-23 00:00:...|             8135|        ...\n"
      ]
     },
     "metadata": {},
     "output_type": "display_data",
     "source": "user"
    },
    {
     "data": {
      "text/plain": [
       "+--------+--------------------+-----------------+---------------+\n",
       "|order_id|          order_date|order_customer_id|   order_status|\n",
       "+--------+--------------------+-----------------+---------------+\n",
       "|   34565|2014-02-23 00:00:...|             8702|       COMPLETE|\n",
       "|   34566|2014-02-23 00:00:...|             3066|PENDING_PAYMENT|\n",
       "|   34567|2014-02-23 00:00:...|             7314|SUSPECTED_FRAUD|\n",
       "|   34568|2014-02-23 00:00:...|             1271|       COMPLETE|\n",
       "|   34569|2014-02-23 00:00:...|            11083|       COMPLETE|\n",
       "|   34570|2014-02-23 00:00:...|             3159|         CLOSED|\n",
       "|   34571|2014-02-23 00:00:...|             4551|         CLOSED|\n",
       "|   34572|2014-02-23 00:00:...|             8135|        PENDING|\n",
       "|   34573|2014-02-23 00:00:...|             7497|PENDING_PAYMENT|\n",
       "|   34574|2014-02-23 00:00:...|             1868|        ON_HOLD|\n",
       "+--------+--------------------+-----------------+---------------+\n",
       "\n"
      ]
     },
     "execution_count": 7,
     "metadata": {},
     "output_type": "execute_result"
    }
   ],
   "source": [
    "%%sql\n",
    "\n",
    "SELECT * FROM orders LIMIT 10"
   ]
  },
  {
   "cell_type": "code",
   "execution_count": 8,
   "metadata": {},
   "outputs": [
    {
     "data": {
      "text/plain": [
       "|       6|2013-07-25 00:00:.....\n"
      ]
     },
     "metadata": {},
     "output_type": "display_data",
     "source": "user"
    },
    {
     "data": {
      "text/plain": [
       "+--------+--------------------+-----------------+---------------+-------------------+\n",
       "|order_id|          order_date|order_customer_id|   order_status|order_status_length|\n",
       "+--------+--------------------+-----------------+---------------+-------------------+\n",
       "|       1|2013-07-25 00:00:...|            11599|         closed|                  6|\n",
       "|       2|2013-07-25 00:00:...|              256|pending_payment|                 15|\n",
       "|       3|2013-07-25 00:00:...|            12111|       complete|                  8|\n",
       "|       4|2013-07-25 00:00:...|             8827|         closed|                  6|\n",
       "|       5|2013-07-25 00:00:...|            11318|       complete|                  8|\n",
       "|       6|2013-07-25 00:00:...|             7130|       complete|                  8|\n",
       "|       7|2013-07-25 00:00:...|             4530|       complete|                  8|\n",
       "|       8|2013-07-25 00:00:...|             2911|     processing|                 10|\n",
       "|       9|2013-07-25 00:00:...|             5657|pending_payment|                 15|\n",
       "|      10|2013-07-25 00:00:...|             5648|pending_payment|                 15|\n",
       "+--------+--------------------+-----------------+---------------+-------------------+\n",
       "\n"
      ]
     },
     "execution_count": 8,
     "metadata": {},
     "output_type": "execute_result"
    }
   ],
   "source": [
    "%%sql\n",
    "\n",
    "SELECT order_id, order_date, order_customer_id,\n",
    "    lower(order_status) AS order_status,\n",
    "    length(order_status) AS order_status_length\n",
    "FROM orders LIMIT 10"
   ]
  },
  {
   "cell_type": "markdown",
   "metadata": {},
   "source": [
    "### Extracting Data - substr and split\n",
    "Let us understand how to extract data from strings using `substr`/`substring` and `split`.\n",
    "\n",
    "* We can get syntax and symantecs of the functions using `DESCRIBE FUNCTION`\n",
    "* We can extract first four characters from string using substr or substring."
   ]
  },
  {
   "cell_type": "code",
   "execution_count": 9,
   "metadata": {},
   "outputs": [
    {
     "data": {
      "text/plain": [
       "+--------------------+\n",
       "|       function_desc|\n",
       "+--------------------+\n",
       "|    Function: substr|\n",
       "|Class: org.apache...|\n",
       "|Usage: substr(str...|\n",
       "+--------------------+\n",
       "\n"
      ]
     },
     "execution_count": 9,
     "metadata": {},
     "output_type": "execute_result"
    }
   ],
   "source": [
    "%%sql\n",
    "\n",
    "DESCRIBE FUNCTION substr"
   ]
  },
  {
   "cell_type": "code",
   "execution_count": 10,
   "metadata": {},
   "outputs": [
    {
     "data": {
      "text/plain": [
       "+--------------------+\n",
       "|       function_desc|\n",
       "+--------------------+\n",
       "| Function: substring|\n",
       "|Class: org.apache...|\n",
       "|Usage: substring(...|\n",
       "+--------------------+\n",
       "\n"
      ]
     },
     "execution_count": 10,
     "metadata": {},
     "output_type": "execute_result"
    }
   ],
   "source": [
    "%%sql\n",
    "\n",
    "DESCRIBE FUNCTION substring"
   ]
  },
  {
   "cell_type": "code",
   "execution_count": 11,
   "metadata": {},
   "outputs": [
    {
     "name": "stdout",
     "output_type": "stream",
     "text": [
      "+---------------------------------------------------------------------------------------------------------------------------------------------------------------------------------------+\n",
      "|function_desc                                                                                                                                                                          |\n",
      "+---------------------------------------------------------------------------------------------------------------------------------------------------------------------------------------+\n",
      "|Function: substring                                                                                                                                                                    |\n",
      "|Class: org.apache.spark.sql.catalyst.expressions.Substring                                                                                                                             |\n",
      "|Usage: substring(str, pos[, len]) - Returns the substring of `str` that starts at `pos` and is of length `len`, or the slice of byte array that starts at `pos` and is of length `len`.|\n",
      "+---------------------------------------------------------------------------------------------------------------------------------------------------------------------------------------+\n",
      "\n"
     ]
    }
   ],
   "source": [
    "spark.sql(\"DESCRIBE FUNCTION substring\").show(false)"
   ]
  },
  {
   "cell_type": "code",
   "execution_count": 12,
   "metadata": {},
   "outputs": [
    {
     "data": {
      "text/plain": [
       "+------+\n",
       "|result|\n",
       "+------+\n",
       "|  2013|\n",
       "+------+\n",
       "\n"
      ]
     },
     "execution_count": 12,
     "metadata": {},
     "output_type": "execute_result"
    }
   ],
   "source": [
    "%%sql\n",
    "\n",
    "SELECT substr('2013-07-25 00:00:00.0', 1, 4) AS result"
   ]
  },
  {
   "cell_type": "code",
   "execution_count": 13,
   "metadata": {},
   "outputs": [
    {
     "data": {
      "text/plain": [
       "+------+\n",
       "|result|\n",
       "+------+\n",
       "|    07|\n",
       "+------+\n",
       "\n"
      ]
     },
     "execution_count": 13,
     "metadata": {},
     "output_type": "execute_result"
    }
   ],
   "source": [
    "%%sql\n",
    "\n",
    "SELECT substr('2013-07-25 00:00:00.0', 6, 2) AS result"
   ]
  },
  {
   "cell_type": "code",
   "execution_count": 14,
   "metadata": {},
   "outputs": [
    {
     "data": {
      "text/plain": [
       "+------+\n",
       "|result|\n",
       "+------+\n",
       "|    25|\n",
       "+------+\n",
       "\n"
      ]
     },
     "execution_count": 14,
     "metadata": {},
     "output_type": "execute_result"
    }
   ],
   "source": [
    "%%sql\n",
    "\n",
    "SELECT substr('2013-07-25 00:00:00.0', 9, 2) AS result"
   ]
  },
  {
   "cell_type": "code",
   "execution_count": 15,
   "metadata": {},
   "outputs": [
    {
     "data": {
      "text/plain": [
       "+----------+\n",
       "|    result|\n",
       "+----------+\n",
       "|00:00:00.0|\n",
       "+----------+\n",
       "\n"
      ]
     },
     "execution_count": 15,
     "metadata": {},
     "output_type": "execute_result"
    }
   ],
   "source": [
    "%%sql\n",
    "\n",
    "SELECT substr('2013-07-25 00:00:00.0', 12) AS result"
   ]
  },
  {
   "cell_type": "markdown",
   "metadata": {},
   "source": [
    "* Let us see how we can extract date part from order_date of orders."
   ]
  },
  {
   "cell_type": "code",
   "execution_count": 16,
   "metadata": {},
   "outputs": [
    {
     "data": {
      "text/plain": [
       "|   34572|2014-02-23 00:00:...|             8135|        ...\n"
      ]
     },
     "metadata": {},
     "output_type": "display_data",
     "source": "user"
    },
    {
     "data": {
      "text/plain": [
       "+--------+--------------------+-----------------+---------------+\n",
       "|order_id|          order_date|order_customer_id|   order_status|\n",
       "+--------+--------------------+-----------------+---------------+\n",
       "|   34565|2014-02-23 00:00:...|             8702|       COMPLETE|\n",
       "|   34566|2014-02-23 00:00:...|             3066|PENDING_PAYMENT|\n",
       "|   34567|2014-02-23 00:00:...|             7314|SUSPECTED_FRAUD|\n",
       "|   34568|2014-02-23 00:00:...|             1271|       COMPLETE|\n",
       "|   34569|2014-02-23 00:00:...|            11083|       COMPLETE|\n",
       "|   34570|2014-02-23 00:00:...|             3159|         CLOSED|\n",
       "|   34571|2014-02-23 00:00:...|             4551|         CLOSED|\n",
       "|   34572|2014-02-23 00:00:...|             8135|        PENDING|\n",
       "|   34573|2014-02-23 00:00:...|             7497|PENDING_PAYMENT|\n",
       "|   34574|2014-02-23 00:00:...|             1868|        ON_HOLD|\n",
       "+--------+--------------------+-----------------+---------------+\n",
       "\n"
      ]
     },
     "execution_count": 16,
     "metadata": {},
     "output_type": "execute_result"
    }
   ],
   "source": [
    "%%sql\n",
    "\n",
    "SELECT * FROM orders LIMIT 10"
   ]
  },
  {
   "cell_type": "code",
   "execution_count": 17,
   "metadata": {},
   "outputs": [
    {
     "data": {
      "text/plain": [
       "|      10|2013-07-25|             5648|PENDIN...\n"
      ]
     },
     "metadata": {},
     "output_type": "display_data",
     "source": "user"
    },
    {
     "data": {
      "text/plain": [
       "+--------+----------+-----------------+---------------+\n",
       "|order_id|order_date|order_customer_id|   order_status|\n",
       "+--------+----------+-----------------+---------------+\n",
       "|       1|2013-07-25|            11599|         CLOSED|\n",
       "|       2|2013-07-25|              256|PENDING_PAYMENT|\n",
       "|       3|2013-07-25|            12111|       COMPLETE|\n",
       "|       4|2013-07-25|             8827|         CLOSED|\n",
       "|       5|2013-07-25|            11318|       COMPLETE|\n",
       "|       6|2013-07-25|             7130|       COMPLETE|\n",
       "|       7|2013-07-25|             4530|       COMPLETE|\n",
       "|       8|2013-07-25|             2911|     PROCESSING|\n",
       "|       9|2013-07-25|             5657|PENDING_PAYMENT|\n",
       "|      10|2013-07-25|             5648|PENDING_PAYMENT|\n",
       "+--------+----------+-----------------+---------------+\n",
       "only showing top 10 rows\n",
       "\n"
      ]
     },
     "execution_count": 17,
     "metadata": {},
     "output_type": "execute_result"
    }
   ],
   "source": [
    "%%sql\n",
    "\n",
    "SELECT order_id,\n",
    "  substr(order_date, 1, 10) AS order_date,\n",
    "  order_customer_id,\n",
    "  order_status\n",
    "FROM orders"
   ]
  },
  {
   "cell_type": "markdown",
   "metadata": {},
   "source": [
    "Let us understand how to extract the information from the string where there is a delimiter.\n",
    "* `split` converts delimited string into array."
   ]
  },
  {
   "cell_type": "code",
   "execution_count": 18,
   "metadata": {},
   "outputs": [
    {
     "data": {
      "text/plain": [
       "+--------------+\n",
       "|        result|\n",
       "+--------------+\n",
       "|[2013, 07, 25]|\n",
       "+--------------+\n",
       "\n"
      ]
     },
     "execution_count": 18,
     "metadata": {},
     "output_type": "execute_result"
    }
   ],
   "source": [
    "%%sql\n",
    "\n",
    "SELECT split('2013-07-25', '-') AS result"
   ]
  },
  {
   "cell_type": "code",
   "execution_count": 19,
   "metadata": {},
   "outputs": [
    {
     "data": {
      "text/plain": [
       "+------+\n",
       "|result|\n",
       "+------+\n",
       "|    07|\n",
       "+------+\n",
       "\n"
      ]
     },
     "execution_count": 19,
     "metadata": {},
     "output_type": "execute_result"
    }
   ],
   "source": [
    "%%sql\n",
    "\n",
    "SELECT split('2013-07-25', '-')[1] AS result"
   ]
  },
  {
   "cell_type": "markdown",
   "metadata": {},
   "source": [
    "* We can use explode to convert an array into records."
   ]
  },
  {
   "cell_type": "code",
   "execution_count": 20,
   "metadata": {},
   "outputs": [
    {
     "data": {
      "text/plain": [
       "+------+\n",
       "|result|\n",
       "+------+\n",
       "|  2013|\n",
       "|    07|\n",
       "|    25|\n",
       "+------+\n",
       "\n"
      ]
     },
     "execution_count": 20,
     "metadata": {},
     "output_type": "execute_result"
    }
   ],
   "source": [
    "%%sql\n",
    "\n",
    "SELECT explode(split('2013-07-25', '-')) AS result"
   ]
  },
  {
   "cell_type": "markdown",
   "metadata": {},
   "source": [
    "### Trimming and Padding Functions\n",
    "\n",
    "Let us understand how to trim or remove leading and/or trailing spaces in a string.\n",
    "\n",
    "* `ltrim` is used to remove the spaces on the left side of the string.\n",
    "* `rtrim` is used to remove the spaces on the right side of the string.\n",
    "* `trim` is used to remove the spaces on both sides of the string."
   ]
  },
  {
   "cell_type": "code",
   "execution_count": 21,
   "metadata": {},
   "outputs": [
    {
     "data": {
      "text/plain": [
       "+-----------+\n",
       "|     result|\n",
       "+-----------+\n",
       "|Hello World|\n",
       "+-----------+\n",
       "\n"
      ]
     },
     "execution_count": 21,
     "metadata": {},
     "output_type": "execute_result"
    }
   ],
   "source": [
    "%%sql\n",
    "\n",
    "SELECT ltrim('     Hello World') AS result"
   ]
  },
  {
   "cell_type": "code",
   "execution_count": 22,
   "metadata": {},
   "outputs": [
    {
     "data": {
      "text/plain": [
       "+----------------+\n",
       "|          result|\n",
       "+----------------+\n",
       "|     Hello World|\n",
       "+----------------+\n",
       "\n"
      ]
     },
     "execution_count": 22,
     "metadata": {},
     "output_type": "execute_result"
    }
   ],
   "source": [
    "%%sql\n",
    "\n",
    "SELECT rtrim('     Hello World       ') AS result"
   ]
  },
  {
   "cell_type": "code",
   "execution_count": 23,
   "metadata": {},
   "outputs": [
    {
     "data": {
      "text/plain": [
       "+------+\n",
       "|result|\n",
       "+------+\n",
       "|    11|\n",
       "+------+\n",
       "\n"
      ]
     },
     "execution_count": 23,
     "metadata": {},
     "output_type": "execute_result"
    }
   ],
   "source": [
    "%%sql\n",
    "\n",
    "SELECT length(trim('     Hello World       ')) AS result"
   ]
  },
  {
   "cell_type": "markdown",
   "metadata": {},
   "source": [
    "Let us understand how to use padding to pad characters to a string.\n",
    "\n",
    "* Let us assume that there are 3 fields - year, month and date which are of type integer.\n",
    "* If we have to concatenate all the 3 fields and create a date, we might have to pad month and date with 0.\n",
    "* `lpad` is used more often than `rpad` especially when we try to build the date from separate columns."
   ]
  },
  {
   "cell_type": "code",
   "execution_count": 24,
   "metadata": {},
   "outputs": [
    {
     "data": {
      "text/plain": [
       "+----+-----+------+\n",
       "|year|month|myDate|\n",
       "+----+-----+------+\n",
       "|2013|    7|    25|\n",
       "+----+-----+------+\n",
       "\n"
      ]
     },
     "execution_count": 24,
     "metadata": {},
     "output_type": "execute_result"
    }
   ],
   "source": [
    "%%sql\n",
    "\n",
    "SELECT 2013 AS year, 7 AS month, 25 AS myDate"
   ]
  },
  {
   "cell_type": "code",
   "execution_count": 25,
   "metadata": {},
   "outputs": [
    {
     "data": {
      "text/plain": [
       "+------+\n",
       "|result|\n",
       "+------+\n",
       "|    07|\n",
       "+------+\n",
       "\n"
      ]
     },
     "execution_count": 25,
     "metadata": {},
     "output_type": "execute_result"
    }
   ],
   "source": [
    "%%sql\n",
    "\n",
    "SELECT lpad(7, 2, 0) AS result"
   ]
  },
  {
   "cell_type": "code",
   "execution_count": 26,
   "metadata": {},
   "outputs": [
    {
     "data": {
      "text/plain": [
       "+------+\n",
       "|result|\n",
       "+------+\n",
       "|    10|\n",
       "+------+\n",
       "\n"
      ]
     },
     "execution_count": 26,
     "metadata": {},
     "output_type": "execute_result"
    }
   ],
   "source": [
    "%%sql\n",
    "\n",
    "SELECT lpad(10, 2, 0) AS result"
   ]
  },
  {
   "cell_type": "code",
   "execution_count": 27,
   "metadata": {},
   "outputs": [
    {
     "data": {
      "text/plain": [
       "+------+\n",
       "|result|\n",
       "+------+\n",
       "|    10|\n",
       "+------+\n",
       "\n"
      ]
     },
     "execution_count": 27,
     "metadata": {},
     "output_type": "execute_result"
    }
   ],
   "source": [
    "%%sql\n",
    "\n",
    "SELECT lpad(100, 2, 0) AS result"
   ]
  },
  {
   "cell_type": "markdown",
   "metadata": {},
   "source": [
    "### Reverse and Concatenating multiple strings\n",
    "\n",
    "Let us understand how to reverse a string as well as concatenate multiple strings.\n",
    "* We can use `reverse` to reverse a string.\n",
    "* We can concatenate multiple strings using `concat` and `concat_ws`.\n",
    "* `concat_ws` is typically used if we want to have the same string between all the strings that are being concatenated."
   ]
  },
  {
   "cell_type": "code",
   "execution_count": 28,
   "metadata": {},
   "outputs": [
    {
     "data": {
      "text/plain": [
       "+-----------+\n",
       "|     result|\n",
       "+-----------+\n",
       "|dlroW olleH|\n",
       "+-----------+\n",
       "\n"
      ]
     },
     "execution_count": 28,
     "metadata": {},
     "output_type": "execute_result"
    }
   ],
   "source": [
    "%%sql\n",
    "\n",
    "SELECT reverse('Hello World') AS result"
   ]
  },
  {
   "cell_type": "code",
   "execution_count": 29,
   "metadata": {},
   "outputs": [
    {
     "data": {
      "text/plain": [
       "+-----------+\n",
       "|     result|\n",
       "+-----------+\n",
       "|Hello World|\n",
       "+-----------+\n",
       "\n"
      ]
     },
     "execution_count": 29,
     "metadata": {},
     "output_type": "execute_result"
    }
   ],
   "source": [
    "%%sql\n",
    "\n",
    "SELECT concat('Hello ', 'World') AS result"
   ]
  },
  {
   "cell_type": "code",
   "execution_count": 30,
   "metadata": {},
   "outputs": [
    {
     "data": {
      "text/plain": [
       "+--------------------+\n",
       "|              result|\n",
       "+--------------------+\n",
       "|Order Status is C...|\n",
       "|Order Status is P...|\n",
       "|Order Status is C...|\n",
       "|Order Status is C...|\n",
       "|Order Status is C...|\n",
       "|Order Status is C...|\n",
       "|Order Status is C...|\n",
       "|Order Status is P...|\n",
       "|Order Status is P...|\n",
       "|Order Status is P...|\n",
       "+--------------------+\n",
       "\n"
      ]
     },
     "execution_count": 30,
     "metadata": {},
     "output_type": "execute_result"
    }
   ],
   "source": [
    "%%sql\n",
    "\n",
    "SELECT concat('Order Status is ', order_status) AS result\n",
    "FROM orders LIMIT 10"
   ]
  },
  {
   "cell_type": "code",
   "execution_count": 31,
   "metadata": {},
   "outputs": [
    {
     "name": "stdout",
     "output_type": "stream",
     "text": [
      "+-------------------------------+\n",
      "|result                         |\n",
      "+-------------------------------+\n",
      "|Order Status is CLOSED         |\n",
      "|Order Status is PENDING_PAYMENT|\n",
      "|Order Status is COMPLETE       |\n",
      "|Order Status is CLOSED         |\n",
      "|Order Status is COMPLETE       |\n",
      "|Order Status is COMPLETE       |\n",
      "|Order Status is COMPLETE       |\n",
      "|Order Status is PROCESSING     |\n",
      "|Order Status is PENDING_PAYMENT|\n",
      "|Order Status is PENDING_PAYMENT|\n",
      "+-------------------------------+\n",
      "\n"
     ]
    }
   ],
   "source": [
    "spark.sql(\"\"\"\n",
    "    SELECT concat('Order Status is ', order_status) AS result\n",
    "    FROM orders_part LIMIT 10\n",
    "\"\"\").show(false)"
   ]
  },
  {
   "cell_type": "code",
   "execution_count": 32,
   "metadata": {},
   "outputs": [
    {
     "data": {
      "text/plain": [
       "+----+-----+------+\n",
       "|year|month|myDate|\n",
       "+----+-----+------+\n",
       "|2013|    7|    25|\n",
       "+----+-----+------+\n",
       "\n"
      ]
     },
     "execution_count": 32,
     "metadata": {},
     "output_type": "execute_result"
    }
   ],
   "source": [
    "%%sql\n",
    "\n",
    "SELECT * FROM (SELECT 2013 AS year, 7 AS month, 25 AS myDate) q"
   ]
  },
  {
   "cell_type": "code",
   "execution_count": 33,
   "metadata": {},
   "outputs": [
    {
     "data": {
      "text/plain": [
       "+----------+\n",
       "|order_date|\n",
       "+----------+\n",
       "|2013-07-25|\n",
       "+----------+\n",
       "\n"
      ]
     },
     "execution_count": 33,
     "metadata": {},
     "output_type": "execute_result"
    }
   ],
   "source": [
    "%%sql\n",
    "\n",
    "SELECT concat(year, '-', lpad(month, 2, 0), '-',\n",
    "              lpad(myDate, 2, 0)) AS order_date\n",
    "FROM\n",
    "    (SELECT 2013 AS year, 7 AS month, 25 AS myDate) q"
   ]
  },
  {
   "cell_type": "code",
   "execution_count": 34,
   "metadata": {},
   "outputs": [
    {
     "data": {
      "text/plain": [
       "+----------+\n",
       "|order_date|\n",
       "+----------+\n",
       "|2013-07-25|\n",
       "+----------+\n",
       "\n"
      ]
     },
     "execution_count": 34,
     "metadata": {},
     "output_type": "execute_result"
    }
   ],
   "source": [
    "%%sql\n",
    "\n",
    "SELECT concat_ws('-', year, lpad(month, 2, 0),\n",
    "              lpad(myDate, 2, 0)) AS order_date\n",
    "FROM\n",
    "    (SELECT 2013 AS year, 7 AS month, 25 AS myDate) q"
   ]
  },
  {
   "cell_type": "code",
   "execution_count": null,
   "metadata": {},
   "outputs": [],
   "source": []
  }
 ],
 "metadata": {
  "kernelspec": {
   "display_name": "Spark 2 - Scala",
   "language": "scala",
   "name": "spark_2_scala"
  },
  "language_info": {
   "codemirror_mode": "text/x-scala",
   "file_extension": ".scala",
   "mimetype": "text/x-scala",
   "name": "scala",
   "pygments_lexer": "scala",
   "version": "2.11.12"
  }
 },
 "nbformat": 4,
 "nbformat_minor": 4
}
